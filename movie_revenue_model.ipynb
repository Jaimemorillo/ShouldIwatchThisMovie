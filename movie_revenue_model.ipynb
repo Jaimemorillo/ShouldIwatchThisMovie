{
  "nbformat": 4,
  "nbformat_minor": 0,
  "metadata": {
    "colab": {
      "name": "movie_revenue_model.ipynb",
      "version": "0.3.2",
      "provenance": [],
      "collapsed_sections": [],
      "include_colab_link": true
    },
    "kernelspec": {
      "name": "python3",
      "display_name": "Python 3"
    },
    "accelerator": "GPU"
  },
  "cells": [
    {
      "cell_type": "markdown",
      "metadata": {
        "id": "view-in-github",
        "colab_type": "text"
      },
      "source": [
        "<a href=\"https://colab.research.google.com/github/Jaimemorillo/ShouldIwatchThisMovie/blob/master/movie_revenue_model.ipynb\" target=\"_parent\"><img src=\"https://colab.research.google.com/assets/colab-badge.svg\" alt=\"Open In Colab\"/></a>"
      ]
    },
    {
      "cell_type": "code",
      "metadata": {
        "id": "js4nLzp_On8B",
        "colab_type": "code",
        "colab": {}
      },
      "source": [
        "# Libraries and config\n",
        "\n",
        "import pandas as pd\n",
        "import numpy as np\n",
        "import tensorflow as tf\n",
        "from tensorflow import keras\n",
        "import seaborn as sns\n",
        "import matplotlib.pyplot as plt\n",
        "import json\n",
        "import datetime\n",
        "\n",
        "sns.set_style(\"darkgrid\")\n",
        "sns.set_context(\"notebook\")"
      ],
      "execution_count": 0,
      "outputs": []
    },
    {
      "cell_type": "code",
      "metadata": {
        "id": "o9pRqxSxdkQC",
        "colab_type": "code",
        "outputId": "5f05421f-d8f6-46a0-c7d6-d50234ccd03b",
        "colab": {
          "base_uri": "https://localhost:8080/",
          "height": 34
        }
      },
      "source": [
        "import gc\n",
        "gc.collect()"
      ],
      "execution_count": 2,
      "outputs": [
        {
          "output_type": "execute_result",
          "data": {
            "text/plain": [
              "0"
            ]
          },
          "metadata": {
            "tags": []
          },
          "execution_count": 2
        }
      ]
    },
    {
      "cell_type": "code",
      "metadata": {
        "id": "onu62ASlpa7d",
        "colab_type": "code",
        "outputId": "1b8a6cc0-fe84-49e0-c4c6-87a00ddc403f",
        "colab": {
          "base_uri": "https://localhost:8080/",
          "height": 312
        }
      },
      "source": [
        "!nvidia-smi"
      ],
      "execution_count": 3,
      "outputs": [
        {
          "output_type": "stream",
          "text": [
            "Sun Jun  9 09:32:58 2019       \n",
            "+-----------------------------------------------------------------------------+\n",
            "| NVIDIA-SMI 418.67       Driver Version: 410.79       CUDA Version: 10.0     |\n",
            "|-------------------------------+----------------------+----------------------+\n",
            "| GPU  Name        Persistence-M| Bus-Id        Disp.A | Volatile Uncorr. ECC |\n",
            "| Fan  Temp  Perf  Pwr:Usage/Cap|         Memory-Usage | GPU-Util  Compute M. |\n",
            "|===============================+======================+======================|\n",
            "|   0  Tesla K80           Off  | 00000000:00:04.0 Off |                    0 |\n",
            "| N/A   30C    P8    27W / 149W |      0MiB / 11441MiB |      0%      Default |\n",
            "+-------------------------------+----------------------+----------------------+\n",
            "                                                                               \n",
            "+-----------------------------------------------------------------------------+\n",
            "| Processes:                                                       GPU Memory |\n",
            "|  GPU       PID   Type   Process name                             Usage      |\n",
            "|=============================================================================|\n",
            "|  No running processes found                                                 |\n",
            "+-----------------------------------------------------------------------------+\n"
          ],
          "name": "stdout"
        }
      ]
    },
    {
      "cell_type": "code",
      "metadata": {
        "id": "RGf2ZTK-R0WQ",
        "colab_type": "code",
        "outputId": "89336fe0-c09c-41ce-d078-8b4bbb1f0bbc",
        "colab": {
          "base_uri": "https://localhost:8080/",
          "height": 124
        }
      },
      "source": [
        "from google.colab import drive\n",
        "drive.mount('/content/gdrive')"
      ],
      "execution_count": 4,
      "outputs": [
        {
          "output_type": "stream",
          "text": [
            "Go to this URL in a browser: https://accounts.google.com/o/oauth2/auth?client_id=947318989803-6bn6qk8qdgf4n4g3pfee6491hc0brc4i.apps.googleusercontent.com&redirect_uri=urn%3Aietf%3Awg%3Aoauth%3A2.0%3Aoob&scope=email%20https%3A%2F%2Fwww.googleapis.com%2Fauth%2Fdocs.test%20https%3A%2F%2Fwww.googleapis.com%2Fauth%2Fdrive%20https%3A%2F%2Fwww.googleapis.com%2Fauth%2Fdrive.photos.readonly%20https%3A%2F%2Fwww.googleapis.com%2Fauth%2Fpeopleapi.readonly&response_type=code\n",
            "\n",
            "Enter your authorization code:\n",
            "··········\n",
            "Mounted at /content/gdrive\n"
          ],
          "name": "stdout"
        }
      ]
    },
    {
      "cell_type": "code",
      "metadata": {
        "id": "WkcM8u-MQ-h4",
        "colab_type": "code",
        "colab": {}
      },
      "source": [
        "movies = pd.read_csv(\"gdrive/My Drive/TFG/tmdb_spanish_overview.csv\",sep='#',lineterminator='\\n')\n",
        "credits = pd.read_csv(\"gdrive/My Drive/TFG/tmdb_5000_credits.csv\")"
      ],
      "execution_count": 0,
      "outputs": []
    },
    {
      "cell_type": "code",
      "metadata": {
        "id": "Zxbdrwd_STfa",
        "colab_type": "code",
        "colab": {}
      },
      "source": [
        "# Merge with credits\n",
        "data = movies.merge(credits, how='left', left_on=['id','title'], right_on=['movie_id','title'])\n",
        "data.drop(['movie_id','Unnamed: 0'],axis=1, inplace= True)"
      ],
      "execution_count": 0,
      "outputs": []
    },
    {
      "cell_type": "code",
      "metadata": {
        "id": "v-ynSuJVSz3Y",
        "colab_type": "code",
        "outputId": "512afd38-da46-4952-8a86-be70a3ca60df",
        "colab": {
          "base_uri": "https://localhost:8080/",
          "height": 121
        }
      },
      "source": [
        "data.columns"
      ],
      "execution_count": 7,
      "outputs": [
        {
          "output_type": "execute_result",
          "data": {
            "text/plain": [
              "Index(['budget', 'genres', 'homepage', 'id', 'keywords', 'original_language',\n",
              "       'original_title', 'overview', 'popularity', 'production_companies',\n",
              "       'production_countries', 'release_date', 'revenue', 'runtime',\n",
              "       'spoken_languages', 'status', 'tagline', 'title', 'vote_average',\n",
              "       'vote_count', 'cast', 'crew'],\n",
              "      dtype='object')"
            ]
          },
          "metadata": {
            "tags": []
          },
          "execution_count": 7
        }
      ]
    },
    {
      "cell_type": "code",
      "metadata": {
        "id": "DEC2XsNIAU3U",
        "colab_type": "code",
        "outputId": "66c22170-1636-4943-d30e-300dfaf81e1f",
        "colab": {
          "base_uri": "https://localhost:8080/",
          "height": 300
        }
      },
      "source": [
        "data.describe().astype(int)"
      ],
      "execution_count": 8,
      "outputs": [
        {
          "output_type": "execute_result",
          "data": {
            "text/html": [
              "<div>\n",
              "<style scoped>\n",
              "    .dataframe tbody tr th:only-of-type {\n",
              "        vertical-align: middle;\n",
              "    }\n",
              "\n",
              "    .dataframe tbody tr th {\n",
              "        vertical-align: top;\n",
              "    }\n",
              "\n",
              "    .dataframe thead th {\n",
              "        text-align: right;\n",
              "    }\n",
              "</style>\n",
              "<table border=\"1\" class=\"dataframe\">\n",
              "  <thead>\n",
              "    <tr style=\"text-align: right;\">\n",
              "      <th></th>\n",
              "      <th>budget</th>\n",
              "      <th>id</th>\n",
              "      <th>popularity</th>\n",
              "      <th>revenue</th>\n",
              "      <th>runtime</th>\n",
              "      <th>vote_average</th>\n",
              "      <th>vote_count</th>\n",
              "    </tr>\n",
              "  </thead>\n",
              "  <tbody>\n",
              "    <tr>\n",
              "      <th>count</th>\n",
              "      <td>4803</td>\n",
              "      <td>4803</td>\n",
              "      <td>4803</td>\n",
              "      <td>4803</td>\n",
              "      <td>4801</td>\n",
              "      <td>4803</td>\n",
              "      <td>4803</td>\n",
              "    </tr>\n",
              "    <tr>\n",
              "      <th>mean</th>\n",
              "      <td>29045039</td>\n",
              "      <td>57165</td>\n",
              "      <td>21</td>\n",
              "      <td>82260638</td>\n",
              "      <td>106</td>\n",
              "      <td>6</td>\n",
              "      <td>690</td>\n",
              "    </tr>\n",
              "    <tr>\n",
              "      <th>std</th>\n",
              "      <td>40722391</td>\n",
              "      <td>88694</td>\n",
              "      <td>31</td>\n",
              "      <td>162857100</td>\n",
              "      <td>22</td>\n",
              "      <td>1</td>\n",
              "      <td>1234</td>\n",
              "    </tr>\n",
              "    <tr>\n",
              "      <th>min</th>\n",
              "      <td>0</td>\n",
              "      <td>5</td>\n",
              "      <td>0</td>\n",
              "      <td>0</td>\n",
              "      <td>0</td>\n",
              "      <td>0</td>\n",
              "      <td>0</td>\n",
              "    </tr>\n",
              "    <tr>\n",
              "      <th>25%</th>\n",
              "      <td>790000</td>\n",
              "      <td>9014</td>\n",
              "      <td>4</td>\n",
              "      <td>0</td>\n",
              "      <td>94</td>\n",
              "      <td>5</td>\n",
              "      <td>54</td>\n",
              "    </tr>\n",
              "    <tr>\n",
              "      <th>50%</th>\n",
              "      <td>15000000</td>\n",
              "      <td>14629</td>\n",
              "      <td>12</td>\n",
              "      <td>19170001</td>\n",
              "      <td>103</td>\n",
              "      <td>6</td>\n",
              "      <td>235</td>\n",
              "    </tr>\n",
              "    <tr>\n",
              "      <th>75%</th>\n",
              "      <td>40000000</td>\n",
              "      <td>58610</td>\n",
              "      <td>28</td>\n",
              "      <td>92917187</td>\n",
              "      <td>118</td>\n",
              "      <td>6</td>\n",
              "      <td>737</td>\n",
              "    </tr>\n",
              "    <tr>\n",
              "      <th>max</th>\n",
              "      <td>380000000</td>\n",
              "      <td>459488</td>\n",
              "      <td>875</td>\n",
              "      <td>2787965087</td>\n",
              "      <td>338</td>\n",
              "      <td>10</td>\n",
              "      <td>13752</td>\n",
              "    </tr>\n",
              "  </tbody>\n",
              "</table>\n",
              "</div>"
            ],
            "text/plain": [
              "          budget      id  popularity  ...  runtime  vote_average  vote_count\n",
              "count       4803    4803        4803  ...     4801          4803        4803\n",
              "mean    29045039   57165          21  ...      106             6         690\n",
              "std     40722391   88694          31  ...       22             1        1234\n",
              "min            0       5           0  ...        0             0           0\n",
              "25%       790000    9014           4  ...       94             5          54\n",
              "50%     15000000   14629          12  ...      103             6         235\n",
              "75%     40000000   58610          28  ...      118             6         737\n",
              "max    380000000  459488         875  ...      338            10       13752\n",
              "\n",
              "[8 rows x 7 columns]"
            ]
          },
          "metadata": {
            "tags": []
          },
          "execution_count": 8
        }
      ]
    },
    {
      "cell_type": "code",
      "metadata": {
        "id": "NjZhPUXRtIpq",
        "colab_type": "code",
        "outputId": "876ae23c-a0bf-4cee-a7d1-c2ee1831274d",
        "colab": {
          "base_uri": "https://localhost:8080/",
          "height": 643
        }
      },
      "source": [
        "data.head(5)"
      ],
      "execution_count": 9,
      "outputs": [
        {
          "output_type": "execute_result",
          "data": {
            "text/html": [
              "<div>\n",
              "<style scoped>\n",
              "    .dataframe tbody tr th:only-of-type {\n",
              "        vertical-align: middle;\n",
              "    }\n",
              "\n",
              "    .dataframe tbody tr th {\n",
              "        vertical-align: top;\n",
              "    }\n",
              "\n",
              "    .dataframe thead th {\n",
              "        text-align: right;\n",
              "    }\n",
              "</style>\n",
              "<table border=\"1\" class=\"dataframe\">\n",
              "  <thead>\n",
              "    <tr style=\"text-align: right;\">\n",
              "      <th></th>\n",
              "      <th>budget</th>\n",
              "      <th>genres</th>\n",
              "      <th>homepage</th>\n",
              "      <th>id</th>\n",
              "      <th>keywords</th>\n",
              "      <th>original_language</th>\n",
              "      <th>original_title</th>\n",
              "      <th>overview</th>\n",
              "      <th>popularity</th>\n",
              "      <th>production_companies</th>\n",
              "      <th>production_countries</th>\n",
              "      <th>release_date</th>\n",
              "      <th>revenue</th>\n",
              "      <th>runtime</th>\n",
              "      <th>spoken_languages</th>\n",
              "      <th>status</th>\n",
              "      <th>tagline</th>\n",
              "      <th>title</th>\n",
              "      <th>vote_average</th>\n",
              "      <th>vote_count</th>\n",
              "      <th>cast</th>\n",
              "      <th>crew</th>\n",
              "    </tr>\n",
              "  </thead>\n",
              "  <tbody>\n",
              "    <tr>\n",
              "      <th>0</th>\n",
              "      <td>237000000</td>\n",
              "      <td>[{\"id\": 28, \"name\": \"Action\"}, {\"id\": 12, \"nam...</td>\n",
              "      <td>http://www.avatarmovie.com/</td>\n",
              "      <td>19995</td>\n",
              "      <td>[{\"id\": 1463, \"name\": \"culture clash\"}, {\"id\":...</td>\n",
              "      <td>en</td>\n",
              "      <td>Avatar</td>\n",
              "      <td>Año 2154. Jake Sully, un ex-marine condenado a...</td>\n",
              "      <td>150.437577</td>\n",
              "      <td>[{\"name\": \"Ingenious Film Partners\", \"id\": 289...</td>\n",
              "      <td>[{\"iso_3166_1\": \"US\", \"name\": \"United States o...</td>\n",
              "      <td>2009-12-10</td>\n",
              "      <td>2787965087</td>\n",
              "      <td>162.0</td>\n",
              "      <td>[{\"iso_639_1\": \"en\", \"name\": \"English\"}, {\"iso...</td>\n",
              "      <td>Released</td>\n",
              "      <td>Enter the World of Pandora.</td>\n",
              "      <td>Avatar</td>\n",
              "      <td>7.2</td>\n",
              "      <td>11800</td>\n",
              "      <td>[{\"cast_id\": 242, \"character\": \"Jake Sully\", \"...</td>\n",
              "      <td>[{\"credit_id\": \"52fe48009251416c750aca23\", \"de...</td>\n",
              "    </tr>\n",
              "    <tr>\n",
              "      <th>1</th>\n",
              "      <td>300000000</td>\n",
              "      <td>[{\"id\": 12, \"name\": \"Adventure\"}, {\"id\": 14, \"...</td>\n",
              "      <td>http://disney.go.com/disneypictures/pirates/</td>\n",
              "      <td>285</td>\n",
              "      <td>[{\"id\": 270, \"name\": \"ocean\"}, {\"id\": 726, \"na...</td>\n",
              "      <td>en</td>\n",
              "      <td>Pirates of the Caribbean: At World's End</td>\n",
              "      <td>Siguiendo la estela de lo sucedido en “Piratas...</td>\n",
              "      <td>139.082615</td>\n",
              "      <td>[{\"name\": \"Walt Disney Pictures\", \"id\": 2}, {\"...</td>\n",
              "      <td>[{\"iso_3166_1\": \"US\", \"name\": \"United States o...</td>\n",
              "      <td>2007-05-19</td>\n",
              "      <td>961000000</td>\n",
              "      <td>169.0</td>\n",
              "      <td>[{\"iso_639_1\": \"en\", \"name\": \"English\"}]</td>\n",
              "      <td>Released</td>\n",
              "      <td>At the end of the world, the adventure begins.</td>\n",
              "      <td>Pirates of the Caribbean: At World's End</td>\n",
              "      <td>6.9</td>\n",
              "      <td>4500</td>\n",
              "      <td>[{\"cast_id\": 4, \"character\": \"Captain Jack Spa...</td>\n",
              "      <td>[{\"credit_id\": \"52fe4232c3a36847f800b579\", \"de...</td>\n",
              "    </tr>\n",
              "    <tr>\n",
              "      <th>2</th>\n",
              "      <td>245000000</td>\n",
              "      <td>[{\"id\": 28, \"name\": \"Action\"}, {\"id\": 12, \"nam...</td>\n",
              "      <td>http://www.sonypictures.com/movies/spectre/</td>\n",
              "      <td>206647</td>\n",
              "      <td>[{\"id\": 470, \"name\": \"spy\"}, {\"id\": 818, \"name...</td>\n",
              "      <td>en</td>\n",
              "      <td>Spectre</td>\n",
              "      <td>Un críptico mensaje del pasado envía a James B...</td>\n",
              "      <td>107.376788</td>\n",
              "      <td>[{\"name\": \"Columbia Pictures\", \"id\": 5}, {\"nam...</td>\n",
              "      <td>[{\"iso_3166_1\": \"GB\", \"name\": \"United Kingdom\"...</td>\n",
              "      <td>2015-10-26</td>\n",
              "      <td>880674609</td>\n",
              "      <td>148.0</td>\n",
              "      <td>[{\"iso_639_1\": \"fr\", \"name\": \"Fran\\u00e7ais\"},...</td>\n",
              "      <td>Released</td>\n",
              "      <td>A Plan No One Escapes</td>\n",
              "      <td>Spectre</td>\n",
              "      <td>6.3</td>\n",
              "      <td>4466</td>\n",
              "      <td>[{\"cast_id\": 1, \"character\": \"James Bond\", \"cr...</td>\n",
              "      <td>[{\"credit_id\": \"54805967c3a36829b5002c41\", \"de...</td>\n",
              "    </tr>\n",
              "    <tr>\n",
              "      <th>3</th>\n",
              "      <td>250000000</td>\n",
              "      <td>[{\"id\": 28, \"name\": \"Action\"}, {\"id\": 80, \"nam...</td>\n",
              "      <td>http://www.thedarkknightrises.com/</td>\n",
              "      <td>49026</td>\n",
              "      <td>[{\"id\": 849, \"name\": \"dc comics\"}, {\"id\": 853,...</td>\n",
              "      <td>en</td>\n",
              "      <td>The Dark Knight Rises</td>\n",
              "      <td>Hace ocho años que Batman desapareció, dejando...</td>\n",
              "      <td>112.312950</td>\n",
              "      <td>[{\"name\": \"Legendary Pictures\", \"id\": 923}, {\"...</td>\n",
              "      <td>[{\"iso_3166_1\": \"US\", \"name\": \"United States o...</td>\n",
              "      <td>2012-07-16</td>\n",
              "      <td>1084939099</td>\n",
              "      <td>165.0</td>\n",
              "      <td>[{\"iso_639_1\": \"en\", \"name\": \"English\"}]</td>\n",
              "      <td>Released</td>\n",
              "      <td>The Legend Ends</td>\n",
              "      <td>The Dark Knight Rises</td>\n",
              "      <td>7.6</td>\n",
              "      <td>9106</td>\n",
              "      <td>[{\"cast_id\": 2, \"character\": \"Bruce Wayne / Ba...</td>\n",
              "      <td>[{\"credit_id\": \"52fe4781c3a36847f81398c3\", \"de...</td>\n",
              "    </tr>\n",
              "    <tr>\n",
              "      <th>4</th>\n",
              "      <td>260000000</td>\n",
              "      <td>[{\"id\": 28, \"name\": \"Action\"}, {\"id\": 12, \"nam...</td>\n",
              "      <td>http://movies.disney.com/john-carter</td>\n",
              "      <td>49529</td>\n",
              "      <td>[{\"id\": 818, \"name\": \"based on novel\"}, {\"id\":...</td>\n",
              "      <td>en</td>\n",
              "      <td>John Carter</td>\n",
              "      <td>Adaptación de ‘Una princesa de Marte’, la prim...</td>\n",
              "      <td>43.926995</td>\n",
              "      <td>[{\"name\": \"Walt Disney Pictures\", \"id\": 2}]</td>\n",
              "      <td>[{\"iso_3166_1\": \"US\", \"name\": \"United States o...</td>\n",
              "      <td>2012-03-07</td>\n",
              "      <td>284139100</td>\n",
              "      <td>132.0</td>\n",
              "      <td>[{\"iso_639_1\": \"en\", \"name\": \"English\"}]</td>\n",
              "      <td>Released</td>\n",
              "      <td>Lost in our world, found in another.</td>\n",
              "      <td>John Carter</td>\n",
              "      <td>6.1</td>\n",
              "      <td>2124</td>\n",
              "      <td>[{\"cast_id\": 5, \"character\": \"John Carter\", \"c...</td>\n",
              "      <td>[{\"credit_id\": \"52fe479ac3a36847f813eaa3\", \"de...</td>\n",
              "    </tr>\n",
              "  </tbody>\n",
              "</table>\n",
              "</div>"
            ],
            "text/plain": [
              "      budget  ...                                               crew\n",
              "0  237000000  ...  [{\"credit_id\": \"52fe48009251416c750aca23\", \"de...\n",
              "1  300000000  ...  [{\"credit_id\": \"52fe4232c3a36847f800b579\", \"de...\n",
              "2  245000000  ...  [{\"credit_id\": \"54805967c3a36829b5002c41\", \"de...\n",
              "3  250000000  ...  [{\"credit_id\": \"52fe4781c3a36847f81398c3\", \"de...\n",
              "4  260000000  ...  [{\"credit_id\": \"52fe479ac3a36847f813eaa3\", \"de...\n",
              "\n",
              "[5 rows x 22 columns]"
            ]
          },
          "metadata": {
            "tags": []
          },
          "execution_count": 9
        }
      ]
    },
    {
      "cell_type": "code",
      "metadata": {
        "id": "bswgH6gTvHVe",
        "colab_type": "code",
        "colab": {}
      },
      "source": [
        "# Get features\n",
        "\n",
        "data = data[['original_title','budget','genres','original_language','production_companies','production_countries',\n",
        "             'release_date','runtime','spoken_languages','cast','crew','vote_average','revenue']]\n",
        "\n",
        "# Quitamos na hay 2 runtime que faltan\n",
        "data.dropna(inplace=True)"
      ],
      "execution_count": 0,
      "outputs": []
    },
    {
      "cell_type": "code",
      "metadata": {
        "id": "bewnaTAX3B_D",
        "colab_type": "code",
        "outputId": "a1896b65-dfdd-468b-b831-93f2944e2b9d",
        "colab": {
          "base_uri": "https://localhost:8080/",
          "height": 300
        }
      },
      "source": [
        "data.describe().astype(int)\n",
        "# Quitamos duracion menor a 40 min"
      ],
      "execution_count": 11,
      "outputs": [
        {
          "output_type": "execute_result",
          "data": {
            "text/html": [
              "<div>\n",
              "<style scoped>\n",
              "    .dataframe tbody tr th:only-of-type {\n",
              "        vertical-align: middle;\n",
              "    }\n",
              "\n",
              "    .dataframe tbody tr th {\n",
              "        vertical-align: top;\n",
              "    }\n",
              "\n",
              "    .dataframe thead th {\n",
              "        text-align: right;\n",
              "    }\n",
              "</style>\n",
              "<table border=\"1\" class=\"dataframe\">\n",
              "  <thead>\n",
              "    <tr style=\"text-align: right;\">\n",
              "      <th></th>\n",
              "      <th>budget</th>\n",
              "      <th>runtime</th>\n",
              "      <th>vote_average</th>\n",
              "      <th>revenue</th>\n",
              "    </tr>\n",
              "  </thead>\n",
              "  <tbody>\n",
              "    <tr>\n",
              "      <th>count</th>\n",
              "      <td>4800</td>\n",
              "      <td>4800</td>\n",
              "      <td>4800</td>\n",
              "      <td>4800</td>\n",
              "    </tr>\n",
              "    <tr>\n",
              "      <th>mean</th>\n",
              "      <td>29060068</td>\n",
              "      <td>106</td>\n",
              "      <td>6</td>\n",
              "      <td>82312051</td>\n",
              "    </tr>\n",
              "    <tr>\n",
              "      <th>std</th>\n",
              "      <td>40730294</td>\n",
              "      <td>22</td>\n",
              "      <td>1</td>\n",
              "      <td>162895004</td>\n",
              "    </tr>\n",
              "    <tr>\n",
              "      <th>min</th>\n",
              "      <td>0</td>\n",
              "      <td>0</td>\n",
              "      <td>0</td>\n",
              "      <td>0</td>\n",
              "    </tr>\n",
              "    <tr>\n",
              "      <th>25%</th>\n",
              "      <td>800000</td>\n",
              "      <td>94</td>\n",
              "      <td>5</td>\n",
              "      <td>0</td>\n",
              "    </tr>\n",
              "    <tr>\n",
              "      <th>50%</th>\n",
              "      <td>15000000</td>\n",
              "      <td>103</td>\n",
              "      <td>6</td>\n",
              "      <td>19181992</td>\n",
              "    </tr>\n",
              "    <tr>\n",
              "      <th>75%</th>\n",
              "      <td>40000000</td>\n",
              "      <td>118</td>\n",
              "      <td>6</td>\n",
              "      <td>92938861</td>\n",
              "    </tr>\n",
              "    <tr>\n",
              "      <th>max</th>\n",
              "      <td>380000000</td>\n",
              "      <td>338</td>\n",
              "      <td>10</td>\n",
              "      <td>2787965087</td>\n",
              "    </tr>\n",
              "  </tbody>\n",
              "</table>\n",
              "</div>"
            ],
            "text/plain": [
              "          budget  runtime  vote_average     revenue\n",
              "count       4800     4800          4800        4800\n",
              "mean    29060068      106             6    82312051\n",
              "std     40730294       22             1   162895004\n",
              "min            0        0             0           0\n",
              "25%       800000       94             5           0\n",
              "50%     15000000      103             6    19181992\n",
              "75%     40000000      118             6    92938861\n",
              "max    380000000      338            10  2787965087"
            ]
          },
          "metadata": {
            "tags": []
          },
          "execution_count": 11
        }
      ]
    },
    {
      "cell_type": "code",
      "metadata": {
        "id": "piD66aUHV-YP",
        "colab_type": "code",
        "outputId": "ee9d4deb-7b74-48f2-934a-571acdeb8e92",
        "colab": {
          "base_uri": "https://localhost:8080/",
          "height": 69
        }
      },
      "source": [
        "print('Without budget: ',len(data[data.budget == 0]))\n",
        "print('Without runtime: ',len(data[data.runtime == 0]))\n",
        "print('Without revenue: ',len(data[data.revenue == 0]))"
      ],
      "execution_count": 12,
      "outputs": [
        {
          "output_type": "stream",
          "text": [
            "Without budget:  1036\n",
            "Without runtime:  34\n",
            "Without revenue:  1424\n"
          ],
          "name": "stdout"
        }
      ]
    },
    {
      "cell_type": "code",
      "metadata": {
        "id": "BTEDSPm53RAZ",
        "colab_type": "code",
        "colab": {}
      },
      "source": [
        "data = data[data['runtime']>40]"
      ],
      "execution_count": 0,
      "outputs": []
    },
    {
      "cell_type": "code",
      "metadata": {
        "id": "iNL9_htz3uG0",
        "colab_type": "code",
        "outputId": "bbaf03e3-ddc6-46e0-b31f-6a36ffc033a1",
        "colab": {
          "base_uri": "https://localhost:8080/",
          "height": 300
        }
      },
      "source": [
        "data.describe().astype(int)\n",
        "# Quitamos pelis con ingresos y presupuesto 0 | O metemos mean de los datos"
      ],
      "execution_count": 14,
      "outputs": [
        {
          "output_type": "execute_result",
          "data": {
            "text/html": [
              "<div>\n",
              "<style scoped>\n",
              "    .dataframe tbody tr th:only-of-type {\n",
              "        vertical-align: middle;\n",
              "    }\n",
              "\n",
              "    .dataframe tbody tr th {\n",
              "        vertical-align: top;\n",
              "    }\n",
              "\n",
              "    .dataframe thead th {\n",
              "        text-align: right;\n",
              "    }\n",
              "</style>\n",
              "<table border=\"1\" class=\"dataframe\">\n",
              "  <thead>\n",
              "    <tr style=\"text-align: right;\">\n",
              "      <th></th>\n",
              "      <th>budget</th>\n",
              "      <th>runtime</th>\n",
              "      <th>vote_average</th>\n",
              "      <th>revenue</th>\n",
              "    </tr>\n",
              "  </thead>\n",
              "  <tbody>\n",
              "    <tr>\n",
              "      <th>count</th>\n",
              "      <td>4764</td>\n",
              "      <td>4764</td>\n",
              "      <td>4764</td>\n",
              "      <td>4764</td>\n",
              "    </tr>\n",
              "    <tr>\n",
              "      <th>mean</th>\n",
              "      <td>29278511</td>\n",
              "      <td>107</td>\n",
              "      <td>6</td>\n",
              "      <td>82933512</td>\n",
              "    </tr>\n",
              "    <tr>\n",
              "      <th>std</th>\n",
              "      <td>40805985</td>\n",
              "      <td>20</td>\n",
              "      <td>1</td>\n",
              "      <td>163351865</td>\n",
              "    </tr>\n",
              "    <tr>\n",
              "      <th>min</th>\n",
              "      <td>0</td>\n",
              "      <td>41</td>\n",
              "      <td>0</td>\n",
              "      <td>0</td>\n",
              "    </tr>\n",
              "    <tr>\n",
              "      <th>25%</th>\n",
              "      <td>1000000</td>\n",
              "      <td>94</td>\n",
              "      <td>5</td>\n",
              "      <td>0</td>\n",
              "    </tr>\n",
              "    <tr>\n",
              "      <th>50%</th>\n",
              "      <td>15000000</td>\n",
              "      <td>104</td>\n",
              "      <td>6</td>\n",
              "      <td>19614174</td>\n",
              "    </tr>\n",
              "    <tr>\n",
              "      <th>75%</th>\n",
              "      <td>40000000</td>\n",
              "      <td>118</td>\n",
              "      <td>6</td>\n",
              "      <td>93784581</td>\n",
              "    </tr>\n",
              "    <tr>\n",
              "      <th>max</th>\n",
              "      <td>380000000</td>\n",
              "      <td>338</td>\n",
              "      <td>10</td>\n",
              "      <td>2787965087</td>\n",
              "    </tr>\n",
              "  </tbody>\n",
              "</table>\n",
              "</div>"
            ],
            "text/plain": [
              "          budget  runtime  vote_average     revenue\n",
              "count       4764     4764          4764        4764\n",
              "mean    29278511      107             6    82933512\n",
              "std     40805985       20             1   163351865\n",
              "min            0       41             0           0\n",
              "25%      1000000       94             5           0\n",
              "50%     15000000      104             6    19614174\n",
              "75%     40000000      118             6    93784581\n",
              "max    380000000      338            10  2787965087"
            ]
          },
          "metadata": {
            "tags": []
          },
          "execution_count": 14
        }
      ]
    },
    {
      "cell_type": "code",
      "metadata": {
        "id": "80fG-QIo3781",
        "colab_type": "code",
        "colab": {}
      },
      "source": [
        "#data = data[data['budget']>0]\n",
        "data = data[data['revenue']>0] "
      ],
      "execution_count": 0,
      "outputs": []
    },
    {
      "cell_type": "code",
      "metadata": {
        "id": "OGSKdGcf4Fg0",
        "colab_type": "code",
        "outputId": "8f17aa26-bdb9-4bca-cd1e-fa5bf58e78be",
        "colab": {
          "base_uri": "https://localhost:8080/",
          "height": 300
        }
      },
      "source": [
        "data.describe().astype(int)"
      ],
      "execution_count": 16,
      "outputs": [
        {
          "output_type": "execute_result",
          "data": {
            "text/html": [
              "<div>\n",
              "<style scoped>\n",
              "    .dataframe tbody tr th:only-of-type {\n",
              "        vertical-align: middle;\n",
              "    }\n",
              "\n",
              "    .dataframe tbody tr th {\n",
              "        vertical-align: top;\n",
              "    }\n",
              "\n",
              "    .dataframe thead th {\n",
              "        text-align: right;\n",
              "    }\n",
              "</style>\n",
              "<table border=\"1\" class=\"dataframe\">\n",
              "  <thead>\n",
              "    <tr style=\"text-align: right;\">\n",
              "      <th></th>\n",
              "      <th>budget</th>\n",
              "      <th>runtime</th>\n",
              "      <th>vote_average</th>\n",
              "      <th>revenue</th>\n",
              "    </tr>\n",
              "  </thead>\n",
              "  <tbody>\n",
              "    <tr>\n",
              "      <th>count</th>\n",
              "      <td>3375</td>\n",
              "      <td>3375</td>\n",
              "      <td>3375</td>\n",
              "      <td>3375</td>\n",
              "    </tr>\n",
              "    <tr>\n",
              "      <th>mean</th>\n",
              "      <td>38895763</td>\n",
              "      <td>110</td>\n",
              "      <td>6</td>\n",
              "      <td>117065260</td>\n",
              "    </tr>\n",
              "    <tr>\n",
              "      <th>std</th>\n",
              "      <td>44206378</td>\n",
              "      <td>21</td>\n",
              "      <td>0</td>\n",
              "      <td>183499699</td>\n",
              "    </tr>\n",
              "    <tr>\n",
              "      <th>min</th>\n",
              "      <td>0</td>\n",
              "      <td>41</td>\n",
              "      <td>0</td>\n",
              "      <td>5</td>\n",
              "    </tr>\n",
              "    <tr>\n",
              "      <th>25%</th>\n",
              "      <td>8500000</td>\n",
              "      <td>96</td>\n",
              "      <td>5</td>\n",
              "      <td>15369235</td>\n",
              "    </tr>\n",
              "    <tr>\n",
              "      <th>50%</th>\n",
              "      <td>25000000</td>\n",
              "      <td>106</td>\n",
              "      <td>6</td>\n",
              "      <td>51801187</td>\n",
              "    </tr>\n",
              "    <tr>\n",
              "      <th>75%</th>\n",
              "      <td>52000000</td>\n",
              "      <td>121</td>\n",
              "      <td>6</td>\n",
              "      <td>140168399</td>\n",
              "    </tr>\n",
              "    <tr>\n",
              "      <th>max</th>\n",
              "      <td>380000000</td>\n",
              "      <td>338</td>\n",
              "      <td>10</td>\n",
              "      <td>2787965087</td>\n",
              "    </tr>\n",
              "  </tbody>\n",
              "</table>\n",
              "</div>"
            ],
            "text/plain": [
              "          budget  runtime  vote_average     revenue\n",
              "count       3375     3375          3375        3375\n",
              "mean    38895763      110             6   117065260\n",
              "std     44206378       21             0   183499699\n",
              "min            0       41             0           5\n",
              "25%      8500000       96             5    15369235\n",
              "50%     25000000      106             6    51801187\n",
              "75%     52000000      121             6   140168399\n",
              "max    380000000      338            10  2787965087"
            ]
          },
          "metadata": {
            "tags": []
          },
          "execution_count": 16
        }
      ]
    },
    {
      "cell_type": "code",
      "metadata": {
        "id": "_qmp3WKr9bHu",
        "colab_type": "code",
        "outputId": "d6b06459-5246-4bfc-c4b2-345c564f1740",
        "colab": {
          "base_uri": "https://localhost:8080/",
          "height": 34
        }
      },
      "source": [
        "len(data[data['budget']==0])\n",
        "# Inputaremos el budget mas a delante"
      ],
      "execution_count": 17,
      "outputs": [
        {
          "output_type": "execute_result",
          "data": {
            "text/plain": [
              "146"
            ]
          },
          "metadata": {
            "tags": []
          },
          "execution_count": 17
        }
      ]
    },
    {
      "cell_type": "code",
      "metadata": {
        "id": "m-DE_rsk3bUS",
        "colab_type": "code",
        "outputId": "25dc52f2-8600-4b27-b29c-46ca570a9a4d",
        "colab": {
          "base_uri": "https://localhost:8080/",
          "height": 1156
        }
      },
      "source": [
        "from IPython.display import display\n",
        "\n",
        "print('DISTRIBUTION PLOTS \\n')\n",
        "\n",
        "sns.distplot(data['budget'], kde=False, rug=True, bins=15)\n",
        "plt.tight_layout()\n",
        "plt.show()\n",
        "\n",
        "sns.distplot(data['runtime'].dropna(), kde=False, rug=True, bins=20)\n",
        "plt.tight_layout()\n",
        "plt.show()\n",
        "\n",
        "sns.distplot(data['vote_average'], kde=False, rug=True, bins=10)\n",
        "plt.tight_layout()\n",
        "plt.show()\n",
        "\n",
        "sns.distplot(data['revenue'], kde=False, rug=True)\n",
        "plt.tight_layout()\n",
        "plt.show()"
      ],
      "execution_count": 18,
      "outputs": [
        {
          "output_type": "stream",
          "text": [
            "DISTRIBUTION PLOTS \n",
            "\n"
          ],
          "name": "stdout"
        },
        {
          "output_type": "display_data",
          "data": {
            "image/png": "[encoded data removed]",
            "text/plain": [
              "<Figure size 432x288 with 1 Axes>"
            ]
          },
          "metadata": {
            "tags": []
          }
        },
        {
          "output_type": "display_data",
          "data": {
            "image/png": "[encoded data removed]",
            "text/plain": [
              "<Figure size 432x288 with 1 Axes>"
            ]
          },
          "metadata": {
            "tags": []
          }
        },
        {
          "output_type": "display_data",
          "data": {
            "image/png": "[encoded data removed]",
            "text/plain": [
              "<Figure size 432x288 with 1 Axes>"
            ]
          },
          "metadata": {
            "tags": []
          }
        },
        {
          "output_type": "display_data",
          "data": {
            "image/png": "[encoded data removed]",
            "text/plain": [
              "<Figure size 432x288 with 1 Axes>"
            ]
          },
          "metadata": {
            "tags": []
          }
        }
      ]
    },
    {
      "cell_type": "code",
      "metadata": {
        "id": "g6VHpbEV3kWa",
        "colab_type": "code",
        "outputId": "ed612728-416e-4901-bb36-35e19d56c24e",
        "colab": {
          "base_uri": "https://localhost:8080/",
          "height": 581
        }
      },
      "source": [
        "sns.pairplot(data, x_vars=['budget','runtime','vote_average','revenue'], y_vars=['vote_average','revenue'], height=4);"
      ],
      "execution_count": 19,
      "outputs": [
        {
          "output_type": "display_data",
          "data": {
            "image/png": "[encoded data removed]",
            "text/plain": [
              "<Figure size 1152x576 with 8 Axes>"
            ]
          },
          "metadata": {
            "tags": []
          }
        }
      ]
    },
    {
      "cell_type": "code",
      "metadata": {
        "id": "pr8zzdpowc-D",
        "colab_type": "code",
        "colab": {}
      },
      "source": [
        "def eval_cell(cell):\n",
        "  \n",
        "  try:\n",
        "    \n",
        "    cell_array = eval(cell)\n",
        "  \n",
        "  except:\n",
        "    \n",
        "    cell_array = []\n",
        "  \n",
        "  return cell_array"
      ],
      "execution_count": 0,
      "outputs": []
    },
    {
      "cell_type": "code",
      "metadata": {
        "id": "TwUhw7kAwgmk",
        "colab_type": "code",
        "colab": {}
      },
      "source": [
        "# Get ids\n",
        "def get_ids(cell):\n",
        "  \n",
        "  cell_array = eval_cell(cell)\n",
        "\n",
        "  if len(cell_array)>0:\n",
        "    ids_list = [v['id'] for v in cell_array]\n",
        "    \n",
        "  else:\n",
        "    ids_list = []\n",
        "  \n",
        "  return ids_list\n",
        "\n",
        "def get_cast_ids(cell):\n",
        "  \n",
        "  cell_array = eval_cell(cell)\n",
        "  \n",
        "  if len(cell_array) >= 5:\n",
        "    lim = 5\n",
        "  else:\n",
        "    lim = len(cell_array)\n",
        "    \n",
        "  ids_list = [cell_array[i]['id'] for i in range(0,lim)]\n",
        "  \n",
        "  return ids_list\n",
        "\n",
        "def get_crew_ids(cell,filter_staff):\n",
        "  \n",
        "  cell_array = eval_cell(cell)\n",
        "    \n",
        "  staff_members_ids = [member['id'] for member in cell_array if member['job'] == filter_staff]\n",
        "    \n",
        "  return staff_members_ids\n",
        "\n",
        "def get_countries(cell):\n",
        "  \n",
        "  cell_array = eval_cell(cell)\n",
        "  \n",
        "  countries = [list(e.values())[0] for e in cell_array]\n",
        "  \n",
        "  return countries"
      ],
      "execution_count": 0,
      "outputs": []
    },
    {
      "cell_type": "code",
      "metadata": {
        "id": "rY6ZSCupYPMF",
        "colab_type": "code",
        "colab": {}
      },
      "source": [
        "# Ver si cambio ids por nombres\n",
        "from sklearn.preprocessing import MultiLabelBinarizer\n",
        "\n",
        "# Crate Dataframe with ids\n",
        "def create_df_ids(ids,column_name):\n",
        "  \n",
        "  enc = MultiLabelBinarizer()\n",
        "  np_ids = enc.fit_transform(ids)\n",
        "  \n",
        "  # Save encoder in a pickle\n",
        "  \n",
        "  column_names = []\n",
        "  print('Num classes of '+ column_name + ': ' + str(len(enc.classes_)))\n",
        "  \n",
        "  for c in enc.classes_:\n",
        "    column_names.append(column_name + '_' + str(c))\n",
        "  \n",
        "  df_ids = pd.DataFrame(data = np_ids, index=data.index, columns=column_names)\n",
        "  \n",
        "  return df_ids\n",
        "\n",
        "\n",
        "# Merge dataframe ids with data\n",
        "def merge_ids(data,column_name):\n",
        "  \n",
        "  if column_name == 'crew':\n",
        "    df = data.copy()\n",
        "  \n",
        "    staff = ['Producer','Editor','Director','Original Music Composer','Writer','Screenplay']\n",
        "    for i in staff:\n",
        "\n",
        "      ids = data['crew'].apply(lambda x: get_crew_ids(x,i))\n",
        "\n",
        "      df_ids = create_df_ids(ids,i)\n",
        "\n",
        "      df = df.join(df_ids)\n",
        "    return df\n",
        "  \n",
        "  elif column_name == 'cast':\n",
        "    ids = data[column_name].apply(lambda x: get_cast_ids(x))\n",
        "  \n",
        "  elif column_name in ['production_countries','spoken_languages']:\n",
        "    ids = data[column_name].apply(lambda x: get_countries(x))\n",
        "    \n",
        "  else:\n",
        "    ids = data[column_name].apply(lambda x: get_ids(x))\n",
        "    \n",
        "  df_ids = create_df_ids(ids,column_name)\n",
        "  \n",
        "  df = data.copy()\n",
        "  df = df.join(df_ids)\n",
        "  \n",
        "  return df"
      ],
      "execution_count": 0,
      "outputs": []
    },
    {
      "cell_type": "code",
      "metadata": {
        "id": "ji3GojFJY7RE",
        "colab_type": "code",
        "outputId": "23082d43-18f6-4221-86b0-1d3ce00bfde2",
        "colab": {
          "base_uri": "https://localhost:8080/",
          "height": 208
        }
      },
      "source": [
        "columns_with_ids = ['genres','production_companies','cast','crew','production_countries','spoken_languages']\n",
        "\n",
        "for i in columns_with_ids:\n",
        "  data = merge_ids(data,i)"
      ],
      "execution_count": 23,
      "outputs": [
        {
          "output_type": "stream",
          "text": [
            "Num classes of genres: 19\n",
            "Num classes of production_companies: 3759\n",
            "Num classes of cast: 6451\n",
            "Num classes of Producer: 3713\n",
            "Num classes of Editor: 1274\n",
            "Num classes of Director: 1667\n",
            "Num classes of Original Music Composer: 777\n",
            "Num classes of Writer: 1205\n",
            "Num classes of Screenplay: 2339\n",
            "Num classes of production_countries: 63\n",
            "Num classes of spoken_languages: 78\n"
          ],
          "name": "stdout"
        }
      ]
    },
    {
      "cell_type": "code",
      "metadata": {
        "id": "ISxLmq8jBCiy",
        "colab_type": "code",
        "colab": {}
      },
      "source": [
        "# Original_language\n",
        "dummies_languages = pd.get_dummies(data['original_language'], drop_first=True)\n",
        "data = data.join(dummies_languages)"
      ],
      "execution_count": 0,
      "outputs": []
    },
    {
      "cell_type": "code",
      "metadata": {
        "id": "LHuj7Zovz_lB",
        "colab_type": "code",
        "colab": {}
      },
      "source": [
        "# https://stats.stackexchange.com/questions/65900/does-it-make-sense-to-use-a-date-variable-in-a-regression\n",
        "\n",
        "def separate_date(date):\n",
        "  \n",
        "  date = date.split('-')\n",
        "  year = int(date[0])\n",
        "  month = int(date[1])\n",
        "  day = int(date[2])\n",
        "  \n",
        "  return year, month, day\n",
        "\n",
        "def to_date_type(date):\n",
        "  \n",
        "  date = separate_date(date)\n",
        "  date = datetime.datetime(date[0],date[1],date[2])\n",
        "  \n",
        "  return date"
      ],
      "execution_count": 0,
      "outputs": []
    },
    {
      "cell_type": "code",
      "metadata": {
        "id": "WkUXn1PA0iHd",
        "colab_type": "code",
        "colab": {}
      },
      "source": [
        "data['year'], data['month'], data['day'] = zip(*data.release_date.apply(lambda x: separate_date(x)))\n",
        "data['release_date'] = data['release_date'].apply(lambda x: to_date_type(x))"
      ],
      "execution_count": 0,
      "outputs": []
    },
    {
      "cell_type": "code",
      "metadata": {
        "id": "ALy7i5Q41SBu",
        "colab_type": "code",
        "colab": {}
      },
      "source": [
        "oscars = pd.read_csv('gdrive/My Drive/TFG/oscars.csv')"
      ],
      "execution_count": 0,
      "outputs": []
    },
    {
      "cell_type": "code",
      "metadata": {
        "id": "rAU4UOLS_rws",
        "colab_type": "code",
        "colab": {}
      },
      "source": [
        "def month_to_int(argument):\n",
        "    switcher = {\n",
        "        \"enero\": 1,\n",
        "        \"febrero\": 2,\n",
        "        \"marzo\": 3,\n",
        "        \"abril\": 4,\n",
        "        \"mayo\": 5,\n",
        "        \"junio\": 6,\n",
        "        \"julio\": 7,\n",
        "        \"agosto\": 8,\n",
        "        \"septiembre\": 9,\n",
        "        \"octubre\": 10,\n",
        "        \"noviembre\": 11,\n",
        "        \"diciembre\": 12\n",
        "    }\n",
        "    return switcher.get(argument)\n",
        "  \n",
        "def oscars_to_date_type(date):\n",
        "  \n",
        "  date = date.split(\" \")\n",
        "  date = datetime.datetime(int(date[4]),month_to_int(date[2]),int(date[0]))\n",
        "  \n",
        "  return date"
      ],
      "execution_count": 0,
      "outputs": []
    },
    {
      "cell_type": "code",
      "metadata": {
        "id": "7gnkvoZ21eVk",
        "colab_type": "code",
        "colab": {}
      },
      "source": [
        "oscars.Fecha = oscars.Fecha.apply(lambda x: oscars_to_date_type(x))\n",
        "# En los oscars premian las peliculas del año anterior \"entre el 1 de enero y el 31 de diciembre del año anterior en Los Angeles\"\n",
        "oscars['year'] = oscars.Fecha.apply(lambda x: x.year-1)\n",
        "oscars.columns = ['oscars_date','year']"
      ],
      "execution_count": 0,
      "outputs": []
    },
    {
      "cell_type": "code",
      "metadata": {
        "id": "qlhYAYQ8EBj9",
        "colab_type": "code",
        "colab": {}
      },
      "source": [
        "data = data.join(oscars.set_index('year'), on='year')\n",
        "data['days_for_oscars'] = (data['oscars_date'] - data['release_date']).dt.days"
      ],
      "execution_count": 0,
      "outputs": []
    },
    {
      "cell_type": "code",
      "metadata": {
        "id": "uo6Ln-GkKXWG",
        "colab_type": "code",
        "colab": {}
      },
      "source": [
        "data = data[~pd.isna(data.days_for_oscars)] "
      ],
      "execution_count": 0,
      "outputs": []
    },
    {
      "cell_type": "code",
      "metadata": {
        "id": "oN3ViinIInHN",
        "colab_type": "code",
        "colab": {}
      },
      "source": [
        "suma = data.sum(axis=0, numeric_only=True).astype(int).sort_values().to_dict()"
      ],
      "execution_count": 0,
      "outputs": []
    },
    {
      "cell_type": "code",
      "metadata": {
        "id": "b8wQeRrsJVjo",
        "colab_type": "code",
        "colab": {}
      },
      "source": [
        "columns_to_drop = {k for k, v in suma.items() if v < 4}"
      ],
      "execution_count": 0,
      "outputs": []
    },
    {
      "cell_type": "code",
      "metadata": {
        "id": "-eEg68OxlrkP",
        "colab_type": "code",
        "outputId": "30fcb188-7ca4-4c76-9949-3aa9f3437d50",
        "colab": {
          "base_uri": "https://localhost:8080/",
          "height": 34
        }
      },
      "source": [
        "data.shape"
      ],
      "execution_count": 34,
      "outputs": [
        {
          "output_type": "execute_result",
          "data": {
            "text/plain": [
              "(3372, 21390)"
            ]
          },
          "metadata": {
            "tags": []
          },
          "execution_count": 34
        }
      ]
    },
    {
      "cell_type": "code",
      "metadata": {
        "id": "La1Bsw4aLqZi",
        "colab_type": "code",
        "colab": {}
      },
      "source": [
        "data.drop(columns=columns_to_drop,inplace=True)"
      ],
      "execution_count": 0,
      "outputs": []
    },
    {
      "cell_type": "code",
      "metadata": {
        "id": "JvQo9DTENacJ",
        "colab_type": "code",
        "outputId": "1a5371ef-dced-421d-b849-09c94c9ae44f",
        "colab": {
          "base_uri": "https://localhost:8080/",
          "height": 34
        }
      },
      "source": [
        "data.shape"
      ],
      "execution_count": 36,
      "outputs": [
        {
          "output_type": "execute_result",
          "data": {
            "text/plain": [
              "(3372, 3230)"
            ]
          },
          "metadata": {
            "tags": []
          },
          "execution_count": 36
        }
      ]
    },
    {
      "cell_type": "code",
      "metadata": {
        "id": "8YxOXaHcd0SV",
        "colab_type": "code",
        "outputId": "05b9c759-eb26-4b2f-d812-0abb17a98b16",
        "colab": {
          "base_uri": "https://localhost:8080/",
          "height": 199
        }
      },
      "source": [
        "data.head(1)"
      ],
      "execution_count": 37,
      "outputs": [
        {
          "output_type": "execute_result",
          "data": {
            "text/html": [
              "<div>\n",
              "<style scoped>\n",
              "    .dataframe tbody tr th:only-of-type {\n",
              "        vertical-align: middle;\n",
              "    }\n",
              "\n",
              "    .dataframe tbody tr th {\n",
              "        vertical-align: top;\n",
              "    }\n",
              "\n",
              "    .dataframe thead th {\n",
              "        text-align: right;\n",
              "    }\n",
              "</style>\n",
              "<table border=\"1\" class=\"dataframe\">\n",
              "  <thead>\n",
              "    <tr style=\"text-align: right;\">\n",
              "      <th></th>\n",
              "      <th>original_title</th>\n",
              "      <th>budget</th>\n",
              "      <th>genres</th>\n",
              "      <th>original_language</th>\n",
              "      <th>production_companies</th>\n",
              "      <th>production_countries</th>\n",
              "      <th>release_date</th>\n",
              "      <th>runtime</th>\n",
              "      <th>spoken_languages</th>\n",
              "      <th>cast</th>\n",
              "      <th>crew</th>\n",
              "      <th>vote_average</th>\n",
              "      <th>revenue</th>\n",
              "      <th>genres_12</th>\n",
              "      <th>genres_14</th>\n",
              "      <th>genres_16</th>\n",
              "      <th>genres_18</th>\n",
              "      <th>genres_27</th>\n",
              "      <th>genres_28</th>\n",
              "      <th>genres_35</th>\n",
              "      <th>genres_36</th>\n",
              "      <th>genres_37</th>\n",
              "      <th>genres_53</th>\n",
              "      <th>genres_80</th>\n",
              "      <th>genres_99</th>\n",
              "      <th>genres_878</th>\n",
              "      <th>genres_9648</th>\n",
              "      <th>genres_10402</th>\n",
              "      <th>genres_10749</th>\n",
              "      <th>genres_10751</th>\n",
              "      <th>genres_10752</th>\n",
              "      <th>genres_10769</th>\n",
              "      <th>production_companies_1</th>\n",
              "      <th>production_companies_2</th>\n",
              "      <th>production_companies_3</th>\n",
              "      <th>production_companies_4</th>\n",
              "      <th>production_companies_5</th>\n",
              "      <th>production_companies_6</th>\n",
              "      <th>production_companies_7</th>\n",
              "      <th>production_companies_8</th>\n",
              "      <th>...</th>\n",
              "      <th>spoken_languages_hu</th>\n",
              "      <th>spoken_languages_is</th>\n",
              "      <th>spoken_languages_it</th>\n",
              "      <th>spoken_languages_ja</th>\n",
              "      <th>spoken_languages_ko</th>\n",
              "      <th>spoken_languages_la</th>\n",
              "      <th>spoken_languages_nl</th>\n",
              "      <th>spoken_languages_no</th>\n",
              "      <th>spoken_languages_pl</th>\n",
              "      <th>spoken_languages_pt</th>\n",
              "      <th>spoken_languages_ro</th>\n",
              "      <th>spoken_languages_ru</th>\n",
              "      <th>spoken_languages_sq</th>\n",
              "      <th>spoken_languages_sr</th>\n",
              "      <th>spoken_languages_sv</th>\n",
              "      <th>spoken_languages_sw</th>\n",
              "      <th>spoken_languages_th</th>\n",
              "      <th>spoken_languages_tr</th>\n",
              "      <th>spoken_languages_uk</th>\n",
              "      <th>spoken_languages_ur</th>\n",
              "      <th>spoken_languages_vi</th>\n",
              "      <th>spoken_languages_yi</th>\n",
              "      <th>spoken_languages_zh</th>\n",
              "      <th>cn</th>\n",
              "      <th>da</th>\n",
              "      <th>de</th>\n",
              "      <th>en</th>\n",
              "      <th>es</th>\n",
              "      <th>fr</th>\n",
              "      <th>hi</th>\n",
              "      <th>it</th>\n",
              "      <th>ja</th>\n",
              "      <th>ko</th>\n",
              "      <th>ru</th>\n",
              "      <th>zh</th>\n",
              "      <th>year</th>\n",
              "      <th>month</th>\n",
              "      <th>day</th>\n",
              "      <th>oscars_date</th>\n",
              "      <th>days_for_oscars</th>\n",
              "    </tr>\n",
              "  </thead>\n",
              "  <tbody>\n",
              "    <tr>\n",
              "      <th>0</th>\n",
              "      <td>Avatar</td>\n",
              "      <td>237000000</td>\n",
              "      <td>[{\"id\": 28, \"name\": \"Action\"}, {\"id\": 12, \"nam...</td>\n",
              "      <td>en</td>\n",
              "      <td>[{\"name\": \"Ingenious Film Partners\", \"id\": 289...</td>\n",
              "      <td>[{\"iso_3166_1\": \"US\", \"name\": \"United States o...</td>\n",
              "      <td>2009-12-10</td>\n",
              "      <td>162.0</td>\n",
              "      <td>[{\"iso_639_1\": \"en\", \"name\": \"English\"}, {\"iso...</td>\n",
              "      <td>[{\"cast_id\": 242, \"character\": \"Jake Sully\", \"...</td>\n",
              "      <td>[{\"credit_id\": \"52fe48009251416c750aca23\", \"de...</td>\n",
              "      <td>7.2</td>\n",
              "      <td>2787965087</td>\n",
              "      <td>1</td>\n",
              "      <td>1</td>\n",
              "      <td>0</td>\n",
              "      <td>0</td>\n",
              "      <td>0</td>\n",
              "      <td>1</td>\n",
              "      <td>0</td>\n",
              "      <td>0</td>\n",
              "      <td>0</td>\n",
              "      <td>0</td>\n",
              "      <td>0</td>\n",
              "      <td>0</td>\n",
              "      <td>1</td>\n",
              "      <td>0</td>\n",
              "      <td>0</td>\n",
              "      <td>0</td>\n",
              "      <td>0</td>\n",
              "      <td>0</td>\n",
              "      <td>0</td>\n",
              "      <td>0</td>\n",
              "      <td>0</td>\n",
              "      <td>0</td>\n",
              "      <td>0</td>\n",
              "      <td>0</td>\n",
              "      <td>0</td>\n",
              "      <td>0</td>\n",
              "      <td>0</td>\n",
              "      <td>...</td>\n",
              "      <td>0</td>\n",
              "      <td>0</td>\n",
              "      <td>0</td>\n",
              "      <td>0</td>\n",
              "      <td>0</td>\n",
              "      <td>0</td>\n",
              "      <td>0</td>\n",
              "      <td>0</td>\n",
              "      <td>0</td>\n",
              "      <td>0</td>\n",
              "      <td>0</td>\n",
              "      <td>0</td>\n",
              "      <td>0</td>\n",
              "      <td>0</td>\n",
              "      <td>0</td>\n",
              "      <td>0</td>\n",
              "      <td>0</td>\n",
              "      <td>0</td>\n",
              "      <td>0</td>\n",
              "      <td>0</td>\n",
              "      <td>0</td>\n",
              "      <td>0</td>\n",
              "      <td>0</td>\n",
              "      <td>0</td>\n",
              "      <td>0</td>\n",
              "      <td>0</td>\n",
              "      <td>1</td>\n",
              "      <td>0</td>\n",
              "      <td>0</td>\n",
              "      <td>0</td>\n",
              "      <td>0</td>\n",
              "      <td>0</td>\n",
              "      <td>0</td>\n",
              "      <td>0</td>\n",
              "      <td>0</td>\n",
              "      <td>2009</td>\n",
              "      <td>12</td>\n",
              "      <td>10</td>\n",
              "      <td>2010-03-07</td>\n",
              "      <td>87.0</td>\n",
              "    </tr>\n",
              "  </tbody>\n",
              "</table>\n",
              "<p>1 rows × 3230 columns</p>\n",
              "</div>"
            ],
            "text/plain": [
              "  original_title     budget  ... oscars_date days_for_oscars\n",
              "0         Avatar  237000000  ...  2010-03-07            87.0\n",
              "\n",
              "[1 rows x 3230 columns]"
            ]
          },
          "metadata": {
            "tags": []
          },
          "execution_count": 37
        }
      ]
    },
    {
      "cell_type": "code",
      "metadata": {
        "id": "UEtREAldA72n",
        "colab_type": "code",
        "colab": {}
      },
      "source": [
        "# Input values when  budget = 0\n",
        "\n",
        "train = data.drop(['original_title','spoken_languages','genres','original_language','production_companies',\n",
        "           'production_countries','release_date','cast','crew','oscars_date','day'], axis=1)\n",
        "\n",
        "train = train.reset_index(drop=True)\n",
        "train.loc[train['budget'] == 0, 'budget'] = np.NaN"
      ],
      "execution_count": 0,
      "outputs": []
    },
    {
      "cell_type": "code",
      "metadata": {
        "id": "BWF_qnxLEoW3",
        "colab_type": "code",
        "colab": {
          "base_uri": "https://localhost:8080/",
          "height": 680
        },
        "outputId": "f07c5f36-87b1-48ab-d64a-59b74891e8c7"
      },
      "source": [
        "# Use KNN to input the values\n",
        "from fancyimpute import KNN \n",
        "\n",
        "train_cols = list(train)\n",
        "\n",
        "train = pd.DataFrame(KNN(k=5).fit_transform(train))\n",
        "train.columns = train_cols"
      ],
      "execution_count": 39,
      "outputs": [
        {
          "output_type": "stream",
          "text": [
            "/usr/local/lib/python3.6/dist-packages/sklearn/externals/six.py:31: DeprecationWarning: The module is deprecated in version 0.21 and will be removed in version 0.23 since we've dropped support for Python 2.7. Please rely on the official version of six (https://pypi.org/project/six/).\n",
            "  \"(https://pypi.org/project/six/).\", DeprecationWarning)\n",
            "Using TensorFlow backend.\n"
          ],
          "name": "stderr"
        },
        {
          "output_type": "stream",
          "text": [
            "Imputing row 1/3372 with 0 missing, elapsed time: 257.232\n",
            "Imputing row 101/3372 with 0 missing, elapsed time: 257.235\n",
            "Imputing row 201/3372 with 0 missing, elapsed time: 257.237\n",
            "Imputing row 301/3372 with 0 missing, elapsed time: 257.239\n",
            "Imputing row 401/3372 with 0 missing, elapsed time: 257.242\n",
            "Imputing row 501/3372 with 0 missing, elapsed time: 257.245\n",
            "Imputing row 601/3372 with 0 missing, elapsed time: 257.247\n",
            "Imputing row 701/3372 with 0 missing, elapsed time: 257.249\n",
            "Imputing row 801/3372 with 0 missing, elapsed time: 257.252\n",
            "Imputing row 901/3372 with 0 missing, elapsed time: 257.254\n",
            "Imputing row 1001/3372 with 0 missing, elapsed time: 257.257\n",
            "Imputing row 1101/3372 with 0 missing, elapsed time: 257.260\n",
            "Imputing row 1201/3372 with 0 missing, elapsed time: 257.262\n",
            "Imputing row 1301/3372 with 0 missing, elapsed time: 257.265\n",
            "Imputing row 1401/3372 with 0 missing, elapsed time: 257.268\n",
            "Imputing row 1501/3372 with 0 missing, elapsed time: 257.271\n",
            "Imputing row 1601/3372 with 0 missing, elapsed time: 257.274\n",
            "Imputing row 1701/3372 with 0 missing, elapsed time: 257.276\n",
            "Imputing row 1801/3372 with 0 missing, elapsed time: 257.279\n",
            "Imputing row 1901/3372 with 0 missing, elapsed time: 257.281\n",
            "Imputing row 2001/3372 with 0 missing, elapsed time: 257.284\n",
            "Imputing row 2101/3372 with 0 missing, elapsed time: 257.287\n",
            "Imputing row 2201/3372 with 0 missing, elapsed time: 257.289\n",
            "Imputing row 2301/3372 with 1 missing, elapsed time: 257.292\n",
            "Imputing row 2401/3372 with 0 missing, elapsed time: 257.295\n",
            "Imputing row 2501/3372 with 0 missing, elapsed time: 257.298\n",
            "Imputing row 2601/3372 with 0 missing, elapsed time: 257.301\n",
            "Imputing row 2701/3372 with 0 missing, elapsed time: 257.304\n",
            "Imputing row 2801/3372 with 0 missing, elapsed time: 257.307\n",
            "Imputing row 2901/3372 with 0 missing, elapsed time: 257.311\n",
            "Imputing row 3001/3372 with 0 missing, elapsed time: 257.313\n",
            "Imputing row 3101/3372 with 0 missing, elapsed time: 257.317\n",
            "Imputing row 3201/3372 with 0 missing, elapsed time: 257.320\n",
            "Imputing row 3301/3372 with 0 missing, elapsed time: 257.323\n"
          ],
          "name": "stdout"
        }
      ]
    },
    {
      "cell_type": "code",
      "metadata": {
        "id": "cYqvgqwmIe3I",
        "colab_type": "code",
        "colab": {}
      },
      "source": [
        "data = train\n",
        "data = data.astype(int)"
      ],
      "execution_count": 0,
      "outputs": []
    },
    {
      "cell_type": "code",
      "metadata": {
        "id": "l5rHRjY8MRfs",
        "colab_type": "code",
        "outputId": "389d2eaa-4cf3-46de-fe85-28fbcd05a8e8",
        "colab": {
          "base_uri": "https://localhost:8080/",
          "height": 193
        }
      },
      "source": [
        "data.head(3)"
      ],
      "execution_count": 41,
      "outputs": [
        {
          "output_type": "execute_result",
          "data": {
            "text/html": [
              "<div>\n",
              "<style scoped>\n",
              "    .dataframe tbody tr th:only-of-type {\n",
              "        vertical-align: middle;\n",
              "    }\n",
              "\n",
              "    .dataframe tbody tr th {\n",
              "        vertical-align: top;\n",
              "    }\n",
              "\n",
              "    .dataframe thead th {\n",
              "        text-align: right;\n",
              "    }\n",
              "</style>\n",
              "<table border=\"1\" class=\"dataframe\">\n",
              "  <thead>\n",
              "    <tr style=\"text-align: right;\">\n",
              "      <th></th>\n",
              "      <th>budget</th>\n",
              "      <th>runtime</th>\n",
              "      <th>vote_average</th>\n",
              "      <th>revenue</th>\n",
              "      <th>genres_12</th>\n",
              "      <th>genres_14</th>\n",
              "      <th>genres_16</th>\n",
              "      <th>genres_18</th>\n",
              "      <th>genres_27</th>\n",
              "      <th>genres_28</th>\n",
              "      <th>genres_35</th>\n",
              "      <th>genres_36</th>\n",
              "      <th>genres_37</th>\n",
              "      <th>genres_53</th>\n",
              "      <th>genres_80</th>\n",
              "      <th>genres_99</th>\n",
              "      <th>genres_878</th>\n",
              "      <th>genres_9648</th>\n",
              "      <th>genres_10402</th>\n",
              "      <th>genres_10749</th>\n",
              "      <th>genres_10751</th>\n",
              "      <th>genres_10752</th>\n",
              "      <th>genres_10769</th>\n",
              "      <th>production_companies_1</th>\n",
              "      <th>production_companies_2</th>\n",
              "      <th>production_companies_3</th>\n",
              "      <th>production_companies_4</th>\n",
              "      <th>production_companies_5</th>\n",
              "      <th>production_companies_6</th>\n",
              "      <th>production_companies_7</th>\n",
              "      <th>production_companies_8</th>\n",
              "      <th>production_companies_9</th>\n",
              "      <th>production_companies_11</th>\n",
              "      <th>production_companies_12</th>\n",
              "      <th>production_companies_13</th>\n",
              "      <th>production_companies_14</th>\n",
              "      <th>production_companies_18</th>\n",
              "      <th>production_companies_23</th>\n",
              "      <th>production_companies_24</th>\n",
              "      <th>production_companies_27</th>\n",
              "      <th>...</th>\n",
              "      <th>spoken_languages_he</th>\n",
              "      <th>spoken_languages_hi</th>\n",
              "      <th>spoken_languages_hu</th>\n",
              "      <th>spoken_languages_is</th>\n",
              "      <th>spoken_languages_it</th>\n",
              "      <th>spoken_languages_ja</th>\n",
              "      <th>spoken_languages_ko</th>\n",
              "      <th>spoken_languages_la</th>\n",
              "      <th>spoken_languages_nl</th>\n",
              "      <th>spoken_languages_no</th>\n",
              "      <th>spoken_languages_pl</th>\n",
              "      <th>spoken_languages_pt</th>\n",
              "      <th>spoken_languages_ro</th>\n",
              "      <th>spoken_languages_ru</th>\n",
              "      <th>spoken_languages_sq</th>\n",
              "      <th>spoken_languages_sr</th>\n",
              "      <th>spoken_languages_sv</th>\n",
              "      <th>spoken_languages_sw</th>\n",
              "      <th>spoken_languages_th</th>\n",
              "      <th>spoken_languages_tr</th>\n",
              "      <th>spoken_languages_uk</th>\n",
              "      <th>spoken_languages_ur</th>\n",
              "      <th>spoken_languages_vi</th>\n",
              "      <th>spoken_languages_yi</th>\n",
              "      <th>spoken_languages_zh</th>\n",
              "      <th>cn</th>\n",
              "      <th>da</th>\n",
              "      <th>de</th>\n",
              "      <th>en</th>\n",
              "      <th>es</th>\n",
              "      <th>fr</th>\n",
              "      <th>hi</th>\n",
              "      <th>it</th>\n",
              "      <th>ja</th>\n",
              "      <th>ko</th>\n",
              "      <th>ru</th>\n",
              "      <th>zh</th>\n",
              "      <th>year</th>\n",
              "      <th>month</th>\n",
              "      <th>days_for_oscars</th>\n",
              "    </tr>\n",
              "  </thead>\n",
              "  <tbody>\n",
              "    <tr>\n",
              "      <th>0</th>\n",
              "      <td>237000000</td>\n",
              "      <td>162</td>\n",
              "      <td>7</td>\n",
              "      <td>2787965087</td>\n",
              "      <td>1</td>\n",
              "      <td>1</td>\n",
              "      <td>0</td>\n",
              "      <td>0</td>\n",
              "      <td>0</td>\n",
              "      <td>1</td>\n",
              "      <td>0</td>\n",
              "      <td>0</td>\n",
              "      <td>0</td>\n",
              "      <td>0</td>\n",
              "      <td>0</td>\n",
              "      <td>0</td>\n",
              "      <td>1</td>\n",
              "      <td>0</td>\n",
              "      <td>0</td>\n",
              "      <td>0</td>\n",
              "      <td>0</td>\n",
              "      <td>0</td>\n",
              "      <td>0</td>\n",
              "      <td>0</td>\n",
              "      <td>0</td>\n",
              "      <td>0</td>\n",
              "      <td>0</td>\n",
              "      <td>0</td>\n",
              "      <td>0</td>\n",
              "      <td>0</td>\n",
              "      <td>0</td>\n",
              "      <td>0</td>\n",
              "      <td>0</td>\n",
              "      <td>0</td>\n",
              "      <td>0</td>\n",
              "      <td>0</td>\n",
              "      <td>0</td>\n",
              "      <td>0</td>\n",
              "      <td>0</td>\n",
              "      <td>0</td>\n",
              "      <td>...</td>\n",
              "      <td>0</td>\n",
              "      <td>0</td>\n",
              "      <td>0</td>\n",
              "      <td>0</td>\n",
              "      <td>0</td>\n",
              "      <td>0</td>\n",
              "      <td>0</td>\n",
              "      <td>0</td>\n",
              "      <td>0</td>\n",
              "      <td>0</td>\n",
              "      <td>0</td>\n",
              "      <td>0</td>\n",
              "      <td>0</td>\n",
              "      <td>0</td>\n",
              "      <td>0</td>\n",
              "      <td>0</td>\n",
              "      <td>0</td>\n",
              "      <td>0</td>\n",
              "      <td>0</td>\n",
              "      <td>0</td>\n",
              "      <td>0</td>\n",
              "      <td>0</td>\n",
              "      <td>0</td>\n",
              "      <td>0</td>\n",
              "      <td>0</td>\n",
              "      <td>0</td>\n",
              "      <td>0</td>\n",
              "      <td>0</td>\n",
              "      <td>1</td>\n",
              "      <td>0</td>\n",
              "      <td>0</td>\n",
              "      <td>0</td>\n",
              "      <td>0</td>\n",
              "      <td>0</td>\n",
              "      <td>0</td>\n",
              "      <td>0</td>\n",
              "      <td>0</td>\n",
              "      <td>2009</td>\n",
              "      <td>12</td>\n",
              "      <td>87</td>\n",
              "    </tr>\n",
              "    <tr>\n",
              "      <th>1</th>\n",
              "      <td>300000000</td>\n",
              "      <td>169</td>\n",
              "      <td>6</td>\n",
              "      <td>961000000</td>\n",
              "      <td>1</td>\n",
              "      <td>1</td>\n",
              "      <td>0</td>\n",
              "      <td>0</td>\n",
              "      <td>0</td>\n",
              "      <td>1</td>\n",
              "      <td>0</td>\n",
              "      <td>0</td>\n",
              "      <td>0</td>\n",
              "      <td>0</td>\n",
              "      <td>0</td>\n",
              "      <td>0</td>\n",
              "      <td>0</td>\n",
              "      <td>0</td>\n",
              "      <td>0</td>\n",
              "      <td>0</td>\n",
              "      <td>0</td>\n",
              "      <td>0</td>\n",
              "      <td>0</td>\n",
              "      <td>0</td>\n",
              "      <td>1</td>\n",
              "      <td>0</td>\n",
              "      <td>0</td>\n",
              "      <td>0</td>\n",
              "      <td>0</td>\n",
              "      <td>0</td>\n",
              "      <td>0</td>\n",
              "      <td>0</td>\n",
              "      <td>0</td>\n",
              "      <td>0</td>\n",
              "      <td>0</td>\n",
              "      <td>0</td>\n",
              "      <td>0</td>\n",
              "      <td>0</td>\n",
              "      <td>0</td>\n",
              "      <td>0</td>\n",
              "      <td>...</td>\n",
              "      <td>0</td>\n",
              "      <td>0</td>\n",
              "      <td>0</td>\n",
              "      <td>0</td>\n",
              "      <td>0</td>\n",
              "      <td>0</td>\n",
              "      <td>0</td>\n",
              "      <td>0</td>\n",
              "      <td>0</td>\n",
              "      <td>0</td>\n",
              "      <td>0</td>\n",
              "      <td>0</td>\n",
              "      <td>0</td>\n",
              "      <td>0</td>\n",
              "      <td>0</td>\n",
              "      <td>0</td>\n",
              "      <td>0</td>\n",
              "      <td>0</td>\n",
              "      <td>0</td>\n",
              "      <td>0</td>\n",
              "      <td>0</td>\n",
              "      <td>0</td>\n",
              "      <td>0</td>\n",
              "      <td>0</td>\n",
              "      <td>0</td>\n",
              "      <td>0</td>\n",
              "      <td>0</td>\n",
              "      <td>0</td>\n",
              "      <td>1</td>\n",
              "      <td>0</td>\n",
              "      <td>0</td>\n",
              "      <td>0</td>\n",
              "      <td>0</td>\n",
              "      <td>0</td>\n",
              "      <td>0</td>\n",
              "      <td>0</td>\n",
              "      <td>0</td>\n",
              "      <td>2007</td>\n",
              "      <td>5</td>\n",
              "      <td>281</td>\n",
              "    </tr>\n",
              "    <tr>\n",
              "      <th>2</th>\n",
              "      <td>245000000</td>\n",
              "      <td>148</td>\n",
              "      <td>6</td>\n",
              "      <td>880674609</td>\n",
              "      <td>1</td>\n",
              "      <td>0</td>\n",
              "      <td>0</td>\n",
              "      <td>0</td>\n",
              "      <td>0</td>\n",
              "      <td>1</td>\n",
              "      <td>0</td>\n",
              "      <td>0</td>\n",
              "      <td>0</td>\n",
              "      <td>0</td>\n",
              "      <td>1</td>\n",
              "      <td>0</td>\n",
              "      <td>0</td>\n",
              "      <td>0</td>\n",
              "      <td>0</td>\n",
              "      <td>0</td>\n",
              "      <td>0</td>\n",
              "      <td>0</td>\n",
              "      <td>0</td>\n",
              "      <td>0</td>\n",
              "      <td>0</td>\n",
              "      <td>0</td>\n",
              "      <td>0</td>\n",
              "      <td>1</td>\n",
              "      <td>0</td>\n",
              "      <td>0</td>\n",
              "      <td>0</td>\n",
              "      <td>0</td>\n",
              "      <td>0</td>\n",
              "      <td>0</td>\n",
              "      <td>0</td>\n",
              "      <td>0</td>\n",
              "      <td>0</td>\n",
              "      <td>0</td>\n",
              "      <td>0</td>\n",
              "      <td>0</td>\n",
              "      <td>...</td>\n",
              "      <td>0</td>\n",
              "      <td>0</td>\n",
              "      <td>0</td>\n",
              "      <td>0</td>\n",
              "      <td>1</td>\n",
              "      <td>0</td>\n",
              "      <td>0</td>\n",
              "      <td>0</td>\n",
              "      <td>0</td>\n",
              "      <td>0</td>\n",
              "      <td>0</td>\n",
              "      <td>0</td>\n",
              "      <td>0</td>\n",
              "      <td>0</td>\n",
              "      <td>0</td>\n",
              "      <td>0</td>\n",
              "      <td>0</td>\n",
              "      <td>0</td>\n",
              "      <td>0</td>\n",
              "      <td>0</td>\n",
              "      <td>0</td>\n",
              "      <td>0</td>\n",
              "      <td>0</td>\n",
              "      <td>0</td>\n",
              "      <td>0</td>\n",
              "      <td>0</td>\n",
              "      <td>0</td>\n",
              "      <td>0</td>\n",
              "      <td>1</td>\n",
              "      <td>0</td>\n",
              "      <td>0</td>\n",
              "      <td>0</td>\n",
              "      <td>0</td>\n",
              "      <td>0</td>\n",
              "      <td>0</td>\n",
              "      <td>0</td>\n",
              "      <td>0</td>\n",
              "      <td>2015</td>\n",
              "      <td>10</td>\n",
              "      <td>125</td>\n",
              "    </tr>\n",
              "  </tbody>\n",
              "</table>\n",
              "<p>3 rows × 3219 columns</p>\n",
              "</div>"
            ],
            "text/plain": [
              "      budget  runtime  vote_average  ...  year  month  days_for_oscars\n",
              "0  237000000      162             7  ...  2009     12               87\n",
              "1  300000000      169             6  ...  2007      5              281\n",
              "2  245000000      148             6  ...  2015     10              125\n",
              "\n",
              "[3 rows x 3219 columns]"
            ]
          },
          "metadata": {
            "tags": []
          },
          "execution_count": 41
        }
      ]
    },
    {
      "cell_type": "code",
      "metadata": {
        "id": "Z0a-eM9ESgfq",
        "colab_type": "code",
        "colab": {}
      },
      "source": [
        "# New revenue target to avoid negative W(Y)=log(Y) then Y = e^Y\n",
        "\n",
        "data['new_revenue'] = np.log(data['revenue'])"
      ],
      "execution_count": 0,
      "outputs": []
    },
    {
      "cell_type": "code",
      "metadata": {
        "id": "1ACBxP-BbrcS",
        "colab_type": "code",
        "colab": {}
      },
      "source": [
        "x = data.drop(['vote_average','revenue','new_revenue'], axis=1).values\n",
        "\n",
        "y = data['new_revenue'].values"
      ],
      "execution_count": 0,
      "outputs": []
    },
    {
      "cell_type": "code",
      "metadata": {
        "id": "sKYPkXreq-RZ",
        "colab_type": "code",
        "colab": {}
      },
      "source": [
        "from sklearn.model_selection import train_test_split\n",
        "\n",
        "X_train, X_test, y_train, y_test = train_test_split(x, y, test_size=0.2, random_state=1996)"
      ],
      "execution_count": 0,
      "outputs": []
    },
    {
      "cell_type": "code",
      "metadata": {
        "id": "7az5F5si6YTG",
        "colab_type": "code",
        "colab": {}
      },
      "source": [
        "#from sklearn.preprocessing import StandardScaler\n",
        "#sc = StandardScaler()\n",
        "#X_train = sc.fit_transform(X_train)\n",
        "#X_test = sc.transform(X_test)"
      ],
      "execution_count": 0,
      "outputs": []
    },
    {
      "cell_type": "code",
      "metadata": {
        "id": "IqrIgBuGnqyy",
        "colab_type": "code",
        "colab": {
          "base_uri": "https://localhost:8080/",
          "height": 538
        },
        "outputId": "6622545e-111a-495a-857a-9799fdb66590"
      },
      "source": [
        "from sklearn.model_selection import GridSearchCV\n",
        "import lightgbm as lgb\n",
        "\n",
        "estimator = lgb.LGBMRegressor(metric='l2',boosting='gbdt', objective='regression', max_depth=-1)\n",
        "\n",
        "param_grid = {\n",
        "    'learning_rate': [0.05, 0.1],\n",
        "    'n_estimators': [80,100],\n",
        "    'num_leaves': [20,50,100], \n",
        "    'num_iterations': [100,300],\n",
        "    'feature_fraction': [0.9],\n",
        "    'bagging_fraction': [0.8],\n",
        "    'bagging_freq': [10],\n",
        "}\n",
        "\n",
        "gbm = GridSearchCV(estimator, param_grid, cv=10, verbose=3)\n",
        "grid_result = gbm.fit(X_train, y_train)\n",
        "\n",
        "print('Best parameters found by grid search are:', gbm.best_params_)"
      ],
      "execution_count": 139,
      "outputs": [
        {
          "output_type": "stream",
          "text": [
            "Fitting 10 folds for each of 24 candidates, totalling 240 fits\n",
            "[CV] bagging_fraction=0.8, bagging_freq=10, feature_fraction=0.9, learning_rate=0.05, n_estimators=80, num_iterations=100, num_leaves=20 \n"
          ],
          "name": "stdout"
        },
        {
          "output_type": "stream",
          "text": [
            "[Parallel(n_jobs=1)]: Using backend SequentialBackend with 1 concurrent workers.\n",
            "/usr/local/lib/python3.6/dist-packages/lightgbm/engine.py:118: UserWarning: Found `num_iterations` in params. Will use it instead of argument\n",
            "  warnings.warn(\"Found `{}` in params. Will use it instead of argument\".format(alias))\n",
            "/usr/local/lib/python3.6/dist-packages/sklearn/model_selection/_validation.py:528: FutureWarning: From version 0.22, errors during fit will result in a cross validation score of NaN by default. Use error_score='raise' if you want an exception raised or error_score=np.nan to adopt the behavior from version 0.22.\n",
            "  FutureWarning)\n"
          ],
          "name": "stderr"
        },
        {
          "output_type": "error",
          "ename": "LightGBMError",
          "evalue": "ignored",
          "traceback": [
            "\u001b[0;31m---------------------------------------------------------------------------\u001b[0m",
            "\u001b[0;31mLightGBMError\u001b[0m                             Traceback (most recent call last)",
            "\u001b[0;32m<ipython-input-139-cb34d8c17489>\u001b[0m in \u001b[0;36m<module>\u001b[0;34m()\u001b[0m\n\u001b[1;32m     15\u001b[0m \u001b[0;34m\u001b[0m\u001b[0m\n\u001b[1;32m     16\u001b[0m \u001b[0mgbm\u001b[0m \u001b[0;34m=\u001b[0m \u001b[0mGridSearchCV\u001b[0m\u001b[0;34m(\u001b[0m\u001b[0mestimator\u001b[0m\u001b[0;34m,\u001b[0m \u001b[0mparam_grid\u001b[0m\u001b[0;34m,\u001b[0m \u001b[0mcv\u001b[0m\u001b[0;34m=\u001b[0m\u001b[0;36m10\u001b[0m\u001b[0;34m,\u001b[0m \u001b[0mverbose\u001b[0m\u001b[0;34m=\u001b[0m\u001b[0;36m3\u001b[0m\u001b[0;34m)\u001b[0m\u001b[0;34m\u001b[0m\u001b[0;34m\u001b[0m\u001b[0m\n\u001b[0;32m---> 17\u001b[0;31m \u001b[0mgrid_result\u001b[0m \u001b[0;34m=\u001b[0m \u001b[0mgbm\u001b[0m\u001b[0;34m.\u001b[0m\u001b[0mfit\u001b[0m\u001b[0;34m(\u001b[0m\u001b[0mX_train\u001b[0m\u001b[0;34m,\u001b[0m \u001b[0my_train\u001b[0m\u001b[0;34m)\u001b[0m\u001b[0;34m\u001b[0m\u001b[0;34m\u001b[0m\u001b[0m\n\u001b[0m\u001b[1;32m     18\u001b[0m \u001b[0;34m\u001b[0m\u001b[0m\n\u001b[1;32m     19\u001b[0m \u001b[0mprint\u001b[0m\u001b[0;34m(\u001b[0m\u001b[0;34m'Best parameters found by grid search are:'\u001b[0m\u001b[0;34m,\u001b[0m \u001b[0mgbm\u001b[0m\u001b[0;34m.\u001b[0m\u001b[0mbest_params_\u001b[0m\u001b[0;34m)\u001b[0m\u001b[0;34m\u001b[0m\u001b[0;34m\u001b[0m\u001b[0m\n",
            "\u001b[0;32m/usr/local/lib/python3.6/dist-packages/sklearn/model_selection/_search.py\u001b[0m in \u001b[0;36mfit\u001b[0;34m(self, X, y, groups, **fit_params)\u001b[0m\n\u001b[1;32m    685\u001b[0m                 \u001b[0;32mreturn\u001b[0m \u001b[0mresults\u001b[0m\u001b[0;34m\u001b[0m\u001b[0;34m\u001b[0m\u001b[0m\n\u001b[1;32m    686\u001b[0m \u001b[0;34m\u001b[0m\u001b[0m\n\u001b[0;32m--> 687\u001b[0;31m             \u001b[0mself\u001b[0m\u001b[0;34m.\u001b[0m\u001b[0m_run_search\u001b[0m\u001b[0;34m(\u001b[0m\u001b[0mevaluate_candidates\u001b[0m\u001b[0;34m)\u001b[0m\u001b[0;34m\u001b[0m\u001b[0;34m\u001b[0m\u001b[0m\n\u001b[0m\u001b[1;32m    688\u001b[0m \u001b[0;34m\u001b[0m\u001b[0m\n\u001b[1;32m    689\u001b[0m         \u001b[0;31m# For multi-metric evaluation, store the best_index_, best_params_ and\u001b[0m\u001b[0;34m\u001b[0m\u001b[0;34m\u001b[0m\u001b[0;34m\u001b[0m\u001b[0m\n",
            "\u001b[0;32m/usr/local/lib/python3.6/dist-packages/sklearn/model_selection/_search.py\u001b[0m in \u001b[0;36m_run_search\u001b[0;34m(self, evaluate_candidates)\u001b[0m\n\u001b[1;32m   1146\u001b[0m     \u001b[0;32mdef\u001b[0m \u001b[0m_run_search\u001b[0m\u001b[0;34m(\u001b[0m\u001b[0mself\u001b[0m\u001b[0;34m,\u001b[0m \u001b[0mevaluate_candidates\u001b[0m\u001b[0;34m)\u001b[0m\u001b[0;34m:\u001b[0m\u001b[0;34m\u001b[0m\u001b[0;34m\u001b[0m\u001b[0m\n\u001b[1;32m   1147\u001b[0m         \u001b[0;34m\"\"\"Search all candidates in param_grid\"\"\"\u001b[0m\u001b[0;34m\u001b[0m\u001b[0;34m\u001b[0m\u001b[0m\n\u001b[0;32m-> 1148\u001b[0;31m         \u001b[0mevaluate_candidates\u001b[0m\u001b[0;34m(\u001b[0m\u001b[0mParameterGrid\u001b[0m\u001b[0;34m(\u001b[0m\u001b[0mself\u001b[0m\u001b[0;34m.\u001b[0m\u001b[0mparam_grid\u001b[0m\u001b[0;34m)\u001b[0m\u001b[0;34m)\u001b[0m\u001b[0;34m\u001b[0m\u001b[0;34m\u001b[0m\u001b[0m\n\u001b[0m\u001b[1;32m   1149\u001b[0m \u001b[0;34m\u001b[0m\u001b[0m\n\u001b[1;32m   1150\u001b[0m \u001b[0;34m\u001b[0m\u001b[0m\n",
            "\u001b[0;32m/usr/local/lib/python3.6/dist-packages/sklearn/model_selection/_search.py\u001b[0m in \u001b[0;36mevaluate_candidates\u001b[0;34m(candidate_params)\u001b[0m\n\u001b[1;32m    664\u001b[0m                                \u001b[0;32mfor\u001b[0m \u001b[0mparameters\u001b[0m\u001b[0;34m,\u001b[0m \u001b[0;34m(\u001b[0m\u001b[0mtrain\u001b[0m\u001b[0;34m,\u001b[0m \u001b[0mtest\u001b[0m\u001b[0;34m)\u001b[0m\u001b[0;34m\u001b[0m\u001b[0;34m\u001b[0m\u001b[0m\n\u001b[1;32m    665\u001b[0m                                in product(candidate_params,\n\u001b[0;32m--> 666\u001b[0;31m                                           cv.split(X, y, groups)))\n\u001b[0m\u001b[1;32m    667\u001b[0m \u001b[0;34m\u001b[0m\u001b[0m\n\u001b[1;32m    668\u001b[0m                 \u001b[0;32mif\u001b[0m \u001b[0mlen\u001b[0m\u001b[0;34m(\u001b[0m\u001b[0mout\u001b[0m\u001b[0;34m)\u001b[0m \u001b[0;34m<\u001b[0m \u001b[0;36m1\u001b[0m\u001b[0;34m:\u001b[0m\u001b[0;34m\u001b[0m\u001b[0;34m\u001b[0m\u001b[0m\n",
            "\u001b[0;32m/usr/local/lib/python3.6/dist-packages/joblib/parallel.py\u001b[0m in \u001b[0;36m__call__\u001b[0;34m(self, iterable)\u001b[0m\n\u001b[1;32m    919\u001b[0m             \u001b[0;31m# remaining jobs.\u001b[0m\u001b[0;34m\u001b[0m\u001b[0;34m\u001b[0m\u001b[0;34m\u001b[0m\u001b[0m\n\u001b[1;32m    920\u001b[0m             \u001b[0mself\u001b[0m\u001b[0;34m.\u001b[0m\u001b[0m_iterating\u001b[0m \u001b[0;34m=\u001b[0m \u001b[0;32mFalse\u001b[0m\u001b[0;34m\u001b[0m\u001b[0;34m\u001b[0m\u001b[0m\n\u001b[0;32m--> 921\u001b[0;31m             \u001b[0;32mif\u001b[0m \u001b[0mself\u001b[0m\u001b[0;34m.\u001b[0m\u001b[0mdispatch_one_batch\u001b[0m\u001b[0;34m(\u001b[0m\u001b[0miterator\u001b[0m\u001b[0;34m)\u001b[0m\u001b[0;34m:\u001b[0m\u001b[0;34m\u001b[0m\u001b[0;34m\u001b[0m\u001b[0m\n\u001b[0m\u001b[1;32m    922\u001b[0m                 \u001b[0mself\u001b[0m\u001b[0;34m.\u001b[0m\u001b[0m_iterating\u001b[0m \u001b[0;34m=\u001b[0m \u001b[0mself\u001b[0m\u001b[0;34m.\u001b[0m\u001b[0m_original_iterator\u001b[0m \u001b[0;32mis\u001b[0m \u001b[0;32mnot\u001b[0m \u001b[0;32mNone\u001b[0m\u001b[0;34m\u001b[0m\u001b[0;34m\u001b[0m\u001b[0m\n\u001b[1;32m    923\u001b[0m \u001b[0;34m\u001b[0m\u001b[0m\n",
            "\u001b[0;32m/usr/local/lib/python3.6/dist-packages/joblib/parallel.py\u001b[0m in \u001b[0;36mdispatch_one_batch\u001b[0;34m(self, iterator)\u001b[0m\n\u001b[1;32m    757\u001b[0m                 \u001b[0;32mreturn\u001b[0m \u001b[0;32mFalse\u001b[0m\u001b[0;34m\u001b[0m\u001b[0;34m\u001b[0m\u001b[0m\n\u001b[1;32m    758\u001b[0m             \u001b[0;32melse\u001b[0m\u001b[0;34m:\u001b[0m\u001b[0;34m\u001b[0m\u001b[0;34m\u001b[0m\u001b[0m\n\u001b[0;32m--> 759\u001b[0;31m                 \u001b[0mself\u001b[0m\u001b[0;34m.\u001b[0m\u001b[0m_dispatch\u001b[0m\u001b[0;34m(\u001b[0m\u001b[0mtasks\u001b[0m\u001b[0;34m)\u001b[0m\u001b[0;34m\u001b[0m\u001b[0;34m\u001b[0m\u001b[0m\n\u001b[0m\u001b[1;32m    760\u001b[0m                 \u001b[0;32mreturn\u001b[0m \u001b[0;32mTrue\u001b[0m\u001b[0;34m\u001b[0m\u001b[0;34m\u001b[0m\u001b[0m\n\u001b[1;32m    761\u001b[0m \u001b[0;34m\u001b[0m\u001b[0m\n",
            "\u001b[0;32m/usr/local/lib/python3.6/dist-packages/joblib/parallel.py\u001b[0m in \u001b[0;36m_dispatch\u001b[0;34m(self, batch)\u001b[0m\n\u001b[1;32m    714\u001b[0m         \u001b[0;32mwith\u001b[0m \u001b[0mself\u001b[0m\u001b[0;34m.\u001b[0m\u001b[0m_lock\u001b[0m\u001b[0;34m:\u001b[0m\u001b[0;34m\u001b[0m\u001b[0;34m\u001b[0m\u001b[0m\n\u001b[1;32m    715\u001b[0m             \u001b[0mjob_idx\u001b[0m \u001b[0;34m=\u001b[0m \u001b[0mlen\u001b[0m\u001b[0;34m(\u001b[0m\u001b[0mself\u001b[0m\u001b[0;34m.\u001b[0m\u001b[0m_jobs\u001b[0m\u001b[0;34m)\u001b[0m\u001b[0;34m\u001b[0m\u001b[0;34m\u001b[0m\u001b[0m\n\u001b[0;32m--> 716\u001b[0;31m             \u001b[0mjob\u001b[0m \u001b[0;34m=\u001b[0m \u001b[0mself\u001b[0m\u001b[0;34m.\u001b[0m\u001b[0m_backend\u001b[0m\u001b[0;34m.\u001b[0m\u001b[0mapply_async\u001b[0m\u001b[0;34m(\u001b[0m\u001b[0mbatch\u001b[0m\u001b[0;34m,\u001b[0m \u001b[0mcallback\u001b[0m\u001b[0;34m=\u001b[0m\u001b[0mcb\u001b[0m\u001b[0;34m)\u001b[0m\u001b[0;34m\u001b[0m\u001b[0;34m\u001b[0m\u001b[0m\n\u001b[0m\u001b[1;32m    717\u001b[0m             \u001b[0;31m# A job can complete so quickly than its callback is\u001b[0m\u001b[0;34m\u001b[0m\u001b[0;34m\u001b[0m\u001b[0;34m\u001b[0m\u001b[0m\n\u001b[1;32m    718\u001b[0m             \u001b[0;31m# called before we get here, causing self._jobs to\u001b[0m\u001b[0;34m\u001b[0m\u001b[0;34m\u001b[0m\u001b[0;34m\u001b[0m\u001b[0m\n",
            "\u001b[0;32m/usr/local/lib/python3.6/dist-packages/joblib/_parallel_backends.py\u001b[0m in \u001b[0;36mapply_async\u001b[0;34m(self, func, callback)\u001b[0m\n\u001b[1;32m    180\u001b[0m     \u001b[0;32mdef\u001b[0m \u001b[0mapply_async\u001b[0m\u001b[0;34m(\u001b[0m\u001b[0mself\u001b[0m\u001b[0;34m,\u001b[0m \u001b[0mfunc\u001b[0m\u001b[0;34m,\u001b[0m \u001b[0mcallback\u001b[0m\u001b[0;34m=\u001b[0m\u001b[0;32mNone\u001b[0m\u001b[0;34m)\u001b[0m\u001b[0;34m:\u001b[0m\u001b[0;34m\u001b[0m\u001b[0;34m\u001b[0m\u001b[0m\n\u001b[1;32m    181\u001b[0m         \u001b[0;34m\"\"\"Schedule a func to be run\"\"\"\u001b[0m\u001b[0;34m\u001b[0m\u001b[0;34m\u001b[0m\u001b[0m\n\u001b[0;32m--> 182\u001b[0;31m         \u001b[0mresult\u001b[0m \u001b[0;34m=\u001b[0m \u001b[0mImmediateResult\u001b[0m\u001b[0;34m(\u001b[0m\u001b[0mfunc\u001b[0m\u001b[0;34m)\u001b[0m\u001b[0;34m\u001b[0m\u001b[0;34m\u001b[0m\u001b[0m\n\u001b[0m\u001b[1;32m    183\u001b[0m         \u001b[0;32mif\u001b[0m \u001b[0mcallback\u001b[0m\u001b[0;34m:\u001b[0m\u001b[0;34m\u001b[0m\u001b[0;34m\u001b[0m\u001b[0m\n\u001b[1;32m    184\u001b[0m             \u001b[0mcallback\u001b[0m\u001b[0;34m(\u001b[0m\u001b[0mresult\u001b[0m\u001b[0;34m)\u001b[0m\u001b[0;34m\u001b[0m\u001b[0;34m\u001b[0m\u001b[0m\n",
            "\u001b[0;32m/usr/local/lib/python3.6/dist-packages/joblib/_parallel_backends.py\u001b[0m in \u001b[0;36m__init__\u001b[0;34m(self, batch)\u001b[0m\n\u001b[1;32m    547\u001b[0m         \u001b[0;31m# Don't delay the application, to avoid keeping the input\u001b[0m\u001b[0;34m\u001b[0m\u001b[0;34m\u001b[0m\u001b[0;34m\u001b[0m\u001b[0m\n\u001b[1;32m    548\u001b[0m         \u001b[0;31m# arguments in memory\u001b[0m\u001b[0;34m\u001b[0m\u001b[0;34m\u001b[0m\u001b[0;34m\u001b[0m\u001b[0m\n\u001b[0;32m--> 549\u001b[0;31m         \u001b[0mself\u001b[0m\u001b[0;34m.\u001b[0m\u001b[0mresults\u001b[0m \u001b[0;34m=\u001b[0m \u001b[0mbatch\u001b[0m\u001b[0;34m(\u001b[0m\u001b[0;34m)\u001b[0m\u001b[0;34m\u001b[0m\u001b[0;34m\u001b[0m\u001b[0m\n\u001b[0m\u001b[1;32m    550\u001b[0m \u001b[0;34m\u001b[0m\u001b[0m\n\u001b[1;32m    551\u001b[0m     \u001b[0;32mdef\u001b[0m \u001b[0mget\u001b[0m\u001b[0;34m(\u001b[0m\u001b[0mself\u001b[0m\u001b[0;34m)\u001b[0m\u001b[0;34m:\u001b[0m\u001b[0;34m\u001b[0m\u001b[0;34m\u001b[0m\u001b[0m\n",
            "\u001b[0;32m/usr/local/lib/python3.6/dist-packages/joblib/parallel.py\u001b[0m in \u001b[0;36m__call__\u001b[0;34m(self)\u001b[0m\n\u001b[1;32m    223\u001b[0m         \u001b[0;32mwith\u001b[0m \u001b[0mparallel_backend\u001b[0m\u001b[0;34m(\u001b[0m\u001b[0mself\u001b[0m\u001b[0;34m.\u001b[0m\u001b[0m_backend\u001b[0m\u001b[0;34m,\u001b[0m \u001b[0mn_jobs\u001b[0m\u001b[0;34m=\u001b[0m\u001b[0mself\u001b[0m\u001b[0;34m.\u001b[0m\u001b[0m_n_jobs\u001b[0m\u001b[0;34m)\u001b[0m\u001b[0;34m:\u001b[0m\u001b[0;34m\u001b[0m\u001b[0;34m\u001b[0m\u001b[0m\n\u001b[1;32m    224\u001b[0m             return [func(*args, **kwargs)\n\u001b[0;32m--> 225\u001b[0;31m                     for func, args, kwargs in self.items]\n\u001b[0m\u001b[1;32m    226\u001b[0m \u001b[0;34m\u001b[0m\u001b[0m\n\u001b[1;32m    227\u001b[0m     \u001b[0;32mdef\u001b[0m \u001b[0m__len__\u001b[0m\u001b[0;34m(\u001b[0m\u001b[0mself\u001b[0m\u001b[0;34m)\u001b[0m\u001b[0;34m:\u001b[0m\u001b[0;34m\u001b[0m\u001b[0;34m\u001b[0m\u001b[0m\n",
            "\u001b[0;32m/usr/local/lib/python3.6/dist-packages/joblib/parallel.py\u001b[0m in \u001b[0;36m<listcomp>\u001b[0;34m(.0)\u001b[0m\n\u001b[1;32m    223\u001b[0m         \u001b[0;32mwith\u001b[0m \u001b[0mparallel_backend\u001b[0m\u001b[0;34m(\u001b[0m\u001b[0mself\u001b[0m\u001b[0;34m.\u001b[0m\u001b[0m_backend\u001b[0m\u001b[0;34m,\u001b[0m \u001b[0mn_jobs\u001b[0m\u001b[0;34m=\u001b[0m\u001b[0mself\u001b[0m\u001b[0;34m.\u001b[0m\u001b[0m_n_jobs\u001b[0m\u001b[0;34m)\u001b[0m\u001b[0;34m:\u001b[0m\u001b[0;34m\u001b[0m\u001b[0;34m\u001b[0m\u001b[0m\n\u001b[1;32m    224\u001b[0m             return [func(*args, **kwargs)\n\u001b[0;32m--> 225\u001b[0;31m                     for func, args, kwargs in self.items]\n\u001b[0m\u001b[1;32m    226\u001b[0m \u001b[0;34m\u001b[0m\u001b[0m\n\u001b[1;32m    227\u001b[0m     \u001b[0;32mdef\u001b[0m \u001b[0m__len__\u001b[0m\u001b[0;34m(\u001b[0m\u001b[0mself\u001b[0m\u001b[0;34m)\u001b[0m\u001b[0;34m:\u001b[0m\u001b[0;34m\u001b[0m\u001b[0;34m\u001b[0m\u001b[0m\n",
            "\u001b[0;32m/usr/local/lib/python3.6/dist-packages/sklearn/model_selection/_validation.py\u001b[0m in \u001b[0;36m_fit_and_score\u001b[0;34m(estimator, X, y, scorer, train, test, verbose, parameters, fit_params, return_train_score, return_parameters, return_n_test_samples, return_times, return_estimator, error_score)\u001b[0m\n\u001b[1;32m    512\u001b[0m             \u001b[0mestimator\u001b[0m\u001b[0;34m.\u001b[0m\u001b[0mfit\u001b[0m\u001b[0;34m(\u001b[0m\u001b[0mX_train\u001b[0m\u001b[0;34m,\u001b[0m \u001b[0;34m**\u001b[0m\u001b[0mfit_params\u001b[0m\u001b[0;34m)\u001b[0m\u001b[0;34m\u001b[0m\u001b[0;34m\u001b[0m\u001b[0m\n\u001b[1;32m    513\u001b[0m         \u001b[0;32melse\u001b[0m\u001b[0;34m:\u001b[0m\u001b[0;34m\u001b[0m\u001b[0;34m\u001b[0m\u001b[0m\n\u001b[0;32m--> 514\u001b[0;31m             \u001b[0mestimator\u001b[0m\u001b[0;34m.\u001b[0m\u001b[0mfit\u001b[0m\u001b[0;34m(\u001b[0m\u001b[0mX_train\u001b[0m\u001b[0;34m,\u001b[0m \u001b[0my_train\u001b[0m\u001b[0;34m,\u001b[0m \u001b[0;34m**\u001b[0m\u001b[0mfit_params\u001b[0m\u001b[0;34m)\u001b[0m\u001b[0;34m\u001b[0m\u001b[0;34m\u001b[0m\u001b[0m\n\u001b[0m\u001b[1;32m    515\u001b[0m \u001b[0;34m\u001b[0m\u001b[0m\n\u001b[1;32m    516\u001b[0m     \u001b[0;32mexcept\u001b[0m \u001b[0mException\u001b[0m \u001b[0;32mas\u001b[0m \u001b[0me\u001b[0m\u001b[0;34m:\u001b[0m\u001b[0;34m\u001b[0m\u001b[0;34m\u001b[0m\u001b[0m\n",
            "\u001b[0;32m/usr/local/lib/python3.6/dist-packages/lightgbm/sklearn.py\u001b[0m in \u001b[0;36mfit\u001b[0;34m(self, X, y, sample_weight, init_score, eval_set, eval_names, eval_sample_weight, eval_init_score, eval_metric, early_stopping_rounds, verbose, feature_name, categorical_feature, callbacks)\u001b[0m\n\u001b[1;32m    683\u001b[0m                                        \u001b[0mverbose\u001b[0m\u001b[0;34m=\u001b[0m\u001b[0mverbose\u001b[0m\u001b[0;34m,\u001b[0m \u001b[0mfeature_name\u001b[0m\u001b[0;34m=\u001b[0m\u001b[0mfeature_name\u001b[0m\u001b[0;34m,\u001b[0m\u001b[0;34m\u001b[0m\u001b[0;34m\u001b[0m\u001b[0m\n\u001b[1;32m    684\u001b[0m                                        \u001b[0mcategorical_feature\u001b[0m\u001b[0;34m=\u001b[0m\u001b[0mcategorical_feature\u001b[0m\u001b[0;34m,\u001b[0m\u001b[0;34m\u001b[0m\u001b[0;34m\u001b[0m\u001b[0m\n\u001b[0;32m--> 685\u001b[0;31m                                        callbacks=callbacks)\n\u001b[0m\u001b[1;32m    686\u001b[0m         \u001b[0;32mreturn\u001b[0m \u001b[0mself\u001b[0m\u001b[0;34m\u001b[0m\u001b[0;34m\u001b[0m\u001b[0m\n\u001b[1;32m    687\u001b[0m \u001b[0;34m\u001b[0m\u001b[0m\n",
            "\u001b[0;32m/usr/local/lib/python3.6/dist-packages/lightgbm/sklearn.py\u001b[0m in \u001b[0;36mfit\u001b[0;34m(self, X, y, sample_weight, init_score, group, eval_set, eval_names, eval_sample_weight, eval_class_weight, eval_init_score, eval_group, eval_metric, early_stopping_rounds, verbose, feature_name, categorical_feature, callbacks)\u001b[0m\n\u001b[1;32m    542\u001b[0m                               \u001b[0mverbose_eval\u001b[0m\u001b[0;34m=\u001b[0m\u001b[0mverbose\u001b[0m\u001b[0;34m,\u001b[0m \u001b[0mfeature_name\u001b[0m\u001b[0;34m=\u001b[0m\u001b[0mfeature_name\u001b[0m\u001b[0;34m,\u001b[0m\u001b[0;34m\u001b[0m\u001b[0;34m\u001b[0m\u001b[0m\n\u001b[1;32m    543\u001b[0m                               \u001b[0mcategorical_feature\u001b[0m\u001b[0;34m=\u001b[0m\u001b[0mcategorical_feature\u001b[0m\u001b[0;34m,\u001b[0m\u001b[0;34m\u001b[0m\u001b[0;34m\u001b[0m\u001b[0m\n\u001b[0;32m--> 544\u001b[0;31m                               callbacks=callbacks)\n\u001b[0m\u001b[1;32m    545\u001b[0m \u001b[0;34m\u001b[0m\u001b[0m\n\u001b[1;32m    546\u001b[0m         \u001b[0;32mif\u001b[0m \u001b[0mevals_result\u001b[0m\u001b[0;34m:\u001b[0m\u001b[0;34m\u001b[0m\u001b[0;34m\u001b[0m\u001b[0m\n",
            "\u001b[0;32m/usr/local/lib/python3.6/dist-packages/lightgbm/engine.py\u001b[0m in \u001b[0;36mtrain\u001b[0;34m(params, train_set, num_boost_round, valid_sets, valid_names, fobj, feval, init_model, feature_name, categorical_feature, early_stopping_rounds, evals_result, verbose_eval, learning_rates, keep_training_booster, callbacks)\u001b[0m\n\u001b[1;32m    195\u001b[0m     \u001b[0;31m# construct booster\u001b[0m\u001b[0;34m\u001b[0m\u001b[0;34m\u001b[0m\u001b[0;34m\u001b[0m\u001b[0m\n\u001b[1;32m    196\u001b[0m     \u001b[0;32mtry\u001b[0m\u001b[0;34m:\u001b[0m\u001b[0;34m\u001b[0m\u001b[0;34m\u001b[0m\u001b[0m\n\u001b[0;32m--> 197\u001b[0;31m         \u001b[0mbooster\u001b[0m \u001b[0;34m=\u001b[0m \u001b[0mBooster\u001b[0m\u001b[0;34m(\u001b[0m\u001b[0mparams\u001b[0m\u001b[0;34m=\u001b[0m\u001b[0mparams\u001b[0m\u001b[0;34m,\u001b[0m \u001b[0mtrain_set\u001b[0m\u001b[0;34m=\u001b[0m\u001b[0mtrain_set\u001b[0m\u001b[0;34m)\u001b[0m\u001b[0;34m\u001b[0m\u001b[0;34m\u001b[0m\u001b[0m\n\u001b[0m\u001b[1;32m    198\u001b[0m         \u001b[0;32mif\u001b[0m \u001b[0mis_valid_contain_train\u001b[0m\u001b[0;34m:\u001b[0m\u001b[0;34m\u001b[0m\u001b[0;34m\u001b[0m\u001b[0m\n\u001b[1;32m    199\u001b[0m             \u001b[0mbooster\u001b[0m\u001b[0;34m.\u001b[0m\u001b[0mset_train_data_name\u001b[0m\u001b[0;34m(\u001b[0m\u001b[0mtrain_data_name\u001b[0m\u001b[0;34m)\u001b[0m\u001b[0;34m\u001b[0m\u001b[0;34m\u001b[0m\u001b[0m\n",
            "\u001b[0;32m/usr/local/lib/python3.6/dist-packages/lightgbm/basic.py\u001b[0m in \u001b[0;36m__init__\u001b[0;34m(self, params, train_set, model_file, silent)\u001b[0m\n\u001b[1;32m   1552\u001b[0m                 \u001b[0mtrain_set\u001b[0m\u001b[0;34m.\u001b[0m\u001b[0mconstruct\u001b[0m\u001b[0;34m(\u001b[0m\u001b[0;34m)\u001b[0m\u001b[0;34m.\u001b[0m\u001b[0mhandle\u001b[0m\u001b[0;34m,\u001b[0m\u001b[0;34m\u001b[0m\u001b[0;34m\u001b[0m\u001b[0m\n\u001b[1;32m   1553\u001b[0m                 \u001b[0mc_str\u001b[0m\u001b[0;34m(\u001b[0m\u001b[0mparams_str\u001b[0m\u001b[0;34m)\u001b[0m\u001b[0;34m,\u001b[0m\u001b[0;34m\u001b[0m\u001b[0;34m\u001b[0m\u001b[0m\n\u001b[0;32m-> 1554\u001b[0;31m                 ctypes.byref(self.handle)))\n\u001b[0m\u001b[1;32m   1555\u001b[0m             \u001b[0;31m# save reference to data\u001b[0m\u001b[0;34m\u001b[0m\u001b[0;34m\u001b[0m\u001b[0;34m\u001b[0m\u001b[0m\n\u001b[1;32m   1556\u001b[0m             \u001b[0mself\u001b[0m\u001b[0;34m.\u001b[0m\u001b[0mtrain_set\u001b[0m \u001b[0;34m=\u001b[0m \u001b[0mtrain_set\u001b[0m\u001b[0;34m\u001b[0m\u001b[0;34m\u001b[0m\u001b[0m\n",
            "\u001b[0;32m/usr/local/lib/python3.6/dist-packages/lightgbm/basic.py\u001b[0m in \u001b[0;36m_safe_call\u001b[0;34m(ret)\u001b[0m\n\u001b[1;32m     44\u001b[0m     \"\"\"\n\u001b[1;32m     45\u001b[0m     \u001b[0;32mif\u001b[0m \u001b[0mret\u001b[0m \u001b[0;34m!=\u001b[0m \u001b[0;36m0\u001b[0m\u001b[0;34m:\u001b[0m\u001b[0;34m\u001b[0m\u001b[0;34m\u001b[0m\u001b[0m\n\u001b[0;32m---> 46\u001b[0;31m         \u001b[0;32mraise\u001b[0m \u001b[0mLightGBMError\u001b[0m\u001b[0;34m(\u001b[0m\u001b[0mdecode_string\u001b[0m\u001b[0;34m(\u001b[0m\u001b[0m_LIB\u001b[0m\u001b[0;34m.\u001b[0m\u001b[0mLGBM_GetLastError\u001b[0m\u001b[0;34m(\u001b[0m\u001b[0;34m)\u001b[0m\u001b[0;34m)\u001b[0m\u001b[0;34m)\u001b[0m\u001b[0;34m\u001b[0m\u001b[0;34m\u001b[0m\u001b[0m\n\u001b[0m\u001b[1;32m     47\u001b[0m \u001b[0;34m\u001b[0m\u001b[0m\n\u001b[1;32m     48\u001b[0m \u001b[0;34m\u001b[0m\u001b[0m\n",
            "\u001b[0;31mLightGBMError\u001b[0m: GPU Tree Learner was not enabled in this build.\nPlease recompile with CMake option -DUSE_GPU=1"
          ]
        }
      ]
    },
    {
      "cell_type": "code",
      "metadata": {
        "id": "kaTEgTRZuj8B",
        "colab_type": "code",
        "colab": {
          "base_uri": "https://localhost:8080/",
          "height": 451
        },
        "outputId": "49b4b844-ccf0-405b-b6d3-788db02d65ee"
      },
      "source": [
        " # summarize results\n",
        "means = pd.DataFrame(grid_result.cv_results_['mean_test_score'], columns = ['Mean'] )\n",
        "stds = pd.DataFrame(grid_result.cv_results_['std_test_score'], columns = ['SD'])\n",
        "params = pd.DataFrame(grid_result.cv_results_['params'])\n",
        "\n",
        "result = pd.concat([means, stds, params],axis = 1).sort_values(by=['Mean'], ascending=False)\n",
        "print(result.to_string(index=False))"
      ],
      "execution_count": 138,
      "outputs": [
        {
          "output_type": "stream",
          "text": [
            "     Mean        SD  bagging_fraction  bagging_freq  feature_fraction  learning_rate  n_estimators  num_iterations  num_leaves\n",
            " 0.409354  0.059246               0.8            10               0.9           0.05            80             100          20\n",
            " 0.409354  0.059246               0.8            10               0.9           0.05           100             100          20\n",
            " 0.399608  0.060769               0.8            10               0.9           0.05            80             100          50\n",
            " 0.399608  0.060769               0.8            10               0.9           0.05           100             100          50\n",
            " 0.397898  0.058611               0.8            10               0.9           0.05            80             100         100\n",
            " 0.397898  0.058611               0.8            10               0.9           0.05           100             100         100\n",
            " 0.391447  0.066676               0.8            10               0.9           0.05           100             300          20\n",
            " 0.391447  0.066676               0.8            10               0.9           0.05            80             300          20\n",
            " 0.389401  0.058052               0.8            10               0.9           0.10           100             100          20\n",
            " 0.389401  0.058052               0.8            10               0.9           0.10            80             100          20\n",
            " 0.368468  0.063521               0.8            10               0.9           0.10            80             100          50\n",
            " 0.368468  0.063521               0.8            10               0.9           0.10           100             100          50\n",
            " 0.363670  0.066344               0.8            10               0.9           0.05           100             300         100\n",
            " 0.363670  0.066344               0.8            10               0.9           0.05            80             300         100\n",
            " 0.363119  0.071244               0.8            10               0.9           0.05           100             300          50\n",
            " 0.363119  0.071244               0.8            10               0.9           0.05            80             300          50\n",
            " 0.358386  0.064355               0.8            10               0.9           0.10            80             100         100\n",
            " 0.358386  0.064355               0.8            10               0.9           0.10           100             100         100\n",
            " 0.355652  0.064150               0.8            10               0.9           0.10            80             300          20\n",
            " 0.355652  0.064150               0.8            10               0.9           0.10           100             300          20\n",
            " 0.322133  0.073328               0.8            10               0.9           0.10            80             300          50\n",
            " 0.322133  0.073328               0.8            10               0.9           0.10           100             300          50\n",
            " 0.304769  0.076135               0.8            10               0.9           0.10            80             300         100\n",
            " 0.304769  0.076135               0.8            10               0.9           0.10           100             300         100\n"
          ],
          "name": "stdout"
        }
      ]
    },
    {
      "cell_type": "code",
      "metadata": {
        "id": "4yz6yL68PnRa",
        "colab_type": "code",
        "outputId": "81432e7e-ef32-4561-a8f0-97b6d4e60c19",
        "colab": {
          "base_uri": "https://localhost:8080/",
          "height": 34
        }
      },
      "source": [
        "from sklearn.metrics import mean_squared_error\n",
        "\n",
        "y_pred = gbm.predict(X_test)\n",
        "\n",
        "y_pred = np.exp(y_pred).astype(int)\n",
        "y_test_ok = np.exp(y_test).astype(int)\n",
        "\n",
        "print('The rmse of prediction is:', mean_squared_error(y_test_ok, y_pred) ** 0.5)"
      ],
      "execution_count": 137,
      "outputs": [
        {
          "output_type": "stream",
          "text": [
            "The rmse of prediction is: 141653762.2880602\n"
          ],
          "name": "stdout"
        }
      ]
    },
    {
      "cell_type": "code",
      "metadata": {
        "id": "dahbAiI3OXG5",
        "colab_type": "code",
        "colab": {}
      },
      "source": [
        "lgb_train = lgb.Dataset(X_train, y_train)\n",
        "lgb_eval = lgb.Dataset(X_test, y_test, reference=lgb_train)\n",
        "\n",
        "gbm = lgb.train(gbm.best_params_,\n",
        "                lgb_train,\n",
        "                num_boost_round=600,\n",
        "                valid_sets=lgb_eval)\n"
      ],
      "execution_count": 0,
      "outputs": []
    },
    {
      "cell_type": "code",
      "metadata": {
        "id": "AXr7TSzC2vWR",
        "colab_type": "code",
        "colab": {}
      },
      "source": [
        "result = {'real': y_test_ok,\n",
        "         'pred': y_pred,\n",
        "         'diff': y_pred - y_test_ok}\n",
        "\n",
        "result = pd.DataFrame(result)"
      ],
      "execution_count": 0,
      "outputs": []
    },
    {
      "cell_type": "code",
      "metadata": {
        "id": "TAsHVt743P_i",
        "colab_type": "code",
        "outputId": "d2ff1254-a7aa-46c1-ac71-ef2298b7c40a",
        "colab": {
          "base_uri": "https://localhost:8080/",
          "height": 1618
        }
      },
      "source": [
        "result.head(50)"
      ],
      "execution_count": 135,
      "outputs": [
        {
          "output_type": "execute_result",
          "data": {
            "text/html": [
              "<div>\n",
              "<style scoped>\n",
              "    .dataframe tbody tr th:only-of-type {\n",
              "        vertical-align: middle;\n",
              "    }\n",
              "\n",
              "    .dataframe tbody tr th {\n",
              "        vertical-align: top;\n",
              "    }\n",
              "\n",
              "    .dataframe thead th {\n",
              "        text-align: right;\n",
              "    }\n",
              "</style>\n",
              "<table border=\"1\" class=\"dataframe\">\n",
              "  <thead>\n",
              "    <tr style=\"text-align: right;\">\n",
              "      <th></th>\n",
              "      <th>real</th>\n",
              "      <th>pred</th>\n",
              "      <th>diff</th>\n",
              "    </tr>\n",
              "  </thead>\n",
              "  <tbody>\n",
              "    <tr>\n",
              "      <th>0</th>\n",
              "      <td>32801173</td>\n",
              "      <td>26010145</td>\n",
              "      <td>-6791028</td>\n",
              "    </tr>\n",
              "    <tr>\n",
              "      <th>1</th>\n",
              "      <td>1519557909</td>\n",
              "      <td>522145893</td>\n",
              "      <td>-997412016</td>\n",
              "    </tr>\n",
              "    <tr>\n",
              "      <th>2</th>\n",
              "      <td>35097815</td>\n",
              "      <td>26568407</td>\n",
              "      <td>-8529408</td>\n",
              "    </tr>\n",
              "    <tr>\n",
              "      <th>3</th>\n",
              "      <td>165615284</td>\n",
              "      <td>102518460</td>\n",
              "      <td>-63096824</td>\n",
              "    </tr>\n",
              "    <tr>\n",
              "      <th>4</th>\n",
              "      <td>75993060</td>\n",
              "      <td>8652678</td>\n",
              "      <td>-67340382</td>\n",
              "    </tr>\n",
              "    <tr>\n",
              "      <th>5</th>\n",
              "      <td>235926552</td>\n",
              "      <td>477399957</td>\n",
              "      <td>241473405</td>\n",
              "    </tr>\n",
              "    <tr>\n",
              "      <th>6</th>\n",
              "      <td>64088552</td>\n",
              "      <td>32189380</td>\n",
              "      <td>-31899172</td>\n",
              "    </tr>\n",
              "    <tr>\n",
              "      <th>7</th>\n",
              "      <td>17986780</td>\n",
              "      <td>3324107</td>\n",
              "      <td>-14662673</td>\n",
              "    </tr>\n",
              "    <tr>\n",
              "      <th>8</th>\n",
              "      <td>71073932</td>\n",
              "      <td>95025261</td>\n",
              "      <td>23951329</td>\n",
              "    </tr>\n",
              "    <tr>\n",
              "      <th>9</th>\n",
              "      <td>52882018</td>\n",
              "      <td>25573183</td>\n",
              "      <td>-27308835</td>\n",
              "    </tr>\n",
              "    <tr>\n",
              "      <th>10</th>\n",
              "      <td>8801940</td>\n",
              "      <td>36066760</td>\n",
              "      <td>27264820</td>\n",
              "    </tr>\n",
              "    <tr>\n",
              "      <th>11</th>\n",
              "      <td>77628264</td>\n",
              "      <td>129641239</td>\n",
              "      <td>52012975</td>\n",
              "    </tr>\n",
              "    <tr>\n",
              "      <th>12</th>\n",
              "      <td>303025485</td>\n",
              "      <td>472745682</td>\n",
              "      <td>169720197</td>\n",
              "    </tr>\n",
              "    <tr>\n",
              "      <th>13</th>\n",
              "      <td>287506193</td>\n",
              "      <td>74061858</td>\n",
              "      <td>-213444335</td>\n",
              "    </tr>\n",
              "    <tr>\n",
              "      <th>14</th>\n",
              "      <td>10848782</td>\n",
              "      <td>7422179</td>\n",
              "      <td>-3426603</td>\n",
              "    </tr>\n",
              "    <tr>\n",
              "      <th>15</th>\n",
              "      <td>2365467</td>\n",
              "      <td>11795500</td>\n",
              "      <td>9430033</td>\n",
              "    </tr>\n",
              "    <tr>\n",
              "      <th>16</th>\n",
              "      <td>67347012</td>\n",
              "      <td>94751414</td>\n",
              "      <td>27404402</td>\n",
              "    </tr>\n",
              "    <tr>\n",
              "      <th>17</th>\n",
              "      <td>3202000</td>\n",
              "      <td>8452785</td>\n",
              "      <td>5250785</td>\n",
              "    </tr>\n",
              "    <tr>\n",
              "      <th>18</th>\n",
              "      <td>1237615</td>\n",
              "      <td>4614366</td>\n",
              "      <td>3376751</td>\n",
              "    </tr>\n",
              "    <tr>\n",
              "      <th>19</th>\n",
              "      <td>132274484</td>\n",
              "      <td>123380351</td>\n",
              "      <td>-8894133</td>\n",
              "    </tr>\n",
              "    <tr>\n",
              "      <th>20</th>\n",
              "      <td>1831348</td>\n",
              "      <td>20208369</td>\n",
              "      <td>18377021</td>\n",
              "    </tr>\n",
              "    <tr>\n",
              "      <th>21</th>\n",
              "      <td>48451802</td>\n",
              "      <td>81244697</td>\n",
              "      <td>32792895</td>\n",
              "    </tr>\n",
              "    <tr>\n",
              "      <th>22</th>\n",
              "      <td>100734717</td>\n",
              "      <td>15540942</td>\n",
              "      <td>-85193775</td>\n",
              "    </tr>\n",
              "    <tr>\n",
              "      <th>23</th>\n",
              "      <td>28283636</td>\n",
              "      <td>78200035</td>\n",
              "      <td>49916399</td>\n",
              "    </tr>\n",
              "    <tr>\n",
              "      <th>24</th>\n",
              "      <td>895921035</td>\n",
              "      <td>439358244</td>\n",
              "      <td>-456562791</td>\n",
              "    </tr>\n",
              "    <tr>\n",
              "      <th>25</th>\n",
              "      <td>20416563</td>\n",
              "      <td>11148996</td>\n",
              "      <td>-9267567</td>\n",
              "    </tr>\n",
              "    <tr>\n",
              "      <th>26</th>\n",
              "      <td>30303072</td>\n",
              "      <td>79326211</td>\n",
              "      <td>49023139</td>\n",
              "    </tr>\n",
              "    <tr>\n",
              "      <th>27</th>\n",
              "      <td>125537190</td>\n",
              "      <td>294935905</td>\n",
              "      <td>169398715</td>\n",
              "    </tr>\n",
              "    <tr>\n",
              "      <th>28</th>\n",
              "      <td>61648499</td>\n",
              "      <td>365025128</td>\n",
              "      <td>303376629</td>\n",
              "    </tr>\n",
              "    <tr>\n",
              "      <th>29</th>\n",
              "      <td>161772374</td>\n",
              "      <td>75033474</td>\n",
              "      <td>-86738900</td>\n",
              "    </tr>\n",
              "    <tr>\n",
              "      <th>30</th>\n",
              "      <td>44785052</td>\n",
              "      <td>18049230</td>\n",
              "      <td>-26735822</td>\n",
              "    </tr>\n",
              "    <tr>\n",
              "      <th>31</th>\n",
              "      <td>5129057</td>\n",
              "      <td>2056118</td>\n",
              "      <td>-3072939</td>\n",
              "    </tr>\n",
              "    <tr>\n",
              "      <th>32</th>\n",
              "      <td>85632458</td>\n",
              "      <td>63626086</td>\n",
              "      <td>-22006372</td>\n",
              "    </tr>\n",
              "    <tr>\n",
              "      <th>33</th>\n",
              "      <td>19693890</td>\n",
              "      <td>49363737</td>\n",
              "      <td>29669847</td>\n",
              "    </tr>\n",
              "    <tr>\n",
              "      <th>34</th>\n",
              "      <td>60462347</td>\n",
              "      <td>62637374</td>\n",
              "      <td>2175027</td>\n",
              "    </tr>\n",
              "    <tr>\n",
              "      <th>35</th>\n",
              "      <td>9494789</td>\n",
              "      <td>27036091</td>\n",
              "      <td>17541302</td>\n",
              "    </tr>\n",
              "    <tr>\n",
              "      <th>36</th>\n",
              "      <td>40203019</td>\n",
              "      <td>130629973</td>\n",
              "      <td>90426954</td>\n",
              "    </tr>\n",
              "    <tr>\n",
              "      <th>37</th>\n",
              "      <td>163733697</td>\n",
              "      <td>124615777</td>\n",
              "      <td>-39117920</td>\n",
              "    </tr>\n",
              "    <tr>\n",
              "      <th>38</th>\n",
              "      <td>52304001</td>\n",
              "      <td>93583082</td>\n",
              "      <td>41279081</td>\n",
              "    </tr>\n",
              "    <tr>\n",
              "      <th>39</th>\n",
              "      <td>92180910</td>\n",
              "      <td>11258343</td>\n",
              "      <td>-80922567</td>\n",
              "    </tr>\n",
              "    <tr>\n",
              "      <th>40</th>\n",
              "      <td>39187783</td>\n",
              "      <td>5335487</td>\n",
              "      <td>-33852296</td>\n",
              "    </tr>\n",
              "    <tr>\n",
              "      <th>41</th>\n",
              "      <td>20455275</td>\n",
              "      <td>44651450</td>\n",
              "      <td>24196175</td>\n",
              "    </tr>\n",
              "    <tr>\n",
              "      <th>42</th>\n",
              "      <td>132820715</td>\n",
              "      <td>63785279</td>\n",
              "      <td>-69035436</td>\n",
              "    </tr>\n",
              "    <tr>\n",
              "      <th>43</th>\n",
              "      <td>90810891</td>\n",
              "      <td>64852037</td>\n",
              "      <td>-25958854</td>\n",
              "    </tr>\n",
              "    <tr>\n",
              "      <th>44</th>\n",
              "      <td>13231461</td>\n",
              "      <td>4213207</td>\n",
              "      <td>-9018254</td>\n",
              "    </tr>\n",
              "    <tr>\n",
              "      <th>45</th>\n",
              "      <td>102854430</td>\n",
              "      <td>96959708</td>\n",
              "      <td>-5894722</td>\n",
              "    </tr>\n",
              "    <tr>\n",
              "      <th>46</th>\n",
              "      <td>1548955</td>\n",
              "      <td>9944669</td>\n",
              "      <td>8395714</td>\n",
              "    </tr>\n",
              "    <tr>\n",
              "      <th>47</th>\n",
              "      <td>343397246</td>\n",
              "      <td>142965840</td>\n",
              "      <td>-200431406</td>\n",
              "    </tr>\n",
              "    <tr>\n",
              "      <th>48</th>\n",
              "      <td>28084357</td>\n",
              "      <td>51076616</td>\n",
              "      <td>22992259</td>\n",
              "    </tr>\n",
              "    <tr>\n",
              "      <th>49</th>\n",
              "      <td>31670620</td>\n",
              "      <td>93167267</td>\n",
              "      <td>61496647</td>\n",
              "    </tr>\n",
              "  </tbody>\n",
              "</table>\n",
              "</div>"
            ],
            "text/plain": [
              "          real       pred       diff\n",
              "0     32801173   26010145   -6791028\n",
              "1   1519557909  522145893 -997412016\n",
              "2     35097815   26568407   -8529408\n",
              "3    165615284  102518460  -63096824\n",
              "4     75993060    8652678  -67340382\n",
              "5    235926552  477399957  241473405\n",
              "6     64088552   32189380  -31899172\n",
              "7     17986780    3324107  -14662673\n",
              "8     71073932   95025261   23951329\n",
              "9     52882018   25573183  -27308835\n",
              "10     8801940   36066760   27264820\n",
              "11    77628264  129641239   52012975\n",
              "12   303025485  472745682  169720197\n",
              "13   287506193   74061858 -213444335\n",
              "14    10848782    7422179   -3426603\n",
              "15     2365467   11795500    9430033\n",
              "16    67347012   94751414   27404402\n",
              "17     3202000    8452785    5250785\n",
              "18     1237615    4614366    3376751\n",
              "19   132274484  123380351   -8894133\n",
              "20     1831348   20208369   18377021\n",
              "21    48451802   81244697   32792895\n",
              "22   100734717   15540942  -85193775\n",
              "23    28283636   78200035   49916399\n",
              "24   895921035  439358244 -456562791\n",
              "25    20416563   11148996   -9267567\n",
              "26    30303072   79326211   49023139\n",
              "27   125537190  294935905  169398715\n",
              "28    61648499  365025128  303376629\n",
              "29   161772374   75033474  -86738900\n",
              "30    44785052   18049230  -26735822\n",
              "31     5129057    2056118   -3072939\n",
              "32    85632458   63626086  -22006372\n",
              "33    19693890   49363737   29669847\n",
              "34    60462347   62637374    2175027\n",
              "35     9494789   27036091   17541302\n",
              "36    40203019  130629973   90426954\n",
              "37   163733697  124615777  -39117920\n",
              "38    52304001   93583082   41279081\n",
              "39    92180910   11258343  -80922567\n",
              "40    39187783    5335487  -33852296\n",
              "41    20455275   44651450   24196175\n",
              "42   132820715   63785279  -69035436\n",
              "43    90810891   64852037  -25958854\n",
              "44    13231461    4213207   -9018254\n",
              "45   102854430   96959708   -5894722\n",
              "46     1548955    9944669    8395714\n",
              "47   343397246  142965840 -200431406\n",
              "48    28084357   51076616   22992259\n",
              "49    31670620   93167267   61496647"
            ]
          },
          "metadata": {
            "tags": []
          },
          "execution_count": 135
        }
      ]
    },
    {
      "cell_type": "code",
      "metadata": {
        "id": "fjm6iIa_Bgkx",
        "colab_type": "code",
        "outputId": "4213c0ef-a7a9-4718-a97a-93f648a96e1e",
        "colab": {
          "base_uri": "https://localhost:8080/",
          "height": 300
        }
      },
      "source": [
        "result.describe().astype(int)"
      ],
      "execution_count": 136,
      "outputs": [
        {
          "output_type": "execute_result",
          "data": {
            "text/html": [
              "<div>\n",
              "<style scoped>\n",
              "    .dataframe tbody tr th:only-of-type {\n",
              "        vertical-align: middle;\n",
              "    }\n",
              "\n",
              "    .dataframe tbody tr th {\n",
              "        vertical-align: top;\n",
              "    }\n",
              "\n",
              "    .dataframe thead th {\n",
              "        text-align: right;\n",
              "    }\n",
              "</style>\n",
              "<table border=\"1\" class=\"dataframe\">\n",
              "  <thead>\n",
              "    <tr style=\"text-align: right;\">\n",
              "      <th></th>\n",
              "      <th>real</th>\n",
              "      <th>pred</th>\n",
              "      <th>diff</th>\n",
              "    </tr>\n",
              "  </thead>\n",
              "  <tbody>\n",
              "    <tr>\n",
              "      <th>count</th>\n",
              "      <td>675</td>\n",
              "      <td>675</td>\n",
              "      <td>675</td>\n",
              "    </tr>\n",
              "    <tr>\n",
              "      <th>mean</th>\n",
              "      <td>127640021</td>\n",
              "      <td>85273532</td>\n",
              "      <td>-42366489</td>\n",
              "    </tr>\n",
              "    <tr>\n",
              "      <th>std</th>\n",
              "      <td>202222738</td>\n",
              "      <td>117415014</td>\n",
              "      <td>135270015</td>\n",
              "    </tr>\n",
              "    <tr>\n",
              "      <th>min</th>\n",
              "      <td>15</td>\n",
              "      <td>64971</td>\n",
              "      <td>-1134031994</td>\n",
              "    </tr>\n",
              "    <tr>\n",
              "      <th>25%</th>\n",
              "      <td>16067291</td>\n",
              "      <td>12279333</td>\n",
              "      <td>-55217234</td>\n",
              "    </tr>\n",
              "    <tr>\n",
              "      <th>50%</th>\n",
              "      <td>50907421</td>\n",
              "      <td>42117123</td>\n",
              "      <td>-5435529</td>\n",
              "    </tr>\n",
              "    <tr>\n",
              "      <th>75%</th>\n",
              "      <td>139176316</td>\n",
              "      <td>96095918</td>\n",
              "      <td>12473661</td>\n",
              "    </tr>\n",
              "    <tr>\n",
              "      <th>max</th>\n",
              "      <td>1519557909</td>\n",
              "      <td>702818109</td>\n",
              "      <td>330878038</td>\n",
              "    </tr>\n",
              "  </tbody>\n",
              "</table>\n",
              "</div>"
            ],
            "text/plain": [
              "             real       pred        diff\n",
              "count         675        675         675\n",
              "mean    127640021   85273532   -42366489\n",
              "std     202222738  117415014   135270015\n",
              "min            15      64971 -1134031994\n",
              "25%      16067291   12279333   -55217234\n",
              "50%      50907421   42117123    -5435529\n",
              "75%     139176316   96095918    12473661\n",
              "max    1519557909  702818109   330878038"
            ]
          },
          "metadata": {
            "tags": []
          },
          "execution_count": 136
        }
      ]
    }
  ]
}
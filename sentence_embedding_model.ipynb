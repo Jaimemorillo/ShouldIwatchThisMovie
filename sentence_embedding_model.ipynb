{
  "nbformat": 4,
  "nbformat_minor": 0,
  "metadata": {
    "colab": {
      "name": "sentence_embedding_model.ipynb",
      "version": "0.3.2",
      "provenance": [],
      "collapsed_sections": [],
      "include_colab_link": true
    },
    "kernelspec": {
      "name": "python3",
      "display_name": "Python 3"
    },
    "accelerator": "GPU"
  },
  "cells": [
    {
      "cell_type": "markdown",
      "metadata": {
        "id": "view-in-github",
        "colab_type": "text"
      },
      "source": [
        "<a href=\"https://colab.research.google.com/github/Jaimemorillo/ShouldIwatchThisMovie/blob/master/sentence_embedding_model.ipynb\" target=\"_parent\"><img src=\"https://colab.research.google.com/assets/colab-badge.svg\" alt=\"Open In Colab\"/></a>"
      ]
    },
    {
      "metadata": {
        "id": "Q-DQJ_Iag7g3",
        "colab_type": "code",
        "colab": {
          "base_uri": "https://localhost:8080/",
          "height": 124
        },
        "outputId": "6726d02d-3caa-44fc-aa2e-36ed3f3c168e"
      },
      "cell_type": "code",
      "source": [
        "from google.colab import drive\n",
        "drive.mount('/content/gdrive')"
      ],
      "execution_count": 1,
      "outputs": [
        {
          "output_type": "stream",
          "text": [
            "Go to this URL in a browser: https://accounts.google.com/o/oauth2/auth?client_id=947318989803-6bn6qk8qdgf4n4g3pfee6491hc0brc4i.apps.googleusercontent.com&redirect_uri=urn%3Aietf%3Awg%3Aoauth%3A2.0%3Aoob&scope=email%20https%3A%2F%2Fwww.googleapis.com%2Fauth%2Fdocs.test%20https%3A%2F%2Fwww.googleapis.com%2Fauth%2Fdrive%20https%3A%2F%2Fwww.googleapis.com%2Fauth%2Fdrive.photos.readonly%20https%3A%2F%2Fwww.googleapis.com%2Fauth%2Fpeopleapi.readonly&response_type=code\n",
            "\n",
            "Enter your authorization code:\n",
            "··········\n",
            "Mounted at /content/gdrive\n"
          ],
          "name": "stdout"
        }
      ]
    },
    {
      "metadata": {
        "id": "ygh-t2BnhLSe",
        "colab_type": "code",
        "colab": {
          "base_uri": "https://localhost:8080/",
          "height": 69
        },
        "outputId": "f879219d-5ea3-4da1-ca70-d75cc38b46a6"
      },
      "cell_type": "code",
      "source": [
        "import pandas as pd\n",
        "import tensorflow as tf\n",
        "import time\n",
        "import numpy as np\n",
        "import tensorflow_hub as hub\n",
        "\n",
        "print(tf.__version__)"
      ],
      "execution_count": 2,
      "outputs": [
        {
          "output_type": "stream",
          "text": [
            "WARNING: Logging before flag parsing goes to stderr.\n",
            "W0320 19:17:21.352739 139854951438208 __init__.py:56] Some hub symbols are not available because TensorFlow version is less than 1.14\n"
          ],
          "name": "stderr"
        },
        {
          "output_type": "stream",
          "text": [
            "1.13.1\n"
          ],
          "name": "stdout"
        }
      ]
    },
    {
      "metadata": {
        "id": "vrgkJHEHhPcP",
        "colab_type": "code",
        "colab": {}
      },
      "cell_type": "code",
      "source": [
        "data = pd.read_csv(\"gdrive/My Drive/TFG/tmdb_spanish_overview.csv\",sep='#',lineterminator='\\n')"
      ],
      "execution_count": 0,
      "outputs": []
    },
    {
      "metadata": {
        "id": "os6XPrtOhRsA",
        "colab_type": "code",
        "colab": {
          "base_uri": "https://localhost:8080/",
          "height": 34
        },
        "outputId": "5e8fd082-0072-437b-d9b3-101ba5183b93"
      },
      "cell_type": "code",
      "source": [
        "data = data[~pd.isna(data.overview)]\n",
        "len(data)"
      ],
      "execution_count": 5,
      "outputs": [
        {
          "output_type": "execute_result",
          "data": {
            "text/plain": [
              "4406"
            ]
          },
          "metadata": {
            "tags": []
          },
          "execution_count": 5
        }
      ]
    },
    {
      "metadata": {
        "id": "CssQrlQlhUGW",
        "colab_type": "code",
        "colab": {
          "base_uri": "https://localhost:8080/",
          "height": 69
        },
        "outputId": "0b4f8c21-267b-4da4-8ed3-42034fda9ca2"
      },
      "cell_type": "code",
      "source": [
        "up = 7.3\n",
        "under = 5\n",
        "\n",
        "like = data[data.vote_average >= up]\n",
        "dislike = data[data.vote_average <= under]\n",
        "neutral = data.loc[(data['vote_average'] > under) & (data['vote_average'] < up )]\n",
        "\n",
        "print(len(like))\n",
        "print(len(dislike))\n",
        "print(len(neutral))"
      ],
      "execution_count": 6,
      "outputs": [
        {
          "output_type": "stream",
          "text": [
            "535\n",
            "442\n",
            "3429\n"
          ],
          "name": "stdout"
        }
      ]
    },
    {
      "metadata": {
        "id": "h9k_onZThXKI",
        "colab_type": "code",
        "colab": {
          "base_uri": "https://localhost:8080/",
          "height": 330
        },
        "outputId": "143be5a2-2a16-49a7-e24d-5612a5223b6a"
      },
      "cell_type": "code",
      "source": [
        "like.loc[:,'like'] = 1\n",
        "neutral['like'] = neutral.vote_average.apply(lambda x: 0 if x < 5.9 else 1)\n",
        "dislike.loc[:,'like'] = 0"
      ],
      "execution_count": 7,
      "outputs": [
        {
          "output_type": "stream",
          "text": [
            "/usr/local/lib/python3.6/dist-packages/pandas/core/indexing.py:357: SettingWithCopyWarning: \n",
            "A value is trying to be set on a copy of a slice from a DataFrame.\n",
            "Try using .loc[row_indexer,col_indexer] = value instead\n",
            "\n",
            "See the caveats in the documentation: http://pandas.pydata.org/pandas-docs/stable/indexing.html#indexing-view-versus-copy\n",
            "  self.obj[key] = _infer_fill_value(value)\n",
            "/usr/local/lib/python3.6/dist-packages/pandas/core/indexing.py:537: SettingWithCopyWarning: \n",
            "A value is trying to be set on a copy of a slice from a DataFrame.\n",
            "Try using .loc[row_indexer,col_indexer] = value instead\n",
            "\n",
            "See the caveats in the documentation: http://pandas.pydata.org/pandas-docs/stable/indexing.html#indexing-view-versus-copy\n",
            "  self.obj[item] = s\n",
            "/usr/local/lib/python3.6/dist-packages/ipykernel_launcher.py:2: SettingWithCopyWarning: \n",
            "A value is trying to be set on a copy of a slice from a DataFrame.\n",
            "Try using .loc[row_indexer,col_indexer] = value instead\n",
            "\n",
            "See the caveats in the documentation: http://pandas.pydata.org/pandas-docs/stable/indexing.html#indexing-view-versus-copy\n",
            "  \n"
          ],
          "name": "stderr"
        }
      ]
    },
    {
      "metadata": {
        "id": "udyJXWLUhYAh",
        "colab_type": "code",
        "colab": {}
      },
      "cell_type": "code",
      "source": [
        "data = like.append(dislike)"
      ],
      "execution_count": 0,
      "outputs": []
    },
    {
      "metadata": {
        "id": "4CYRvezghdQ9",
        "colab_type": "code",
        "colab": {}
      },
      "cell_type": "code",
      "source": [
        "import string\n",
        "\n",
        "stop_words = pd.read_csv(\"gdrive/My Drive/TFG/stopwords-es.txt\",header=None)\n",
        "stop_words = stop_words[0].tolist()\n",
        "\n",
        "def normalize(s):\n",
        "    replacements = (\n",
        "        (\"á\", \"a\"),\n",
        "        (\"é\", \"e\"),\n",
        "        (\"í\", \"i\"),\n",
        "        (\"ó\", \"o\"),\n",
        "        (\"ú\", \"u\"),\n",
        "    )\n",
        "    for a, b in replacements:\n",
        "        s = s.replace(a, b).replace(a.upper(), b.upper())\n",
        "    return s\n",
        "\n",
        "def clean_overview(x):\n",
        "    x = normalize(x.lower())\n",
        "    \"\"\"x = x.replace('.', ' <PERIOD>')\n",
        "    x = x.replace(',', ' <COMMA>')\n",
        "    x = x.replace(';', ' <SEMICOLON>')\"\"\"\n",
        "    x = x.translate(str.maketrans('','',string.punctuation))\n",
        "    x = x.translate(str.maketrans('','','1234567890ªº'))\n",
        "    return x\n",
        "  "
      ],
      "execution_count": 0,
      "outputs": []
    },
    {
      "metadata": {
        "id": "M-b98qithgRW",
        "colab_type": "code",
        "colab": {}
      },
      "cell_type": "code",
      "source": [
        "data['overview']=data['overview'].apply(lambda x: clean_overview(str(x)))"
      ],
      "execution_count": 0,
      "outputs": []
    },
    {
      "metadata": {
        "id": "rgIe3vxRhv7O",
        "colab_type": "code",
        "colab": {}
      },
      "cell_type": "code",
      "source": [
        "from sklearn.model_selection import train_test_split\n",
        "\n",
        "overviews = data['overview'].values\n",
        "y = data['like'].values\n",
        "\n",
        "overviews_netutral =  neutral['overview'].values\n",
        "y_netural = neutral['like'].values\n",
        "\n",
        "overviews_train, overviews_test, y_train, y_test = train_test_split(overviews, y, test_size=0.1, random_state=777, stratify=y)"
      ],
      "execution_count": 0,
      "outputs": []
    },
    {
      "metadata": {
        "id": "afxNa1coh3BG",
        "colab_type": "code",
        "colab": {}
      },
      "cell_type": "code",
      "source": [
        "from tensorflow.keras import backend as K\n",
        "from tensorflow.keras.callbacks import EarlyStopping\n",
        "\n",
        "def precision(y_true, y_pred):\n",
        "    \"\"\"Precision metric.\n",
        "    Only computes a batch-wise average of precision.\n",
        "    Computes the precision, a metric for multi-label classification of\n",
        "    how many selected items are relevant.\n",
        "    \"\"\"\n",
        "    true_positives = K.sum(K.round(K.clip(y_true * y_pred, 0, 1)))\n",
        "    predicted_positives = K.sum(K.round(K.clip(y_pred, 0, 1)))\n",
        "    precision = true_positives / (predicted_positives + K.epsilon())\n",
        "    return precision\n",
        "\n",
        "\n",
        "def recall(y_true, y_pred):\n",
        "    \"\"\"Recall metric.\n",
        "    Only computes a batch-wise average of recall.\n",
        "    Computes the recall, a metric for multi-label classification of\n",
        "    how many relevant items are selected.\n",
        "    \"\"\"\n",
        "    true_positives = K.sum(K.round(K.clip(y_true * y_pred, 0, 1)))\n",
        "    possible_positives = K.sum(K.round(K.clip(y_true, 0, 1)))\n",
        "    recall = true_positives / (possible_positives + K.epsilon())\n",
        "    return recall\n",
        "\n",
        "\n",
        "es = EarlyStopping(monitor='val_loss',\n",
        "                   min_delta=0,\n",
        "                   patience=2,\n",
        "                   verbose=0, mode='auto')"
      ],
      "execution_count": 0,
      "outputs": []
    },
    {
      "metadata": {
        "id": "E30i_O5Uh_o8",
        "colab_type": "code",
        "colab": {
          "base_uri": "https://localhost:8080/",
          "height": 34
        },
        "outputId": "e30d734e-6413-4d49-c42c-7b629604a6a2"
      },
      "cell_type": "code",
      "source": [
        "from sklearn.utils import class_weight\n",
        "\n",
        "\n",
        "class_weights = class_weight.compute_class_weight('balanced',\n",
        "                                                 np.unique(y_train),\n",
        "                                                 y_train)\n",
        "\n",
        "class_weights"
      ],
      "execution_count": 15,
      "outputs": [
        {
          "output_type": "execute_result",
          "data": {
            "text/plain": [
              "array([1.10427136, 0.91372141])"
            ]
          },
          "metadata": {
            "tags": []
          },
          "execution_count": 15
        }
      ]
    },
    {
      "metadata": {
        "id": "W_BrOOEeiDaN",
        "colab_type": "code",
        "colab": {
          "base_uri": "https://localhost:8080/",
          "height": 312
        },
        "outputId": "16f1f66d-a5ad-48a8-c7f9-fe81f7101126"
      },
      "cell_type": "code",
      "source": [
        "# Model 3\n",
        "\n",
        "from tensorflow.keras import Model\n",
        "from tensorflow.keras import layers\n",
        "import tensorflow_hub as hub\n",
        "from tensorflow.keras import optimizers\n",
        "\n",
        "module_url = \"https://tfhub.dev/google/nnlm-es-dim128-with-normalization/1\"\n",
        "embed = hub.Module(module_url)\n",
        "\n",
        "with tf.Session() as sess:\n",
        "  sess.run(tf.global_variables_initializer())\n",
        "  sess.run(tf.tables_initializer())\n",
        "\n",
        "\n",
        "def UniversalEmbedding(x):\n",
        "  return embed(tf.squeeze(tf.cast(x, tf.string)), \n",
        "  signature=\"default\", as_dict=True)[\"default\"]\n",
        "    \n",
        "input_text = layers.Input(shape=(1,), dtype=tf.string)\n",
        "embedding = layers.Lambda(UniversalEmbedding,output_shape=(128,))(input_text)\n",
        "dense = layers.Dense(128, activation='relu')(embedding)\n",
        "pred = layers.Dense(1, activation='sigmoid')(dense)\n",
        "model = Model(inputs=[input_text], outputs=pred)\n",
        "model.compile(loss='binary_crossentropy', optimizer=optimizers.Adam(0.0003), metrics=['accuracy'])  \n",
        " \n",
        "model.summary()"
      ],
      "execution_count": 17,
      "outputs": [
        {
          "output_type": "stream",
          "text": [
            "INFO:tensorflow:Saver not created because there are no variables in the graph to restore\n"
          ],
          "name": "stdout"
        },
        {
          "output_type": "stream",
          "text": [
            "I0320 19:30:03.613175 139854951438208 saver.py:1483] Saver not created because there are no variables in the graph to restore\n"
          ],
          "name": "stderr"
        },
        {
          "output_type": "stream",
          "text": [
            "_________________________________________________________________\n",
            "Layer (type)                 Output Shape              Param #   \n",
            "=================================================================\n",
            "input_2 (InputLayer)         (None, 1)                 0         \n",
            "_________________________________________________________________\n",
            "lambda_1 (Lambda)            (None, 128)               0         \n",
            "_________________________________________________________________\n",
            "dense_2 (Dense)              (None, 128)               16512     \n",
            "_________________________________________________________________\n",
            "dense_3 (Dense)              (None, 1)                 129       \n",
            "=================================================================\n",
            "Total params: 16,641\n",
            "Trainable params: 16,641\n",
            "Non-trainable params: 0\n",
            "_________________________________________________________________\n"
          ],
          "name": "stdout"
        }
      ]
    },
    {
      "metadata": {
        "id": "HAPKBWq7iGhl",
        "colab_type": "code",
        "colab": {
          "base_uri": "https://localhost:8080/",
          "height": 3875
        },
        "outputId": "cc467163-6017-4117-c839-cb21ca013ac2"
      },
      "cell_type": "code",
      "source": [
        "# Model 3\n",
        "\n",
        "with tf.Session() as session:\n",
        "  K.set_session(session)\n",
        "  session.run(tf.global_variables_initializer())\n",
        "  session.run(tf.tables_initializer())\n",
        "  history = model.fit(overviews_train, y_train,\n",
        "                    epochs=500,\n",
        "                    verbose=True,\n",
        "                    validation_data=(overviews_test, y_test),\n",
        "                    batch_size=128, callbacks=[es], class_weight = class_weights)"
      ],
      "execution_count": 18,
      "outputs": [
        {
          "output_type": "stream",
          "text": [
            "Train on 879 samples, validate on 98 samples\n",
            "WARNING:tensorflow:From /usr/local/lib/python3.6/dist-packages/tensorflow/python/ops/math_ops.py:3066: to_int32 (from tensorflow.python.ops.math_ops) is deprecated and will be removed in a future version.\n",
            "Instructions for updating:\n",
            "Use tf.cast instead.\n"
          ],
          "name": "stdout"
        },
        {
          "output_type": "stream",
          "text": [
            "W0320 19:42:04.820112 139854951438208 deprecation.py:323] From /usr/local/lib/python3.6/dist-packages/tensorflow/python/ops/math_ops.py:3066: to_int32 (from tensorflow.python.ops.math_ops) is deprecated and will be removed in a future version.\n",
            "Instructions for updating:\n",
            "Use tf.cast instead.\n"
          ],
          "name": "stderr"
        },
        {
          "output_type": "stream",
          "text": [
            "Epoch 1/500\n",
            "879/879 [==============================] - 1s 1ms/sample - loss: 0.6909 - acc: 0.5301 - val_loss: 0.6838 - val_acc: 0.5510\n",
            "Epoch 2/500\n",
            "879/879 [==============================] - 0s 103us/sample - loss: 0.6860 - acc: 0.5461 - val_loss: 0.6804 - val_acc: 0.5408\n",
            "Epoch 3/500\n",
            "879/879 [==============================] - 0s 104us/sample - loss: 0.6827 - acc: 0.5495 - val_loss: 0.6780 - val_acc: 0.5510\n",
            "Epoch 4/500\n",
            "879/879 [==============================] - 0s 112us/sample - loss: 0.6796 - acc: 0.5484 - val_loss: 0.6759 - val_acc: 0.5510\n",
            "Epoch 5/500\n",
            "879/879 [==============================] - 0s 108us/sample - loss: 0.6769 - acc: 0.5495 - val_loss: 0.6738 - val_acc: 0.5510\n",
            "Epoch 6/500\n",
            "879/879 [==============================] - 0s 107us/sample - loss: 0.6739 - acc: 0.5518 - val_loss: 0.6717 - val_acc: 0.5510\n",
            "Epoch 7/500\n",
            "879/879 [==============================] - 0s 117us/sample - loss: 0.6710 - acc: 0.5575 - val_loss: 0.6698 - val_acc: 0.5510\n",
            "Epoch 8/500\n",
            "879/879 [==============================] - 0s 109us/sample - loss: 0.6682 - acc: 0.5666 - val_loss: 0.6680 - val_acc: 0.5816\n",
            "Epoch 9/500\n",
            "879/879 [==============================] - 0s 110us/sample - loss: 0.6655 - acc: 0.5779 - val_loss: 0.6660 - val_acc: 0.6122\n",
            "Epoch 10/500\n",
            "879/879 [==============================] - 0s 108us/sample - loss: 0.6628 - acc: 0.5859 - val_loss: 0.6639 - val_acc: 0.6122\n",
            "Epoch 11/500\n",
            "879/879 [==============================] - 0s 105us/sample - loss: 0.6599 - acc: 0.5904 - val_loss: 0.6620 - val_acc: 0.6122\n",
            "Epoch 12/500\n",
            "879/879 [==============================] - 0s 109us/sample - loss: 0.6571 - acc: 0.6018 - val_loss: 0.6601 - val_acc: 0.6122\n",
            "Epoch 13/500\n",
            "879/879 [==============================] - 0s 106us/sample - loss: 0.6543 - acc: 0.6155 - val_loss: 0.6580 - val_acc: 0.6020\n",
            "Epoch 14/500\n",
            "879/879 [==============================] - 0s 104us/sample - loss: 0.6516 - acc: 0.6155 - val_loss: 0.6561 - val_acc: 0.6122\n",
            "Epoch 15/500\n",
            "879/879 [==============================] - 0s 109us/sample - loss: 0.6487 - acc: 0.6246 - val_loss: 0.6542 - val_acc: 0.6122\n",
            "Epoch 16/500\n",
            "879/879 [==============================] - 0s 106us/sample - loss: 0.6458 - acc: 0.6325 - val_loss: 0.6524 - val_acc: 0.6327\n",
            "Epoch 17/500\n",
            "879/879 [==============================] - 0s 120us/sample - loss: 0.6429 - acc: 0.6462 - val_loss: 0.6504 - val_acc: 0.6531\n",
            "Epoch 18/500\n",
            "879/879 [==============================] - 0s 101us/sample - loss: 0.6402 - acc: 0.6553 - val_loss: 0.6485 - val_acc: 0.6633\n",
            "Epoch 19/500\n",
            "879/879 [==============================] - 0s 108us/sample - loss: 0.6372 - acc: 0.6644 - val_loss: 0.6465 - val_acc: 0.6633\n",
            "Epoch 20/500\n",
            "879/879 [==============================] - 0s 109us/sample - loss: 0.6343 - acc: 0.6655 - val_loss: 0.6447 - val_acc: 0.6531\n",
            "Epoch 21/500\n",
            "879/879 [==============================] - 0s 104us/sample - loss: 0.6316 - acc: 0.6633 - val_loss: 0.6427 - val_acc: 0.6633\n",
            "Epoch 22/500\n",
            "879/879 [==============================] - 0s 111us/sample - loss: 0.6287 - acc: 0.6667 - val_loss: 0.6409 - val_acc: 0.6735\n",
            "Epoch 23/500\n",
            "879/879 [==============================] - 0s 108us/sample - loss: 0.6256 - acc: 0.6780 - val_loss: 0.6388 - val_acc: 0.6837\n",
            "Epoch 24/500\n",
            "879/879 [==============================] - 0s 105us/sample - loss: 0.6228 - acc: 0.6803 - val_loss: 0.6370 - val_acc: 0.6837\n",
            "Epoch 25/500\n",
            "879/879 [==============================] - 0s 110us/sample - loss: 0.6199 - acc: 0.6758 - val_loss: 0.6351 - val_acc: 0.6735\n",
            "Epoch 26/500\n",
            "879/879 [==============================] - 0s 103us/sample - loss: 0.6173 - acc: 0.6826 - val_loss: 0.6335 - val_acc: 0.6837\n",
            "Epoch 27/500\n",
            "879/879 [==============================] - 0s 124us/sample - loss: 0.6143 - acc: 0.6746 - val_loss: 0.6314 - val_acc: 0.6837\n",
            "Epoch 28/500\n",
            "879/879 [==============================] - 0s 109us/sample - loss: 0.6114 - acc: 0.6826 - val_loss: 0.6297 - val_acc: 0.6837\n",
            "Epoch 29/500\n",
            "879/879 [==============================] - 0s 104us/sample - loss: 0.6088 - acc: 0.6883 - val_loss: 0.6280 - val_acc: 0.6837\n",
            "Epoch 30/500\n",
            "879/879 [==============================] - 0s 108us/sample - loss: 0.6059 - acc: 0.6883 - val_loss: 0.6262 - val_acc: 0.6837\n",
            "Epoch 31/500\n",
            "879/879 [==============================] - 0s 107us/sample - loss: 0.6033 - acc: 0.6894 - val_loss: 0.6246 - val_acc: 0.6837\n",
            "Epoch 32/500\n",
            "879/879 [==============================] - 0s 112us/sample - loss: 0.6008 - acc: 0.6928 - val_loss: 0.6230 - val_acc: 0.6837\n",
            "Epoch 33/500\n",
            "879/879 [==============================] - 0s 111us/sample - loss: 0.5982 - acc: 0.6940 - val_loss: 0.6211 - val_acc: 0.6837\n",
            "Epoch 34/500\n",
            "879/879 [==============================] - 0s 110us/sample - loss: 0.5955 - acc: 0.6917 - val_loss: 0.6197 - val_acc: 0.6837\n",
            "Epoch 35/500\n",
            "879/879 [==============================] - 0s 111us/sample - loss: 0.5931 - acc: 0.6928 - val_loss: 0.6180 - val_acc: 0.6837\n",
            "Epoch 36/500\n",
            "879/879 [==============================] - 0s 111us/sample - loss: 0.5907 - acc: 0.7008 - val_loss: 0.6164 - val_acc: 0.7041\n",
            "Epoch 37/500\n",
            "879/879 [==============================] - 0s 120us/sample - loss: 0.5881 - acc: 0.7076 - val_loss: 0.6149 - val_acc: 0.6939\n",
            "Epoch 38/500\n",
            "879/879 [==============================] - 0s 106us/sample - loss: 0.5858 - acc: 0.7031 - val_loss: 0.6134 - val_acc: 0.6939\n",
            "Epoch 39/500\n",
            "879/879 [==============================] - 0s 107us/sample - loss: 0.5832 - acc: 0.7031 - val_loss: 0.6119 - val_acc: 0.7041\n",
            "Epoch 40/500\n",
            "879/879 [==============================] - 0s 109us/sample - loss: 0.5810 - acc: 0.7122 - val_loss: 0.6105 - val_acc: 0.7143\n",
            "Epoch 41/500\n",
            "879/879 [==============================] - 0s 112us/sample - loss: 0.5792 - acc: 0.7133 - val_loss: 0.6094 - val_acc: 0.6939\n",
            "Epoch 42/500\n",
            "879/879 [==============================] - 0s 110us/sample - loss: 0.5765 - acc: 0.7179 - val_loss: 0.6083 - val_acc: 0.7143\n",
            "Epoch 43/500\n",
            "879/879 [==============================] - 0s 106us/sample - loss: 0.5744 - acc: 0.7156 - val_loss: 0.6074 - val_acc: 0.6939\n",
            "Epoch 44/500\n",
            "879/879 [==============================] - 0s 108us/sample - loss: 0.5723 - acc: 0.7133 - val_loss: 0.6059 - val_acc: 0.7143\n",
            "Epoch 45/500\n",
            "879/879 [==============================] - 0s 110us/sample - loss: 0.5701 - acc: 0.7179 - val_loss: 0.6043 - val_acc: 0.6939\n",
            "Epoch 46/500\n",
            "879/879 [==============================] - 0s 111us/sample - loss: 0.5682 - acc: 0.7235 - val_loss: 0.6028 - val_acc: 0.6939\n",
            "Epoch 47/500\n",
            "879/879 [==============================] - 0s 116us/sample - loss: 0.5659 - acc: 0.7190 - val_loss: 0.6017 - val_acc: 0.7041\n",
            "Epoch 48/500\n",
            "879/879 [==============================] - 0s 103us/sample - loss: 0.5638 - acc: 0.7258 - val_loss: 0.6007 - val_acc: 0.6939\n",
            "Epoch 49/500\n",
            "879/879 [==============================] - 0s 117us/sample - loss: 0.5617 - acc: 0.7292 - val_loss: 0.5997 - val_acc: 0.6939\n",
            "Epoch 50/500\n",
            "879/879 [==============================] - 0s 107us/sample - loss: 0.5599 - acc: 0.7315 - val_loss: 0.5989 - val_acc: 0.6939\n",
            "Epoch 51/500\n",
            "879/879 [==============================] - 0s 114us/sample - loss: 0.5578 - acc: 0.7292 - val_loss: 0.5978 - val_acc: 0.6939\n",
            "Epoch 52/500\n",
            "879/879 [==============================] - 0s 110us/sample - loss: 0.5561 - acc: 0.7247 - val_loss: 0.5971 - val_acc: 0.6939\n",
            "Epoch 53/500\n",
            "879/879 [==============================] - 0s 105us/sample - loss: 0.5544 - acc: 0.7201 - val_loss: 0.5958 - val_acc: 0.6939\n",
            "Epoch 54/500\n",
            "879/879 [==============================] - 0s 107us/sample - loss: 0.5522 - acc: 0.7315 - val_loss: 0.5942 - val_acc: 0.6939\n",
            "Epoch 55/500\n",
            "879/879 [==============================] - 0s 107us/sample - loss: 0.5504 - acc: 0.7361 - val_loss: 0.5932 - val_acc: 0.6939\n",
            "Epoch 56/500\n",
            "879/879 [==============================] - 0s 120us/sample - loss: 0.5486 - acc: 0.7372 - val_loss: 0.5929 - val_acc: 0.6939\n",
            "Epoch 57/500\n",
            "879/879 [==============================] - 0s 115us/sample - loss: 0.5465 - acc: 0.7349 - val_loss: 0.5919 - val_acc: 0.6939\n",
            "Epoch 58/500\n",
            "879/879 [==============================] - 0s 104us/sample - loss: 0.5447 - acc: 0.7349 - val_loss: 0.5907 - val_acc: 0.6837\n",
            "Epoch 59/500\n",
            "879/879 [==============================] - 0s 107us/sample - loss: 0.5430 - acc: 0.7383 - val_loss: 0.5902 - val_acc: 0.6837\n",
            "Epoch 60/500\n",
            "879/879 [==============================] - 0s 110us/sample - loss: 0.5410 - acc: 0.7406 - val_loss: 0.5891 - val_acc: 0.6939\n",
            "Epoch 61/500\n",
            "879/879 [==============================] - 0s 102us/sample - loss: 0.5394 - acc: 0.7406 - val_loss: 0.5883 - val_acc: 0.6837\n",
            "Epoch 62/500\n",
            "879/879 [==============================] - 0s 109us/sample - loss: 0.5377 - acc: 0.7418 - val_loss: 0.5878 - val_acc: 0.7041\n",
            "Epoch 63/500\n",
            "879/879 [==============================] - 0s 106us/sample - loss: 0.5359 - acc: 0.7429 - val_loss: 0.5873 - val_acc: 0.7041\n",
            "Epoch 64/500\n",
            "879/879 [==============================] - 0s 109us/sample - loss: 0.5358 - acc: 0.7429 - val_loss: 0.5870 - val_acc: 0.6939\n",
            "Epoch 65/500\n",
            "879/879 [==============================] - 0s 107us/sample - loss: 0.5325 - acc: 0.7395 - val_loss: 0.5852 - val_acc: 0.7041\n",
            "Epoch 66/500\n",
            "879/879 [==============================] - 0s 109us/sample - loss: 0.5321 - acc: 0.7474 - val_loss: 0.5846 - val_acc: 0.7041\n",
            "Epoch 67/500\n",
            "879/879 [==============================] - 0s 112us/sample - loss: 0.5293 - acc: 0.7440 - val_loss: 0.5840 - val_acc: 0.7041\n",
            "Epoch 68/500\n",
            "879/879 [==============================] - 0s 109us/sample - loss: 0.5290 - acc: 0.7406 - val_loss: 0.5836 - val_acc: 0.6939\n",
            "Epoch 69/500\n",
            "879/879 [==============================] - 0s 107us/sample - loss: 0.5265 - acc: 0.7474 - val_loss: 0.5822 - val_acc: 0.7041\n",
            "Epoch 70/500\n",
            "879/879 [==============================] - 0s 104us/sample - loss: 0.5251 - acc: 0.7474 - val_loss: 0.5816 - val_acc: 0.7143\n",
            "Epoch 71/500\n",
            "879/879 [==============================] - 0s 111us/sample - loss: 0.5232 - acc: 0.7463 - val_loss: 0.5814 - val_acc: 0.6939\n",
            "Epoch 72/500\n",
            "879/879 [==============================] - 0s 113us/sample - loss: 0.5216 - acc: 0.7452 - val_loss: 0.5805 - val_acc: 0.7041\n",
            "Epoch 73/500\n",
            "879/879 [==============================] - 0s 105us/sample - loss: 0.5196 - acc: 0.7429 - val_loss: 0.5799 - val_acc: 0.7143\n",
            "Epoch 74/500\n",
            "879/879 [==============================] - 0s 104us/sample - loss: 0.5182 - acc: 0.7463 - val_loss: 0.5789 - val_acc: 0.7143\n",
            "Epoch 75/500\n",
            "879/879 [==============================] - 0s 108us/sample - loss: 0.5169 - acc: 0.7520 - val_loss: 0.5785 - val_acc: 0.7143\n",
            "Epoch 76/500\n",
            "879/879 [==============================] - 0s 110us/sample - loss: 0.5155 - acc: 0.7497 - val_loss: 0.5780 - val_acc: 0.7143\n",
            "Epoch 77/500\n",
            "879/879 [==============================] - 0s 118us/sample - loss: 0.5141 - acc: 0.7497 - val_loss: 0.5779 - val_acc: 0.7143\n",
            "Epoch 78/500\n",
            "879/879 [==============================] - 0s 107us/sample - loss: 0.5124 - acc: 0.7463 - val_loss: 0.5766 - val_acc: 0.7143\n",
            "Epoch 79/500\n",
            "879/879 [==============================] - 0s 112us/sample - loss: 0.5115 - acc: 0.7543 - val_loss: 0.5762 - val_acc: 0.7143\n",
            "Epoch 80/500\n",
            "879/879 [==============================] - 0s 106us/sample - loss: 0.5093 - acc: 0.7554 - val_loss: 0.5759 - val_acc: 0.7143\n",
            "Epoch 81/500\n",
            "879/879 [==============================] - 0s 113us/sample - loss: 0.5078 - acc: 0.7497 - val_loss: 0.5759 - val_acc: 0.7143\n",
            "Epoch 82/500\n",
            "879/879 [==============================] - 0s 109us/sample - loss: 0.5065 - acc: 0.7486 - val_loss: 0.5748 - val_acc: 0.7143\n",
            "Epoch 83/500\n",
            "879/879 [==============================] - 0s 105us/sample - loss: 0.5051 - acc: 0.7554 - val_loss: 0.5743 - val_acc: 0.7143\n",
            "Epoch 84/500\n",
            "879/879 [==============================] - 0s 112us/sample - loss: 0.5034 - acc: 0.7577 - val_loss: 0.5741 - val_acc: 0.7143\n",
            "Epoch 85/500\n",
            "879/879 [==============================] - 0s 111us/sample - loss: 0.5018 - acc: 0.7588 - val_loss: 0.5735 - val_acc: 0.7143\n",
            "Epoch 86/500\n",
            "879/879 [==============================] - 0s 111us/sample - loss: 0.5004 - acc: 0.7600 - val_loss: 0.5730 - val_acc: 0.7143\n",
            "Epoch 87/500\n",
            "879/879 [==============================] - 0s 111us/sample - loss: 0.4989 - acc: 0.7622 - val_loss: 0.5727 - val_acc: 0.7041\n",
            "Epoch 88/500\n",
            "879/879 [==============================] - 0s 105us/sample - loss: 0.4977 - acc: 0.7611 - val_loss: 0.5721 - val_acc: 0.7041\n",
            "Epoch 89/500\n",
            "879/879 [==============================] - 0s 121us/sample - loss: 0.4962 - acc: 0.7588 - val_loss: 0.5720 - val_acc: 0.7041\n",
            "Epoch 90/500\n",
            "879/879 [==============================] - 0s 106us/sample - loss: 0.4947 - acc: 0.7622 - val_loss: 0.5716 - val_acc: 0.7143\n",
            "Epoch 91/500\n",
            "879/879 [==============================] - 0s 112us/sample - loss: 0.4931 - acc: 0.7634 - val_loss: 0.5711 - val_acc: 0.7041\n",
            "Epoch 92/500\n",
            "879/879 [==============================] - 0s 105us/sample - loss: 0.4919 - acc: 0.7656 - val_loss: 0.5705 - val_acc: 0.7041\n",
            "Epoch 93/500\n",
            "879/879 [==============================] - 0s 111us/sample - loss: 0.4905 - acc: 0.7645 - val_loss: 0.5701 - val_acc: 0.7143\n",
            "Epoch 94/500\n",
            "879/879 [==============================] - 0s 108us/sample - loss: 0.4891 - acc: 0.7656 - val_loss: 0.5700 - val_acc: 0.7143\n",
            "Epoch 95/500\n",
            "879/879 [==============================] - 0s 106us/sample - loss: 0.4877 - acc: 0.7691 - val_loss: 0.5698 - val_acc: 0.7143\n",
            "Epoch 96/500\n",
            "879/879 [==============================] - 0s 113us/sample - loss: 0.4863 - acc: 0.7691 - val_loss: 0.5696 - val_acc: 0.7143\n",
            "Epoch 97/500\n",
            "879/879 [==============================] - 0s 105us/sample - loss: 0.4848 - acc: 0.7702 - val_loss: 0.5690 - val_acc: 0.7143\n",
            "Epoch 98/500\n",
            "879/879 [==============================] - 0s 110us/sample - loss: 0.4840 - acc: 0.7747 - val_loss: 0.5689 - val_acc: 0.7143\n",
            "Epoch 99/500\n",
            "879/879 [==============================] - 0s 108us/sample - loss: 0.4820 - acc: 0.7725 - val_loss: 0.5686 - val_acc: 0.7143\n",
            "Epoch 100/500\n",
            "879/879 [==============================] - 0s 103us/sample - loss: 0.4808 - acc: 0.7736 - val_loss: 0.5680 - val_acc: 0.7143\n",
            "Epoch 101/500\n",
            "879/879 [==============================] - 0s 114us/sample - loss: 0.4800 - acc: 0.7736 - val_loss: 0.5680 - val_acc: 0.7143\n",
            "Epoch 102/500\n",
            "879/879 [==============================] - 0s 106us/sample - loss: 0.4780 - acc: 0.7782 - val_loss: 0.5673 - val_acc: 0.7143\n",
            "Epoch 103/500\n",
            "879/879 [==============================] - 0s 110us/sample - loss: 0.4778 - acc: 0.7713 - val_loss: 0.5676 - val_acc: 0.7245\n",
            "Epoch 104/500\n",
            "879/879 [==============================] - 0s 110us/sample - loss: 0.4753 - acc: 0.7770 - val_loss: 0.5670 - val_acc: 0.7143\n",
            "Epoch 105/500\n",
            "879/879 [==============================] - 0s 110us/sample - loss: 0.4741 - acc: 0.7782 - val_loss: 0.5662 - val_acc: 0.7041\n",
            "Epoch 106/500\n",
            "879/879 [==============================] - 0s 108us/sample - loss: 0.4730 - acc: 0.7793 - val_loss: 0.5664 - val_acc: 0.7143\n",
            "Epoch 107/500\n",
            "879/879 [==============================] - 0s 111us/sample - loss: 0.4711 - acc: 0.7827 - val_loss: 0.5663 - val_acc: 0.7245\n"
          ],
          "name": "stdout"
        }
      ]
    },
    {
      "metadata": {
        "id": "GPPB2NTniJ5i",
        "colab_type": "code",
        "colab": {
          "base_uri": "https://localhost:8080/",
          "height": 337
        },
        "outputId": "442fd3f2-e803-42d2-86c0-c785bf8ba533"
      },
      "cell_type": "code",
      "source": [
        "%matplotlib inline\n",
        "import matplotlib.pyplot as plt\n",
        "plt.style.use('ggplot')\n",
        "\n",
        "def plot_history(history):\n",
        "    acc = history.history['acc']\n",
        "    val_acc = history.history['val_acc']\n",
        "    loss = history.history['loss']\n",
        "    val_loss = history.history['val_loss']\n",
        "    x = range(1, len(acc) + 1)\n",
        "\n",
        "    plt.figure(figsize=(12, 5))\n",
        "    plt.subplot(1, 2, 1)\n",
        "    plt.plot(x, acc, 'b', label='Training acc')\n",
        "    plt.plot(x, val_acc, 'r', label='Validation acc')\n",
        "    plt.title('Training and validation accuracy')\n",
        "    plt.legend()\n",
        "    plt.subplot(1, 2, 2)\n",
        "    plt.plot(x, loss, 'b', label='Training loss')\n",
        "    plt.plot(x, val_loss, 'r', label='Validation loss')\n",
        "    plt.title('Training and validation loss')\n",
        "    plt.legend()\n",
        "    \n",
        "plot_history(history)"
      ],
      "execution_count": 19,
      "outputs": [
        {
          "output_type": "display_data",
          "data": {
            "image/png": "[encoded data removed]",
            "text/plain": [
              "<Figure size 864x360 with 2 Axes>"
            ]
          },
          "metadata": {
            "tags": []
          }
        }
      ]
    }
  ]
}
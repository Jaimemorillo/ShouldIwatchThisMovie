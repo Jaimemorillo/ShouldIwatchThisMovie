{
 "cells": [
  {
   "cell_type": "code",
   "execution_count": 1,
   "metadata": {},
   "outputs": [],
   "source": [
    "import sys\n",
    "\n",
    "sys.path.append('../../src')\n",
    "sys.path.append('../../test')"
   ]
  },
  {
   "cell_type": "code",
   "execution_count": 2,
   "metadata": {},
   "outputs": [],
   "source": [
    "from like.preparation import Preparation\n",
    "\n",
    "pre = Preparation()"
   ]
  },
  {
   "cell_type": "code",
   "execution_count": 3,
   "metadata": {},
   "outputs": [],
   "source": [
    "overs = pre.get_overview('../../data/tmdb_spanish_overview.csv')\n",
    "taste = pre.get_personal_taste('../../data/tmdb_spanish_Jaime2.csv')\n",
    "credits = pre.get_credits('../../data/tmdb_5000_credits.csv')"
   ]
  },
  {
   "cell_type": "code",
   "execution_count": 4,
   "metadata": {},
   "outputs": [],
   "source": [
    "df = pre.merge_over_taste_credits(overs,taste,credits)"
   ]
  },
  {
   "cell_type": "code",
   "execution_count": 5,
   "metadata": {},
   "outputs": [],
   "source": [
    "from like.processing import Processing\n",
    "\n",
    "pro = Processing(stopwords_path='../../data/stopwords-es.txt')"
   ]
  },
  {
   "cell_type": "code",
   "execution_count": 6,
   "metadata": {},
   "outputs": [],
   "source": [
    "df = pro.clean_overview(df)\n",
    "df = pro.paste_cast(df)"
   ]
  },
  {
   "cell_type": "code",
   "execution_count": 7,
   "metadata": {},
   "outputs": [],
   "source": [
    "X_train, X_test, y_train, y_test = pro.split_data(df)"
   ]
  },
  {
   "cell_type": "code",
   "execution_count": 8,
   "metadata": {},
   "outputs": [],
   "source": [
    "n_words = 12000\n",
    "maxlen = 100\n",
    "pro.fit_tokenizer(X_train, n_words)"
   ]
  },
  {
   "cell_type": "code",
   "execution_count": 9,
   "metadata": {},
   "outputs": [
    {
     "name": "stdout",
     "output_type": "stream",
     "text": [
      "95\n",
      "[   0    0    0    0    0    0    0    0    0    0    0    0    0    0\n",
      "    0    0    0    0    0    0    0    0    0    0    0    0    0    0\n",
      "    0    0    0    0    0    0    0    0    0    0    0    0    0    0\n",
      "    0    0    0    0    0    0    0    0    0    0    0    0    0    0\n",
      "    0    0    0    0    0    0    0    0  637 1664   66 1665  138 4347\n",
      "  129  500 2157 1113 4348    4 2158 1114 4349  452 1666 1667 4350 2157\n",
      "  121  934    4 1115   93  821   37 4351  139   99 2157  100  173 1668\n",
      "  370   73]\n",
      "75\n",
      "[   0    0    0    0    0    0    0    0    0    0    0    0    0    0\n",
      "    0    0    0    0    0    0    0    0    0    0    0    0    0    0\n",
      "    0    0    0    0    0    0    0    0    0    0    0    0    0    0\n",
      "    0    0    0    0    0    0    0    0    0    0    0    0    0    0\n",
      " 7763 7764 7765 1293 1294   34 7916   91 7677   25  333  340  321  776\n",
      "  564  625  446 6329   28  280  378  736  493  161  848 1883  472    9\n",
      " 4064 4216 1872 1917   64   13  132  848  202 2134   37 1740  723  410\n",
      "   53 2131]\n"
     ]
    }
   ],
   "source": [
    "X_train = pro.tokenize_overview(X_train, maxlen)\n",
    "X_test = pro.tokenize_overview(X_test, maxlen)\n",
    "vocab_size = pro.get_vocab_size()"
   ]
  },
  {
   "cell_type": "code",
   "execution_count": 10,
   "metadata": {},
   "outputs": [],
   "source": [
    "from taste.modelling import Modelling\n",
    "\n",
    "mod = Modelling(maxlen, vocab_size)"
   ]
  },
  {
   "cell_type": "code",
   "execution_count": 11,
   "metadata": {},
   "outputs": [
    {
     "name": "stderr",
     "output_type": "stream",
     "text": [
      "WARNING: Logging before flag parsing goes to stderr.\n",
      "W0929 11:55:36.581637 4641723840 deprecation.py:506] From /anaconda3/lib/python3.6/site-packages/tensorflow/python/keras/initializers.py:119: calling RandomUniform.__init__ (from tensorflow.python.ops.init_ops) with dtype is deprecated and will be removed in a future version.\n",
      "Instructions for updating:\n",
      "Call initializer instance with the dtype argument instead of passing it to the constructor\n",
      "W0929 11:55:36.793024 4641723840 deprecation_wrapper.py:119] From ../../src/taste/modelling.py:36: The name tf.keras.layers.CuDNNGRU is deprecated. Please use tf.compat.v1.keras.layers.CuDNNGRU instead.\n",
      "\n",
      "W0929 11:55:36.795245 4641723840 deprecation.py:506] From /anaconda3/lib/python3.6/site-packages/tensorflow/python/ops/init_ops.py:1251: calling VarianceScaling.__init__ (from tensorflow.python.ops.init_ops) with dtype is deprecated and will be removed in a future version.\n",
      "Instructions for updating:\n",
      "Call initializer instance with the dtype argument instead of passing it to the constructor\n"
     ]
    }
   ],
   "source": [
    "embedding_size = 300\n",
    "dropout = 0.5\n",
    "filters1 = 256\n",
    "filters2 = 512\n",
    "kernel = 2\n",
    "maxp = 3\n",
    "gnup = 128 \n",
    "act = 'relu'\n",
    "\n",
    "\n",
    "model = mod.taste_model(embedding_size, dropout, filters1,\n",
    "                    filters2, kernel, maxp, gnup, act)"
   ]
  },
  {
   "cell_type": "code",
   "execution_count": 12,
   "metadata": {},
   "outputs": [
    {
     "name": "stdout",
     "output_type": "stream",
     "text": [
      "No gpu is available\n"
     ]
    }
   ],
   "source": [
    "mod.fit_model(X_train,y_train,X_test,y_test)"
   ]
  },
  {
   "cell_type": "code",
   "execution_count": null,
   "metadata": {},
   "outputs": [],
   "source": []
  }
 ],
 "metadata": {
  "kernelspec": {
   "display_name": "Python 3",
   "language": "python",
   "name": "python3"
  },
  "language_info": {
   "codemirror_mode": {
    "name": "ipython",
    "version": 3
   },
   "file_extension": ".py",
   "mimetype": "text/x-python",
   "name": "python",
   "nbconvert_exporter": "python",
   "pygments_lexer": "ipython3",
   "version": "3.6.8"
  },
  "pycharm": {
   "stem_cell": {
    "cell_type": "raw",
    "source": [],
    "metadata": {
     "collapsed": false
    }
   }
  }
 },
 "nbformat": 4,
 "nbformat_minor": 2
}
{
  "nbformat": 4,
  "nbformat_minor": 0,
  "metadata": {
    "colab": {
      "name": "nice-movie-model.ipynb",
      "provenance": [],
      "collapsed_sections": []
    },
    "kernelspec": {
      "name": "python3",
      "display_name": "Python 3"
    },
    "accelerator": "GPU"
  },
  "cells": [
    {
      "cell_type": "code",
      "metadata": {
        "id": "X4FsDixDIzQ9",
        "colab_type": "code",
        "outputId": "18821449-35c7-4b5e-9abe-9e4a1b6703fd",
        "colab": {
          "base_uri": "https://localhost:8080/",
          "height": 124
        }
      },
      "source": [
        "from google.colab import drive\n",
        "drive.mount('/content/gdrive')"
      ],
      "execution_count": 0,
      "outputs": [
        {
          "output_type": "stream",
          "text": [
            "Go to this URL in a browser: https://accounts.google.com/o/oauth2/auth?client_id=947318989803-6bn6qk8qdgf4n4g3pfee6491hc0brc4i.apps.googleusercontent.com&redirect_uri=urn%3aietf%3awg%3aoauth%3a2.0%3aoob&response_type=code&scope=email%20https%3a%2f%2fwww.googleapis.com%2fauth%2fdocs.test%20https%3a%2f%2fwww.googleapis.com%2fauth%2fdrive%20https%3a%2f%2fwww.googleapis.com%2fauth%2fdrive.photos.readonly%20https%3a%2f%2fwww.googleapis.com%2fauth%2fpeopleapi.readonly\n",
            "\n",
            "Enter your authorization code:\n",
            "··········\n",
            "Mounted at /content/gdrive\n"
          ],
          "name": "stdout"
        }
      ]
    },
    {
      "cell_type": "code",
      "metadata": {
        "id": "iPXkey0S6MsO",
        "colab_type": "code",
        "outputId": "e1e9c4e6-82bd-42b1-ecf1-885bcd94de21",
        "colab": {
          "base_uri": "https://localhost:8080/",
          "height": 312
        }
      },
      "source": [
        "!nvidia-smi"
      ],
      "execution_count": 0,
      "outputs": [
        {
          "output_type": "stream",
          "text": [
            "Mon Nov 18 19:48:08 2019       \n",
            "+-----------------------------------------------------------------------------+\n",
            "| NVIDIA-SMI 430.50       Driver Version: 418.67       CUDA Version: 10.1     |\n",
            "|-------------------------------+----------------------+----------------------+\n",
            "| GPU  Name        Persistence-M| Bus-Id        Disp.A | Volatile Uncorr. ECC |\n",
            "| Fan  Temp  Perf  Pwr:Usage/Cap|         Memory-Usage | GPU-Util  Compute M. |\n",
            "|===============================+======================+======================|\n",
            "|   0  Tesla K80           Off  | 00000000:00:04.0 Off |                    0 |\n",
            "| N/A   33C    P8    29W / 149W |      0MiB / 11441MiB |      0%      Default |\n",
            "+-------------------------------+----------------------+----------------------+\n",
            "                                                                               \n",
            "+-----------------------------------------------------------------------------+\n",
            "| Processes:                                                       GPU Memory |\n",
            "|  GPU       PID   Type   Process name                             Usage      |\n",
            "|=============================================================================|\n",
            "|  No running processes found                                                 |\n",
            "+-----------------------------------------------------------------------------+\n"
          ],
          "name": "stdout"
        }
      ]
    },
    {
      "cell_type": "code",
      "metadata": {
        "id": "_eSPvzmPSA_J",
        "colab_type": "code",
        "outputId": "17e5b842-dba7-4dcb-eedf-0d62bedc6cbc",
        "colab": {
          "base_uri": "https://localhost:8080/",
          "height": 124
        }
      },
      "source": [
        "%pip install nlpaug"
      ],
      "execution_count": 0,
      "outputs": [
        {
          "output_type": "stream",
          "text": [
            "Collecting nlpaug\n",
            "\u001b[?25l  Downloading https://files.pythonhosted.org/packages/6e/45/ce353d60920cabe773de35ee8dac0989659c055540fa50eb0f6ac774e6f0/nlpaug-0.0.10-py3-none-any.whl (83kB)\n",
            "\r\u001b[K     |████                            | 10kB 17.5MB/s eta 0:00:01\r\u001b[K     |███████▉                        | 20kB 2.2MB/s eta 0:00:01\r\u001b[K     |███████████▉                    | 30kB 3.2MB/s eta 0:00:01\r\u001b[K     |███████████████▊                | 40kB 2.1MB/s eta 0:00:01\r\u001b[K     |███████████████████▊            | 51kB 2.6MB/s eta 0:00:01\r\u001b[K     |███████████████████████▋        | 61kB 3.1MB/s eta 0:00:01\r\u001b[K     |███████████████████████████▌    | 71kB 3.6MB/s eta 0:00:01\r\u001b[K     |███████████████████████████████▌| 81kB 4.0MB/s eta 0:00:01\r\u001b[K     |████████████████████████████████| 92kB 3.4MB/s \n",
            "\u001b[?25hInstalling collected packages: nlpaug\n",
            "Successfully installed nlpaug-0.0.10\n"
          ],
          "name": "stdout"
        }
      ]
    },
    {
      "cell_type": "code",
      "metadata": {
        "id": "5tMkEUmLmByo",
        "colab_type": "code",
        "colab": {}
      },
      "source": [
        "%pip install torch>=1.2.0 transformers>=2.0.0"
      ],
      "execution_count": 0,
      "outputs": []
    },
    {
      "cell_type": "code",
      "metadata": {
        "id": "rl4LFkMQoya5",
        "colab_type": "code",
        "outputId": "c34daaee-c0f1-47fd-f2f9-b00c9c174c21",
        "colab": {
          "base_uri": "https://localhost:8080/",
          "height": 851
        }
      },
      "source": [
        "%tensorflow_version 1.x\n",
        "import pandas as pd\n",
        "import time\n",
        "\n",
        "import numpy as np\n",
        "from numpy.random import seed\n",
        "seed(9)\n",
        "\n",
        "import tensorflow as tf\n",
        "from tensorflow import set_random_seed\n",
        "set_random_seed(9)\n",
        "\n",
        "import json\n",
        "import nltk\n",
        "from nltk.tokenize import WordPunctTokenizer\n",
        "import keras\n",
        "import re\n",
        "\n",
        "nltk.download(\"popular\")\n",
        "print(tf.__version__)"
      ],
      "execution_count": 0,
      "outputs": [
        {
          "output_type": "stream",
          "text": [
            "Using TensorFlow backend.\n"
          ],
          "name": "stderr"
        },
        {
          "output_type": "stream",
          "text": [
            "[nltk_data] Downloading collection 'popular'\n",
            "[nltk_data]    | \n",
            "[nltk_data]    | Downloading package cmudict to /root/nltk_data...\n",
            "[nltk_data]    |   Unzipping corpora/cmudict.zip.\n",
            "[nltk_data]    | Downloading package gazetteers to /root/nltk_data...\n",
            "[nltk_data]    |   Unzipping corpora/gazetteers.zip.\n",
            "[nltk_data]    | Downloading package genesis to /root/nltk_data...\n",
            "[nltk_data]    |   Unzipping corpora/genesis.zip.\n",
            "[nltk_data]    | Downloading package gutenberg to /root/nltk_data...\n",
            "[nltk_data]    |   Unzipping corpora/gutenberg.zip.\n",
            "[nltk_data]    | Downloading package inaugural to /root/nltk_data...\n",
            "[nltk_data]    |   Unzipping corpora/inaugural.zip.\n",
            "[nltk_data]    | Downloading package movie_reviews to\n",
            "[nltk_data]    |     /root/nltk_data...\n",
            "[nltk_data]    |   Unzipping corpora/movie_reviews.zip.\n",
            "[nltk_data]    | Downloading package names to /root/nltk_data...\n",
            "[nltk_data]    |   Unzipping corpora/names.zip.\n",
            "[nltk_data]    | Downloading package shakespeare to /root/nltk_data...\n",
            "[nltk_data]    |   Unzipping corpora/shakespeare.zip.\n",
            "[nltk_data]    | Downloading package stopwords to /root/nltk_data...\n",
            "[nltk_data]    |   Unzipping corpora/stopwords.zip.\n",
            "[nltk_data]    | Downloading package treebank to /root/nltk_data...\n",
            "[nltk_data]    |   Unzipping corpora/treebank.zip.\n",
            "[nltk_data]    | Downloading package twitter_samples to\n",
            "[nltk_data]    |     /root/nltk_data...\n",
            "[nltk_data]    |   Unzipping corpora/twitter_samples.zip.\n",
            "[nltk_data]    | Downloading package omw to /root/nltk_data...\n",
            "[nltk_data]    |   Unzipping corpora/omw.zip.\n",
            "[nltk_data]    | Downloading package wordnet to /root/nltk_data...\n",
            "[nltk_data]    |   Unzipping corpora/wordnet.zip.\n",
            "[nltk_data]    | Downloading package wordnet_ic to /root/nltk_data...\n",
            "[nltk_data]    |   Unzipping corpora/wordnet_ic.zip.\n",
            "[nltk_data]    | Downloading package words to /root/nltk_data...\n",
            "[nltk_data]    |   Unzipping corpora/words.zip.\n",
            "[nltk_data]    | Downloading package maxent_ne_chunker to\n",
            "[nltk_data]    |     /root/nltk_data...\n",
            "[nltk_data]    |   Unzipping chunkers/maxent_ne_chunker.zip.\n",
            "[nltk_data]    | Downloading package punkt to /root/nltk_data...\n",
            "[nltk_data]    |   Unzipping tokenizers/punkt.zip.\n",
            "[nltk_data]    | Downloading package snowball_data to\n",
            "[nltk_data]    |     /root/nltk_data...\n",
            "[nltk_data]    | Downloading package averaged_perceptron_tagger to\n",
            "[nltk_data]    |     /root/nltk_data...\n",
            "[nltk_data]    |   Unzipping taggers/averaged_perceptron_tagger.zip.\n",
            "[nltk_data]    | \n",
            "[nltk_data]  Done downloading collection popular\n",
            "1.15.0\n"
          ],
          "name": "stdout"
        }
      ]
    },
    {
      "cell_type": "code",
      "metadata": {
        "id": "T1urQMU5YkEC",
        "colab_type": "code",
        "colab": {}
      },
      "source": [
        "dataover = pd.read_csv(\"gdrive/My Drive/TFG/tmdb_spanish_def.csv\", sep='#',encoding='utf-8', lineterminator='\\n')\n",
        "taste = pd.read_csv(\"gdrive/My Drive/TFG/tmdb_spanish_Jaime_def.csv\", sep='#', encoding='utf-8')"
      ],
      "execution_count": 0,
      "outputs": []
    },
    {
      "cell_type": "code",
      "metadata": {
        "id": "_ZKXfq0GiJq6",
        "colab_type": "code",
        "colab": {}
      },
      "source": [
        "taste = taste[~taste['id'].str.contains('/')]\n",
        "taste['id'] = taste['id'].astype(int)"
      ],
      "execution_count": 0,
      "outputs": []
    },
    {
      "cell_type": "code",
      "metadata": {
        "id": "D4mTpGIoaAq1",
        "colab_type": "code",
        "colab": {}
      },
      "source": [
        "# Merge taste and credits\n",
        "\n",
        "data = taste.merge(dataover[['id','title','overview','genres','crew','cast']], left_on='id', right_on='id')"
      ],
      "execution_count": 0,
      "outputs": []
    },
    {
      "cell_type": "code",
      "metadata": {
        "id": "4dWHa6AEIrQl",
        "colab_type": "code",
        "outputId": "85f85523-bc8c-4d52-dd02-9f88de86b6ca",
        "colab": {
          "base_uri": "https://localhost:8080/",
          "height": 771
        }
      },
      "source": [
        "data"
      ],
      "execution_count": 0,
      "outputs": [
        {
          "output_type": "execute_result",
          "data": {
            "text/html": [
              "<div>\n",
              "<style scoped>\n",
              "    .dataframe tbody tr th:only-of-type {\n",
              "        vertical-align: middle;\n",
              "    }\n",
              "\n",
              "    .dataframe tbody tr th {\n",
              "        vertical-align: top;\n",
              "    }\n",
              "\n",
              "    .dataframe thead th {\n",
              "        text-align: right;\n",
              "    }\n",
              "</style>\n",
              "<table border=\"1\" class=\"dataframe\">\n",
              "  <thead>\n",
              "    <tr style=\"text-align: right;\">\n",
              "      <th></th>\n",
              "      <th>id</th>\n",
              "      <th>like</th>\n",
              "      <th>title</th>\n",
              "      <th>overview</th>\n",
              "      <th>genres</th>\n",
              "      <th>crew</th>\n",
              "      <th>cast</th>\n",
              "    </tr>\n",
              "  </thead>\n",
              "  <tbody>\n",
              "    <tr>\n",
              "      <th>0</th>\n",
              "      <td>5</td>\n",
              "      <td>NaN</td>\n",
              "      <td>Four Rooms</td>\n",
              "      <td>Durante una Nochevieja, en un hotel de Los Áng...</td>\n",
              "      <td>[{'id': 80, 'name': 'Crimen'}, {'id': 35, 'nam...</td>\n",
              "      <td>[{'credit_id': '52fe420dc3a36847f800011b', 'de...</td>\n",
              "      <td>[{'cast_id': 42, 'character': 'Ted the Bellhop...</td>\n",
              "    </tr>\n",
              "    <tr>\n",
              "      <th>1</th>\n",
              "      <td>11</td>\n",
              "      <td>1.0</td>\n",
              "      <td>La guerra de las galaxias. Episodio IV: Una nu...</td>\n",
              "      <td>La princesa Leia, líder del movimiento rebelde...</td>\n",
              "      <td>[{'id': 12, 'name': 'Aventura'}, {'id': 28, 'n...</td>\n",
              "      <td>[{'credit_id': '52fe420dc3a36847f8000437', 'de...</td>\n",
              "      <td>[{'cast_id': 3, 'character': 'Luke Skywalker',...</td>\n",
              "    </tr>\n",
              "    <tr>\n",
              "      <th>2</th>\n",
              "      <td>12</td>\n",
              "      <td>1.0</td>\n",
              "      <td>Buscando a Nemo</td>\n",
              "      <td>Nemo, un pececillo, hijo único muy querido y p...</td>\n",
              "      <td>[{'id': 16, 'name': 'Animación'}, {'id': 10751...</td>\n",
              "      <td>[{'credit_id': '52fe420ec3a36847f8000653', 'de...</td>\n",
              "      <td>[{'cast_id': 8, 'character': 'Marlin (voice)',...</td>\n",
              "    </tr>\n",
              "    <tr>\n",
              "      <th>3</th>\n",
              "      <td>13</td>\n",
              "      <td>1.0</td>\n",
              "      <td>Forrest Gump</td>\n",
              "      <td>Forrest Gump es un chico con deficiencias ment...</td>\n",
              "      <td>[{'id': 35, 'name': 'Comedia'}, {'id': 18, 'na...</td>\n",
              "      <td>[{'credit_id': '52fe420ec3a36847f800072d', 'de...</td>\n",
              "      <td>[{'cast_id': 7, 'character': 'Forrest Gump', '...</td>\n",
              "    </tr>\n",
              "    <tr>\n",
              "      <th>4</th>\n",
              "      <td>14</td>\n",
              "      <td>NaN</td>\n",
              "      <td>American Beauty</td>\n",
              "      <td>Divertida, inquietante y sorprendente incursió...</td>\n",
              "      <td>[{'id': 18, 'name': 'Drama'}]</td>\n",
              "      <td>[{'credit_id': '52fe420ec3a36847f80007c5', 'de...</td>\n",
              "      <td>[{'cast_id': 6, 'character': 'Lester Burnham',...</td>\n",
              "    </tr>\n",
              "    <tr>\n",
              "      <th>...</th>\n",
              "      <td>...</td>\n",
              "      <td>...</td>\n",
              "      <td>...</td>\n",
              "      <td>...</td>\n",
              "      <td>...</td>\n",
              "      <td>...</td>\n",
              "      <td>...</td>\n",
              "    </tr>\n",
              "    <tr>\n",
              "      <th>11549</th>\n",
              "      <td>397511</td>\n",
              "      <td>NaN</td>\n",
              "      <td>Misfortune</td>\n",
              "      <td>Boyd, un mecánico desempleado, deberá buscar l...</td>\n",
              "      <td>[{'id': 18, 'name': 'Drama'}, {'id': 80, 'name...</td>\n",
              "      <td>[{'credit_id': '57376693c3a36823b40038ad', 'de...</td>\n",
              "      <td>[{'cast_id': 1, 'character': 'Boyd', 'credit_i...</td>\n",
              "    </tr>\n",
              "    <tr>\n",
              "      <th>11550</th>\n",
              "      <td>348413</td>\n",
              "      <td>NaN</td>\n",
              "      <td>Tango argentino</td>\n",
              "      <td>La profesora de tango argentina Valentina Mart...</td>\n",
              "      <td>[{'id': 18, 'name': 'Drama'}]</td>\n",
              "      <td>[{'credit_id': '55a26d71925141296e003744', 'de...</td>\n",
              "      <td>[{'cast_id': 1, 'character': 'Valentina Martin...</td>\n",
              "    </tr>\n",
              "    <tr>\n",
              "      <th>11551</th>\n",
              "      <td>461264</td>\n",
              "      <td>NaN</td>\n",
              "      <td>Ya no siento nada</td>\n",
              "      <td>Él es un mago. Ella es una bombera. Aislándose...</td>\n",
              "      <td>[{'id': 16, 'name': 'Animación'}]</td>\n",
              "      <td>[{'credit_id': '593b31ee925141059b0024b3', 'de...</td>\n",
              "      <td>[]</td>\n",
              "    </tr>\n",
              "    <tr>\n",
              "      <th>11552</th>\n",
              "      <td>429691</td>\n",
              "      <td>NaN</td>\n",
              "      <td>El proyecto supermente</td>\n",
              "      <td>En Los Ángeles, la tierra se estremece,  la ge...</td>\n",
              "      <td>[{'id': 28, 'name': 'Acción'}, {'id': 53, 'nam...</td>\n",
              "      <td>[{'credit_id': '584c723b9251411e35002a5b', 'de...</td>\n",
              "      <td>[{'cast_id': 1, 'character': 'General White', ...</td>\n",
              "    </tr>\n",
              "    <tr>\n",
              "      <th>11553</th>\n",
              "      <td>420472</td>\n",
              "      <td>NaN</td>\n",
              "      <td>El complot</td>\n",
              "      <td>Cameron pensaba que tenía una vida perfecta co...</td>\n",
              "      <td>[{'id': 53, 'name': 'Suspense'}]</td>\n",
              "      <td>[{'credit_id': '5891d85d9251412dcb006cf9', 'de...</td>\n",
              "      <td>[{'cast_id': 8, 'character': 'Cameron', 'credi...</td>\n",
              "    </tr>\n",
              "  </tbody>\n",
              "</table>\n",
              "<p>11554 rows × 7 columns</p>\n",
              "</div>"
            ],
            "text/plain": [
              "           id  ...                                               cast\n",
              "0           5  ...  [{'cast_id': 42, 'character': 'Ted the Bellhop...\n",
              "1          11  ...  [{'cast_id': 3, 'character': 'Luke Skywalker',...\n",
              "2          12  ...  [{'cast_id': 8, 'character': 'Marlin (voice)',...\n",
              "3          13  ...  [{'cast_id': 7, 'character': 'Forrest Gump', '...\n",
              "4          14  ...  [{'cast_id': 6, 'character': 'Lester Burnham',...\n",
              "...       ...  ...                                                ...\n",
              "11549  397511  ...  [{'cast_id': 1, 'character': 'Boyd', 'credit_i...\n",
              "11550  348413  ...  [{'cast_id': 1, 'character': 'Valentina Martin...\n",
              "11551  461264  ...                                                 []\n",
              "11552  429691  ...  [{'cast_id': 1, 'character': 'General White', ...\n",
              "11553  420472  ...  [{'cast_id': 8, 'character': 'Cameron', 'credi...\n",
              "\n",
              "[11554 rows x 7 columns]"
            ]
          },
          "metadata": {
            "tags": []
          },
          "execution_count": 162
        }
      ]
    },
    {
      "cell_type": "code",
      "metadata": {
        "id": "lhpyV6W4gXPh",
        "colab_type": "code",
        "outputId": "7775e8f4-e8e4-4949-d411-465c6863bbcd",
        "colab": {
          "base_uri": "https://localhost:8080/",
          "height": 34
        }
      },
      "source": [
        "data = data[~pd.isna(data.overview)]\n",
        "len(data)"
      ],
      "execution_count": 0,
      "outputs": [
        {
          "output_type": "execute_result",
          "data": {
            "text/plain": [
              "11166"
            ]
          },
          "metadata": {
            "tags": []
          },
          "execution_count": 163
        }
      ]
    },
    {
      "cell_type": "code",
      "metadata": {
        "id": "0zId8PUhkQX0",
        "colab_type": "code",
        "outputId": "d437d260-8dcb-4ec7-afbc-3374f230207d",
        "colab": {
          "base_uri": "https://localhost:8080/",
          "height": 34
        }
      },
      "source": [
        "data = data.dropna(subset=['like'])\n",
        "data['like'] = data['like'].astype(int)\n",
        "data.reset_index(inplace=True,drop=True)\n",
        "len(data)"
      ],
      "execution_count": 0,
      "outputs": [
        {
          "output_type": "execute_result",
          "data": {
            "text/plain": [
              "1109"
            ]
          },
          "metadata": {
            "tags": []
          },
          "execution_count": 164
        }
      ]
    },
    {
      "cell_type": "code",
      "metadata": {
        "id": "-l7_kcrl_Iv4",
        "colab_type": "code",
        "colab": {}
      },
      "source": [
        "# Clean overviews ver que ocurre con deadpool y deadpool 2 \n",
        "\n",
        "import string\n",
        "\n",
        "stop_words = pd.read_csv(\"gdrive/My Drive/TFG/stopwords-es.txt\",header=None)\n",
        "stop_words = stop_words[0].tolist() + ['secuela']\n",
        "\n",
        "def normalize(s):\n",
        "  s = s.lower()\n",
        "  replacements = (\n",
        "      (\"á\", \"a\"),\n",
        "      (\"é\", \"e\"),\n",
        "      (\"í\", \"i\"),\n",
        "      (\"ó\", \"o\"),\n",
        "      (\"ú\", \"u\"),\n",
        "      (\"ñ\", \"n\")\n",
        "  )\n",
        "  for a, b in replacements:\n",
        "      s = s.replace(a, b).replace(a.upper(), b.upper())\n",
        "  return s\n",
        "\n",
        "def split_punt(x):\n",
        "  words = WordPunctTokenizer().tokenize(x)\n",
        "  x = str(' '.join(words))\n",
        "  x = re.sub(' +', ' ', x)\n",
        "  return x\n",
        "\n",
        "def delete_stop_words(x):\n",
        "  x = x.translate(str.maketrans('','',string.punctuation))\n",
        "  x = x.translate(str.maketrans('','','1234567890ªº¡¿'))\n",
        "  words = x.split(' ')\n",
        "  words = [word for word in words if word not in stop_words]\n",
        "  x = str(' '.join(words))\n",
        "  return x"
      ],
      "execution_count": 0,
      "outputs": []
    },
    {
      "cell_type": "code",
      "metadata": {
        "id": "fJnmSCnwYzYd",
        "colab_type": "code",
        "colab": {}
      },
      "source": [
        "data['overview']= data['overview'].apply(lambda x: split_punt(x))"
      ],
      "execution_count": 0,
      "outputs": []
    },
    {
      "cell_type": "code",
      "metadata": {
        "id": "hSEAKnpeVyfk",
        "colab_type": "code",
        "colab": {}
      },
      "source": [
        "# Steaming overview\n",
        "\n",
        "from nltk import word_tokenize\n",
        "from nltk.stem import SnowballStemmer\n",
        "\n",
        "stemmer = SnowballStemmer(\"spanish\", ignore_stopwords=True)\n",
        "\n",
        "def stem_sentence(sentence):\n",
        "  stemmed_text = [stemmer.stem(word) for word in word_tokenize(sentence)]\n",
        "  return \" \".join(stemmed_text)\n",
        "  "
      ],
      "execution_count": 0,
      "outputs": []
    },
    {
      "cell_type": "code",
      "metadata": {
        "id": "_hs9fQ23G_TW",
        "colab_type": "code",
        "colab": {}
      },
      "source": [
        "import nlpaug.augmenter.char as nac\n",
        "import nlpaug.augmenter.word as naw\n",
        "import nlpaug.augmenter.sentence as nas\n",
        "import nlpaug.flow as naf\n",
        "\n",
        "from nlpaug.util import Action\n",
        "\n",
        "aug = naf.Sequential([\n",
        "    naw.ContextualWordEmbsAug(model_path='bert-base-multilingual-cased', action=\"insert\", aug_p=0.1),\n",
        "    naw.ContextualWordEmbsAug(model_path='bert-base-multilingual-cased', action=\"substitute\", aug_p=0.9),\n",
        "    naw.RandomWordAug(action=\"delete\", aug_p=0.1)\n",
        "])\n",
        "\n",
        "def augment(x):\n",
        "  try:\n",
        "    return aug.augment(x)\n",
        "  except:\n",
        "    return None\n"
      ],
      "execution_count": 0,
      "outputs": []
    },
    {
      "cell_type": "code",
      "metadata": {
        "id": "3D5xiv1eRzQ1",
        "colab_type": "code",
        "colab": {}
      },
      "source": [
        "# Get staff and paste to overview\n",
        "\n",
        "def eval_cell(cell):\n",
        "  \n",
        "  try:\n",
        "    \n",
        "    cell_array = eval(cell)\n",
        "  \n",
        "  except:\n",
        "    \n",
        "    cell_array = []\n",
        "  \n",
        "  return cell_array\n",
        "\n",
        "def get_actors(cast):\n",
        "  \n",
        "  eval_cast = eval_cell(cast)\n",
        "  \n",
        "  if len(eval_cast) > 2:\n",
        "    up = 3\n",
        "  else:\n",
        "    up = len(eval_cast)\n",
        "\n",
        "  actors = ''\n",
        "  \n",
        "  for i in range(0,up):\n",
        "    actor = eval_cast[i]['name']\n",
        "    actor = normalize(actor.replace(' ','_').lower())\n",
        "  \n",
        "    actors = actors + ' ' + actor\n",
        "  \n",
        "  return actors\n",
        "\n",
        "def get_director(crew):\n",
        "  \n",
        "  eval_crew = eval_cell(crew)\n",
        "  \n",
        "  directors = [member['name'] for member in eval_crew if member['job'] == 'Director']\n",
        "  directors = [normalize(director.replace(' ','_').lower()) for director in directors]\n",
        "  directors = str(' '.join(directors))\n",
        "  \n",
        "  return directors"
      ],
      "execution_count": 0,
      "outputs": []
    },
    {
      "cell_type": "code",
      "metadata": {
        "id": "mwp9UDLvh5Kw",
        "colab_type": "code",
        "colab": {}
      },
      "source": [
        "from sklearn.model_selection import train_test_split\n",
        "\n",
        "df = data[['overview','cast','crew','like']]\n",
        "\n",
        "train, test = train_test_split(df, test_size=0.15, stratify=df['like'], random_state=1996)"
      ],
      "execution_count": 0,
      "outputs": []
    },
    {
      "cell_type": "code",
      "metadata": {
        "id": "RmaaVM10hEqE",
        "colab_type": "code",
        "colab": {}
      },
      "source": [
        "# Generate training data\n",
        "\n",
        "train_aug_1 = train.copy()\n",
        "train_aug_1['overview'] = train_aug_1['overview'].apply(lambda x: augment(x))\n",
        "train_aug_1 = train_aug_1.dropna(subset=['overview'])\n",
        "\n",
        "train_aug_2 = train_aug_1.copy()\n",
        "train_aug_2['overview'] = train_aug_2['overview'].apply(lambda x: augment(x))\n",
        "train_aug_2 = train_aug_2.dropna(subset=['overview'])"
      ],
      "execution_count": 0,
      "outputs": []
    },
    {
      "cell_type": "code",
      "metadata": {
        "id": "DaefzNhLIcWf",
        "colab_type": "code",
        "outputId": "022f56ca-7c2f-4ff2-c3db-b50c9f878c33",
        "colab": {
          "base_uri": "https://localhost:8080/",
          "height": 54
        }
      },
      "source": [
        "train.iloc[0].overview"
      ],
      "execution_count": 0,
      "outputs": [
        {
          "output_type": "execute_result",
          "data": {
            "text/plain": [
              "'La supervivencia de la humanidad pende de un hilo , pero Beck , un héroe mortal , está decidido a salvar el mundo y a rescatar a su verdadero amor . Para conseguirlo busca la ayuda del poderoso dios Horus , con el que establecerá una alianza contra Set , el despiadado dios de la oscuridad que ha usurpado el trono de Egipto , sumiendo al país en el caos . Para ganar la batalla contra Set y sus secuaces tendrán que someterse a terribles pruebas de valentía y sacrificio .'"
            ]
          },
          "metadata": {
            "tags": []
          },
          "execution_count": 175
        }
      ]
    },
    {
      "cell_type": "code",
      "metadata": {
        "id": "Xh40Fzlt-gvV",
        "colab_type": "code",
        "outputId": "241934ed-b1a7-4b68-ab81-7834d4a9f9e1",
        "colab": {
          "base_uri": "https://localhost:8080/",
          "height": 54
        }
      },
      "source": [
        "train_aug_1.iloc[0].overview"
      ],
      "execution_count": 0,
      "outputs": [
        {
          "output_type": "execute_result",
          "data": {
            "text/plain": [
              "'La de su humanidad pende de nuevo hilo , pero Beck , un héroe solitario , a no salvar el y a rescatar a su verdadero amor . Para conseguirlo la ayuda técnica del poderoso Horus , con el que establecerá una alianza contra Set , es el despiadado y dios la oscuridad que ha usurpado definitivamente el dominio original de Egipto , sumiendo al país en el caos . terminar la batalla contra Set y sus secuaces tendrán que someterse a terribles pruebas y valentía y de sacrificio .'"
            ]
          },
          "metadata": {
            "tags": []
          },
          "execution_count": 176
        }
      ]
    },
    {
      "cell_type": "code",
      "metadata": {
        "id": "Rs4bZ2Rg-fbP",
        "colab_type": "code",
        "outputId": "a5f45509-e602-4f3f-bb0e-0faf99684177",
        "colab": {
          "base_uri": "https://localhost:8080/",
          "height": 54
        }
      },
      "source": [
        "train_aug_2.iloc[0].overview"
      ],
      "execution_count": 0,
      "outputs": [
        {
          "output_type": "execute_result",
          "data": {
            "text/plain": [
              "'La de su humanidad pende al nuevo hilo , pero Beck , un héroe virtual solitario , puede no salvar el tiempo a rescatar a su verdadero mundo . Para conseguirlo ayuda y técnica del prominente príncipe Horus , con el objetivo se establecerá una alianza contra Set , es el despiadado y dios la oscuridad que ha usurpado definitivamente su dominio ( original ) de , sumiendo al país por caos . terminar la batalla contra Set sus secuaces tendrán que someterse o moral de y de sacrificio .'"
            ]
          },
          "metadata": {
            "tags": []
          },
          "execution_count": 177
        }
      ]
    },
    {
      "cell_type": "code",
      "metadata": {
        "id": "qcwVa4a1ilhu",
        "colab_type": "code",
        "outputId": "1719b1e5-53b1-4bc8-f053-789ea5d590d3",
        "colab": {
          "base_uri": "https://localhost:8080/",
          "height": 766
        }
      },
      "source": [
        "train_new = train.append(train_aug_1).append(train_aug_2)\n",
        "\n",
        "def transform_over(df):\n",
        "  df['overview'] = df['overview'].apply(lambda x: normalize(x))\n",
        "  df['overview'] = df['overview'].apply(lambda x: delete_stop_words(x))\n",
        "  df['overview'] = df['overview'].apply(lambda x: stem_sentence(x))\n",
        "  df['overview'] = df.apply(lambda x: get_actors(x['cast']) + ' ' + x['overview'] , axis=1)\n",
        "  df['overview'] = df.apply(lambda x: get_director(x['crew']) + x['overview'] , axis=1)\n",
        "  df['overview'] = df['overview'].apply(lambda x: normalize(x))\n",
        "  df['overview'] = df['overview'].apply(lambda x: delete_stop_words(x))\n",
        "\n",
        "  return df\n",
        "\n",
        "train_new = transform_over(train_new).reset_index()\n",
        "test_new = transform_over(test).reset_index()\n",
        "\n",
        "X_train = train_new.overview.values\n",
        "y_train = train_new.like.values\n",
        "X_test = test_new.overview.values\n",
        "y_test = test_new.like.values"
      ],
      "execution_count": 0,
      "outputs": [
        {
          "output_type": "stream",
          "text": [
            "/usr/local/lib/python3.6/dist-packages/ipykernel_launcher.py:4: SettingWithCopyWarning: \n",
            "A value is trying to be set on a copy of a slice from a DataFrame.\n",
            "Try using .loc[row_indexer,col_indexer] = value instead\n",
            "\n",
            "See the caveats in the documentation: http://pandas.pydata.org/pandas-docs/stable/user_guide/indexing.html#returning-a-view-versus-a-copy\n",
            "  after removing the cwd from sys.path.\n",
            "/usr/local/lib/python3.6/dist-packages/ipykernel_launcher.py:5: SettingWithCopyWarning: \n",
            "A value is trying to be set on a copy of a slice from a DataFrame.\n",
            "Try using .loc[row_indexer,col_indexer] = value instead\n",
            "\n",
            "See the caveats in the documentation: http://pandas.pydata.org/pandas-docs/stable/user_guide/indexing.html#returning-a-view-versus-a-copy\n",
            "  \"\"\"\n",
            "/usr/local/lib/python3.6/dist-packages/ipykernel_launcher.py:6: SettingWithCopyWarning: \n",
            "A value is trying to be set on a copy of a slice from a DataFrame.\n",
            "Try using .loc[row_indexer,col_indexer] = value instead\n",
            "\n",
            "See the caveats in the documentation: http://pandas.pydata.org/pandas-docs/stable/user_guide/indexing.html#returning-a-view-versus-a-copy\n",
            "  \n",
            "/usr/local/lib/python3.6/dist-packages/ipykernel_launcher.py:7: SettingWithCopyWarning: \n",
            "A value is trying to be set on a copy of a slice from a DataFrame.\n",
            "Try using .loc[row_indexer,col_indexer] = value instead\n",
            "\n",
            "See the caveats in the documentation: http://pandas.pydata.org/pandas-docs/stable/user_guide/indexing.html#returning-a-view-versus-a-copy\n",
            "  import sys\n",
            "/usr/local/lib/python3.6/dist-packages/ipykernel_launcher.py:8: SettingWithCopyWarning: \n",
            "A value is trying to be set on a copy of a slice from a DataFrame.\n",
            "Try using .loc[row_indexer,col_indexer] = value instead\n",
            "\n",
            "See the caveats in the documentation: http://pandas.pydata.org/pandas-docs/stable/user_guide/indexing.html#returning-a-view-versus-a-copy\n",
            "  \n",
            "/usr/local/lib/python3.6/dist-packages/ipykernel_launcher.py:9: SettingWithCopyWarning: \n",
            "A value is trying to be set on a copy of a slice from a DataFrame.\n",
            "Try using .loc[row_indexer,col_indexer] = value instead\n",
            "\n",
            "See the caveats in the documentation: http://pandas.pydata.org/pandas-docs/stable/user_guide/indexing.html#returning-a-view-versus-a-copy\n",
            "  if __name__ == '__main__':\n",
            "/usr/local/lib/python3.6/dist-packages/ipykernel_launcher.py:10: SettingWithCopyWarning: \n",
            "A value is trying to be set on a copy of a slice from a DataFrame.\n",
            "Try using .loc[row_indexer,col_indexer] = value instead\n",
            "\n",
            "See the caveats in the documentation: http://pandas.pydata.org/pandas-docs/stable/user_guide/indexing.html#returning-a-view-versus-a-copy\n",
            "  # Remove the CWD from sys.path while we load stuff.\n"
          ],
          "name": "stderr"
        }
      ]
    },
    {
      "cell_type": "code",
      "metadata": {
        "id": "j5pooRddATyH",
        "colab_type": "code",
        "colab": {}
      },
      "source": [
        "columns_train = {'overview': X_train, 'like': y_train}\n",
        "train_df = pd.DataFrame(data=columns_train)\n",
        "train_df.to_csv('gdrive/My Drive/TFG/train' + '.csv', sep=';', encoding='utf-8', index=False)\n",
        "\n",
        "columns_test = {'overview': X_test, 'like': y_test}\n",
        "test_df = pd.DataFrame(data=columns_test)\n",
        "test_df.to_csv('gdrive/My Drive/TFG/test' + '.csv', sep=';', encoding='utf-8', index=False)"
      ],
      "execution_count": 0,
      "outputs": []
    },
    {
      "cell_type": "code",
      "metadata": {
        "id": "hgMdTSe4Af9c",
        "colab_type": "code",
        "colab": {}
      },
      "source": [
        "train_df = pd.read_csv('gdrive/My Drive/TFG/train.csv', sep=';', encoding='utf-8')\n",
        "test_df = pd.read_csv('gdrive/My Drive/TFG/test.csv', sep=';', encoding='utf-8')\n",
        "\n",
        "X_train = train_df.overview.values\n",
        "y_train = train_df.like.values\n",
        "X_test = test_df.overview.values\n",
        "y_test = test_df.like.values"
      ],
      "execution_count": 0,
      "outputs": []
    },
    {
      "cell_type": "code",
      "metadata": {
        "id": "ytxLvkJL_F_s",
        "colab_type": "code",
        "outputId": "06fb8cf6-2c9c-403d-8d78-8105ad8d9105",
        "colab": {
          "base_uri": "https://localhost:8080/",
          "height": 459
        }
      },
      "source": [
        "import seaborn as sns\n",
        "sns.set(color_codes=True)\n",
        "\n",
        "over_lenghts = train_df.overview.str.split().apply(len)\n",
        "print(over_lenghts.describe())\n",
        "\n",
        "sns.distplot(over_lenghts)"
      ],
      "execution_count": 0,
      "outputs": [
        {
          "output_type": "stream",
          "text": [
            "count    2788.000000\n",
            "mean       41.519727\n",
            "std        15.836761\n",
            "min         8.000000\n",
            "25%        30.000000\n",
            "50%        40.000000\n",
            "75%        52.000000\n",
            "max        91.000000\n",
            "Name: overview, dtype: float64\n"
          ],
          "name": "stdout"
        },
        {
          "output_type": "execute_result",
          "data": {
            "text/plain": [
              "<matplotlib.axes._subplots.AxesSubplot at 0x7fef605c7080>"
            ]
          },
          "metadata": {
            "tags": []
          },
          "execution_count": 7
        },
        {
          "output_type": "display_data",
          "data": {
            "image/png": "[encoded data removed]",
            "text/plain": [
              "<Figure size 432x288 with 1 Axes>"
            ]
          },
          "metadata": {
            "tags": []
          }
        }
      ]
    },
    {
      "cell_type": "code",
      "metadata": {
        "id": "GKNbtClGH2BX",
        "colab_type": "code",
        "outputId": "6fb3dc84-e049-4dc1-f5d8-306e281c1722",
        "colab": {
          "base_uri": "https://localhost:8080/",
          "height": 54
        }
      },
      "source": [
        "X_test[0]"
      ],
      "execution_count": 0,
      "outputs": [
        {
          "output_type": "execute_result",
          "data": {
            "text/plain": [
              "'gasparnoe nathanielbrown pazdelahuerta cyrilroy oscar herman lind viv toky sobreviv trafic drog stripp club nocturn forceje polici oscar cae her dispar agoniz espiritu fiel promes abandon herman rechaz abandon mund viv espiritu vag ciud vision caotic filmaffinity'"
            ]
          },
          "metadata": {
            "tags": []
          },
          "execution_count": 8
        }
      ]
    },
    {
      "cell_type": "code",
      "metadata": {
        "id": "1APEOOWyi-gO",
        "colab_type": "code",
        "colab": {}
      },
      "source": [
        "# Embedding\n",
        "num_words = 8000\n",
        "maxlen = 80"
      ],
      "execution_count": 0,
      "outputs": []
    },
    {
      "cell_type": "code",
      "metadata": {
        "id": "lBLAw0i0i5j3",
        "colab_type": "code",
        "outputId": "3c748b9a-8b94-4eef-9465-898c8d3d0b21",
        "colab": {
          "base_uri": "https://localhost:8080/",
          "height": 106
        }
      },
      "source": [
        "from keras.preprocessing.text import Tokenizer\n",
        "\n",
        "tokenizer = Tokenizer() \n",
        "tokenizer.fit_on_texts(X_train)\n",
        "print(X_train[2]) \n",
        "\n",
        "X_train = tokenizer.texts_to_sequences(X_train) \n",
        "X_test = tokenizer.texts_to_sequences(X_test)\n",
        "\n",
        "vocab_size = len(tokenizer.word_index) + 1 # Adding 1 because of reserved 0 index\n",
        "\n",
        "print(X_train[2]) \n",
        "print(vocab_size)\n",
        "\n",
        "# Max length vector\n",
        "len(max(X_train, key=len))"
      ],
      "execution_count": 0,
      "outputs": [
        {
          "output_type": "stream",
          "text": [
            "davidayer willsmith margotrobbie joelkinnaman gobiern ee uu respond visit alienigen tierr intencion malign amand mur wall lid agenci secret ofrec curios solucion reclut villan cruel habil letal magic trabaj demasi opcion negat supervillan peligr mund acced colabor ejecut peligr mision secret suic logr limpi expedient\n",
            "[2414, 585, 1570, 1916, 465, 998, 1399, 1186, 138, 159, 21, 353, 342, 907, 1703, 1296, 274, 406, 24, 335, 1571, 405, 296, 106, 734, 244, 508, 197, 235, 2281, 908, 1704, 1806, 20, 2, 1474, 466, 1187, 20, 33, 24, 1917, 108, 909, 948]\n",
            "10162\n"
          ],
          "name": "stdout"
        },
        {
          "output_type": "execute_result",
          "data": {
            "text/plain": [
              "91"
            ]
          },
          "metadata": {
            "tags": []
          },
          "execution_count": 10
        }
      ]
    },
    {
      "cell_type": "code",
      "metadata": {
        "id": "7gUTUeS7CN_X",
        "colab_type": "code",
        "outputId": "a1434545-1514-497d-a4ef-98aebef43529",
        "colab": {
          "base_uri": "https://localhost:8080/",
          "height": 34
        }
      },
      "source": [
        "max([max(i) for i in X_train])"
      ],
      "execution_count": 0,
      "outputs": [
        {
          "output_type": "execute_result",
          "data": {
            "text/plain": [
              "10161"
            ]
          },
          "metadata": {
            "tags": []
          },
          "execution_count": 11
        }
      ]
    },
    {
      "cell_type": "code",
      "metadata": {
        "id": "sQ_2DQpPJzlp",
        "colab_type": "code",
        "outputId": "0c75662f-143f-413b-b846-fe61f3c63cc2",
        "colab": {
          "base_uri": "https://localhost:8080/",
          "height": 1000
        }
      },
      "source": [
        "tokenizer.word_index"
      ],
      "execution_count": 0,
      "outputs": [
        {
          "output_type": "execute_result",
          "data": {
            "text/plain": [
              "{'vid': 1,\n",
              " 'mund': 2,\n",
              " 'jov': 3,\n",
              " 'anos': 4,\n",
              " 'cas': 5,\n",
              " 'amig': 6,\n",
              " 'hij': 7,\n",
              " 'viv': 8,\n",
              " 'padr': 9,\n",
              " 'descubr': 10,\n",
              " 'human': 11,\n",
              " 'llam': 12,\n",
              " 'famili': 13,\n",
              " 'ayud': 14,\n",
              " 'conoc': 15,\n",
              " 'enfrent': 16,\n",
              " 'histori': 17,\n",
              " 'decid': 18,\n",
              " 'misteri': 19,\n",
              " 'peligr': 20,\n",
              " 'tierr': 21,\n",
              " 'lleg': 22,\n",
              " 'pequen': 23,\n",
              " 'secret': 24,\n",
              " 'busc': 25,\n",
              " 'hombr': 26,\n",
              " 'agent': 27,\n",
              " 'unic': 28,\n",
              " 'salv': 29,\n",
              " 'grup': 30,\n",
              " 'form': 31,\n",
              " 'luch': 32,\n",
              " 'mision': 33,\n",
              " 'viaj': 34,\n",
              " 'ciud': 35,\n",
              " 'encontr': 36,\n",
              " 'nin': 37,\n",
              " 'pas': 38,\n",
              " 'equip': 39,\n",
              " 'acab': 40,\n",
              " 'unk': 41,\n",
              " 'muert': 42,\n",
              " 'herman': 43,\n",
              " 'muj': 44,\n",
              " 'antigu': 45,\n",
              " 'tendr': 46,\n",
              " 'cre': 47,\n",
              " 'chic': 48,\n",
              " 'fuerz': 49,\n",
              " 'aventur': 50,\n",
              " 'planet': 51,\n",
              " 'dej': 52,\n",
              " 'cambi': 53,\n",
              " 'futur': 54,\n",
              " 'vuelv': 55,\n",
              " 'guerr': 56,\n",
              " 'madr': 57,\n",
              " 'pelicul': 58,\n",
              " 'convert': 59,\n",
              " 'seri': 60,\n",
              " 'polici': 61,\n",
              " 'deber': 62,\n",
              " 'qued': 63,\n",
              " 'joven': 64,\n",
              " 'asesin': 65,\n",
              " 'tom': 66,\n",
              " 'especial': 67,\n",
              " 'amenaz': 68,\n",
              " 'llev': 69,\n",
              " 'regres': 70,\n",
              " 'objet': 71,\n",
              " 'rein': 72,\n",
              " 'jam': 73,\n",
              " '́': 74,\n",
              " 'plan': 75,\n",
              " 'esper': 76,\n",
              " 'john': 77,\n",
              " 'entreg': 78,\n",
              " 'person': 79,\n",
              " 'amor': 80,\n",
              " 'perd': 81,\n",
              " 'enemig': 82,\n",
              " 'adolescent': 83,\n",
              " 'relacion': 84,\n",
              " 'junt': 85,\n",
              " 'comienz': 86,\n",
              " 'ultim': 87,\n",
              " 'estudi': 88,\n",
              " 'suen': 89,\n",
              " 'famos': 90,\n",
              " 'oscur': 91,\n",
              " 'univers': 92,\n",
              " 'man': 93,\n",
              " 'problem': 94,\n",
              " 'ano': 95,\n",
              " 'jef': 96,\n",
              " 'band': 97,\n",
              " 'bas': 98,\n",
              " 'dirig': 99,\n",
              " 'investig': 100,\n",
              " 'carrer': 101,\n",
              " 'viej': 102,\n",
              " 'empiez': 103,\n",
              " 'noch': 104,\n",
              " 'realid': 105,\n",
              " 'villan': 106,\n",
              " 'jueg': 107,\n",
              " 'logr': 108,\n",
              " 'camin': 109,\n",
              " 'pon': 110,\n",
              " 'complet': 111,\n",
              " 've': 112,\n",
              " 'gan': 113,\n",
              " 'volv': 114,\n",
              " 'destin': 115,\n",
              " 'libr': 116,\n",
              " 'unid': 117,\n",
              " 'mil': 118,\n",
              " 'profesor': 119,\n",
              " 'personaj': 120,\n",
              " 'intent': 121,\n",
              " 'puebl': 122,\n",
              " 'sag': 123,\n",
              " 'punt': 124,\n",
              " 'oblig': 125,\n",
              " 'encuentr': 126,\n",
              " 'ali': 127,\n",
              " 'segur': 128,\n",
              " 'extran': 129,\n",
              " 'real': 130,\n",
              " 'orden': 131,\n",
              " 'personal': 132,\n",
              " 'evit': 133,\n",
              " 'rey': 134,\n",
              " 'recuper': 135,\n",
              " 'criatur': 136,\n",
              " 'malv': 137,\n",
              " 'visit': 138,\n",
              " 'criminal': 139,\n",
              " 'entren': 140,\n",
              " 'trat': 141,\n",
              " 'destru': 142,\n",
              " 'dese': 143,\n",
              " 'conviert': 144,\n",
              " 'proteg': 145,\n",
              " 'envi': 146,\n",
              " 'novi': 147,\n",
              " 'cuy': 148,\n",
              " 'aparent': 149,\n",
              " 'companer': 150,\n",
              " 'cientif': 151,\n",
              " 'prueb': 152,\n",
              " 'ejercit': 153,\n",
              " 'recib': 154,\n",
              " 'rescat': 155,\n",
              " 'capit': 156,\n",
              " 'sobreviv': 157,\n",
              " 'terribl': 158,\n",
              " 'alienigen': 159,\n",
              " 'result': 160,\n",
              " 'negr': 161,\n",
              " 'original': 162,\n",
              " 'exit': 163,\n",
              " 'cab': 164,\n",
              " 'cuerp': 165,\n",
              " 'batall': 166,\n",
              " 'blanc': 167,\n",
              " 'mundial': 168,\n",
              " 'escap': 169,\n",
              " 'termin': 170,\n",
              " 'michael': 171,\n",
              " 'asesinat': 172,\n",
              " 'control': 173,\n",
              " 'terror': 174,\n",
              " 'pet': 175,\n",
              " 'bond': 176,\n",
              " 'trav': 177,\n",
              " 'hac': 178,\n",
              " 'combat': 179,\n",
              " 'bell': 180,\n",
              " 'inesper': 181,\n",
              " 'adaptacion': 182,\n",
              " 'york': 183,\n",
              " 'situacion': 184,\n",
              " 'parej': 185,\n",
              " 'accion': 186,\n",
              " 'espos': 187,\n",
              " 'guerrer': 188,\n",
              " 'enorm': 189,\n",
              " 'com': 190,\n",
              " 'princes': 191,\n",
              " 'mat': 192,\n",
              " 'nuev': 193,\n",
              " 'centr': 194,\n",
              " 'nombr': 195,\n",
              " 'popul': 196,\n",
              " 'magic': 197,\n",
              " 'continu': 198,\n",
              " 'utiliz': 199,\n",
              " 'import': 200,\n",
              " 'nav': 201,\n",
              " 'isla': 202,\n",
              " 'estrell': 203,\n",
              " 'reun': 204,\n",
              " 'espacial': 205,\n",
              " 'program': 206,\n",
              " 'dur': 207,\n",
              " 'venganz': 208,\n",
              " 'the': 209,\n",
              " 'acerc': 210,\n",
              " 'protagon': 211,\n",
              " 'inici': 212,\n",
              " 'hog': 213,\n",
              " 'monstru': 214,\n",
              " 'mar': 215,\n",
              " 'acompan': 216,\n",
              " 'lider': 217,\n",
              " 'principal': 218,\n",
              " 'hero': 219,\n",
              " 'aparec': 220,\n",
              " 'realment': 221,\n",
              " 'inteligent': 222,\n",
              " 'rest': 223,\n",
              " 'habit': 224,\n",
              " 'escond': 225,\n",
              " 'cin': 226,\n",
              " 'vist': 227,\n",
              " 'rob': 228,\n",
              " 'jack': 229,\n",
              " 'sold': 230,\n",
              " 'vigil': 231,\n",
              " 'raz': 232,\n",
              " 'enamor': 233,\n",
              " 'mortal': 234,\n",
              " 'trabaj': 235,\n",
              " 'her': 236,\n",
              " 'comun': 237,\n",
              " 'narr': 238,\n",
              " 'ide': 239,\n",
              " 'public': 240,\n",
              " 'doctor': 241,\n",
              " 'cumpl': 242,\n",
              " 'oficial': 243,\n",
              " 'habil': 244,\n",
              " 'destruccion': 245,\n",
              " 'existent': 246,\n",
              " 'detectiv': 247,\n",
              " 'ocurr': 248,\n",
              " 'miembr': 249,\n",
              " 'britan': 250,\n",
              " 'abandon': 251,\n",
              " 'dav': 252,\n",
              " 'atac': 253,\n",
              " 'secuestr': 254,\n",
              " 'complic': 255,\n",
              " 'milit': 256,\n",
              " 'mutant': 257,\n",
              " 'captur': 258,\n",
              " 'atrap': 259,\n",
              " 'rapid': 260,\n",
              " '«': 261,\n",
              " 'animal': 262,\n",
              " 'enter': 263,\n",
              " 'deten': 264,\n",
              " 'ric': 265,\n",
              " 'ataqu': 266,\n",
              " 'alici': 267,\n",
              " 'sup': 268,\n",
              " 'experiment': 269,\n",
              " 'internacional': 270,\n",
              " 'millon': 271,\n",
              " 'fiest': 272,\n",
              " 'espectacul': 273,\n",
              " 'lid': 274,\n",
              " 'med': 275,\n",
              " 'will': 276,\n",
              " 'ocasion': 277,\n",
              " 'jon': 278,\n",
              " 'super': 279,\n",
              " 'ident': 280,\n",
              " 'har': 281,\n",
              " 'luz': 282,\n",
              " 'clas': 283,\n",
              " 'busqued': 284,\n",
              " 'diner': 285,\n",
              " 'desarroll': 286,\n",
              " 'estadounidens': 287,\n",
              " 'encarg': 288,\n",
              " 'transform': 289,\n",
              " 'bruj': 290,\n",
              " 'desaparec': 291,\n",
              " 'corazon': 292,\n",
              " 'caus': 293,\n",
              " 'accident': 294,\n",
              " 'vengador': 295,\n",
              " 'reclut': 296,\n",
              " 'tem': 297,\n",
              " 'especi': 298,\n",
              " 'senor': 299,\n",
              " 'muer': 300,\n",
              " 'profund': 301,\n",
              " 'llen': 302,\n",
              " 'extraterrestr': 303,\n",
              " 'maquin': 304,\n",
              " 'desesper': 305,\n",
              " 'oportun': 306,\n",
              " 'practic': 307,\n",
              " 'ocult': 308,\n",
              " 'frank': 309,\n",
              " 'music': 310,\n",
              " 'angel': 311,\n",
              " 'vampir': 312,\n",
              " 'dios': 313,\n",
              " 'legendari': 314,\n",
              " 'ray': 315,\n",
              " 'puest': 316,\n",
              " 'comic': 317,\n",
              " 'supervivient': 318,\n",
              " 'manten': 319,\n",
              " 'resolv': 320,\n",
              " 'divert': 321,\n",
              " 'respons': 322,\n",
              " 'perr': 323,\n",
              " 'cont': 324,\n",
              " 'clasic': 325,\n",
              " 'infiltr': 326,\n",
              " 'modern': 327,\n",
              " 'facil': 328,\n",
              " 'sombr': 329,\n",
              " 'american': 330,\n",
              " 'normal': 331,\n",
              " 'par': 332,\n",
              " 'parec': 333,\n",
              " 'fantasm': 334,\n",
              " 'ofrec': 335,\n",
              " 'desafi': 336,\n",
              " '”': 337,\n",
              " 'ensen': 338,\n",
              " 'don': 339,\n",
              " 'comenz': 340,\n",
              " 'period': 341,\n",
              " 'malign': 342,\n",
              " 'frent': 343,\n",
              " 'empres': 344,\n",
              " 'present': 345,\n",
              " 'lord': 346,\n",
              " 'necesit': 347,\n",
              " 'robert': 348,\n",
              " 'desconoc': 349,\n",
              " 'jason': 350,\n",
              " 'dificil': 351,\n",
              " 'despiad': 352,\n",
              " 'intencion': 353,\n",
              " 'director': 354,\n",
              " 'prepar': 355,\n",
              " 'cuid': 356,\n",
              " 'mit': 357,\n",
              " 'ambient': 358,\n",
              " 'graci': 359,\n",
              " 'dem': 360,\n",
              " 'vecin': 361,\n",
              " 'supervivent': 362,\n",
              " 'acontec': 363,\n",
              " 'siniestr': 364,\n",
              " 'lanz': 365,\n",
              " 'civil': 366,\n",
              " 'aprend': 367,\n",
              " 'medi': 368,\n",
              " 'universitari': 369,\n",
              " 'prision': 370,\n",
              " 'eleg': 371,\n",
              " 'crim': 372,\n",
              " 'carg': 373,\n",
              " 'musical': 374,\n",
              " 'solter': 375,\n",
              " 'pose': 376,\n",
              " 'conflict': 377,\n",
              " 'permit': 378,\n",
              " 'salvaj': 379,\n",
              " 'retir': 380,\n",
              " 'emocion': 381,\n",
              " 'brutal': 382,\n",
              " 'conquist': 383,\n",
              " 'numer': 384,\n",
              " 'park': 385,\n",
              " 'espiritu': 386,\n",
              " 'tim': 387,\n",
              " 'sistem': 388,\n",
              " 'avanz': 389,\n",
              " 'compani': 390,\n",
              " 'cart': 391,\n",
              " 'espaci': 392,\n",
              " 'increibl': 393,\n",
              " 'premi': 394,\n",
              " 'embarc': 395,\n",
              " 'loc': 396,\n",
              " 'mujer': 397,\n",
              " 'dispuest': 398,\n",
              " 'remot': 399,\n",
              " 'rap': 400,\n",
              " 'institut': 401,\n",
              " 'local': 402,\n",
              " 'golp': 403,\n",
              " 'fuert': 404,\n",
              " 'solucion': 405,\n",
              " 'agenci': 406,\n",
              " 'propon': 407,\n",
              " 'marvel': 408,\n",
              " 'armas': 409,\n",
              " 'tecnologi': 410,\n",
              " 'amist': 411,\n",
              " 'filmaffinity': 412,\n",
              " 'recient': 413,\n",
              " 'conden': 414,\n",
              " 'caz': 415,\n",
              " 'produc': 416,\n",
              " 'servici': 417,\n",
              " 'ocup': 418,\n",
              " 'convirt': 419,\n",
              " 'investigacion': 420,\n",
              " 'consider': 421,\n",
              " 'cia': 422,\n",
              " 'pist': 423,\n",
              " 'sam': 424,\n",
              " 'disfrut': 425,\n",
              " 'impos': 426,\n",
              " 'tranquil': 427,\n",
              " 'ven': 428,\n",
              " 'abuel': 429,\n",
              " '»': 430,\n",
              " '“': 431,\n",
              " 'emprend': 432,\n",
              " 'dec': 433,\n",
              " 'veng': 434,\n",
              " 'algui': 435,\n",
              " 'provoc': 436,\n",
              " 'expert': 437,\n",
              " 'novel': 438,\n",
              " 'sufr': 439,\n",
              " 'harry': 440,\n",
              " 'olvid': 441,\n",
              " 'anna': 442,\n",
              " 'car': 443,\n",
              " 'rebeld': 444,\n",
              " 'direct': 445,\n",
              " 'camp': 446,\n",
              " 'convenc': 447,\n",
              " 'revel': 448,\n",
              " 'recurs': 449,\n",
              " 'sospech': 450,\n",
              " 'nick': 451,\n",
              " 'chris': 452,\n",
              " 'organiz': 453,\n",
              " 'capac': 454,\n",
              " 'christi': 455,\n",
              " 'rus': 456,\n",
              " 'sigl': 457,\n",
              " 'marc': 458,\n",
              " 'lee': 459,\n",
              " 'polit': 460,\n",
              " 'call': 461,\n",
              " 'posibl': 462,\n",
              " 'doc': 463,\n",
              " 'constant': 464,\n",
              " 'gobiern': 465,\n",
              " 'colabor': 466,\n",
              " 'pondr': 467,\n",
              " 'despiert': 468,\n",
              " 'londr': 469,\n",
              " 'cuent': 470,\n",
              " 'limit': 471,\n",
              " 'oper': 472,\n",
              " 'entrar': 473,\n",
              " 'temibl': 474,\n",
              " 'veran': 475,\n",
              " 'cazador': 476,\n",
              " 'montan': 477,\n",
              " 'distint': 478,\n",
              " 'tecnic': 479,\n",
              " 'stev': 480,\n",
              " 'juli': 481,\n",
              " 'alex': 482,\n",
              " 'definit': 483,\n",
              " 'diez': 484,\n",
              " 'comedi': 485,\n",
              " 'mari': 486,\n",
              " 'rod': 487,\n",
              " 'grand': 488,\n",
              " 'perfect': 489,\n",
              " 'social': 490,\n",
              " 'gat': 491,\n",
              " 'franc': 492,\n",
              " 'dedic': 493,\n",
              " 'convertir': 494,\n",
              " 'valient': 495,\n",
              " 'organizacion': 496,\n",
              " 'devast': 497,\n",
              " 'johnnydepp': 498,\n",
              " 'inocent': 499,\n",
              " 'acept': 500,\n",
              " 'beb': 501,\n",
              " 'part': 502,\n",
              " 'vacacion': 503,\n",
              " 'motiv': 504,\n",
              " 'superhero': 505,\n",
              " 'princip': 506,\n",
              " 'just': 507,\n",
              " 'letal': 508,\n",
              " 'encabez': 509,\n",
              " 'mor': 510,\n",
              " 'matrimoni': 511,\n",
              " 'entra': 512,\n",
              " 'dian': 513,\n",
              " 'vuelt': 514,\n",
              " 'orig': 515,\n",
              " 'lob': 516,\n",
              " 'persegu': 517,\n",
              " 'escuel': 518,\n",
              " 'alcanz': 519,\n",
              " 'dragon': 520,\n",
              " 'red': 521,\n",
              " 'amer': 522,\n",
              " 'inclu': 523,\n",
              " 'plen': 524,\n",
              " 'version': 525,\n",
              " 'siente': 526,\n",
              " 'azul': 527,\n",
              " 'medic': 528,\n",
              " 'extraordinari': 529,\n",
              " 'chin': 530,\n",
              " 'recuerd': 531,\n",
              " 'sorpres': 532,\n",
              " 'cercan': 533,\n",
              " 'veteran': 534,\n",
              " 'norteamerican': 535,\n",
              " 'sobrenatural': 536,\n",
              " 'venc': 537,\n",
              " 'brillant': 538,\n",
              " 'cuart': 539,\n",
              " 'transport': 540,\n",
              " 'william': 541,\n",
              " 'johnny': 542,\n",
              " 'cruz': 543,\n",
              " 'contrat': 544,\n",
              " 'charl': 545,\n",
              " 'negoci': 546,\n",
              " 'quer': 547,\n",
              " 'interpret': 548,\n",
              " 'nacional': 549,\n",
              " 'galaxi': 550,\n",
              " 'ryan': 551,\n",
              " 'curs': 552,\n",
              " 'socied': 553,\n",
              " 'bail': 554,\n",
              " 'alter': 555,\n",
              " 'consecuent': 556,\n",
              " 'capaz': 557,\n",
              " 'ley': 558,\n",
              " 'bruc': 559,\n",
              " 'solitari': 560,\n",
              " 'ador': 561,\n",
              " 'consegu': 562,\n",
              " 'caos': 563,\n",
              " 'president': 564,\n",
              " 'concurs': 565,\n",
              " 'demostr': 566,\n",
              " 'explor': 567,\n",
              " 'gent': 568,\n",
              " 'hall': 569,\n",
              " 'mag': 570,\n",
              " 'asegur': 571,\n",
              " 'tio': 572,\n",
              " 'videojueg': 573,\n",
              " 'celebr': 574,\n",
              " 'domin': 575,\n",
              " 'mental': 576,\n",
              " 'quier': 577,\n",
              " 'bob': 578,\n",
              " 'mied': 579,\n",
              " 'mes': 580,\n",
              " 'billy': 581,\n",
              " 'sac': 582,\n",
              " 'segu': 583,\n",
              " 'tiburon': 584,\n",
              " 'willsmith': 585,\n",
              " 'coch': 586,\n",
              " 'met': 587,\n",
              " 'violent': 588,\n",
              " 'recorr': 589,\n",
              " 'victim': 590,\n",
              " 'prep': 591,\n",
              " 'black': 592,\n",
              " 'mercenari': 593,\n",
              " 'principi': 594,\n",
              " 'harrisonford': 595,\n",
              " 'fech': 596,\n",
              " 'contact': 597,\n",
              " 'hotel': 598,\n",
              " 'traicion': 599,\n",
              " 'escrit': 600,\n",
              " 'actual': 601,\n",
              " 'ingles': 602,\n",
              " 'alta': 603,\n",
              " 'maestr': 604,\n",
              " 'dr': 605,\n",
              " 'voz': 606,\n",
              " 'stevenspielberg': 607,\n",
              " 'deadpool': 608,\n",
              " 'adopt': 609,\n",
              " 'preci': 610,\n",
              " 'artist': 611,\n",
              " 'campament': 612,\n",
              " 'fracas': 613,\n",
              " 'fisic': 614,\n",
              " 'lejan': 615,\n",
              " 'unirs': 616,\n",
              " 'liber': 617,\n",
              " 'bosqu': 618,\n",
              " 'acud': 619,\n",
              " 'veg': 620,\n",
              " 'decision': 621,\n",
              " 'aprovech': 622,\n",
              " 'paz': 623,\n",
              " 'represent': 624,\n",
              " 'edward': 625,\n",
              " 'suced': 626,\n",
              " 'somet': 627,\n",
              " 'asalt': 628,\n",
              " 'invasor': 629,\n",
              " 'atract': 630,\n",
              " 'enmascar': 631,\n",
              " 'defend': 632,\n",
              " 'comet': 633,\n",
              " 'pregunt': 634,\n",
              " 'anill': 635,\n",
              " 'mud': 636,\n",
              " 'titul': 637,\n",
              " 'sofistic': 638,\n",
              " 'cost': 639,\n",
              " 'zon': 640,\n",
              " 'posterior': 641,\n",
              " 'podr': 642,\n",
              " 'mont': 643,\n",
              " 'besti': 644,\n",
              " 'suficient': 645,\n",
              " 'dinosauri': 646,\n",
              " 'alianz': 647,\n",
              " 'derrot': 648,\n",
              " 'kirk': 649,\n",
              " 'nac': 650,\n",
              " 'memori': 651,\n",
              " 'neces': 652,\n",
              " 'annehathaway': 653,\n",
              " 'puert': 654,\n",
              " 'paranormal': 655,\n",
              " 'operacion': 656,\n",
              " 'alto': 657,\n",
              " 'empez': 658,\n",
              " 'men': 659,\n",
              " 'arriesg': 660,\n",
              " 'paul': 661,\n",
              " 'piens': 662,\n",
              " 'spid': 663,\n",
              " 'lun': 664,\n",
              " 'dwaynejohnson': 665,\n",
              " 'documental': 666,\n",
              " 'duen': 667,\n",
              " 'surg': 668,\n",
              " 'tesor': 669,\n",
              " 'ben': 670,\n",
              " 'traslad': 671,\n",
              " 'pres': 672,\n",
              " 'presenci': 673,\n",
              " 'romp': 674,\n",
              " 'diari': 675,\n",
              " 'pesadill': 676,\n",
              " 'favorit': 677,\n",
              " 'unen': 678,\n",
              " 'feliz': 679,\n",
              " 'libert': 680,\n",
              " 'inmediat': 681,\n",
              " 'judi': 682,\n",
              " 'cinematograf': 683,\n",
              " 'kevin': 684,\n",
              " 'adam': 685,\n",
              " 'implac': 686,\n",
              " 'desastr': 687,\n",
              " 'roj': 688,\n",
              " 'aisl': 689,\n",
              " 'acech': 690,\n",
              " 'paris': 691,\n",
              " 'experient': 692,\n",
              " 'particip': 693,\n",
              " 'obsesion': 694,\n",
              " 'charli': 695,\n",
              " 'europ': 696,\n",
              " 'not': 697,\n",
              " 'sangr': 698,\n",
              " 'sir': 699,\n",
              " 'simon': 700,\n",
              " 'disen': 701,\n",
              " 'smith': 702,\n",
              " 'pokemon': 703,\n",
              " 'teni': 704,\n",
              " 'bord': 705,\n",
              " 'bod': 706,\n",
              " 'fbi': 707,\n",
              " 'gary': 708,\n",
              " 'elit': 709,\n",
              " 'parodi': 710,\n",
              " 'jak': 711,\n",
              " 'crisis': 712,\n",
              " 'justici': 713,\n",
              " 'habl': 714,\n",
              " 'andy': 715,\n",
              " 'torment': 716,\n",
              " 'ment': 717,\n",
              " 'seman': 718,\n",
              " 'connor': 719,\n",
              " 'city': 720,\n",
              " 'drog': 721,\n",
              " 'jigsaw': 722,\n",
              " 'rio': 723,\n",
              " 'invasion': 724,\n",
              " 'confi': 725,\n",
              " 'munec': 726,\n",
              " 'virus': 727,\n",
              " 'imagin': 728,\n",
              " 'futbol': 729,\n",
              " 'superher': 730,\n",
              " 'reci': 731,\n",
              " 'espi': 732,\n",
              " 'cam': 733,\n",
              " 'cruel': 734,\n",
              " 'talent': 735,\n",
              " 'nacion': 736,\n",
              " 'gigantesc': 737,\n",
              " 'interior': 738,\n",
              " 'epic': 739,\n",
              " 'grav': 740,\n",
              " 'pacif': 741,\n",
              " 'unir': 742,\n",
              " 'steph': 743,\n",
              " 'une': 744,\n",
              " 'emper': 745,\n",
              " 'baj': 746,\n",
              " 'color': 747,\n",
              " 'sorprend': 748,\n",
              " 'desencaden': 749,\n",
              " 'chrisevans': 750,\n",
              " 'realiz': 751,\n",
              " 'anim': 752,\n",
              " 'navid': 753,\n",
              " 'carcel': 754,\n",
              " 'leon': 755,\n",
              " 'jenniferlawrence': 756,\n",
              " 'television': 757,\n",
              " 'rival': 758,\n",
              " 'barri': 759,\n",
              " 'armad': 760,\n",
              " 'toc': 761,\n",
              " 'sant': 762,\n",
              " 'fantast': 763,\n",
              " 'colegi': 764,\n",
              " 'robot': 765,\n",
              " 'corr': 766,\n",
              " 'tradicional': 767,\n",
              " 'autent': 768,\n",
              " 'descubrir': 769,\n",
              " 'juguet': 770,\n",
              " 'nicolascage': 771,\n",
              " 'jug': 772,\n",
              " 'naturalez': 773,\n",
              " 'millonari': 774,\n",
              " 'cri': 775,\n",
              " 'jean': 776,\n",
              " 'carl': 777,\n",
              " 'of': 778,\n",
              " 'danny': 779,\n",
              " 'internet': 780,\n",
              " 'encant': 781,\n",
              " 'obra': 782,\n",
              " 'trop': 783,\n",
              " 'jennif': 784,\n",
              " 'invad': 785,\n",
              " 'magi': 786,\n",
              " 'mary': 787,\n",
              " 'tip': 788,\n",
              " 'separ': 789,\n",
              " 'tripulacion': 790,\n",
              " 'diabol': 791,\n",
              " 'ciudadan': 792,\n",
              " 'hannah': 793,\n",
              " 'agu': 794,\n",
              " 'legion': 795,\n",
              " 'fabric': 796,\n",
              " 'promet': 797,\n",
              " 'robertdowneyjr': 798,\n",
              " 'restaur': 799,\n",
              " 'coronel': 800,\n",
              " 'tram': 801,\n",
              " 'habi': 802,\n",
              " 'activ': 803,\n",
              " 'cobr': 804,\n",
              " 'localiz': 805,\n",
              " 'sent': 806,\n",
              " 'respuest': 807,\n",
              " 'esfuerz': 808,\n",
              " 'maxim': 809,\n",
              " 'alic': 810,\n",
              " 'caid': 811,\n",
              " 'divorci': 812,\n",
              " 'avion': 813,\n",
              " 'cit': 814,\n",
              " 'infinit': 815,\n",
              " 'metal': 816,\n",
              " 'gru': 817,\n",
              " 'gigant': 818,\n",
              " 'intern': 819,\n",
              " 'natural': 820,\n",
              " 'secuac': 821,\n",
              " 'matthewlillard': 822,\n",
              " 'adamsandler': 823,\n",
              " 'campeon': 824,\n",
              " 'liamhemsworth': 825,\n",
              " 'mexic': 826,\n",
              " 'cos': 827,\n",
              " 'cabez': 828,\n",
              " 'compromis': 829,\n",
              " 'atencion': 830,\n",
              " 'event': 831,\n",
              " 'tortug': 832,\n",
              " 'mantien': 833,\n",
              " 'air': 834,\n",
              " 'sentido': 835,\n",
              " 'autor': 836,\n",
              " 'estall': 837,\n",
              " 'homonim': 838,\n",
              " 'genet': 839,\n",
              " 'pretend': 840,\n",
              " 'arqueolog': 841,\n",
              " 'remedi': 842,\n",
              " 'crec': 843,\n",
              " 'californi': 844,\n",
              " 'laboratori': 845,\n",
              " 'batm': 846,\n",
              " 'remak': 847,\n",
              " 'desiert': 848,\n",
              " 'mascot': 849,\n",
              " 'constru': 850,\n",
              " 'nazis': 851,\n",
              " 'espanol': 852,\n",
              " 'escen': 853,\n",
              " 'jan': 854,\n",
              " 'nucl': 855,\n",
              " 'protagoniz': 856,\n",
              " 'terrorif': 857,\n",
              " 'hel': 858,\n",
              " 'arrastr': 859,\n",
              " 'conduc': 860,\n",
              " 'michaelfassbender': 861,\n",
              " 'brucewillis': 862,\n",
              " 'acus': 863,\n",
              " 'aterroriz': 864,\n",
              " 'cody': 865,\n",
              " 'thor': 866,\n",
              " 'central': 867,\n",
              " 'georg': 868,\n",
              " 'relat': 869,\n",
              " 'jungl': 870,\n",
              " 'warr': 871,\n",
              " 'pandill': 872,\n",
              " 'invent': 873,\n",
              " 'fox': 874,\n",
              " 'descubiert': 875,\n",
              " 'shredd': 876,\n",
              " 'prestigi': 877,\n",
              " 'tomcruise': 878,\n",
              " 'grey': 879,\n",
              " 'wad': 880,\n",
              " 'trafic': 881,\n",
              " 'fenomen': 882,\n",
              " 'hughjackman': 883,\n",
              " 'dot': 884,\n",
              " 'refugi': 885,\n",
              " 'tir': 886,\n",
              " 'aterr': 887,\n",
              " 'etern': 888,\n",
              " 'elizabeth': 889,\n",
              " 'sex': 890,\n",
              " 'sexual': 891,\n",
              " 'leyend': 892,\n",
              " 'tra': 893,\n",
              " 'bellez': 894,\n",
              " 'ira': 895,\n",
              " 'ancian': 896,\n",
              " 'peculi': 897,\n",
              " 'zombi': 898,\n",
              " 'testig': 899,\n",
              " 'inspir': 900,\n",
              " 'kat': 901,\n",
              " 'edad': 902,\n",
              " 'falt': 903,\n",
              " 'inicial': 904,\n",
              " 'pens': 905,\n",
              " 'bailarin': 906,\n",
              " 'amand': 907,\n",
              " 'opcion': 908,\n",
              " 'limpi': 909,\n",
              " 'razon': 910,\n",
              " 'emple': 911,\n",
              " 'aventurer': 912,\n",
              " 'mark': 913,\n",
              " 'monton': 914,\n",
              " 'washington': 915,\n",
              " 'comprend': 916,\n",
              " 'mezcl': 917,\n",
              " 'prim': 918,\n",
              " 'masc': 919,\n",
              " 'actu': 920,\n",
              " 'lar': 921,\n",
              " 'nort': 922,\n",
              " 'aparicion': 923,\n",
              " 'imperial': 924,\n",
              " 'bomb': 925,\n",
              " 'alegri': 926,\n",
              " 'max': 927,\n",
              " 'jim': 928,\n",
              " 'distrit': 929,\n",
              " 'may': 930,\n",
              " 'desaparicion': 931,\n",
              " 'des': 932,\n",
              " 'forz': 933,\n",
              " 'determin': 934,\n",
              " 'cae': 935,\n",
              " 'invit': 936,\n",
              " 'larg': 937,\n",
              " 'fion': 938,\n",
              " 'aterriz': 939,\n",
              " 'probabl': 940,\n",
              " 'terc': 941,\n",
              " 'ningun': 942,\n",
              " 'expedicion': 943,\n",
              " 'menor': 944,\n",
              " 'delincuent': 945,\n",
              " 'sethrogen': 946,\n",
              " 'ret': 947,\n",
              " 'expedient': 948,\n",
              " 'jeffgoldblum': 949,\n",
              " 'extincion': 950,\n",
              " 'intens': 951,\n",
              " 'ros': 952,\n",
              " 'angelinajolie': 953,\n",
              " 'malef': 954,\n",
              " 'esfer': 955,\n",
              " 'jackblack': 956,\n",
              " 'fall': 957,\n",
              " 'empen': 958,\n",
              " 'inexpert': 959,\n",
              " 'apasion': 960,\n",
              " 'niet': 961,\n",
              " 'wilson': 962,\n",
              " 'tomhanks': 963,\n",
              " 'superior': 964,\n",
              " 'geni': 965,\n",
              " 'ambici': 966,\n",
              " 'permanec': 967,\n",
              " 'gobern': 968,\n",
              " 'vuel': 969,\n",
              " 'rebecc': 970,\n",
              " 'espan': 971,\n",
              " 'profesional': 972,\n",
              " 'pag': 973,\n",
              " 'amad': 974,\n",
              " 'jonmchu': 975,\n",
              " 'alegr': 976,\n",
              " 'cort': 977,\n",
              " 'juventud': 978,\n",
              " 'divid': 979,\n",
              " 'escenari': 980,\n",
              " 'romant': 981,\n",
              " 'woodyharrelson': 982,\n",
              " 'sauron': 983,\n",
              " 'obten': 984,\n",
              " 'atent': 985,\n",
              " 'leonardodicaprio': 986,\n",
              " 'stevecarell': 987,\n",
              " 'ardill': 988,\n",
              " 'convirti': 989,\n",
              " 'sombrerer': 990,\n",
              " 'reloj': 991,\n",
              " 'preocup': 992,\n",
              " 'odi': 993,\n",
              " 'deport': 994,\n",
              " 'pilot': 995,\n",
              " 'jamesmcavoy': 996,\n",
              " 'arthur': 997,\n",
              " 'ee': 998,\n",
              " 'epoc': 999,\n",
              " 'luj': 1000,\n",
              " ...}"
            ]
          },
          "metadata": {
            "tags": []
          },
          "execution_count": 12
        }
      ]
    },
    {
      "cell_type": "code",
      "metadata": {
        "id": "8eiGMiL6pyLs",
        "colab_type": "code",
        "colab": {}
      },
      "source": [
        "# Save tokenizer\n",
        "import pickle\n",
        "\n",
        "# saving\n",
        "with open('tokenizer.pickle', 'wb') as handle:\n",
        "    pickle.dump(tokenizer, handle, protocol=pickle.HIGHEST_PROTOCOL)\n",
        "\n",
        "# loading\n",
        "#with open('tokenizer.pickle', 'rb') as handle:\n",
        "#    tokenizer = pickle.load(handle)"
      ],
      "execution_count": 0,
      "outputs": []
    },
    {
      "cell_type": "code",
      "metadata": {
        "id": "CTsC2-KlqZ7u",
        "colab_type": "code",
        "colab": {}
      },
      "source": [
        "# # Crear pre-trained emmbeding\n",
        "\n",
        "# def create_embedding_matrix(filepath, word_index, embedding_size):\n",
        "#     vocab_size = len(word_index) + 1  # Adding again 1 because of reserved 0 index\n",
        "#     embedding_matrix = np.zeros((vocab_size, embedding_size))\n",
        "\n",
        "#     with open(filepath, encoding='utf-8') as f:\n",
        "#         for line in f:\n",
        "#             word, *vector = line.split()\n",
        "#             if word in word_index:\n",
        "#                 idx = word_index[word] \n",
        "#                 embedding_matrix[idx] = np.array(\n",
        "#                     vector, dtype=np.float32)[:embedding_size]\n",
        "\n",
        "#     return embedding_matrix\n",
        "  \n",
        "# embedding_matrix = create_embedding_matrix(\n",
        "#     'gdrive/My Drive/TFG/SBW-vectors-300-min5.txt',\n",
        "#     tokenizer.word_index, embedding_size)\n",
        "\n",
        "# print(embedding_matrix[2])\n",
        "# print(len(embedding_matrix[2]))\n",
        "\n",
        "# nonzero_elements = np.count_nonzero(np.count_nonzero(embedding_matrix, axis=1))\n",
        "# nonzero_elements / vocab_size"
      ],
      "execution_count": 0,
      "outputs": []
    },
    {
      "cell_type": "code",
      "metadata": {
        "id": "XHqpVvAjjQY8",
        "colab_type": "code",
        "outputId": "6c7b973a-6943-4200-e2fb-5d2ffe54c7ed",
        "colab": {
          "base_uri": "https://localhost:8080/",
          "height": 156
        }
      },
      "source": [
        "from keras.preprocessing.sequence import pad_sequences\n",
        "\n",
        "X_train = pad_sequences(X_train, padding='pre', maxlen=maxlen)\n",
        "X_test = pad_sequences(X_test, padding='pre', maxlen=maxlen)\n",
        "\n",
        "X_train[1]"
      ],
      "execution_count": 0,
      "outputs": [
        {
          "output_type": "execute_result",
          "data": {
            "text/plain": [
              "array([   0,    0,    0,    0,    0,    0,    0,    0,    0,    0,    0,\n",
              "          0,    0,    0,    0,    0,    0,    0,    0,    0,    0,    0,\n",
              "          0,    0,    0,    0,    0,    0,    0,    0,    0,    0,    0,\n",
              "          0,    0,    0,    0, 4923,  822, 4924, 1914, 1237, 1294,    6,\n",
              "       4925, 2865, 8951, 2413, 4926,  405,   19, 1569,  302,  788, 1915,\n",
              "       4254, 1237, 1294,    6,  109, 4927, 4590,  272, 1185, 4255, 4928,\n",
              "       1295,  334,   68, 1398, 4929,   97, 1237,  872, 1805,  272,   55,\n",
              "        423,   81, 3044], dtype=int32)"
            ]
          },
          "metadata": {
            "tags": []
          },
          "execution_count": 14
        }
      ]
    },
    {
      "cell_type": "code",
      "metadata": {
        "id": "0UB9lmFFWab7",
        "colab_type": "code",
        "colab": {}
      },
      "source": [
        "#from tensorflow.keras import backend as K\n",
        "from keras.callbacks import EarlyStopping\n",
        "\n",
        "#Optimizer\n",
        "\n",
        "from keras import optimizers\n",
        "\n",
        "adam = optimizers.Adam()"
      ],
      "execution_count": 0,
      "outputs": []
    },
    {
      "cell_type": "code",
      "metadata": {
        "id": "ifIZiMr2LdSS",
        "colab_type": "code",
        "outputId": "a7be7ae6-a862-48f4-db4a-e4e3e456d10d",
        "colab": {
          "base_uri": "https://localhost:8080/",
          "height": 34
        }
      },
      "source": [
        "from sklearn.utils import class_weight\n",
        "\n",
        "\n",
        "class_weights = class_weight.compute_class_weight('balanced',\n",
        "                                                 np.unique(y_train),\n",
        "                                                 y_train)\n",
        "\n",
        "class_weights"
      ],
      "execution_count": 0,
      "outputs": [
        {
          "output_type": "execute_result",
          "data": {
            "text/plain": [
              "array([0.97755961, 1.02349486])"
            ]
          },
          "metadata": {
            "tags": []
          },
          "execution_count": 16
        }
      ]
    },
    {
      "cell_type": "code",
      "metadata": {
        "id": "TO2rjJmBj28t",
        "colab_type": "code",
        "colab": {}
      },
      "source": [
        "# # Model 1\n",
        "\n",
        "# from tensorflow.keras.models import Sequential\n",
        "# from tensorflow.keras.layers import Dense, Dropout, Activation\n",
        "# from tensorflow.keras.layers import Embedding\n",
        "# from tensorflow.keras.layers import LSTM\n",
        "# from tensorflow.keras.layers import Conv1D, GlobalMaxPooling1D\n",
        "\n",
        "# model = Sequential()\n",
        "\n",
        "# model.add(Embedding(vocab_size,embedding_size, input_length=maxlen))\n",
        "# model.add(GlobalMaxPooling1D())\n",
        "# model.add(Dropout(0.5))\n",
        "# model.add(Dense(500, activation='elu', kernel_initializer='he_uniform'))\n",
        "# model.add(Dropout(0.5))\n",
        "# model.add(Dense(500, activation='elu', kernel_initializer='he_uniform'))\n",
        "# model.add(Dropout(0.5))\n",
        "# model.add(Dense(500, activation='elu', kernel_initializer='he_uniform'))\n",
        "# model.add(Dropout(0.5))\n",
        "# model.add(Dense(1, activation='sigmoid', kernel_initializer='he_uniform'))\n",
        "# model.compile(optimizer=adam,\n",
        "#               loss='binary_crossentropy',\n",
        "#               metrics=['acc'])\n",
        "\n",
        "# model.summary()\n"
      ],
      "execution_count": 0,
      "outputs": []
    },
    {
      "cell_type": "code",
      "metadata": {
        "id": "X3Jtoe5qztD0",
        "colab_type": "code",
        "colab": {}
      },
      "source": [
        "# # Model 2\n",
        "\n",
        "# from tensorflow.keras.models import Sequential\n",
        "# from tensorflow.keras.layers import Dense, Dropout, Activation\n",
        "# from tensorflow.keras.layers import Embedding, BatchNormalization\n",
        "# from tensorflow.keras.layers import Conv1D, GlobalMaxPooling1D, MaxPooling1D,GlobalAveragePooling1D\n",
        "\n",
        "# model = Sequential()\n",
        "\n",
        "# # we start off with an efficient embedding layer which maps\n",
        "# # our vocab indices into embedding_dims dimensions\n",
        "# model.add(Embedding(vocab_size,\n",
        "#                     embedding_size,\n",
        "#                     input_length=maxlen))\n",
        "\n",
        "\n",
        "# # we add a Convolution1D, which will learn filters\n",
        "# # word group filters of size filter_length:\n",
        "# model.add(Conv1D(filters,\n",
        "#                  kernel_size,\n",
        "#                  padding='valid',\n",
        "#                  strides=1, kernel_initializer='he_uniform'))\n",
        "# model.add(BatchNormalization())\n",
        "# model.add(Activation('elu'))\n",
        "\n",
        "# # we use max pooling:\n",
        "\n",
        "# model.add(GlobalMaxPooling1D())\n",
        "\n",
        "# # We add a vanilla hidden layer:\n",
        "# model.add(Dense(150, kernel_initializer='he_uniform'))\n",
        "# model.add(BatchNormalization())\n",
        "# model.add(Activation('elu'))\n",
        "# model.add(Dropout(0.5))\n",
        "\n",
        "# # We project onto a single unit output layer, and squash it with a sigmoid:\n",
        "# model.add(Dense(1))\n",
        "# model.add(BatchNormalization())\n",
        "# model.add(Activation('sigmoid'))\n",
        "\n",
        "# model.compile(loss='binary_crossentropy',\n",
        "#               optimizer=tf.keras.optimizers.Nadam(lr=0.001, beta_1=0.9, beta_2=0.999, epsilon=None, schedule_decay=0.004),\n",
        "#               metrics=['accuracy'])\n",
        "\n",
        "# model.summary()"
      ],
      "execution_count": 0,
      "outputs": []
    },
    {
      "cell_type": "code",
      "metadata": {
        "id": "m4opiVy5h3t7",
        "colab_type": "code",
        "colab": {}
      },
      "source": [
        "from keras.models import Sequential,Model\n",
        "from keras.layers import Dense, Dropout, Activation, Convolution1D, MaxPooling1D, Input\n",
        "from keras.layers import Embedding,CuDNNLSTM, SpatialDropout1D, Reshape, Flatten, BatchNormalization\n",
        "from keras.layers import Conv1D, GlobalMaxPooling1D, GlobalAveragePooling1D, Concatenate\n",
        "from keras.optimizers import Adam, Adagrad\n",
        "\n",
        "\n",
        "class MyLayers:\n",
        "\n",
        "    @staticmethod\n",
        "    def my_conv1d(kernel_size, layer, filters=10, strides=1, act='relu', reg=None):\n",
        "        \n",
        "        c1d = keras.layers.Conv1D(filters=filters, kernel_size=kernel_size, padding='valid', strides=strides,\n",
        "                                     kernel_initializer='he_uniform', kernel_regularizer=reg)(layer)\n",
        "        \n",
        "        if act in ['relu','elu','gelu','sigmoid']:\n",
        "          if act == 'gelu':\n",
        "            act = MyLayers.gelu\n",
        "          c1d = keras.layers.BatchNormalization()(c1d)\n",
        "          c1d = keras.layers.Activation(act)(c1d)\n",
        "        \n",
        "        else:\n",
        "          c1d = keras.layers.Activation(act)(c1d)\n",
        "          c1d = keras.layers.BatchNormalization()(c1d)\n",
        "          \n",
        "        return c1d\n",
        "\n",
        "    @staticmethod\n",
        "    def my_dense(neurons, ant, act='sigmoid', ini='glorot_uniform', reg=None):\n",
        "      \n",
        "        dense = keras.layers.Dense(neurons, kernel_initializer=ini, kernel_regularizer=reg)(ant)\n",
        "\n",
        "        if act in ['relu','elu','gelu','sigmoid']:\n",
        "          if act == 'gelu':\n",
        "            act = MyLayers.gelu\n",
        "          dense = keras.layers.BatchNormalization()(dense)\n",
        "          dense = keras.layers.Activation(act)(dense)\n",
        "        \n",
        "        else:\n",
        "          dense = keras.layers.Activation(act)(dense)\n",
        "\n",
        "        return dense\n",
        "\n",
        "    @staticmethod\n",
        "    def gelu(x):\n",
        "        return 0.5 * x * (1 + tf.keras.backend.tanh(np.sqrt(2 / np.pi) * (x + 0.044715 * tf.keras.backend.pow(x, 3))))\n",
        "\n",
        "    @staticmethod\n",
        "    def custom_sigmoid(x):\n",
        "        return keras.backend.sigmoid(x) + tf.keras.backend.epsilon()\n"
      ],
      "execution_count": 0,
      "outputs": []
    },
    {
      "cell_type": "code",
      "metadata": {
        "id": "F7r7BcGTDyEV",
        "colab_type": "code",
        "colab": {}
      },
      "source": [
        "# # Model 3\n",
        "\n",
        "# words = Input(shape=(maxlen,))\n",
        "# em =  Embedding(input_dim = vocab_size, output_dim = embedding_size, weights=[embedding_matrix], trainable=True)(words)\n",
        "# em = Dropout(0.3)(em) \n",
        "# c1 = my_conv1d(2,em, filters=500)\n",
        "# c2 = my_conv1d(3,em, filters=500)\n",
        "# c3 = my_conv1d(5,em, filters=500)\n",
        "\n",
        "# g1 = GlobalMaxPooling1D()(c1)\n",
        "# g2 = GlobalMaxPooling1D()(c2)\n",
        "# g3 = GlobalMaxPooling1D()(c3)\n",
        "\n",
        "# con = Concatenate(axis=1)([g1,g2,g3])\n",
        "\n",
        "# dense = Dropout(0.5)(con) \n",
        "# pred = my_dense(1,dense)\n",
        "# model = Model(inputs=words, outputs=pred)\n",
        "\n",
        "# model.compile(optimizer = 'adam',\n",
        "#               loss = 'binary_crossentropy',\n",
        "#               metrics = ['accuracy'])\n",
        "  \n",
        "# model.summary()\n"
      ],
      "execution_count": 0,
      "outputs": []
    },
    {
      "cell_type": "code",
      "metadata": {
        "id": "SNfu7h5_eety",
        "colab_type": "code",
        "colab": {}
      },
      "source": [
        "# # Model RNN\n",
        "\n",
        "# from tensorflow.keras.layers import Bidirectional, LSTM, Flatten\n",
        "\n",
        "# words = Input(shape=(maxlen,))\n",
        "# em =  Embedding(input_dim = vocab_size, output_dim = embedding_size, weights=[embedding_matrix], trainable=True)(words)\n",
        "# #em = Dropout(0.3)(em) \n",
        "\n",
        "# lstm_1 = Bidirectional(LSTM(64, name='blstm_1',\n",
        "# activation='tanh',\n",
        "# recurrent_activation='hard_sigmoid',\n",
        "# recurrent_dropout=0.0,\n",
        "# dropout=0.5, \n",
        "# kernel_initializer='glorot_uniform',\n",
        "# return_sequences=True),\n",
        "# merge_mode='concat')(em)\n",
        "\n",
        "# lstm_1 = BatchNormalization()(lstm_1)\n",
        "\n",
        "# #Flatten\n",
        "# g1 = Flatten()(lstm_1)\n",
        "\n",
        "# drop3 = Dropout(0.5)(g1)\n",
        "\n",
        "# pred = my_dense(1,drop3)\n",
        "# model = Model(inputs=words, outputs=pred)\n",
        "\n",
        "# model.compile(optimizer = 'adam',\n",
        "#               loss = 'binary_crossentropy',\n",
        "#               metrics = ['accuracy'])\n",
        "  \n",
        "# model.summary()"
      ],
      "execution_count": 0,
      "outputs": []
    },
    {
      "cell_type": "code",
      "metadata": {
        "id": "2EUVg8huVWO3",
        "colab_type": "code",
        "colab": {}
      },
      "source": [
        "# Model 5 cnn + rnn\n",
        "\n",
        "from keras.layers import Bidirectional, CuDNNGRU, GRU, SpatialDropout1D\n",
        "\n",
        "def custom_model_gpu(embedding_size, dropout, filters, kernel, maxp, gnup, neurons, act):\n",
        "  words = Input(shape=(maxlen,))\n",
        "  em =  Embedding(input_dim = vocab_size, output_dim = embedding_size)(words)\n",
        "  em = SpatialDropout1D(dropout)(em) \n",
        "\n",
        "  c = MyLayers.my_conv1d(kernel ,em, filters=filters, act=act)\n",
        "  m = MaxPooling1D(pool_size=maxp)(c)\n",
        "  d = Dropout(dropout)(m) \n",
        "\n",
        "  gru = CuDNNGRU(gnup, kernel_initializer='glorot_uniform', return_sequences=True)(d)\n",
        "  gru = BatchNormalization()(gru)\n",
        "  gru = GlobalMaxPooling1D()(gru)\n",
        "  drop = Dropout(dropout)(gru)\n",
        "\n",
        "  pred = MyLayers.my_dense(neurons=neurons, ant=drop, act=act)\n",
        "  pred = MyLayers.my_dense(1, pred, act='sigmoid')\n",
        "\n",
        "  model = Model(inputs=words, outputs=pred)\n",
        "\n",
        "  return model\n",
        "\n",
        "def custom_model_cpu(embedding_size, dropout, filters, kernel, maxp, gnup, neurons, act):\n",
        "  words = Input(shape=(maxlen,))\n",
        "  em =  Embedding(input_dim = vocab_size, output_dim = embedding_size)(words)\n",
        "  em = SpatialDropout1D(dropout)(em) \n",
        "\n",
        "  c = MyLayers.my_conv1d(kernel ,em, filters=filters, act=act)\n",
        "  m = MaxPooling1D(pool_size=maxp)(c)\n",
        "  d = Dropout(dropout)(m) \n",
        "\n",
        "  gru = GRU(gnup, kernel_initializer='glorot_uniform', activation='tanh',\n",
        "            recurrent_activation='sigmoid', return_sequences=True, reset_after=True)(d)\n",
        "  gru = BatchNormalization()(gru)\n",
        "  gru = GlobalMaxPooling1D()(gru)\n",
        "  drop = Dropout(dropout)(gru)\n",
        "\n",
        "  pred = MyLayers.my_dense(neurons=neurons, ant=drop, act=act)\n",
        "  pred = MyLayers.my_dense(1, pred)\n",
        "\n",
        "  model = Model(inputs=words, outputs=pred)\n",
        "\n",
        "  return model"
      ],
      "execution_count": 0,
      "outputs": []
    },
    {
      "cell_type": "code",
      "metadata": {
        "id": "gyLjMA4sNLxr",
        "colab_type": "code",
        "colab": {}
      },
      "source": [
        "import os\n",
        "import glob\n",
        "\n",
        "files = glob.glob(\"gdrive/My Drive/TFG/models/*\")\n",
        "for f in files:\n",
        "    os.remove(f)"
      ],
      "execution_count": 0,
      "outputs": []
    },
    {
      "cell_type": "code",
      "metadata": {
        "id": "PnxStx2B2E5Y",
        "colab_type": "code",
        "outputId": "3d2434d4-c717-4343-fa4b-91e5d95804bd",
        "colab": {
          "base_uri": "https://localhost:8080/",
          "height": 54
        }
      },
      "source": [
        "import os\n",
        "\n",
        "files = os.listdir(\"gdrive/My Drive/TFG/models/\")\n",
        "files.sort(reverse=True)\n",
        "print(files)"
      ],
      "execution_count": 0,
      "outputs": [
        {
          "output_type": "stream",
          "text": [
            "['weights-14-0.74.hdf5', 'weights-13-0.73.hdf5', 'weights-06-0.71.hdf5', 'weights-05-0.68.hdf5', 'weights-04-0.65.hdf5', 'weights-03-0.58.hdf5', 'weights-01-0.51.hdf5']\n"
          ],
          "name": "stdout"
        }
      ]
    },
    {
      "cell_type": "code",
      "metadata": {
        "id": "8QA3f7kV1RzZ",
        "colab_type": "code",
        "outputId": "b4886028-5022-49db-c25b-b2652a4b06f2",
        "colab": {
          "base_uri": "https://localhost:8080/",
          "height": 1000
        }
      },
      "source": [
        "model = custom_model_gpu(embedding_size=150,dropout=0.5,filters=64,kernel=3,maxp=2,gnup=32,neurons=8,act='gelu')\n",
        "model.load_weights(\"gdrive/My Drive/TFG/models/\" + files[0])\n",
        "model.compile(optimizer = 'adam', loss = 'binary_crossentropy',  metrics = ['accuracy'])\n",
        "\n",
        "model.summary()"
      ],
      "execution_count": 0,
      "outputs": [
        {
          "output_type": "stream",
          "text": [
            "WARNING:tensorflow:From /usr/local/lib/python3.6/dist-packages/keras/backend/tensorflow_backend.py:66: The name tf.get_default_graph is deprecated. Please use tf.compat.v1.get_default_graph instead.\n",
            "\n",
            "WARNING:tensorflow:From /usr/local/lib/python3.6/dist-packages/keras/backend/tensorflow_backend.py:541: The name tf.placeholder is deprecated. Please use tf.compat.v1.placeholder instead.\n",
            "\n",
            "WARNING:tensorflow:From /usr/local/lib/python3.6/dist-packages/keras/backend/tensorflow_backend.py:4432: The name tf.random_uniform is deprecated. Please use tf.random.uniform instead.\n",
            "\n",
            "WARNING:tensorflow:From /usr/local/lib/python3.6/dist-packages/keras/backend/tensorflow_backend.py:148: The name tf.placeholder_with_default is deprecated. Please use tf.compat.v1.placeholder_with_default instead.\n",
            "\n",
            "WARNING:tensorflow:From /usr/local/lib/python3.6/dist-packages/keras/backend/tensorflow_backend.py:3733: calling dropout (from tensorflow.python.ops.nn_ops) with keep_prob is deprecated and will be removed in a future version.\n",
            "Instructions for updating:\n",
            "Please use `rate` instead of `keep_prob`. Rate should be set to `rate = 1 - keep_prob`.\n",
            "WARNING:tensorflow:From /usr/local/lib/python3.6/dist-packages/keras/backend/tensorflow_backend.py:4267: The name tf.nn.max_pool is deprecated. Please use tf.nn.max_pool2d instead.\n",
            "\n",
            "WARNING:tensorflow:From /usr/local/lib/python3.6/dist-packages/keras/backend/tensorflow_backend.py:190: The name tf.get_default_session is deprecated. Please use tf.compat.v1.get_default_session instead.\n",
            "\n",
            "WARNING:tensorflow:From /usr/local/lib/python3.6/dist-packages/keras/backend/tensorflow_backend.py:197: The name tf.ConfigProto is deprecated. Please use tf.compat.v1.ConfigProto instead.\n",
            "\n",
            "WARNING:tensorflow:From /usr/local/lib/python3.6/dist-packages/keras/backend/tensorflow_backend.py:203: The name tf.Session is deprecated. Please use tf.compat.v1.Session instead.\n",
            "\n",
            "WARNING:tensorflow:From /usr/local/lib/python3.6/dist-packages/keras/backend/tensorflow_backend.py:207: The name tf.global_variables is deprecated. Please use tf.compat.v1.global_variables instead.\n",
            "\n",
            "WARNING:tensorflow:From /usr/local/lib/python3.6/dist-packages/keras/backend/tensorflow_backend.py:216: The name tf.is_variable_initialized is deprecated. Please use tf.compat.v1.is_variable_initialized instead.\n",
            "\n",
            "WARNING:tensorflow:From /usr/local/lib/python3.6/dist-packages/keras/backend/tensorflow_backend.py:223: The name tf.variables_initializer is deprecated. Please use tf.compat.v1.variables_initializer instead.\n",
            "\n",
            "WARNING:tensorflow:From /usr/local/lib/python3.6/dist-packages/keras/optimizers.py:793: The name tf.train.Optimizer is deprecated. Please use tf.compat.v1.train.Optimizer instead.\n",
            "\n",
            "WARNING:tensorflow:From /usr/local/lib/python3.6/dist-packages/keras/backend/tensorflow_backend.py:3657: The name tf.log is deprecated. Please use tf.math.log instead.\n",
            "\n",
            "WARNING:tensorflow:From /usr/local/lib/python3.6/dist-packages/tensorflow_core/python/ops/nn_impl.py:183: where (from tensorflow.python.ops.array_ops) is deprecated and will be removed in a future version.\n",
            "Instructions for updating:\n",
            "Use tf.where in 2.0, which has the same broadcast rule as np.where\n",
            "Model: \"model_1\"\n",
            "_________________________________________________________________\n",
            "Layer (type)                 Output Shape              Param #   \n",
            "=================================================================\n",
            "input_1 (InputLayer)         (None, 80)                0         \n",
            "_________________________________________________________________\n",
            "embedding_1 (Embedding)      (None, 80, 150)           1524300   \n",
            "_________________________________________________________________\n",
            "spatial_dropout1d_1 (Spatial (None, 80, 150)           0         \n",
            "_________________________________________________________________\n",
            "conv1d_1 (Conv1D)            (None, 78, 64)            28864     \n",
            "_________________________________________________________________\n",
            "batch_normalization_1 (Batch (None, 78, 64)            256       \n",
            "_________________________________________________________________\n",
            "activation_1 (Activation)    (None, 78, 64)            0         \n",
            "_________________________________________________________________\n",
            "max_pooling1d_1 (MaxPooling1 (None, 39, 64)            0         \n",
            "_________________________________________________________________\n",
            "dropout_1 (Dropout)          (None, 39, 64)            0         \n",
            "_________________________________________________________________\n",
            "cu_dnngru_1 (CuDNNGRU)       (None, 39, 32)            9408      \n",
            "_________________________________________________________________\n",
            "batch_normalization_2 (Batch (None, 39, 32)            128       \n",
            "_________________________________________________________________\n",
            "global_max_pooling1d_1 (Glob (None, 32)                0         \n",
            "_________________________________________________________________\n",
            "dropout_2 (Dropout)          (None, 32)                0         \n",
            "_________________________________________________________________\n",
            "dense_1 (Dense)              (None, 8)                 264       \n",
            "_________________________________________________________________\n",
            "batch_normalization_3 (Batch (None, 8)                 32        \n",
            "_________________________________________________________________\n",
            "activation_2 (Activation)    (None, 8)                 0         \n",
            "_________________________________________________________________\n",
            "dense_2 (Dense)              (None, 1)                 9         \n",
            "_________________________________________________________________\n",
            "batch_normalization_4 (Batch (None, 1)                 4         \n",
            "_________________________________________________________________\n",
            "activation_3 (Activation)    (None, 1)                 0         \n",
            "=================================================================\n",
            "Total params: 1,563,265\n",
            "Trainable params: 1,563,055\n",
            "Non-trainable params: 210\n",
            "_________________________________________________________________\n"
          ],
          "name": "stdout"
        }
      ]
    },
    {
      "cell_type": "code",
      "metadata": {
        "id": "DpcVR1msrl13",
        "colab_type": "code",
        "colab": {}
      },
      "source": [
        "from keras.callbacks import ModelCheckpoint\n",
        "\n",
        "filepath=\"gdrive/My Drive/TFG/models/weights-{epoch:02d}-{val_acc:.2f}.hdf5\"\n",
        "checkpoint = ModelCheckpoint(filepath, monitor='val_acc', save_best_only=True, verbose=1)"
      ],
      "execution_count": 0,
      "outputs": []
    },
    {
      "cell_type": "code",
      "metadata": {
        "id": "1XYVWkz6Atce",
        "colab_type": "code",
        "colab": {}
      },
      "source": [
        "def get_one_hot(x):\n",
        "  if x==1:\n",
        "    return [0,1]\n",
        "  else:\n",
        "    return [1,0]"
      ],
      "execution_count": 0,
      "outputs": []
    },
    {
      "cell_type": "code",
      "metadata": {
        "id": "ztZRYyfkAGaa",
        "colab_type": "code",
        "colab": {}
      },
      "source": [
        "y_train2 = np.array([get_one_hot(x) for x in y_train])\n",
        "y_test2 = np.array([get_one_hot(x) for x in y_test])"
      ],
      "execution_count": 0,
      "outputs": []
    },
    {
      "cell_type": "code",
      "metadata": {
        "id": "aOM3z3P9DWdn",
        "colab_type": "code",
        "outputId": "5fa67452-9f36-4b4b-ed61-28d19fb9b45f",
        "colab": {
          "base_uri": "https://localhost:8080/",
          "height": 139
        }
      },
      "source": [
        "y_train2"
      ],
      "execution_count": 0,
      "outputs": [
        {
          "output_type": "execute_result",
          "data": {
            "text/plain": [
              "array([[1, 0],\n",
              "       [1, 0],\n",
              "       [1, 0],\n",
              "       ...,\n",
              "       [1, 0],\n",
              "       [0, 1],\n",
              "       [0, 1]])"
            ]
          },
          "metadata": {
            "tags": []
          },
          "execution_count": 198
        }
      ]
    },
    {
      "cell_type": "code",
      "metadata": {
        "id": "VlDCu0kkHg4E",
        "colab_type": "code",
        "outputId": "af4e024c-48cc-4726-d05d-e73e45af89c3",
        "colab": {
          "base_uri": "https://localhost:8080/",
          "height": 1000
        }
      },
      "source": [
        "history = model.fit(X_train, y_train,\n",
        "                    epochs=20,\n",
        "                    verbose=True,\n",
        "                    validation_data=(X_test, y_test),\n",
        "                    batch_size=32,\n",
        "                    class_weight=class_weights,\n",
        "                    callbacks=[checkpoint])"
      ],
      "execution_count": 0,
      "outputs": [
        {
          "output_type": "stream",
          "text": [
            "Train on 2788 samples, validate on 167 samples\n",
            "Epoch 1/20\n",
            "2788/2788 [==============================] - 13s 5ms/step - loss: 0.8099 - acc: 0.4821 - val_loss: 0.7116 - val_acc: 0.5090\n",
            "\n",
            "Epoch 00001: val_acc improved from -inf to 0.50898, saving model to gdrive/My Drive/TFG/models/weights-01-0.51.hdf5\n",
            "Epoch 2/20\n",
            "2788/2788 [==============================] - 2s 817us/step - loss: 0.7463 - acc: 0.5352 - val_loss: 0.7185 - val_acc: 0.5090\n",
            "\n",
            "Epoch 00002: val_acc did not improve from 0.50898\n",
            "Epoch 3/20\n",
            "2788/2788 [==============================] - 2s 805us/step - loss: 0.6344 - acc: 0.6496 - val_loss: 0.6620 - val_acc: 0.5808\n",
            "\n",
            "Epoch 00003: val_acc improved from 0.50898 to 0.58084, saving model to gdrive/My Drive/TFG/models/weights-03-0.58.hdf5\n",
            "Epoch 4/20\n",
            "2788/2788 [==============================] - 2s 800us/step - loss: 0.4963 - acc: 0.8099 - val_loss: 0.6167 - val_acc: 0.6527\n",
            "\n",
            "Epoch 00004: val_acc improved from 0.58084 to 0.65269, saving model to gdrive/My Drive/TFG/models/weights-04-0.65.hdf5\n",
            "Epoch 5/20\n",
            "2788/2788 [==============================] - 2s 821us/step - loss: 0.4187 - acc: 0.9114 - val_loss: 0.6181 - val_acc: 0.6826\n",
            "\n",
            "Epoch 00005: val_acc improved from 0.65269 to 0.68263, saving model to gdrive/My Drive/TFG/models/weights-05-0.68.hdf5\n",
            "Epoch 6/20\n",
            "2788/2788 [==============================] - 2s 798us/step - loss: 0.3639 - acc: 0.9509 - val_loss: 0.6095 - val_acc: 0.7066\n",
            "\n",
            "Epoch 00006: val_acc improved from 0.68263 to 0.70659, saving model to gdrive/My Drive/TFG/models/weights-06-0.71.hdf5\n",
            "Epoch 7/20\n",
            "2788/2788 [==============================] - 2s 847us/step - loss: 0.3245 - acc: 0.9735 - val_loss: 0.6112 - val_acc: 0.6766\n",
            "\n",
            "Epoch 00007: val_acc did not improve from 0.70659\n",
            "Epoch 8/20\n",
            "2788/2788 [==============================] - 2s 831us/step - loss: 0.2978 - acc: 0.9806 - val_loss: 0.6337 - val_acc: 0.6707\n",
            "\n",
            "Epoch 00008: val_acc did not improve from 0.70659\n",
            "Epoch 9/20\n",
            "2788/2788 [==============================] - 2s 830us/step - loss: 0.2741 - acc: 0.9846 - val_loss: 0.6385 - val_acc: 0.6707\n",
            "\n",
            "Epoch 00009: val_acc did not improve from 0.70659\n",
            "Epoch 10/20\n",
            "2788/2788 [==============================] - 2s 814us/step - loss: 0.2538 - acc: 0.9857 - val_loss: 0.6271 - val_acc: 0.7006\n",
            "\n",
            "Epoch 00010: val_acc did not improve from 0.70659\n",
            "Epoch 11/20\n",
            "2788/2788 [==============================] - 2s 810us/step - loss: 0.2418 - acc: 0.9860 - val_loss: 0.6291 - val_acc: 0.6946\n",
            "\n",
            "Epoch 00011: val_acc did not improve from 0.70659\n",
            "Epoch 12/20\n",
            "2788/2788 [==============================] - 2s 788us/step - loss: 0.2168 - acc: 0.9918 - val_loss: 0.6482 - val_acc: 0.6886\n",
            "\n",
            "Epoch 00012: val_acc did not improve from 0.70659\n",
            "Epoch 13/20\n",
            "2788/2788 [==============================] - 2s 798us/step - loss: 0.2094 - acc: 0.9914 - val_loss: 0.6083 - val_acc: 0.7305\n",
            "\n",
            "Epoch 00013: val_acc improved from 0.70659 to 0.73054, saving model to gdrive/My Drive/TFG/models/weights-13-0.73.hdf5\n",
            "Epoch 14/20\n",
            "2788/2788 [==============================] - 2s 812us/step - loss: 0.1920 - acc: 0.9918 - val_loss: 0.6031 - val_acc: 0.7365\n",
            "\n",
            "Epoch 00014: val_acc improved from 0.73054 to 0.73653, saving model to gdrive/My Drive/TFG/models/weights-14-0.74.hdf5\n",
            "Epoch 15/20\n",
            "2788/2788 [==============================] - 2s 820us/step - loss: 0.1822 - acc: 0.9925 - val_loss: 0.6442 - val_acc: 0.7066\n",
            "\n",
            "Epoch 00015: val_acc did not improve from 0.73653\n",
            "Epoch 16/20\n",
            "2788/2788 [==============================] - 2s 831us/step - loss: 0.1692 - acc: 0.9943 - val_loss: 0.6736 - val_acc: 0.7066\n",
            "\n",
            "Epoch 00016: val_acc did not improve from 0.73653\n",
            "Epoch 17/20\n",
            "2788/2788 [==============================] - 2s 801us/step - loss: 0.1638 - acc: 0.9910 - val_loss: 0.6651 - val_acc: 0.7066\n",
            "\n",
            "Epoch 00017: val_acc did not improve from 0.73653\n",
            "Epoch 18/20\n",
            "2788/2788 [==============================] - 2s 838us/step - loss: 0.1521 - acc: 0.9946 - val_loss: 0.6824 - val_acc: 0.7066\n",
            "\n",
            "Epoch 00018: val_acc did not improve from 0.73653\n",
            "Epoch 19/20\n",
            "2788/2788 [==============================] - 2s 798us/step - loss: 0.1400 - acc: 0.9957 - val_loss: 0.7015 - val_acc: 0.6946\n",
            "\n",
            "Epoch 00019: val_acc did not improve from 0.73653\n",
            "Epoch 20/20\n",
            "2788/2788 [==============================] - 2s 807us/step - loss: 0.1350 - acc: 0.9935 - val_loss: 0.6979 - val_acc: 0.7186\n",
            "\n",
            "Epoch 00020: val_acc did not improve from 0.73653\n"
          ],
          "name": "stdout"
        }
      ]
    },
    {
      "cell_type": "code",
      "metadata": {
        "id": "E32LWBFAkrSq",
        "colab_type": "code",
        "outputId": "667aa632-8bae-4c46-e56c-763c2bd5aecc",
        "colab": {
          "base_uri": "https://localhost:8080/",
          "height": 339
        }
      },
      "source": [
        "%matplotlib inline\n",
        "import matplotlib.pyplot as plt\n",
        "plt.style.use('ggplot')\n",
        "\n",
        "def plot_history(history):\n",
        "    acc = history.history['acc']\n",
        "    val_acc = history.history['val_acc']\n",
        "    loss = history.history['loss']\n",
        "    val_loss = history.history['val_loss']\n",
        "    x = range(1, len(acc) + 1)\n",
        "\n",
        "    plt.figure(figsize=(12, 5))\n",
        "    plt.subplot(1, 2, 1)\n",
        "    plt.plot(x, acc, 'b', label='Training acc')\n",
        "    plt.plot(x, val_acc, 'r', label='Validation acc')\n",
        "    plt.title('Training and validation accuracy')\n",
        "    plt.legend()\n",
        "    plt.subplot(1, 2, 2)\n",
        "    plt.plot(x, loss, 'b', label='Training loss')\n",
        "    plt.plot(x, val_loss, 'r', label='Validation loss')\n",
        "    plt.title('Training and validation loss')\n",
        "    plt.legend()\n",
        "    \n",
        "plot_history(history)"
      ],
      "execution_count": 0,
      "outputs": [
        {
          "output_type": "display_data",
          "data": {
            "image/png": "[encoded data removed]",
            "text/plain": [
              "<Figure size 864x360 with 2 Axes>"
            ]
          },
          "metadata": {
            "tags": []
          }
        }
      ]
    },
    {
      "cell_type": "code",
      "metadata": {
        "id": "0-L6gkT1k1yQ",
        "colab_type": "code",
        "colab": {}
      },
      "source": [
        "y_score = model.predict(X_test)\n",
        "threshold = 0.5\n",
        "#y_pred= model.predict_classes(X_neutral)\n",
        "#y_test = y_netural\n",
        "\n",
        "y_pred = y_score.copy()\n",
        "y_pred[y_pred >=threshold] = 1\n",
        "y_pred[y_pred <threshold] = 0"
      ],
      "execution_count": 0,
      "outputs": []
    },
    {
      "cell_type": "code",
      "metadata": {
        "id": "7JLI_WVJkwcP",
        "colab_type": "code",
        "outputId": "7909e769-11ee-48f9-95b1-5f90e68ea3b9",
        "colab": {
          "base_uri": "https://localhost:8080/",
          "height": 173
        }
      },
      "source": [
        "from sklearn.metrics import confusion_matrix\n",
        "from sklearn.metrics import cohen_kappa_score\n",
        "from sklearn.metrics import accuracy_score\n",
        "from sklearn.metrics import precision_score\n",
        "from sklearn.metrics import recall_score\n",
        "from sklearn.metrics import f1_score\n",
        "from sklearn.metrics import roc_auc_score\n",
        "\n",
        "print(\"Confusion Matrix: \\n\" + str(confusion_matrix(y_test, y_pred)))\n",
        "print(\"Accuracy: {:.4f}\".format(accuracy_score(y_test, y_pred)))\n",
        "print(\"Kappa: {:.4f}\".format(cohen_kappa_score(y_test, y_pred)))\n",
        "print(\"Precision: {:.4f}\".format(precision_score(y_test, y_pred,pos_label=1)))\n",
        "print(\"Recall: {:.4f}\".format(recall_score(y_test, y_pred,pos_label=1)))\n",
        "print(\"F1: {:.4f}\".format(f1_score(y_test, y_pred,pos_label=1)))\n",
        "print(\"Auc: {:.4f}\".format(roc_auc_score(y_test, y_pred)))"
      ],
      "execution_count": 0,
      "outputs": [
        {
          "output_type": "stream",
          "text": [
            "Confusion Matrix: \n",
            "[[60 25]\n",
            " [19 63]]\n",
            "Accuracy: 0.7365\n",
            "Kappa: 0.4736\n",
            "Precision: 0.7159\n",
            "Recall: 0.7683\n",
            "F1: 0.7412\n",
            "Auc: 0.7371\n"
          ],
          "name": "stdout"
        }
      ]
    },
    {
      "cell_type": "code",
      "metadata": {
        "id": "eRm0NJMfMmah",
        "colab_type": "code",
        "outputId": "ca1bfa46-3df0-49f3-b43a-1b09d1adf67f",
        "colab": {
          "base_uri": "https://localhost:8080/",
          "height": 173
        }
      },
      "source": [
        "from sklearn.metrics import classification_report\n",
        "\n",
        "print(classification_report(y_test, y_pred))"
      ],
      "execution_count": 0,
      "outputs": [
        {
          "output_type": "stream",
          "text": [
            "              precision    recall  f1-score   support\n",
            "\n",
            "           0       0.73      0.72      0.72        85\n",
            "           1       0.71      0.72      0.72        82\n",
            "\n",
            "    accuracy                           0.72       167\n",
            "   macro avg       0.72      0.72      0.72       167\n",
            "weighted avg       0.72      0.72      0.72       167\n",
            "\n"
          ],
          "name": "stdout"
        }
      ]
    },
    {
      "cell_type": "code",
      "metadata": {
        "id": "uEwxrc1K4zZ_",
        "colab_type": "code",
        "outputId": "fe3e834d-0583-4ecf-b960-910c3b5ca914",
        "colab": {
          "base_uri": "https://localhost:8080/",
          "height": 781
        }
      },
      "source": [
        "model2 = custom_model_cpu(embedding_size=150,dropout=0.5,filters=64,kernel=3,maxp=2,gnup=32,neurons=8,act='gelu')\n",
        "model2.load_weights(\"gdrive/My Drive/TFG/models/\" + files[0])\n",
        "model2.compile(optimizer = 'adam', loss = 'binary_crossentropy',  metrics = ['accuracy'])\n",
        "\n",
        "model2.summary()"
      ],
      "execution_count": 0,
      "outputs": [
        {
          "output_type": "stream",
          "text": [
            "Model: \"model_2\"\n",
            "_________________________________________________________________\n",
            "Layer (type)                 Output Shape              Param #   \n",
            "=================================================================\n",
            "input_2 (InputLayer)         (None, 80)                0         \n",
            "_________________________________________________________________\n",
            "embedding_2 (Embedding)      (None, 80, 150)           1524300   \n",
            "_________________________________________________________________\n",
            "spatial_dropout1d_2 (Spatial (None, 80, 150)           0         \n",
            "_________________________________________________________________\n",
            "conv1d_2 (Conv1D)            (None, 78, 64)            28864     \n",
            "_________________________________________________________________\n",
            "batch_normalization_5 (Batch (None, 78, 64)            256       \n",
            "_________________________________________________________________\n",
            "activation_4 (Activation)    (None, 78, 64)            0         \n",
            "_________________________________________________________________\n",
            "max_pooling1d_2 (MaxPooling1 (None, 39, 64)            0         \n",
            "_________________________________________________________________\n",
            "dropout_3 (Dropout)          (None, 39, 64)            0         \n",
            "_________________________________________________________________\n",
            "gru_1 (GRU)                  (None, 39, 32)            9408      \n",
            "_________________________________________________________________\n",
            "batch_normalization_6 (Batch (None, 39, 32)            128       \n",
            "_________________________________________________________________\n",
            "global_max_pooling1d_2 (Glob (None, 32)                0         \n",
            "_________________________________________________________________\n",
            "dropout_4 (Dropout)          (None, 32)                0         \n",
            "_________________________________________________________________\n",
            "dense_3 (Dense)              (None, 8)                 264       \n",
            "_________________________________________________________________\n",
            "batch_normalization_7 (Batch (None, 8)                 32        \n",
            "_________________________________________________________________\n",
            "activation_5 (Activation)    (None, 8)                 0         \n",
            "_________________________________________________________________\n",
            "dense_4 (Dense)              (None, 1)                 9         \n",
            "_________________________________________________________________\n",
            "batch_normalization_8 (Batch (None, 1)                 4         \n",
            "_________________________________________________________________\n",
            "activation_6 (Activation)    (None, 1)                 0         \n",
            "=================================================================\n",
            "Total params: 1,563,265\n",
            "Trainable params: 1,563,055\n",
            "Non-trainable params: 210\n",
            "_________________________________________________________________\n"
          ],
          "name": "stdout"
        }
      ]
    },
    {
      "cell_type": "code",
      "metadata": {
        "id": "tMGJtSoJ5Ftn",
        "colab_type": "code",
        "colab": {}
      },
      "source": [
        "model2.save('gdrive/My Drive/TFG/models/my_model_movie_like.h5') "
      ],
      "execution_count": 0,
      "outputs": []
    },
    {
      "cell_type": "code",
      "metadata": {
        "id": "xxyaibcxQlBW",
        "colab_type": "code",
        "colab": {}
      },
      "source": [
        "# Parameter space\n",
        "param_grid = dict(dropout = [0.5],\n",
        "                  filters1 = [256,512],\n",
        "                  filters2 = [256,512],\n",
        "                  kernel = [2,3],\n",
        "                  maxp = [3,5],\n",
        "                  gnup = [64,128,256],\n",
        "                  act = [\"relu\", MyLayers.gelu],\n",
        "                  epochs=[20])"
      ],
      "execution_count": 0,
      "outputs": []
    },
    {
      "cell_type": "code",
      "metadata": {
        "id": "aN3ce7nAkNdh",
        "colab_type": "code",
        "colab": {}
      },
      "source": [
        "from keras.wrappers.scikit_learn import KerasClassifier\n",
        "model = KerasClassifier(build_fn = custom_model, verbose=1, batch_size = 8)"
      ],
      "execution_count": 0,
      "outputs": []
    },
    {
      "cell_type": "code",
      "metadata": {
        "id": "DVy1mNY5Qfad",
        "colab_type": "code",
        "colab": {}
      },
      "source": [
        "from sklearn.model_selection import RandomizedSearchCV\n",
        "\n",
        "grid = RandomizedSearchCV(estimator = model, param_distributions = param_grid, verbose=2, cv = 2)"
      ],
      "execution_count": 0,
      "outputs": []
    },
    {
      "cell_type": "code",
      "metadata": {
        "id": "oMuazieNQoTd",
        "colab_type": "code",
        "colab": {}
      },
      "source": [
        "grid_result = grid.fit(X_train, y_train)"
      ],
      "execution_count": 0,
      "outputs": []
    },
    {
      "cell_type": "code",
      "metadata": {
        "id": "CnXJE453d-d8",
        "colab_type": "code",
        "outputId": "cc5b5adc-ac2a-4944-e6cf-d9006839de0c",
        "colab": {
          "base_uri": "https://localhost:8080/",
          "height": 34
        }
      },
      "source": [
        "grid.best_score_"
      ],
      "execution_count": 0,
      "outputs": [
        {
          "output_type": "execute_result",
          "data": {
            "text/plain": [
              "0.5281385447383787"
            ]
          },
          "metadata": {
            "tags": []
          },
          "execution_count": 49
        }
      ]
    },
    {
      "cell_type": "code",
      "metadata": {
        "id": "juL129Onc-rV",
        "colab_type": "code",
        "outputId": "793eb91d-4038-4afc-bdb7-b751a37614c5",
        "colab": {
          "base_uri": "https://localhost:8080/",
          "height": 208
        }
      },
      "source": [
        " # summarize results\n",
        "means = pd.DataFrame(grid_result.cv_results_['mean_test_score'], columns = ['Mean'] )\n",
        "stds = pd.DataFrame(grid_result.cv_results_['std_test_score'], columns = ['SD'])\n",
        "params = pd.DataFrame(grid_result.cv_results_['params'])\n",
        "\n",
        "result = pd.concat([means, stds, params],axis = 1).sort_values(by=['Mean'], ascending=False)\n",
        "print(result.to_string(index=False))"
      ],
      "execution_count": 0,
      "outputs": [
        {
          "output_type": "stream",
          "text": [
            "     Mean        SD                                         act  dropout  epochs  filters1  filters2  gnup  kernel  maxp\n",
            " 0.528139  0.009420  <function MyLayers.gelu at 0x7fd6cc6fc1e0>      0.5      20       512       512    64       3     5\n",
            " 0.518038  0.022393  <function MyLayers.gelu at 0x7fd6cc6fc1e0>      0.5      20       512       256    64       3     5\n",
            " 0.516595  0.020947  <function MyLayers.gelu at 0x7fd6cc6fc1e0>      0.5      20       512       512   128       2     3\n",
            " 0.516595  0.020947  <function MyLayers.gelu at 0x7fd6cc6fc1e0>      0.5      20       512       512   256       3     3\n",
            " 0.516595  0.020947  <function MyLayers.gelu at 0x7fd6cc6fc1e0>      0.5      20       512       512   256       2     3\n",
            " 0.516595  0.020947                                        relu      0.5      20       512       256   256       2     3\n",
            " 0.516595  0.020947                                        relu      0.5      20       256       512   128       3     5\n",
            " 0.516595  0.020947                                        relu      0.5      20       512       512   256       2     3\n",
            " 0.516595  0.020947                                        relu      0.5      20       256       256   256       3     3\n",
            " 0.516595  0.020947                                        relu      0.5      20       256       512   128       2     5\n"
          ],
          "name": "stdout"
        }
      ]
    },
    {
      "cell_type": "code",
      "metadata": {
        "id": "GpHwseayFPeI",
        "colab_type": "code",
        "colab": {}
      },
      "source": [
        "# Model 6 Attention with LSTM\n",
        "from keras.engine.topology import Layer\n",
        "\n",
        "def dot_product(x, kernel):\n",
        "    \"\"\"\n",
        "    Wrapper for dot product operation, in order to be compatible with both\n",
        "    Theano and Tensorflow\n",
        "    Args:\n",
        "        x (): input\n",
        "        kernel (): weights\n",
        "    Returns:\n",
        "    \"\"\"\n",
        "    if K.backend() == 'tensorflow':\n",
        "        return K.squeeze(K.dot(x, K.expand_dims(kernel)), axis=-1)\n",
        "    else:\n",
        "        return K.dot(x, kernel)\n",
        "    \n",
        "\n",
        "class AttentionWithContext(Layer):\n",
        "    \"\"\"\n",
        "    Attention operation, with a context/query vector, for temporal data.\n",
        "    Supports Masking.\n",
        "    Follows the work of Yang et al. [https://www.cs.cmu.edu/~diyiy/docs/naacl16.pdf]\n",
        "    \"Hierarchical Attention Networks for Document Classification\"\n",
        "    by using a context vector to assist the attention\n",
        "    # Input shape\n",
        "        3D tensor with shape: `(samples, steps, features)`.\n",
        "    # Output shape\n",
        "        2D tensor with shape: `(samples, features)`.\n",
        "    How to use:\n",
        "    Just put it on top of an RNN Layer (GRU/LSTM/SimpleRNN) with return_sequences=True.\n",
        "    The dimensions are inferred based on the output shape of the RNN.\n",
        "    Note: The layer has been tested with Keras 2.0.6\n",
        "    Example:\n",
        "        model.add(LSTM(64, return_sequences=True))\n",
        "        model.add(AttentionWithContext())\n",
        "        # next add a Dense layer (for classification/regression) or whatever...\n",
        "    \"\"\"\n",
        "\n",
        "    def __init__(self,\n",
        "                 W_regularizer=None, u_regularizer=None, b_regularizer=None,\n",
        "                 W_constraint=None, u_constraint=None, b_constraint=None,\n",
        "                 bias=True, **kwargs):\n",
        "\n",
        "        self.supports_masking = True\n",
        "        self.init = initializers.get('glorot_uniform')\n",
        "\n",
        "        self.W_regularizer = regularizers.get(W_regularizer)\n",
        "        self.u_regularizer = regularizers.get(u_regularizer)\n",
        "        self.b_regularizer = regularizers.get(b_regularizer)\n",
        "\n",
        "        self.W_constraint = constraints.get(W_constraint)\n",
        "        self.u_constraint = constraints.get(u_constraint)\n",
        "        self.b_constraint = constraints.get(b_constraint)\n",
        "\n",
        "        self.bias = bias\n",
        "        super(AttentionWithContext, self).__init__(**kwargs)\n",
        "\n",
        "    def build(self, input_shape):\n",
        "        assert len(input_shape) == 3\n",
        "\n",
        "        self.W = self.add_weight((input_shape[-1], input_shape[-1],),\n",
        "                                 initializer=self.init,\n",
        "                                 name='{}_W'.format(self.name),\n",
        "                                 regularizer=self.W_regularizer,\n",
        "                                 constraint=self.W_constraint)\n",
        "        if self.bias:\n",
        "            self.b = self.add_weight((input_shape[-1],),\n",
        "                                     initializer='zero',\n",
        "                                     name='{}_b'.format(self.name),\n",
        "                                     regularizer=self.b_regularizer,\n",
        "                                     constraint=self.b_constraint)\n",
        "\n",
        "        self.u = self.add_weight((input_shape[-1],),\n",
        "                                 initializer=self.init,\n",
        "                                 name='{}_u'.format(self.name),\n",
        "                                 regularizer=self.u_regularizer,\n",
        "                                 constraint=self.u_constraint)\n",
        "\n",
        "        super(AttentionWithContext, self).build(input_shape)\n",
        "\n",
        "    def compute_mask(self, input, input_mask=None):\n",
        "        # do not pass the mask to the next layers\n",
        "        return None\n",
        "\n",
        "    def call(self, x, mask=None):\n",
        "        uit = dot_product(x, self.W)\n",
        "\n",
        "        if self.bias:\n",
        "            uit += self.b\n",
        "\n",
        "        uit = K.tanh(uit)\n",
        "        ait = dot_product(uit, self.u)\n",
        "\n",
        "        a = K.exp(ait)\n",
        "\n",
        "        # apply mask after the exp. will be re-normalized next\n",
        "        if mask is not None:\n",
        "            # Cast the mask to floatX to avoid float64 upcasting in theano\n",
        "            a *= K.cast(mask, K.floatx())\n",
        "\n",
        "        # in some cases especially in the early stages of training the sum may be almost zero\n",
        "        # and this results in NaN's. A workaround is to add a very small positive number ε to the sum.\n",
        "        # a /= K.cast(K.sum(a, axis=1, keepdims=True), K.floatx())\n",
        "        a /= K.cast(K.sum(a, axis=1, keepdims=True) + K.epsilon(), K.floatx())\n",
        "\n",
        "        a = K.expand_dims(a)\n",
        "        weighted_input = x * a\n",
        "        return K.sum(weighted_input, axis=1)\n",
        "\n",
        "    def compute_output_shape(self, input_shape):\n",
        "        return input_shape[0], input_shape[-1]"
      ],
      "execution_count": 0,
      "outputs": []
    },
    {
      "cell_type": "code",
      "metadata": {
        "id": "LQdIyysEFQrY",
        "colab_type": "code",
        "colab": {}
      },
      "source": [
        "from keras.layers import Bidirectional, CuDNNGRU, SpatialDropout1D\n",
        "from keras.layers import Bidirectional\n",
        "from keras.layers import GRU, CuDNNGRU\n",
        "\n",
        "from keras import optimizers\n",
        "from keras import backend as K\n",
        "from keras.engine.topology import Layer\n",
        "from keras import initializers, regularizers, constraints\n",
        "from keras.models import Sequential,Model\n",
        "from keras.layers import Dense, Dropout, Activation, Convolution1D, MaxPooling1D, Input, AveragePooling1D\n",
        "from keras.layers import Embedding, SpatialDropout1D, Reshape, Flatten, BatchNormalization\n",
        "from keras.layers import Conv1D, GlobalMaxPooling1D, GlobalAveragePooling1D, Concatenate\n",
        "from keras.optimizers import Adam, Adagrad\n",
        "\n",
        "def model_lstm_atten(n_embedding,gru,act1,act2,neurons):\n",
        "    inp = Input(shape=(maxlen,))\n",
        "    x = Embedding(input_dim = vocab_size, output_dim = n_embedding)(inp)\n",
        "    x = SpatialDropout1D(0.5)(x)\n",
        "    x = CuDNNGRU(gru, kernel_initializer='glorot_uniform', return_sequences=True)(x)\n",
        "    x = BatchNormalization()(x)\n",
        "    x = AttentionWithContext()(x)\n",
        "    x = BatchNormalization()(x)\n",
        "    x = Dropout(0.5)(x)\n",
        "    x = MyLayers.my_dense(neurons,x,act='relu', ini='he_uniform', reg=keras.regularizers.l1_l2(l1=0.01, l2=0.01))\n",
        "    x = MyLayers.my_dense(1,x,act='sigmoid', reg=keras.regularizers.l1_l2(l1=0.01, l2=0.01))\n",
        "    model = Model(inputs=inp, outputs=x)\n",
        "    model.compile(loss='binary_crossentropy', optimizer=optimizers.Adam(lr=0.001), metrics=['accuracy'])\n",
        "    return model\n",
        "  "
      ],
      "execution_count": 0,
      "outputs": []
    },
    {
      "cell_type": "code",
      "metadata": {
        "id": "JRudSMxBGPiz",
        "colab_type": "code",
        "outputId": "3db79adf-25c6-414c-b17f-cb034ac25344",
        "colab": {
          "base_uri": "https://localhost:8080/",
          "height": 642
        }
      },
      "source": [
        "model = model_lstm_atten(n_embedding=150,gru=16,act1='gelu',act2='gelu',neurons=32)\n",
        "model.summary()"
      ],
      "execution_count": 0,
      "outputs": [
        {
          "output_type": "stream",
          "text": [
            "Model: \"model_3\"\n",
            "_________________________________________________________________\n",
            "Layer (type)                 Output Shape              Param #   \n",
            "=================================================================\n",
            "input_3 (InputLayer)         (None, 100)               0         \n",
            "_________________________________________________________________\n",
            "embedding_3 (Embedding)      (None, 100, 150)          1403100   \n",
            "_________________________________________________________________\n",
            "spatial_dropout1d_3 (Spatial (None, 100, 150)          0         \n",
            "_________________________________________________________________\n",
            "cu_dnngru_3 (CuDNNGRU)       (None, 100, 16)           8064      \n",
            "_________________________________________________________________\n",
            "batch_normalization_9 (Batch (None, 100, 16)           64        \n",
            "_________________________________________________________________\n",
            "attention_with_context_3 (At (None, 16)                288       \n",
            "_________________________________________________________________\n",
            "batch_normalization_10 (Batc (None, 16)                64        \n",
            "_________________________________________________________________\n",
            "dropout_3 (Dropout)          (None, 16)                0         \n",
            "_________________________________________________________________\n",
            "dense_5 (Dense)              (None, 32)                544       \n",
            "_________________________________________________________________\n",
            "batch_normalization_11 (Batc (None, 32)                128       \n",
            "_________________________________________________________________\n",
            "activation_5 (Activation)    (None, 32)                0         \n",
            "_________________________________________________________________\n",
            "dense_6 (Dense)              (None, 1)                 33        \n",
            "_________________________________________________________________\n",
            "batch_normalization_12 (Batc (None, 1)                 4         \n",
            "_________________________________________________________________\n",
            "activation_6 (Activation)    (None, 1)                 0         \n",
            "=================================================================\n",
            "Total params: 1,412,289\n",
            "Trainable params: 1,412,159\n",
            "Non-trainable params: 130\n",
            "_________________________________________________________________\n"
          ],
          "name": "stdout"
        }
      ]
    },
    {
      "cell_type": "code",
      "metadata": {
        "id": "YF5eyjHOHJVw",
        "colab_type": "code",
        "colab": {}
      },
      "source": [
        "model = Sequential()\n",
        "model.add(Embedding(input_dim=vocab_size, output_dim=150))\n",
        "model.add(Conv1D(64, 3, activation='relu'))\n",
        "model.add(Dropout(0.5))\n",
        "model.add(GlobalMaxPooling1D())\n",
        "model.add(Dropout(0.5))\n",
        "model.add(Dense(8, activation='relu'))\n",
        "model.add(Dense(1, activation='sigmoid'))            \n",
        "optimizer = optimizers.Adam(lr=0.001)\n",
        "model.compile(optimizer=optimizer,loss='binary_crossentropy',metrics=['accuracy'])"
      ],
      "execution_count": 0,
      "outputs": []
    },
    {
      "cell_type": "code",
      "metadata": {
        "id": "9uRtgrdPISWN",
        "colab_type": "code",
        "outputId": "fba10ef2-48af-4739-af3d-7697b069753b",
        "colab": {
          "base_uri": "https://localhost:8080/",
          "height": 399
        }
      },
      "source": [
        "model.summary()"
      ],
      "execution_count": 0,
      "outputs": [
        {
          "output_type": "stream",
          "text": [
            "Model: \"sequential_6\"\n",
            "_________________________________________________________________\n",
            "Layer (type)                 Output Shape              Param #   \n",
            "=================================================================\n",
            "embedding_8 (Embedding)      (None, None, 150)         1403100   \n",
            "_________________________________________________________________\n",
            "conv1d_5 (Conv1D)            (None, None, 64)          28864     \n",
            "_________________________________________________________________\n",
            "dropout_12 (Dropout)         (None, None, 64)          0         \n",
            "_________________________________________________________________\n",
            "global_max_pooling1d_5 (Glob (None, 64)                0         \n",
            "_________________________________________________________________\n",
            "dropout_13 (Dropout)         (None, 64)                0         \n",
            "_________________________________________________________________\n",
            "dense_15 (Dense)             (None, 8)                 520       \n",
            "_________________________________________________________________\n",
            "dense_16 (Dense)             (None, 1)                 9         \n",
            "=================================================================\n",
            "Total params: 1,432,493\n",
            "Trainable params: 1,432,493\n",
            "Non-trainable params: 0\n",
            "_________________________________________________________________\n"
          ],
          "name": "stdout"
        }
      ]
    },
    {
      "cell_type": "code",
      "metadata": {
        "id": "Taz_Kl8tLj_S",
        "colab_type": "code",
        "colab": {}
      },
      "source": [
        "history = model.fit(X_train, y_train,\n",
        "                    epochs=20,\n",
        "                    verbose=True,\n",
        "                    validation_data=(X_test, y_test),\n",
        "                    batch_size=4,\n",
        "                    class_weight=class_weights)"
      ],
      "execution_count": 0,
      "outputs": []
    },
    {
      "cell_type": "code",
      "metadata": {
        "id": "8gOoBJXtzWmR",
        "colab_type": "code",
        "outputId": "28c51b56-ea7a-4d53-9702-abad43962460",
        "colab": {
          "base_uri": "https://localhost:8080/",
          "height": 173
        }
      },
      "source": [
        "from sklearn.metrics import classification_report\n",
        "\n",
        "print(classification_report(y_test, y_pred))"
      ],
      "execution_count": 0,
      "outputs": [
        {
          "output_type": "stream",
          "text": [
            "              precision    recall  f1-score   support\n",
            "\n",
            "           0       0.72      0.75      0.73        64\n",
            "           1       0.71      0.68      0.70        59\n",
            "\n",
            "    accuracy                           0.72       123\n",
            "   macro avg       0.72      0.71      0.71       123\n",
            "weighted avg       0.72      0.72      0.71       123\n",
            "\n"
          ],
          "name": "stdout"
        }
      ]
    },
    {
      "cell_type": "code",
      "metadata": {
        "id": "WJ1mQbvOJaQl",
        "colab_type": "code",
        "colab": {}
      },
      "source": [
        "model.save('nice_movie' + '_model2.h5')  "
      ],
      "execution_count": 0,
      "outputs": []
    },
    {
      "cell_type": "code",
      "metadata": {
        "id": "Nvz8Z9-J-TRJ",
        "colab_type": "code",
        "colab": {}
      },
      "source": [
        "!pip install tmdbsimple\n",
        "\n",
        "import tmdbsimple as tmdb\n",
        "\n",
        "tmdb.API_KEY = '38dd5c6c01713ef99903275d51e2fd68'"
      ],
      "execution_count": 0,
      "outputs": []
    },
    {
      "cell_type": "code",
      "metadata": {
        "id": "s-kzUQdq863L",
        "colab_type": "code",
        "colab": {}
      },
      "source": [
        "def get_likeness(film):\n",
        "  \n",
        "  search = tmdb.Search()\n",
        "  response = search.movie(query=film,language='es-ES')\n",
        "  \n",
        "  print(response)\n",
        "  \n",
        "\n",
        "  if len(response['results']) >= 1:\n",
        "    over = response['results'][0]['overview']\n",
        "    score = response['results'][0]['vote_average']\n",
        "    \n",
        "    id_movie = response['results'][0]['id']\n",
        "    \n",
        "    movie = tmdb.Movies(id_movie)\n",
        "    \n",
        "    actors = get_actors(movie.credits()['cast'])\n",
        "    director = get_director(movie.credits()['crew'])\n",
        "    \n",
        "    over = clean_overview(str(over))\n",
        "    over = delete_stop_words(over)\n",
        "\n",
        "    over = actors + ' ' + over\n",
        "    over = director + over\n",
        "    \n",
        "    print(over)\n",
        "    \n",
        "    X_over = tokenizer.texts_to_sequences(np.array([over]))\n",
        "    X_over = pad_sequences(X_over, padding='post', maxlen=maxlen)\n",
        "\n",
        "    probability = model.predict(X_over)\n",
        "    print(probability)\n",
        "    probability = probability[0][0] * 0.75 + (score/10)*0.25\n",
        "    \n",
        "    if (probability >= 0.5):\n",
        "        pred = 1\n",
        "        print(probability)\n",
        "        if (probability < 0.5):\n",
        "          probability = 0.5\n",
        "        \n",
        "    else:\n",
        "        pred = 0\n",
        "    \n",
        "    return (str(pred) , str(probability), score/10)\n",
        "  \n",
        "  else:\n",
        "    \n",
        "    return 'No existe la peli'\n",
        "  "
      ],
      "execution_count": 0,
      "outputs": []
    },
    {
      "cell_type": "code",
      "metadata": {
        "id": "BRvFNL5nBlPU",
        "colab_type": "code",
        "colab": {}
      },
      "source": [
        "movie = tmdb.Movies(64)\n",
        "    \n",
        "get_director(movie.credits()['crew'])"
      ],
      "execution_count": 0,
      "outputs": []
    },
    {
      "cell_type": "code",
      "metadata": {
        "id": "zYO4-m5wL3Ll",
        "colab_type": "code",
        "colab": {}
      },
      "source": [
        "get_likeness(\"la boda de mi mejor amiga\")"
      ],
      "execution_count": 0,
      "outputs": []
    },
    {
      "cell_type": "code",
      "metadata": {
        "id": "fuJocWX_CC8r",
        "colab_type": "code",
        "colab": {}
      },
      "source": [
        "word_embds = model.layers[1].get_weights()[0]\n",
        "word_list = []\n",
        "for word, i in tokenizer.word_index.items():\n",
        "    word_list.append(word)"
      ],
      "execution_count": 0,
      "outputs": []
    },
    {
      "cell_type": "code",
      "metadata": {
        "id": "rvDRkNV0CFrm",
        "colab_type": "code",
        "colab": {}
      },
      "source": [
        "from sklearn.manifold import TSNE\n",
        "\n",
        "X_embedded = TSNE(n_components=2).fit_transform(word_embds)\n",
        "number_of_words = 1000\n",
        "trace = go.Scatter(\n",
        "    x = X_embedded[0:number_of_words,0], \n",
        "    y = X_embedded[0:number_of_words, 1],\n",
        "    mode = 'markers',\n",
        "    text= word_list[0:number_of_words]\n",
        ")\n",
        "layout = dict(title= 't-SNE 1 vs t-SNE 2 for sirst 1000 words ',\n",
        "              yaxis = dict(title='t-SNE 2'),\n",
        "              xaxis = dict(title='t-SNE 1'),\n",
        "              hovermode= 'closest')\n",
        "fig = dict(data = [trace], layout= layout)\n",
        "py.iplot(fig)"
      ],
      "execution_count": 0,
      "outputs": []
    },
    {
      "cell_type": "code",
      "metadata": {
        "id": "fnSAd3BxBzGF",
        "colab_type": "code",
        "colab": {}
      },
      "source": [
        "import xgboost as xgb\n",
        "\n",
        "#model = xgb.XGBClassifier(max_depth=10,n_estimators=150,silent=False,objective='binary:logistic')\n",
        "model = xgb.XGBClassifier()\n",
        "model.fit(X_train, y_train)"
      ],
      "execution_count": 0,
      "outputs": []
    },
    {
      "cell_type": "code",
      "metadata": {
        "id": "mR7WdupnB7pd",
        "colab_type": "code",
        "colab": {}
      },
      "source": [
        "y_pred = model.predict(X_test)\n",
        "y_score = model.predict_proba(X_test)"
      ],
      "execution_count": 0,
      "outputs": []
    },
    {
      "cell_type": "code",
      "metadata": {
        "id": "FcrD_SolC9Qt",
        "colab_type": "code",
        "colab": {}
      },
      "source": [
        "!pip install finetune"
      ],
      "execution_count": 0,
      "outputs": []
    },
    {
      "cell_type": "code",
      "metadata": {
        "id": "FFzRg88aDFdv",
        "colab_type": "code",
        "colab": {}
      },
      "source": [
        "from finetune import Classifier\n",
        "\n",
        "model = Classifier()               # Load base model\n",
        "model.fit(X_train, y_train)          # Finetune base model on custom data\n",
        "y_pred = model.predict(X_test)"
      ],
      "execution_count": 0,
      "outputs": []
    }
  ]
}
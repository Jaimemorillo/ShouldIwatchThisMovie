{
  "nbformat": 4,
  "nbformat_minor": 0,
  "metadata": {
    "colab": {
      "name": "memoria_final.ipynb",
      "provenance": [],
      "collapsed_sections": [],
      "authorship_tag": "ABX9TyNRWtj6olZ6EpzBjjhXyNjB",
      "include_colab_link": true
    },
    "kernelspec": {
      "name": "python3",
      "display_name": "Python 3"
    },
    "language_info": {
      "name": "python"
    },
    "accelerator": "GPU",
    "widgets": {
      "application/vnd.jupyter.widget-state+json": {
        "23bf76399bfd43fa9ac6e9c8aa1d602a": {
          "model_module": "@jupyter-widgets/controls",
          "model_name": "HBoxModel",
          "state": {
            "_view_name": "HBoxView",
            "_dom_classes": [],
            "_model_name": "HBoxModel",
            "_view_module": "@jupyter-widgets/controls",
            "_model_module_version": "1.5.0",
            "_view_count": null,
            "_view_module_version": "1.5.0",
            "box_style": "",
            "layout": "IPY_MODEL_f5fab3f76d264c6e8e221359fd3042a9",
            "_model_module": "@jupyter-widgets/controls",
            "children": [
              "IPY_MODEL_9a64fc33380740818a99210a9030ea28",
              "IPY_MODEL_95e781e361dc4cfda8f17c4fbf9adf82"
            ]
          }
        },
        "f5fab3f76d264c6e8e221359fd3042a9": {
          "model_module": "@jupyter-widgets/base",
          "model_name": "LayoutModel",
          "state": {
            "_view_name": "LayoutView",
            "grid_template_rows": null,
            "right": null,
            "justify_content": null,
            "_view_module": "@jupyter-widgets/base",
            "overflow": null,
            "_model_module_version": "1.2.0",
            "_view_count": null,
            "flex_flow": null,
            "width": null,
            "min_width": null,
            "border": null,
            "align_items": null,
            "bottom": null,
            "_model_module": "@jupyter-widgets/base",
            "top": null,
            "grid_column": null,
            "overflow_y": null,
            "overflow_x": null,
            "grid_auto_flow": null,
            "grid_area": null,
            "grid_template_columns": null,
            "flex": null,
            "_model_name": "LayoutModel",
            "justify_items": null,
            "grid_row": null,
            "max_height": null,
            "align_content": null,
            "visibility": null,
            "align_self": null,
            "height": null,
            "min_height": null,
            "padding": null,
            "grid_auto_rows": null,
            "grid_gap": null,
            "max_width": null,
            "order": null,
            "_view_module_version": "1.2.0",
            "grid_template_areas": null,
            "object_position": null,
            "object_fit": null,
            "grid_auto_columns": null,
            "margin": null,
            "display": null,
            "left": null
          }
        },
        "9a64fc33380740818a99210a9030ea28": {
          "model_module": "@jupyter-widgets/controls",
          "model_name": "FloatProgressModel",
          "state": {
            "_view_name": "ProgressView",
            "style": "IPY_MODEL_e42c39205a14417ca66c44aa5010f6cb",
            "_dom_classes": [],
            "description": "100%",
            "_model_name": "FloatProgressModel",
            "bar_style": "success",
            "max": 2043,
            "_view_module": "@jupyter-widgets/controls",
            "_model_module_version": "1.5.0",
            "value": 2043,
            "_view_count": null,
            "_view_module_version": "1.5.0",
            "orientation": "horizontal",
            "min": 0,
            "description_tooltip": null,
            "_model_module": "@jupyter-widgets/controls",
            "layout": "IPY_MODEL_c1f1302b6801435da059e98803bddbc2"
          }
        },
        "95e781e361dc4cfda8f17c4fbf9adf82": {
          "model_module": "@jupyter-widgets/controls",
          "model_name": "HTMLModel",
          "state": {
            "_view_name": "HTMLView",
            "style": "IPY_MODEL_5105f6873ef344bcb037bb4fd890e0bd",
            "_dom_classes": [],
            "description": "",
            "_model_name": "HTMLModel",
            "placeholder": "​",
            "_view_module": "@jupyter-widgets/controls",
            "_model_module_version": "1.5.0",
            "value": " 2043/2043 [00:28&lt;00:00, 70.68it/s]",
            "_view_count": null,
            "_view_module_version": "1.5.0",
            "description_tooltip": null,
            "_model_module": "@jupyter-widgets/controls",
            "layout": "IPY_MODEL_79499a4a12714494a8849b6358529171"
          }
        },
        "e42c39205a14417ca66c44aa5010f6cb": {
          "model_module": "@jupyter-widgets/controls",
          "model_name": "ProgressStyleModel",
          "state": {
            "_view_name": "StyleView",
            "_model_name": "ProgressStyleModel",
            "description_width": "initial",
            "_view_module": "@jupyter-widgets/base",
            "_model_module_version": "1.5.0",
            "_view_count": null,
            "_view_module_version": "1.2.0",
            "bar_color": null,
            "_model_module": "@jupyter-widgets/controls"
          }
        },
        "c1f1302b6801435da059e98803bddbc2": {
          "model_module": "@jupyter-widgets/base",
          "model_name": "LayoutModel",
          "state": {
            "_view_name": "LayoutView",
            "grid_template_rows": null,
            "right": null,
            "justify_content": null,
            "_view_module": "@jupyter-widgets/base",
            "overflow": null,
            "_model_module_version": "1.2.0",
            "_view_count": null,
            "flex_flow": null,
            "width": null,
            "min_width": null,
            "border": null,
            "align_items": null,
            "bottom": null,
            "_model_module": "@jupyter-widgets/base",
            "top": null,
            "grid_column": null,
            "overflow_y": null,
            "overflow_x": null,
            "grid_auto_flow": null,
            "grid_area": null,
            "grid_template_columns": null,
            "flex": null,
            "_model_name": "LayoutModel",
            "justify_items": null,
            "grid_row": null,
            "max_height": null,
            "align_content": null,
            "visibility": null,
            "align_self": null,
            "height": null,
            "min_height": null,
            "padding": null,
            "grid_auto_rows": null,
            "grid_gap": null,
            "max_width": null,
            "order": null,
            "_view_module_version": "1.2.0",
            "grid_template_areas": null,
            "object_position": null,
            "object_fit": null,
            "grid_auto_columns": null,
            "margin": null,
            "display": null,
            "left": null
          }
        },
        "5105f6873ef344bcb037bb4fd890e0bd": {
          "model_module": "@jupyter-widgets/controls",
          "model_name": "DescriptionStyleModel",
          "state": {
            "_view_name": "StyleView",
            "_model_name": "DescriptionStyleModel",
            "description_width": "",
            "_view_module": "@jupyter-widgets/base",
            "_model_module_version": "1.5.0",
            "_view_count": null,
            "_view_module_version": "1.2.0",
            "_model_module": "@jupyter-widgets/controls"
          }
        },
        "79499a4a12714494a8849b6358529171": {
          "model_module": "@jupyter-widgets/base",
          "model_name": "LayoutModel",
          "state": {
            "_view_name": "LayoutView",
            "grid_template_rows": null,
            "right": null,
            "justify_content": null,
            "_view_module": "@jupyter-widgets/base",
            "overflow": null,
            "_model_module_version": "1.2.0",
            "_view_count": null,
            "flex_flow": null,
            "width": null,
            "min_width": null,
            "border": null,
            "align_items": null,
            "bottom": null,
            "_model_module": "@jupyter-widgets/base",
            "top": null,
            "grid_column": null,
            "overflow_y": null,
            "overflow_x": null,
            "grid_auto_flow": null,
            "grid_area": null,
            "grid_template_columns": null,
            "flex": null,
            "_model_name": "LayoutModel",
            "justify_items": null,
            "grid_row": null,
            "max_height": null,
            "align_content": null,
            "visibility": null,
            "align_self": null,
            "height": null,
            "min_height": null,
            "padding": null,
            "grid_auto_rows": null,
            "grid_gap": null,
            "max_width": null,
            "order": null,
            "_view_module_version": "1.2.0",
            "grid_template_areas": null,
            "object_position": null,
            "object_fit": null,
            "grid_auto_columns": null,
            "margin": null,
            "display": null,
            "left": null
          }
        }
      }
    }
  },
  "cells": [
    {
      "cell_type": "markdown",
      "metadata": {
        "id": "view-in-github",
        "colab_type": "text"
      },
      "source": [
        "<a href=\"https://colab.research.google.com/github/Jaimemorillo/ShouldIwatchThisMovie/blob/master/memoria_final.ipynb\" target=\"_parent\"><img src=\"https://colab.research.google.com/assets/colab-badge.svg\" alt=\"Open In Colab\"/></a>"
      ]
    },
    {
      "cell_type": "code",
      "metadata": {
        "colab": {
          "base_uri": "https://localhost:8080/"
        },
        "id": "wT55Ilx5cHr4",
        "outputId": "249aba5f-fad8-43cd-8d41-a52cfed126a8"
      },
      "source": [
        "from google.colab import drive\n",
        "drive.mount('/content/gdrive')"
      ],
      "execution_count": null,
      "outputs": [
        {
          "output_type": "stream",
          "text": [
            "Drive already mounted at /content/gdrive; to attempt to forcibly remount, call drive.mount(\"/content/gdrive\", force_remount=True).\n"
          ],
          "name": "stdout"
        }
      ]
    },
    {
      "cell_type": "code",
      "metadata": {
        "id": "0nhGgUPsqMoI"
      },
      "source": [
        "!cp /content/gdrive/MyDrive/methods.py ."
      ],
      "execution_count": null,
      "outputs": []
    },
    {
      "cell_type": "code",
      "metadata": {
        "colab": {
          "base_uri": "https://localhost:8080/"
        },
        "id": "c6Ax1SXicUAR",
        "outputId": "8d8bf307-876a-4c01-b34c-d06d90d32a54"
      },
      "source": [
        "import pandas as pd\n",
        "import numpy as np\n",
        "import tensorflow as tf\n",
        "\n",
        "from tqdm.notebook import tqdm\n",
        "tqdm.pandas()\n",
        "\n",
        "import matplotlib.pyplot as plt\n",
        "plt.style.use('seaborn-white')\n",
        "\n",
        "import seaborn as sns\n",
        "sns.set_style(\"white\")\n",
        "sns.set_style(\"ticks\")\n",
        "sns.set_context(\"notebook\")\n",
        "\n",
        "import methods as f"
      ],
      "execution_count": null,
      "outputs": [
        {
          "output_type": "stream",
          "text": [
            "/usr/local/lib/python3.7/dist-packages/tqdm/std.py:658: FutureWarning: The Panel class is removed from pandas. Accessing it from the top-level namespace will also be removed in the next version\n",
            "  from pandas import Panel\n"
          ],
          "name": "stderr"
        },
        {
          "output_type": "stream",
          "text": [
            "[nltk_data] Downloading collection 'popular'\n",
            "[nltk_data]    | \n",
            "[nltk_data]    | Downloading package cmudict to /root/nltk_data...\n",
            "[nltk_data]    |   Package cmudict is already up-to-date!\n",
            "[nltk_data]    | Downloading package gazetteers to /root/nltk_data...\n",
            "[nltk_data]    |   Package gazetteers is already up-to-date!\n",
            "[nltk_data]    | Downloading package genesis to /root/nltk_data...\n",
            "[nltk_data]    |   Package genesis is already up-to-date!\n",
            "[nltk_data]    | Downloading package gutenberg to /root/nltk_data...\n",
            "[nltk_data]    |   Package gutenberg is already up-to-date!\n",
            "[nltk_data]    | Downloading package inaugural to /root/nltk_data...\n",
            "[nltk_data]    |   Package inaugural is already up-to-date!\n",
            "[nltk_data]    | Downloading package movie_reviews to\n",
            "[nltk_data]    |     /root/nltk_data...\n",
            "[nltk_data]    |   Package movie_reviews is already up-to-date!\n",
            "[nltk_data]    | Downloading package names to /root/nltk_data...\n",
            "[nltk_data]    |   Package names is already up-to-date!\n",
            "[nltk_data]    | Downloading package shakespeare to /root/nltk_data...\n",
            "[nltk_data]    |   Package shakespeare is already up-to-date!\n",
            "[nltk_data]    | Downloading package stopwords to /root/nltk_data...\n",
            "[nltk_data]    |   Package stopwords is already up-to-date!\n",
            "[nltk_data]    | Downloading package treebank to /root/nltk_data...\n",
            "[nltk_data]    |   Package treebank is already up-to-date!\n",
            "[nltk_data]    | Downloading package twitter_samples to\n",
            "[nltk_data]    |     /root/nltk_data...\n",
            "[nltk_data]    |   Package twitter_samples is already up-to-date!\n",
            "[nltk_data]    | Downloading package omw to /root/nltk_data...\n",
            "[nltk_data]    |   Package omw is already up-to-date!\n",
            "[nltk_data]    | Downloading package wordnet to /root/nltk_data...\n",
            "[nltk_data]    |   Package wordnet is already up-to-date!\n",
            "[nltk_data]    | Downloading package wordnet_ic to /root/nltk_data...\n",
            "[nltk_data]    |   Package wordnet_ic is already up-to-date!\n",
            "[nltk_data]    | Downloading package words to /root/nltk_data...\n",
            "[nltk_data]    |   Package words is already up-to-date!\n",
            "[nltk_data]    | Downloading package maxent_ne_chunker to\n",
            "[nltk_data]    |     /root/nltk_data...\n",
            "[nltk_data]    |   Package maxent_ne_chunker is already up-to-date!\n",
            "[nltk_data]    | Downloading package punkt to /root/nltk_data...\n",
            "[nltk_data]    |   Package punkt is already up-to-date!\n",
            "[nltk_data]    | Downloading package snowball_data to\n",
            "[nltk_data]    |     /root/nltk_data...\n",
            "[nltk_data]    |   Package snowball_data is already up-to-date!\n",
            "[nltk_data]    | Downloading package averaged_perceptron_tagger to\n",
            "[nltk_data]    |     /root/nltk_data...\n",
            "[nltk_data]    |   Package averaged_perceptron_tagger is already up-\n",
            "[nltk_data]    |       to-date!\n",
            "[nltk_data]    | \n",
            "[nltk_data]  Done downloading collection popular\n",
            "[nltk_data] Downloading package stopwords to /root/nltk_data...\n",
            "[nltk_data]   Package stopwords is already up-to-date!\n"
          ],
          "name": "stdout"
        }
      ]
    },
    {
      "cell_type": "code",
      "metadata": {
        "colab": {
          "base_uri": "https://localhost:8080/",
          "height": 405,
          "referenced_widgets": [
            "23bf76399bfd43fa9ac6e9c8aa1d602a",
            "f5fab3f76d264c6e8e221359fd3042a9",
            "9a64fc33380740818a99210a9030ea28",
            "95e781e361dc4cfda8f17c4fbf9adf82",
            "e42c39205a14417ca66c44aa5010f6cb",
            "c1f1302b6801435da059e98803bddbc2",
            "5105f6873ef344bcb037bb4fd890e0bd",
            "79499a4a12714494a8849b6358529171"
          ]
        },
        "id": "_maVm6QgrfR8",
        "outputId": "51591b33-2eea-4641-f11a-8c9c706ab86e"
      },
      "source": [
        "df = f.read_data(\"gdrive/My Drive/TFG/overviews_final.csv\")\n",
        "df['overview'] = df['overview'].progress_apply(lambda x: f.preprocessing(x))\n",
        "X_train, X_test, y_train, y_test = f.split_train_test(df)\n",
        "X_train, X_test, vocab_size, real_maxlen = f.tokenize(X_train, X_test, 90)"
      ],
      "execution_count": null,
      "outputs": [
        {
          "output_type": "display_data",
          "data": {
            "application/vnd.jupyter.widget-view+json": {
              "model_id": "23bf76399bfd43fa9ac6e9c8aa1d602a",
              "version_minor": 0,
              "version_major": 2
            },
            "text/plain": [
              "HBox(children=(FloatProgress(value=0.0, max=2043.0), HTML(value='')))"
            ]
          },
          "metadata": {
            "tags": []
          }
        },
        {
          "output_type": "stream",
          "text": [
            "\n"
          ],
          "name": "stdout"
        },
        {
          "output_type": "stream",
          "text": [
            "/usr/local/lib/python3.7/dist-packages/seaborn/distributions.py:2557: FutureWarning: `distplot` is a deprecated function and will be removed in a future version. Please adapt your code to use either `displot` (a figure-level function with similar flexibility) or `histplot` (an axes-level function for histograms).\n",
            "  warnings.warn(msg, FutureWarning)\n"
          ],
          "name": "stderr"
        },
        {
          "output_type": "display_data",
          "data": {
            "image/png": "[encoded data removed]",
            "text/plain": [
              "<Figure size 432x288 with 1 Axes>"
            ]
          },
          "metadata": {
            "tags": []
          }
        }
      ]
    },
    {
      "cell_type": "code",
      "metadata": {
        "id": "s6Mdr8_FZCvK"
      },
      "source": [
        "batch_size = 4\n",
        "maxlen=90\n",
        "embedding_dim=64\n",
        "lr=0.001\n",
        "epochs=40"
      ],
      "execution_count": null,
      "outputs": []
    },
    {
      "cell_type": "code",
      "metadata": {
        "colab": {
          "base_uri": "https://localhost:8080/"
        },
        "id": "V9A0EwFPZLh1",
        "outputId": "1b1eacce-0a9b-4120-fd16-5099d8c5b290"
      },
      "source": [
        "model = f.my_model(maxlen=maxlen, embedding_dim=embedding_dim, vocab_size=vocab_size, lr=lr, epochs=epochs)\n",
        "model.summary()"
      ],
      "execution_count": null,
      "outputs": [
        {
          "output_type": "stream",
          "text": [
            "Model: \"model_1\"\n",
            "_________________________________________________________________\n",
            "Layer (type)                 Output Shape              Param #   \n",
            "=================================================================\n",
            "input_2 (InputLayer)         [(None, 90)]              0         \n",
            "_________________________________________________________________\n",
            "embedding_1 (Embedding)      (None, 90, 64)            630848    \n",
            "_________________________________________________________________\n",
            "conv1d_2 (Conv1D)            (None, 90, 32)            6176      \n",
            "_________________________________________________________________\n",
            "batch_normalization_5 (Batch (None, 90, 32)            128       \n",
            "_________________________________________________________________\n",
            "max_pooling1d_2 (MaxPooling1 (None, 45, 32)            0         \n",
            "_________________________________________________________________\n",
            "conv1d_3 (Conv1D)            (None, 45, 32)            3104      \n",
            "_________________________________________________________________\n",
            "batch_normalization_6 (Batch (None, 45, 32)            128       \n",
            "_________________________________________________________________\n",
            "max_pooling1d_3 (MaxPooling1 (None, 22, 32)            0         \n",
            "_________________________________________________________________\n",
            "bidirectional_1 (Bidirection (None, 32)                6272      \n",
            "_________________________________________________________________\n",
            "batch_normalization_7 (Batch (None, 32)                128       \n",
            "_________________________________________________________________\n",
            "dense_2 (Dense)              (None, 16)                528       \n",
            "_________________________________________________________________\n",
            "batch_normalization_8 (Batch (None, 16)                64        \n",
            "_________________________________________________________________\n",
            "dropout_2 (Dropout)          (None, 16)                0         \n",
            "_________________________________________________________________\n",
            "dense_3 (Dense)              (None, 8)                 136       \n",
            "_________________________________________________________________\n",
            "batch_normalization_9 (Batch (None, 8)                 32        \n",
            "_________________________________________________________________\n",
            "dropout_3 (Dropout)          (None, 8)                 0         \n",
            "_________________________________________________________________\n",
            "predictions (Dense)          (None, 1)                 9         \n",
            "=================================================================\n",
            "Total params: 647,553\n",
            "Trainable params: 647,313\n",
            "Non-trainable params: 240\n",
            "_________________________________________________________________\n"
          ],
          "name": "stdout"
        }
      ]
    },
    {
      "cell_type": "code",
      "metadata": {
        "colab": {
          "base_uri": "https://localhost:8080/"
        },
        "id": "1NtfPChFGZGP",
        "outputId": "b17397fd-2fc4-4908-eaae-2292559967c8"
      },
      "source": [
        "history, model = f.train_model(model, X_train, y_train, X_test, y_test, epochs, batch_size)"
      ],
      "execution_count": null,
      "outputs": [
        {
          "output_type": "stream",
          "text": [
            "Epoch 1/40\n",
            "358/358 [==============================] - 15s 26ms/step - loss: 0.9558 - accuracy: 0.4971 - val_loss: 0.6898 - val_accuracy: 0.5481\n",
            "Epoch 2/40\n",
            "358/358 [==============================] - 8s 23ms/step - loss: 0.8228 - accuracy: 0.4665 - val_loss: 1.2054 - val_accuracy: 0.5481\n",
            "Epoch 3/40\n",
            "358/358 [==============================] - 8s 23ms/step - loss: 0.7603 - accuracy: 0.5168 - val_loss: 0.7417 - val_accuracy: 0.5563\n",
            "Epoch 4/40\n",
            "358/358 [==============================] - 8s 23ms/step - loss: 0.6965 - accuracy: 0.5580 - val_loss: 0.6948 - val_accuracy: 0.5661\n",
            "Epoch 5/40\n",
            "358/358 [==============================] - 8s 23ms/step - loss: 0.7015 - accuracy: 0.5361 - val_loss: 0.6817 - val_accuracy: 0.5759\n",
            "Epoch 6/40\n",
            "358/358 [==============================] - 8s 23ms/step - loss: 0.6993 - accuracy: 0.5415 - val_loss: 0.6846 - val_accuracy: 0.5661\n",
            "Epoch 7/40\n",
            "358/358 [==============================] - 8s 23ms/step - loss: 0.6779 - accuracy: 0.5706 - val_loss: 0.6839 - val_accuracy: 0.5612\n",
            "Epoch 8/40\n",
            "358/358 [==============================] - 8s 23ms/step - loss: 0.6748 - accuracy: 0.5962 - val_loss: 0.6688 - val_accuracy: 0.5938\n",
            "Epoch 9/40\n",
            "358/358 [==============================] - 8s 23ms/step - loss: 0.6765 - accuracy: 0.5873 - val_loss: 0.6702 - val_accuracy: 0.5856\n",
            "Epoch 10/40\n",
            "358/358 [==============================] - 9s 24ms/step - loss: 0.6698 - accuracy: 0.5948 - val_loss: 0.6843 - val_accuracy: 0.5465\n",
            "Epoch 11/40\n",
            "358/358 [==============================] - 8s 23ms/step - loss: 0.6391 - accuracy: 0.6278 - val_loss: 0.6189 - val_accuracy: 0.6688\n",
            "Epoch 12/40\n",
            "358/358 [==============================] - 8s 23ms/step - loss: 0.6035 - accuracy: 0.6703 - val_loss: 0.6096 - val_accuracy: 0.6754\n",
            "Epoch 13/40\n",
            "358/358 [==============================] - 8s 23ms/step - loss: 0.5556 - accuracy: 0.7422 - val_loss: 0.6211 - val_accuracy: 0.6835\n",
            "Epoch 14/40\n",
            "358/358 [==============================] - 8s 23ms/step - loss: 0.5420 - accuracy: 0.7454 - val_loss: 0.5588 - val_accuracy: 0.7080\n",
            "Epoch 15/40\n",
            "358/358 [==============================] - 8s 24ms/step - loss: 0.4927 - accuracy: 0.7781 - val_loss: 0.5801 - val_accuracy: 0.7113\n",
            "Epoch 16/40\n",
            "358/358 [==============================] - 8s 23ms/step - loss: 0.4764 - accuracy: 0.8009 - val_loss: 0.5566 - val_accuracy: 0.7178\n",
            "Epoch 17/40\n",
            "358/358 [==============================] - 8s 23ms/step - loss: 0.5017 - accuracy: 0.7834 - val_loss: 0.6394 - val_accuracy: 0.6542\n",
            "Epoch 18/40\n",
            "358/358 [==============================] - 8s 24ms/step - loss: 0.4552 - accuracy: 0.8194 - val_loss: 0.5498 - val_accuracy: 0.7406\n",
            "Epoch 19/40\n",
            "358/358 [==============================] - 8s 24ms/step - loss: 0.5090 - accuracy: 0.7652 - val_loss: 0.5758 - val_accuracy: 0.7276\n",
            "Epoch 20/40\n",
            "358/358 [==============================] - 8s 23ms/step - loss: 0.4975 - accuracy: 0.7848 - val_loss: 0.5388 - val_accuracy: 0.7374\n",
            "Epoch 21/40\n",
            "358/358 [==============================] - 8s 23ms/step - loss: 0.4587 - accuracy: 0.7992 - val_loss: 0.6238 - val_accuracy: 0.6868\n",
            "Epoch 22/40\n",
            "358/358 [==============================] - 8s 24ms/step - loss: 0.4367 - accuracy: 0.8324 - val_loss: 0.5626 - val_accuracy: 0.7080\n",
            "Epoch 23/40\n",
            "358/358 [==============================] - 8s 24ms/step - loss: 0.4345 - accuracy: 0.8438 - val_loss: 0.5606 - val_accuracy: 0.7047\n",
            "Epoch 24/40\n",
            "358/358 [==============================] - 8s 24ms/step - loss: 0.3681 - accuracy: 0.8720 - val_loss: 0.5289 - val_accuracy: 0.7357\n",
            "Epoch 25/40\n",
            "358/358 [==============================] - 9s 24ms/step - loss: 0.4269 - accuracy: 0.8321 - val_loss: 0.5172 - val_accuracy: 0.7471\n",
            "Epoch 26/40\n",
            "358/358 [==============================] - 8s 23ms/step - loss: 0.3606 - accuracy: 0.8664 - val_loss: 0.5009 - val_accuracy: 0.7863\n",
            "Epoch 27/40\n",
            "358/358 [==============================] - 9s 24ms/step - loss: 0.3672 - accuracy: 0.8581 - val_loss: 0.5128 - val_accuracy: 0.7618\n",
            "Epoch 28/40\n",
            "358/358 [==============================] - 8s 23ms/step - loss: 0.3849 - accuracy: 0.8463 - val_loss: 0.5041 - val_accuracy: 0.7569\n",
            "Epoch 29/40\n",
            "358/358 [==============================] - 8s 23ms/step - loss: 0.3732 - accuracy: 0.8601 - val_loss: 0.5422 - val_accuracy: 0.7667\n",
            "Epoch 30/40\n",
            "358/358 [==============================] - 8s 24ms/step - loss: 0.3777 - accuracy: 0.8777 - val_loss: 0.4977 - val_accuracy: 0.7830\n",
            "Epoch 31/40\n",
            "358/358 [==============================] - 9s 24ms/step - loss: 0.3983 - accuracy: 0.8680 - val_loss: 0.4968 - val_accuracy: 0.7618\n",
            "Epoch 32/40\n",
            "358/358 [==============================] - 8s 24ms/step - loss: 0.3818 - accuracy: 0.8611 - val_loss: 0.5104 - val_accuracy: 0.7471\n",
            "Epoch 33/40\n",
            "358/358 [==============================] - 8s 24ms/step - loss: 0.4233 - accuracy: 0.8535 - val_loss: 0.5036 - val_accuracy: 0.7651\n",
            "Epoch 34/40\n",
            "358/358 [==============================] - 8s 23ms/step - loss: 0.3665 - accuracy: 0.8754 - val_loss: 0.5154 - val_accuracy: 0.7553\n",
            "Epoch 35/40\n",
            "358/358 [==============================] - 9s 24ms/step - loss: 0.3580 - accuracy: 0.8735 - val_loss: 0.6098 - val_accuracy: 0.7031\n",
            "Epoch 36/40\n",
            "358/358 [==============================] - 8s 23ms/step - loss: 0.3832 - accuracy: 0.8667 - val_loss: 0.5205 - val_accuracy: 0.7749\n"
          ],
          "name": "stdout"
        }
      ]
    },
    {
      "cell_type": "code",
      "metadata": {
        "colab": {
          "base_uri": "https://localhost:8080/",
          "height": 331
        },
        "id": "tY_9CcxAJc99",
        "outputId": "f5d3a644-04e7-4498-8297-0ba17a0cdb76"
      },
      "source": [
        "f.plot_history(history)"
      ],
      "execution_count": null,
      "outputs": [
        {
          "output_type": "execute_result",
          "data": {
            "text/plain": [
              "Text(25.65, 0.82, '0.87')"
            ]
          },
          "metadata": {
            "tags": []
          },
          "execution_count": 82
        },
        {
          "output_type": "display_data",
          "data": {
            "image/png": "[encoded data removed]",
            "text/plain": [
              "<Figure size 936x306 with 2 Axes>"
            ]
          },
          "metadata": {
            "tags": []
          }
        }
      ]
    },
    {
      "cell_type": "code",
      "metadata": {
        "colab": {
          "base_uri": "https://localhost:8080/"
        },
        "id": "AiBWmXxyPsXP",
        "outputId": "13e4ee73-d33b-4d50-d46f-6667c36d494d"
      },
      "source": [
        "f.plot_metrics(model, X_test, y_test)"
      ],
      "execution_count": null,
      "outputs": [
        {
          "output_type": "stream",
          "text": [
            "Acc: 0.77\n",
            "Precision: 0.76\n",
            "Recall: 0.73\n",
            "F1: 0.74\n",
            "Conf. Matrix: \n",
            "[[274  62]\n",
            " [ 76 201]]\n"
          ],
          "name": "stdout"
        }
      ]
    },
    {
      "cell_type": "code",
      "metadata": {
        "colab": {
          "base_uri": "https://localhost:8080/",
          "height": 318
        },
        "id": "3jToT_X7XmgU",
        "outputId": "622b1da5-c11b-4f77-9d17-48b6f10b40d5"
      },
      "source": [
        "f.get_roc_curve(model, X_test, y_test)"
      ],
      "execution_count": null,
      "outputs": [
        {
          "output_type": "display_data",
          "data": {
            "image/png": "[encoded data removed]",
            "text/plain": [
              "<Figure size 432x288 with 1 Axes>"
            ]
          },
          "metadata": {
            "tags": []
          }
        },
        {
          "output_type": "stream",
          "text": [
            "AUC: 0.7706\n"
          ],
          "name": "stdout"
        }
      ]
    },
    {
      "cell_type": "code",
      "metadata": {
        "colab": {
          "base_uri": "https://localhost:8080/",
          "height": 285
        },
        "id": "16LK3Zr5tijf",
        "outputId": "48e57412-0ed0-4524-8e67-5cd4b9478cfe"
      },
      "source": [
        "f.plot_confusion_matrix(model, X_test, y_test)"
      ],
      "execution_count": null,
      "outputs": [
        {
          "output_type": "execute_result",
          "data": {
            "text/plain": [
              "<matplotlib.axes._subplots.AxesSubplot at 0x7fcebef8c8d0>"
            ]
          },
          "metadata": {
            "tags": []
          },
          "execution_count": 53
        },
        {
          "output_type": "display_data",
          "data": {
            "image/png": "[encoded data removed]",
            "text/plain": [
              "<Figure size 432x288 with 2 Axes>"
            ]
          },
          "metadata": {
            "tags": []
          }
        }
      ]
    }
  ]
}
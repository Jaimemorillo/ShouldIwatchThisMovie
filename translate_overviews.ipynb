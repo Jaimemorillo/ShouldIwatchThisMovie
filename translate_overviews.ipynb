{
  "nbformat": 4,
  "nbformat_minor": 0,
  "metadata": {
    "colab": {
      "name": "translate_overviews.ipynb",
      "provenance": [],
      "collapsed_sections": [],
      "authorship_tag": "ABX9TyMsZ2UbFv3wfKu6/zg+zD6o",
      "include_colab_link": true
    },
    "kernelspec": {
      "name": "python3",
      "display_name": "Python 3"
    },
    "widgets": {
      "application/vnd.jupyter.widget-state+json": {
        "8585849fc8ee44b4a309a19b22b6c7b5": {
          "model_module": "@jupyter-widgets/controls",
          "model_name": "HBoxModel",
          "state": {
            "_view_name": "HBoxView",
            "_dom_classes": [],
            "_model_name": "HBoxModel",
            "_view_module": "@jupyter-widgets/controls",
            "_model_module_version": "1.5.0",
            "_view_count": null,
            "_view_module_version": "1.5.0",
            "box_style": "",
            "layout": "IPY_MODEL_815955c1df024ae2add227a388a08a09",
            "_model_module": "@jupyter-widgets/controls",
            "children": [
              "IPY_MODEL_347453c45e4846eba316f37d96431de5",
              "IPY_MODEL_1b1f9fc5b8e14b26aec5e72408d8975b"
            ]
          }
        },
        "815955c1df024ae2add227a388a08a09": {
          "model_module": "@jupyter-widgets/base",
          "model_name": "LayoutModel",
          "state": {
            "_view_name": "LayoutView",
            "grid_template_rows": null,
            "right": null,
            "justify_content": null,
            "_view_module": "@jupyter-widgets/base",
            "overflow": null,
            "_model_module_version": "1.2.0",
            "_view_count": null,
            "flex_flow": null,
            "width": null,
            "min_width": null,
            "border": null,
            "align_items": null,
            "bottom": null,
            "_model_module": "@jupyter-widgets/base",
            "top": null,
            "grid_column": null,
            "overflow_y": null,
            "overflow_x": null,
            "grid_auto_flow": null,
            "grid_area": null,
            "grid_template_columns": null,
            "flex": null,
            "_model_name": "LayoutModel",
            "justify_items": null,
            "grid_row": null,
            "max_height": null,
            "align_content": null,
            "visibility": null,
            "align_self": null,
            "height": null,
            "min_height": null,
            "padding": null,
            "grid_auto_rows": null,
            "grid_gap": null,
            "max_width": null,
            "order": null,
            "_view_module_version": "1.2.0",
            "grid_template_areas": null,
            "object_position": null,
            "object_fit": null,
            "grid_auto_columns": null,
            "margin": null,
            "display": null,
            "left": null
          }
        },
        "347453c45e4846eba316f37d96431de5": {
          "model_module": "@jupyter-widgets/controls",
          "model_name": "FloatProgressModel",
          "state": {
            "_view_name": "ProgressView",
            "style": "IPY_MODEL_4c06ac5c40aa45b9b7352b8a3e0411c7",
            "_dom_classes": [],
            "description": "100%",
            "_model_name": "FloatProgressModel",
            "bar_style": "success",
            "max": 208,
            "_view_module": "@jupyter-widgets/controls",
            "_model_module_version": "1.5.0",
            "value": 208,
            "_view_count": null,
            "_view_module_version": "1.5.0",
            "orientation": "horizontal",
            "min": 0,
            "description_tooltip": null,
            "_model_module": "@jupyter-widgets/controls",
            "layout": "IPY_MODEL_a54ad6e0c90c4acfb2a248a1e579b2a7"
          }
        },
        "1b1f9fc5b8e14b26aec5e72408d8975b": {
          "model_module": "@jupyter-widgets/controls",
          "model_name": "HTMLModel",
          "state": {
            "_view_name": "HTMLView",
            "style": "IPY_MODEL_d8fcadad94964a4cb16c22e66835257c",
            "_dom_classes": [],
            "description": "",
            "_model_name": "HTMLModel",
            "placeholder": "​",
            "_view_module": "@jupyter-widgets/controls",
            "_model_module_version": "1.5.0",
            "value": " 208/208 [04:17&lt;00:00,  1.24s/it]",
            "_view_count": null,
            "_view_module_version": "1.5.0",
            "description_tooltip": null,
            "_model_module": "@jupyter-widgets/controls",
            "layout": "IPY_MODEL_838fa15f94db405c8bf563feaff79cf9"
          }
        },
        "4c06ac5c40aa45b9b7352b8a3e0411c7": {
          "model_module": "@jupyter-widgets/controls",
          "model_name": "ProgressStyleModel",
          "state": {
            "_view_name": "StyleView",
            "_model_name": "ProgressStyleModel",
            "description_width": "initial",
            "_view_module": "@jupyter-widgets/base",
            "_model_module_version": "1.5.0",
            "_view_count": null,
            "_view_module_version": "1.2.0",
            "bar_color": null,
            "_model_module": "@jupyter-widgets/controls"
          }
        },
        "a54ad6e0c90c4acfb2a248a1e579b2a7": {
          "model_module": "@jupyter-widgets/base",
          "model_name": "LayoutModel",
          "state": {
            "_view_name": "LayoutView",
            "grid_template_rows": null,
            "right": null,
            "justify_content": null,
            "_view_module": "@jupyter-widgets/base",
            "overflow": null,
            "_model_module_version": "1.2.0",
            "_view_count": null,
            "flex_flow": null,
            "width": null,
            "min_width": null,
            "border": null,
            "align_items": null,
            "bottom": null,
            "_model_module": "@jupyter-widgets/base",
            "top": null,
            "grid_column": null,
            "overflow_y": null,
            "overflow_x": null,
            "grid_auto_flow": null,
            "grid_area": null,
            "grid_template_columns": null,
            "flex": null,
            "_model_name": "LayoutModel",
            "justify_items": null,
            "grid_row": null,
            "max_height": null,
            "align_content": null,
            "visibility": null,
            "align_self": null,
            "height": null,
            "min_height": null,
            "padding": null,
            "grid_auto_rows": null,
            "grid_gap": null,
            "max_width": null,
            "order": null,
            "_view_module_version": "1.2.0",
            "grid_template_areas": null,
            "object_position": null,
            "object_fit": null,
            "grid_auto_columns": null,
            "margin": null,
            "display": null,
            "left": null
          }
        },
        "d8fcadad94964a4cb16c22e66835257c": {
          "model_module": "@jupyter-widgets/controls",
          "model_name": "DescriptionStyleModel",
          "state": {
            "_view_name": "StyleView",
            "_model_name": "DescriptionStyleModel",
            "description_width": "",
            "_view_module": "@jupyter-widgets/base",
            "_model_module_version": "1.5.0",
            "_view_count": null,
            "_view_module_version": "1.2.0",
            "_model_module": "@jupyter-widgets/controls"
          }
        },
        "838fa15f94db405c8bf563feaff79cf9": {
          "model_module": "@jupyter-widgets/base",
          "model_name": "LayoutModel",
          "state": {
            "_view_name": "LayoutView",
            "grid_template_rows": null,
            "right": null,
            "justify_content": null,
            "_view_module": "@jupyter-widgets/base",
            "overflow": null,
            "_model_module_version": "1.2.0",
            "_view_count": null,
            "flex_flow": null,
            "width": null,
            "min_width": null,
            "border": null,
            "align_items": null,
            "bottom": null,
            "_model_module": "@jupyter-widgets/base",
            "top": null,
            "grid_column": null,
            "overflow_y": null,
            "overflow_x": null,
            "grid_auto_flow": null,
            "grid_area": null,
            "grid_template_columns": null,
            "flex": null,
            "_model_name": "LayoutModel",
            "justify_items": null,
            "grid_row": null,
            "max_height": null,
            "align_content": null,
            "visibility": null,
            "align_self": null,
            "height": null,
            "min_height": null,
            "padding": null,
            "grid_auto_rows": null,
            "grid_gap": null,
            "max_width": null,
            "order": null,
            "_view_module_version": "1.2.0",
            "grid_template_areas": null,
            "object_position": null,
            "object_fit": null,
            "grid_auto_columns": null,
            "margin": null,
            "display": null,
            "left": null
          }
        }
      }
    }
  },
  "cells": [
    {
      "cell_type": "markdown",
      "metadata": {
        "id": "view-in-github",
        "colab_type": "text"
      },
      "source": [
        "<a href=\"https://colab.research.google.com/github/Jaimemorillo/ShouldIwatchThisMovie/blob/master/translate_overviews.ipynb\" target=\"_parent\"><img src=\"https://colab.research.google.com/assets/colab-badge.svg\" alt=\"Open In Colab\"/></a>"
      ]
    },
    {
      "cell_type": "code",
      "metadata": {
        "colab": {
          "base_uri": "https://localhost:8080/"
        },
        "id": "qVQA5-FR54Qi",
        "outputId": "94d29644-6f61-4f0a-86af-69b107aba587"
      },
      "source": [
        "from google.colab import drive\n",
        "drive.mount('/content/gdrive')"
      ],
      "execution_count": 1,
      "outputs": [
        {
          "output_type": "stream",
          "text": [
            "Drive already mounted at /content/gdrive; to attempt to forcibly remount, call drive.mount(\"/content/gdrive\", force_remount=True).\n"
          ],
          "name": "stdout"
        }
      ]
    },
    {
      "cell_type": "code",
      "metadata": {
        "id": "-6TRwPx_fZrw"
      },
      "source": [
        "# Drop duplicates"
      ],
      "execution_count": 2,
      "outputs": []
    },
    {
      "cell_type": "code",
      "metadata": {
        "colab": {
          "base_uri": "https://localhost:8080/"
        },
        "id": "bHekIEcE6Qnk",
        "outputId": "29ebb032-e579-4a7d-f27c-856977778b2e"
      },
      "source": [
        "import pandas as pd\n",
        "import numpy as np\n",
        "import time\n",
        "\n",
        "import re\n",
        "\n",
        "from tqdm.notebook import tqdm\n",
        "tqdm.pandas()"
      ],
      "execution_count": 3,
      "outputs": [
        {
          "output_type": "stream",
          "text": [
            "/usr/local/lib/python3.7/dist-packages/tqdm/std.py:658: FutureWarning: The Panel class is removed from pandas. Accessing it from the top-level namespace will also be removed in the next version\n",
            "  from pandas import Panel\n"
          ],
          "name": "stderr"
        }
      ]
    },
    {
      "cell_type": "code",
      "metadata": {
        "id": "MIediZdL6Qd3"
      },
      "source": [
        "data = pd.read_csv(\"gdrive/My Drive/TFG/overview_translate_3.csv\", sep='~', encoding='utf-8', lineterminator='\\n')"
      ],
      "execution_count": 4,
      "outputs": []
    },
    {
      "cell_type": "code",
      "metadata": {
        "colab": {
          "base_uri": "https://localhost:8080/"
        },
        "id": "KFLiEOSR6geo",
        "outputId": "122bc69b-3c10-404f-a3ee-247502d006f8"
      },
      "source": [
        "!pip install translators"
      ],
      "execution_count": 5,
      "outputs": [
        {
          "output_type": "stream",
          "text": [
            "Requirement already satisfied: translators in /usr/local/lib/python3.7/dist-packages (4.7.16)\n",
            "Requirement already satisfied: lxml>=4.5.0 in /usr/local/lib/python3.7/dist-packages (from translators) (4.6.2)\n",
            "Requirement already satisfied: PyExecJS>=1.5.1 in /usr/local/lib/python3.7/dist-packages (from translators) (1.5.1)\n",
            "Requirement already satisfied: loguru>=0.4.1 in /usr/local/lib/python3.7/dist-packages (from translators) (0.5.3)\n",
            "Requirement already satisfied: requests>=2.23.0 in /usr/local/lib/python3.7/dist-packages (from translators) (2.23.0)\n",
            "Requirement already satisfied: six>=1.10.0 in /usr/local/lib/python3.7/dist-packages (from PyExecJS>=1.5.1->translators) (1.15.0)\n",
            "Requirement already satisfied: certifi>=2017.4.17 in /usr/local/lib/python3.7/dist-packages (from requests>=2.23.0->translators) (2020.12.5)\n",
            "Requirement already satisfied: urllib3!=1.25.0,!=1.25.1,<1.26,>=1.21.1 in /usr/local/lib/python3.7/dist-packages (from requests>=2.23.0->translators) (1.24.3)\n",
            "Requirement already satisfied: chardet<4,>=3.0.2 in /usr/local/lib/python3.7/dist-packages (from requests>=2.23.0->translators) (3.0.4)\n",
            "Requirement already satisfied: idna<3,>=2.5 in /usr/local/lib/python3.7/dist-packages (from requests>=2.23.0->translators) (2.10)\n"
          ],
          "name": "stdout"
        }
      ]
    },
    {
      "cell_type": "code",
      "metadata": {
        "colab": {
          "base_uri": "https://localhost:8080/"
        },
        "id": "NhzOLGGp6lpL",
        "outputId": "3beac2c0-b9b4-412d-c62d-3b6df06b004a"
      },
      "source": [
        "import translators as ts\n",
        "\n",
        "API = 'google'\n",
        "\n",
        "def translator_constructor(api):\n",
        "    if api == 'google':\n",
        "        return ts.google\n",
        "    elif api == 'bing':\n",
        "        return ts.bing\n",
        "    elif api == 'baidu':\n",
        "        return ts.baidu\n",
        "    elif api == 'sogou':\n",
        "        return ts.sogou\n",
        "    elif api == 'youdao':\n",
        "        return ts.youdao\n",
        "    elif api == 'tencent':\n",
        "        return ts.tencent\n",
        "    elif api == 'alibaba':\n",
        "        return ts.alibaba\n",
        "    elif api == 'yandex':\n",
        "        return ts.yandex\n",
        "    else:\n",
        "        raise NotImplementedError(f'{api} translator is not realised!')\n",
        "\n",
        "translator = translator_constructor(API)\n",
        "\n",
        "def translate(x, lang='en'):\n",
        "    try:\n",
        "        return translator(x, 'es', lang)\n",
        "    except:\n",
        "        print('KO')\n",
        "        time.sleep(60)\n",
        "        return translate(x, lang='en')"
      ],
      "execution_count": 6,
      "outputs": [
        {
          "output_type": "stream",
          "text": [
            "Using United States server backend.\n"
          ],
          "name": "stderr"
        }
      ]
    },
    {
      "cell_type": "code",
      "metadata": {
        "colab": {
          "base_uri": "https://localhost:8080/",
          "height": 66,
          "referenced_widgets": [
            "8585849fc8ee44b4a309a19b22b6c7b5",
            "815955c1df024ae2add227a388a08a09",
            "347453c45e4846eba316f37d96431de5",
            "1b1f9fc5b8e14b26aec5e72408d8975b",
            "4c06ac5c40aa45b9b7352b8a3e0411c7",
            "a54ad6e0c90c4acfb2a248a1e579b2a7",
            "d8fcadad94964a4cb16c22e66835257c",
            "838fa15f94db405c8bf563feaff79cf9"
          ]
        },
        "id": "aatWB60p61Jg",
        "outputId": "838b64ca-143b-42e8-adc2-2691642c7707"
      },
      "source": [
        "translator = translator_constructor('google')\n",
        "data.loc[901:, 'first_sentence_en'] = data.loc[901:, 'first_sentence'].progress_apply(lambda x: translate(x))"
      ],
      "execution_count": 7,
      "outputs": [
        {
          "output_type": "display_data",
          "data": {
            "application/vnd.jupyter.widget-view+json": {
              "model_id": "8585849fc8ee44b4a309a19b22b6c7b5",
              "version_minor": 0,
              "version_major": 2
            },
            "text/plain": [
              "HBox(children=(FloatProgress(value=0.0, max=208.0), HTML(value='')))"
            ]
          },
          "metadata": {
            "tags": []
          }
        },
        {
          "output_type": "stream",
          "text": [
            "\n"
          ],
          "name": "stdout"
        }
      ]
    },
    {
      "cell_type": "code",
      "metadata": {
        "id": "GiaDNnVz64PZ"
      },
      "source": [
        "data.to_csv(\"gdrive/My Drive/TFG/overview_translate_4.csv\", sep='~', index=False, encoding='utf-8')"
      ],
      "execution_count": 9,
      "outputs": []
    },
    {
      "cell_type": "code",
      "metadata": {
        "id": "3DJBhsTPiElY"
      },
      "source": [
        "data = data.drop_duplicates(subset=['id'])"
      ],
      "execution_count": 13,
      "outputs": []
    },
    {
      "cell_type": "code",
      "metadata": {
        "id": "WtcHhdABiRuC"
      },
      "source": [
        "data.to_csv(\"gdrive/My Drive/TFG/overview_translate_final.csv\", sep='~', index=False, encoding='utf-8')"
      ],
      "execution_count": 16,
      "outputs": []
    },
    {
      "cell_type": "code",
      "metadata": {
        "colab": {
          "base_uri": "https://localhost:8080/",
          "height": 1000
        },
        "id": "SgaXkmReiwqw",
        "outputId": "67a2f3b4-de65-4210-a649-26b70e14de86"
      },
      "source": [
        "data['first_sentence_en']."
      ],
      "execution_count": 17,
      "outputs": [
        {
          "output_type": "execute_result",
          "data": {
            "text/html": [
              "<div>\n",
              "<style scoped>\n",
              "    .dataframe tbody tr th:only-of-type {\n",
              "        vertical-align: middle;\n",
              "    }\n",
              "\n",
              "    .dataframe tbody tr th {\n",
              "        vertical-align: top;\n",
              "    }\n",
              "\n",
              "    .dataframe thead th {\n",
              "        text-align: right;\n",
              "    }\n",
              "</style>\n",
              "<table border=\"1\" class=\"dataframe\">\n",
              "  <thead>\n",
              "    <tr style=\"text-align: right;\">\n",
              "      <th></th>\n",
              "      <th>id</th>\n",
              "      <th>like</th>\n",
              "      <th>title</th>\n",
              "      <th>overview</th>\n",
              "      <th>genres</th>\n",
              "      <th>crew</th>\n",
              "      <th>cast</th>\n",
              "      <th>first_sentence</th>\n",
              "      <th>first_sentence_en</th>\n",
              "    </tr>\n",
              "  </thead>\n",
              "  <tbody>\n",
              "    <tr>\n",
              "      <th>0</th>\n",
              "      <td>11</td>\n",
              "      <td>1</td>\n",
              "      <td>La guerra de las galaxias. Episodio IV: Una nu...</td>\n",
              "      <td>La princesa Leia, líder del movimiento rebelde...</td>\n",
              "      <td>[{'id': 12, 'name': 'Aventura'}, {'id': 28, 'n...</td>\n",
              "      <td>[{'credit_id': '52fe420dc3a36847f8000437', 'de...</td>\n",
              "      <td>[{'cast_id': 3, 'character': 'Luke Skywalker',...</td>\n",
              "      <td>La princesa Leia líder del movimiento rebelde ...</td>\n",
              "      <td>Princess Leia leader of rebellious movement wh...</td>\n",
              "    </tr>\n",
              "    <tr>\n",
              "      <th>1</th>\n",
              "      <td>12</td>\n",
              "      <td>1</td>\n",
              "      <td>Buscando a Nemo</td>\n",
              "      <td>Nemo, un pececillo, hijo único muy querido y p...</td>\n",
              "      <td>[{'id': 16, 'name': 'Animación'}, {'id': 10751...</td>\n",
              "      <td>[{'credit_id': '52fe420ec3a36847f8000653', 'de...</td>\n",
              "      <td>[{'cast_id': 8, 'character': 'Marlin (voice)',...</td>\n",
              "      <td>Nemo un pececillo</td>\n",
              "      <td>Nemo a pence</td>\n",
              "    </tr>\n",
              "    <tr>\n",
              "      <th>2</th>\n",
              "      <td>13</td>\n",
              "      <td>1</td>\n",
              "      <td>Forrest Gump</td>\n",
              "      <td>Forrest Gump es un chico con deficiencias ment...</td>\n",
              "      <td>[{'id': 35, 'name': 'Comedia'}, {'id': 18, 'na...</td>\n",
              "      <td>[{'credit_id': '52fe420ec3a36847f800072d', 'de...</td>\n",
              "      <td>[{'cast_id': 7, 'character': 'Forrest Gump', '...</td>\n",
              "      <td>Forrest Gump es un chico con deficiencias ment...</td>\n",
              "      <td>FORREST GMP is a boy with not very deep mental...</td>\n",
              "    </tr>\n",
              "    <tr>\n",
              "      <th>3</th>\n",
              "      <td>22</td>\n",
              "      <td>1</td>\n",
              "      <td>Piratas del Caribe. La maldición de la Perla N...</td>\n",
              "      <td>El aventurero Capitán Jack Sparrow recorre las...</td>\n",
              "      <td>[{'id': 12, 'name': 'Aventura'}, {'id': 14, 'n...</td>\n",
              "      <td>[{'credit_id': '52fe420fc3a36847f8000e95', 'de...</td>\n",
              "      <td>[{'cast_id': 12, 'character': 'Captain Jack Sp...</td>\n",
              "      <td>El aventurero Capitán Jack Sparrow recorre las...</td>\n",
              "      <td>The adventurer Captain Jack Sparrow runs throu...</td>\n",
              "    </tr>\n",
              "    <tr>\n",
              "      <th>4</th>\n",
              "      <td>24</td>\n",
              "      <td>1</td>\n",
              "      <td>Kill Bill: Volumen 1</td>\n",
              "      <td>Uma Thurman es una asesina que, el día de su b...</td>\n",
              "      <td>[{'id': 28, 'name': 'Acción'}, {'id': 80, 'nam...</td>\n",
              "      <td>[{'credit_id': '52fe4210c3a36847f8001049', 'de...</td>\n",
              "      <td>[{'cast_id': 3, 'character': 'Beatrix \"The Bri...</td>\n",
              "      <td>Uma Thurman es una asesina que el día de su boda</td>\n",
              "      <td>Uma Thurman is a murderer that the day of his ...</td>\n",
              "    </tr>\n",
              "    <tr>\n",
              "      <th>...</th>\n",
              "      <td>...</td>\n",
              "      <td>...</td>\n",
              "      <td>...</td>\n",
              "      <td>...</td>\n",
              "      <td>...</td>\n",
              "      <td>...</td>\n",
              "      <td>...</td>\n",
              "      <td>...</td>\n",
              "      <td>...</td>\n",
              "    </tr>\n",
              "    <tr>\n",
              "      <th>1104</th>\n",
              "      <td>301608</td>\n",
              "      <td>0</td>\n",
              "      <td>Policías corruptos</td>\n",
              "      <td>David Waters y Jim Stone son dos policías que ...</td>\n",
              "      <td>[{'id': 80, 'name': 'Crimen'}, {'id': 53, 'nam...</td>\n",
              "      <td>[{'credit_id': '573c762f92514154d5001803', 'de...</td>\n",
              "      <td>[{'cast_id': 4, 'character': 'Jim Stone', 'cre...</td>\n",
              "      <td>David Waters y Jim Stone son dos policías que ...</td>\n",
              "      <td>David Waters and Jim Stone are two policemen w...</td>\n",
              "    </tr>\n",
              "    <tr>\n",
              "      <th>1105</th>\n",
              "      <td>380731</td>\n",
              "      <td>1</td>\n",
              "      <td>Darkweb</td>\n",
              "      <td>Un grupo de misteriosas personas ha creado una...</td>\n",
              "      <td>[{'id': 28, 'name': 'Acción'}, {'id': 53, 'nam...</td>\n",
              "      <td>[{'credit_id': '56b036059251410b3a000ea4', 'de...</td>\n",
              "      <td>[{'cast_id': 0, 'character': 'The Boss', 'cred...</td>\n",
              "      <td>Un grupo de misteriosas personas ha creado una...</td>\n",
              "      <td>A group of mysterious people has created a gho...</td>\n",
              "    </tr>\n",
              "    <tr>\n",
              "      <th>1106</th>\n",
              "      <td>329628</td>\n",
              "      <td>1</td>\n",
              "      <td>Star Trek - Horizon</td>\n",
              "      <td>La Coalición de Planetas, un joven alianza de ...</td>\n",
              "      <td>[{'id': 878, 'name': 'Ciencia ficción'}]</td>\n",
              "      <td>[{'credit_id': '56cf41ecc3a3681e4a002da8', 'de...</td>\n",
              "      <td>[{'cast_id': 0, 'character': 'Ambassador Salak...</td>\n",
              "      <td>La Coalición de Planetas un joven alianza de m...</td>\n",
              "      <td>The coalition of planets A young alliance of w...</td>\n",
              "    </tr>\n",
              "    <tr>\n",
              "      <th>1107</th>\n",
              "      <td>345912</td>\n",
              "      <td>0</td>\n",
              "      <td>Busco novio para mi mujer</td>\n",
              "      <td>Dana y Paco son una pareja joven que atraviesa...</td>\n",
              "      <td>[{'id': 35, 'name': 'Comedia'}]</td>\n",
              "      <td>[{'credit_id': '5589039f9251414ced000509', 'de...</td>\n",
              "      <td>[{'cast_id': 2, 'character': 'Dana', 'credit_i...</td>\n",
              "      <td>Dana y Paco son una pareja joven que atraviesa...</td>\n",
              "      <td>Dana and Paco are a young couple who crosses a...</td>\n",
              "    </tr>\n",
              "    <tr>\n",
              "      <th>1108</th>\n",
              "      <td>269149</td>\n",
              "      <td>1</td>\n",
              "      <td>Zootrópolis</td>\n",
              "      <td>La moderna metrópoli mamífera de Zootrópolis e...</td>\n",
              "      <td>[{'id': 16, 'name': 'Animación'}, {'id': 12, '...</td>\n",
              "      <td>[{'credit_id': '536e09650e0a2647cb00fe6b', 'de...</td>\n",
              "      <td>[{'cast_id': 565, 'character': 'Judy Hopps (vo...</td>\n",
              "      <td>La moderna metrópoli mamífera de Zootrópolis e...</td>\n",
              "      <td>The modern mammalian metropolis of Zootropolis...</td>\n",
              "    </tr>\n",
              "  </tbody>\n",
              "</table>\n",
              "<p>1054 rows × 9 columns</p>\n",
              "</div>"
            ],
            "text/plain": [
              "          id  ...                                  first_sentence_en\n",
              "0         11  ...  Princess Leia leader of rebellious movement wh...\n",
              "1         12  ...                                       Nemo a pence\n",
              "2         13  ...  FORREST GMP is a boy with not very deep mental...\n",
              "3         22  ...  The adventurer Captain Jack Sparrow runs throu...\n",
              "4         24  ...  Uma Thurman is a murderer that the day of his ...\n",
              "...      ...  ...                                                ...\n",
              "1104  301608  ...  David Waters and Jim Stone are two policemen w...\n",
              "1105  380731  ...  A group of mysterious people has created a gho...\n",
              "1106  329628  ...  The coalition of planets A young alliance of w...\n",
              "1107  345912  ...  Dana and Paco are a young couple who crosses a...\n",
              "1108  269149  ...  The modern mammalian metropolis of Zootropolis...\n",
              "\n",
              "[1054 rows x 9 columns]"
            ]
          },
          "metadata": {
            "tags": []
          },
          "execution_count": 17
        }
      ]
    }
  ]
}
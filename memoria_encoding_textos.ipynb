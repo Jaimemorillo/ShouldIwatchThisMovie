{
  "nbformat": 4,
  "nbformat_minor": 0,
  "metadata": {
    "colab": {
      "name": "memoria_encoding_textos.ipynb",
      "provenance": [],
      "collapsed_sections": [],
      "toc_visible": true,
      "authorship_tag": "ABX9TyMCG1hCB390zk7RxURECBhx",
      "include_colab_link": true
    },
    "kernelspec": {
      "name": "python3",
      "display_name": "Python 3"
    }
  },
  "cells": [
    {
      "cell_type": "markdown",
      "metadata": {
        "id": "view-in-github",
        "colab_type": "text"
      },
      "source": [
        "<a href=\"https://colab.research.google.com/github/Jaimemorillo/ShouldIwatchThisMovie/blob/master/memoria_encoding_textos.ipynb\" target=\"_parent\"><img src=\"https://colab.research.google.com/assets/colab-badge.svg\" alt=\"Open In Colab\"/></a>"
      ]
    },
    {
      "cell_type": "code",
      "metadata": {
        "colab": {
          "base_uri": "https://localhost:8080/"
        },
        "id": "PHD2jLZIqxRd",
        "outputId": "c435f07c-fba2-4f16-8f13-00a5153cdf11"
      },
      "source": [
        "from google.colab import drive\n",
        "drive.mount('/content/gdrive')"
      ],
      "execution_count": null,
      "outputs": [
        {
          "output_type": "stream",
          "text": [
            "Drive already mounted at /content/gdrive; to attempt to forcibly remount, call drive.mount(\"/content/gdrive\", force_remount=True).\n"
          ],
          "name": "stdout"
        }
      ]
    },
    {
      "cell_type": "code",
      "metadata": {
        "id": "mSS_2U9Qq45h"
      },
      "source": [
        "import pandas as pd\n",
        "import numpy as np\n",
        "import matplotlib.pyplot as plt\n",
        "plt.style.use('default')"
      ],
      "execution_count": null,
      "outputs": []
    },
    {
      "cell_type": "markdown",
      "metadata": {
        "id": "9GI-FYdrNKB4"
      },
      "source": [
        "### Bibliografy\n",
        "- https://towardsdatascience.com/text-encoding-a-review-7c929514cccf\n",
        "\n",
        "- https://realpython.com/python-keras-text-classification/"
      ]
    },
    {
      "cell_type": "markdown",
      "metadata": {
        "id": "bvYGam90ruL2"
      },
      "source": [
        "## Sentences"
      ]
    },
    {
      "cell_type": "code",
      "metadata": {
        "id": "w8aDDCFkq-jx"
      },
      "source": [
        "corpus = [\n",
        "    'Este es el primer documento.',\n",
        "    'Este documento es el segundo documento.',\n",
        "    'Este es el tercero.',\n",
        "    '¿Es este el primer documento?'\n",
        "    ]"
      ],
      "execution_count": null,
      "outputs": []
    },
    {
      "cell_type": "markdown",
      "metadata": {
        "id": "_XV8fXXhsJLJ"
      },
      "source": [
        "## Bag of words (not ordered)\n",
        "Sentence as vector\n"
      ]
    },
    {
      "cell_type": "code",
      "metadata": {
        "id": "lKY5cjnAsNfh"
      },
      "source": [
        "from sklearn.feature_extraction.text import CountVectorizer\n",
        "\n",
        "vectorizer = CountVectorizer()\n",
        "X = vectorizer.fit_transform(corpus)"
      ],
      "execution_count": null,
      "outputs": []
    },
    {
      "cell_type": "code",
      "metadata": {
        "colab": {
          "base_uri": "https://localhost:8080/"
        },
        "id": "21KbwG2Etqji",
        "outputId": "4f830074-f174-479e-d292-3242a975c415"
      },
      "source": [
        "vectorizer.get_feature_names()"
      ],
      "execution_count": null,
      "outputs": [
        {
          "output_type": "execute_result",
          "data": {
            "text/plain": [
              "['documento', 'el', 'es', 'este', 'primer', 'segundo', 'tercero']"
            ]
          },
          "metadata": {
            "tags": []
          },
          "execution_count": 109
        }
      ]
    },
    {
      "cell_type": "code",
      "metadata": {
        "colab": {
          "base_uri": "https://localhost:8080/"
        },
        "id": "IT3U1YUGuWkg",
        "outputId": "73595842-f31b-435c-c887-43341f874777"
      },
      "source": [
        "X.toarray()"
      ],
      "execution_count": null,
      "outputs": [
        {
          "output_type": "execute_result",
          "data": {
            "text/plain": [
              "array([[1, 1, 1, 1, 1, 0, 0],\n",
              "       [2, 1, 1, 1, 0, 1, 0],\n",
              "       [0, 1, 1, 1, 0, 0, 1],\n",
              "       [1, 1, 1, 1, 1, 0, 0]])"
            ]
          },
          "metadata": {
            "tags": []
          },
          "execution_count": 110
        }
      ]
    },
    {
      "cell_type": "code",
      "metadata": {
        "colab": {
          "base_uri": "https://localhost:8080/",
          "height": 175
        },
        "id": "m-XVcF1guXPm",
        "outputId": "d2691e81-e74e-44d6-bf4f-2c91aa14f9d5"
      },
      "source": [
        "pd.DataFrame(columns=vectorizer.get_feature_names(), data=X.toarray(), index=corpus)"
      ],
      "execution_count": null,
      "outputs": [
        {
          "output_type": "execute_result",
          "data": {
            "text/html": [
              "<div>\n",
              "<style scoped>\n",
              "    .dataframe tbody tr th:only-of-type {\n",
              "        vertical-align: middle;\n",
              "    }\n",
              "\n",
              "    .dataframe tbody tr th {\n",
              "        vertical-align: top;\n",
              "    }\n",
              "\n",
              "    .dataframe thead th {\n",
              "        text-align: right;\n",
              "    }\n",
              "</style>\n",
              "<table border=\"1\" class=\"dataframe\">\n",
              "  <thead>\n",
              "    <tr style=\"text-align: right;\">\n",
              "      <th></th>\n",
              "      <th>documento</th>\n",
              "      <th>el</th>\n",
              "      <th>es</th>\n",
              "      <th>este</th>\n",
              "      <th>primer</th>\n",
              "      <th>segundo</th>\n",
              "      <th>tercero</th>\n",
              "    </tr>\n",
              "  </thead>\n",
              "  <tbody>\n",
              "    <tr>\n",
              "      <th>Este es el primer documento.</th>\n",
              "      <td>1</td>\n",
              "      <td>1</td>\n",
              "      <td>1</td>\n",
              "      <td>1</td>\n",
              "      <td>1</td>\n",
              "      <td>0</td>\n",
              "      <td>0</td>\n",
              "    </tr>\n",
              "    <tr>\n",
              "      <th>Este documento es el segundo documento.</th>\n",
              "      <td>2</td>\n",
              "      <td>1</td>\n",
              "      <td>1</td>\n",
              "      <td>1</td>\n",
              "      <td>0</td>\n",
              "      <td>1</td>\n",
              "      <td>0</td>\n",
              "    </tr>\n",
              "    <tr>\n",
              "      <th>Este es el tercero.</th>\n",
              "      <td>0</td>\n",
              "      <td>1</td>\n",
              "      <td>1</td>\n",
              "      <td>1</td>\n",
              "      <td>0</td>\n",
              "      <td>0</td>\n",
              "      <td>1</td>\n",
              "    </tr>\n",
              "    <tr>\n",
              "      <th>¿Es este el primer documento?</th>\n",
              "      <td>1</td>\n",
              "      <td>1</td>\n",
              "      <td>1</td>\n",
              "      <td>1</td>\n",
              "      <td>1</td>\n",
              "      <td>0</td>\n",
              "      <td>0</td>\n",
              "    </tr>\n",
              "  </tbody>\n",
              "</table>\n",
              "</div>"
            ],
            "text/plain": [
              "                                         documento  el  ...  segundo  tercero\n",
              "Este es el primer documento.                     1   1  ...        0        0\n",
              "Este documento es el segundo documento.          2   1  ...        1        0\n",
              "Este es el tercero.                              0   1  ...        0        1\n",
              "¿Es este el primer documento?                    1   1  ...        0        0\n",
              "\n",
              "[4 rows x 7 columns]"
            ]
          },
          "metadata": {
            "tags": []
          },
          "execution_count": 111
        }
      ]
    },
    {
      "cell_type": "markdown",
      "metadata": {
        "id": "dC1q-7HbvKlm"
      },
      "source": [
        "## One-Hot Encoding (ordered)\n",
        "Word as vector"
      ]
    },
    {
      "cell_type": "code",
      "metadata": {
        "colab": {
          "base_uri": "https://localhost:8080/"
        },
        "id": "fuu5n3_lvOTw",
        "outputId": "6ce9bd5a-87c6-4866-daca-36c3dcac3e05"
      },
      "source": [
        "words = vectorizer.get_feature_names()\n",
        "words"
      ],
      "execution_count": null,
      "outputs": [
        {
          "output_type": "execute_result",
          "data": {
            "text/plain": [
              "['documento', 'el', 'es', 'este', 'primer', 'segundo', 'tercero']"
            ]
          },
          "metadata": {
            "tags": []
          },
          "execution_count": 112
        }
      ]
    },
    {
      "cell_type": "code",
      "metadata": {
        "id": "8zzUtmBAwQTg"
      },
      "source": [
        "word_to_vector = {\n",
        "    'documento' : [1, 0, 0, 0, 0, 0, 0],\n",
        "    'el' : [0, 1, 0, 0, 0, 0, 0],\n",
        "    'es' : [0, 0, 1, 0, 0, 0, 0],\n",
        "    'este' : [0, 0, 0, 1, 0, 0, 0],\n",
        "    'primer' : [0, 0, 0, 0, 1, 0, 0],\n",
        "    'segundo' : [0, 0, 0, 0, 0, 1, 0],\n",
        "    'tercero' : [0, 0, 0, 0, 0, 0, 1],\n",
        "}"
      ],
      "execution_count": null,
      "outputs": []
    },
    {
      "cell_type": "code",
      "metadata": {
        "id": "MoYV3gj1yObW"
      },
      "source": [
        "corpus_as_array = [x.replace(\".\", \"\").replace(\"¿\",\"\").replace(\"?\",\"\").lower().split(\" \") for x in corpus]"
      ],
      "execution_count": null,
      "outputs": []
    },
    {
      "cell_type": "code",
      "metadata": {
        "colab": {
          "base_uri": "https://localhost:8080/"
        },
        "id": "vcsGoWzsymYG",
        "outputId": "17ed4a2c-9443-42c6-ae95-9c509f8fc957"
      },
      "source": [
        "corpus_as_array"
      ],
      "execution_count": null,
      "outputs": [
        {
          "output_type": "execute_result",
          "data": {
            "text/plain": [
              "[['este', 'es', 'el', 'primer', 'documento'],\n",
              " ['este', 'documento', 'es', 'el', 'segundo', 'documento'],\n",
              " ['este', 'es', 'el', 'tercero'],\n",
              " ['es', 'este', 'el', 'primer', 'documento']]"
            ]
          },
          "metadata": {
            "tags": []
          },
          "execution_count": 115
        }
      ]
    },
    {
      "cell_type": "code",
      "metadata": {
        "colab": {
          "base_uri": "https://localhost:8080/"
        },
        "id": "1ppuquo9xf7p",
        "outputId": "c124b97f-6612-480e-de57-68946382d9dc"
      },
      "source": [
        "\n",
        "one_hot_corpus = np.array([np.array([word_to_vector[x] for x in corpus_as_array[i]]) for i in range(0, len(corpus_as_array))])"
      ],
      "execution_count": null,
      "outputs": [
        {
          "output_type": "stream",
          "text": [
            "/usr/local/lib/python3.7/dist-packages/ipykernel_launcher.py:2: VisibleDeprecationWarning: Creating an ndarray from ragged nested sequences (which is a list-or-tuple of lists-or-tuples-or ndarrays with different lengths or shapes) is deprecated. If you meant to do this, you must specify 'dtype=object' when creating the ndarray\n",
            "  \n"
          ],
          "name": "stderr"
        }
      ]
    },
    {
      "cell_type": "markdown",
      "metadata": {
        "id": "2o6mBxQ-9pOD"
      },
      "source": [
        "A cada palabra se le asigna un vector, la manera más sencilla es asignarle un vector que contenga 0's en todas las posiciones menos un 1 en la posición que corresponde con su índice en el diccionario."
      ]
    },
    {
      "cell_type": "code",
      "metadata": {
        "colab": {
          "base_uri": "https://localhost:8080/",
          "height": 269
        },
        "cellView": "form",
        "id": "oh0grhYi9soB",
        "outputId": "e26484fb-dab2-4056-f608-362b12e61c61"
      },
      "source": [
        "#@title\n",
        "df_word_to_vector = pd.DataFrame(pd.Series(vectorizer.vocabulary_).sort_values(), columns=['indice'])\n",
        "df_word_to_vector['vector'] = pd.Series(word_to_vector)\n",
        "df_word_to_vector"
      ],
      "execution_count": null,
      "outputs": [
        {
          "output_type": "execute_result",
          "data": {
            "text/html": [
              "<div>\n",
              "<style scoped>\n",
              "    .dataframe tbody tr th:only-of-type {\n",
              "        vertical-align: middle;\n",
              "    }\n",
              "\n",
              "    .dataframe tbody tr th {\n",
              "        vertical-align: top;\n",
              "    }\n",
              "\n",
              "    .dataframe thead th {\n",
              "        text-align: right;\n",
              "    }\n",
              "</style>\n",
              "<table border=\"1\" class=\"dataframe\">\n",
              "  <thead>\n",
              "    <tr style=\"text-align: right;\">\n",
              "      <th></th>\n",
              "      <th>indice</th>\n",
              "      <th>vector</th>\n",
              "    </tr>\n",
              "  </thead>\n",
              "  <tbody>\n",
              "    <tr>\n",
              "      <th>documento</th>\n",
              "      <td>0</td>\n",
              "      <td>[1, 0, 0, 0, 0, 0, 0]</td>\n",
              "    </tr>\n",
              "    <tr>\n",
              "      <th>el</th>\n",
              "      <td>1</td>\n",
              "      <td>[0, 1, 0, 0, 0, 0, 0]</td>\n",
              "    </tr>\n",
              "    <tr>\n",
              "      <th>es</th>\n",
              "      <td>2</td>\n",
              "      <td>[0, 0, 1, 0, 0, 0, 0]</td>\n",
              "    </tr>\n",
              "    <tr>\n",
              "      <th>este</th>\n",
              "      <td>3</td>\n",
              "      <td>[0, 0, 0, 1, 0, 0, 0]</td>\n",
              "    </tr>\n",
              "    <tr>\n",
              "      <th>primer</th>\n",
              "      <td>4</td>\n",
              "      <td>[0, 0, 0, 0, 1, 0, 0]</td>\n",
              "    </tr>\n",
              "    <tr>\n",
              "      <th>segundo</th>\n",
              "      <td>5</td>\n",
              "      <td>[0, 0, 0, 0, 0, 1, 0]</td>\n",
              "    </tr>\n",
              "    <tr>\n",
              "      <th>tercero</th>\n",
              "      <td>6</td>\n",
              "      <td>[0, 0, 0, 0, 0, 0, 1]</td>\n",
              "    </tr>\n",
              "  </tbody>\n",
              "</table>\n",
              "</div>"
            ],
            "text/plain": [
              "           indice                 vector\n",
              "documento       0  [1, 0, 0, 0, 0, 0, 0]\n",
              "el              1  [0, 1, 0, 0, 0, 0, 0]\n",
              "es              2  [0, 0, 1, 0, 0, 0, 0]\n",
              "este            3  [0, 0, 0, 1, 0, 0, 0]\n",
              "primer          4  [0, 0, 0, 0, 1, 0, 0]\n",
              "segundo         5  [0, 0, 0, 0, 0, 1, 0]\n",
              "tercero         6  [0, 0, 0, 0, 0, 0, 1]"
            ]
          },
          "metadata": {
            "tags": []
          },
          "execution_count": 117
        }
      ]
    },
    {
      "cell_type": "markdown",
      "metadata": {
        "id": "0gVFDtmp_HSi"
      },
      "source": [
        "Hay que aplicarle la codificación anterior a cada una de las oraciones. Primero necesitamos llevar la frase a formato array separando cada una de las palabras. Y ya podemos mapear cada una de las palabras a su vector correspondiente.\n",
        "\n",
        "Este es el resultado:"
      ]
    },
    {
      "cell_type": "code",
      "metadata": {
        "colab": {
          "base_uri": "https://localhost:8080/",
          "height": 175
        },
        "cellView": "form",
        "id": "p89K3_NE3jFv",
        "outputId": "c01c5a23-21ab-49b2-fc04-79a32cc85f1d"
      },
      "source": [
        "#@title\n",
        "data = {\n",
        "    'sentence_as_array': corpus_as_array,\n",
        "    'one_hot_sentence': one_hot_corpus\n",
        "}\n",
        "\n",
        "df_one_hot = pd.DataFrame(data=data, index=corpus)\n",
        "df_one_hot"
      ],
      "execution_count": null,
      "outputs": [
        {
          "output_type": "execute_result",
          "data": {
            "text/html": [
              "<div>\n",
              "<style scoped>\n",
              "    .dataframe tbody tr th:only-of-type {\n",
              "        vertical-align: middle;\n",
              "    }\n",
              "\n",
              "    .dataframe tbody tr th {\n",
              "        vertical-align: top;\n",
              "    }\n",
              "\n",
              "    .dataframe thead th {\n",
              "        text-align: right;\n",
              "    }\n",
              "</style>\n",
              "<table border=\"1\" class=\"dataframe\">\n",
              "  <thead>\n",
              "    <tr style=\"text-align: right;\">\n",
              "      <th></th>\n",
              "      <th>sentence_as_array</th>\n",
              "      <th>one_hot_sentence</th>\n",
              "    </tr>\n",
              "  </thead>\n",
              "  <tbody>\n",
              "    <tr>\n",
              "      <th>Este es el primer documento.</th>\n",
              "      <td>[este, es, el, primer, documento]</td>\n",
              "      <td>[[0, 0, 0, 1, 0, 0, 0], [0, 0, 1, 0, 0, 0, 0],...</td>\n",
              "    </tr>\n",
              "    <tr>\n",
              "      <th>Este documento es el segundo documento.</th>\n",
              "      <td>[este, documento, es, el, segundo, documento]</td>\n",
              "      <td>[[0, 0, 0, 1, 0, 0, 0], [1, 0, 0, 0, 0, 0, 0],...</td>\n",
              "    </tr>\n",
              "    <tr>\n",
              "      <th>Este es el tercero.</th>\n",
              "      <td>[este, es, el, tercero]</td>\n",
              "      <td>[[0, 0, 0, 1, 0, 0, 0], [0, 0, 1, 0, 0, 0, 0],...</td>\n",
              "    </tr>\n",
              "    <tr>\n",
              "      <th>¿Es este el primer documento?</th>\n",
              "      <td>[es, este, el, primer, documento]</td>\n",
              "      <td>[[0, 0, 1, 0, 0, 0, 0], [0, 0, 0, 1, 0, 0, 0],...</td>\n",
              "    </tr>\n",
              "  </tbody>\n",
              "</table>\n",
              "</div>"
            ],
            "text/plain": [
              "                                                                     sentence_as_array                                   one_hot_sentence\n",
              "Este es el primer documento.                         [este, es, el, primer, documento]  [[0, 0, 0, 1, 0, 0, 0], [0, 0, 1, 0, 0, 0, 0],...\n",
              "Este documento es el segundo documento.  [este, documento, es, el, segundo, documento]  [[0, 0, 0, 1, 0, 0, 0], [1, 0, 0, 0, 0, 0, 0],...\n",
              "Este es el tercero.                                            [este, es, el, tercero]  [[0, 0, 0, 1, 0, 0, 0], [0, 0, 1, 0, 0, 0, 0],...\n",
              "¿Es este el primer documento?                        [es, este, el, primer, documento]  [[0, 0, 1, 0, 0, 0, 0], [0, 0, 0, 1, 0, 0, 0],..."
            ]
          },
          "metadata": {
            "tags": []
          },
          "execution_count": 118
        }
      ]
    },
    {
      "cell_type": "markdown",
      "metadata": {
        "id": "1Fz_O3p9AOpo"
      },
      "source": [
        "Lo que obtenemos ahora es una matriz de cada una de las sentencias, en la cual estamos teniendo en cuenta el orden en el que aparecen las palabras dentro de la misma.\n",
        "\n",
        "Frase 1:"
      ]
    },
    {
      "cell_type": "code",
      "metadata": {
        "colab": {
          "base_uri": "https://localhost:8080/",
          "height": 206
        },
        "cellView": "form",
        "id": "KVx8kzE15Qu7",
        "outputId": "2461ee64-831d-4ee9-af58-df8ebb5214a1"
      },
      "source": [
        "#@title\n",
        "pd.DataFrame(index=df_one_hot.loc[corpus[0],'sentence_as_array'],\n",
        "             data=df_one_hot.loc[corpus[0],'one_hot_sentence'],\n",
        "             columns=words)"
      ],
      "execution_count": null,
      "outputs": [
        {
          "output_type": "execute_result",
          "data": {
            "text/html": [
              "<div>\n",
              "<style scoped>\n",
              "    .dataframe tbody tr th:only-of-type {\n",
              "        vertical-align: middle;\n",
              "    }\n",
              "\n",
              "    .dataframe tbody tr th {\n",
              "        vertical-align: top;\n",
              "    }\n",
              "\n",
              "    .dataframe thead th {\n",
              "        text-align: right;\n",
              "    }\n",
              "</style>\n",
              "<table border=\"1\" class=\"dataframe\">\n",
              "  <thead>\n",
              "    <tr style=\"text-align: right;\">\n",
              "      <th></th>\n",
              "      <th>documento</th>\n",
              "      <th>el</th>\n",
              "      <th>es</th>\n",
              "      <th>este</th>\n",
              "      <th>primer</th>\n",
              "      <th>segundo</th>\n",
              "      <th>tercero</th>\n",
              "    </tr>\n",
              "  </thead>\n",
              "  <tbody>\n",
              "    <tr>\n",
              "      <th>este</th>\n",
              "      <td>0</td>\n",
              "      <td>0</td>\n",
              "      <td>0</td>\n",
              "      <td>1</td>\n",
              "      <td>0</td>\n",
              "      <td>0</td>\n",
              "      <td>0</td>\n",
              "    </tr>\n",
              "    <tr>\n",
              "      <th>es</th>\n",
              "      <td>0</td>\n",
              "      <td>0</td>\n",
              "      <td>1</td>\n",
              "      <td>0</td>\n",
              "      <td>0</td>\n",
              "      <td>0</td>\n",
              "      <td>0</td>\n",
              "    </tr>\n",
              "    <tr>\n",
              "      <th>el</th>\n",
              "      <td>0</td>\n",
              "      <td>1</td>\n",
              "      <td>0</td>\n",
              "      <td>0</td>\n",
              "      <td>0</td>\n",
              "      <td>0</td>\n",
              "      <td>0</td>\n",
              "    </tr>\n",
              "    <tr>\n",
              "      <th>primer</th>\n",
              "      <td>0</td>\n",
              "      <td>0</td>\n",
              "      <td>0</td>\n",
              "      <td>0</td>\n",
              "      <td>1</td>\n",
              "      <td>0</td>\n",
              "      <td>0</td>\n",
              "    </tr>\n",
              "    <tr>\n",
              "      <th>documento</th>\n",
              "      <td>1</td>\n",
              "      <td>0</td>\n",
              "      <td>0</td>\n",
              "      <td>0</td>\n",
              "      <td>0</td>\n",
              "      <td>0</td>\n",
              "      <td>0</td>\n",
              "    </tr>\n",
              "  </tbody>\n",
              "</table>\n",
              "</div>"
            ],
            "text/plain": [
              "           documento  el  es  este  primer  segundo  tercero\n",
              "este               0   0   0     1       0        0        0\n",
              "es                 0   0   1     0       0        0        0\n",
              "el                 0   1   0     0       0        0        0\n",
              "primer             0   0   0     0       1        0        0\n",
              "documento          1   0   0     0       0        0        0"
            ]
          },
          "metadata": {
            "tags": []
          },
          "execution_count": 119
        }
      ]
    },
    {
      "cell_type": "markdown",
      "metadata": {
        "id": "nDNsMzhaAiOy"
      },
      "source": [
        "Frase 2:"
      ]
    },
    {
      "cell_type": "code",
      "metadata": {
        "colab": {
          "base_uri": "https://localhost:8080/",
          "height": 238
        },
        "cellView": "form",
        "id": "dig_ZwMT6yDE",
        "outputId": "31128057-f380-4e2a-c118-839dc6d2132d"
      },
      "source": [
        "#@title\n",
        "pd.DataFrame(index=df_one_hot.loc[corpus[1],'sentence_as_array'],\n",
        "             data=df_one_hot.loc[corpus[1],'one_hot_sentence'],\n",
        "             columns=words)"
      ],
      "execution_count": null,
      "outputs": [
        {
          "output_type": "execute_result",
          "data": {
            "text/html": [
              "<div>\n",
              "<style scoped>\n",
              "    .dataframe tbody tr th:only-of-type {\n",
              "        vertical-align: middle;\n",
              "    }\n",
              "\n",
              "    .dataframe tbody tr th {\n",
              "        vertical-align: top;\n",
              "    }\n",
              "\n",
              "    .dataframe thead th {\n",
              "        text-align: right;\n",
              "    }\n",
              "</style>\n",
              "<table border=\"1\" class=\"dataframe\">\n",
              "  <thead>\n",
              "    <tr style=\"text-align: right;\">\n",
              "      <th></th>\n",
              "      <th>documento</th>\n",
              "      <th>el</th>\n",
              "      <th>es</th>\n",
              "      <th>este</th>\n",
              "      <th>primer</th>\n",
              "      <th>segundo</th>\n",
              "      <th>tercero</th>\n",
              "    </tr>\n",
              "  </thead>\n",
              "  <tbody>\n",
              "    <tr>\n",
              "      <th>este</th>\n",
              "      <td>0</td>\n",
              "      <td>0</td>\n",
              "      <td>0</td>\n",
              "      <td>1</td>\n",
              "      <td>0</td>\n",
              "      <td>0</td>\n",
              "      <td>0</td>\n",
              "    </tr>\n",
              "    <tr>\n",
              "      <th>documento</th>\n",
              "      <td>1</td>\n",
              "      <td>0</td>\n",
              "      <td>0</td>\n",
              "      <td>0</td>\n",
              "      <td>0</td>\n",
              "      <td>0</td>\n",
              "      <td>0</td>\n",
              "    </tr>\n",
              "    <tr>\n",
              "      <th>es</th>\n",
              "      <td>0</td>\n",
              "      <td>0</td>\n",
              "      <td>1</td>\n",
              "      <td>0</td>\n",
              "      <td>0</td>\n",
              "      <td>0</td>\n",
              "      <td>0</td>\n",
              "    </tr>\n",
              "    <tr>\n",
              "      <th>el</th>\n",
              "      <td>0</td>\n",
              "      <td>1</td>\n",
              "      <td>0</td>\n",
              "      <td>0</td>\n",
              "      <td>0</td>\n",
              "      <td>0</td>\n",
              "      <td>0</td>\n",
              "    </tr>\n",
              "    <tr>\n",
              "      <th>segundo</th>\n",
              "      <td>0</td>\n",
              "      <td>0</td>\n",
              "      <td>0</td>\n",
              "      <td>0</td>\n",
              "      <td>0</td>\n",
              "      <td>1</td>\n",
              "      <td>0</td>\n",
              "    </tr>\n",
              "    <tr>\n",
              "      <th>documento</th>\n",
              "      <td>1</td>\n",
              "      <td>0</td>\n",
              "      <td>0</td>\n",
              "      <td>0</td>\n",
              "      <td>0</td>\n",
              "      <td>0</td>\n",
              "      <td>0</td>\n",
              "    </tr>\n",
              "  </tbody>\n",
              "</table>\n",
              "</div>"
            ],
            "text/plain": [
              "           documento  el  es  este  primer  segundo  tercero\n",
              "este               0   0   0     1       0        0        0\n",
              "documento          1   0   0     0       0        0        0\n",
              "es                 0   0   1     0       0        0        0\n",
              "el                 0   1   0     0       0        0        0\n",
              "segundo            0   0   0     0       0        1        0\n",
              "documento          1   0   0     0       0        0        0"
            ]
          },
          "metadata": {
            "tags": []
          },
          "execution_count": 120
        }
      ]
    },
    {
      "cell_type": "markdown",
      "metadata": {
        "id": "GBYxhRTpA_g3"
      },
      "source": [
        "Para asegurar que las matrices asociadas a cada frase tienen el mismo número de filas, habría que rellenar con un placeholder (vector con todo 0's) aquellas frases de menor longitud tantas filas cómo sea la longitud de la frase más larga.\n",
        "Para el caso anterior quedaría así:\n"
      ]
    },
    {
      "cell_type": "code",
      "metadata": {
        "id": "1gKRQ-mcB-dr"
      },
      "source": [
        "placeholder = pd.DataFrame({'*': [0, 0, 0, 0, 0, 0, 0]}, index=words).T"
      ],
      "execution_count": null,
      "outputs": []
    },
    {
      "cell_type": "code",
      "metadata": {
        "colab": {
          "base_uri": "https://localhost:8080/",
          "height": 238
        },
        "id": "IuvZ9ELvCmFC",
        "cellView": "form",
        "outputId": "30b6e7cf-ff6f-408c-9be4-0511a5b8b828"
      },
      "source": [
        "#@title\n",
        "pd.DataFrame(index=df_one_hot.loc[corpus[0],'sentence_as_array'],\n",
        "             data=df_one_hot.loc[corpus[0],'one_hot_sentence'],\n",
        "             columns=words).append(placeholder)"
      ],
      "execution_count": null,
      "outputs": [
        {
          "output_type": "execute_result",
          "data": {
            "text/html": [
              "<div>\n",
              "<style scoped>\n",
              "    .dataframe tbody tr th:only-of-type {\n",
              "        vertical-align: middle;\n",
              "    }\n",
              "\n",
              "    .dataframe tbody tr th {\n",
              "        vertical-align: top;\n",
              "    }\n",
              "\n",
              "    .dataframe thead th {\n",
              "        text-align: right;\n",
              "    }\n",
              "</style>\n",
              "<table border=\"1\" class=\"dataframe\">\n",
              "  <thead>\n",
              "    <tr style=\"text-align: right;\">\n",
              "      <th></th>\n",
              "      <th>documento</th>\n",
              "      <th>el</th>\n",
              "      <th>es</th>\n",
              "      <th>este</th>\n",
              "      <th>primer</th>\n",
              "      <th>segundo</th>\n",
              "      <th>tercero</th>\n",
              "    </tr>\n",
              "  </thead>\n",
              "  <tbody>\n",
              "    <tr>\n",
              "      <th>este</th>\n",
              "      <td>0</td>\n",
              "      <td>0</td>\n",
              "      <td>0</td>\n",
              "      <td>1</td>\n",
              "      <td>0</td>\n",
              "      <td>0</td>\n",
              "      <td>0</td>\n",
              "    </tr>\n",
              "    <tr>\n",
              "      <th>es</th>\n",
              "      <td>0</td>\n",
              "      <td>0</td>\n",
              "      <td>1</td>\n",
              "      <td>0</td>\n",
              "      <td>0</td>\n",
              "      <td>0</td>\n",
              "      <td>0</td>\n",
              "    </tr>\n",
              "    <tr>\n",
              "      <th>el</th>\n",
              "      <td>0</td>\n",
              "      <td>1</td>\n",
              "      <td>0</td>\n",
              "      <td>0</td>\n",
              "      <td>0</td>\n",
              "      <td>0</td>\n",
              "      <td>0</td>\n",
              "    </tr>\n",
              "    <tr>\n",
              "      <th>primer</th>\n",
              "      <td>0</td>\n",
              "      <td>0</td>\n",
              "      <td>0</td>\n",
              "      <td>0</td>\n",
              "      <td>1</td>\n",
              "      <td>0</td>\n",
              "      <td>0</td>\n",
              "    </tr>\n",
              "    <tr>\n",
              "      <th>documento</th>\n",
              "      <td>1</td>\n",
              "      <td>0</td>\n",
              "      <td>0</td>\n",
              "      <td>0</td>\n",
              "      <td>0</td>\n",
              "      <td>0</td>\n",
              "      <td>0</td>\n",
              "    </tr>\n",
              "    <tr>\n",
              "      <th>*</th>\n",
              "      <td>0</td>\n",
              "      <td>0</td>\n",
              "      <td>0</td>\n",
              "      <td>0</td>\n",
              "      <td>0</td>\n",
              "      <td>0</td>\n",
              "      <td>0</td>\n",
              "    </tr>\n",
              "  </tbody>\n",
              "</table>\n",
              "</div>"
            ],
            "text/plain": [
              "           documento  el  es  este  primer  segundo  tercero\n",
              "este               0   0   0     1       0        0        0\n",
              "es                 0   0   1     0       0        0        0\n",
              "el                 0   1   0     0       0        0        0\n",
              "primer             0   0   0     0       1        0        0\n",
              "documento          1   0   0     0       0        0        0\n",
              "*                  0   0   0     0       0        0        0"
            ]
          },
          "metadata": {
            "tags": []
          },
          "execution_count": 122
        }
      ]
    },
    {
      "cell_type": "markdown",
      "metadata": {
        "id": "-dcSAQOUFsE1"
      },
      "source": [
        "## Index based encoding"
      ]
    },
    {
      "cell_type": "markdown",
      "metadata": {
        "id": "QPq0AKqAzKOj"
      },
      "source": [
        "Esta es quizás la manera más intuitiva de codificar una sentencia teniendo en cuenta el orden de las palabras.\n",
        "Basta con asignar la palabra a su indice en el diccionario."
      ]
    },
    {
      "cell_type": "code",
      "metadata": {
        "colab": {
          "base_uri": "https://localhost:8080/",
          "height": 269
        },
        "id": "LytRHoyfG9WM",
        "outputId": "55d9e358-9b6a-40c4-901b-4786962fb383"
      },
      "source": [
        "pd.DataFrame(pd.Series(vectorizer.vocabulary_).sort_values(), columns=['indice'])"
      ],
      "execution_count": null,
      "outputs": [
        {
          "output_type": "execute_result",
          "data": {
            "text/html": [
              "<div>\n",
              "<style scoped>\n",
              "    .dataframe tbody tr th:only-of-type {\n",
              "        vertical-align: middle;\n",
              "    }\n",
              "\n",
              "    .dataframe tbody tr th {\n",
              "        vertical-align: top;\n",
              "    }\n",
              "\n",
              "    .dataframe thead th {\n",
              "        text-align: right;\n",
              "    }\n",
              "</style>\n",
              "<table border=\"1\" class=\"dataframe\">\n",
              "  <thead>\n",
              "    <tr style=\"text-align: right;\">\n",
              "      <th></th>\n",
              "      <th>indice</th>\n",
              "    </tr>\n",
              "  </thead>\n",
              "  <tbody>\n",
              "    <tr>\n",
              "      <th>documento</th>\n",
              "      <td>0</td>\n",
              "    </tr>\n",
              "    <tr>\n",
              "      <th>el</th>\n",
              "      <td>1</td>\n",
              "    </tr>\n",
              "    <tr>\n",
              "      <th>es</th>\n",
              "      <td>2</td>\n",
              "    </tr>\n",
              "    <tr>\n",
              "      <th>este</th>\n",
              "      <td>3</td>\n",
              "    </tr>\n",
              "    <tr>\n",
              "      <th>primer</th>\n",
              "      <td>4</td>\n",
              "    </tr>\n",
              "    <tr>\n",
              "      <th>segundo</th>\n",
              "      <td>5</td>\n",
              "    </tr>\n",
              "    <tr>\n",
              "      <th>tercero</th>\n",
              "      <td>6</td>\n",
              "    </tr>\n",
              "  </tbody>\n",
              "</table>\n",
              "</div>"
            ],
            "text/plain": [
              "           indice\n",
              "documento       0\n",
              "el              1\n",
              "es              2\n",
              "este            3\n",
              "primer          4\n",
              "segundo         5\n",
              "tercero         6"
            ]
          },
          "metadata": {
            "tags": []
          },
          "execution_count": 123
        }
      ]
    },
    {
      "cell_type": "markdown",
      "metadata": {
        "id": "FEoITpRdHW5P"
      },
      "source": [
        "Quedaría así:\n"
      ]
    },
    {
      "cell_type": "code",
      "metadata": {
        "colab": {
          "base_uri": "https://localhost:8080/"
        },
        "id": "FSOrmFBvHsZO",
        "outputId": "13bf81f0-b0fa-4609-d919-8657f8e30a82"
      },
      "source": [
        "index_based_corpus = np.array([np.array([vectorizer.vocabulary_[x] for x in corpus_as_array[i]]) for i in range(0, len(corpus_as_array))])"
      ],
      "execution_count": null,
      "outputs": [
        {
          "output_type": "stream",
          "text": [
            "/usr/local/lib/python3.7/dist-packages/ipykernel_launcher.py:1: VisibleDeprecationWarning: Creating an ndarray from ragged nested sequences (which is a list-or-tuple of lists-or-tuples-or ndarrays with different lengths or shapes) is deprecated. If you meant to do this, you must specify 'dtype=object' when creating the ndarray\n",
            "  \"\"\"Entry point for launching an IPython kernel.\n"
          ],
          "name": "stderr"
        }
      ]
    },
    {
      "cell_type": "code",
      "metadata": {
        "colab": {
          "base_uri": "https://localhost:8080/",
          "height": 175
        },
        "cellView": "form",
        "id": "3OWhiPRjH1NO",
        "outputId": "e8efe9f0-575e-43f8-fe3b-fa797e7cf8cf"
      },
      "source": [
        "#@title\n",
        "data = {\n",
        "    'sentence_as_array': corpus_as_array,\n",
        "    'index_based_sentence': index_based_corpus\n",
        "}\n",
        "\n",
        "pd.DataFrame(data, index=corpus)"
      ],
      "execution_count": null,
      "outputs": [
        {
          "output_type": "execute_result",
          "data": {
            "text/html": [
              "<div>\n",
              "<style scoped>\n",
              "    .dataframe tbody tr th:only-of-type {\n",
              "        vertical-align: middle;\n",
              "    }\n",
              "\n",
              "    .dataframe tbody tr th {\n",
              "        vertical-align: top;\n",
              "    }\n",
              "\n",
              "    .dataframe thead th {\n",
              "        text-align: right;\n",
              "    }\n",
              "</style>\n",
              "<table border=\"1\" class=\"dataframe\">\n",
              "  <thead>\n",
              "    <tr style=\"text-align: right;\">\n",
              "      <th></th>\n",
              "      <th>sentence_as_array</th>\n",
              "      <th>index_based_sentence</th>\n",
              "    </tr>\n",
              "  </thead>\n",
              "  <tbody>\n",
              "    <tr>\n",
              "      <th>Este es el primer documento.</th>\n",
              "      <td>[este, es, el, primer, documento]</td>\n",
              "      <td>[3, 2, 1, 4, 0]</td>\n",
              "    </tr>\n",
              "    <tr>\n",
              "      <th>Este documento es el segundo documento.</th>\n",
              "      <td>[este, documento, es, el, segundo, documento]</td>\n",
              "      <td>[3, 0, 2, 1, 5, 0]</td>\n",
              "    </tr>\n",
              "    <tr>\n",
              "      <th>Este es el tercero.</th>\n",
              "      <td>[este, es, el, tercero]</td>\n",
              "      <td>[3, 2, 1, 6]</td>\n",
              "    </tr>\n",
              "    <tr>\n",
              "      <th>¿Es este el primer documento?</th>\n",
              "      <td>[es, este, el, primer, documento]</td>\n",
              "      <td>[2, 3, 1, 4, 0]</td>\n",
              "    </tr>\n",
              "  </tbody>\n",
              "</table>\n",
              "</div>"
            ],
            "text/plain": [
              "                                                                     sentence_as_array index_based_sentence\n",
              "Este es el primer documento.                         [este, es, el, primer, documento]      [3, 2, 1, 4, 0]\n",
              "Este documento es el segundo documento.  [este, documento, es, el, segundo, documento]   [3, 0, 2, 1, 5, 0]\n",
              "Este es el tercero.                                            [este, es, el, tercero]         [3, 2, 1, 6]\n",
              "¿Es este el primer documento?                        [es, este, el, primer, documento]      [2, 3, 1, 4, 0]"
            ]
          },
          "metadata": {
            "tags": []
          },
          "execution_count": 125
        }
      ]
    },
    {
      "cell_type": "markdown",
      "metadata": {
        "id": "sB_ZtTUSId7Z"
      },
      "source": [
        "Para asegurar que los vectores tengan el mismo tamaño se suele reservar el indice 0 del vocabulario (empezando este en 1) para rellenar el vector y completar hasta que todos los vectores sean de igual longitud.\n",
        "\n",
        "El problema de esta codificación es que introduce una distancia numérica entre los textos que realmente no existe. Y por lo tanto no es muy recomendable su utilización."
      ]
    },
    {
      "cell_type": "markdown",
      "metadata": {
        "id": "1F6EztOYMfuI"
      },
      "source": [
        "## Word Embeddings\n",
        "\n",
        "Word embeddings son un conjunto de técnicas de procesamiento del lenguaje natural que lo que permiten es mapear el significado semántico de las palabras en un espacio geométrico. Esto se consigue mediante la asociacióón de cada palabra de un diccionario a un vector. De tal manera que la distancia entre dos vectores cualquiera capture la relación semantica entre las dos palabras asociadas. El espacio geométrico formado por estos vectores se denomina embedding space. Las técnicas de word embedding más conocidas son Word2Vec y GloVe.\n",
        "\n",
        "En la práctica, proyectamos cada palabra en un espacio vectorial continuo, producido por una capa de la red neuronal específica para ello. Este layer aprende a asociar una representación vectorial de cada palabra que es la mejor para completar su tarea general, por ejemplo, la predicción de una clase, la plabra siguiente, su traducción...\n",
        "\n",
        "\n",
        "El embedding layer no es más que la proyección del vector one-hot encoded disperso, que hemos visto antes, en un espacio latente continuo y denso. Es una matriz de (n,m) donde n es el tamaño de su vocabulario y m son las dimensiones del espacio latente. Sólo que realmente, no hay necesidad de hacer la multiplicación de matrizes, y en su lugar se puede ahorrar el cálculo mediante el uso del índice de la palabra. Así que, en la práctica, es una capa que mapea enteros positivos (índices correspondientes a las palabras) en vectores densos de tamaño fijo (los vectores de embedding).\n",
        "\n",
        "Se puede entrenar para crear una embedding Word2Vec utilizando Skip-Gram o CBOW(https://medium.com/swlh/a-quick-overview-of-the-main-difference-between-word2vec-and-fasttext-b9d3f6e274e9). O puedes entrenarlo para tu problema específico y obtener un embedding adecuado para la tarea que estás resolviendo. También puedes cargar un embedding pre-entrenado de los múltiples que existen y luego continuar el entrenamiento para tu problema (es una manera de aplicar transfer learning).\n",
        "\n",
        "El problema principal de los embeddings es que no entienden el contexto de la palabra, es decir, existen palabras en español que dependiendo del contexto pueden significar una cosa u otra, por ejemplo, muñeca que puede ser \"figura de persona, hecha generalmente de plástico, trapo o goma, que sirve de juguete o de adorno\" o \"parte del cuerpo humano en donde se articula la mano con el antebrazo\".\n",
        "Para un embedding en ambos casos va a significar lo mismo, aunque si el ámbito de tu problema es muy específico y las palabras no pueden aparecer en múltiples contextos no debería ser una preocupación.\n",
        "\n",
        "https://towardsdatascience.com/neural-network-embeddings-explained-4d028e6f0526"
      ]
    },
    {
      "cell_type": "code",
      "metadata": {
        "colab": {
          "base_uri": "https://localhost:8080/",
          "height": 206
        },
        "id": "JddHPC9gyj6g",
        "outputId": "e0d4203c-5f0d-403a-e0db-4a5a5cbedf46"
      },
      "source": [
        "# Matriz de 5*7 (oración one-hot)\n",
        "example = one_hot_corpus[0]\n",
        "pd.DataFrame(example)"
      ],
      "execution_count": null,
      "outputs": [
        {
          "output_type": "execute_result",
          "data": {
            "text/html": [
              "<div>\n",
              "<style scoped>\n",
              "    .dataframe tbody tr th:only-of-type {\n",
              "        vertical-align: middle;\n",
              "    }\n",
              "\n",
              "    .dataframe tbody tr th {\n",
              "        vertical-align: top;\n",
              "    }\n",
              "\n",
              "    .dataframe thead th {\n",
              "        text-align: right;\n",
              "    }\n",
              "</style>\n",
              "<table border=\"1\" class=\"dataframe\">\n",
              "  <thead>\n",
              "    <tr style=\"text-align: right;\">\n",
              "      <th></th>\n",
              "      <th>0</th>\n",
              "      <th>1</th>\n",
              "      <th>2</th>\n",
              "      <th>3</th>\n",
              "      <th>4</th>\n",
              "      <th>5</th>\n",
              "      <th>6</th>\n",
              "    </tr>\n",
              "  </thead>\n",
              "  <tbody>\n",
              "    <tr>\n",
              "      <th>0</th>\n",
              "      <td>0</td>\n",
              "      <td>0</td>\n",
              "      <td>0</td>\n",
              "      <td>1</td>\n",
              "      <td>0</td>\n",
              "      <td>0</td>\n",
              "      <td>0</td>\n",
              "    </tr>\n",
              "    <tr>\n",
              "      <th>1</th>\n",
              "      <td>0</td>\n",
              "      <td>0</td>\n",
              "      <td>1</td>\n",
              "      <td>0</td>\n",
              "      <td>0</td>\n",
              "      <td>0</td>\n",
              "      <td>0</td>\n",
              "    </tr>\n",
              "    <tr>\n",
              "      <th>2</th>\n",
              "      <td>0</td>\n",
              "      <td>1</td>\n",
              "      <td>0</td>\n",
              "      <td>0</td>\n",
              "      <td>0</td>\n",
              "      <td>0</td>\n",
              "      <td>0</td>\n",
              "    </tr>\n",
              "    <tr>\n",
              "      <th>3</th>\n",
              "      <td>0</td>\n",
              "      <td>0</td>\n",
              "      <td>0</td>\n",
              "      <td>0</td>\n",
              "      <td>1</td>\n",
              "      <td>0</td>\n",
              "      <td>0</td>\n",
              "    </tr>\n",
              "    <tr>\n",
              "      <th>4</th>\n",
              "      <td>1</td>\n",
              "      <td>0</td>\n",
              "      <td>0</td>\n",
              "      <td>0</td>\n",
              "      <td>0</td>\n",
              "      <td>0</td>\n",
              "      <td>0</td>\n",
              "    </tr>\n",
              "  </tbody>\n",
              "</table>\n",
              "</div>"
            ],
            "text/plain": [
              "   0  1  2  3  4  5  6\n",
              "0  0  0  0  1  0  0  0\n",
              "1  0  0  1  0  0  0  0\n",
              "2  0  1  0  0  0  0  0\n",
              "3  0  0  0  0  1  0  0\n",
              "4  1  0  0  0  0  0  0"
            ]
          },
          "metadata": {
            "tags": []
          },
          "execution_count": 126
        }
      ]
    },
    {
      "cell_type": "code",
      "metadata": {
        "colab": {
          "base_uri": "https://localhost:8080/",
          "height": 269
        },
        "id": "8Ug_nrM30D_k",
        "outputId": "566a7d72-d126-4ab2-cef7-31412c8d04cd"
      },
      "source": [
        "# Matriz de 7*2 (matriz embedding)\n",
        "M = np.array([[1, 1], [1, 2], [2, 2], [3,1], [1, 4], [1, 3], [3, 4]])\n",
        "pd.DataFrame(M)"
      ],
      "execution_count": null,
      "outputs": [
        {
          "output_type": "execute_result",
          "data": {
            "text/html": [
              "<div>\n",
              "<style scoped>\n",
              "    .dataframe tbody tr th:only-of-type {\n",
              "        vertical-align: middle;\n",
              "    }\n",
              "\n",
              "    .dataframe tbody tr th {\n",
              "        vertical-align: top;\n",
              "    }\n",
              "\n",
              "    .dataframe thead th {\n",
              "        text-align: right;\n",
              "    }\n",
              "</style>\n",
              "<table border=\"1\" class=\"dataframe\">\n",
              "  <thead>\n",
              "    <tr style=\"text-align: right;\">\n",
              "      <th></th>\n",
              "      <th>0</th>\n",
              "      <th>1</th>\n",
              "    </tr>\n",
              "  </thead>\n",
              "  <tbody>\n",
              "    <tr>\n",
              "      <th>0</th>\n",
              "      <td>1</td>\n",
              "      <td>1</td>\n",
              "    </tr>\n",
              "    <tr>\n",
              "      <th>1</th>\n",
              "      <td>1</td>\n",
              "      <td>2</td>\n",
              "    </tr>\n",
              "    <tr>\n",
              "      <th>2</th>\n",
              "      <td>2</td>\n",
              "      <td>2</td>\n",
              "    </tr>\n",
              "    <tr>\n",
              "      <th>3</th>\n",
              "      <td>3</td>\n",
              "      <td>1</td>\n",
              "    </tr>\n",
              "    <tr>\n",
              "      <th>4</th>\n",
              "      <td>1</td>\n",
              "      <td>4</td>\n",
              "    </tr>\n",
              "    <tr>\n",
              "      <th>5</th>\n",
              "      <td>1</td>\n",
              "      <td>3</td>\n",
              "    </tr>\n",
              "    <tr>\n",
              "      <th>6</th>\n",
              "      <td>3</td>\n",
              "      <td>4</td>\n",
              "    </tr>\n",
              "  </tbody>\n",
              "</table>\n",
              "</div>"
            ],
            "text/plain": [
              "   0  1\n",
              "0  1  1\n",
              "1  1  2\n",
              "2  2  2\n",
              "3  3  1\n",
              "4  1  4\n",
              "5  1  3\n",
              "6  3  4"
            ]
          },
          "metadata": {
            "tags": []
          },
          "execution_count": 127
        }
      ]
    },
    {
      "cell_type": "code",
      "metadata": {
        "colab": {
          "base_uri": "https://localhost:8080/",
          "height": 206
        },
        "id": "O9paEkv1z0CK",
        "outputId": "e071fa97-040e-4733-d979-8b3798bcf790"
      },
      "source": [
        "# Nueva representación de la oración\n",
        "new_vector = np.matmul(example, M)\n",
        "pd.DataFrame(new_vector)"
      ],
      "execution_count": null,
      "outputs": [
        {
          "output_type": "execute_result",
          "data": {
            "text/html": [
              "<div>\n",
              "<style scoped>\n",
              "    .dataframe tbody tr th:only-of-type {\n",
              "        vertical-align: middle;\n",
              "    }\n",
              "\n",
              "    .dataframe tbody tr th {\n",
              "        vertical-align: top;\n",
              "    }\n",
              "\n",
              "    .dataframe thead th {\n",
              "        text-align: right;\n",
              "    }\n",
              "</style>\n",
              "<table border=\"1\" class=\"dataframe\">\n",
              "  <thead>\n",
              "    <tr style=\"text-align: right;\">\n",
              "      <th></th>\n",
              "      <th>0</th>\n",
              "      <th>1</th>\n",
              "    </tr>\n",
              "  </thead>\n",
              "  <tbody>\n",
              "    <tr>\n",
              "      <th>0</th>\n",
              "      <td>3</td>\n",
              "      <td>1</td>\n",
              "    </tr>\n",
              "    <tr>\n",
              "      <th>1</th>\n",
              "      <td>2</td>\n",
              "      <td>2</td>\n",
              "    </tr>\n",
              "    <tr>\n",
              "      <th>2</th>\n",
              "      <td>1</td>\n",
              "      <td>2</td>\n",
              "    </tr>\n",
              "    <tr>\n",
              "      <th>3</th>\n",
              "      <td>1</td>\n",
              "      <td>4</td>\n",
              "    </tr>\n",
              "    <tr>\n",
              "      <th>4</th>\n",
              "      <td>1</td>\n",
              "      <td>1</td>\n",
              "    </tr>\n",
              "  </tbody>\n",
              "</table>\n",
              "</div>"
            ],
            "text/plain": [
              "   0  1\n",
              "0  3  1\n",
              "1  2  2\n",
              "2  1  2\n",
              "3  1  4\n",
              "4  1  1"
            ]
          },
          "metadata": {
            "tags": []
          },
          "execution_count": 128
        }
      ]
    },
    {
      "cell_type": "markdown",
      "metadata": {
        "id": "b0nViuRU34F_"
      },
      "source": [
        "Para el ejemplo la matriz M la hemos calculado teniendo en cuenta que necesitabamos asignar a cada una de las 7 palabras una respresentación diferente, pero no es ni mucho menos la más optima. El embedding layer sí que calcula esta matriz óptima. Por lo tanto el resultado final del embedding después del entrenamiento sería la matriz M cuyos valores son más óptimos para resolver la tarea específica.\n",
        "\n",
        "https://stackoverflow.com/questions/42762849/keras-embedding-layers-how-do-they-work"
      ]
    },
    {
      "cell_type": "code",
      "metadata": {
        "colab": {
          "base_uri": "https://localhost:8080/",
          "height": 206
        },
        "id": "Sf0NqWRI4vkt",
        "outputId": "54d1624d-f00b-4354-cc0e-1db94a8e89c0"
      },
      "source": [
        "pd.DataFrame(example) #5*7"
      ],
      "execution_count": null,
      "outputs": [
        {
          "output_type": "execute_result",
          "data": {
            "text/html": [
              "<div>\n",
              "<style scoped>\n",
              "    .dataframe tbody tr th:only-of-type {\n",
              "        vertical-align: middle;\n",
              "    }\n",
              "\n",
              "    .dataframe tbody tr th {\n",
              "        vertical-align: top;\n",
              "    }\n",
              "\n",
              "    .dataframe thead th {\n",
              "        text-align: right;\n",
              "    }\n",
              "</style>\n",
              "<table border=\"1\" class=\"dataframe\">\n",
              "  <thead>\n",
              "    <tr style=\"text-align: right;\">\n",
              "      <th></th>\n",
              "      <th>0</th>\n",
              "      <th>1</th>\n",
              "      <th>2</th>\n",
              "      <th>3</th>\n",
              "      <th>4</th>\n",
              "      <th>5</th>\n",
              "      <th>6</th>\n",
              "    </tr>\n",
              "  </thead>\n",
              "  <tbody>\n",
              "    <tr>\n",
              "      <th>0</th>\n",
              "      <td>0</td>\n",
              "      <td>0</td>\n",
              "      <td>0</td>\n",
              "      <td>1</td>\n",
              "      <td>0</td>\n",
              "      <td>0</td>\n",
              "      <td>0</td>\n",
              "    </tr>\n",
              "    <tr>\n",
              "      <th>1</th>\n",
              "      <td>0</td>\n",
              "      <td>0</td>\n",
              "      <td>1</td>\n",
              "      <td>0</td>\n",
              "      <td>0</td>\n",
              "      <td>0</td>\n",
              "      <td>0</td>\n",
              "    </tr>\n",
              "    <tr>\n",
              "      <th>2</th>\n",
              "      <td>0</td>\n",
              "      <td>1</td>\n",
              "      <td>0</td>\n",
              "      <td>0</td>\n",
              "      <td>0</td>\n",
              "      <td>0</td>\n",
              "      <td>0</td>\n",
              "    </tr>\n",
              "    <tr>\n",
              "      <th>3</th>\n",
              "      <td>0</td>\n",
              "      <td>0</td>\n",
              "      <td>0</td>\n",
              "      <td>0</td>\n",
              "      <td>1</td>\n",
              "      <td>0</td>\n",
              "      <td>0</td>\n",
              "    </tr>\n",
              "    <tr>\n",
              "      <th>4</th>\n",
              "      <td>1</td>\n",
              "      <td>0</td>\n",
              "      <td>0</td>\n",
              "      <td>0</td>\n",
              "      <td>0</td>\n",
              "      <td>0</td>\n",
              "      <td>0</td>\n",
              "    </tr>\n",
              "  </tbody>\n",
              "</table>\n",
              "</div>"
            ],
            "text/plain": [
              "   0  1  2  3  4  5  6\n",
              "0  0  0  0  1  0  0  0\n",
              "1  0  0  1  0  0  0  0\n",
              "2  0  1  0  0  0  0  0\n",
              "3  0  0  0  0  1  0  0\n",
              "4  1  0  0  0  0  0  0"
            ]
          },
          "metadata": {
            "tags": []
          },
          "execution_count": 129
        }
      ]
    },
    {
      "cell_type": "code",
      "metadata": {
        "colab": {
          "base_uri": "https://localhost:8080/",
          "height": 269
        },
        "id": "INKUGs9Z412p",
        "outputId": "2fd0d32e-f81a-4303-f34c-75f644024ead"
      },
      "source": [
        "M = [['a', 'b'], ['c', 'd'], ['e', 'f'], ['g','h'], ['i', 'j'], ['k', 'l'], ['m', 'n']]\n",
        "pd.DataFrame(M) #7*2"
      ],
      "execution_count": null,
      "outputs": [
        {
          "output_type": "execute_result",
          "data": {
            "text/html": [
              "<div>\n",
              "<style scoped>\n",
              "    .dataframe tbody tr th:only-of-type {\n",
              "        vertical-align: middle;\n",
              "    }\n",
              "\n",
              "    .dataframe tbody tr th {\n",
              "        vertical-align: top;\n",
              "    }\n",
              "\n",
              "    .dataframe thead th {\n",
              "        text-align: right;\n",
              "    }\n",
              "</style>\n",
              "<table border=\"1\" class=\"dataframe\">\n",
              "  <thead>\n",
              "    <tr style=\"text-align: right;\">\n",
              "      <th></th>\n",
              "      <th>0</th>\n",
              "      <th>1</th>\n",
              "    </tr>\n",
              "  </thead>\n",
              "  <tbody>\n",
              "    <tr>\n",
              "      <th>0</th>\n",
              "      <td>a</td>\n",
              "      <td>b</td>\n",
              "    </tr>\n",
              "    <tr>\n",
              "      <th>1</th>\n",
              "      <td>c</td>\n",
              "      <td>d</td>\n",
              "    </tr>\n",
              "    <tr>\n",
              "      <th>2</th>\n",
              "      <td>e</td>\n",
              "      <td>f</td>\n",
              "    </tr>\n",
              "    <tr>\n",
              "      <th>3</th>\n",
              "      <td>g</td>\n",
              "      <td>h</td>\n",
              "    </tr>\n",
              "    <tr>\n",
              "      <th>4</th>\n",
              "      <td>i</td>\n",
              "      <td>j</td>\n",
              "    </tr>\n",
              "    <tr>\n",
              "      <th>5</th>\n",
              "      <td>k</td>\n",
              "      <td>l</td>\n",
              "    </tr>\n",
              "    <tr>\n",
              "      <th>6</th>\n",
              "      <td>m</td>\n",
              "      <td>n</td>\n",
              "    </tr>\n",
              "  </tbody>\n",
              "</table>\n",
              "</div>"
            ],
            "text/plain": [
              "   0  1\n",
              "0  a  b\n",
              "1  c  d\n",
              "2  e  f\n",
              "3  g  h\n",
              "4  i  j\n",
              "5  k  l\n",
              "6  m  n"
            ]
          },
          "metadata": {
            "tags": []
          },
          "execution_count": 130
        }
      ]
    },
    {
      "cell_type": "code",
      "metadata": {
        "colab": {
          "base_uri": "https://localhost:8080/",
          "height": 206
        },
        "id": "Gyuo-Zit5aR9",
        "outputId": "621b74d4-e97f-4975-a7cf-6fdbec169922"
      },
      "source": [
        "# Oración one hot * M = nuevo vector denso\n",
        "new_vector = [['g','h'], ['e', 'f'], ['c', 'd'], ['i', 'j'], ['a', 'b']]\n",
        "pd.DataFrame(new_vector) #5*2"
      ],
      "execution_count": null,
      "outputs": [
        {
          "output_type": "execute_result",
          "data": {
            "text/html": [
              "<div>\n",
              "<style scoped>\n",
              "    .dataframe tbody tr th:only-of-type {\n",
              "        vertical-align: middle;\n",
              "    }\n",
              "\n",
              "    .dataframe tbody tr th {\n",
              "        vertical-align: top;\n",
              "    }\n",
              "\n",
              "    .dataframe thead th {\n",
              "        text-align: right;\n",
              "    }\n",
              "</style>\n",
              "<table border=\"1\" class=\"dataframe\">\n",
              "  <thead>\n",
              "    <tr style=\"text-align: right;\">\n",
              "      <th></th>\n",
              "      <th>0</th>\n",
              "      <th>1</th>\n",
              "    </tr>\n",
              "  </thead>\n",
              "  <tbody>\n",
              "    <tr>\n",
              "      <th>0</th>\n",
              "      <td>g</td>\n",
              "      <td>h</td>\n",
              "    </tr>\n",
              "    <tr>\n",
              "      <th>1</th>\n",
              "      <td>e</td>\n",
              "      <td>f</td>\n",
              "    </tr>\n",
              "    <tr>\n",
              "      <th>2</th>\n",
              "      <td>c</td>\n",
              "      <td>d</td>\n",
              "    </tr>\n",
              "    <tr>\n",
              "      <th>3</th>\n",
              "      <td>i</td>\n",
              "      <td>j</td>\n",
              "    </tr>\n",
              "    <tr>\n",
              "      <th>4</th>\n",
              "      <td>a</td>\n",
              "      <td>b</td>\n",
              "    </tr>\n",
              "  </tbody>\n",
              "</table>\n",
              "</div>"
            ],
            "text/plain": [
              "   0  1\n",
              "0  g  h\n",
              "1  e  f\n",
              "2  c  d\n",
              "3  i  j\n",
              "4  a  b"
            ]
          },
          "metadata": {
            "tags": []
          },
          "execution_count": 131
        }
      ]
    },
    {
      "cell_type": "markdown",
      "metadata": {
        "id": "uNRAijX36vOr"
      },
      "source": [
        "El valor de cada una de estas variables (a-n) es el que se calcula durante el entrenamiento. Nos va a permitir para el caso del ejemplo pasar de tener cada palabra en dimensión 7 a tenerla únicamente en 2 dimensiones.\n",
        "\n",
        "El embedding layer de keras permite pasar de un vector de índices a tener directamente esta nueva codificación. Sin tener que pasarle las oraciones en one-hot."
      ]
    }
  ]
}
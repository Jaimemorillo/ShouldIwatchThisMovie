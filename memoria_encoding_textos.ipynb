{
  "nbformat": 4,
  "nbformat_minor": 0,
  "metadata": {
    "colab": {
      "name": "memoria_encoding_textos.ipynb",
      "provenance": [],
      "collapsed_sections": [],
      "authorship_tag": "ABX9TyP9Ns5ucSjFHss1kcT2CSqp",
      "include_colab_link": true
    },
    "kernelspec": {
      "name": "python3",
      "display_name": "Python 3"
    }
  },
  "cells": [
    {
      "cell_type": "markdown",
      "metadata": {
        "id": "view-in-github",
        "colab_type": "text"
      },
      "source": [
        "<a href=\"https://colab.research.google.com/github/Jaimemorillo/ShouldIwatchThisMovie/blob/master/memoria_encoding_textos.ipynb\" target=\"_parent\"><img src=\"https://colab.research.google.com/assets/colab-badge.svg\" alt=\"Open In Colab\"/></a>"
      ]
    },
    {
      "cell_type": "code",
      "metadata": {
        "colab": {
          "base_uri": "https://localhost:8080/"
        },
        "id": "PHD2jLZIqxRd",
        "outputId": "1b637ff3-7cd8-423b-c533-7430c401fb59"
      },
      "source": [
        "from google.colab import drive\n",
        "drive.mount('/content/gdrive')"
      ],
      "execution_count": null,
      "outputs": [
        {
          "output_type": "stream",
          "text": [
            "Drive already mounted at /content/gdrive; to attempt to forcibly remount, call drive.mount(\"/content/gdrive\", force_remount=True).\n"
          ],
          "name": "stdout"
        }
      ]
    },
    {
      "cell_type": "code",
      "metadata": {
        "id": "mSS_2U9Qq45h"
      },
      "source": [
        "import pandas as pd\n",
        "import numpy as np\n",
        "import matplotlib.pyplot as plt\n",
        "plt.style.use('default')"
      ],
      "execution_count": null,
      "outputs": []
    },
    {
      "cell_type": "markdown",
      "metadata": {
        "id": "9GI-FYdrNKB4"
      },
      "source": [
        "### Bibliografy\n",
        "- https://towardsdatascience.com/text-encoding-a-review-7c929514cccf\n",
        "\n",
        "- https://realpython.com/python-keras-text-classification/"
      ]
    },
    {
      "cell_type": "markdown",
      "metadata": {
        "id": "bvYGam90ruL2"
      },
      "source": [
        "# Sentences"
      ]
    },
    {
      "cell_type": "code",
      "metadata": {
        "id": "w8aDDCFkq-jx"
      },
      "source": [
        "corpus = [\n",
        "    'Este es el primer documento.',\n",
        "    'Este documento es el segundo documento.',\n",
        "    'Este es el tercero.',\n",
        "    '¿Es este el primer documento?'\n",
        "    ]"
      ],
      "execution_count": null,
      "outputs": []
    },
    {
      "cell_type": "markdown",
      "metadata": {
        "id": "_XV8fXXhsJLJ"
      },
      "source": [
        "## Bag of words (not ordered)\n",
        "Sentence as vector\n"
      ]
    },
    {
      "cell_type": "code",
      "metadata": {
        "id": "lKY5cjnAsNfh"
      },
      "source": [
        "from sklearn.feature_extraction.text import CountVectorizer\n",
        "\n",
        "vectorizer = CountVectorizer()\n",
        "X = vectorizer.fit_transform(corpus)"
      ],
      "execution_count": null,
      "outputs": []
    },
    {
      "cell_type": "code",
      "metadata": {
        "colab": {
          "base_uri": "https://localhost:8080/"
        },
        "id": "21KbwG2Etqji",
        "outputId": "fd1ed3f4-880c-4cb1-b35b-5edce592b987"
      },
      "source": [
        "vectorizer.get_feature_names()"
      ],
      "execution_count": null,
      "outputs": [
        {
          "output_type": "execute_result",
          "data": {
            "text/plain": [
              "['documento', 'el', 'es', 'este', 'primer', 'segundo', 'tercero']"
            ]
          },
          "metadata": {
            "tags": []
          },
          "execution_count": 123
        }
      ]
    },
    {
      "cell_type": "code",
      "metadata": {
        "colab": {
          "base_uri": "https://localhost:8080/"
        },
        "id": "IT3U1YUGuWkg",
        "outputId": "12b08e7e-3515-4add-e6b6-2a8157c8165f"
      },
      "source": [
        "X.toarray()"
      ],
      "execution_count": null,
      "outputs": [
        {
          "output_type": "execute_result",
          "data": {
            "text/plain": [
              "array([[1, 1, 1, 1, 1, 0, 0],\n",
              "       [2, 1, 1, 1, 0, 1, 0],\n",
              "       [0, 1, 1, 1, 0, 0, 1],\n",
              "       [1, 1, 1, 1, 1, 0, 0]])"
            ]
          },
          "metadata": {
            "tags": []
          },
          "execution_count": 124
        }
      ]
    },
    {
      "cell_type": "code",
      "metadata": {
        "colab": {
          "base_uri": "https://localhost:8080/",
          "height": 175
        },
        "id": "m-XVcF1guXPm",
        "outputId": "d088cddc-e0ef-479e-efe5-25bb9624f1a5"
      },
      "source": [
        "pd.DataFrame(columns=vectorizer.get_feature_names(), data=X.toarray(), index=corpus)"
      ],
      "execution_count": null,
      "outputs": [
        {
          "output_type": "execute_result",
          "data": {
            "text/html": [
              "<div>\n",
              "<style scoped>\n",
              "    .dataframe tbody tr th:only-of-type {\n",
              "        vertical-align: middle;\n",
              "    }\n",
              "\n",
              "    .dataframe tbody tr th {\n",
              "        vertical-align: top;\n",
              "    }\n",
              "\n",
              "    .dataframe thead th {\n",
              "        text-align: right;\n",
              "    }\n",
              "</style>\n",
              "<table border=\"1\" class=\"dataframe\">\n",
              "  <thead>\n",
              "    <tr style=\"text-align: right;\">\n",
              "      <th></th>\n",
              "      <th>documento</th>\n",
              "      <th>el</th>\n",
              "      <th>es</th>\n",
              "      <th>este</th>\n",
              "      <th>primer</th>\n",
              "      <th>segundo</th>\n",
              "      <th>tercero</th>\n",
              "    </tr>\n",
              "  </thead>\n",
              "  <tbody>\n",
              "    <tr>\n",
              "      <th>Este es el primer documento.</th>\n",
              "      <td>1</td>\n",
              "      <td>1</td>\n",
              "      <td>1</td>\n",
              "      <td>1</td>\n",
              "      <td>1</td>\n",
              "      <td>0</td>\n",
              "      <td>0</td>\n",
              "    </tr>\n",
              "    <tr>\n",
              "      <th>Este documento es el segundo documento.</th>\n",
              "      <td>2</td>\n",
              "      <td>1</td>\n",
              "      <td>1</td>\n",
              "      <td>1</td>\n",
              "      <td>0</td>\n",
              "      <td>1</td>\n",
              "      <td>0</td>\n",
              "    </tr>\n",
              "    <tr>\n",
              "      <th>Este es el tercero.</th>\n",
              "      <td>0</td>\n",
              "      <td>1</td>\n",
              "      <td>1</td>\n",
              "      <td>1</td>\n",
              "      <td>0</td>\n",
              "      <td>0</td>\n",
              "      <td>1</td>\n",
              "    </tr>\n",
              "    <tr>\n",
              "      <th>¿Es este el primer documento?</th>\n",
              "      <td>1</td>\n",
              "      <td>1</td>\n",
              "      <td>1</td>\n",
              "      <td>1</td>\n",
              "      <td>1</td>\n",
              "      <td>0</td>\n",
              "      <td>0</td>\n",
              "    </tr>\n",
              "  </tbody>\n",
              "</table>\n",
              "</div>"
            ],
            "text/plain": [
              "                                         documento  el  ...  segundo  tercero\n",
              "Este es el primer documento.                     1   1  ...        0        0\n",
              "Este documento es el segundo documento.          2   1  ...        1        0\n",
              "Este es el tercero.                              0   1  ...        0        1\n",
              "¿Es este el primer documento?                    1   1  ...        0        0\n",
              "\n",
              "[4 rows x 7 columns]"
            ]
          },
          "metadata": {
            "tags": []
          },
          "execution_count": 125
        }
      ]
    },
    {
      "cell_type": "markdown",
      "metadata": {
        "id": "dC1q-7HbvKlm"
      },
      "source": [
        "## One-Hot Encoding (ordered)\n",
        "Word as vector"
      ]
    },
    {
      "cell_type": "code",
      "metadata": {
        "colab": {
          "base_uri": "https://localhost:8080/"
        },
        "id": "fuu5n3_lvOTw",
        "outputId": "01aadae8-1e35-41e4-faf4-ab045bbe8de4"
      },
      "source": [
        "words = vectorizer.get_feature_names()\n",
        "words"
      ],
      "execution_count": null,
      "outputs": [
        {
          "output_type": "execute_result",
          "data": {
            "text/plain": [
              "['documento', 'el', 'es', 'este', 'primer', 'segundo', 'tercero']"
            ]
          },
          "metadata": {
            "tags": []
          },
          "execution_count": 126
        }
      ]
    },
    {
      "cell_type": "code",
      "metadata": {
        "id": "8zzUtmBAwQTg"
      },
      "source": [
        "word_to_vector = {\n",
        "    'documento' : [1, 0, 0, 0, 0, 0, 0],\n",
        "    'el' : [0, 1, 0, 0, 0, 0, 0],\n",
        "    'es' : [0, 0, 1, 0, 0, 0, 0],\n",
        "    'este' : [0, 0, 0, 1, 0, 0, 0],\n",
        "    'primer' : [0, 0, 0, 0, 1, 0, 0],\n",
        "    'segundo' : [0, 0, 0, 0, 0, 1, 0],\n",
        "    'tercero' : [0, 0, 0, 0, 0, 0, 1],\n",
        "}"
      ],
      "execution_count": null,
      "outputs": []
    },
    {
      "cell_type": "code",
      "metadata": {
        "id": "MoYV3gj1yObW"
      },
      "source": [
        "corpus_as_array = [x.replace(\".\", \"\").replace(\"¿\",\"\").replace(\"?\",\"\").lower().split(\" \") for x in corpus]"
      ],
      "execution_count": null,
      "outputs": []
    },
    {
      "cell_type": "code",
      "metadata": {
        "colab": {
          "base_uri": "https://localhost:8080/"
        },
        "id": "vcsGoWzsymYG",
        "outputId": "e6d34389-20ac-4666-b9b0-d4b69caa1c96"
      },
      "source": [
        "corpus_as_array"
      ],
      "execution_count": null,
      "outputs": [
        {
          "output_type": "execute_result",
          "data": {
            "text/plain": [
              "[['este', 'es', 'el', 'primer', 'documento'],\n",
              " ['este', 'documento', 'es', 'el', 'segundo', 'documento'],\n",
              " ['este', 'es', 'el', 'tercero'],\n",
              " ['es', 'este', 'el', 'primer', 'documento']]"
            ]
          },
          "metadata": {
            "tags": []
          },
          "execution_count": 129
        }
      ]
    },
    {
      "cell_type": "code",
      "metadata": {
        "colab": {
          "base_uri": "https://localhost:8080/"
        },
        "cellView": "form",
        "id": "1ppuquo9xf7p",
        "outputId": "cc7455df-422b-4452-bd3f-43c9580b0d3f"
      },
      "source": [
        "#@title\n",
        "one_hot_corpus = np.array([np.array([word_to_vector[x] for x in corpus_as_arrays[i]]) for i in range(0, len(corpus_as_arrays))])"
      ],
      "execution_count": null,
      "outputs": [
        {
          "output_type": "stream",
          "text": [
            "/usr/local/lib/python3.7/dist-packages/ipykernel_launcher.py:1: VisibleDeprecationWarning: Creating an ndarray from ragged nested sequences (which is a list-or-tuple of lists-or-tuples-or ndarrays with different lengths or shapes) is deprecated. If you meant to do this, you must specify 'dtype=object' when creating the ndarray\n",
            "  \"\"\"Entry point for launching an IPython kernel.\n"
          ],
          "name": "stderr"
        }
      ]
    },
    {
      "cell_type": "markdown",
      "metadata": {
        "id": "2o6mBxQ-9pOD"
      },
      "source": [
        "A cada palabra se le asigna un vector, la manera más sencilla es asignarle un vector que contenga 0's en todas las posiciones menos un 1 en la posición que corresponde con su índice en el diccionario."
      ]
    },
    {
      "cell_type": "code",
      "metadata": {
        "colab": {
          "base_uri": "https://localhost:8080/",
          "height": 269
        },
        "cellView": "form",
        "id": "oh0grhYi9soB",
        "outputId": "2b72c374-3492-4c31-a315-a2ff814adacb"
      },
      "source": [
        "#@title\n",
        "df_word_to_vector = pd.DataFrame(pd.Series(vectorizer.vocabulary_).sort_values(), columns=['indice'])\n",
        "df_word_to_vector['vector'] = pd.Series(word_to_vector)\n",
        "df_word_to_vector"
      ],
      "execution_count": null,
      "outputs": [
        {
          "output_type": "execute_result",
          "data": {
            "text/html": [
              "<div>\n",
              "<style scoped>\n",
              "    .dataframe tbody tr th:only-of-type {\n",
              "        vertical-align: middle;\n",
              "    }\n",
              "\n",
              "    .dataframe tbody tr th {\n",
              "        vertical-align: top;\n",
              "    }\n",
              "\n",
              "    .dataframe thead th {\n",
              "        text-align: right;\n",
              "    }\n",
              "</style>\n",
              "<table border=\"1\" class=\"dataframe\">\n",
              "  <thead>\n",
              "    <tr style=\"text-align: right;\">\n",
              "      <th></th>\n",
              "      <th>indice</th>\n",
              "      <th>vector</th>\n",
              "    </tr>\n",
              "  </thead>\n",
              "  <tbody>\n",
              "    <tr>\n",
              "      <th>documento</th>\n",
              "      <td>0</td>\n",
              "      <td>[1, 0, 0, 0, 0, 0, 0]</td>\n",
              "    </tr>\n",
              "    <tr>\n",
              "      <th>el</th>\n",
              "      <td>1</td>\n",
              "      <td>[0, 1, 0, 0, 0, 0, 0]</td>\n",
              "    </tr>\n",
              "    <tr>\n",
              "      <th>es</th>\n",
              "      <td>2</td>\n",
              "      <td>[0, 0, 1, 0, 0, 0, 0]</td>\n",
              "    </tr>\n",
              "    <tr>\n",
              "      <th>este</th>\n",
              "      <td>3</td>\n",
              "      <td>[0, 0, 0, 1, 0, 0, 0]</td>\n",
              "    </tr>\n",
              "    <tr>\n",
              "      <th>primer</th>\n",
              "      <td>4</td>\n",
              "      <td>[0, 0, 0, 0, 1, 0, 0]</td>\n",
              "    </tr>\n",
              "    <tr>\n",
              "      <th>segundo</th>\n",
              "      <td>5</td>\n",
              "      <td>[0, 0, 0, 0, 0, 1, 0]</td>\n",
              "    </tr>\n",
              "    <tr>\n",
              "      <th>tercero</th>\n",
              "      <td>6</td>\n",
              "      <td>[0, 0, 0, 0, 0, 0, 1]</td>\n",
              "    </tr>\n",
              "  </tbody>\n",
              "</table>\n",
              "</div>"
            ],
            "text/plain": [
              "           indice                 vector\n",
              "documento       0  [1, 0, 0, 0, 0, 0, 0]\n",
              "el              1  [0, 1, 0, 0, 0, 0, 0]\n",
              "es              2  [0, 0, 1, 0, 0, 0, 0]\n",
              "este            3  [0, 0, 0, 1, 0, 0, 0]\n",
              "primer          4  [0, 0, 0, 0, 1, 0, 0]\n",
              "segundo         5  [0, 0, 0, 0, 0, 1, 0]\n",
              "tercero         6  [0, 0, 0, 0, 0, 0, 1]"
            ]
          },
          "metadata": {
            "tags": []
          },
          "execution_count": 131
        }
      ]
    },
    {
      "cell_type": "markdown",
      "metadata": {
        "id": "0gVFDtmp_HSi"
      },
      "source": [
        "Hay que aplicarle la codificación anterior a cada una de las oraciones. Primero necesitamos llevar la frase a formato array separando cada una de las palabras. Y ya podemos mapear cada una de las palabras a su vector correspondiente.\n",
        "\n",
        "Este es el resultado:"
      ]
    },
    {
      "cell_type": "code",
      "metadata": {
        "colab": {
          "base_uri": "https://localhost:8080/",
          "height": 175
        },
        "cellView": "form",
        "id": "p89K3_NE3jFv",
        "outputId": "d2669d3f-48bf-46c5-d3db-c20307403377"
      },
      "source": [
        "#@title\n",
        "data = {\n",
        "    'sentence_as_array': corpus_as_array,\n",
        "    'one_hot_sentence': one_hot_corpus\n",
        "}\n",
        "\n",
        "df_one_hot = pd.DataFrame(data=data, index=corpus)\n",
        "df_one_hot"
      ],
      "execution_count": null,
      "outputs": [
        {
          "output_type": "execute_result",
          "data": {
            "text/html": [
              "<div>\n",
              "<style scoped>\n",
              "    .dataframe tbody tr th:only-of-type {\n",
              "        vertical-align: middle;\n",
              "    }\n",
              "\n",
              "    .dataframe tbody tr th {\n",
              "        vertical-align: top;\n",
              "    }\n",
              "\n",
              "    .dataframe thead th {\n",
              "        text-align: right;\n",
              "    }\n",
              "</style>\n",
              "<table border=\"1\" class=\"dataframe\">\n",
              "  <thead>\n",
              "    <tr style=\"text-align: right;\">\n",
              "      <th></th>\n",
              "      <th>sentence_as_array</th>\n",
              "      <th>one_hot_sentence</th>\n",
              "    </tr>\n",
              "  </thead>\n",
              "  <tbody>\n",
              "    <tr>\n",
              "      <th>Este es el primer documento.</th>\n",
              "      <td>[este, es, el, primer, documento]</td>\n",
              "      <td>[[0, 0, 0, 1, 0, 0, 0], [0, 0, 1, 0, 0, 0, 0],...</td>\n",
              "    </tr>\n",
              "    <tr>\n",
              "      <th>Este documento es el segundo documento.</th>\n",
              "      <td>[este, documento, es, el, segundo, documento]</td>\n",
              "      <td>[[0, 0, 0, 1, 0, 0, 0], [1, 0, 0, 0, 0, 0, 0],...</td>\n",
              "    </tr>\n",
              "    <tr>\n",
              "      <th>Este es el tercero.</th>\n",
              "      <td>[este, es, el, tercero]</td>\n",
              "      <td>[[0, 0, 0, 1, 0, 0, 0], [0, 0, 1, 0, 0, 0, 0],...</td>\n",
              "    </tr>\n",
              "    <tr>\n",
              "      <th>¿Es este el primer documento?</th>\n",
              "      <td>[es, este, el, primer, documento]</td>\n",
              "      <td>[[0, 0, 1, 0, 0, 0, 0], [0, 0, 0, 1, 0, 0, 0],...</td>\n",
              "    </tr>\n",
              "  </tbody>\n",
              "</table>\n",
              "</div>"
            ],
            "text/plain": [
              "                                                                     sentence_as_array                                   one_hot_sentence\n",
              "Este es el primer documento.                         [este, es, el, primer, documento]  [[0, 0, 0, 1, 0, 0, 0], [0, 0, 1, 0, 0, 0, 0],...\n",
              "Este documento es el segundo documento.  [este, documento, es, el, segundo, documento]  [[0, 0, 0, 1, 0, 0, 0], [1, 0, 0, 0, 0, 0, 0],...\n",
              "Este es el tercero.                                            [este, es, el, tercero]  [[0, 0, 0, 1, 0, 0, 0], [0, 0, 1, 0, 0, 0, 0],...\n",
              "¿Es este el primer documento?                        [es, este, el, primer, documento]  [[0, 0, 1, 0, 0, 0, 0], [0, 0, 0, 1, 0, 0, 0],..."
            ]
          },
          "metadata": {
            "tags": []
          },
          "execution_count": 132
        }
      ]
    },
    {
      "cell_type": "markdown",
      "metadata": {
        "id": "1Fz_O3p9AOpo"
      },
      "source": [
        "Lo que obtenemos ahora es una matriz de cada una de las sentencias, en la cual estamos teniendo en cuenta el orden en el que aparecen las palabras dentro de la misma.\n",
        "\n",
        "Frase 1:"
      ]
    },
    {
      "cell_type": "code",
      "metadata": {
        "colab": {
          "base_uri": "https://localhost:8080/",
          "height": 206
        },
        "cellView": "form",
        "id": "KVx8kzE15Qu7",
        "outputId": "8edf7921-d4eb-4e2b-e3d7-00ef236b909a"
      },
      "source": [
        "#@title\n",
        "pd.DataFrame(index=df_one_hot.loc[corpus[0],'sentence_as_array'],\n",
        "             data=df_one_hot.loc[corpus[0],'one_hot_sentence'],\n",
        "             columns=words)"
      ],
      "execution_count": null,
      "outputs": [
        {
          "output_type": "execute_result",
          "data": {
            "text/html": [
              "<div>\n",
              "<style scoped>\n",
              "    .dataframe tbody tr th:only-of-type {\n",
              "        vertical-align: middle;\n",
              "    }\n",
              "\n",
              "    .dataframe tbody tr th {\n",
              "        vertical-align: top;\n",
              "    }\n",
              "\n",
              "    .dataframe thead th {\n",
              "        text-align: right;\n",
              "    }\n",
              "</style>\n",
              "<table border=\"1\" class=\"dataframe\">\n",
              "  <thead>\n",
              "    <tr style=\"text-align: right;\">\n",
              "      <th></th>\n",
              "      <th>documento</th>\n",
              "      <th>el</th>\n",
              "      <th>es</th>\n",
              "      <th>este</th>\n",
              "      <th>primer</th>\n",
              "      <th>segundo</th>\n",
              "      <th>tercero</th>\n",
              "    </tr>\n",
              "  </thead>\n",
              "  <tbody>\n",
              "    <tr>\n",
              "      <th>este</th>\n",
              "      <td>0</td>\n",
              "      <td>0</td>\n",
              "      <td>0</td>\n",
              "      <td>1</td>\n",
              "      <td>0</td>\n",
              "      <td>0</td>\n",
              "      <td>0</td>\n",
              "    </tr>\n",
              "    <tr>\n",
              "      <th>es</th>\n",
              "      <td>0</td>\n",
              "      <td>0</td>\n",
              "      <td>1</td>\n",
              "      <td>0</td>\n",
              "      <td>0</td>\n",
              "      <td>0</td>\n",
              "      <td>0</td>\n",
              "    </tr>\n",
              "    <tr>\n",
              "      <th>el</th>\n",
              "      <td>0</td>\n",
              "      <td>1</td>\n",
              "      <td>0</td>\n",
              "      <td>0</td>\n",
              "      <td>0</td>\n",
              "      <td>0</td>\n",
              "      <td>0</td>\n",
              "    </tr>\n",
              "    <tr>\n",
              "      <th>primer</th>\n",
              "      <td>0</td>\n",
              "      <td>0</td>\n",
              "      <td>0</td>\n",
              "      <td>0</td>\n",
              "      <td>1</td>\n",
              "      <td>0</td>\n",
              "      <td>0</td>\n",
              "    </tr>\n",
              "    <tr>\n",
              "      <th>documento</th>\n",
              "      <td>1</td>\n",
              "      <td>0</td>\n",
              "      <td>0</td>\n",
              "      <td>0</td>\n",
              "      <td>0</td>\n",
              "      <td>0</td>\n",
              "      <td>0</td>\n",
              "    </tr>\n",
              "  </tbody>\n",
              "</table>\n",
              "</div>"
            ],
            "text/plain": [
              "           documento  el  es  este  primer  segundo  tercero\n",
              "este               0   0   0     1       0        0        0\n",
              "es                 0   0   1     0       0        0        0\n",
              "el                 0   1   0     0       0        0        0\n",
              "primer             0   0   0     0       1        0        0\n",
              "documento          1   0   0     0       0        0        0"
            ]
          },
          "metadata": {
            "tags": []
          },
          "execution_count": 141
        }
      ]
    },
    {
      "cell_type": "markdown",
      "metadata": {
        "id": "nDNsMzhaAiOy"
      },
      "source": [
        "Frase 2:"
      ]
    },
    {
      "cell_type": "code",
      "metadata": {
        "colab": {
          "base_uri": "https://localhost:8080/",
          "height": 238
        },
        "cellView": "form",
        "id": "dig_ZwMT6yDE",
        "outputId": "4e23ccb7-ddec-42cb-c511-55aafa72a946"
      },
      "source": [
        "#@title\n",
        "pd.DataFrame(index=df_one_hot.loc[corpus[1],'sentence_as_array'],\n",
        "             data=df_one_hot.loc[corpus[1],'one_hot_sentence'],\n",
        "             columns=words)"
      ],
      "execution_count": null,
      "outputs": [
        {
          "output_type": "execute_result",
          "data": {
            "text/html": [
              "<div>\n",
              "<style scoped>\n",
              "    .dataframe tbody tr th:only-of-type {\n",
              "        vertical-align: middle;\n",
              "    }\n",
              "\n",
              "    .dataframe tbody tr th {\n",
              "        vertical-align: top;\n",
              "    }\n",
              "\n",
              "    .dataframe thead th {\n",
              "        text-align: right;\n",
              "    }\n",
              "</style>\n",
              "<table border=\"1\" class=\"dataframe\">\n",
              "  <thead>\n",
              "    <tr style=\"text-align: right;\">\n",
              "      <th></th>\n",
              "      <th>documento</th>\n",
              "      <th>el</th>\n",
              "      <th>es</th>\n",
              "      <th>este</th>\n",
              "      <th>primer</th>\n",
              "      <th>segundo</th>\n",
              "      <th>tercero</th>\n",
              "    </tr>\n",
              "  </thead>\n",
              "  <tbody>\n",
              "    <tr>\n",
              "      <th>este</th>\n",
              "      <td>0</td>\n",
              "      <td>0</td>\n",
              "      <td>0</td>\n",
              "      <td>1</td>\n",
              "      <td>0</td>\n",
              "      <td>0</td>\n",
              "      <td>0</td>\n",
              "    </tr>\n",
              "    <tr>\n",
              "      <th>documento</th>\n",
              "      <td>1</td>\n",
              "      <td>0</td>\n",
              "      <td>0</td>\n",
              "      <td>0</td>\n",
              "      <td>0</td>\n",
              "      <td>0</td>\n",
              "      <td>0</td>\n",
              "    </tr>\n",
              "    <tr>\n",
              "      <th>es</th>\n",
              "      <td>0</td>\n",
              "      <td>0</td>\n",
              "      <td>1</td>\n",
              "      <td>0</td>\n",
              "      <td>0</td>\n",
              "      <td>0</td>\n",
              "      <td>0</td>\n",
              "    </tr>\n",
              "    <tr>\n",
              "      <th>el</th>\n",
              "      <td>0</td>\n",
              "      <td>1</td>\n",
              "      <td>0</td>\n",
              "      <td>0</td>\n",
              "      <td>0</td>\n",
              "      <td>0</td>\n",
              "      <td>0</td>\n",
              "    </tr>\n",
              "    <tr>\n",
              "      <th>segundo</th>\n",
              "      <td>0</td>\n",
              "      <td>0</td>\n",
              "      <td>0</td>\n",
              "      <td>0</td>\n",
              "      <td>0</td>\n",
              "      <td>1</td>\n",
              "      <td>0</td>\n",
              "    </tr>\n",
              "    <tr>\n",
              "      <th>documento</th>\n",
              "      <td>1</td>\n",
              "      <td>0</td>\n",
              "      <td>0</td>\n",
              "      <td>0</td>\n",
              "      <td>0</td>\n",
              "      <td>0</td>\n",
              "      <td>0</td>\n",
              "    </tr>\n",
              "  </tbody>\n",
              "</table>\n",
              "</div>"
            ],
            "text/plain": [
              "           documento  el  es  este  primer  segundo  tercero\n",
              "este               0   0   0     1       0        0        0\n",
              "documento          1   0   0     0       0        0        0\n",
              "es                 0   0   1     0       0        0        0\n",
              "el                 0   1   0     0       0        0        0\n",
              "segundo            0   0   0     0       0        1        0\n",
              "documento          1   0   0     0       0        0        0"
            ]
          },
          "metadata": {
            "tags": []
          },
          "execution_count": 134
        }
      ]
    },
    {
      "cell_type": "markdown",
      "metadata": {
        "id": "GBYxhRTpA_g3"
      },
      "source": [
        "Para asegurar que las matrices asociadas a cada frase tienen el mismo número de filas, habría que rellenar con un placeholder (vector con todo 0's) aquellas frases de menor longitud tantas filas cómo sea la longitud de la frase más larga.\n",
        "Para el caso anterior quedaría así:\n"
      ]
    },
    {
      "cell_type": "code",
      "metadata": {
        "id": "1gKRQ-mcB-dr"
      },
      "source": [
        "placeholder = pd.DataFrame({'*': [0, 0, 0, 0, 0, 0, 0]}, index=words).T"
      ],
      "execution_count": null,
      "outputs": []
    },
    {
      "cell_type": "code",
      "metadata": {
        "colab": {
          "base_uri": "https://localhost:8080/",
          "height": 238
        },
        "cellView": "form",
        "id": "IuvZ9ELvCmFC",
        "outputId": "de028637-f682-4f00-9f67-68e9ec8b7cb0"
      },
      "source": [
        "#@title\n",
        "pd.DataFrame(index=df_one_hot.loc[corpus[0],'sentence_as_array'],\n",
        "             data=df_one_hot.loc[corpus[0],'one_hot_sentence'],\n",
        "             columns=words).append(placeholder)"
      ],
      "execution_count": null,
      "outputs": [
        {
          "output_type": "execute_result",
          "data": {
            "text/html": [
              "<div>\n",
              "<style scoped>\n",
              "    .dataframe tbody tr th:only-of-type {\n",
              "        vertical-align: middle;\n",
              "    }\n",
              "\n",
              "    .dataframe tbody tr th {\n",
              "        vertical-align: top;\n",
              "    }\n",
              "\n",
              "    .dataframe thead th {\n",
              "        text-align: right;\n",
              "    }\n",
              "</style>\n",
              "<table border=\"1\" class=\"dataframe\">\n",
              "  <thead>\n",
              "    <tr style=\"text-align: right;\">\n",
              "      <th></th>\n",
              "      <th>documento</th>\n",
              "      <th>el</th>\n",
              "      <th>es</th>\n",
              "      <th>este</th>\n",
              "      <th>primer</th>\n",
              "      <th>segundo</th>\n",
              "      <th>tercero</th>\n",
              "    </tr>\n",
              "  </thead>\n",
              "  <tbody>\n",
              "    <tr>\n",
              "      <th>este</th>\n",
              "      <td>0</td>\n",
              "      <td>0</td>\n",
              "      <td>0</td>\n",
              "      <td>1</td>\n",
              "      <td>0</td>\n",
              "      <td>0</td>\n",
              "      <td>0</td>\n",
              "    </tr>\n",
              "    <tr>\n",
              "      <th>es</th>\n",
              "      <td>0</td>\n",
              "      <td>0</td>\n",
              "      <td>1</td>\n",
              "      <td>0</td>\n",
              "      <td>0</td>\n",
              "      <td>0</td>\n",
              "      <td>0</td>\n",
              "    </tr>\n",
              "    <tr>\n",
              "      <th>el</th>\n",
              "      <td>0</td>\n",
              "      <td>1</td>\n",
              "      <td>0</td>\n",
              "      <td>0</td>\n",
              "      <td>0</td>\n",
              "      <td>0</td>\n",
              "      <td>0</td>\n",
              "    </tr>\n",
              "    <tr>\n",
              "      <th>primer</th>\n",
              "      <td>0</td>\n",
              "      <td>0</td>\n",
              "      <td>0</td>\n",
              "      <td>0</td>\n",
              "      <td>1</td>\n",
              "      <td>0</td>\n",
              "      <td>0</td>\n",
              "    </tr>\n",
              "    <tr>\n",
              "      <th>documento</th>\n",
              "      <td>1</td>\n",
              "      <td>0</td>\n",
              "      <td>0</td>\n",
              "      <td>0</td>\n",
              "      <td>0</td>\n",
              "      <td>0</td>\n",
              "      <td>0</td>\n",
              "    </tr>\n",
              "    <tr>\n",
              "      <th>*</th>\n",
              "      <td>0</td>\n",
              "      <td>0</td>\n",
              "      <td>0</td>\n",
              "      <td>0</td>\n",
              "      <td>0</td>\n",
              "      <td>0</td>\n",
              "      <td>0</td>\n",
              "    </tr>\n",
              "  </tbody>\n",
              "</table>\n",
              "</div>"
            ],
            "text/plain": [
              "           documento  el  es  este  primer  segundo  tercero\n",
              "este               0   0   0     1       0        0        0\n",
              "es                 0   0   1     0       0        0        0\n",
              "el                 0   1   0     0       0        0        0\n",
              "primer             0   0   0     0       1        0        0\n",
              "documento          1   0   0     0       0        0        0\n",
              "*                  0   0   0     0       0        0        0"
            ]
          },
          "metadata": {
            "tags": []
          },
          "execution_count": 143
        }
      ]
    },
    {
      "cell_type": "markdown",
      "metadata": {
        "id": "-dcSAQOUFsE1"
      },
      "source": [
        "## Index based encoding"
      ]
    },
    {
      "cell_type": "code",
      "metadata": {
        "id": "4T45YXCVGeYn"
      },
      "source": [
        "Esta es quizás la manera más intuitiva de codificar una sentencia teniendo en cuenta el orden de las palabras.\n",
        "Basta con asignar la palabra a su indice en el diccionario."
      ],
      "execution_count": null,
      "outputs": []
    },
    {
      "cell_type": "code",
      "metadata": {
        "colab": {
          "base_uri": "https://localhost:8080/",
          "height": 269
        },
        "id": "LytRHoyfG9WM",
        "outputId": "3ee791af-bdef-47d7-fdc1-3fbf5cfa6f03"
      },
      "source": [
        "pd.DataFrame(pd.Series(vectorizer.vocabulary_).sort_values(), columns=['indice'])"
      ],
      "execution_count": null,
      "outputs": [
        {
          "output_type": "execute_result",
          "data": {
            "text/html": [
              "<div>\n",
              "<style scoped>\n",
              "    .dataframe tbody tr th:only-of-type {\n",
              "        vertical-align: middle;\n",
              "    }\n",
              "\n",
              "    .dataframe tbody tr th {\n",
              "        vertical-align: top;\n",
              "    }\n",
              "\n",
              "    .dataframe thead th {\n",
              "        text-align: right;\n",
              "    }\n",
              "</style>\n",
              "<table border=\"1\" class=\"dataframe\">\n",
              "  <thead>\n",
              "    <tr style=\"text-align: right;\">\n",
              "      <th></th>\n",
              "      <th>indice</th>\n",
              "    </tr>\n",
              "  </thead>\n",
              "  <tbody>\n",
              "    <tr>\n",
              "      <th>documento</th>\n",
              "      <td>0</td>\n",
              "    </tr>\n",
              "    <tr>\n",
              "      <th>el</th>\n",
              "      <td>1</td>\n",
              "    </tr>\n",
              "    <tr>\n",
              "      <th>es</th>\n",
              "      <td>2</td>\n",
              "    </tr>\n",
              "    <tr>\n",
              "      <th>este</th>\n",
              "      <td>3</td>\n",
              "    </tr>\n",
              "    <tr>\n",
              "      <th>primer</th>\n",
              "      <td>4</td>\n",
              "    </tr>\n",
              "    <tr>\n",
              "      <th>segundo</th>\n",
              "      <td>5</td>\n",
              "    </tr>\n",
              "    <tr>\n",
              "      <th>tercero</th>\n",
              "      <td>6</td>\n",
              "    </tr>\n",
              "  </tbody>\n",
              "</table>\n",
              "</div>"
            ],
            "text/plain": [
              "           indice\n",
              "documento       0\n",
              "el              1\n",
              "es              2\n",
              "este            3\n",
              "primer          4\n",
              "segundo         5\n",
              "tercero         6"
            ]
          },
          "metadata": {
            "tags": []
          },
          "execution_count": 146
        }
      ]
    },
    {
      "cell_type": "markdown",
      "metadata": {
        "id": "FEoITpRdHW5P"
      },
      "source": [
        "Quedaría así:\n"
      ]
    },
    {
      "cell_type": "code",
      "metadata": {
        "colab": {
          "base_uri": "https://localhost:8080/"
        },
        "id": "FSOrmFBvHsZO",
        "outputId": "26bbd2b1-9fd2-46eb-c3c2-bf41341aa9ee"
      },
      "source": [
        "index_based_corpus = np.array([np.array([vectorizer.vocabulary_[x] for x in corpus_as_arrays[i]]) for i in range(0, len(corpus_as_arrays))])"
      ],
      "execution_count": null,
      "outputs": [
        {
          "output_type": "stream",
          "text": [
            "/usr/local/lib/python3.7/dist-packages/ipykernel_launcher.py:1: VisibleDeprecationWarning: Creating an ndarray from ragged nested sequences (which is a list-or-tuple of lists-or-tuples-or ndarrays with different lengths or shapes) is deprecated. If you meant to do this, you must specify 'dtype=object' when creating the ndarray\n",
            "  \"\"\"Entry point for launching an IPython kernel.\n"
          ],
          "name": "stderr"
        }
      ]
    },
    {
      "cell_type": "code",
      "metadata": {
        "colab": {
          "base_uri": "https://localhost:8080/",
          "height": 175
        },
        "cellView": "form",
        "id": "3OWhiPRjH1NO",
        "outputId": "7abaddbf-9d7c-4508-d1c4-57e2e7038049"
      },
      "source": [
        "#@title\n",
        "data = {\n",
        "    'sentence_as_array': corpus_as_array,\n",
        "    'index_based_sentence': index_based_corpus\n",
        "}\n",
        "\n",
        "pd.DataFrame(data, index=corpus)"
      ],
      "execution_count": null,
      "outputs": [
        {
          "output_type": "execute_result",
          "data": {
            "text/html": [
              "<div>\n",
              "<style scoped>\n",
              "    .dataframe tbody tr th:only-of-type {\n",
              "        vertical-align: middle;\n",
              "    }\n",
              "\n",
              "    .dataframe tbody tr th {\n",
              "        vertical-align: top;\n",
              "    }\n",
              "\n",
              "    .dataframe thead th {\n",
              "        text-align: right;\n",
              "    }\n",
              "</style>\n",
              "<table border=\"1\" class=\"dataframe\">\n",
              "  <thead>\n",
              "    <tr style=\"text-align: right;\">\n",
              "      <th></th>\n",
              "      <th>sentence_as_array</th>\n",
              "      <th>index_based_sentence</th>\n",
              "    </tr>\n",
              "  </thead>\n",
              "  <tbody>\n",
              "    <tr>\n",
              "      <th>Este es el primer documento.</th>\n",
              "      <td>[este, es, el, primer, documento]</td>\n",
              "      <td>[3, 2, 1, 4, 0]</td>\n",
              "    </tr>\n",
              "    <tr>\n",
              "      <th>Este documento es el segundo documento.</th>\n",
              "      <td>[este, documento, es, el, segundo, documento]</td>\n",
              "      <td>[3, 0, 2, 1, 5, 0]</td>\n",
              "    </tr>\n",
              "    <tr>\n",
              "      <th>Este es el tercero.</th>\n",
              "      <td>[este, es, el, tercero]</td>\n",
              "      <td>[3, 2, 1, 6]</td>\n",
              "    </tr>\n",
              "    <tr>\n",
              "      <th>¿Es este el primer documento?</th>\n",
              "      <td>[es, este, el, primer, documento]</td>\n",
              "      <td>[2, 3, 1, 4, 0]</td>\n",
              "    </tr>\n",
              "  </tbody>\n",
              "</table>\n",
              "</div>"
            ],
            "text/plain": [
              "                                                                     sentence_as_array index_based_sentence\n",
              "Este es el primer documento.                         [este, es, el, primer, documento]      [3, 2, 1, 4, 0]\n",
              "Este documento es el segundo documento.  [este, documento, es, el, segundo, documento]   [3, 0, 2, 1, 5, 0]\n",
              "Este es el tercero.                                            [este, es, el, tercero]         [3, 2, 1, 6]\n",
              "¿Es este el primer documento?                        [es, este, el, primer, documento]      [2, 3, 1, 4, 0]"
            ]
          },
          "metadata": {
            "tags": []
          },
          "execution_count": 155
        }
      ]
    },
    {
      "cell_type": "markdown",
      "metadata": {
        "id": "sB_ZtTUSId7Z"
      },
      "source": [
        "Para asegurar que los vectores tengan el mismo tamaño se suele reservar el indice 0 del vocabulario (empezando este en 1) para rellenar el vector y completar hasta que todos los vectores sean de igual longitud.\n",
        "\n",
        "El problema de esta codificación es que introduce una distancia numérica entre los textos que realmente no existe. Y por lo tanto no es muy recomendable su utilización."
      ]
    },
    {
      "cell_type": "markdown",
      "metadata": {
        "id": "1F6EztOYMfuI"
      },
      "source": [
        "## Word Embeddings\n",
        "\n",
        "Word embeddings son un conjunto de técnicas de procesamiento del lenguaje natural que lo que permiten es mapear el significado semántico de las palabras en un espacio geométrico."
      ]
    }
  ]
}
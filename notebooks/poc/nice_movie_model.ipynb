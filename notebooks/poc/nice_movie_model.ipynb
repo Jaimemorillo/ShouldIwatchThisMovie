{
 "nbformat": 4,
 "nbformat_minor": 0,
 "metadata": {
  "colab": {
   "name": "nice-movie-model.ipynb",
   "version": "0.3.2",
   "provenance": [],
   "collapsed_sections": [],
   "include_colab_link": true
  },
  "kernelspec": {
   "name": "python3",
   "language": "python",
   "display_name": "Python 3"
  },
  "accelerator": "GPU"
 },
 "cells": [
  {
   "cell_type": "markdown",
   "metadata": {
    "id": "view-in-github",
    "colab_type": "text"
   },
   "source": [
    "<a href=\"https://colab.research.google.com/github/Jaimemorillo/ShouldIwatchThisMovie/blob/master/nice_movie_model.ipynb\" target=\"_parent\"><img src=\"https://colab.research.google.com/assets/colab-badge.svg\" alt=\"Open In Colab\"/></a>"
   ]
  },
  {
   "metadata": {
    "id": "X4FsDixDIzQ9",
    "colab_type": "code",
    "outputId": "9be82a42-9ce3-4633-d8f6-6549d0afe7a1",
    "colab": {
     "base_uri": "https://localhost:8080/",
     "height": 54
    }
   },
   "cell_type": "code",
   "source": [
    "from google.colab import drive\n",
    "drive.mount('/content/gdrive')"
   ],
   "execution_count": 48,
   "outputs": [
    {
     "output_type": "stream",
     "text": [
      "Drive already mounted at /content/gdrive; to attempt to forcibly remount, call drive.mount(\"/content/gdrive\", force_remount=True).\n"
     ],
     "name": "stdout"
    }
   ]
  },
  {
   "metadata": {
    "id": "rl4LFkMQoya5",
    "colab_type": "code",
    "outputId": "0543d69f-a8de-47c6-a6f7-c5e0e33a7564",
    "colab": {
     "base_uri": "https://localhost:8080/",
     "height": 868
    }
   },
   "cell_type": "code",
   "source": [
    "import pandas as pd\n",
    "import tensorflow as tf\n",
    "import time\n",
    "import numpy as np\n",
    "import json\n",
    "import nltk\n",
    "\n",
    "nltk.download(\"popular\")\n",
    "print(tf.__version__)"
   ],
   "execution_count": 49,
   "outputs": [
    {
     "output_type": "stream",
     "text": [
      "[nltk_data] Downloading collection 'popular'\n",
      "[nltk_data]    | \n",
      "[nltk_data]    | Downloading package cmudict to /root/nltk_data...\n",
      "[nltk_data]    |   Package cmudict is already up-to-date!\n",
      "[nltk_data]    | Downloading package gazetteers to /root/nltk_data...\n",
      "[nltk_data]    |   Package gazetteers is already up-to-date!\n",
      "[nltk_data]    | Downloading package genesis to /root/nltk_data...\n",
      "[nltk_data]    |   Package genesis is already up-to-date!\n",
      "[nltk_data]    | Downloading package gutenberg to /root/nltk_data...\n",
      "[nltk_data]    |   Package gutenberg is already up-to-date!\n",
      "[nltk_data]    | Downloading package inaugural to /root/nltk_data...\n",
      "[nltk_data]    |   Package inaugural is already up-to-date!\n",
      "[nltk_data]    | Downloading package movie_reviews to\n",
      "[nltk_data]    |     /root/nltk_data...\n",
      "[nltk_data]    |   Package movie_reviews is already up-to-date!\n",
      "[nltk_data]    | Downloading package names to /root/nltk_data...\n",
      "[nltk_data]    |   Package names is already up-to-date!\n",
      "[nltk_data]    | Downloading package shakespeare to /root/nltk_data...\n",
      "[nltk_data]    |   Package shakespeare is already up-to-date!\n",
      "[nltk_data]    | Downloading package stopwords to /root/nltk_data...\n",
      "[nltk_data]    |   Package stopwords is already up-to-date!\n",
      "[nltk_data]    | Downloading package treebank to /root/nltk_data...\n",
      "[nltk_data]    |   Package treebank is already up-to-date!\n",
      "[nltk_data]    | Downloading package twitter_samples to\n",
      "[nltk_data]    |     /root/nltk_data...\n",
      "[nltk_data]    |   Package twitter_samples is already up-to-date!\n",
      "[nltk_data]    | Downloading package omw to /root/nltk_data...\n",
      "[nltk_data]    |   Package omw is already up-to-date!\n",
      "[nltk_data]    | Downloading package wordnet to /root/nltk_data...\n",
      "[nltk_data]    |   Package wordnet is already up-to-date!\n",
      "[nltk_data]    | Downloading package wordnet_ic to /root/nltk_data...\n",
      "[nltk_data]    |   Package wordnet_ic is already up-to-date!\n",
      "[nltk_data]    | Downloading package words to /root/nltk_data...\n",
      "[nltk_data]    |   Package words is already up-to-date!\n",
      "[nltk_data]    | Downloading package maxent_ne_chunker to\n",
      "[nltk_data]    |     /root/nltk_data...\n",
      "[nltk_data]    |   Package maxent_ne_chunker is already up-to-date!\n",
      "[nltk_data]    | Downloading package punkt to /root/nltk_data...\n",
      "[nltk_data]    |   Package punkt is already up-to-date!\n",
      "[nltk_data]    | Downloading package snowball_data to\n",
      "[nltk_data]    |     /root/nltk_data...\n",
      "[nltk_data]    |   Package snowball_data is already up-to-date!\n",
      "[nltk_data]    | Downloading package averaged_perceptron_tagger to\n",
      "[nltk_data]    |     /root/nltk_data...\n",
      "[nltk_data]    |   Package averaged_perceptron_tagger is already up-\n",
      "[nltk_data]    |       to-date!\n",
      "[nltk_data]    | \n",
      "[nltk_data]  Done downloading collection popular\n",
      "1.13.1\n"
     ],
     "name": "stdout"
    }
   ]
  },
  {
   "metadata": {
    "id": "T1urQMU5YkEC",
    "colab_type": "code",
    "colab": {}
   },
   "cell_type": "code",
   "source": [
    "dataover = pd.read_csv(\"gdrive/My Drive/TFG/tmdb_spanish_overview.csv\",sep='#',lineterminator='\\n')\n",
    "taste = pd.read_csv(\"gdrive/My Drive/TFG/tmdb_spanish_Jaime2.csv\",sep=';', encoding='utf-8')\n",
    "credits = pd.read_csv(\"gdrive/My Drive/TFG/tmdb_5000_credits.csv\")"
   ],
   "execution_count": 0,
   "outputs": []
  },
  {
   "metadata": {
    "id": "_ZKXfq0GiJq6",
    "colab_type": "code",
    "colab": {}
   },
   "cell_type": "code",
   "source": [
    "taste = taste[~taste['id'].str.contains('/')]\n",
    "taste['id'] = taste['id'].astype(int)\n",
    "credits['movie_id'] = credits['movie_id'].astype(int)"
   ],
   "execution_count": 0,
   "outputs": []
  },
  {
   "metadata": {
    "id": "D4mTpGIoaAq1",
    "colab_type": "code",
    "colab": {}
   },
   "cell_type": "code",
   "source": [
    "# Merge taste and credits\n",
    "\n",
    "data = taste.merge(dataover[['id','overview']], left_on='id', right_on='id')\n",
    "data = data.merge(credits[['movie_id','cast','crew']], left_on='id', right_on='movie_id')\n",
    "data.drop(['movie_id'],axis=1, inplace= True)"
   ],
   "execution_count": 0,
   "outputs": []
  },
  {
   "metadata": {
    "id": "lhpyV6W4gXPh",
    "colab_type": "code",
    "outputId": "bf759b3b-75c0-4175-fd87-dd77980fed91",
    "colab": {
     "base_uri": "https://localhost:8080/",
     "height": 34
    }
   },
   "cell_type": "code",
   "source": [
    "data = data[~pd.isna(data.overview)]\n",
    "len(data)"
   ],
   "execution_count": 0,
   "outputs": [
    {
     "output_type": "execute_result",
     "data": {
      "text/plain": [
       "4406"
      ]
     },
     "metadata": {
      "tags": []
     },
     "execution_count": 6
    }
   ]
  },
  {
   "metadata": {
    "id": "0zId8PUhkQX0",
    "colab_type": "code",
    "outputId": "55dd62db-a0b2-4128-bbb6-c9ec489f2976",
    "colab": {
     "base_uri": "https://localhost:8080/",
     "height": 34
    }
   },
   "cell_type": "code",
   "source": [
    "data = data.dropna(subset=['like'])\n",
    "data['like'] = data['like'].astype(int)\n",
    "data.reset_index(inplace=True,drop=True)\n",
    "len(data)"
   ],
   "execution_count": 0,
   "outputs": [
    {
     "output_type": "execute_result",
     "data": {
      "text/plain": [
       "816"
      ]
     },
     "metadata": {
      "tags": []
     },
     "execution_count": 7
    }
   ]
  },
  {
   "metadata": {
    "id": "-l7_kcrl_Iv4",
    "colab_type": "code",
    "colab": {}
   },
   "cell_type": "code",
   "source": [
    "# Clean overviews ver que ocurre con deadpool y deadpool 2 \n",
    "\n",
    "import string\n",
    "\n",
    "stop_words = pd.read_csv(\"gdrive/My Drive/TFG/stopwords-es.txt\",header=None)\n",
    "stop_words = stop_words[0].tolist() + ['secuela']\n",
    "\n",
    "def normalize(s):\n",
    "    replacements = (\n",
    "        (\"á\", \"a\"),\n",
    "        (\"é\", \"e\"),\n",
    "        (\"í\", \"i\"),\n",
    "        (\"ó\", \"o\"),\n",
    "        (\"ú\", \"u\"),\n",
    "    )\n",
    "    for a, b in replacements:\n",
    "        s = s.replace(a, b).replace(a.upper(), b.upper())\n",
    "    return s\n",
    "\n",
    "def clean_overview(x):\n",
    "    x = normalize(x.lower())\n",
    "    x = x.translate(str.maketrans('','',string.punctuation))\n",
    "    x = x.translate(str.maketrans('','','1234567890ªº'))\n",
    "    return x\n",
    "\n",
    "def delete_stop_words(x):\n",
    "    words = x.split(' ')\n",
    "    words = [word for word in words if word not in stop_words]\n",
    "    x = str(' '.join(words))\n",
    "    return x\n"
   ],
   "execution_count": 0,
   "outputs": []
  },
  {
   "metadata": {
    "id": "hSEAKnpeVyfk",
    "colab_type": "code",
    "colab": {}
   },
   "cell_type": "code",
   "source": [
    "# Steaming overview\n",
    "\n",
    "from nltk import word_tokenize\n",
    "from nltk.stem import SnowballStemmer\n",
    "\n",
    "stemmer = SnowballStemmer(\"spanish\", ignore_stopwords=True)\n",
    "\n",
    "def stem_sentence(sentence):\n",
    "    stemmed_text = [stemmer.stem(word) for word in word_tokenize(sentence)]\n",
    "    return \" \".join(stemmed_text)\n",
    "  "
   ],
   "execution_count": 0,
   "outputs": []
  },
  {
   "metadata": {
    "id": "FR0ULnEis-uV",
    "colab_type": "code",
    "colab": {}
   },
   "cell_type": "code",
   "source": [
    "data['overview']=data['overview'].apply(lambda x: clean_overview(str(x)))\n",
    "#data['overview']=data['overview'].apply(lambda x: delete_stop_words(x))"
   ],
   "execution_count": 0,
   "outputs": []
  },
  {
   "metadata": {
    "id": "3UE-Dc9MWMS2",
    "colab_type": "code",
    "colab": {}
   },
   "cell_type": "code",
   "source": [
    "#data['overview']=data['overview'].apply(lambda x: stem_sentence(x))\n",
    "#data['overview']=data['overview'].apply(lambda x: delete_stop_words(x))"
   ],
   "execution_count": 0,
   "outputs": []
  },
  {
   "metadata": {
    "id": "3D5xiv1eRzQ1",
    "colab_type": "code",
    "colab": {}
   },
   "cell_type": "code",
   "source": [
    "# Get staff and paste to overview\n",
    "\n",
    "def get_actors(cast):\n",
    "  \n",
    "  try:\n",
    "    \n",
    "    json_cast = json.loads(cast)\n",
    "  \n",
    "  except:\n",
    "    \n",
    "    json_cast = cast\n",
    "  \n",
    "  if len(json_cast) > 2:\n",
    "    up = 3\n",
    "  else:\n",
    "    up = len(json_cast)\n",
    "\n",
    "  actors = ''\n",
    "  \n",
    "  for i in range(0,up):\n",
    "    actor = json_cast[i]['name']\n",
    "    actor = normalize(actor.replace(' ','_').lower())\n",
    "  \n",
    "    actors = actors + ' ' + actor\n",
    "  \n",
    "  return actors\n",
    "\n",
    "def get_director(crew):\n",
    "  \n",
    "  try:\n",
    "    \n",
    "    json_crew = json.loads(crew)\n",
    "  \n",
    "  except:\n",
    "    \n",
    "    json_crew = crew\n",
    "  \n",
    "  directors = [member['name'] for member in json_crew if member['job'] == 'Director']\n",
    "  directors = [normalize(director.replace(' ','_').lower()) for director in directors]\n",
    "  directors = str(' '.join(directors))\n",
    "  \n",
    "  return directors"
   ],
   "execution_count": 0,
   "outputs": []
  },
  {
   "metadata": {
    "id": "urmPevCVtAgS",
    "colab_type": "code",
    "colab": {}
   },
   "cell_type": "code",
   "source": [
    "data['overview']=data.apply(lambda x: get_actors(x['cast']) + ' ' + x['overview'] , axis=1)\n",
    "data['overview']=data.apply(lambda x: get_director(x['crew']) + x['overview'] , axis=1)"
   ],
   "execution_count": 0,
   "outputs": []
  },
  {
   "metadata": {
    "id": "qTjFRkmtz-JU",
    "colab_type": "code",
    "outputId": "c02b2e2b-0573-44aa-c120-e5e33dc331f4",
    "colab": {
     "base_uri": "https://localhost:8080/",
     "height": 54
    }
   },
   "cell_type": "code",
   "source": [
    "data['overview'][0]"
   ],
   "execution_count": 0,
   "outputs": [
    {
     "output_type": "execute_result",
     "data": {
      "text/plain": [
       "'george_lucas mark_hamill harrison_ford carrie_fisher la princesa leia lider del movimiento rebelde que desea reinstaurar la republica en la galaxia en los tiempos ominosos del imperio es capturada por las malevolas fuerzas imperiales capitaneadas por el implacable darth vader el sirviente mas fiel del emperador el intrepido luke skywalker ayudado por han solo capitan de la nave espacial el halcon milenario y los androides rd y cpo seran los encargados de luchar contra el enemigo y rescatar a la princesa para volver a instaurar la justicia en el seno de la galaxia'"
      ]
     },
     "metadata": {
      "tags": []
     },
     "execution_count": 14
    }
   ]
  },
  {
   "metadata": {
    "id": "mwp9UDLvh5Kw",
    "colab_type": "code",
    "colab": {}
   },
   "cell_type": "code",
   "source": [
    "from sklearn.model_selection import train_test_split\n",
    "\n",
    "overviews = data['overview'].values\n",
    "y = data['like'].values\n",
    "\n",
    "overviews_train, overviews_test, y_train, y_test = train_test_split(overviews, y, test_size=0.15, stratify=y)"
   ],
   "execution_count": 0,
   "outputs": []
  },
  {
   "metadata": {
    "id": "j5pooRddATyH",
    "colab_type": "code",
    "colab": {}
   },
   "cell_type": "code",
   "source": [
    "columns_train = {'Overview': overviews_train, 'Like': y_train}\n",
    "train = pd.DataFrame(data=columns_train)\n",
    "train.to_csv('train' + '.csv', sep=';', encoding='utf-8', index=False)\n",
    "\n",
    "columns_test = {'Comment': overviews_test, 'Like': y_test}\n",
    "test = pd.DataFrame(data=columns_test)\n",
    "test.to_csv('test' + '.csv', sep=';', encoding='utf-8', index=False)"
   ],
   "execution_count": 0,
   "outputs": []
  },
  {
   "metadata": {
    "id": "1APEOOWyi-gO",
    "colab_type": "code",
    "colab": {}
   },
   "cell_type": "code",
   "source": [
    "# Embedding\n",
    "num_words = 12000\n",
    "maxlen = 180\n",
    "embedding_size = 300\n",
    "\n",
    "# Convolution\n",
    "kernel_size = 5\n",
    "filters = 300\n",
    "pool_size = 2\n",
    "\n",
    "hidden_dims = 300\n",
    "\n",
    "\n",
    "# LSTM\n",
    "lstm_output_size = 70\n",
    "\n",
    "# Training\n",
    "lr=0.0005\n",
    "#lr=0.0001"
   ],
   "execution_count": 0,
   "outputs": []
  },
  {
   "metadata": {
    "id": "lBLAw0i0i5j3",
    "colab_type": "code",
    "outputId": "52b0b26f-b401-4928-8c5f-5edefef9fe60",
    "colab": {
     "base_uri": "https://localhost:8080/",
     "height": 106
    }
   },
   "cell_type": "code",
   "source": [
    "from tensorflow.keras.preprocessing.text import Tokenizer\n",
    "\n",
    "tokenizer = Tokenizer(num_words) \n",
    "tokenizer.fit_on_texts(overviews_train)\n",
    "\n",
    "X_train = tokenizer.texts_to_sequences(overviews_train) \n",
    "X_test = tokenizer.texts_to_sequences(overviews_test)\n",
    "\n",
    "vocab_size = len(tokenizer.word_index) + 1 # Adding 1 because of reserved 0 index\n",
    "\n",
    "print(overviews_train[2]) \n",
    "print(X_train[2]) \n",
    "print(vocab_size)\n",
    "len(max(X_train, key=len))"
   ],
   "execution_count": 0,
   "outputs": [
    {
     "output_type": "stream",
     "text": [
      "andrew_adamson kelly_asbury conrad_vernon mike_myers eddie_murphy cameron_diaz cuando shrek y la princesa fiona regresan de su luna de miel los padres de ella los invitan a visitar el reino de muy muy lejano para celebrar la boda para shrek al que nunca abandona su fiel amigo asno esto constituye un gran problema los padres de fiona por su parte no esperaban que su yerno tuviera un aspecto semejante y mucho menos que su hija hubiera cambiado tanto todo esto trastoca los planes del rey respecto al futuro del reino pero entonces entran en escena la maquiavelica hada madrina su arrogante hijo el principe encantador y un minino muy especial el gato con botas experto cazador de ogros\n",
      "[453, 2499, 725, 5493, 1888, 1889, 357, 1256, 632, 382, 633, 931, 23, 577, 6, 2, 524, 817, 2500, 1, 9, 932, 1, 3470, 11, 182, 1, 99, 11, 5494, 5, 2501, 4, 383, 1, 54, 54, 726, 15, 5495, 2, 818, 15, 577, 19, 3, 268, 3471, 9, 1257, 96, 3472, 525, 5496, 8, 62, 454, 11, 182, 1, 817, 16, 9, 111, 22, 3473, 3, 9, 5497, 2490, 8, 1890, 5498, 6, 162, 384, 3, 9, 116, 2502, 1497, 122, 33, 525, 3474, 11, 455, 14, 232, 3475, 19, 155, 14, 383, 21, 123, 2503, 7, 2504, 2, 5499, 3476, 5500, 9, 1891, 100, 4, 526, 1892, 6, 8, 5501, 54, 269, 4, 578, 13, 1498, 819, 933, 1, 3477]\n",
      "12165\n"
     ],
     "name": "stdout"
    },
    {
     "output_type": "execute_result",
     "data": {
      "text/plain": [
       "187"
      ]
     },
     "metadata": {
      "tags": []
     },
     "execution_count": 18
    }
   ]
  },
  {
   "metadata": {
    "id": "CTsC2-KlqZ7u",
    "colab_type": "code",
    "outputId": "00fb4a44-56d2-47b2-b008-27d2d1856ff5",
    "colab": {
     "base_uri": "https://localhost:8080/",
     "height": 1354
    }
   },
   "cell_type": "code",
   "source": [
    "# Crear pre-trained emmbeding\n",
    "\n",
    "def create_embedding_matrix(filepath, word_index, embedding_size):\n",
    "    vocab_size = len(word_index) + 1  # Adding again 1 because of reserved 0 index\n",
    "    embedding_matrix = np.zeros((vocab_size, embedding_size))\n",
    "\n",
    "    with open(filepath, encoding='utf-8') as f:\n",
    "        for line in f:\n",
    "            word, *vector = line.split()\n",
    "            if word in word_index:\n",
    "                idx = word_index[word] \n",
    "                embedding_matrix[idx] = np.array(\n",
    "                    vector, dtype=np.float32)[:embedding_size]\n",
    "\n",
    "    return embedding_matrix\n",
    "  \n",
    "embedding_matrix = create_embedding_matrix(\n",
    "    'gdrive/My Drive/TFG/SBW-vectors-300-min5.txt',\n",
    "    tokenizer.word_index, embedding_size)\n",
    "\n",
    "print(embedding_matrix[2])\n",
    "print(len(embedding_matrix[2]))\n",
    "\n",
    "nonzero_elements = np.count_nonzero(np.count_nonzero(embedding_matrix, axis=1))\n",
    "nonzero_elements / vocab_size"
   ],
   "execution_count": 0,
   "outputs": [
    {
     "output_type": "stream",
     "text": [
      "[-2.23130006e-02  2.22510006e-02  3.67040001e-02 -9.65399966e-02\n",
      " -5.28610013e-02  2.40579993e-02  1.10430000e-02  2.62199994e-03\n",
      "  1.56214997e-01 -4.29649986e-02  3.97629999e-02 -3.06600006e-03\n",
      "  3.88009995e-02 -5.33679985e-02 -4.16669995e-02 -3.06349993e-02\n",
      " -7.32799992e-03  3.71400011e-03 -1.14164002e-01 -2.50419993e-02\n",
      " -5.19720018e-02 -5.54200001e-02  4.22680005e-02  1.05375998e-01\n",
      " -6.03629984e-02 -1.99260004e-02 -1.69599999e-03  1.02280997e-01\n",
      "  4.04540002e-02  8.86470005e-02  8.82930011e-02 -1.91420000e-02\n",
      "  3.85900005e-03 -2.75800005e-02  1.83649994e-02 -8.85030031e-02\n",
      " -1.15890000e-02 -5.24469987e-02 -8.28900002e-03 -2.07150001e-02\n",
      "  9.67300031e-03  1.27090001e-02 -8.24920014e-02 -4.00100015e-02\n",
      " -5.73070012e-02 -8.78039971e-02 -2.06540003e-02  1.80619992e-02\n",
      "  3.49619985e-02  1.31913006e-01 -3.32110003e-02  1.30602002e-01\n",
      "  1.41009996e-02  5.71810007e-02  5.19300019e-03  5.88469990e-02\n",
      " -6.22970015e-02 -1.31932005e-01  1.73640009e-02  8.82930011e-02\n",
      "  5.37139997e-02  1.95300002e-02 -1.21452004e-01  1.81639995e-02\n",
      "  6.07060008e-02  8.82399976e-02 -5.96369989e-02  3.77690010e-02\n",
      " -5.20320013e-02  7.96130002e-02 -1.33862004e-01 -6.58300007e-03\n",
      "  6.81530014e-02  4.11490016e-02 -5.92540018e-02  5.77579997e-02\n",
      "  1.05010001e-02  5.88129982e-02 -2.65890006e-02 -7.89379999e-02\n",
      "  3.23869996e-02 -1.07129999e-02  5.40480018e-02  1.64889991e-02\n",
      "  5.25409989e-02  1.90580003e-02 -3.55789997e-02  3.57340015e-02\n",
      "  7.90740028e-02  2.71509998e-02 -3.47159989e-02 -4.17400002e-02\n",
      "  2.77420003e-02  3.85020003e-02 -1.31789997e-01  5.40000001e-05\n",
      "  2.37419996e-02 -1.55290002e-02 -1.62630007e-02  7.41320029e-02\n",
      " -3.46660018e-02 -7.48519972e-02  5.03499992e-03  1.13394998e-01\n",
      "  3.28369997e-02  4.16600006e-03  4.26900014e-03 -1.35888994e-01\n",
      "  6.23599999e-02  5.16810007e-02  4.40629981e-02  5.47679998e-02\n",
      "  6.79859966e-02  3.28360014e-02 -9.54469964e-02 -7.22810030e-02\n",
      "  2.86219995e-02  2.97929998e-02 -5.77629991e-02 -3.41919996e-02\n",
      "  1.80600001e-03 -4.39050011e-02 -4.46980000e-02  7.71299982e-03\n",
      " -4.76000011e-02  1.45389996e-02 -4.54200013e-03  4.78009991e-02\n",
      "  4.99989986e-02 -4.46030013e-02  3.88859995e-02  2.26600002e-02\n",
      " -5.35000004e-02 -6.21900000e-02 -8.54130015e-02  7.20579997e-02\n",
      "  2.92479992e-02 -3.14179994e-02 -5.55160008e-02  2.57440004e-02\n",
      "  6.02069981e-02 -1.42660001e-02 -2.20340006e-02  1.87539998e-02\n",
      " -1.59600005e-02 -1.57700002e-03  2.01900005e-02 -6.92709982e-02\n",
      "  1.38596997e-01 -1.01960003e-01  4.35980000e-02  5.26600005e-03\n",
      " -7.50129968e-02 -6.31129965e-02  4.95750010e-02 -5.33929989e-02\n",
      "  4.36509997e-02  1.23030003e-02 -3.41389999e-02  2.41999999e-02\n",
      "  5.56420013e-02 -3.02450005e-02  1.00529000e-01 -1.75039992e-02\n",
      " -6.09179996e-02 -1.00397997e-01 -4.32449989e-02  4.75089997e-02\n",
      "  4.07890007e-02 -4.80559990e-02  1.07280001e-01 -7.98949972e-02\n",
      "  4.93040010e-02  2.85260007e-02  4.01929989e-02 -9.73199978e-02\n",
      " -5.56999992e-04  4.50100005e-03 -3.29000002e-04  6.95100008e-03\n",
      "  3.71619985e-02  5.35920002e-02  7.13500008e-02  2.51959991e-02\n",
      " -3.17649990e-02 -3.53999989e-04 -1.36150001e-02 -8.04319978e-02\n",
      "  2.61819996e-02 -3.03019993e-02 -2.88319997e-02 -2.50399997e-03\n",
      "  7.19069988e-02 -2.75180005e-02  8.79099965e-03  1.42757997e-01\n",
      "  8.44699983e-03  9.94300023e-02 -5.16679995e-02  1.07455000e-01\n",
      " -9.81409997e-02 -6.09720014e-02 -1.36179999e-02 -4.17510010e-02\n",
      "  3.98560017e-02 -6.86979964e-02  2.79779993e-02 -2.66810004e-02\n",
      "  3.45779993e-02  3.65369990e-02 -1.97950006e-02  7.94600043e-03\n",
      "  1.46770002e-02 -2.89220009e-02  2.64069997e-02  1.00823998e-01\n",
      "  2.45970003e-02  5.71079999e-02  2.60019992e-02  4.50700009e-03\n",
      "  8.44500028e-03 -7.08689988e-02  1.19097002e-01  3.66940014e-02\n",
      "  1.74599998e-02  2.48300005e-02  4.90179993e-02 -4.26339991e-02\n",
      " -7.55100027e-02 -4.47509997e-02  3.84560004e-02  7.40460008e-02\n",
      " -4.65789996e-02  1.43878996e-01 -6.21259995e-02  2.76299994e-02\n",
      "  7.24200010e-02 -4.44380008e-02 -6.65149987e-02  3.67939994e-02\n",
      "  1.96605995e-01  1.75199995e-03  4.85810004e-02  1.62310004e-02\n",
      " -1.33789003e-01  1.06790001e-02 -7.27749988e-02 -7.09400000e-03\n",
      " -1.09390002e-02  8.42040032e-02  1.86359994e-02  1.07546002e-01\n",
      " -4.46420014e-02  1.73099991e-02 -1.34979999e-02  8.03800020e-03\n",
      "  6.86099986e-03  6.77950010e-02 -6.45819977e-02 -1.10481001e-01\n",
      "  3.41130011e-02  5.45580015e-02 -2.08560005e-02 -1.00647002e-01\n",
      "  4.99930009e-02  1.91400002e-03 -5.95149994e-02  1.04649998e-02\n",
      "  7.65000004e-04  1.35640994e-01 -1.93259995e-02  3.72629985e-02\n",
      "  6.53119981e-02  8.72999988e-03  7.40499981e-03  4.44179997e-02\n",
      "  3.81090008e-02 -2.21849997e-02 -4.56510000e-02 -6.47889972e-02\n",
      " -1.19470000e-01  2.85500009e-03 -3.78150009e-02 -1.16210002e-02\n",
      "  3.47580016e-02  2.67370008e-02  7.78530017e-02 -1.76999994e-04\n",
      " -9.86600015e-03 -3.75309996e-02  1.84809994e-02  6.76579997e-02\n",
      "  5.63699985e-03 -3.41229998e-02  3.33800004e-03 -6.23290017e-02\n",
      " -1.62659995e-02 -8.71509984e-02 -2.06819996e-02  3.34520005e-02]\n",
      "300\n"
     ],
     "name": "stdout"
    },
    {
     "output_type": "execute_result",
     "data": {
      "text/plain": [
       "0.7850390464447184"
      ]
     },
     "metadata": {
      "tags": []
     },
     "execution_count": 19
    }
   ]
  },
  {
   "metadata": {
    "id": "XHqpVvAjjQY8",
    "colab_type": "code",
    "outputId": "fea47deb-6e16-4671-c51e-df12d840f678",
    "colab": {
     "base_uri": "https://localhost:8080/",
     "height": 312
    }
   },
   "cell_type": "code",
   "source": [
    "from tensorflow.keras.preprocessing.sequence import pad_sequences\n",
    "\n",
    "X_train = pad_sequences(X_train, padding='pre', maxlen=maxlen)\n",
    "X_test = pad_sequences(X_test, padding='pre', maxlen=maxlen)\n",
    "\n",
    "X_train[1]"
   ],
   "execution_count": 0,
   "outputs": [
    {
     "output_type": "execute_result",
     "data": {
      "text/plain": [
       "array([   0,    0,    0,    0,    0,    0,    0,    0,    0,    0,    0,\n",
       "          0,    0,    0,    0,    0,    0,    0,    0,    0,    0,    0,\n",
       "          0,    0,    0,    0,    0,    0,    0,    0,    0,    0,    0,\n",
       "          0,    0,    0,    0,    0,    0,    0,    0,    0,    0,    0,\n",
       "          0,    0,    0,    0,    0,    0,    0,    0,    0,    0,    0,\n",
       "          0,    0,    0,    0,    0,    0,    0,    0,    0,    0,    0,\n",
       "          0,    0,    0,    0,    0,    0,    0,    0,    0,    0,    0,\n",
       "          0,    0,    0,    0,    0,    0,    0,    0,    0,    0,    0,\n",
       "          0,    0,    0,    0,    0,    0,  356,   75,    1, 5481,  814,\n",
       "       3466,  266, 2491, 3467,  815, 2492, 2493, 2494,    7,   10, 5482,\n",
       "       2495,    8, 3468,  816,    1,    2,  110,  815, 5483,    5, 5484,\n",
       "          5,   11,    3, 5485,   80,   22,  407,    8, 5486, 1253,    1,\n",
       "        311,    1,  929,    4, 1494, 5487,  266, 2491,    6,   25,    1,\n",
       "         10, 5488,    1,  312,  523, 5489, 2496,    1, 1495,    6,  930,\n",
       "          5,   11, 2497,    4, 3469,    1,    2, 1887,    1, 1254, 5490,\n",
       "       5491, 5492,    7,    2, 2498,   13,   24, 1496,    1,  452,  288,\n",
       "          7,    8,  267, 1255], dtype=int32)"
      ]
     },
     "metadata": {
      "tags": []
     },
     "execution_count": 20
    }
   ]
  },
  {
   "metadata": {
    "id": "0UB9lmFFWab7",
    "colab_type": "code",
    "colab": {}
   },
   "cell_type": "code",
   "source": [
    "#from tensorflow.keras import backend as K\n",
    "from tensorflow.keras.callbacks import EarlyStopping\n",
    "\n",
    "#Optimizer\n",
    "\n",
    "from tensorflow.keras import optimizers\n",
    "\n",
    "adam = optimizers.Adam(lr)\n",
    "\n",
    "\n",
    "es = EarlyStopping(monitor='val_loss',\n",
    "                   min_delta=0,\n",
    "                   patience=10,\n",
    "                   verbose=0, mode='auto')"
   ],
   "execution_count": 0,
   "outputs": []
  },
  {
   "metadata": {
    "id": "ifIZiMr2LdSS",
    "colab_type": "code",
    "outputId": "d8fa7ce3-8941-434f-c598-b1544894e5f8",
    "colab": {
     "base_uri": "https://localhost:8080/",
     "height": 34
    }
   },
   "cell_type": "code",
   "source": [
    "from sklearn.utils import class_weight\n",
    "\n",
    "\n",
    "class_weights = class_weight.compute_class_weight('balanced',\n",
    "                                                 np.unique(y_train),\n",
    "                                                 y_train)\n",
    "\n",
    "class_weights"
   ],
   "execution_count": 0,
   "outputs": [
    {
     "output_type": "execute_result",
     "data": {
      "text/plain": [
       "array([0.96787709, 1.03432836])"
      ]
     },
     "metadata": {
      "tags": []
     },
     "execution_count": 23
    }
   ]
  },
  {
   "metadata": {
    "id": "TO2rjJmBj28t",
    "colab_type": "code",
    "colab": {}
   },
   "cell_type": "code",
   "source": [
    "# Model 1\n",
    "\n",
    "from tensorflow.keras.models import Sequential\n",
    "from tensorflow.keras.layers import Dense, Dropout, Activation\n",
    "from tensorflow.keras.layers import Embedding\n",
    "from tensorflow.keras.layers import LSTM\n",
    "from tensorflow.keras.layers import Conv1D, GlobalMaxPooling1D\n",
    "\n",
    "model = Sequential()\n",
    "\n",
    "model.add(Embedding(vocab_size,embedding_size, input_length=maxlen))\n",
    "model.add(GlobalMaxPooling1D())\n",
    "model.add(Dropout(0.5))\n",
    "model.add(Dense(500, activation='elu', kernel_initializer='he_uniform'))\n",
    "model.add(Dropout(0.5))\n",
    "model.add(Dense(500, activation='elu', kernel_initializer='he_uniform'))\n",
    "model.add(Dropout(0.5))\n",
    "model.add(Dense(500, activation='elu', kernel_initializer='he_uniform'))\n",
    "model.add(Dropout(0.5))\n",
    "model.add(Dense(1, activation='sigmoid', kernel_initializer='he_uniform'))\n",
    "model.compile(optimizer=adam,\n",
    "              loss='binary_crossentropy',\n",
    "              metrics=['acc'])\n",
    "\n",
    "model.summary()\n"
   ],
   "execution_count": 0,
   "outputs": []
  },
  {
   "metadata": {
    "id": "X3Jtoe5qztD0",
    "colab_type": "code",
    "colab": {}
   },
   "cell_type": "code",
   "source": [
    "# Model 2\n",
    "\n",
    "from tensorflow.keras.models import Sequential\n",
    "from tensorflow.keras.layers import Dense, Dropout, Activation\n",
    "from tensorflow.keras.layers import Embedding, BatchNormalization\n",
    "from tensorflow.keras.layers import Conv1D, GlobalMaxPooling1D, MaxPooling1D,GlobalAveragePooling1D\n",
    "\n",
    "model = Sequential()\n",
    "\n",
    "# we start off with an efficient embedding layer which maps\n",
    "# our vocab indices into embedding_dims dimensions\n",
    "model.add(Embedding(vocab_size,\n",
    "                    embedding_size,\n",
    "                    input_length=maxlen))\n",
    "\n",
    "\n",
    "# we add a Convolution1D, which will learn filters\n",
    "# word group filters of size filter_length:\n",
    "model.add(Conv1D(filters,\n",
    "                 kernel_size,\n",
    "                 padding='valid',\n",
    "                 strides=1, kernel_initializer='he_uniform'))\n",
    "model.add(BatchNormalization())\n",
    "model.add(Activation('elu'))\n",
    "\n",
    "# we use max pooling:\n",
    "\n",
    "model.add(GlobalMaxPooling1D())\n",
    "\n",
    "# We add a vanilla hidden layer:\n",
    "model.add(Dense(150, kernel_initializer='he_uniform'))\n",
    "model.add(BatchNormalization())\n",
    "model.add(Activation('elu'))\n",
    "model.add(Dropout(0.5))\n",
    "\n",
    "# We project onto a single unit output layer, and squash it with a sigmoid:\n",
    "model.add(Dense(1))\n",
    "model.add(BatchNormalization())\n",
    "model.add(Activation('sigmoid'))\n",
    "\n",
    "model.compile(loss='binary_crossentropy',\n",
    "              optimizer=tf.keras.optimizers.Nadam(lr=0.001, beta_1=0.9, beta_2=0.999, epsilon=None, schedule_decay=0.004),\n",
    "              metrics=['accuracy'])\n",
    "\n",
    "model.summary()"
   ],
   "execution_count": 0,
   "outputs": []
  },
  {
   "metadata": {
    "id": "m4opiVy5h3t7",
    "colab_type": "code",
    "colab": {}
   },
   "cell_type": "code",
   "source": [
    "from tensorflow.keras.models import Sequential,Model\n",
    "from tensorflow.keras.layers import Dense, Dropout, Activation, Convolution1D, MaxPooling1D, Input\n",
    "from tensorflow.keras.layers import Embedding,CuDNNLSTM, SpatialDropout1D, Reshape, Flatten, BatchNormalization\n",
    "from tensorflow.keras.layers import Conv1D, GlobalMaxPooling1D, GlobalAveragePooling1D, Concatenate\n",
    "from tensorflow.keras.optimizers import Adam, Adagrad\n",
    "\n",
    "\n",
    "def my_conv1d(kernel_size, layer, filters=10, strides=1):\n",
    "  \n",
    "  c1d = Conv1D(filters = filters, kernel_size = kernel_size, padding='same', strides=strides, kernel_initializer='he_uniform')(layer)\n",
    "  c1d = BatchNormalization()(c1d)\n",
    "  c1d = Activation('elu')(c1d)\n",
    "  \n",
    "  return c1d\n",
    "\n",
    "def my_dense(neurons, ant, act='sigmoid', ini='glorot_uniform'):\n",
    "  \n",
    "  dense = Dense(neurons, kernel_initializer=ini)(ant)\n",
    "  dense = BatchNormalization()(dense)\n",
    "  dense = Activation(act)(dense)\n",
    "  \n",
    "  return dense"
   ],
   "execution_count": 0,
   "outputs": []
  },
  {
   "metadata": {
    "id": "F7r7BcGTDyEV",
    "colab_type": "code",
    "outputId": "8188fbde-d21a-455b-855d-0efff7f919d7",
    "colab": {
     "base_uri": "https://localhost:8080/",
     "height": 868
    }
   },
   "cell_type": "code",
   "source": [
    "# Model 3\n",
    "\n",
    "words = Input(shape=(maxlen,))\n",
    "em =  Embedding(input_dim = vocab_size, output_dim = embedding_size, weights=[embedding_matrix], trainable=True)(words)\n",
    "em = Dropout(0.3)(em) \n",
    "c1 = my_conv1d(2,em, filters=500)\n",
    "c2 = my_conv1d(3,em, filters=500)\n",
    "c3 = my_conv1d(5,em, filters=500)\n",
    "\n",
    "g1 = GlobalMaxPooling1D()(c1)\n",
    "g2 = GlobalMaxPooling1D()(c2)\n",
    "g3 = GlobalMaxPooling1D()(c3)\n",
    "\n",
    "con = Concatenate(axis=1)([g1,g2,g3])\n",
    "\n",
    "dense = Dropout(0.5)(con) \n",
    "pred = my_dense(1,dense)\n",
    "model = Model(inputs=words, outputs=pred)\n",
    "\n",
    "model.compile(optimizer = 'adam',\n",
    "              loss = 'binary_crossentropy',\n",
    "              metrics = ['accuracy'])\n",
    "  \n",
    "model.summary()\n"
   ],
   "execution_count": 0,
   "outputs": [
    {
     "output_type": "stream",
     "text": [
      "__________________________________________________________________________________________________\n",
      "Layer (type)                    Output Shape         Param #     Connected to                     \n",
      "==================================================================================================\n",
      "input_14 (InputLayer)           (None, 180)          0                                            \n",
      "__________________________________________________________________________________________________\n",
      "embedding_13 (Embedding)        (None, 180, 300)     3649500     input_14[0][0]                   \n",
      "__________________________________________________________________________________________________\n",
      "dropout_25 (Dropout)            (None, 180, 300)     0           embedding_13[0][0]               \n",
      "__________________________________________________________________________________________________\n",
      "conv1d_19 (Conv1D)              (None, 180, 500)     300500      dropout_25[0][0]                 \n",
      "__________________________________________________________________________________________________\n",
      "conv1d_20 (Conv1D)              (None, 180, 500)     450500      dropout_25[0][0]                 \n",
      "__________________________________________________________________________________________________\n",
      "conv1d_21 (Conv1D)              (None, 180, 500)     750500      dropout_25[0][0]                 \n",
      "__________________________________________________________________________________________________\n",
      "batch_normalization_v1_40 (Batc (None, 180, 500)     2000        conv1d_19[0][0]                  \n",
      "__________________________________________________________________________________________________\n",
      "batch_normalization_v1_41 (Batc (None, 180, 500)     2000        conv1d_20[0][0]                  \n",
      "__________________________________________________________________________________________________\n",
      "batch_normalization_v1_42 (Batc (None, 180, 500)     2000        conv1d_21[0][0]                  \n",
      "__________________________________________________________________________________________________\n",
      "activation_31 (Activation)      (None, 180, 500)     0           batch_normalization_v1_40[0][0]  \n",
      "__________________________________________________________________________________________________\n",
      "activation_32 (Activation)      (None, 180, 500)     0           batch_normalization_v1_41[0][0]  \n",
      "__________________________________________________________________________________________________\n",
      "activation_33 (Activation)      (None, 180, 500)     0           batch_normalization_v1_42[0][0]  \n",
      "__________________________________________________________________________________________________\n",
      "global_max_pooling1d_10 (Global (None, 500)          0           activation_31[0][0]              \n",
      "__________________________________________________________________________________________________\n",
      "global_max_pooling1d_11 (Global (None, 500)          0           activation_32[0][0]              \n",
      "__________________________________________________________________________________________________\n",
      "global_max_pooling1d_12 (Global (None, 500)          0           activation_33[0][0]              \n",
      "__________________________________________________________________________________________________\n",
      "concatenate_3 (Concatenate)     (None, 1500)         0           global_max_pooling1d_10[0][0]    \n",
      "                                                                 global_max_pooling1d_11[0][0]    \n",
      "                                                                 global_max_pooling1d_12[0][0]    \n",
      "__________________________________________________________________________________________________\n",
      "dropout_26 (Dropout)            (None, 1500)         0           concatenate_3[0][0]              \n",
      "__________________________________________________________________________________________________\n",
      "dense_12 (Dense)                (None, 1)            1501        dropout_26[0][0]                 \n",
      "__________________________________________________________________________________________________\n",
      "batch_normalization_v1_43 (Batc (None, 1)            4           dense_12[0][0]                   \n",
      "__________________________________________________________________________________________________\n",
      "activation_34 (Activation)      (None, 1)            0           batch_normalization_v1_43[0][0]  \n",
      "==================================================================================================\n",
      "Total params: 5,158,505\n",
      "Trainable params: 5,155,503\n",
      "Non-trainable params: 3,002\n",
      "__________________________________________________________________________________________________\n"
     ],
     "name": "stdout"
    }
   ]
  },
  {
   "metadata": {
    "id": "SNfu7h5_eety",
    "colab_type": "code",
    "colab": {}
   },
   "cell_type": "code",
   "source": [
    "# Model RNN\n",
    "\n",
    "from tensorflow.keras.layers import Bidirectional, LSTM, Flatten\n",
    "\n",
    "words = Input(shape=(maxlen,))\n",
    "em =  Embedding(input_dim = vocab_size, output_dim = embedding_size, weights=[embedding_matrix], trainable=True)(words)\n",
    "#em = Dropout(0.3)(em) \n",
    "\n",
    "lstm_1 = Bidirectional(LSTM(64, name='blstm_1',\n",
    "activation='tanh',\n",
    "recurrent_activation='hard_sigmoid',\n",
    "recurrent_dropout=0.0,\n",
    "dropout=0.5, \n",
    "kernel_initializer='glorot_uniform',\n",
    "return_sequences=True),\n",
    "merge_mode='concat')(em)\n",
    "\n",
    "lstm_1 = BatchNormalization()(lstm_1)\n",
    "\n",
    "#Flatten\n",
    "g1 = Flatten()(lstm_1)\n",
    "\n",
    "drop3 = Dropout(0.5)(g1)\n",
    "\n",
    "pred = my_dense(1,drop3)\n",
    "model = Model(inputs=words, outputs=pred)\n",
    "\n",
    "model.compile(optimizer = 'adam',\n",
    "              loss = 'binary_crossentropy',\n",
    "              metrics = ['accuracy'])\n",
    "  \n",
    "model.summary()"
   ],
   "execution_count": 0,
   "outputs": []
  },
  {
   "metadata": {
    "id": "2EUVg8huVWO3",
    "colab_type": "code",
    "outputId": "c997d338-bc57-44fa-fc99-06c7e54aef3f",
    "colab": {
     "base_uri": "https://localhost:8080/",
     "height": 590
    }
   },
   "cell_type": "code",
   "source": [
    "# Model 5 cnn + rnn\n",
    "\n",
    "from tensorflow.keras.layers import Bidirectional, LSTM\n",
    "\n",
    "words = Input(shape=(maxlen,))\n",
    "em =  Embedding(input_dim = vocab_size, output_dim = embedding_size, weights=[embedding_matrix], trainable=True)(words)\n",
    "#em = Dropout(0.3)(em) \n",
    "\n",
    "c1 = my_conv1d(2 ,em, filters=500)\n",
    "\n",
    "g1 = MaxPooling1D(pool_size=4)(c1)\n",
    "g1 = Dropout(0.3)(g1) \n",
    "\n",
    "lstm_1 = LSTM(45, dropout=0.3,kernel_initializer='glorot_uniform')(g1)\n",
    "\n",
    "lstm_1 = BatchNormalization()(lstm_1)\n",
    "\n",
    "drop3 = Dropout(0.3)(lstm_1)\n",
    "\n",
    "pred = my_dense(1,drop3)\n",
    "model = Model(inputs=words, outputs=pred)\n",
    "\n",
    "model.compile(optimizer = 'adam',\n",
    "              loss = 'binary_crossentropy',\n",
    "              metrics = ['accuracy'])\n",
    "  \n",
    "model.summary()"
   ],
   "execution_count": 52,
   "outputs": [
    {
     "output_type": "stream",
     "text": [
      "_________________________________________________________________\n",
      "Layer (type)                 Output Shape              Param #   \n",
      "=================================================================\n",
      "input_17 (InputLayer)        (None, 180)               0         \n",
      "_________________________________________________________________\n",
      "embedding_16 (Embedding)     (None, 180, 300)          3649500   \n",
      "_________________________________________________________________\n",
      "conv1d_24 (Conv1D)           (None, 180, 500)          300500    \n",
      "_________________________________________________________________\n",
      "batch_normalization_v1_50 (B (None, 180, 500)          2000      \n",
      "_________________________________________________________________\n",
      "activation_39 (Activation)   (None, 180, 500)          0         \n",
      "_________________________________________________________________\n",
      "max_pooling1d_11 (MaxPooling (None, 45, 500)           0         \n",
      "_________________________________________________________________\n",
      "dropout_31 (Dropout)         (None, 45, 500)           0         \n",
      "_________________________________________________________________\n",
      "lstm_12 (LSTM)               (None, 45)                98280     \n",
      "_________________________________________________________________\n",
      "batch_normalization_v1_51 (B (None, 45)                180       \n",
      "_________________________________________________________________\n",
      "dropout_32 (Dropout)         (None, 45)                0         \n",
      "_________________________________________________________________\n",
      "dense_15 (Dense)             (None, 1)                 46        \n",
      "_________________________________________________________________\n",
      "batch_normalization_v1_52 (B (None, 1)                 4         \n",
      "_________________________________________________________________\n",
      "activation_40 (Activation)   (None, 1)                 0         \n",
      "=================================================================\n",
      "Total params: 4,050,510\n",
      "Trainable params: 4,049,418\n",
      "Non-trainable params: 1,092\n",
      "_________________________________________________________________\n"
     ],
     "name": "stdout"
    }
   ]
  },
  {
   "metadata": {
    "id": "aN3ce7nAkNdh",
    "colab_type": "code",
    "outputId": "a777812c-d469-4242-e841-c73dd3ae693e",
    "colab": {
     "base_uri": "https://localhost:8080/",
     "height": 1861
    }
   },
   "cell_type": "code",
   "source": [
    "history = model.fit(X_train, y_train,\n",
    "                    epochs=300,\n",
    "                    verbose=True,\n",
    "                    validation_data=(X_test, y_test),\n",
    "                    batch_size=64, class_weight = class_weights, callbacks=[es])"
   ],
   "execution_count": 53,
   "outputs": [
    {
     "output_type": "stream",
     "text": [
      "Train on 693 samples, validate on 123 samples\n",
      "Epoch 1/300\n",
      "693/693 [==============================] - 3s 5ms/sample - loss: 0.7810 - acc: 0.5094 - val_loss: 0.6907 - val_acc: 0.5203\n",
      "Epoch 2/300\n",
      "693/693 [==============================] - 1s 2ms/sample - loss: 0.6462 - acc: 0.6436 - val_loss: 0.6907 - val_acc: 0.5122\n",
      "Epoch 3/300\n",
      "693/693 [==============================] - 1s 2ms/sample - loss: 0.5840 - acc: 0.6926 - val_loss: 0.7091 - val_acc: 0.4797\n",
      "Epoch 4/300\n",
      "693/693 [==============================] - 1s 2ms/sample - loss: 0.5055 - acc: 0.7908 - val_loss: 0.6975 - val_acc: 0.4797\n",
      "Epoch 5/300\n",
      "693/693 [==============================] - 1s 2ms/sample - loss: 0.4636 - acc: 0.8211 - val_loss: 0.6894 - val_acc: 0.5122\n",
      "Epoch 6/300\n",
      "693/693 [==============================] - 1s 2ms/sample - loss: 0.4222 - acc: 0.9033 - val_loss: 0.6835 - val_acc: 0.6341\n",
      "Epoch 7/300\n",
      "693/693 [==============================] - 1s 2ms/sample - loss: 0.3996 - acc: 0.9062 - val_loss: 0.6826 - val_acc: 0.6179\n",
      "Epoch 8/300\n",
      "693/693 [==============================] - 1s 2ms/sample - loss: 0.3747 - acc: 0.9538 - val_loss: 0.6823 - val_acc: 0.6016\n",
      "Epoch 9/300\n",
      "693/693 [==============================] - 1s 2ms/sample - loss: 0.3690 - acc: 0.9639 - val_loss: 0.6821 - val_acc: 0.5772\n",
      "Epoch 10/300\n",
      "693/693 [==============================] - 1s 2ms/sample - loss: 0.3489 - acc: 0.9755 - val_loss: 0.6854 - val_acc: 0.5366\n",
      "Epoch 11/300\n",
      "693/693 [==============================] - 1s 2ms/sample - loss: 0.3488 - acc: 0.9726 - val_loss: 0.6838 - val_acc: 0.5366\n",
      "Epoch 12/300\n",
      "693/693 [==============================] - 1s 2ms/sample - loss: 0.3345 - acc: 0.9885 - val_loss: 0.6823 - val_acc: 0.5122\n",
      "Epoch 13/300\n",
      "693/693 [==============================] - 1s 2ms/sample - loss: 0.3289 - acc: 0.9957 - val_loss: 0.6805 - val_acc: 0.5203\n",
      "Epoch 14/300\n",
      "693/693 [==============================] - 1s 2ms/sample - loss: 0.3176 - acc: 0.9986 - val_loss: 0.6803 - val_acc: 0.5203\n",
      "Epoch 15/300\n",
      "693/693 [==============================] - 1s 2ms/sample - loss: 0.3126 - acc: 0.9971 - val_loss: 0.6820 - val_acc: 0.5447\n",
      "Epoch 16/300\n",
      "693/693 [==============================] - 1s 2ms/sample - loss: 0.3106 - acc: 0.9957 - val_loss: 0.6806 - val_acc: 0.5447\n",
      "Epoch 17/300\n",
      "693/693 [==============================] - 1s 2ms/sample - loss: 0.3011 - acc: 0.9971 - val_loss: 0.6784 - val_acc: 0.5528\n",
      "Epoch 18/300\n",
      "693/693 [==============================] - 1s 2ms/sample - loss: 0.2967 - acc: 0.9957 - val_loss: 0.6761 - val_acc: 0.5691\n",
      "Epoch 19/300\n",
      "693/693 [==============================] - 1s 2ms/sample - loss: 0.2940 - acc: 0.9971 - val_loss: 0.6710 - val_acc: 0.5447\n",
      "Epoch 20/300\n",
      "693/693 [==============================] - 1s 2ms/sample - loss: 0.2896 - acc: 1.0000 - val_loss: 0.6696 - val_acc: 0.5447\n",
      "Epoch 21/300\n",
      "693/693 [==============================] - 1s 2ms/sample - loss: 0.2874 - acc: 1.0000 - val_loss: 0.6747 - val_acc: 0.5447\n",
      "Epoch 22/300\n",
      "693/693 [==============================] - 1s 2ms/sample - loss: 0.2834 - acc: 1.0000 - val_loss: 0.6739 - val_acc: 0.5691\n",
      "Epoch 23/300\n",
      "693/693 [==============================] - 1s 2ms/sample - loss: 0.2771 - acc: 1.0000 - val_loss: 0.6726 - val_acc: 0.5691\n",
      "Epoch 24/300\n",
      "693/693 [==============================] - 1s 2ms/sample - loss: 0.2765 - acc: 1.0000 - val_loss: 0.6735 - val_acc: 0.5610\n",
      "Epoch 25/300\n",
      "693/693 [==============================] - 1s 2ms/sample - loss: 0.2712 - acc: 0.9986 - val_loss: 0.6665 - val_acc: 0.5691\n",
      "Epoch 26/300\n",
      "693/693 [==============================] - 1s 2ms/sample - loss: 0.2713 - acc: 1.0000 - val_loss: 0.6574 - val_acc: 0.6341\n",
      "Epoch 27/300\n",
      "693/693 [==============================] - 1s 2ms/sample - loss: 0.2648 - acc: 1.0000 - val_loss: 0.6615 - val_acc: 0.6016\n",
      "Epoch 28/300\n",
      "693/693 [==============================] - 1s 2ms/sample - loss: 0.2613 - acc: 1.0000 - val_loss: 0.6607 - val_acc: 0.6260\n",
      "Epoch 29/300\n",
      "693/693 [==============================] - 1s 2ms/sample - loss: 0.2591 - acc: 1.0000 - val_loss: 0.6631 - val_acc: 0.5935\n",
      "Epoch 30/300\n",
      "693/693 [==============================] - 1s 2ms/sample - loss: 0.2572 - acc: 1.0000 - val_loss: 0.6573 - val_acc: 0.6341\n",
      "Epoch 31/300\n",
      "693/693 [==============================] - 1s 2ms/sample - loss: 0.2561 - acc: 1.0000 - val_loss: 0.6485 - val_acc: 0.6585\n",
      "Epoch 32/300\n",
      "693/693 [==============================] - 1s 2ms/sample - loss: 0.2521 - acc: 1.0000 - val_loss: 0.6470 - val_acc: 0.6585\n",
      "Epoch 33/300\n",
      "693/693 [==============================] - 1s 2ms/sample - loss: 0.2477 - acc: 1.0000 - val_loss: 0.6408 - val_acc: 0.6260\n",
      "Epoch 34/300\n",
      "693/693 [==============================] - 1s 2ms/sample - loss: 0.2428 - acc: 1.0000 - val_loss: 0.6330 - val_acc: 0.6016\n",
      "Epoch 35/300\n",
      "693/693 [==============================] - 1s 2ms/sample - loss: 0.2404 - acc: 1.0000 - val_loss: 0.6324 - val_acc: 0.6016\n",
      "Epoch 36/300\n",
      "693/693 [==============================] - 1s 2ms/sample - loss: 0.2385 - acc: 1.0000 - val_loss: 0.6333 - val_acc: 0.5772\n",
      "Epoch 37/300\n",
      "693/693 [==============================] - 1s 2ms/sample - loss: 0.2389 - acc: 1.0000 - val_loss: 0.6291 - val_acc: 0.6016\n",
      "Epoch 38/300\n",
      "693/693 [==============================] - 1s 2ms/sample - loss: 0.2340 - acc: 1.0000 - val_loss: 0.6261 - val_acc: 0.6098\n",
      "Epoch 39/300\n",
      "693/693 [==============================] - 1s 2ms/sample - loss: 0.2364 - acc: 1.0000 - val_loss: 0.6207 - val_acc: 0.6260\n",
      "Epoch 40/300\n",
      "693/693 [==============================] - 1s 2ms/sample - loss: 0.2296 - acc: 1.0000 - val_loss: 0.6151 - val_acc: 0.6341\n",
      "Epoch 41/300\n",
      "693/693 [==============================] - 1s 2ms/sample - loss: 0.2261 - acc: 1.0000 - val_loss: 0.6139 - val_acc: 0.6667\n",
      "Epoch 42/300\n",
      "693/693 [==============================] - 1s 2ms/sample - loss: 0.2316 - acc: 1.0000 - val_loss: 0.6124 - val_acc: 0.6504\n",
      "Epoch 43/300\n",
      "693/693 [==============================] - 1s 2ms/sample - loss: 0.2241 - acc: 1.0000 - val_loss: 0.6132 - val_acc: 0.6585\n",
      "Epoch 44/300\n",
      "693/693 [==============================] - 1s 2ms/sample - loss: 0.2228 - acc: 1.0000 - val_loss: 0.6147 - val_acc: 0.6423\n",
      "Epoch 45/300\n",
      "693/693 [==============================] - 1s 2ms/sample - loss: 0.2209 - acc: 1.0000 - val_loss: 0.6160 - val_acc: 0.6260\n",
      "Epoch 46/300\n",
      "693/693 [==============================] - 1s 2ms/sample - loss: 0.2166 - acc: 1.0000 - val_loss: 0.6192 - val_acc: 0.6423\n",
      "Epoch 47/300\n",
      "693/693 [==============================] - 1s 2ms/sample - loss: 0.2148 - acc: 1.0000 - val_loss: 0.6204 - val_acc: 0.6423\n",
      "Epoch 48/300\n",
      "693/693 [==============================] - 1s 2ms/sample - loss: 0.2145 - acc: 1.0000 - val_loss: 0.6217 - val_acc: 0.6504\n",
      "Epoch 49/300\n",
      "693/693 [==============================] - 1s 2ms/sample - loss: 0.2129 - acc: 1.0000 - val_loss: 0.6279 - val_acc: 0.6585\n",
      "Epoch 50/300\n",
      "693/693 [==============================] - 1s 2ms/sample - loss: 0.2102 - acc: 1.0000 - val_loss: 0.6301 - val_acc: 0.6585\n",
      "Epoch 51/300\n",
      "693/693 [==============================] - 1s 2ms/sample - loss: 0.2099 - acc: 1.0000 - val_loss: 0.6304 - val_acc: 0.6504\n",
      "Epoch 52/300\n",
      "693/693 [==============================] - 1s 2ms/sample - loss: 0.2076 - acc: 1.0000 - val_loss: 0.6322 - val_acc: 0.6504\n"
     ],
     "name": "stdout"
    }
   ]
  },
  {
   "metadata": {
    "id": "E32LWBFAkrSq",
    "colab_type": "code",
    "outputId": "d6b09439-6162-4d0e-d1c8-e4ee880016eb",
    "colab": {
     "base_uri": "https://localhost:8080/",
     "height": 337
    }
   },
   "cell_type": "code",
   "source": [
    "%matplotlib inline\n",
    "import matplotlib.pyplot as plt\n",
    "plt.style.use('ggplot')\n",
    "\n",
    "def plot_history(history):\n",
    "    acc = history.history['acc']\n",
    "    val_acc = history.history['val_acc']\n",
    "    loss = history.history['loss']\n",
    "    val_loss = history.history['val_loss']\n",
    "    x = range(1, len(acc) + 1)\n",
    "\n",
    "    plt.figure(figsize=(12, 5))\n",
    "    plt.subplot(1, 2, 1)\n",
    "    plt.plot(x, acc, 'b', label='Training acc')\n",
    "    plt.plot(x, val_acc, 'r', label='Validation acc')\n",
    "    plt.title('Training and validation accuracy')\n",
    "    plt.legend()\n",
    "    plt.subplot(1, 2, 2)\n",
    "    plt.plot(x, loss, 'b', label='Training loss')\n",
    "    plt.plot(x, val_loss, 'r', label='Validation loss')\n",
    "    plt.title('Training and validation loss')\n",
    "    plt.legend()\n",
    "    \n",
    "plot_history(history)"
   ],
   "execution_count": 0,
   "outputs": [
    {
     "output_type": "display_data",
     "data": {
      "image/png": "[encoded data removed]",
      "text/plain": [
       "<Figure size 864x360 with 2 Axes>"
      ]
     },
     "metadata": {
      "tags": []
     }
    }
   ]
  },
  {
   "metadata": {
    "id": "0-L6gkT1k1yQ",
    "colab_type": "code",
    "colab": {}
   },
   "cell_type": "code",
   "source": [
    "threshold = 0.5\n",
    "y_score = model.predict(X_test)\n",
    "#y_pred= model.predict_classes(X_neutral)\n",
    "#y_test = y_netural\n",
    "\n",
    "y_pred = y_score.copy()\n",
    "y_pred[y_pred >=threshold] = 1\n",
    "y_pred[y_pred <threshold] = 0"
   ],
   "execution_count": 0,
   "outputs": []
  },
  {
   "metadata": {
    "id": "7JLI_WVJkwcP",
    "colab_type": "code",
    "outputId": "8c09794d-6d99-4e5d-c46e-aeac4efbf0b0",
    "colab": {
     "base_uri": "https://localhost:8080/",
     "height": 173
    }
   },
   "cell_type": "code",
   "source": [
    "from sklearn.metrics import confusion_matrix\n",
    "from sklearn.metrics import cohen_kappa_score\n",
    "from sklearn.metrics import accuracy_score\n",
    "from sklearn.metrics import precision_score\n",
    "from sklearn.metrics import recall_score\n",
    "from sklearn.metrics import f1_score\n",
    "from sklearn.metrics import roc_auc_score\n",
    "\n",
    "print(\"Confusion Matrix: \\n\" + str(confusion_matrix(y_test, y_pred)))\n",
    "print(\"Accuracy: {:.4f}\".format(accuracy_score(y_test, y_pred)))\n",
    "print(\"Kappa: {:.4f}\".format(cohen_kappa_score(y_test, y_pred)))\n",
    "print(\"Precision: {:.4f}\".format(precision_score(y_test, y_pred,pos_label=1)))\n",
    "print(\"Recall: {:.4f}\".format(recall_score(y_test, y_pred,pos_label=1)))\n",
    "print(\"F1: {:.4f}\".format(f1_score(y_test, y_pred,pos_label=1)))\n",
    "print(\"Auc: {:.4f}\".format(roc_auc_score(y_test, y_pred)))"
   ],
   "execution_count": 0,
   "outputs": [
    {
     "output_type": "stream",
     "text": [
      "Confusion Matrix: \n",
      "[[43 21]\n",
      " [21 38]]\n",
      "Accuracy: 0.6585\n",
      "Kappa: 0.3159\n",
      "Precision: 0.6441\n",
      "Recall: 0.6441\n",
      "F1: 0.6441\n",
      "Auc: 0.6580\n"
     ],
     "name": "stdout"
    }
   ]
  },
  {
   "metadata": {
    "id": "WJ1mQbvOJaQl",
    "colab_type": "code",
    "colab": {}
   },
   "cell_type": "code",
   "source": [
    "model.save('nice_movie' + '_model2.h5')  "
   ],
   "execution_count": 0,
   "outputs": []
  },
  {
   "metadata": {
    "id": "Nvz8Z9-J-TRJ",
    "colab_type": "code",
    "outputId": "5912d229-bd1d-465e-e618-efad668ff9a3",
    "colab": {
     "base_uri": "https://localhost:8080/",
     "height": 121
    }
   },
   "cell_type": "code",
   "source": [
    "!pip install tmdbsimple\n",
    "\n",
    "import tmdbsimple as tmdb\n",
    "\n",
    "tmdb.API_KEY = '38dd5c6c01713ef99903275d51e2fd68'"
   ],
   "execution_count": 0,
   "outputs": [
    {
     "output_type": "stream",
     "text": [
      "Requirement already satisfied: tmdbsimple in /usr/local/lib/python3.6/dist-packages (2.2.0)\n",
      "Requirement already satisfied: requests in /usr/local/lib/python3.6/dist-packages (from tmdbsimple) (2.18.4)\n",
      "Requirement already satisfied: chardet<3.1.0,>=3.0.2 in /usr/local/lib/python3.6/dist-packages (from requests->tmdbsimple) (3.0.4)\n",
      "Requirement already satisfied: urllib3<1.23,>=1.21.1 in /usr/local/lib/python3.6/dist-packages (from requests->tmdbsimple) (1.22)\n",
      "Requirement already satisfied: idna<2.7,>=2.5 in /usr/local/lib/python3.6/dist-packages (from requests->tmdbsimple) (2.6)\n",
      "Requirement already satisfied: certifi>=2017.4.17 in /usr/local/lib/python3.6/dist-packages (from requests->tmdbsimple) (2019.3.9)\n"
     ],
     "name": "stdout"
    }
   ]
  },
  {
   "metadata": {
    "id": "s-kzUQdq863L",
    "colab_type": "code",
    "colab": {}
   },
   "cell_type": "code",
   "source": [
    "def get_likeness(film):\n",
    "  \n",
    "  search = tmdb.Search()\n",
    "  response = search.movie(query=film,language='es-ES')\n",
    "  \n",
    "  print(response)\n",
    "  \n",
    "\n",
    "  if len(response['results']) >= 1:\n",
    "    over = response['results'][0]['overview']\n",
    "    score = response['results'][0]['vote_average']\n",
    "    \n",
    "    id_movie = response['results'][0]['id']\n",
    "    \n",
    "    movie = tmdb.Movies(id_movie)\n",
    "    \n",
    "    actors = get_actors(movie.credits()['cast'])\n",
    "    director = get_director(movie.credits()['crew'])\n",
    "    \n",
    "    over = clean_overview(str(over))\n",
    "    over = delete_stop_words(over)\n",
    "\n",
    "    over = actors + ' ' + over\n",
    "    over = director + over\n",
    "    \n",
    "    print(over)\n",
    "    \n",
    "    X_over = tokenizer.texts_to_sequences(np.array([over]))\n",
    "    X_over = pad_sequences(X_over, padding='post', maxlen=maxlen)\n",
    "\n",
    "    probability = model.predict(X_over)\n",
    "    print(probability)\n",
    "    probability = probability[0][0] * 0.75 + (score/10)*0.25\n",
    "    \n",
    "    if (probability >= 0.5):\n",
    "        pred = 1\n",
    "        print(probability)\n",
    "        if (probability < 0.5):\n",
    "          probability = 0.5\n",
    "        \n",
    "    else:\n",
    "        pred = 0\n",
    "    \n",
    "    return (str(pred) , str(probability), score/10)\n",
    "  \n",
    "  else:\n",
    "    \n",
    "    return 'No existe la peli'\n",
    "  "
   ],
   "execution_count": 0,
   "outputs": []
  },
  {
   "metadata": {
    "id": "BRvFNL5nBlPU",
    "colab_type": "code",
    "outputId": "8c23ff4e-fdc5-485a-fa61-324e0bc4965b",
    "colab": {
     "base_uri": "https://localhost:8080/",
     "height": 34
    }
   },
   "cell_type": "code",
   "source": [
    "movie = tmdb.Movies(64)\n",
    "    \n",
    "get_director(movie.credits()['crew'])"
   ],
   "execution_count": 0,
   "outputs": [
    {
     "output_type": "execute_result",
     "data": {
      "text/plain": [
       "'pedro_almodovar'"
      ]
     },
     "metadata": {
      "tags": []
     },
     "execution_count": 219
    }
   ]
  },
  {
   "metadata": {
    "id": "zYO4-m5wL3Ll",
    "colab_type": "code",
    "outputId": "8bb71c55-88a0-499d-fa1e-eb87971f4d1b",
    "colab": {
     "base_uri": "https://localhost:8080/",
     "height": 106
    }
   },
   "cell_type": "code",
   "source": [
    "get_likeness(\"la boda de mi mejor amiga\")"
   ],
   "execution_count": 0,
   "outputs": [
    {
     "output_type": "stream",
     "text": [
      "{'page': 1, 'total_results': 1, 'total_pages': 1, 'results': [{'vote_count': 2682, 'id': 55721, 'video': False, 'vote_average': 6.5, 'title': 'La boda de mi mejor amiga', 'popularity': 13.59, 'poster_path': '/f5qGgjJYoG81SYAKF0VamjGrwd2.jpg', 'original_language': 'en', 'original_title': 'Bridesmaids', 'genre_ids': [35, 10749], 'backdrop_path': '/yMqCfrfz3QXGiurmXXP3pJIwKOR.jpg', 'adult': False, 'overview': 'Annie (Kristen Wiig) es una treintañera soltera del Medio Oeste, con una vida sentimental más bien precaria, a la que Lilliam, su mejor amiga (Maya Rudolph), le pide que sea su dama de honor. Sin embargo, aunque nunca ha ejercido esa función, la pobre se esfuerza por dárselas de snob en la fiesta anterior a la boda. Mientras tanto, otra amiga de Lillian (Rose Byrne) hará todo lo posible por arrebatarle el papel a la inexperta Annie', 'release_date': '2011-05-13'}]}\n",
      "paul_feig kristen_wiig maya_rudolph rose_byrne annie kristen wiig treintañera soltera oeste vida sentimental precaria lilliam amiga maya rudolph pide dama honor ejercido funcion pobre esfuerza darselas snob fiesta boda amiga lillian rose byrne hara arrebatarle papel inexperta annie\n",
      "[[0.00496199]]\n"
     ],
     "name": "stdout"
    },
    {
     "output_type": "execute_result",
     "data": {
      "text/plain": [
       "('0', '0.16622149306349457', 0.65)"
      ]
     },
     "metadata": {
      "tags": []
     },
     "execution_count": 316
    }
   ]
  },
  {
   "metadata": {
    "id": "fuJocWX_CC8r",
    "colab_type": "code",
    "colab": {}
   },
   "cell_type": "code",
   "source": [
    "word_embds = model.layers[1].get_weights()[0]\n",
    "word_list = []\n",
    "for word, i in tokenizer.word_index.items():\n",
    "    word_list.append(word)"
   ],
   "execution_count": 0,
   "outputs": []
  },
  {
   "metadata": {
    "id": "rvDRkNV0CFrm",
    "colab_type": "code",
    "colab": {}
   },
   "cell_type": "code",
   "source": [
    "from sklearn.manifold import TSNE\n",
    "\n",
    "X_embedded = TSNE(n_components=2).fit_transform(word_embds)\n",
    "number_of_words = 1000\n",
    "trace = go.Scatter(\n",
    "    x = X_embedded[0:number_of_words,0], \n",
    "    y = X_embedded[0:number_of_words, 1],\n",
    "    mode = 'markers',\n",
    "    text= word_list[0:number_of_words]\n",
    ")\n",
    "layout = dict(title= 't-SNE 1 vs t-SNE 2 for sirst 1000 words ',\n",
    "              yaxis = dict(title='t-SNE 2'),\n",
    "              xaxis = dict(title='t-SNE 1'),\n",
    "              hovermode= 'closest')\n",
    "fig = dict(data = [trace], layout= layout)\n",
    "py.iplot(fig)"
   ],
   "execution_count": 0,
   "outputs": []
  },
  {
   "metadata": {
    "id": "fnSAd3BxBzGF",
    "colab_type": "code",
    "outputId": "6659672d-a142-4bab-f508-9c71f06a9e1d",
    "colab": {
     "base_uri": "https://localhost:8080/",
     "height": 126
    }
   },
   "cell_type": "code",
   "source": [
    "import xgboost as xgb\n",
    "\n",
    "#model = xgb.XGBClassifier(max_depth=10,n_estimators=150,silent=False,objective='binary:logistic')\n",
    "model = xgb.XGBClassifier()\n",
    "model.fit(X_train, y_train)"
   ],
   "execution_count": 0,
   "outputs": [
    {
     "output_type": "execute_result",
     "data": {
      "text/plain": [
       "XGBClassifier(base_score=0.5, booster='gbtree', colsample_bylevel=1,\n",
       "       colsample_bytree=1, gamma=0, learning_rate=0.1, max_delta_step=0,\n",
       "       max_depth=3, min_child_weight=1, missing=None, n_estimators=100,\n",
       "       n_jobs=1, nthread=None, objective='binary:logistic', random_state=0,\n",
       "       reg_alpha=0, reg_lambda=1, scale_pos_weight=1, seed=None,\n",
       "       silent=True, subsample=1)"
      ]
     },
     "metadata": {
      "tags": []
     },
     "execution_count": 56
    }
   ]
  },
  {
   "metadata": {
    "id": "mR7WdupnB7pd",
    "colab_type": "code",
    "colab": {}
   },
   "cell_type": "code",
   "source": [
    "y_pred = model.predict(X_test)\n",
    "y_score = model.predict_proba(X_test)"
   ],
   "execution_count": 0,
   "outputs": []
  },
  {
   "metadata": {
    "id": "FcrD_SolC9Qt",
    "colab_type": "code",
    "colab": {}
   },
   "cell_type": "code",
   "source": [
    "!pip install finetune"
   ],
   "execution_count": 0,
   "outputs": []
  },
  {
   "metadata": {
    "id": "FFzRg88aDFdv",
    "colab_type": "code",
    "colab": {}
   },
   "cell_type": "code",
   "source": [
    "from finetune import Classifier\n",
    "\n",
    "model = Classifier()               # Load base model\n",
    "model.fit(X_train, y_train)          # Finetune base model on custom data\n",
    "y_pred = model.predict(X_test)"
   ],
   "execution_count": 0,
   "outputs": []
  }
 ]
}
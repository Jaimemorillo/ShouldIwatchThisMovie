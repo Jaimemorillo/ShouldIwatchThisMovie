{
  "nbformat": 4,
  "nbformat_minor": 0,
  "metadata": {
    "colab": {
      "name": "get_images.ipynb",
      "provenance": [],
      "collapsed_sections": []
    },
    "kernelspec": {
      "name": "python3",
      "display_name": "Python 3"
    }
  },
  "cells": [
    {
      "cell_type": "code",
      "metadata": {
        "id": "-w8R8drpKEVZ",
        "colab_type": "code",
        "outputId": "49ec39fb-c129-418a-a35f-9206981db425",
        "colab": {
          "base_uri": "https://localhost:8080/",
          "height": 124
        }
      },
      "source": [
        "from google.colab import drive\n",
        "drive.mount('/content/gdrive')"
      ],
      "execution_count": 0,
      "outputs": [
        {
          "output_type": "stream",
          "text": [
            "Go to this URL in a browser: https://accounts.google.com/o/oauth2/auth?client_id=947318989803-6bn6qk8qdgf4n4g3pfee6491hc0brc4i.apps.googleusercontent.com&redirect_uri=urn%3aietf%3awg%3aoauth%3a2.0%3aoob&response_type=code&scope=email%20https%3a%2f%2fwww.googleapis.com%2fauth%2fdocs.test%20https%3a%2f%2fwww.googleapis.com%2fauth%2fdrive%20https%3a%2f%2fwww.googleapis.com%2fauth%2fdrive.photos.readonly%20https%3a%2f%2fwww.googleapis.com%2fauth%2fpeopleapi.readonly\n",
            "\n",
            "Enter your authorization code:\n",
            "··········\n",
            "Mounted at /content/gdrive\n"
          ],
          "name": "stdout"
        }
      ]
    },
    {
      "cell_type": "code",
      "metadata": {
        "id": "SudpIXrLKGHM",
        "colab_type": "code",
        "outputId": "947e2ab6-ca18-4b27-d92e-c10b0168d498",
        "colab": {
          "base_uri": "https://localhost:8080/",
          "height": 193
        }
      },
      "source": [
        "%pip install tmdbsimple"
      ],
      "execution_count": 0,
      "outputs": [
        {
          "output_type": "stream",
          "text": [
            "Collecting tmdbsimple\n",
            "  Downloading https://files.pythonhosted.org/packages/52/d7/e84d96acfff3154bd84cc139472fb3d1293fabf20cd150833b3229c1e40d/tmdbsimple-2.2.0-py2.py3-none-any.whl\n",
            "Requirement already satisfied: requests in /usr/local/lib/python3.6/dist-packages (from tmdbsimple) (2.21.0)\n",
            "Requirement already satisfied: idna<2.9,>=2.5 in /usr/local/lib/python3.6/dist-packages (from requests->tmdbsimple) (2.8)\n",
            "Requirement already satisfied: certifi>=2017.4.17 in /usr/local/lib/python3.6/dist-packages (from requests->tmdbsimple) (2019.9.11)\n",
            "Requirement already satisfied: urllib3<1.25,>=1.21.1 in /usr/local/lib/python3.6/dist-packages (from requests->tmdbsimple) (1.24.3)\n",
            "Requirement already satisfied: chardet<3.1.0,>=3.0.2 in /usr/local/lib/python3.6/dist-packages (from requests->tmdbsimple) (3.0.4)\n",
            "Installing collected packages: tmdbsimple\n",
            "Successfully installed tmdbsimple-2.2.0\n"
          ],
          "name": "stdout"
        }
      ]
    },
    {
      "cell_type": "code",
      "metadata": {
        "id": "3vZM2Yy9JenL",
        "colab_type": "code",
        "colab": {}
      },
      "source": [
        "import pprint\n",
        "import time\n",
        "\n",
        "import pandas as pd\n",
        "import tmdbsimple as tmdb\n",
        "from requests.exceptions import HTTPError"
      ],
      "execution_count": 0,
      "outputs": []
    },
    {
      "cell_type": "code",
      "metadata": {
        "id": "xZjyu-nQKAzE",
        "colab_type": "code",
        "colab": {}
      },
      "source": [
        "data = pd.read_csv(\"gdrive/My Drive/TFG/tmdb_spanish_def.csv\", sep='#',encoding='utf-8', lineterminator='\\n')"
      ],
      "execution_count": 0,
      "outputs": []
    },
    {
      "cell_type": "code",
      "metadata": {
        "id": "Es-SpUo-KWE4",
        "colab_type": "code",
        "colab": {}
      },
      "source": [
        "pp = pprint\n",
        "\n",
        "tmdb.API_KEY = '38dd5c6c01713ef99903275d51e2fd68'"
      ],
      "execution_count": 0,
      "outputs": []
    },
    {
      "cell_type": "code",
      "metadata": {
        "id": "3YHorinBkCH0",
        "colab_type": "code",
        "outputId": "bce53da8-e1da-4910-b84f-3a2a37e44583",
        "colab": {
          "base_uri": "https://localhost:8080/",
          "height": 823
        }
      },
      "source": [
        "data"
      ],
      "execution_count": 0,
      "outputs": [
        {
          "output_type": "execute_result",
          "data": {
            "text/html": [
              "<div>\n",
              "<style scoped>\n",
              "    .dataframe tbody tr th:only-of-type {\n",
              "        vertical-align: middle;\n",
              "    }\n",
              "\n",
              "    .dataframe tbody tr th {\n",
              "        vertical-align: top;\n",
              "    }\n",
              "\n",
              "    .dataframe thead th {\n",
              "        text-align: right;\n",
              "    }\n",
              "</style>\n",
              "<table border=\"1\" class=\"dataframe\">\n",
              "  <thead>\n",
              "    <tr style=\"text-align: right;\">\n",
              "      <th></th>\n",
              "      <th>id</th>\n",
              "      <th>original_title</th>\n",
              "      <th>title</th>\n",
              "      <th>overview</th>\n",
              "      <th>genres</th>\n",
              "      <th>cast</th>\n",
              "      <th>crew</th>\n",
              "      <th>release_date</th>\n",
              "      <th>image_path</th>\n",
              "    </tr>\n",
              "  </thead>\n",
              "  <tbody>\n",
              "    <tr>\n",
              "      <th>0</th>\n",
              "      <td>5</td>\n",
              "      <td>Four Rooms</td>\n",
              "      <td>Four Rooms</td>\n",
              "      <td>Durante una Nochevieja, en un hotel de Los Áng...</td>\n",
              "      <td>[{'id': 80, 'name': 'Crimen'}, {'id': 35, 'nam...</td>\n",
              "      <td>[{'cast_id': 42, 'character': 'Ted the Bellhop...</td>\n",
              "      <td>[{'credit_id': '52fe420dc3a36847f800011b', 'de...</td>\n",
              "      <td>1995-12-09</td>\n",
              "      <td>https://image.tmdb.org/t/p/w200/zbwxBgGO9wtauX...</td>\n",
              "    </tr>\n",
              "    <tr>\n",
              "      <th>1</th>\n",
              "      <td>11</td>\n",
              "      <td>Star Wars</td>\n",
              "      <td>La guerra de las galaxias. Episodio IV: Una nu...</td>\n",
              "      <td>La princesa Leia, líder del movimiento rebelde...</td>\n",
              "      <td>[{'id': 12, 'name': 'Aventura'}, {'id': 28, 'n...</td>\n",
              "      <td>[{'cast_id': 3, 'character': 'Luke Skywalker',...</td>\n",
              "      <td>[{'credit_id': '52fe420dc3a36847f8000437', 'de...</td>\n",
              "      <td>1977-05-25</td>\n",
              "      <td>https://image.tmdb.org/t/p/w200/tvSlBzAdRE29bZ...</td>\n",
              "    </tr>\n",
              "    <tr>\n",
              "      <th>2</th>\n",
              "      <td>12</td>\n",
              "      <td>Finding Nemo</td>\n",
              "      <td>Buscando a Nemo</td>\n",
              "      <td>Nemo, un pececillo, hijo único muy querido y p...</td>\n",
              "      <td>[{'id': 16, 'name': 'Animación'}, {'id': 10751...</td>\n",
              "      <td>[{'cast_id': 8, 'character': 'Marlin (voice)',...</td>\n",
              "      <td>[{'credit_id': '52fe420ec3a36847f8000653', 'de...</td>\n",
              "      <td>2003-05-30</td>\n",
              "      <td>https://image.tmdb.org/t/p/w200/wc6k6nqoo5kAOM...</td>\n",
              "    </tr>\n",
              "    <tr>\n",
              "      <th>3</th>\n",
              "      <td>13</td>\n",
              "      <td>Forrest Gump</td>\n",
              "      <td>Forrest Gump</td>\n",
              "      <td>Forrest Gump es un chico con deficiencias ment...</td>\n",
              "      <td>[{'id': 35, 'name': 'Comedia'}, {'id': 18, 'na...</td>\n",
              "      <td>[{'cast_id': 7, 'character': 'Forrest Gump', '...</td>\n",
              "      <td>[{'credit_id': '52fe420ec3a36847f800072d', 'de...</td>\n",
              "      <td>1994-07-06</td>\n",
              "      <td>https://image.tmdb.org/t/p/w200/z4ROnCrL77ZMzT...</td>\n",
              "    </tr>\n",
              "    <tr>\n",
              "      <th>4</th>\n",
              "      <td>14</td>\n",
              "      <td>American Beauty</td>\n",
              "      <td>American Beauty</td>\n",
              "      <td>Divertida, inquietante y sorprendente incursió...</td>\n",
              "      <td>[{'id': 18, 'name': 'Drama'}]</td>\n",
              "      <td>[{'cast_id': 6, 'character': 'Lester Burnham',...</td>\n",
              "      <td>[{'credit_id': '52fe420ec3a36847f80007c5', 'de...</td>\n",
              "      <td>1999-09-15</td>\n",
              "      <td>https://image.tmdb.org/t/p/w200/or1MP8BZIAjqWY...</td>\n",
              "    </tr>\n",
              "    <tr>\n",
              "      <th>...</th>\n",
              "      <td>...</td>\n",
              "      <td>...</td>\n",
              "      <td>...</td>\n",
              "      <td>...</td>\n",
              "      <td>...</td>\n",
              "      <td>...</td>\n",
              "      <td>...</td>\n",
              "      <td>...</td>\n",
              "      <td>...</td>\n",
              "    </tr>\n",
              "    <tr>\n",
              "      <th>11419</th>\n",
              "      <td>395442</td>\n",
              "      <td>Seduced</td>\n",
              "      <td>Conexión peligrosa</td>\n",
              "      <td>Caroline, centrada en su trabajo como contable...</td>\n",
              "      <td>[{'id': 18, 'name': 'Drama'}, {'id': 53, 'name...</td>\n",
              "      <td>[{'cast_id': 0, 'character': 'Caroline', 'cred...</td>\n",
              "      <td>[{'credit_id': '5724eec792514122a9003e66', 'de...</td>\n",
              "      <td>2016-01-01</td>\n",
              "      <td>https://image.tmdb.org/t/p/w200/8egMKtHrVia5PT...</td>\n",
              "    </tr>\n",
              "    <tr>\n",
              "      <th>11420</th>\n",
              "      <td>462508</td>\n",
              "      <td>Dopahar ke Badal</td>\n",
              "      <td>Dopahar ke Badal</td>\n",
              "      <td>Kaki es una viuda de 70 años que vive con Malt...</td>\n",
              "      <td>[]</td>\n",
              "      <td>[]</td>\n",
              "      <td>[{'credit_id': '5bdae9e2925141540e00b3a9', 'de...</td>\n",
              "      <td>2016-01-01</td>\n",
              "      <td>https://image.tmdb.org/t/p/w200/Aj0Y8Or7jBiBIl...</td>\n",
              "    </tr>\n",
              "    <tr>\n",
              "      <th>11421</th>\n",
              "      <td>462514</td>\n",
              "      <td>Fresh Air</td>\n",
              "      <td>Fresh Air</td>\n",
              "      <td>La semana pasada hice una película de 49 de mi...</td>\n",
              "      <td>[]</td>\n",
              "      <td>[]</td>\n",
              "      <td>[{'credit_id': '5bcb05899251415f4a0058c0', 'de...</td>\n",
              "      <td>2016-01-01</td>\n",
              "      <td>None</td>\n",
              "    </tr>\n",
              "    <tr>\n",
              "      <th>11422</th>\n",
              "      <td>489349</td>\n",
              "      <td>The Last Witch</td>\n",
              "      <td>The Last Witch</td>\n",
              "      <td>Tres amigos filman un documental sobre Joanna ...</td>\n",
              "      <td>[{'id': 27, 'name': 'Terror'}]</td>\n",
              "      <td>[{'cast_id': 0, 'character': 'Profesor Robert'...</td>\n",
              "      <td>[]</td>\n",
              "      <td>2016-01-01</td>\n",
              "      <td>https://image.tmdb.org/t/p/w200/AcyWQ1HnUXUcOz...</td>\n",
              "    </tr>\n",
              "    <tr>\n",
              "      <th>11423</th>\n",
              "      <td>443476</td>\n",
              "      <td>Mommy's Secret</td>\n",
              "      <td>El Secreto de Mamá</td>\n",
              "      <td>Cuando una adolescente descubre que su propia ...</td>\n",
              "      <td>[{'id': 18, 'name': 'Drama'}, {'id': 80, 'name...</td>\n",
              "      <td>[{'cast_id': 3, 'character': 'Anne Harding', '...</td>\n",
              "      <td>[{'credit_id': '58b0076ec3a3682cee00aa84', 'de...</td>\n",
              "      <td>2016-01-01</td>\n",
              "      <td>https://image.tmdb.org/t/p/w200/7GqmOEUEmXdqYM...</td>\n",
              "    </tr>\n",
              "  </tbody>\n",
              "</table>\n",
              "<p>11424 rows × 9 columns</p>\n",
              "</div>"
            ],
            "text/plain": [
              "           id  ...                                         image_path\n",
              "0           5  ...  https://image.tmdb.org/t/p/w200/zbwxBgGO9wtauX...\n",
              "1          11  ...  https://image.tmdb.org/t/p/w200/tvSlBzAdRE29bZ...\n",
              "2          12  ...  https://image.tmdb.org/t/p/w200/wc6k6nqoo5kAOM...\n",
              "3          13  ...  https://image.tmdb.org/t/p/w200/z4ROnCrL77ZMzT...\n",
              "4          14  ...  https://image.tmdb.org/t/p/w200/or1MP8BZIAjqWY...\n",
              "...       ...  ...                                                ...\n",
              "11419  395442  ...  https://image.tmdb.org/t/p/w200/8egMKtHrVia5PT...\n",
              "11420  462508  ...  https://image.tmdb.org/t/p/w200/Aj0Y8Or7jBiBIl...\n",
              "11421  462514  ...                                               None\n",
              "11422  489349  ...  https://image.tmdb.org/t/p/w200/AcyWQ1HnUXUcOz...\n",
              "11423  443476  ...  https://image.tmdb.org/t/p/w200/7GqmOEUEmXdqYM...\n",
              "\n",
              "[11424 rows x 9 columns]"
            ]
          },
          "metadata": {
            "tags": []
          },
          "execution_count": 25
        }
      ]
    },
    {
      "cell_type": "code",
      "metadata": {
        "id": "g_0QraL9j5wN",
        "colab_type": "code",
        "colab": {}
      },
      "source": [
        "def get_image(movie_id):\n",
        "\n",
        "    movie = tmdb.Movies(movie_id)\n",
        "\n",
        "    def movie_request(movie):\n",
        "\n",
        "        image_path = movie.images()['posters'][0]['file_path']\n",
        "        return  'https://image.tmdb.org/t/p/w200' + image_path\n",
        "\n",
        "    try:\n",
        "\n",
        "        return movie_request(movie)\n",
        "\n",
        "    except HTTPError as err:\n",
        "\n",
        "        if err.response.status_code == 429:\n",
        "\n",
        "            time.sleep(10)\n",
        "            try:\n",
        "                return movie_request(movie)\n",
        "            except:\n",
        "                return 'http://placehold.it/500x450'\n",
        "\n",
        "        else:\n",
        "\n",
        "            return 'http://placehold.it/500x450'\n",
        "\n",
        "    except:\n",
        "\n",
        "        print('Fallo en: ' + str(id))"
      ],
      "execution_count": 0,
      "outputs": []
    },
    {
      "cell_type": "code",
      "metadata": {
        "id": "NTv7J7YhPcTB",
        "colab_type": "code",
        "outputId": "d8e0aa5b-e156-4ffa-d359-a263e1b158e5",
        "colab": {
          "base_uri": "https://localhost:8080/",
          "height": 34
        }
      },
      "source": [
        "get_image(11422)"
      ],
      "execution_count": 0,
      "outputs": [
        {
          "output_type": "execute_result",
          "data": {
            "text/plain": [
              "'https://image.tmdb.org/t/p/w200/dCUVG2po7DsBvnxfe7WGcJsUn9T.jpg'"
            ]
          },
          "metadata": {
            "tags": []
          },
          "execution_count": 37
        }
      ]
    },
    {
      "cell_type": "code",
      "metadata": {
        "id": "4Kk0TifRKk1P",
        "colab_type": "code",
        "outputId": "0f1555d6-9414-4c69-dcdd-b3cd643ebd5e",
        "colab": {
          "base_uri": "https://localhost:8080/",
          "height": 1000
        }
      },
      "source": [
        "data['image_path'] = dataover['id'].apply(lambda x: get_image(x))"
      ],
      "execution_count": 0,
      "outputs": [
        {
          "output_type": "stream",
          "text": [
            "Fallo en: 300327\n",
            "Fallo en: 320435\n",
            "Fallo en: 380097\n",
            "Fallo en: 479259\n",
            "Fallo en: 477018\n",
            "Fallo en: 429422\n",
            "Fallo en: 558594\n",
            "Fallo en: 584608\n",
            "Fallo en: 581424\n",
            "Fallo en: 563301\n",
            "Fallo en: 562561\n",
            "Fallo en: 555274\n",
            "Fallo en: 550410\n",
            "Fallo en: 532315\n",
            "Fallo en: 340321\n",
            "Fallo en: 530089\n",
            "Fallo en: 568854\n",
            "Fallo en: 447362\n",
            "Fallo en: 514292\n",
            "Fallo en: 518038\n",
            "Fallo en: 515406\n",
            "Fallo en: 483221\n",
            "Fallo en: 573402\n",
            "Fallo en: 573400\n",
            "Fallo en: 486764\n",
            "Fallo en: 482934\n",
            "Fallo en: 563297\n",
            "Fallo en: 529272\n",
            "Fallo en: 476298\n",
            "Fallo en: 484471\n",
            "Fallo en: 472849\n",
            "Fallo en: 469357\n",
            "Fallo en: 440695\n",
            "Fallo en: 526806\n",
            "Fallo en: 452741\n",
            "Fallo en: 446114\n",
            "Fallo en: 500553\n",
            "Fallo en: 443987\n",
            "Fallo en: 432113\n",
            "Fallo en: 415593\n",
            "Fallo en: 285746\n",
            "Fallo en: 427535\n",
            "Fallo en: 425706\n",
            "Fallo en: 443580\n",
            "Fallo en: 424820\n",
            "Fallo en: 424825\n",
            "Fallo en: 447167\n",
            "Fallo en: 420759\n",
            "Fallo en: 423270\n",
            "Fallo en: 534513\n",
            "Fallo en: 467095\n",
            "Fallo en: 413826\n",
            "Fallo en: 422813\n",
            "Fallo en: 464540\n",
            "Fallo en: 402814\n",
            "Fallo en: 403959\n",
            "Fallo en: 419957\n",
            "Fallo en: 439990\n",
            "Fallo en: 434807\n",
            "Fallo en: 395701\n",
            "Fallo en: 392102\n",
            "Fallo en: 413860\n",
            "Fallo en: 494552\n",
            "Fallo en: 409393\n",
            "Fallo en: 587318\n",
            "Fallo en: 513348\n",
            "Fallo en: 457719\n",
            "Fallo en: 378703\n",
            "Fallo en: 377193\n",
            "Fallo en: 405905\n",
            "Fallo en: 403379\n",
            "Fallo en: 522546\n",
            "Fallo en: 533414\n",
            "Fallo en: 462514\n"
          ],
          "name": "stdout"
        }
      ]
    },
    {
      "cell_type": "code",
      "metadata": {
        "colab_type": "code",
        "id": "zwWN2jz0jkot",
        "colab": {}
      },
      "source": [
        "data[pd.isna(data['image_path'])] = 'http://placehold.it/500x450'"
      ],
      "execution_count": 0,
      "outputs": []
    },
    {
      "cell_type": "code",
      "metadata": {
        "id": "CF_4aWR7KgZ0",
        "colab_type": "code",
        "colab": {}
      },
      "source": [
        "def get_vote_average(movie_id):\n",
        "\n",
        "    movie = tmdb.Movies(movie_id)\n",
        "\n",
        "    def movie_request(movie):\n",
        "\n",
        "        movie.info(language=\"es-ES\")\n",
        "\n",
        "        return movie.vote_average\n",
        "\n",
        "    try:\n",
        "\n",
        "        return movie_request(movie)\n",
        "\n",
        "    except HTTPError as err:\n",
        "\n",
        "        if err.response.status_code == 429:\n",
        "\n",
        "            time.sleep(10)\n",
        "            try:\n",
        "                return movie_request(movie)\n",
        "            except:\n",
        "                return 5\n",
        "\n",
        "        else:\n",
        "\n",
        "            return 5\n",
        "\n",
        "    except:\n",
        "\n",
        "        return 5"
      ],
      "execution_count": 0,
      "outputs": []
    },
    {
      "cell_type": "code",
      "metadata": {
        "id": "B-kQYx4MTA_e",
        "colab_type": "code",
        "outputId": "5b4c524b-31cf-47d6-a792-b6c2b4dabeec",
        "colab": {
          "base_uri": "https://localhost:8080/",
          "height": 34
        }
      },
      "source": [
        "get_vote_average(11422)"
      ],
      "execution_count": 0,
      "outputs": [
        {
          "output_type": "execute_result",
          "data": {
            "text/plain": [
              "6.4"
            ]
          },
          "metadata": {
            "tags": []
          },
          "execution_count": 56
        }
      ]
    },
    {
      "cell_type": "code",
      "metadata": {
        "id": "yQ_CE4nRSyQi",
        "colab_type": "code",
        "colab": {}
      },
      "source": [
        "data['vote_average'] = dataover['id'].apply(lambda x: get_vote_average(x))"
      ],
      "execution_count": 0,
      "outputs": []
    },
    {
      "cell_type": "code",
      "metadata": {
        "id": "jUEZpgjJ31kx",
        "colab_type": "code",
        "colab": {
          "base_uri": "https://localhost:8080/",
          "height": 930
        },
        "outputId": "701d5bb6-d3b0-4764-9ccf-66e89706c379"
      },
      "source": [
        "data"
      ],
      "execution_count": 58,
      "outputs": [
        {
          "output_type": "execute_result",
          "data": {
            "text/html": [
              "<div>\n",
              "<style scoped>\n",
              "    .dataframe tbody tr th:only-of-type {\n",
              "        vertical-align: middle;\n",
              "    }\n",
              "\n",
              "    .dataframe tbody tr th {\n",
              "        vertical-align: top;\n",
              "    }\n",
              "\n",
              "    .dataframe thead th {\n",
              "        text-align: right;\n",
              "    }\n",
              "</style>\n",
              "<table border=\"1\" class=\"dataframe\">\n",
              "  <thead>\n",
              "    <tr style=\"text-align: right;\">\n",
              "      <th></th>\n",
              "      <th>id</th>\n",
              "      <th>original_title</th>\n",
              "      <th>title</th>\n",
              "      <th>overview</th>\n",
              "      <th>genres</th>\n",
              "      <th>cast</th>\n",
              "      <th>crew</th>\n",
              "      <th>release_date</th>\n",
              "      <th>image_path</th>\n",
              "      <th>vote_average</th>\n",
              "    </tr>\n",
              "  </thead>\n",
              "  <tbody>\n",
              "    <tr>\n",
              "      <th>0</th>\n",
              "      <td>5</td>\n",
              "      <td>Four Rooms</td>\n",
              "      <td>Four Rooms</td>\n",
              "      <td>Durante una Nochevieja, en un hotel de Los Áng...</td>\n",
              "      <td>[{'id': 80, 'name': 'Crimen'}, {'id': 35, 'nam...</td>\n",
              "      <td>[{'cast_id': 42, 'character': 'Ted the Bellhop...</td>\n",
              "      <td>[{'credit_id': '52fe420dc3a36847f800011b', 'de...</td>\n",
              "      <td>1995-12-09</td>\n",
              "      <td>https://image.tmdb.org/t/p/w200/zbwxBgGO9wtauX...</td>\n",
              "      <td>6.1</td>\n",
              "    </tr>\n",
              "    <tr>\n",
              "      <th>1</th>\n",
              "      <td>11</td>\n",
              "      <td>Star Wars</td>\n",
              "      <td>La guerra de las galaxias. Episodio IV: Una nu...</td>\n",
              "      <td>La princesa Leia, líder del movimiento rebelde...</td>\n",
              "      <td>[{'id': 12, 'name': 'Aventura'}, {'id': 28, 'n...</td>\n",
              "      <td>[{'cast_id': 3, 'character': 'Luke Skywalker',...</td>\n",
              "      <td>[{'credit_id': '52fe420dc3a36847f8000437', 'de...</td>\n",
              "      <td>1977-05-25</td>\n",
              "      <td>https://image.tmdb.org/t/p/w200/tvSlBzAdRE29bZ...</td>\n",
              "      <td>8.2</td>\n",
              "    </tr>\n",
              "    <tr>\n",
              "      <th>2</th>\n",
              "      <td>12</td>\n",
              "      <td>Finding Nemo</td>\n",
              "      <td>Buscando a Nemo</td>\n",
              "      <td>Nemo, un pececillo, hijo único muy querido y p...</td>\n",
              "      <td>[{'id': 16, 'name': 'Animación'}, {'id': 10751...</td>\n",
              "      <td>[{'cast_id': 8, 'character': 'Marlin (voice)',...</td>\n",
              "      <td>[{'credit_id': '52fe420ec3a36847f8000653', 'de...</td>\n",
              "      <td>2003-05-30</td>\n",
              "      <td>https://image.tmdb.org/t/p/w200/wc6k6nqoo5kAOM...</td>\n",
              "      <td>7.8</td>\n",
              "    </tr>\n",
              "    <tr>\n",
              "      <th>3</th>\n",
              "      <td>13</td>\n",
              "      <td>Forrest Gump</td>\n",
              "      <td>Forrest Gump</td>\n",
              "      <td>Forrest Gump es un chico con deficiencias ment...</td>\n",
              "      <td>[{'id': 35, 'name': 'Comedia'}, {'id': 18, 'na...</td>\n",
              "      <td>[{'cast_id': 7, 'character': 'Forrest Gump', '...</td>\n",
              "      <td>[{'credit_id': '52fe420ec3a36847f800072d', 'de...</td>\n",
              "      <td>1994-07-06</td>\n",
              "      <td>https://image.tmdb.org/t/p/w200/z4ROnCrL77ZMzT...</td>\n",
              "      <td>8.4</td>\n",
              "    </tr>\n",
              "    <tr>\n",
              "      <th>4</th>\n",
              "      <td>14</td>\n",
              "      <td>American Beauty</td>\n",
              "      <td>American Beauty</td>\n",
              "      <td>Divertida, inquietante y sorprendente incursió...</td>\n",
              "      <td>[{'id': 18, 'name': 'Drama'}]</td>\n",
              "      <td>[{'cast_id': 6, 'character': 'Lester Burnham',...</td>\n",
              "      <td>[{'credit_id': '52fe420ec3a36847f80007c5', 'de...</td>\n",
              "      <td>1999-09-15</td>\n",
              "      <td>https://image.tmdb.org/t/p/w200/or1MP8BZIAjqWY...</td>\n",
              "      <td>8.0</td>\n",
              "    </tr>\n",
              "    <tr>\n",
              "      <th>...</th>\n",
              "      <td>...</td>\n",
              "      <td>...</td>\n",
              "      <td>...</td>\n",
              "      <td>...</td>\n",
              "      <td>...</td>\n",
              "      <td>...</td>\n",
              "      <td>...</td>\n",
              "      <td>...</td>\n",
              "      <td>...</td>\n",
              "      <td>...</td>\n",
              "    </tr>\n",
              "    <tr>\n",
              "      <th>11419</th>\n",
              "      <td>395442</td>\n",
              "      <td>Seduced</td>\n",
              "      <td>Conexión peligrosa</td>\n",
              "      <td>Caroline, centrada en su trabajo como contable...</td>\n",
              "      <td>[{'id': 18, 'name': 'Drama'}, {'id': 53, 'name...</td>\n",
              "      <td>[{'cast_id': 0, 'character': 'Caroline', 'cred...</td>\n",
              "      <td>[{'credit_id': '5724eec792514122a9003e66', 'de...</td>\n",
              "      <td>2016-01-01</td>\n",
              "      <td>https://image.tmdb.org/t/p/w200/8egMKtHrVia5PT...</td>\n",
              "      <td>6.8</td>\n",
              "    </tr>\n",
              "    <tr>\n",
              "      <th>11420</th>\n",
              "      <td>462508</td>\n",
              "      <td>Dopahar ke Badal</td>\n",
              "      <td>Dopahar ke Badal</td>\n",
              "      <td>Kaki es una viuda de 70 años que vive con Malt...</td>\n",
              "      <td>[]</td>\n",
              "      <td>[]</td>\n",
              "      <td>[{'credit_id': '5bdae9e2925141540e00b3a9', 'de...</td>\n",
              "      <td>2016-01-01</td>\n",
              "      <td>https://image.tmdb.org/t/p/w200/Aj0Y8Or7jBiBIl...</td>\n",
              "      <td>0.0</td>\n",
              "    </tr>\n",
              "    <tr>\n",
              "      <th>11421</th>\n",
              "      <td>http://placehold.it/500x450</td>\n",
              "      <td>http://placehold.it/500x450</td>\n",
              "      <td>http://placehold.it/500x450</td>\n",
              "      <td>http://placehold.it/500x450</td>\n",
              "      <td>http://placehold.it/500x450</td>\n",
              "      <td>http://placehold.it/500x450</td>\n",
              "      <td>http://placehold.it/500x450</td>\n",
              "      <td>http://placehold.it/500x450</td>\n",
              "      <td>http://placehold.it/500x450</td>\n",
              "      <td>0.0</td>\n",
              "    </tr>\n",
              "    <tr>\n",
              "      <th>11422</th>\n",
              "      <td>489349</td>\n",
              "      <td>The Last Witch</td>\n",
              "      <td>The Last Witch</td>\n",
              "      <td>Tres amigos filman un documental sobre Joanna ...</td>\n",
              "      <td>[{'id': 27, 'name': 'Terror'}]</td>\n",
              "      <td>[{'cast_id': 0, 'character': 'Profesor Robert'...</td>\n",
              "      <td>[]</td>\n",
              "      <td>2016-01-01</td>\n",
              "      <td>https://image.tmdb.org/t/p/w200/AcyWQ1HnUXUcOz...</td>\n",
              "      <td>1.3</td>\n",
              "    </tr>\n",
              "    <tr>\n",
              "      <th>11423</th>\n",
              "      <td>443476</td>\n",
              "      <td>Mommy's Secret</td>\n",
              "      <td>El Secreto de Mamá</td>\n",
              "      <td>Cuando una adolescente descubre que su propia ...</td>\n",
              "      <td>[{'id': 18, 'name': 'Drama'}, {'id': 80, 'name...</td>\n",
              "      <td>[{'cast_id': 3, 'character': 'Anne Harding', '...</td>\n",
              "      <td>[{'credit_id': '58b0076ec3a3682cee00aa84', 'de...</td>\n",
              "      <td>2016-01-01</td>\n",
              "      <td>https://image.tmdb.org/t/p/w200/7GqmOEUEmXdqYM...</td>\n",
              "      <td>4.0</td>\n",
              "    </tr>\n",
              "  </tbody>\n",
              "</table>\n",
              "<p>11424 rows × 10 columns</p>\n",
              "</div>"
            ],
            "text/plain": [
              "                                id  ... vote_average\n",
              "0                                5  ...          6.1\n",
              "1                               11  ...          8.2\n",
              "2                               12  ...          7.8\n",
              "3                               13  ...          8.4\n",
              "4                               14  ...          8.0\n",
              "...                            ...  ...          ...\n",
              "11419                       395442  ...          6.8\n",
              "11420                       462508  ...          0.0\n",
              "11421  http://placehold.it/500x450  ...          0.0\n",
              "11422                       489349  ...          1.3\n",
              "11423                       443476  ...          4.0\n",
              "\n",
              "[11424 rows x 10 columns]"
            ]
          },
          "metadata": {
            "tags": []
          },
          "execution_count": 58
        }
      ]
    },
    {
      "cell_type": "code",
      "metadata": {
        "id": "2D36-RLzm-4p",
        "colab_type": "code",
        "colab": {}
      },
      "source": [
        "data.to_csv('tmdb_spanish_def.csv', encoding='utf-8', sep='#', index='False')"
      ],
      "execution_count": 0,
      "outputs": []
    }
  ]
}
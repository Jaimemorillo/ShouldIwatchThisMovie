{
  "nbformat": 4,
  "nbformat_minor": 0,
  "metadata": {
    "colab": {
      "name": "get_movies.ipynb",
      "version": "0.3.2",
      "provenance": [],
      "collapsed_sections": [],
      "include_colab_link": true
    },
    "kernelspec": {
      "name": "python3",
      "display_name": "Python 3"
    }
  },
  "cells": [
    {
      "cell_type": "markdown",
      "metadata": {
        "id": "view-in-github",
        "colab_type": "text"
      },
      "source": [
        "<a href=\"https://colab.research.google.com/github/Jaimemorillo/ShouldIwatchThisMovie/blob/master/get_movies.ipynb\" target=\"_parent\"><img src=\"https://colab.research.google.com/assets/colab-badge.svg\" alt=\"Open In Colab\"/></a>"
      ]
    },
    {
      "cell_type": "code",
      "metadata": {
        "id": "SKpRDaaU9BrN",
        "colab_type": "code",
        "colab": {}
      },
      "source": [
        "import pandas as pd\n",
        "import numpy as np\n",
        "import pprint\n",
        "import time\n",
        "import requests\n",
        "from requests.exceptions import HTTPError\n",
        "\n",
        "pp = pprint"
      ],
      "execution_count": 0,
      "outputs": []
    },
    {
      "cell_type": "code",
      "metadata": {
        "id": "pT7RP31q9kdO",
        "colab_type": "code",
        "outputId": "b03fe5dc-5f22-445f-cc31-567e454a87c4",
        "colab": {
          "base_uri": "https://localhost:8080/",
          "height": 193
        }
      },
      "source": [
        "!pip install tmdbsimple\n",
        "\n",
        "import tmdbsimple as tmdb\n",
        "\n",
        "tmdb.API_KEY = '38dd5c6c01713ef99903275d51e2fd68'"
      ],
      "execution_count": 0,
      "outputs": [
        {
          "output_type": "stream",
          "text": [
            "Collecting tmdbsimple\n",
            "  Downloading https://files.pythonhosted.org/packages/52/d7/e84d96acfff3154bd84cc139472fb3d1293fabf20cd150833b3229c1e40d/tmdbsimple-2.2.0-py2.py3-none-any.whl\n",
            "Requirement already satisfied: requests in /usr/local/lib/python3.6/dist-packages (from tmdbsimple) (2.21.0)\n",
            "Requirement already satisfied: certifi>=2017.4.17 in /usr/local/lib/python3.6/dist-packages (from requests->tmdbsimple) (2019.3.9)\n",
            "Requirement already satisfied: urllib3<1.25,>=1.21.1 in /usr/local/lib/python3.6/dist-packages (from requests->tmdbsimple) (1.24.3)\n",
            "Requirement already satisfied: idna<2.9,>=2.5 in /usr/local/lib/python3.6/dist-packages (from requests->tmdbsimple) (2.8)\n",
            "Requirement already satisfied: chardet<3.1.0,>=3.0.2 in /usr/local/lib/python3.6/dist-packages (from requests->tmdbsimple) (3.0.4)\n",
            "Installing collected packages: tmdbsimple\n",
            "Successfully installed tmdbsimple-2.2.0\n"
          ],
          "name": "stdout"
        }
      ]
    },
    {
      "cell_type": "code",
      "metadata": {
        "id": "RF9iE3wzCUu2",
        "colab_type": "code",
        "colab": {}
      },
      "source": [
        "# Get last id\n",
        "movie = tmdb.Movies(5)\n",
        "movie.info(language=\"es-ES\")\n",
        "last_id = movie.id\n",
        "cast = movie.credits()['cast']\n",
        "crew = movie.credits()['crew']"
      ],
      "execution_count": 0,
      "outputs": []
    },
    {
      "cell_type": "code",
      "metadata": {
        "id": "Ks9ZLq0WHwS0",
        "colab_type": "code",
        "colab": {}
      },
      "source": [
        "start_id = 1"
      ],
      "execution_count": 0,
      "outputs": []
    },
    {
      "cell_type": "code",
      "metadata": {
        "id": "j9X6AE1JHpfb",
        "colab_type": "code",
        "colab": {}
      },
      "source": [
        "# Create empty dataframe\n",
        "films = pd.DataFrame(columns=['id','original_title','title','overview','genres','cast','crew','release_date'])"
      ],
      "execution_count": 0,
      "outputs": []
    },
    {
      "cell_type": "code",
      "metadata": {
        "id": "2mIs0tuq9t1O",
        "colab_type": "code",
        "colab": {}
      },
      "source": [
        "def get_all_info(movie_id):\n",
        "  \n",
        "  \n",
        "  movie = tmdb.Movies(movie_id)\n",
        "  \n",
        "  def movie_request(movie):\n",
        "    \n",
        "    movie.info(language=\"es-ES\")\n",
        "    cast = movie.credits()['cast']\n",
        "    crew = movie.credits()['crew']\n",
        "\n",
        "    return movie.id, movie.original_title,movie.title, movie.overview, movie.genres, cast, crew, movie.release_date\n",
        "  \n",
        "  try:\n",
        "      \n",
        "    return movie_request(movie)\n",
        "    \n",
        "  except HTTPError as err:\n",
        "    \n",
        "    #print(err.response.status_code)\n",
        "    if err.response.status_code == 429:\n",
        "      \n",
        "      time.sleep(10)\n",
        "      try:\n",
        "        return movie_request(movie)\n",
        "      except:\n",
        "        return movie_id, 'original_title', 'title', 'overview', 'genres', 'cast', 'crew', 'release_date'\n",
        "    \n",
        "    else:\n",
        "      \n",
        "      return movie_id, 'nan', 'nan', 'nan', 'nan', 'nan', 'nan', 'nan'\n",
        "\n",
        "  except:\n",
        "     \n",
        "      print('Fallo en: '+ str(movie_id))\n",
        "      "
      ],
      "execution_count": 0,
      "outputs": []
    },
    {
      "cell_type": "code",
      "metadata": {
        "id": "MyPMuPpjUyla",
        "colab_type": "code",
        "colab": {}
      },
      "source": [
        "films = pd.concat([pd.DataFrame([get_all_info(i)], columns=films.columns) for i in range(30)],ignore_index=True)"
      ],
      "execution_count": 0,
      "outputs": []
    },
    {
      "cell_type": "code",
      "metadata": {
        "id": "k7Xeg4Vvg_pe",
        "colab_type": "code",
        "outputId": "3f318028-4bdb-4179-ac24-c91fd6ca5d89",
        "colab": {
          "base_uri": "https://localhost:8080/",
          "height": 1059
        }
      },
      "source": [
        "for i in range(10000,600001,10000):\n",
        "  print(i-10000, i)"
      ],
      "execution_count": 0,
      "outputs": [
        {
          "output_type": "stream",
          "text": [
            "0 10000\n",
            "10000 20000\n",
            "20000 30000\n",
            "30000 40000\n",
            "40000 50000\n",
            "50000 60000\n",
            "60000 70000\n",
            "70000 80000\n",
            "80000 90000\n",
            "90000 100000\n",
            "100000 110000\n",
            "110000 120000\n",
            "120000 130000\n",
            "130000 140000\n",
            "140000 150000\n",
            "150000 160000\n",
            "160000 170000\n",
            "170000 180000\n",
            "180000 190000\n",
            "190000 200000\n",
            "200000 210000\n",
            "210000 220000\n",
            "220000 230000\n",
            "230000 240000\n",
            "240000 250000\n",
            "250000 260000\n",
            "260000 270000\n",
            "270000 280000\n",
            "280000 290000\n",
            "290000 300000\n",
            "300000 310000\n",
            "310000 320000\n",
            "320000 330000\n",
            "330000 340000\n",
            "340000 350000\n",
            "350000 360000\n",
            "360000 370000\n",
            "370000 380000\n",
            "380000 390000\n",
            "390000 400000\n",
            "400000 410000\n",
            "410000 420000\n",
            "420000 430000\n",
            "430000 440000\n",
            "440000 450000\n",
            "450000 460000\n",
            "460000 470000\n",
            "470000 480000\n",
            "480000 490000\n",
            "490000 500000\n",
            "500000 510000\n",
            "510000 520000\n",
            "520000 530000\n",
            "530000 540000\n",
            "540000 550000\n",
            "550000 560000\n",
            "560000 570000\n",
            "570000 580000\n",
            "580000 590000\n",
            "590000 600000\n"
          ],
          "name": "stdout"
        }
      ]
    }
  ]
}
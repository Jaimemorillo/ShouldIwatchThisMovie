{
  "nbformat": 4,
  "nbformat_minor": 0,
  "metadata": {
    "colab": {
      "name": "explore_movies.ipynb",
      "provenance": [],
      "collapsed_sections": []
    },
    "kernelspec": {
      "name": "python3",
      "display_name": "Python 3"
    }
  },
  "cells": [
    {
      "cell_type": "code",
      "metadata": {
        "id": "zevPOG3ryFIp",
        "colab_type": "code",
        "colab": {}
      },
      "source": [
        "import pandas as pd\n",
        "import glob"
      ],
      "execution_count": 0,
      "outputs": []
    },
    {
      "cell_type": "code",
      "metadata": {
        "id": "3Bt1XSoXyQL3",
        "colab_type": "code",
        "outputId": "37d5d314-108a-49b6-a6b8-ed1bcdf9c2a6",
        "colab": {
          "base_uri": "https://localhost:8080/",
          "height": 124
        }
      },
      "source": [
        "from google.colab import drive\n",
        "drive.mount('/content/gdrive')"
      ],
      "execution_count": 31,
      "outputs": [
        {
          "output_type": "stream",
          "text": [
            "Go to this URL in a browser: https://accounts.google.com/o/oauth2/auth?client_id=947318989803-6bn6qk8qdgf4n4g3pfee6491hc0brc4i.apps.googleusercontent.com&redirect_uri=urn%3Aietf%3Awg%3Aoauth%3A2.0%3Aoob&scope=email%20https%3A%2F%2Fwww.googleapis.com%2Fauth%2Fdocs.test%20https%3A%2F%2Fwww.googleapis.com%2Fauth%2Fdrive%20https%3A%2F%2Fwww.googleapis.com%2Fauth%2Fdrive.photos.readonly%20https%3A%2F%2Fwww.googleapis.com%2Fauth%2Fpeopleapi.readonly&response_type=code\n",
            "\n",
            "Enter your authorization code:\n",
            "··········\n",
            "Mounted at /content/gdrive\n"
          ],
          "name": "stdout"
        }
      ]
    },
    {
      "cell_type": "code",
      "metadata": {
        "id": "5qEz0DqByTUO",
        "colab_type": "code",
        "outputId": "2f417515-482c-4250-8bf5-bdb2fe53280e",
        "colab": {
          "base_uri": "https://localhost:8080/",
          "height": 34
        }
      },
      "source": [
        "path = r'gdrive/My Drive/TFG/movies/' # use your path\n",
        "all_files = glob.glob(path + \"/*.csv\")\n",
        "print(len(all_files))\n",
        "\n",
        "li = []\n",
        "\n",
        "for filename in all_files:\n",
        "    df = pd.read_csv(filename, index_col=None, header=0, sep='|')\n",
        "    li.append(df)\n",
        "\n",
        "data = pd.concat(li, axis=0, ignore_index=True)"
      ],
      "execution_count": 32,
      "outputs": [
        {
          "output_type": "stream",
          "text": [
            "59\n"
          ],
          "name": "stdout"
        }
      ]
    },
    {
      "cell_type": "code",
      "metadata": {
        "id": "mDe0huZsyT-f",
        "colab_type": "code",
        "colab": {}
      },
      "source": [
        "data = data.sort_values('id').reset_index(drop=True)"
      ],
      "execution_count": 0,
      "outputs": []
    },
    {
      "cell_type": "code",
      "metadata": {
        "id": "fI25DxL-DaoM",
        "colab_type": "code",
        "colab": {}
      },
      "source": [
        "df_5000 = pd.read_csv('tmdb_spanish_overview.csv', sep='#', lineterminator='\\n', encoding='utf-8')"
      ],
      "execution_count": 0,
      "outputs": []
    },
    {
      "cell_type": "code",
      "metadata": {
        "id": "iewxQ2UfDzoI",
        "colab_type": "code",
        "colab": {}
      },
      "source": [
        "df_5000 = df_5000[['id']]"
      ],
      "execution_count": 0,
      "outputs": []
    },
    {
      "cell_type": "code",
      "metadata": {
        "id": "rhcjiJNwD_iz",
        "colab_type": "code",
        "colab": {}
      },
      "source": [
        "df_5000 = data.join(df_5000.set_index('id'), on='id', how='inner')"
      ],
      "execution_count": 0,
      "outputs": []
    },
    {
      "cell_type": "code",
      "metadata": {
        "id": "lL5gsItNzB_D",
        "colab_type": "code",
        "colab": {}
      },
      "source": [
        "data = data.dropna(subset=['overview']).reset_index(drop=True)"
      ],
      "execution_count": 0,
      "outputs": []
    },
    {
      "cell_type": "code",
      "metadata": {
        "id": "XDaOJBkBzMhE",
        "colab_type": "code",
        "colab": {}
      },
      "source": [
        "data['len_over'] = data.overview.str.split().apply(len)"
      ],
      "execution_count": 0,
      "outputs": []
    },
    {
      "cell_type": "code",
      "metadata": {
        "id": "SBEsOhOszzlQ",
        "colab_type": "code",
        "colab": {}
      },
      "source": [
        "data = data[data['len_over'] > 20]"
      ],
      "execution_count": 0,
      "outputs": []
    },
    {
      "cell_type": "code",
      "metadata": {
        "id": "aUp__nWHzsEo",
        "colab_type": "code",
        "outputId": "4a08d581-3e73-4501-e6e1-7d05b08752c7",
        "colab": {
          "base_uri": "https://localhost:8080/",
          "height": 191
        }
      },
      "source": [
        "data.dtypes"
      ],
      "execution_count": 48,
      "outputs": [
        {
          "output_type": "execute_result",
          "data": {
            "text/plain": [
              "id                 int64\n",
              "original_title    object\n",
              "title             object\n",
              "overview          object\n",
              "genres            object\n",
              "cast              object\n",
              "crew              object\n",
              "release_date      object\n",
              "len_over           int64\n",
              "dtype: object"
            ]
          },
          "metadata": {
            "tags": []
          },
          "execution_count": 48
        }
      ]
    },
    {
      "cell_type": "code",
      "metadata": {
        "id": "JBVvr8rWzdAH",
        "colab_type": "code",
        "outputId": "6bfc5e72-da74-4301-bc93-860bb8db5736",
        "colab": {
          "base_uri": "https://localhost:8080/",
          "height": 1000
        }
      },
      "source": [
        "data.sort_values(by='release_date', ascending=False)"
      ],
      "execution_count": 49,
      "outputs": [
        {
          "output_type": "execute_result",
          "data": {
            "text/html": [
              "<div>\n",
              "<style scoped>\n",
              "    .dataframe tbody tr th:only-of-type {\n",
              "        vertical-align: middle;\n",
              "    }\n",
              "\n",
              "    .dataframe tbody tr th {\n",
              "        vertical-align: top;\n",
              "    }\n",
              "\n",
              "    .dataframe thead th {\n",
              "        text-align: right;\n",
              "    }\n",
              "</style>\n",
              "<table border=\"1\" class=\"dataframe\">\n",
              "  <thead>\n",
              "    <tr style=\"text-align: right;\">\n",
              "      <th></th>\n",
              "      <th>id</th>\n",
              "      <th>original_title</th>\n",
              "      <th>title</th>\n",
              "      <th>overview</th>\n",
              "      <th>genres</th>\n",
              "      <th>cast</th>\n",
              "      <th>crew</th>\n",
              "      <th>release_date</th>\n",
              "      <th>len_over</th>\n",
              "    </tr>\n",
              "  </thead>\n",
              "  <tbody>\n",
              "    <tr>\n",
              "      <th>50119</th>\n",
              "      <td>447365</td>\n",
              "      <td>Guardians of the Galaxy Vol. 3</td>\n",
              "      <td>Guardianes de la galaxia Vol. 3</td>\n",
              "      <td>Sinopsis pendiente de confirmar; se confirma l...</td>\n",
              "      <td>[{'id': 28, 'name': 'Acción'}, {'id': 12, 'nam...</td>\n",
              "      <td>[{'cast_id': 22, 'character': 'Peter Quill / S...</td>\n",
              "      <td>[{'credit_id': '58f5279f92514127b80026a4', 'de...</td>\n",
              "      <td>2022-05-06</td>\n",
              "      <td>49</td>\n",
              "    </tr>\n",
              "    <tr>\n",
              "      <th>46629</th>\n",
              "      <td>402431</td>\n",
              "      <td>Wicked</td>\n",
              "      <td>Wicked</td>\n",
              "      <td>La historia de una mujer de piel verde en el m...</td>\n",
              "      <td>[{'id': 18, 'name': 'Drama'}, {'id': 14, 'name...</td>\n",
              "      <td>[]</td>\n",
              "      <td>[{'credit_id': '5762f6c0c3a3684b63000127', 'de...</td>\n",
              "      <td>2021-12-22</td>\n",
              "      <td>28</td>\n",
              "    </tr>\n",
              "    <tr>\n",
              "      <th>39947</th>\n",
              "      <td>297708</td>\n",
              "      <td>Sherlock Holmes 3</td>\n",
              "      <td>Sherlock Holmes 3</td>\n",
              "      <td>Tercera entrega cinematográfica de las aventur...</td>\n",
              "      <td>[{'id': 9648, 'name': 'Misterio'}, {'id': 28, ...</td>\n",
              "      <td>[{'cast_id': 0, 'character': 'Sherlock Holmes'...</td>\n",
              "      <td>[{'credit_id': '57ea3caf92514136d800098b', 'de...</td>\n",
              "      <td>2021-12-21</td>\n",
              "      <td>72</td>\n",
              "    </tr>\n",
              "    <tr>\n",
              "      <th>22557</th>\n",
              "      <td>76600</td>\n",
              "      <td>Avatar 2</td>\n",
              "      <td>Avatar 2</td>\n",
              "      <td>Secuela del éxito de taquilla Avatar (2009). E...</td>\n",
              "      <td>[{'id': 28, 'name': 'Acción'}, {'id': 12, 'nam...</td>\n",
              "      <td>[{'cast_id': 47, 'character': 'Ronal', 'credit...</td>\n",
              "      <td>[{'credit_id': '52fe4943c3a368484e122b45', 'de...</td>\n",
              "      <td>2021-12-17</td>\n",
              "      <td>79</td>\n",
              "    </tr>\n",
              "    <tr>\n",
              "      <th>50595</th>\n",
              "      <td>453395</td>\n",
              "      <td>Doctor Strange 2</td>\n",
              "      <td>Doctor Strange 2</td>\n",
              "      <td>Sinopsis pendiente de confirmar, Pesadilla y M...</td>\n",
              "      <td>[{'id': 878, 'name': 'Ciencia ficción'}, {'id'...</td>\n",
              "      <td>[{'cast_id': 2, 'character': 'Stephen Strange ...</td>\n",
              "      <td>[{'credit_id': '58fa847fc3a36879f40021af', 'de...</td>\n",
              "      <td>2021-05-31</td>\n",
              "      <td>41</td>\n",
              "    </tr>\n",
              "    <tr>\n",
              "      <th>...</th>\n",
              "      <td>...</td>\n",
              "      <td>...</td>\n",
              "      <td>...</td>\n",
              "      <td>...</td>\n",
              "      <td>...</td>\n",
              "      <td>...</td>\n",
              "      <td>...</td>\n",
              "      <td>...</td>\n",
              "      <td>...</td>\n",
              "    </tr>\n",
              "    <tr>\n",
              "      <th>56848</th>\n",
              "      <td>589323</td>\n",
              "      <td>Las siete maravillas del mundo antiguo</td>\n",
              "      <td>Las siete maravillas del mundo antiguo</td>\n",
              "      <td>Las polvorientas ruinas de las Siete Maravilla...</td>\n",
              "      <td>[{'id': 99, 'name': 'Documental'}]</td>\n",
              "      <td>[]</td>\n",
              "      <td>[]</td>\n",
              "      <td>NaN</td>\n",
              "      <td>125</td>\n",
              "    </tr>\n",
              "    <tr>\n",
              "      <th>56858</th>\n",
              "      <td>589627</td>\n",
              "      <td>Esta es mi historia</td>\n",
              "      <td>Esta es mi historia</td>\n",
              "      <td>Esta es mi historia, un proyecto que ha llevad...</td>\n",
              "      <td>[]</td>\n",
              "      <td>[{'cast_id': 1, 'character': '', 'credit_id': ...</td>\n",
              "      <td>[]</td>\n",
              "      <td>NaN</td>\n",
              "      <td>21</td>\n",
              "    </tr>\n",
              "    <tr>\n",
              "      <th>56869</th>\n",
              "      <td>589708</td>\n",
              "      <td>Mother Teresa</td>\n",
              "      <td>La madre Teresa</td>\n",
              "      <td>Esta película narra la vida de Agnese Gonxha B...</td>\n",
              "      <td>[]</td>\n",
              "      <td>[]</td>\n",
              "      <td>[]</td>\n",
              "      <td>NaN</td>\n",
              "      <td>51</td>\n",
              "    </tr>\n",
              "    <tr>\n",
              "      <th>56874</th>\n",
              "      <td>589898</td>\n",
              "      <td>Lima Bruja</td>\n",
              "      <td>Lima Bruja</td>\n",
              "      <td>El estilo original de la música criolla de la ...</td>\n",
              "      <td>[]</td>\n",
              "      <td>[]</td>\n",
              "      <td>[{'credit_id': '5c942d5ac3a3682e53f205d0', 'de...</td>\n",
              "      <td>NaN</td>\n",
              "      <td>93</td>\n",
              "    </tr>\n",
              "    <tr>\n",
              "      <th>56879</th>\n",
              "      <td>589963</td>\n",
              "      <td>La filla d'algú</td>\n",
              "      <td>La filla d'algú</td>\n",
              "      <td>Eli, 30 años, abogada, embarazada, clase alta....</td>\n",
              "      <td>[{'id': 18, 'name': 'Drama'}]</td>\n",
              "      <td>[{'cast_id': 1, 'character': 'Eli', 'credit_id...</td>\n",
              "      <td>[{'credit_id': '5c94baa60e0a2645eb4fdef9', 'de...</td>\n",
              "      <td>NaN</td>\n",
              "      <td>55</td>\n",
              "    </tr>\n",
              "  </tbody>\n",
              "</table>\n",
              "<p>52867 rows × 9 columns</p>\n",
              "</div>"
            ],
            "text/plain": [
              "           id                          original_title  ... release_date len_over\n",
              "50119  447365          Guardians of the Galaxy Vol. 3  ...   2022-05-06       49\n",
              "46629  402431                                  Wicked  ...   2021-12-22       28\n",
              "39947  297708                       Sherlock Holmes 3  ...   2021-12-21       72\n",
              "22557   76600                                Avatar 2  ...   2021-12-17       79\n",
              "50595  453395                        Doctor Strange 2  ...   2021-05-31       41\n",
              "...       ...                                     ...  ...          ...      ...\n",
              "56848  589323  Las siete maravillas del mundo antiguo  ...          NaN      125\n",
              "56858  589627                     Esta es mi historia  ...          NaN       21\n",
              "56869  589708                           Mother Teresa  ...          NaN       51\n",
              "56874  589898                              Lima Bruja  ...          NaN       93\n",
              "56879  589963                         La filla d'algú  ...          NaN       55\n",
              "\n",
              "[52867 rows x 9 columns]"
            ]
          },
          "metadata": {
            "tags": []
          },
          "execution_count": 49
        }
      ]
    },
    {
      "cell_type": "code",
      "metadata": {
        "id": "D6GXNl_dzVEn",
        "colab_type": "code",
        "colab": {}
      },
      "source": [
        "movies = data[data['release_date'].str.contains('2019|2018|2017|2016', na=False)].sort_values(by='release_date', ascending=False)"
      ],
      "execution_count": 0,
      "outputs": []
    },
    {
      "cell_type": "code",
      "metadata": {
        "id": "zEkm-kw4EqXy",
        "colab_type": "code",
        "colab": {}
      },
      "source": [
        "df_def = df_5000.set_index('id').append(movies.set_index('id').drop(columns=['len_over']))"
      ],
      "execution_count": 0,
      "outputs": []
    },
    {
      "cell_type": "code",
      "metadata": {
        "id": "V_KCWYkUFaOR",
        "colab_type": "code",
        "colab": {}
      },
      "source": [
        "df_def.to_csv('tmdb_spanish_def.csv', encoding='utf-8', sep='#', index='False')"
      ],
      "execution_count": 0,
      "outputs": []
    },
    {
      "cell_type": "code",
      "metadata": {
        "id": "vpnZFhVGGWdl",
        "colab_type": "code",
        "colab": {}
      },
      "source": [
        "df_def = pd.read_csv('tmdb_spanish_def.csv', encoding='utf-8', sep='#', lineterminator='\\n')"
      ],
      "execution_count": 0,
      "outputs": []
    },
    {
      "cell_type": "code",
      "metadata": {
        "id": "IrRu_GZ_22pi",
        "colab_type": "code",
        "colab": {}
      },
      "source": [
        "df_movies = movies[['id','title','overview','release_date']]"
      ],
      "execution_count": 0,
      "outputs": []
    },
    {
      "cell_type": "code",
      "metadata": {
        "id": "uvEm7_z0BaZg",
        "colab_type": "code",
        "outputId": "dfbe9d0f-1c98-43a5-9d87-11d723178977",
        "colab": {
          "base_uri": "https://localhost:8080/",
          "height": 141
        }
      },
      "source": [
        "df_movies['like'] = ''"
      ],
      "execution_count": 0,
      "outputs": [
        {
          "output_type": "stream",
          "text": [
            "/usr/local/lib/python3.6/dist-packages/ipykernel_launcher.py:1: SettingWithCopyWarning: \n",
            "A value is trying to be set on a copy of a slice from a DataFrame.\n",
            "Try using .loc[row_indexer,col_indexer] = value instead\n",
            "\n",
            "See the caveats in the documentation: http://pandas.pydata.org/pandas-docs/stable/user_guide/indexing.html#returning-a-view-versus-a-copy\n",
            "  \"\"\"Entry point for launching an IPython kernel.\n"
          ],
          "name": "stderr"
        }
      ]
    },
    {
      "cell_type": "code",
      "metadata": {
        "id": "AC_asj_uCMPW",
        "colab_type": "code",
        "colab": {}
      },
      "source": [
        "df_movies.to_csv('tmdb_spanish_Jaime3.csv', sep=';', encoding='utf-8', index=False)"
      ],
      "execution_count": 0,
      "outputs": []
    },
    {
      "cell_type": "code",
      "metadata": {
        "id": "lv60aUmg03Bt",
        "colab_type": "code",
        "outputId": "863cb4ea-f8cf-48fb-ddf3-7ef32f4cd925",
        "colab": {
          "base_uri": "https://localhost:8080/",
          "height": 168
        }
      },
      "source": [
        "movies2016[movies2016['title'].str.contains('La ciudad')]"
      ],
      "execution_count": 0,
      "outputs": [
        {
          "output_type": "execute_result",
          "data": {
            "text/html": [
              "<div>\n",
              "<style scoped>\n",
              "    .dataframe tbody tr th:only-of-type {\n",
              "        vertical-align: middle;\n",
              "    }\n",
              "\n",
              "    .dataframe tbody tr th {\n",
              "        vertical-align: top;\n",
              "    }\n",
              "\n",
              "    .dataframe thead th {\n",
              "        text-align: right;\n",
              "    }\n",
              "</style>\n",
              "<table border=\"1\" class=\"dataframe\">\n",
              "  <thead>\n",
              "    <tr style=\"text-align: right;\">\n",
              "      <th></th>\n",
              "      <th>id</th>\n",
              "      <th>original_title</th>\n",
              "      <th>title</th>\n",
              "      <th>overview</th>\n",
              "      <th>genres</th>\n",
              "      <th>cast</th>\n",
              "      <th>crew</th>\n",
              "      <th>release_date</th>\n",
              "      <th>len_over</th>\n",
              "    </tr>\n",
              "  </thead>\n",
              "  <tbody>\n",
              "    <tr>\n",
              "      <th>40743</th>\n",
              "      <td>313369</td>\n",
              "      <td>La La Land</td>\n",
              "      <td>La ciudad de las estrellas (La La Land)</td>\n",
              "      <td>Mia (Emma Stone), una joven aspirante a actriz...</td>\n",
              "      <td>[{'id': 35, 'name': 'Comedia'}, {'id': 18, 'na...</td>\n",
              "      <td>[{'cast_id': 26, 'character': 'Sebastian Wilde...</td>\n",
              "      <td>[{'credit_id': '5499b8059251413126000003', 'de...</td>\n",
              "      <td>2016-11-29</td>\n",
              "      <td>51</td>\n",
              "    </tr>\n",
              "  </tbody>\n",
              "</table>\n",
              "</div>"
            ],
            "text/plain": [
              "           id original_title  ... release_date len_over\n",
              "40743  313369     La La Land  ...   2016-11-29       51\n",
              "\n",
              "[1 rows x 9 columns]"
            ]
          },
          "metadata": {
            "tags": []
          },
          "execution_count": 38
        }
      ]
    },
    {
      "cell_type": "code",
      "metadata": {
        "id": "iACpSkv68_F9",
        "colab_type": "code",
        "colab": {}
      },
      "source": [
        "like1 = pd.read_csv('tmdb_spanish_Jaime2.csv', sep='#')"
      ],
      "execution_count": 0,
      "outputs": []
    },
    {
      "cell_type": "code",
      "metadata": {
        "id": "TUravTW_9fxS",
        "colab_type": "code",
        "colab": {}
      },
      "source": [
        "like1 = like1[['id','like']]"
      ],
      "execution_count": 0,
      "outputs": []
    },
    {
      "cell_type": "code",
      "metadata": {
        "id": "Tso4buJV9vA7",
        "colab_type": "code",
        "colab": {
          "base_uri": "https://localhost:8080/",
          "height": 424
        },
        "outputId": "6116117e-d44d-43a2-8910-49fcbde9d43d"
      },
      "source": [
        "like1"
      ],
      "execution_count": 7,
      "outputs": [
        {
          "output_type": "execute_result",
          "data": {
            "text/html": [
              "<div>\n",
              "<style scoped>\n",
              "    .dataframe tbody tr th:only-of-type {\n",
              "        vertical-align: middle;\n",
              "    }\n",
              "\n",
              "    .dataframe tbody tr th {\n",
              "        vertical-align: top;\n",
              "    }\n",
              "\n",
              "    .dataframe thead th {\n",
              "        text-align: right;\n",
              "    }\n",
              "</style>\n",
              "<table border=\"1\" class=\"dataframe\">\n",
              "  <thead>\n",
              "    <tr style=\"text-align: right;\">\n",
              "      <th></th>\n",
              "      <th>id</th>\n",
              "      <th>like</th>\n",
              "    </tr>\n",
              "  </thead>\n",
              "  <tbody>\n",
              "    <tr>\n",
              "      <th>0</th>\n",
              "      <td>5</td>\n",
              "      <td>NaN</td>\n",
              "    </tr>\n",
              "    <tr>\n",
              "      <th>1</th>\n",
              "      <td>11</td>\n",
              "      <td>1.0</td>\n",
              "    </tr>\n",
              "    <tr>\n",
              "      <th>2</th>\n",
              "      <td>12</td>\n",
              "      <td>1.0</td>\n",
              "    </tr>\n",
              "    <tr>\n",
              "      <th>3</th>\n",
              "      <td>13</td>\n",
              "      <td>1.0</td>\n",
              "    </tr>\n",
              "    <tr>\n",
              "      <th>4</th>\n",
              "      <td>14</td>\n",
              "      <td>NaN</td>\n",
              "    </tr>\n",
              "    <tr>\n",
              "      <th>...</th>\n",
              "      <td>...</td>\n",
              "      <td>...</td>\n",
              "    </tr>\n",
              "    <tr>\n",
              "      <th>4804</th>\n",
              "      <td>426067</td>\n",
              "      <td>NaN</td>\n",
              "    </tr>\n",
              "    <tr>\n",
              "      <th>4805</th>\n",
              "      <td>426469</td>\n",
              "      <td>NaN</td>\n",
              "    </tr>\n",
              "    <tr>\n",
              "      <th>4806</th>\n",
              "      <td>433715</td>\n",
              "      <td>NaN</td>\n",
              "    </tr>\n",
              "    <tr>\n",
              "      <th>4807</th>\n",
              "      <td>447027</td>\n",
              "      <td>NaN</td>\n",
              "    </tr>\n",
              "    <tr>\n",
              "      <th>4808</th>\n",
              "      <td>459488</td>\n",
              "      <td>NaN</td>\n",
              "    </tr>\n",
              "  </tbody>\n",
              "</table>\n",
              "<p>4809 rows × 2 columns</p>\n",
              "</div>"
            ],
            "text/plain": [
              "          id  like\n",
              "0          5   NaN\n",
              "1         11   1.0\n",
              "2         12   1.0\n",
              "3         13   1.0\n",
              "4         14   NaN\n",
              "...      ...   ...\n",
              "4804  426067   NaN\n",
              "4805  426469   NaN\n",
              "4806  433715   NaN\n",
              "4807  447027   NaN\n",
              "4808  459488   NaN\n",
              "\n",
              "[4809 rows x 2 columns]"
            ]
          },
          "metadata": {
            "tags": []
          },
          "execution_count": 7
        }
      ]
    },
    {
      "cell_type": "code",
      "metadata": {
        "id": "-6PHs-Jv9w8_",
        "colab_type": "code",
        "colab": {}
      },
      "source": [
        "like2 = pd.read_csv('tmdb_spanish_Jaime3.csv', sep=';')"
      ],
      "execution_count": 0,
      "outputs": []
    },
    {
      "cell_type": "code",
      "metadata": {
        "id": "zyNoWusf97XE",
        "colab_type": "code",
        "colab": {}
      },
      "source": [
        "like2 = like2[['id','like']]"
      ],
      "execution_count": 0,
      "outputs": []
    },
    {
      "cell_type": "code",
      "metadata": {
        "id": "JhmHNV5i-RT4",
        "colab_type": "code",
        "colab": {
          "base_uri": "https://localhost:8080/",
          "height": 86
        },
        "outputId": "aa38e425-f38b-4c84-e676-300698dd5a25"
      },
      "source": [
        "like1['like'].value_counts(dropna=False)"
      ],
      "execution_count": 15,
      "outputs": [
        {
          "output_type": "execute_result",
          "data": {
            "text/plain": [
              "NaN    3985\n",
              "0.0     430\n",
              "1.0     394\n",
              "Name: like, dtype: int64"
            ]
          },
          "metadata": {
            "tags": []
          },
          "execution_count": 15
        }
      ]
    },
    {
      "cell_type": "code",
      "metadata": {
        "id": "3Uuiv2UL-A3l",
        "colab_type": "code",
        "colab": {
          "base_uri": "https://localhost:8080/",
          "height": 86
        },
        "outputId": "6e49985d-ce87-457f-f423-0486c5711a1f"
      },
      "source": [
        "like2['like'].value_counts(dropna=False)"
      ],
      "execution_count": 20,
      "outputs": [
        {
          "output_type": "execute_result",
          "data": {
            "text/plain": [
              "NaN    6307\n",
              "0       129\n",
              "1       121\n",
              "Name: like, dtype: int64"
            ]
          },
          "metadata": {
            "tags": []
          },
          "execution_count": 20
        }
      ]
    },
    {
      "cell_type": "code",
      "metadata": {
        "id": "DG8O0tpR-q9E",
        "colab_type": "code",
        "colab": {}
      },
      "source": [
        "likedef = like1.append(like2)"
      ],
      "execution_count": 0,
      "outputs": []
    },
    {
      "cell_type": "code",
      "metadata": {
        "id": "CX84PELV-wdp",
        "colab_type": "code",
        "colab": {}
      },
      "source": [
        "likedef['like'] = likedef.like.astype(float)"
      ],
      "execution_count": 0,
      "outputs": []
    },
    {
      "cell_type": "code",
      "metadata": {
        "id": "llTvL2vr_dyp",
        "colab_type": "code",
        "colab": {}
      },
      "source": [
        "likedef.to_csv('tmdb_spanish_Jaime_def.csv', sep='#', encoding='utf-8', index=False)"
      ],
      "execution_count": 0,
      "outputs": []
    }
  ]
}
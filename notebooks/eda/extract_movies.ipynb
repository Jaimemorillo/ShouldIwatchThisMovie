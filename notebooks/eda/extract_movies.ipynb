{
  "nbformat": 4,
  "nbformat_minor": 0,
  "metadata": {
    "colab": {
      "name": "extract-movies.ipynb",
      "version": "0.3.2",
      "provenance": [],
      "collapsed_sections": [],
      "include_colab_link": true
    },
    "kernelspec": {
      "name": "python3",
      "display_name": "Python 3"
    }
  },
  "cells": [
    {
      "cell_type": "markdown",
      "metadata": {
        "id": "view-in-github",
        "colab_type": "text"
      },
      "source": [
        "<a href=\"https://colab.research.google.com/github/Jaimemorillo/ShouldIwatchThisMovie/blob/master/extract_movies.ipynb\" target=\"_parent\"><img src=\"https://colab.research.google.com/assets/colab-badge.svg\" alt=\"Open In Colab\"/></a>"
      ]
    },
    {
      "metadata": {
        "id": "79F4yJjj-sR_",
        "colab_type": "code",
        "colab": {}
      },
      "cell_type": "code",
      "source": [
        "from google.colab import drive\n",
        "drive.mount('/content/gdrive')"
      ],
      "execution_count": 0,
      "outputs": []
    },
    {
      "metadata": {
        "id": "i5GUx-MT-9Rk",
        "colab_type": "code",
        "colab": {}
      },
      "cell_type": "code",
      "source": [
        "import pandas as pd\n",
        "import time\n",
        "import numpy as np"
      ],
      "execution_count": 0,
      "outputs": []
    },
    {
      "metadata": {
        "id": "IeDLGzN8_BqZ",
        "colab_type": "code",
        "outputId": "05b0446c-ae51-4618-aa15-03b23812db44",
        "colab": {
          "base_uri": "https://localhost:8080/",
          "height": 193
        }
      },
      "cell_type": "code",
      "source": [
        "!pip install tmdbsimple"
      ],
      "execution_count": 0,
      "outputs": [
        {
          "output_type": "stream",
          "text": [
            "Collecting tmdbsimple\n",
            "  Downloading https://files.pythonhosted.org/packages/52/d7/e84d96acfff3154bd84cc139472fb3d1293fabf20cd150833b3229c1e40d/tmdbsimple-2.2.0-py2.py3-none-any.whl\n",
            "Requirement already satisfied: requests in /usr/local/lib/python3.6/dist-packages (from tmdbsimple) (2.18.4)\n",
            "Requirement already satisfied: certifi>=2017.4.17 in /usr/local/lib/python3.6/dist-packages (from requests->tmdbsimple) (2019.3.9)\n",
            "Requirement already satisfied: chardet<3.1.0,>=3.0.2 in /usr/local/lib/python3.6/dist-packages (from requests->tmdbsimple) (3.0.4)\n",
            "Requirement already satisfied: urllib3<1.23,>=1.21.1 in /usr/local/lib/python3.6/dist-packages (from requests->tmdbsimple) (1.22)\n",
            "Requirement already satisfied: idna<2.7,>=2.5 in /usr/local/lib/python3.6/dist-packages (from requests->tmdbsimple) (2.6)\n",
            "Installing collected packages: tmdbsimple\n",
            "Successfully installed tmdbsimple-2.2.0\n"
          ],
          "name": "stdout"
        }
      ]
    },
    {
      "metadata": {
        "id": "p8g3oJ-P_HOa",
        "colab_type": "code",
        "colab": {}
      },
      "cell_type": "code",
      "source": [
        "import tmdbsimple as tmdb\n",
        "\n",
        "tmdb.API_KEY = '38dd5c6c01713ef99903275d51e2fd68'"
      ],
      "execution_count": 0,
      "outputs": []
    },
    {
      "metadata": {
        "id": "9KNBuxPn_Jv0",
        "colab_type": "code",
        "outputId": "4ad39805-68f3-4772-a695-9e13d8ba844e",
        "colab": {
          "base_uri": "https://localhost:8080/",
          "height": 34
        }
      },
      "cell_type": "code",
      "source": [
        "movie = tmdb.Movies(285)\n",
        "response = movie.info(language=\"es-ES\")\n",
        "response['title']"
      ],
      "execution_count": 0,
      "outputs": [
        {
          "output_type": "execute_result",
          "data": {
            "text/plain": [
              "'Piratas del Caribe: En el fin del mundo'"
            ]
          },
          "metadata": {
            "tags": []
          },
          "execution_count": 6
        }
      ]
    },
    {
      "metadata": {
        "id": "xpzuyGn3_MDB",
        "colab_type": "code",
        "colab": {}
      },
      "cell_type": "code",
      "source": [
        "search = tmdb.Search()\n",
        "response = search.tv(query='Juego de Tronos',language='es-ES')"
      ],
      "execution_count": 0,
      "outputs": []
    },
    {
      "metadata": {
        "id": "jRVAPahr_PR4",
        "colab_type": "code",
        "colab": {}
      },
      "cell_type": "code",
      "source": [
        "response['results'][0]['overview']"
      ],
      "execution_count": 0,
      "outputs": []
    },
    {
      "metadata": {
        "id": "lU709wCI_Tkl",
        "colab_type": "code",
        "colab": {}
      },
      "cell_type": "code",
      "source": [
        "data = pd.read_csv(\"gdrive/My Drive/TFG/tmdb_5000_movies.csv\")"
      ],
      "execution_count": 0,
      "outputs": []
    },
    {
      "metadata": {
        "id": "j4qoWgqs_WcQ",
        "colab_type": "code",
        "colab": {}
      },
      "cell_type": "code",
      "source": [
        "def get_spanish_overview(id):\n",
        "  \n",
        "  movie = tmdb.Movies(id)\n",
        "  \n",
        "  try:\n",
        "  \n",
        "    response = movie.info(language=\"es-ES\")\n",
        "    over = response['overview']\n",
        "    return over \n",
        "  \n",
        "  except: \n",
        "    \n",
        "    try:\n",
        "      \n",
        "      time.sleep(5)\n",
        "      response = movie.info(language=\"es-ES\")\n",
        "      over = response['overview']\n",
        "      return  over \n",
        "    \n",
        "    except:\n",
        "      \n",
        "      return ''"
      ],
      "execution_count": 0,
      "outputs": []
    },
    {
      "metadata": {
        "id": "ZyS88OwY_hz5",
        "colab_type": "code",
        "colab": {}
      },
      "cell_type": "code",
      "source": [
        "data['overview'] = data['overview'].apply(lambda x:'')\n",
        "data['overview'] = data.apply(lambda x: get_spanish_overview(x['id']) if x['overview'] == '' else  x['overview'], axis=1 )"
      ],
      "execution_count": 0,
      "outputs": []
    },
    {
      "metadata": {
        "id": "2d-V4YyuobyS",
        "colab_type": "code",
        "colab": {}
      },
      "cell_type": "code",
      "source": [
        "def get_spanish_title(id):\n",
        "  \n",
        "  movie = tmdb.Movies(id)\n",
        "  \n",
        "  try:\n",
        "  \n",
        "    response = movie.info(language=\"es-ES\")\n",
        "    over = response['title']\n",
        "    return over \n",
        "  \n",
        "  except: \n",
        "    \n",
        "    try:\n",
        "      \n",
        "      time.sleep(5)\n",
        "      response = movie.info(language=\"es-ES\")\n",
        "      over = response['title']\n",
        "      return  over \n",
        "    \n",
        "    except:\n",
        "      \n",
        "      return ''"
      ],
      "execution_count": 0,
      "outputs": []
    },
    {
      "metadata": {
        "id": "9H21MPljpSpw",
        "colab_type": "code",
        "colab": {}
      },
      "cell_type": "code",
      "source": [
        "data['title'] = data['title'].apply(lambda x:'')\n",
        "data['title'] = data.apply(lambda x: get_spanish_title(x['id']) if x['title'] == '' else  x['title'], axis=1 )"
      ],
      "execution_count": 0,
      "outputs": []
    },
    {
      "metadata": {
        "id": "eDd4Uw2u_mFE",
        "colab_type": "code",
        "colab": {}
      },
      "cell_type": "code",
      "source": [
        "data.to_csv(\"tmdb_spanish.csv\",sep=';',encoding='utf-8')"
      ],
      "execution_count": 0,
      "outputs": []
    }
  ]
}
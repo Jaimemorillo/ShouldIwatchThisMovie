{
  "nbformat": 4,
  "nbformat_minor": 0,
  "metadata": {
    "colab": {
      "name": "nice-movie-model.ipynb",
      "version": "0.3.2",
      "provenance": [],
      "collapsed_sections": [],
      "include_colab_link": true
    },
    "kernelspec": {
      "name": "python3",
      "display_name": "Python 3"
    },
    "accelerator": "GPU"
  },
  "cells": [
    {
      "cell_type": "markdown",
      "metadata": {
        "id": "view-in-github",
        "colab_type": "text"
      },
      "source": [
        "<a href=\"https://colab.research.google.com/github/Jaimemorillo/ShouldIwatchThisMovie/blob/master/nice_movie_model.ipynb\" target=\"_parent\"><img src=\"https://colab.research.google.com/assets/colab-badge.svg\" alt=\"Open In Colab\"/></a>"
      ]
    },
    {
      "metadata": {
        "id": "X4FsDixDIzQ9",
        "colab_type": "code",
        "outputId": "c2f94fc4-774a-4de9-aaca-0129d3a961be",
        "colab": {
          "base_uri": "https://localhost:8080/",
          "height": 34
        }
      },
      "cell_type": "code",
      "source": [
        "from google.colab import drive\n",
        "drive.mount('/content/gdrive')"
      ],
      "execution_count": 1,
      "outputs": [
        {
          "output_type": "stream",
          "text": [
            "Drive already mounted at /content/gdrive; to attempt to forcibly remount, call drive.mount(\"/content/gdrive\", force_remount=True).\n"
          ],
          "name": "stdout"
        }
      ]
    },
    {
      "metadata": {
        "id": "rl4LFkMQoya5",
        "colab_type": "code",
        "outputId": "d821babb-1680-48ca-a0ff-ed9986e9215a",
        "colab": {
          "base_uri": "https://localhost:8080/",
          "height": 34
        }
      },
      "cell_type": "code",
      "source": [
        "import pandas as pd\n",
        "import tensorflow as tf\n",
        "import time\n",
        "import numpy as np\n",
        "import json\n",
        "\n",
        "print(tf.__version__)"
      ],
      "execution_count": 2,
      "outputs": [
        {
          "output_type": "stream",
          "text": [
            "1.13.1\n"
          ],
          "name": "stdout"
        }
      ]
    },
    {
      "metadata": {
        "id": "3y4bBmOrCL9Z",
        "colab_type": "code",
        "outputId": "e861e885-af7b-4264-a5e0-96cb34e97cb3",
        "colab": {
          "base_uri": "https://localhost:8080/",
          "height": 17
        }
      },
      "cell_type": "code",
      "source": [
        "import plotly.offline as py\n",
        "import plotly.graph_objs as go\n",
        "py.init_notebook_mode(connected=True)"
      ],
      "execution_count": 3,
      "outputs": [
        {
          "output_type": "display_data",
          "data": {
            "text/vnd.plotly.v1+html": "<script type=\"text/javascript\">window.PlotlyConfig = {MathJaxConfig: 'local'};</script><script type=\"text/javascript\">if (window.MathJax) {MathJax.Hub.Config({SVG: {font: \"STIX-Web\"}});}</script><script>requirejs.config({paths: { 'plotly': ['https://cdn.plot.ly/plotly-latest.min']},});if(!window._Plotly) {require(['plotly'],function(plotly) {window._Plotly=plotly;});}</script>",
            "text/html": [
              "<script type=\"text/javascript\">window.PlotlyConfig = {MathJaxConfig: 'local'};</script><script type=\"text/javascript\">if (window.MathJax) {MathJax.Hub.Config({SVG: {font: \"STIX-Web\"}});}</script><script>requirejs.config({paths: { 'plotly': ['https://cdn.plot.ly/plotly-latest.min']},});if(!window._Plotly) {require(['plotly'],function(plotly) {window._Plotly=plotly;});}</script>"
            ]
          },
          "metadata": {
            "tags": []
          }
        }
      ]
    },
    {
      "metadata": {
        "id": "T1urQMU5YkEC",
        "colab_type": "code",
        "colab": {}
      },
      "cell_type": "code",
      "source": [
        "dataover = pd.read_csv(\"gdrive/My Drive/TFG/tmdb_spanish_overview.csv\",sep='#',lineterminator='\\n')\n",
        "taste = pd.read_csv(\"gdrive/My Drive/TFG/tmdb_spanish_Jaime2.csv\",sep=';', encoding='utf-8')\n",
        "credits = pd.read_csv(\"gdrive/My Drive/TFG/tmdb_5000_credits.csv\")"
      ],
      "execution_count": 0,
      "outputs": []
    },
    {
      "metadata": {
        "id": "_ZKXfq0GiJq6",
        "colab_type": "code",
        "colab": {}
      },
      "cell_type": "code",
      "source": [
        "taste = taste[~taste['id'].str.contains('/')]\n",
        "taste['id'] = taste['id'].astype(int)\n",
        "credits['movie_id'] = credits['movie_id'].astype(int)"
      ],
      "execution_count": 0,
      "outputs": []
    },
    {
      "metadata": {
        "id": "D4mTpGIoaAq1",
        "colab_type": "code",
        "colab": {}
      },
      "cell_type": "code",
      "source": [
        "# Merge taste and credits\n",
        "\n",
        "data = taste.merge(dataover[['id','overview']], left_on='id', right_on='id')\n",
        "data = data.merge(credits[['movie_id','cast','crew']], left_on='id', right_on='movie_id')\n",
        "data.drop(['movie_id'],axis=1, inplace= True)"
      ],
      "execution_count": 0,
      "outputs": []
    },
    {
      "metadata": {
        "id": "lhpyV6W4gXPh",
        "colab_type": "code",
        "outputId": "4aa18181-fd7e-4d1b-fe8e-e4747b71cccd",
        "colab": {
          "base_uri": "https://localhost:8080/",
          "height": 34
        }
      },
      "cell_type": "code",
      "source": [
        "data = data[~pd.isna(data.overview)]\n",
        "len(data)"
      ],
      "execution_count": 76,
      "outputs": [
        {
          "output_type": "execute_result",
          "data": {
            "text/plain": [
              "4406"
            ]
          },
          "metadata": {
            "tags": []
          },
          "execution_count": 76
        }
      ]
    },
    {
      "metadata": {
        "id": "0zId8PUhkQX0",
        "colab_type": "code",
        "colab": {
          "base_uri": "https://localhost:8080/",
          "height": 34
        },
        "outputId": "ec718b17-99dc-4ccc-e2cd-22ac79f4fbaf"
      },
      "cell_type": "code",
      "source": [
        "data = data.dropna(subset=['like'])\n",
        "data['like'] = data['like'].astype(int)\n",
        "data.reset_index(inplace=True,drop=True)\n",
        "len(data)"
      ],
      "execution_count": 77,
      "outputs": [
        {
          "output_type": "execute_result",
          "data": {
            "text/plain": [
              "816"
            ]
          },
          "metadata": {
            "tags": []
          },
          "execution_count": 77
        }
      ]
    },
    {
      "metadata": {
        "id": "-l7_kcrl_Iv4",
        "colab_type": "code",
        "colab": {}
      },
      "cell_type": "code",
      "source": [
        "# Clean overviews ver que ocurre con deadpool y deadpool 2 \n",
        "\n",
        "import string\n",
        "\n",
        "stop_words = pd.read_csv(\"gdrive/My Drive/TFG/stopwords-es.txt\",header=None)\n",
        "stop_words = stop_words[0].tolist() + ['secuela']\n",
        "\n",
        "def normalize(s):\n",
        "    replacements = (\n",
        "        (\"á\", \"a\"),\n",
        "        (\"é\", \"e\"),\n",
        "        (\"í\", \"i\"),\n",
        "        (\"ó\", \"o\"),\n",
        "        (\"ú\", \"u\"),\n",
        "    )\n",
        "    for a, b in replacements:\n",
        "        s = s.replace(a, b).replace(a.upper(), b.upper())\n",
        "    return s\n",
        "\n",
        "def clean_overview(x):\n",
        "    x = normalize(x.lower())\n",
        "    x = x.translate(str.maketrans('','',string.punctuation))\n",
        "    x = x.translate(str.maketrans('','','1234567890ªº'))\n",
        "    return x\n",
        "\n",
        "def delete_stop_words(x):\n",
        "    words = x.split(\" \")\n",
        "    words = [word for word in words if word not in stop_words]\n",
        "    x = str(' '.join(words))\n",
        "    return x\n"
      ],
      "execution_count": 0,
      "outputs": []
    },
    {
      "metadata": {
        "id": "FR0ULnEis-uV",
        "colab_type": "code",
        "colab": {}
      },
      "cell_type": "code",
      "source": [
        "data['overview']=data['overview'].apply(lambda x: clean_overview(str(x)))\n",
        "data['overview']=data['overview'].apply(lambda x: delete_stop_words(x))"
      ],
      "execution_count": 0,
      "outputs": []
    },
    {
      "metadata": {
        "id": "Fwqa_34pqbs7",
        "colab_type": "code",
        "colab": {}
      },
      "cell_type": "code",
      "source": [
        "# Get staff and paste to overview\n",
        "\n",
        "def get_actors(cast):\n",
        "  \n",
        "  try:\n",
        "    \n",
        "    json_cast = json.loads(cast)\n",
        "  \n",
        "  except:\n",
        "    \n",
        "    json_cast = cast\n",
        "  \n",
        "  if len(json_cast) > 2:\n",
        "    up = 3\n",
        "  else:\n",
        "    up = len(json_cast)\n",
        "   \n",
        "  actors = ''\n",
        "  for i in range(0,up):\n",
        "    actor = json_cast[i]['name']\n",
        "    actor = normalize(actor.replace(' ','_').lower())\n",
        "  \n",
        "    actors = actors + ' ' + actor\n",
        "  \n",
        "  return actors\n",
        "\n",
        "def get_director(crew):\n",
        "  \n",
        "  try:\n",
        "    \n",
        "    json_crew = json.loads(crew)\n",
        "  \n",
        "  except:\n",
        "    \n",
        "    json_crew = crew\n",
        "  \n",
        "  directors = [member['name'] for member in json_crew if member['job'] == 'Director']\n",
        "  directors = [normalize(director.replace(' ','_').lower()) for director in directors]\n",
        "  directors = str(' '.join(directors))\n",
        "  \n",
        "  return directors"
      ],
      "execution_count": 0,
      "outputs": []
    },
    {
      "metadata": {
        "id": "urmPevCVtAgS",
        "colab_type": "code",
        "colab": {}
      },
      "cell_type": "code",
      "source": [
        "data['overview']=data.apply(lambda x: get_actors(x['cast']) + ' ' + x['overview'] , axis=1)\n",
        "data['overview']=data.apply(lambda x: get_director(x['crew']) + x['overview'] , axis=1)"
      ],
      "execution_count": 0,
      "outputs": []
    },
    {
      "metadata": {
        "id": "qTjFRkmtz-JU",
        "colab_type": "code",
        "colab": {
          "base_uri": "https://localhost:8080/",
          "height": 54
        },
        "outputId": "767cd95a-30f6-413b-b104-86b284a468c8"
      },
      "cell_type": "code",
      "source": [
        "data['overview'][0]"
      ],
      "execution_count": 84,
      "outputs": [
        {
          "output_type": "execute_result",
          "data": {
            "text/plain": [
              "'george_lucas mark_hamill harrison_ford carrie_fisher princesa leia lider movimiento rebelde desea reinstaurar republica galaxia tiempos ominosos imperio capturada malevolas fuerzas imperiales capitaneadas implacable darth vader sirviente fiel emperador intrepido luke skywalker ayudado capitan nave espacial halcon milenario androides rd cpo seran encargados luchar enemigo rescatar princesa volver instaurar justicia seno galaxia'"
            ]
          },
          "metadata": {
            "tags": []
          },
          "execution_count": 84
        }
      ]
    },
    {
      "metadata": {
        "id": "mwp9UDLvh5Kw",
        "colab_type": "code",
        "colab": {}
      },
      "cell_type": "code",
      "source": [
        "from sklearn.model_selection import train_test_split\n",
        "\n",
        "overviews = data['overview'].values\n",
        "y = data['like'].values\n",
        "\n",
        "overviews_train, overviews_test, y_train, y_test = train_test_split(overviews, y, test_size=0.1, random_state=777, stratify=y)"
      ],
      "execution_count": 0,
      "outputs": []
    },
    {
      "metadata": {
        "id": "j5pooRddATyH",
        "colab_type": "code",
        "colab": {}
      },
      "cell_type": "code",
      "source": [
        "columns_train = {'Overview': overviews_train, 'Like': y_train}\n",
        "train = pd.DataFrame(data=columns_train)\n",
        "train.to_csv('train' + '.csv', sep=';', encoding='utf-8', index=False)\n",
        "\n",
        "columns_test = {'Comment': overviews_test, 'Like': y_test}\n",
        "test = pd.DataFrame(data=columns_test)\n",
        "test.to_csv('test' + '.csv', sep=';', encoding='utf-8', index=False)"
      ],
      "execution_count": 0,
      "outputs": []
    },
    {
      "metadata": {
        "id": "1APEOOWyi-gO",
        "colab_type": "code",
        "colab": {}
      },
      "cell_type": "code",
      "source": [
        "# Embedding\n",
        "num_words = 12000\n",
        "maxlen = 90\n",
        "embedding_size = 300\n",
        "\n",
        "# Convolution\n",
        "kernel_size = 5\n",
        "filters = 250\n",
        "pool_size = 2\n",
        "\n",
        "hidden_dims = 250\n",
        "\n",
        "\n",
        "# LSTM\n",
        "lstm_output_size = 70\n",
        "\n",
        "# Training\n",
        "#lr=0.000005\n",
        "lr=0.0001"
      ],
      "execution_count": 0,
      "outputs": []
    },
    {
      "metadata": {
        "id": "lBLAw0i0i5j3",
        "colab_type": "code",
        "outputId": "e89caf4b-9c42-43c0-fcf7-66c45ee6ddc0",
        "colab": {
          "base_uri": "https://localhost:8080/",
          "height": 89
        }
      },
      "cell_type": "code",
      "source": [
        "from tensorflow.keras.preprocessing.text import Tokenizer\n",
        "\n",
        "tokenizer = Tokenizer(num_words) \n",
        "tokenizer.fit_on_texts(overviews_train)\n",
        "\n",
        "X_train = tokenizer.texts_to_sequences(overviews_train) \n",
        "X_test = tokenizer.texts_to_sequences(overviews_test)\n",
        "\n",
        "vocab_size = len(tokenizer.word_index) + 1 # Adding 1 because of reserved 0 index\n",
        "\n",
        "print(overviews_train[2]) \n",
        "print(X_train[2]) \n",
        "print(vocab_size)"
      ],
      "execution_count": 94,
      "outputs": [
        {
          "output_type": "stream",
          "text": [
            "john_g._avildsen ralph_macchio pat_morita william_zabka daniel larusso llega angeles procedente costa unidos dispuesto amigos convierte blanco ataques cobras hostil grupo estudiantes karate comienza salir ali antigua novia cabecilla grupo situacion remedio pedirle ayuda miyagi maestro artes marciales enseñe karate tutela miyagi daniel desarrolla aptitudes fisicas seguridad necesita superar obstaculos\n",
            "[4, 2329, 5374, 1062, 5375, 2330, 5376, 85, 5377, 223, 5378, 134, 417, 1308, 536, 78, 882, 15, 135, 303, 1704, 5379, 1063, 6, 376, 3284, 61, 418, 1309, 480, 71, 3285, 6, 177, 627, 2331, 20, 3286, 628, 2332, 2333, 2334, 3284, 5380, 3286, 223, 1705, 5381, 5382, 196, 377, 748, 2335]\n",
            "12194\n"
          ],
          "name": "stdout"
        }
      ]
    },
    {
      "metadata": {
        "id": "JRXfUryKjQCN",
        "colab_type": "code",
        "outputId": "1b835238-2b60-44bb-9b6c-3cf657309921",
        "colab": {
          "base_uri": "https://localhost:8080/",
          "height": 69
        }
      },
      "cell_type": "code",
      "source": [
        "from collections import OrderedDict\n",
        "\n",
        "dictWords = dict(tokenizer.word_counts)\n",
        "\n",
        "print(len(dictWords) + 1)\n",
        "\n",
        "for k,v in list(dictWords.items()):\n",
        "    if v < 2 :\n",
        "        del dictWords[k]\n",
        "        \n",
        "print(len(dictWords) + 1) \n",
        "# Para establecer el tamaño de maxlen\n",
        "\n",
        "len(max(X_train, key=len))"
      ],
      "execution_count": 95,
      "outputs": [
        {
          "output_type": "stream",
          "text": [
            "12194\n",
            "5351\n"
          ],
          "name": "stdout"
        },
        {
          "output_type": "execute_result",
          "data": {
            "text/plain": [
              "91"
            ]
          },
          "metadata": {
            "tags": []
          },
          "execution_count": 95
        }
      ]
    },
    {
      "metadata": {
        "id": "XHqpVvAjjQY8",
        "colab_type": "code",
        "outputId": "6ed283d9-b178-4914-db08-cf3ea179219e",
        "colab": {
          "base_uri": "https://localhost:8080/",
          "height": 173
        }
      },
      "cell_type": "code",
      "source": [
        "from tensorflow.keras.preprocessing.sequence import pad_sequences\n",
        "\n",
        "X_train = pad_sequences(X_train, padding='post', maxlen=maxlen)\n",
        "X_test = pad_sequences(X_test, padding='post', maxlen=maxlen)\n",
        "\n",
        "X_train[1]"
      ],
      "execution_count": 96,
      "outputs": [
        {
          "output_type": "execute_result",
          "data": {
            "text/plain": [
              "array([ 250, 5360,  302,  624,  625, 3279,  479, 5361, 5362, 3280, 5363,\n",
              "       5364, 3281, 3282, 5365,   43, 3280, 5366,  251,    7, 5367,  252,\n",
              "         31,  122, 2324, 1307,  880,  176,  151, 5368, 2325,  626, 5369,\n",
              "       1702,  252, 2326,  416, 1703, 1061, 5370,   32, 2327, 3283, 5371,\n",
              "        881,  252, 5372, 5373, 2328,    0,    0,    0,    0,    0,    0,\n",
              "          0,    0,    0,    0,    0,    0,    0,    0,    0,    0,    0,\n",
              "          0,    0,    0,    0,    0,    0,    0,    0,    0,    0,    0,\n",
              "          0,    0,    0,    0,    0,    0,    0,    0,    0,    0,    0,\n",
              "          0,    0], dtype=int32)"
            ]
          },
          "metadata": {
            "tags": []
          },
          "execution_count": 96
        }
      ]
    },
    {
      "metadata": {
        "id": "0UB9lmFFWab7",
        "colab_type": "code",
        "colab": {}
      },
      "cell_type": "code",
      "source": [
        "from tensorflow.keras import backend as K\n",
        "from tensorflow.keras.callbacks import EarlyStopping\n",
        "\n",
        "def precision(y_true, y_pred):\n",
        "    \"\"\"Precision metric.\n",
        "    Only computes a batch-wise average of precision.\n",
        "    Computes the precision, a metric for multi-label classification of\n",
        "    how many selected items are relevant.\n",
        "    \"\"\"\n",
        "    true_positives = K.sum(K.round(K.clip(y_true * y_pred, 0, 1)))\n",
        "    predicted_positives = K.sum(K.round(K.clip(y_pred, 0, 1)))\n",
        "    precision = true_positives / (predicted_positives + K.epsilon())\n",
        "    return precision\n",
        "\n",
        "\n",
        "def recall(y_true, y_pred):\n",
        "    \"\"\"Recall metric.\n",
        "    Only computes a batch-wise average of recall.\n",
        "    Computes the recall, a metric for multi-label classification of\n",
        "    how many relevant items are selected.\n",
        "    \"\"\"\n",
        "    true_positives = K.sum(K.round(K.clip(y_true * y_pred, 0, 1)))\n",
        "    possible_positives = K.sum(K.round(K.clip(y_true, 0, 1)))\n",
        "    recall = true_positives / (possible_positives + K.epsilon())\n",
        "    return recall\n",
        "\n",
        "def auc(y_true, y_pred):\n",
        "    auc = tf.metrics.auc(y_true, y_pred)[0]\n",
        "    K.get_session().run(tf.local_variables_initializer())\n",
        "    return auc\n",
        "\n",
        "#Optimizer\n",
        "\n",
        "from tensorflow.keras import optimizers\n",
        "\n",
        "adam = optimizers.Adam(lr)\n",
        "\n",
        "\n",
        "es = EarlyStopping(monitor='val_loss',\n",
        "                   min_delta=0,\n",
        "                   patience=3,\n",
        "                   verbose=0, mode='auto')"
      ],
      "execution_count": 0,
      "outputs": []
    },
    {
      "metadata": {
        "id": "ifIZiMr2LdSS",
        "colab_type": "code",
        "outputId": "2356250d-a2a2-42c7-dddc-adab71c740fd",
        "colab": {
          "base_uri": "https://localhost:8080/",
          "height": 34
        }
      },
      "cell_type": "code",
      "source": [
        "from sklearn.utils import class_weight\n",
        "\n",
        "\n",
        "class_weights = class_weight.compute_class_weight('balanced',\n",
        "                                                 np.unique(y_train),\n",
        "                                                 y_train)\n",
        "\n",
        "class_weights"
      ],
      "execution_count": 133,
      "outputs": [
        {
          "output_type": "execute_result",
          "data": {
            "text/plain": [
              "array([0.96578947, 1.03672316])"
            ]
          },
          "metadata": {
            "tags": []
          },
          "execution_count": 133
        }
      ]
    },
    {
      "metadata": {
        "id": "TO2rjJmBj28t",
        "colab_type": "code",
        "outputId": "c2605b7f-bd87-430b-9b05-a9e4b66cf1a7",
        "colab": {
          "base_uri": "https://localhost:8080/",
          "height": 454
        }
      },
      "cell_type": "code",
      "source": [
        "# Model 1\n",
        "\n",
        "from tensorflow.keras.models import Sequential\n",
        "from tensorflow.keras.layers import Dense, Dropout, Activation\n",
        "from tensorflow.keras.layers import Embedding\n",
        "from tensorflow.keras.layers import LSTM\n",
        "from tensorflow.keras.layers import Conv1D, GlobalMaxPool1D\n",
        "\n",
        "model = Sequential()\n",
        "\n",
        "model.add(Embedding(vocab_size,embedding_size, input_length=maxlen))\n",
        "model.add(GlobalMaxPool1D())\n",
        "model.add(Dense(1000, activation='relu'))\n",
        "model.add(Dropout(0.3))\n",
        "model.add(Dense(500, activation='relu'))\n",
        "model.add(Dense(100, activation='relu'))\n",
        "model.add(Dense(1, activation='sigmoid'))\n",
        "model.compile(optimizer=adam,\n",
        "              loss='binary_crossentropy',\n",
        "              metrics=['acc',precision,recall])\n",
        "\n",
        "model.summary()\n"
      ],
      "execution_count": 0,
      "outputs": [
        {
          "output_type": "stream",
          "text": [
            "WARNING:tensorflow:From /usr/local/lib/python3.6/dist-packages/keras/backend/tensorflow_backend.py:3445: calling dropout (from tensorflow.python.ops.nn_ops) with keep_prob is deprecated and will be removed in a future version.\n",
            "Instructions for updating:\n",
            "Please use `rate` instead of `keep_prob`. Rate should be set to `rate = 1 - keep_prob`.\n",
            "_________________________________________________________________\n",
            "Layer (type)                 Output Shape              Param #   \n",
            "=================================================================\n",
            "embedding_1 (Embedding)      (None, 70, 2048)          22896640  \n",
            "_________________________________________________________________\n",
            "global_max_pooling1d_1 (Glob (None, 2048)              0         \n",
            "_________________________________________________________________\n",
            "dense_1 (Dense)              (None, 1000)              2049000   \n",
            "_________________________________________________________________\n",
            "dropout_1 (Dropout)          (None, 1000)              0         \n",
            "_________________________________________________________________\n",
            "dense_2 (Dense)              (None, 500)               500500    \n",
            "_________________________________________________________________\n",
            "dense_3 (Dense)              (None, 100)               50100     \n",
            "_________________________________________________________________\n",
            "dense_4 (Dense)              (None, 1)                 101       \n",
            "=================================================================\n",
            "Total params: 25,496,341\n",
            "Trainable params: 25,496,341\n",
            "Non-trainable params: 0\n",
            "_________________________________________________________________\n"
          ],
          "name": "stdout"
        }
      ]
    },
    {
      "metadata": {
        "id": "X3Jtoe5qztD0",
        "colab_type": "code",
        "outputId": "404818a7-035a-4626-d33b-ef4215752ec4",
        "colab": {
          "base_uri": "https://localhost:8080/",
          "height": 416
        }
      },
      "cell_type": "code",
      "source": [
        "# Model 2\n",
        "\n",
        "from tensorflow.keras.models import Sequential\n",
        "from tensorflow.keras.layers import Dense, Dropout, Activation\n",
        "from tensorflow.keras.layers import Embedding\n",
        "from tensorflow.keras.layers import Conv1D, GlobalMaxPooling1D\n",
        "\n",
        "model = Sequential()\n",
        "\n",
        "# we start off with an efficient embedding layer which maps\n",
        "# our vocab indices into embedding_dims dimensions\n",
        "model.add(Embedding(vocab_size,\n",
        "                    embedding_size,\n",
        "                    input_length=maxlen))\n",
        "model.add(Dropout(0.2))\n",
        "\n",
        "# we add a Convolution1D, which will learn filters\n",
        "# word group filters of size filter_length:\n",
        "model.add(Conv1D(filters,\n",
        "                 kernel_size,\n",
        "                 padding='valid',\n",
        "                 activation='relu',\n",
        "                 strides=1))\n",
        "# we use max pooling:\n",
        "model.add(GlobalMaxPooling1D())\n",
        "\n",
        "# We add a vanilla hidden layer:\n",
        "model.add(Dense(hidden_dims))\n",
        "#model.add(Dropout(0.2))\n",
        "model.add(Activation('relu'))\n",
        "\n",
        "# We project onto a single unit output layer, and squash it with a sigmoid:\n",
        "model.add(Dense(1))\n",
        "model.add(Activation('sigmoid'))\n",
        "\n",
        "model.compile(loss='binary_crossentropy',\n",
        "              optimizer=adam,\n",
        "              metrics=['accuracy',precision])\n",
        "\n",
        "model.summary()"
      ],
      "execution_count": 157,
      "outputs": [
        {
          "output_type": "stream",
          "text": [
            "_________________________________________________________________\n",
            "Layer (type)                 Output Shape              Param #   \n",
            "=================================================================\n",
            "embedding_8 (Embedding)      (None, 90, 300)           3658200   \n",
            "_________________________________________________________________\n",
            "dropout_8 (Dropout)          (None, 90, 300)           0         \n",
            "_________________________________________________________________\n",
            "conv1d_8 (Conv1D)            (None, 86, 250)           375250    \n",
            "_________________________________________________________________\n",
            "global_max_pooling1d_8 (Glob (None, 250)               0         \n",
            "_________________________________________________________________\n",
            "dense_16 (Dense)             (None, 250)               62750     \n",
            "_________________________________________________________________\n",
            "activation_16 (Activation)   (None, 250)               0         \n",
            "_________________________________________________________________\n",
            "dense_17 (Dense)             (None, 1)                 251       \n",
            "_________________________________________________________________\n",
            "activation_17 (Activation)   (None, 1)                 0         \n",
            "=================================================================\n",
            "Total params: 4,096,451\n",
            "Trainable params: 4,096,451\n",
            "Non-trainable params: 0\n",
            "_________________________________________________________________\n"
          ],
          "name": "stdout"
        }
      ]
    },
    {
      "metadata": {
        "id": "aN3ce7nAkNdh",
        "colab_type": "code",
        "outputId": "b733ec05-4cde-41fa-a761-7d3e553f5365",
        "colab": {
          "base_uri": "https://localhost:8080/",
          "height": 575
        }
      },
      "cell_type": "code",
      "source": [
        "history = model.fit(X_train, y_train,\n",
        "                    epochs=15,\n",
        "                    verbose=True,\n",
        "                    validation_data=(X_test, y_test),\n",
        "                    batch_size=64, class_weight = class_weights)"
      ],
      "execution_count": 158,
      "outputs": [
        {
          "output_type": "stream",
          "text": [
            "Train on 734 samples, validate on 82 samples\n",
            "Epoch 1/15\n",
            "734/734 [==============================] - 1s 999us/sample - loss: 0.6943 - acc: 0.5177 - precision: 0.0500 - val_loss: 0.6927 - val_acc: 0.5122 - val_precision: 0.5752\n",
            "Epoch 2/15\n",
            "734/734 [==============================] - 0s 354us/sample - loss: 0.6720 - acc: 0.6512 - precision: 0.6188 - val_loss: 0.6893 - val_acc: 0.5610 - val_precision: 1.0000\n",
            "Epoch 3/15\n",
            "734/734 [==============================] - 0s 338us/sample - loss: 0.6372 - acc: 0.7793 - precision: 1.0000 - val_loss: 0.6841 - val_acc: 0.7073 - val_precision: 0.8810\n",
            "Epoch 4/15\n",
            "734/734 [==============================] - 0s 316us/sample - loss: 0.5757 - acc: 1.0000 - precision: 1.0000 - val_loss: 0.6750 - val_acc: 0.5366 - val_precision: 0.5000\n",
            "Epoch 5/15\n",
            "734/734 [==============================] - 0s 314us/sample - loss: 0.4753 - acc: 1.0000 - precision: 1.0000 - val_loss: 0.6543 - val_acc: 0.7805 - val_precision: 0.8762\n",
            "Epoch 6/15\n",
            "734/734 [==============================] - 0s 329us/sample - loss: 0.3449 - acc: 1.0000 - precision: 1.0000 - val_loss: 0.6282 - val_acc: 0.6951 - val_precision: 1.0000\n",
            "Epoch 7/15\n",
            "734/734 [==============================] - 0s 320us/sample - loss: 0.2120 - acc: 1.0000 - precision: 1.0000 - val_loss: 0.5842 - val_acc: 0.8171 - val_precision: 1.0000\n",
            "Epoch 8/15\n",
            "734/734 [==============================] - 0s 311us/sample - loss: 0.1122 - acc: 1.0000 - precision: 1.0000 - val_loss: 0.5659 - val_acc: 0.7805 - val_precision: 1.0000\n",
            "Epoch 9/15\n",
            "734/734 [==============================] - 0s 311us/sample - loss: 0.0579 - acc: 1.0000 - precision: 1.0000 - val_loss: 0.5367 - val_acc: 0.8049 - val_precision: 1.0000\n",
            "Epoch 10/15\n",
            "734/734 [==============================] - 0s 317us/sample - loss: 0.0320 - acc: 1.0000 - precision: 1.0000 - val_loss: 0.5269 - val_acc: 0.8049 - val_precision: 1.0000\n",
            "Epoch 11/15\n",
            "734/734 [==============================] - 0s 313us/sample - loss: 0.0197 - acc: 1.0000 - precision: 1.0000 - val_loss: 0.5106 - val_acc: 0.8049 - val_precision: 1.0000\n",
            "Epoch 12/15\n",
            "734/734 [==============================] - 0s 317us/sample - loss: 0.0134 - acc: 1.0000 - precision: 1.0000 - val_loss: 0.5094 - val_acc: 0.8049 - val_precision: 1.0000\n",
            "Epoch 13/15\n",
            "734/734 [==============================] - 0s 314us/sample - loss: 0.0100 - acc: 1.0000 - precision: 1.0000 - val_loss: 0.5092 - val_acc: 0.8049 - val_precision: 1.0000\n",
            "Epoch 14/15\n",
            "734/734 [==============================] - 0s 317us/sample - loss: 0.0079 - acc: 1.0000 - precision: 1.0000 - val_loss: 0.5014 - val_acc: 0.8049 - val_precision: 1.0000\n",
            "Epoch 15/15\n",
            "734/734 [==============================] - 0s 316us/sample - loss: 0.0063 - acc: 1.0000 - precision: 1.0000 - val_loss: 0.4973 - val_acc: 0.8049 - val_precision: 1.0000\n"
          ],
          "name": "stdout"
        }
      ]
    },
    {
      "metadata": {
        "id": "E32LWBFAkrSq",
        "colab_type": "code",
        "outputId": "88000b26-56c0-4015-cabe-7932600d5430",
        "colab": {
          "base_uri": "https://localhost:8080/",
          "height": 337
        }
      },
      "cell_type": "code",
      "source": [
        "%matplotlib inline\n",
        "import matplotlib.pyplot as plt\n",
        "plt.style.use('ggplot')\n",
        "\n",
        "def plot_history(history):\n",
        "    acc = history.history['acc']\n",
        "    val_acc = history.history['val_acc']\n",
        "    loss = history.history['loss']\n",
        "    val_loss = history.history['val_loss']\n",
        "    x = range(1, len(acc) + 1)\n",
        "\n",
        "    plt.figure(figsize=(12, 5))\n",
        "    plt.subplot(1, 2, 1)\n",
        "    plt.plot(x, acc, 'b', label='Training acc')\n",
        "    plt.plot(x, val_acc, 'r', label='Validation acc')\n",
        "    plt.title('Training and validation accuracy')\n",
        "    plt.legend()\n",
        "    plt.subplot(1, 2, 2)\n",
        "    plt.plot(x, loss, 'b', label='Training loss')\n",
        "    plt.plot(x, val_loss, 'r', label='Validation loss')\n",
        "    plt.title('Training and validation loss')\n",
        "    plt.legend()\n",
        "    \n",
        "plot_history(history)"
      ],
      "execution_count": 159,
      "outputs": [
        {
          "output_type": "display_data",
          "data": {
            "image/png": "[encoded data removed]",
            "text/plain": [
              "<Figure size 864x360 with 2 Axes>"
            ]
          },
          "metadata": {
            "tags": []
          }
        }
      ]
    },
    {
      "metadata": {
        "id": "0-L6gkT1k1yQ",
        "colab_type": "code",
        "colab": {}
      },
      "cell_type": "code",
      "source": [
        "y_pred = model.predict_classes(X_test)\n",
        "y_score = model.predict(X_test)\n",
        "#y_pred= model.predict_classes(X_neutral)\n",
        "#y_test = y_netural\n",
        "\n",
        "for idx,p in enumerate(y_score):\n",
        "    if p >= 0.50:\n",
        "        y_pred[idx] = 1\n",
        "    else:\n",
        "        y_pred[idx] = 0"
      ],
      "execution_count": 0,
      "outputs": []
    },
    {
      "metadata": {
        "id": "7JLI_WVJkwcP",
        "colab_type": "code",
        "outputId": "65453c2c-31eb-4764-c77f-6f42d722b245",
        "colab": {
          "base_uri": "https://localhost:8080/",
          "height": 173
        }
      },
      "cell_type": "code",
      "source": [
        "from sklearn.metrics import confusion_matrix\n",
        "from sklearn.metrics import cohen_kappa_score\n",
        "from sklearn.metrics import accuracy_score\n",
        "from sklearn.metrics import precision_score\n",
        "from sklearn.metrics import recall_score\n",
        "from sklearn.metrics import f1_score\n",
        "from sklearn.metrics import roc_auc_score\n",
        "\n",
        "print(\"Confusion Matrix: \\n\" + str(confusion_matrix(y_test, y_pred)))\n",
        "print(\"Accuracy: {:.4f}\".format(accuracy_score(y_test, y_pred)))\n",
        "print(\"Kappa: {:.4f}\".format(cohen_kappa_score(y_test, y_pred)))\n",
        "print(\"Precision: {:.4f}\".format(precision_score(y_test, y_pred,pos_label=1)))\n",
        "print(\"Recall: {:.4f}\".format(recall_score(y_test, y_pred,pos_label=1)))\n",
        "print(\"F1: {:.4f}\".format(f1_score(y_test, y_pred,pos_label=1)))\n",
        "print(\"Auc: {:.4f}\".format(roc_auc_score(y_test, y_pred)))"
      ],
      "execution_count": 161,
      "outputs": [
        {
          "output_type": "stream",
          "text": [
            "Confusion Matrix: \n",
            "[[42  0]\n",
            " [16 24]]\n",
            "Accuracy: 0.8049\n",
            "Kappa: 0.6058\n",
            "Precision: 1.0000\n",
            "Recall: 0.6000\n",
            "F1: 0.7500\n",
            "Auc: 0.8000\n"
          ],
          "name": "stdout"
        }
      ]
    },
    {
      "metadata": {
        "id": "WJ1mQbvOJaQl",
        "colab_type": "code",
        "colab": {}
      },
      "cell_type": "code",
      "source": [
        "model.save('nice_movie' + '_model2.h5')  "
      ],
      "execution_count": 0,
      "outputs": []
    },
    {
      "metadata": {
        "id": "Nvz8Z9-J-TRJ",
        "colab_type": "code",
        "outputId": "5912d229-bd1d-465e-e618-efad668ff9a3",
        "colab": {
          "base_uri": "https://localhost:8080/",
          "height": 121
        }
      },
      "cell_type": "code",
      "source": [
        "!pip install tmdbsimple\n",
        "\n",
        "import tmdbsimple as tmdb\n",
        "\n",
        "tmdb.API_KEY = '38dd5c6c01713ef99903275d51e2fd68'"
      ],
      "execution_count": 163,
      "outputs": [
        {
          "output_type": "stream",
          "text": [
            "Requirement already satisfied: tmdbsimple in /usr/local/lib/python3.6/dist-packages (2.2.0)\n",
            "Requirement already satisfied: requests in /usr/local/lib/python3.6/dist-packages (from tmdbsimple) (2.18.4)\n",
            "Requirement already satisfied: chardet<3.1.0,>=3.0.2 in /usr/local/lib/python3.6/dist-packages (from requests->tmdbsimple) (3.0.4)\n",
            "Requirement already satisfied: urllib3<1.23,>=1.21.1 in /usr/local/lib/python3.6/dist-packages (from requests->tmdbsimple) (1.22)\n",
            "Requirement already satisfied: idna<2.7,>=2.5 in /usr/local/lib/python3.6/dist-packages (from requests->tmdbsimple) (2.6)\n",
            "Requirement already satisfied: certifi>=2017.4.17 in /usr/local/lib/python3.6/dist-packages (from requests->tmdbsimple) (2019.3.9)\n"
          ],
          "name": "stdout"
        }
      ]
    },
    {
      "metadata": {
        "id": "s-kzUQdq863L",
        "colab_type": "code",
        "colab": {}
      },
      "cell_type": "code",
      "source": [
        "def get_likeness(film):\n",
        "  \n",
        "  search = tmdb.Search()\n",
        "  response = search.movie(query=film,language='es-ES')\n",
        "  \n",
        "  print(response)\n",
        "  \n",
        "\n",
        "  if len(response['results']) >= 1:\n",
        "    over = response['results'][0]['overview']\n",
        "    score = response['results'][0]['vote_average']\n",
        "    \n",
        "    id_movie = response['results'][0]['id']\n",
        "    \n",
        "    movie = tmdb.Movies(id_movie)\n",
        "    \n",
        "    actors = get_actors(movie.credits()['cast'])\n",
        "    director = get_director(movie.credits()['crew'])\n",
        "    \n",
        "    over = clean_overview(str(over))\n",
        "    over = delete_stop_words(over)\n",
        "\n",
        "    over = actors + ' ' + over\n",
        "    over = director + over\n",
        "    \n",
        "    print(over)\n",
        "    \n",
        "    X_over = tokenizer.texts_to_sequences(np.array([over]))\n",
        "    X_over = pad_sequences(X_over, padding='post', maxlen=maxlen)\n",
        "\n",
        "    probability = model.predict(X_over)\n",
        "    print(probability)\n",
        "    probability = probability[0][0] * 0.75 + (score/10)*0.25\n",
        "    \n",
        "    if (probability >= 0.5):\n",
        "        pred = 1\n",
        "        print(probability)\n",
        "        if (probability < 0.5):\n",
        "          probability = 0.5\n",
        "        \n",
        "    else:\n",
        "        pred = 0\n",
        "    \n",
        "    return (str(pred) , str(probability), score/10)\n",
        "  \n",
        "  else:\n",
        "    \n",
        "    return 'No existe la peli'\n",
        "  "
      ],
      "execution_count": 0,
      "outputs": []
    },
    {
      "metadata": {
        "id": "BRvFNL5nBlPU",
        "colab_type": "code",
        "colab": {
          "base_uri": "https://localhost:8080/",
          "height": 34
        },
        "outputId": "8c23ff4e-fdc5-485a-fa61-324e0bc4965b"
      },
      "cell_type": "code",
      "source": [
        "movie = tmdb.Movies(64)\n",
        "    \n",
        "get_director(movie.credits()['crew'])"
      ],
      "execution_count": 219,
      "outputs": [
        {
          "output_type": "execute_result",
          "data": {
            "text/plain": [
              "'pedro_almodovar'"
            ]
          },
          "metadata": {
            "tags": []
          },
          "execution_count": 219
        }
      ]
    },
    {
      "metadata": {
        "id": "zYO4-m5wL3Ll",
        "colab_type": "code",
        "outputId": "227f184b-287a-4f98-ac67-d772518c04c8",
        "colab": {
          "base_uri": "https://localhost:8080/",
          "height": 106
        }
      },
      "cell_type": "code",
      "source": [
        "get_likeness(\"deadpool 2\")"
      ],
      "execution_count": 281,
      "outputs": [
        {
          "output_type": "stream",
          "text": [
            "{'page': 1, 'total_results': 2, 'total_pages': 1, 'results': [{'vote_count': 7966, 'id': 383498, 'video': False, 'vote_average': 7.5, 'title': 'Deadpool 2', 'popularity': 45.921, 'poster_path': '/jx3URmImNMCZuXcfdLM7S5Pivzy.jpg', 'original_language': 'en', 'original_title': 'Deadpool 2', 'genre_ids': [28, 35, 12], 'backdrop_path': '/3P52oz9HPQWxcwHOwxtyrVV1LKi.jpg', 'adult': False, 'overview': 'Wade Wilson (Ryan Reynolds), mejor conocido como Deadpool, su nombre de batalla e identidad antiheroica, está de regreso con Deadpool 2 y en esta ocasión su misión será salvar a un chico llamado Russell (Julian Dennison) de las manos de un poderoso rival llamado Cable (Josh Brolin). En aras de dar cumplimiento a su tarea el antihéroe formará un grupo al cual pondrá el nombre de X-Force. Secuela de la exitosa película (recaudó más de 780 millones de dólares en todo el mundo) parodia de los superhéroes mutantes del 2016, también protagonizada por Reynolds.', 'release_date': '2018-05-15'}, {'vote_count': 173, 'id': 567604, 'video': False, 'vote_average': 7.1, 'title': 'Érase una vez Deadpool', 'popularity': 26.611, 'poster_path': '/faNkvVJw2EbIZ1uT9DP0ctAjjxD.jpg', 'original_language': 'en', 'original_title': 'Once Upon a Deadpool', 'genre_ids': [35, 28], 'backdrop_path': '/7RqpTZq0mPpTcEwZ6qqwRZAFoLe.jpg', 'adult': False, 'overview': 'Deadpool (Ryan Reynolds) le cuenta al actor Fred Savage (el niño de \"La Princesa Prometida\") algunas de sus aventuras, en un homenaje-parodia a dicha película de 1987 en la que el abuelo le contaba historias a Fred. \\'Once Upon a Deadpool\\' es una revisión estrenada en cines de \"Deadpool 2\" adaptada a la calificación por edades PG-13, es decir: un reestreno navideño sin violencia, palabras malsonantes y otras características del film original de David Leitch, añadiéndose además nuevas escenas a la película.', 'release_date': '2018-12-11'}]}\n",
            "david_leitch ryan_reynolds josh_brolin morena_baccarin wade wilson ryan reynolds conocido deadpool nombre batalla identidad antiheroica regreso deadpool  ocasion mision salvar chico llamado russell julian dennison manos poderoso rival llamado cable josh brolin aras cumplimiento tarea antiheroe formara grupo pondra nombre xforce secuela exitosa pelicula recaudo  millones dolares mundo parodia superheroes mutantes  protagonizada reynolds\n",
            "[[0.3377249]]\n"
          ],
          "name": "stdout"
        },
        {
          "output_type": "execute_result",
          "data": {
            "text/plain": [
              "('0', '0.4407936707139015', 0.75)"
            ]
          },
          "metadata": {
            "tags": []
          },
          "execution_count": 281
        }
      ]
    },
    {
      "metadata": {
        "id": "fuJocWX_CC8r",
        "colab_type": "code",
        "colab": {}
      },
      "cell_type": "code",
      "source": [
        "word_embds = model.layers[1].get_weights()[0]\n",
        "word_list = []\n",
        "for word, i in tokenizer.word_index.items():\n",
        "    word_list.append(word)"
      ],
      "execution_count": 0,
      "outputs": []
    },
    {
      "metadata": {
        "id": "rvDRkNV0CFrm",
        "colab_type": "code",
        "colab": {}
      },
      "cell_type": "code",
      "source": [
        "from sklearn.manifold import TSNE\n",
        "\n",
        "X_embedded = TSNE(n_components=2).fit_transform(word_embds)\n",
        "number_of_words = 1000\n",
        "trace = go.Scatter(\n",
        "    x = X_embedded[0:number_of_words,0], \n",
        "    y = X_embedded[0:number_of_words, 1],\n",
        "    mode = 'markers',\n",
        "    text= word_list[0:number_of_words]\n",
        ")\n",
        "layout = dict(title= 't-SNE 1 vs t-SNE 2 for sirst 1000 words ',\n",
        "              yaxis = dict(title='t-SNE 2'),\n",
        "              xaxis = dict(title='t-SNE 1'),\n",
        "              hovermode= 'closest')\n",
        "fig = dict(data = [trace], layout= layout)\n",
        "py.iplot(fig)"
      ],
      "execution_count": 0,
      "outputs": []
    },
    {
      "metadata": {
        "id": "fnSAd3BxBzGF",
        "colab_type": "code",
        "outputId": "6659672d-a142-4bab-f508-9c71f06a9e1d",
        "colab": {
          "base_uri": "https://localhost:8080/",
          "height": 126
        }
      },
      "cell_type": "code",
      "source": [
        "import xgboost as xgb\n",
        "\n",
        "#model = xgb.XGBClassifier(max_depth=10,n_estimators=150,silent=False,objective='binary:logistic')\n",
        "model = xgb.XGBClassifier()\n",
        "model.fit(X_train, y_train)"
      ],
      "execution_count": 0,
      "outputs": [
        {
          "output_type": "execute_result",
          "data": {
            "text/plain": [
              "XGBClassifier(base_score=0.5, booster='gbtree', colsample_bylevel=1,\n",
              "       colsample_bytree=1, gamma=0, learning_rate=0.1, max_delta_step=0,\n",
              "       max_depth=3, min_child_weight=1, missing=None, n_estimators=100,\n",
              "       n_jobs=1, nthread=None, objective='binary:logistic', random_state=0,\n",
              "       reg_alpha=0, reg_lambda=1, scale_pos_weight=1, seed=None,\n",
              "       silent=True, subsample=1)"
            ]
          },
          "metadata": {
            "tags": []
          },
          "execution_count": 56
        }
      ]
    },
    {
      "metadata": {
        "id": "mR7WdupnB7pd",
        "colab_type": "code",
        "colab": {}
      },
      "cell_type": "code",
      "source": [
        "y_pred = model.predict(X_test)\n",
        "y_score = model.predict_proba(X_test)"
      ],
      "execution_count": 0,
      "outputs": []
    },
    {
      "metadata": {
        "id": "FcrD_SolC9Qt",
        "colab_type": "code",
        "colab": {}
      },
      "cell_type": "code",
      "source": [
        "!pip install finetune"
      ],
      "execution_count": 0,
      "outputs": []
    },
    {
      "metadata": {
        "id": "FFzRg88aDFdv",
        "colab_type": "code",
        "colab": {}
      },
      "cell_type": "code",
      "source": [
        "from finetune import Classifier\n",
        "\n",
        "model = Classifier()               # Load base model\n",
        "model.fit(X_train, y_train)          # Finetune base model on custom data\n",
        "y_pred = model.predict(X_test)"
      ],
      "execution_count": 0,
      "outputs": []
    }
  ]
}
{
  "nbformat": 4,
  "nbformat_minor": 0,
  "metadata": {
    "colab": {
      "name": "nice-movie-model.ipynb",
      "version": "0.3.2",
      "provenance": [],
      "collapsed_sections": [],
      "include_colab_link": true
    },
    "kernelspec": {
      "name": "python3",
      "display_name": "Python 3"
    },
    "accelerator": "GPU"
  },
  "cells": [
    {
      "cell_type": "markdown",
      "metadata": {
        "id": "view-in-github",
        "colab_type": "text"
      },
      "source": [
        "<a href=\"https://colab.research.google.com/github/Jaimemorillo/ShouldIwatchThisMovie/blob/master/nice_movie_model.ipynb\" target=\"_parent\"><img src=\"https://colab.research.google.com/assets/colab-badge.svg\" alt=\"Open In Colab\"/></a>"
      ]
    },
    {
      "metadata": {
        "id": "X4FsDixDIzQ9",
        "colab_type": "code",
        "outputId": "dd8d8221-b3dc-4787-839b-66e1e0a51120",
        "colab": {
          "base_uri": "https://localhost:8080/",
          "height": 34
        }
      },
      "cell_type": "code",
      "source": [
        "from google.colab import drive\n",
        "drive.mount('/content/gdrive')"
      ],
      "execution_count": 2,
      "outputs": [
        {
          "output_type": "stream",
          "text": [
            "Drive already mounted at /content/gdrive; to attempt to forcibly remount, call drive.mount(\"/content/gdrive\", force_remount=True).\n"
          ],
          "name": "stdout"
        }
      ]
    },
    {
      "metadata": {
        "id": "rl4LFkMQoya5",
        "colab_type": "code",
        "outputId": "1715358a-21f1-48dc-8f86-3a73d757aab0",
        "colab": {
          "base_uri": "https://localhost:8080/",
          "height": 833
        }
      },
      "cell_type": "code",
      "source": [
        "import pandas as pd\n",
        "import tensorflow as tf\n",
        "import time\n",
        "import numpy as np\n",
        "import json\n",
        "import nltk\n",
        "\n",
        "nltk.download(\"popular\")\n",
        "print(tf.__version__)"
      ],
      "execution_count": 3,
      "outputs": [
        {
          "output_type": "stream",
          "text": [
            "[nltk_data] Downloading collection 'popular'\n",
            "[nltk_data]    | \n",
            "[nltk_data]    | Downloading package cmudict to /root/nltk_data...\n",
            "[nltk_data]    |   Unzipping corpora/cmudict.zip.\n",
            "[nltk_data]    | Downloading package gazetteers to /root/nltk_data...\n",
            "[nltk_data]    |   Unzipping corpora/gazetteers.zip.\n",
            "[nltk_data]    | Downloading package genesis to /root/nltk_data...\n",
            "[nltk_data]    |   Unzipping corpora/genesis.zip.\n",
            "[nltk_data]    | Downloading package gutenberg to /root/nltk_data...\n",
            "[nltk_data]    |   Unzipping corpora/gutenberg.zip.\n",
            "[nltk_data]    | Downloading package inaugural to /root/nltk_data...\n",
            "[nltk_data]    |   Unzipping corpora/inaugural.zip.\n",
            "[nltk_data]    | Downloading package movie_reviews to\n",
            "[nltk_data]    |     /root/nltk_data...\n",
            "[nltk_data]    |   Unzipping corpora/movie_reviews.zip.\n",
            "[nltk_data]    | Downloading package names to /root/nltk_data...\n",
            "[nltk_data]    |   Unzipping corpora/names.zip.\n",
            "[nltk_data]    | Downloading package shakespeare to /root/nltk_data...\n",
            "[nltk_data]    |   Unzipping corpora/shakespeare.zip.\n",
            "[nltk_data]    | Downloading package stopwords to /root/nltk_data...\n",
            "[nltk_data]    |   Unzipping corpora/stopwords.zip.\n",
            "[nltk_data]    | Downloading package treebank to /root/nltk_data...\n",
            "[nltk_data]    |   Unzipping corpora/treebank.zip.\n",
            "[nltk_data]    | Downloading package twitter_samples to\n",
            "[nltk_data]    |     /root/nltk_data...\n",
            "[nltk_data]    |   Unzipping corpora/twitter_samples.zip.\n",
            "[nltk_data]    | Downloading package omw to /root/nltk_data...\n",
            "[nltk_data]    |   Unzipping corpora/omw.zip.\n",
            "[nltk_data]    | Downloading package wordnet to /root/nltk_data...\n",
            "[nltk_data]    |   Unzipping corpora/wordnet.zip.\n",
            "[nltk_data]    | Downloading package wordnet_ic to /root/nltk_data...\n",
            "[nltk_data]    |   Unzipping corpora/wordnet_ic.zip.\n",
            "[nltk_data]    | Downloading package words to /root/nltk_data...\n",
            "[nltk_data]    |   Unzipping corpora/words.zip.\n",
            "[nltk_data]    | Downloading package maxent_ne_chunker to\n",
            "[nltk_data]    |     /root/nltk_data...\n",
            "[nltk_data]    |   Unzipping chunkers/maxent_ne_chunker.zip.\n",
            "[nltk_data]    | Downloading package punkt to /root/nltk_data...\n",
            "[nltk_data]    |   Unzipping tokenizers/punkt.zip.\n",
            "[nltk_data]    | Downloading package snowball_data to\n",
            "[nltk_data]    |     /root/nltk_data...\n",
            "[nltk_data]    | Downloading package averaged_perceptron_tagger to\n",
            "[nltk_data]    |     /root/nltk_data...\n",
            "[nltk_data]    |   Unzipping taggers/averaged_perceptron_tagger.zip.\n",
            "[nltk_data]    | \n",
            "[nltk_data]  Done downloading collection popular\n",
            "1.13.1\n"
          ],
          "name": "stdout"
        }
      ]
    },
    {
      "metadata": {
        "id": "T1urQMU5YkEC",
        "colab_type": "code",
        "colab": {}
      },
      "cell_type": "code",
      "source": [
        "dataover = pd.read_csv(\"gdrive/My Drive/TFG/tmdb_spanish_overview.csv\",sep='#',lineterminator='\\n')\n",
        "taste = pd.read_csv(\"gdrive/My Drive/TFG/tmdb_spanish_Jaime2.csv\",sep=';', encoding='utf-8')\n",
        "credits = pd.read_csv(\"gdrive/My Drive/TFG/tmdb_5000_credits.csv\")"
      ],
      "execution_count": 0,
      "outputs": []
    },
    {
      "metadata": {
        "id": "_ZKXfq0GiJq6",
        "colab_type": "code",
        "colab": {}
      },
      "cell_type": "code",
      "source": [
        "taste = taste[~taste['id'].str.contains('/')]\n",
        "taste['id'] = taste['id'].astype(int)\n",
        "credits['movie_id'] = credits['movie_id'].astype(int)"
      ],
      "execution_count": 0,
      "outputs": []
    },
    {
      "metadata": {
        "id": "D4mTpGIoaAq1",
        "colab_type": "code",
        "colab": {}
      },
      "cell_type": "code",
      "source": [
        "# Merge taste and credits\n",
        "\n",
        "data = taste.merge(dataover[['id','overview']], left_on='id', right_on='id')\n",
        "data = data.merge(credits[['movie_id','cast','crew']], left_on='id', right_on='movie_id')\n",
        "data.drop(['movie_id'],axis=1, inplace= True)"
      ],
      "execution_count": 0,
      "outputs": []
    },
    {
      "metadata": {
        "id": "lhpyV6W4gXPh",
        "colab_type": "code",
        "outputId": "951b0c22-80e6-4fc4-c030-2867673968cf",
        "colab": {
          "base_uri": "https://localhost:8080/",
          "height": 34
        }
      },
      "cell_type": "code",
      "source": [
        "data = data[~pd.isna(data.overview)]\n",
        "len(data)"
      ],
      "execution_count": 7,
      "outputs": [
        {
          "output_type": "execute_result",
          "data": {
            "text/plain": [
              "4406"
            ]
          },
          "metadata": {
            "tags": []
          },
          "execution_count": 7
        }
      ]
    },
    {
      "metadata": {
        "id": "0zId8PUhkQX0",
        "colab_type": "code",
        "outputId": "a0dbb62d-0f75-4e7f-f7aa-4c97e3ef4dbc",
        "colab": {
          "base_uri": "https://localhost:8080/",
          "height": 34
        }
      },
      "cell_type": "code",
      "source": [
        "data = data.dropna(subset=['like'])\n",
        "data['like'] = data['like'].astype(int)\n",
        "data.reset_index(inplace=True,drop=True)\n",
        "len(data)"
      ],
      "execution_count": 8,
      "outputs": [
        {
          "output_type": "execute_result",
          "data": {
            "text/plain": [
              "816"
            ]
          },
          "metadata": {
            "tags": []
          },
          "execution_count": 8
        }
      ]
    },
    {
      "metadata": {
        "id": "-l7_kcrl_Iv4",
        "colab_type": "code",
        "colab": {}
      },
      "cell_type": "code",
      "source": [
        "# Clean overviews ver que ocurre con deadpool y deadpool 2 \n",
        "\n",
        "import string\n",
        "\n",
        "stop_words = pd.read_csv(\"gdrive/My Drive/TFG/stopwords-es.txt\",header=None)\n",
        "stop_words = stop_words[0].tolist() + ['secuela']\n",
        "\n",
        "def normalize(s):\n",
        "    replacements = (\n",
        "        (\"á\", \"a\"),\n",
        "        (\"é\", \"e\"),\n",
        "        (\"í\", \"i\"),\n",
        "        (\"ó\", \"o\"),\n",
        "        (\"ú\", \"u\"),\n",
        "    )\n",
        "    for a, b in replacements:\n",
        "        s = s.replace(a, b).replace(a.upper(), b.upper())\n",
        "    return s\n",
        "\n",
        "def clean_overview(x):\n",
        "    x = normalize(x.lower())\n",
        "    x = x.translate(str.maketrans('','',string.punctuation))\n",
        "    x = x.translate(str.maketrans('','','1234567890ªº'))\n",
        "    return x\n",
        "\n",
        "def delete_stop_words(x):\n",
        "    words = x.split(' ')\n",
        "    words = [word for word in words if word not in stop_words]\n",
        "    x = str(' '.join(words))\n",
        "    return x\n"
      ],
      "execution_count": 0,
      "outputs": []
    },
    {
      "metadata": {
        "id": "hSEAKnpeVyfk",
        "colab_type": "code",
        "colab": {}
      },
      "cell_type": "code",
      "source": [
        "# Steaming overview\n",
        "\n",
        "from nltk import word_tokenize\n",
        "from nltk.stem import SnowballStemmer\n",
        "\n",
        "stemmer = SnowballStemmer(\"spanish\", ignore_stopwords=True)\n",
        "\n",
        "def stem_sentence(sentence):\n",
        "    stemmed_text = [stemmer.stem(word) for word in word_tokenize(sentence)]\n",
        "    return \" \".join(stemmed_text)\n",
        "  "
      ],
      "execution_count": 0,
      "outputs": []
    },
    {
      "metadata": {
        "id": "FR0ULnEis-uV",
        "colab_type": "code",
        "colab": {}
      },
      "cell_type": "code",
      "source": [
        "data['overview']=data['overview'].apply(lambda x: clean_overview(str(x)))\n",
        "data['overview']=data['overview'].apply(lambda x: delete_stop_words(x))"
      ],
      "execution_count": 0,
      "outputs": []
    },
    {
      "metadata": {
        "id": "yRCVAywOWjVK",
        "colab_type": "code",
        "outputId": "f7ffcd6b-f016-4cc2-868e-90d095f5f330",
        "colab": {
          "base_uri": "https://localhost:8080/",
          "height": 780
        }
      },
      "cell_type": "code",
      "source": [
        "data.head(15)"
      ],
      "execution_count": 12,
      "outputs": [
        {
          "output_type": "execute_result",
          "data": {
            "text/html": [
              "<div>\n",
              "<style scoped>\n",
              "    .dataframe tbody tr th:only-of-type {\n",
              "        vertical-align: middle;\n",
              "    }\n",
              "\n",
              "    .dataframe tbody tr th {\n",
              "        vertical-align: top;\n",
              "    }\n",
              "\n",
              "    .dataframe thead th {\n",
              "        text-align: right;\n",
              "    }\n",
              "</style>\n",
              "<table border=\"1\" class=\"dataframe\">\n",
              "  <thead>\n",
              "    <tr style=\"text-align: right;\">\n",
              "      <th></th>\n",
              "      <th>id</th>\n",
              "      <th>title</th>\n",
              "      <th>like</th>\n",
              "      <th>vote_average</th>\n",
              "      <th>overview</th>\n",
              "      <th>cast</th>\n",
              "      <th>crew</th>\n",
              "    </tr>\n",
              "  </thead>\n",
              "  <tbody>\n",
              "    <tr>\n",
              "      <th>0</th>\n",
              "      <td>11</td>\n",
              "      <td>La guerra de las galaxias. Episodio IV: Una nu...</td>\n",
              "      <td>1</td>\n",
              "      <td>8.1</td>\n",
              "      <td>princesa leia lider movimiento rebelde desea r...</td>\n",
              "      <td>[{\"cast_id\": 3, \"character\": \"Luke Skywalker\",...</td>\n",
              "      <td>[{\"credit_id\": \"52fe420dc3a36847f8000437\", \"de...</td>\n",
              "    </tr>\n",
              "    <tr>\n",
              "      <th>1</th>\n",
              "      <td>12</td>\n",
              "      <td>Buscando a Nemo</td>\n",
              "      <td>1</td>\n",
              "      <td>7.6</td>\n",
              "      <td>nemo pececillo hijo unico querido protegido pa...</td>\n",
              "      <td>[{\"cast_id\": 8, \"character\": \"Marlin (voice)\",...</td>\n",
              "      <td>[{\"credit_id\": \"52fe420ec3a36847f80006b1\", \"de...</td>\n",
              "    </tr>\n",
              "    <tr>\n",
              "      <th>2</th>\n",
              "      <td>13</td>\n",
              "      <td>Forrest Gump</td>\n",
              "      <td>1</td>\n",
              "      <td>8.2</td>\n",
              "      <td>forrest gump chico deficiencias mentales profu...</td>\n",
              "      <td>[{\"cast_id\": 7, \"character\": \"Forrest Gump\", \"...</td>\n",
              "      <td>[{\"credit_id\": \"52fe420ec3a36847f800076b\", \"de...</td>\n",
              "    </tr>\n",
              "    <tr>\n",
              "      <th>3</th>\n",
              "      <td>22</td>\n",
              "      <td>Piratas del Caribe. La maldición de la Perla N...</td>\n",
              "      <td>1</td>\n",
              "      <td>7.5</td>\n",
              "      <td>aventurero capitan jack sparrow recorre aguas ...</td>\n",
              "      <td>[{\"cast_id\": 12, \"character\": \"Captain Jack Sp...</td>\n",
              "      <td>[{\"credit_id\": \"52fe420fc3a36847f8000f11\", \"de...</td>\n",
              "    </tr>\n",
              "    <tr>\n",
              "      <th>4</th>\n",
              "      <td>24</td>\n",
              "      <td>Kill Bill: Volumen 1</td>\n",
              "      <td>1</td>\n",
              "      <td>7.7</td>\n",
              "      <td>uma thurman asesina boda atacada miembros band...</td>\n",
              "      <td>[{\"cast_id\": 3, \"character\": \"Beatrix 'The Bri...</td>\n",
              "      <td>[{\"credit_id\": \"56a517709251410c080054d2\", \"de...</td>\n",
              "    </tr>\n",
              "    <tr>\n",
              "      <th>5</th>\n",
              "      <td>35</td>\n",
              "      <td>Los Simpson: La película</td>\n",
              "      <td>1</td>\n",
              "      <td>6.9</td>\n",
              "      <td>homer salvar mundo catastrofe provocado comien...</td>\n",
              "      <td>[{\"cast_id\": 2, \"character\": \"Homer / Itchy / ...</td>\n",
              "      <td>[{\"credit_id\": \"52fe4211c3a36847f8001521\", \"de...</td>\n",
              "    </tr>\n",
              "    <tr>\n",
              "      <th>6</th>\n",
              "      <td>58</td>\n",
              "      <td>Piratas del Caribe: El cofre del hombre muerto</td>\n",
              "      <td>1</td>\n",
              "      <td>7.0</td>\n",
              "      <td>will turner elizabeth swann casar hechos prisi...</td>\n",
              "      <td>[{\"cast_id\": 37, \"character\": \"Captain Jack Sp...</td>\n",
              "      <td>[{\"credit_id\": \"52fe4211c3a36847f8001873\", \"de...</td>\n",
              "    </tr>\n",
              "    <tr>\n",
              "      <th>7</th>\n",
              "      <td>62</td>\n",
              "      <td>2001: Una odisea del espacio</td>\n",
              "      <td>1</td>\n",
              "      <td>7.9</td>\n",
              "      <td>historia humanidad diversos estadios futuro na...</td>\n",
              "      <td>[{\"cast_id\": 6, \"character\": \"Dr. Dave Bowman\"...</td>\n",
              "      <td>[{\"credit_id\": \"52fe4212c3a36847f8001a05\", \"de...</td>\n",
              "    </tr>\n",
              "    <tr>\n",
              "      <th>8</th>\n",
              "      <td>65</td>\n",
              "      <td>8 millas</td>\n",
              "      <td>1</td>\n",
              "      <td>NaN</td>\n",
              "      <td>detroit  promesa potencia industrial transform...</td>\n",
              "      <td>[{\"cast_id\": 3, \"character\": \"Jimmy B. \\\"Rabbi...</td>\n",
              "      <td>[{\"credit_id\": \"52fe4212c3a36847f8001c6b\", \"de...</td>\n",
              "    </tr>\n",
              "    <tr>\n",
              "      <th>9</th>\n",
              "      <td>70</td>\n",
              "      <td>Million Dollar Baby</td>\n",
              "      <td>1</td>\n",
              "      <td>7.7</td>\n",
              "      <td>frankie dunn entrenado representado mejores pu...</td>\n",
              "      <td>[{\"cast_id\": 4, \"character\": \"Frankie Dunn\", \"...</td>\n",
              "      <td>[{\"credit_id\": \"52fe4213c3a36847f800200b\", \"de...</td>\n",
              "    </tr>\n",
              "    <tr>\n",
              "      <th>10</th>\n",
              "      <td>71</td>\n",
              "      <td>Billy Elliot (Quiero bailar)</td>\n",
              "      <td>1</td>\n",
              "      <td>7.4</td>\n",
              "      <td>huelga mineros condado durham suceden enfrent...</td>\n",
              "      <td>[{\"cast_id\": 16, \"character\": \"Billy Elliot\", ...</td>\n",
              "      <td>[{\"credit_id\": \"52fe4213c3a36847f80020c7\", \"de...</td>\n",
              "    </tr>\n",
              "    <tr>\n",
              "      <th>11</th>\n",
              "      <td>73</td>\n",
              "      <td>American History X</td>\n",
              "      <td>1</td>\n",
              "      <td>8.2</td>\n",
              "      <td>derek vinyard edward norton lider grupo neonaz...</td>\n",
              "      <td>[{\"cast_id\": 4, \"character\": \"Derek Vinyard\", ...</td>\n",
              "      <td>[{\"credit_id\": \"5563a4c1925141271b0021e7\", \"de...</td>\n",
              "    </tr>\n",
              "    <tr>\n",
              "      <th>12</th>\n",
              "      <td>74</td>\n",
              "      <td>La guerra de los mundos</td>\n",
              "      <td>0</td>\n",
              "      <td>6.2</td>\n",
              "      <td>basada popular novela hg wells narra historia ...</td>\n",
              "      <td>[{\"cast_id\": 13, \"character\": \"Ray Ferrier\", \"...</td>\n",
              "      <td>[{\"credit_id\": \"52fe4213c3a36847f8002237\", \"de...</td>\n",
              "    </tr>\n",
              "    <tr>\n",
              "      <th>13</th>\n",
              "      <td>77</td>\n",
              "      <td>Memento</td>\n",
              "      <td>1</td>\n",
              "      <td>8.1</td>\n",
              "      <td>leonard investigador seguros cuya memoria irre...</td>\n",
              "      <td>[{\"cast_id\": 4, \"character\": \"Leonard\", \"credi...</td>\n",
              "      <td>[{\"credit_id\": \"52fe4214c3a36847f80024d1\", \"de...</td>\n",
              "    </tr>\n",
              "    <tr>\n",
              "      <th>14</th>\n",
              "      <td>78</td>\n",
              "      <td>Blade Runner</td>\n",
              "      <td>1</td>\n",
              "      <td>7.9</td>\n",
              "      <td>principios siglo xxi tyrell corporation desarr...</td>\n",
              "      <td>[{\"cast_id\": 6, \"character\": \"Rick Deckard\", \"...</td>\n",
              "      <td>[{\"credit_id\": \"549e9edcc3a3682f2300824b\", \"de...</td>\n",
              "    </tr>\n",
              "  </tbody>\n",
              "</table>\n",
              "</div>"
            ],
            "text/plain": [
              "    id                                              title  like  vote_average  \\\n",
              "0   11  La guerra de las galaxias. Episodio IV: Una nu...     1           8.1   \n",
              "1   12                                    Buscando a Nemo     1           7.6   \n",
              "2   13                                       Forrest Gump     1           8.2   \n",
              "3   22  Piratas del Caribe. La maldición de la Perla N...     1           7.5   \n",
              "4   24                               Kill Bill: Volumen 1     1           7.7   \n",
              "5   35                           Los Simpson: La película     1           6.9   \n",
              "6   58     Piratas del Caribe: El cofre del hombre muerto     1           7.0   \n",
              "7   62                       2001: Una odisea del espacio     1           7.9   \n",
              "8   65                                           8 millas     1           NaN   \n",
              "9   70                                Million Dollar Baby     1           7.7   \n",
              "10  71                       Billy Elliot (Quiero bailar)     1           7.4   \n",
              "11  73                                 American History X     1           8.2   \n",
              "12  74                            La guerra de los mundos     0           6.2   \n",
              "13  77                                            Memento     1           8.1   \n",
              "14  78                                       Blade Runner     1           7.9   \n",
              "\n",
              "                                             overview  \\\n",
              "0   princesa leia lider movimiento rebelde desea r...   \n",
              "1   nemo pececillo hijo unico querido protegido pa...   \n",
              "2   forrest gump chico deficiencias mentales profu...   \n",
              "3   aventurero capitan jack sparrow recorre aguas ...   \n",
              "4   uma thurman asesina boda atacada miembros band...   \n",
              "5   homer salvar mundo catastrofe provocado comien...   \n",
              "6   will turner elizabeth swann casar hechos prisi...   \n",
              "7   historia humanidad diversos estadios futuro na...   \n",
              "8   detroit  promesa potencia industrial transform...   \n",
              "9   frankie dunn entrenado representado mejores pu...   \n",
              "10   huelga mineros condado durham suceden enfrent...   \n",
              "11  derek vinyard edward norton lider grupo neonaz...   \n",
              "12  basada popular novela hg wells narra historia ...   \n",
              "13  leonard investigador seguros cuya memoria irre...   \n",
              "14  principios siglo xxi tyrell corporation desarr...   \n",
              "\n",
              "                                                 cast  \\\n",
              "0   [{\"cast_id\": 3, \"character\": \"Luke Skywalker\",...   \n",
              "1   [{\"cast_id\": 8, \"character\": \"Marlin (voice)\",...   \n",
              "2   [{\"cast_id\": 7, \"character\": \"Forrest Gump\", \"...   \n",
              "3   [{\"cast_id\": 12, \"character\": \"Captain Jack Sp...   \n",
              "4   [{\"cast_id\": 3, \"character\": \"Beatrix 'The Bri...   \n",
              "5   [{\"cast_id\": 2, \"character\": \"Homer / Itchy / ...   \n",
              "6   [{\"cast_id\": 37, \"character\": \"Captain Jack Sp...   \n",
              "7   [{\"cast_id\": 6, \"character\": \"Dr. Dave Bowman\"...   \n",
              "8   [{\"cast_id\": 3, \"character\": \"Jimmy B. \\\"Rabbi...   \n",
              "9   [{\"cast_id\": 4, \"character\": \"Frankie Dunn\", \"...   \n",
              "10  [{\"cast_id\": 16, \"character\": \"Billy Elliot\", ...   \n",
              "11  [{\"cast_id\": 4, \"character\": \"Derek Vinyard\", ...   \n",
              "12  [{\"cast_id\": 13, \"character\": \"Ray Ferrier\", \"...   \n",
              "13  [{\"cast_id\": 4, \"character\": \"Leonard\", \"credi...   \n",
              "14  [{\"cast_id\": 6, \"character\": \"Rick Deckard\", \"...   \n",
              "\n",
              "                                                 crew  \n",
              "0   [{\"credit_id\": \"52fe420dc3a36847f8000437\", \"de...  \n",
              "1   [{\"credit_id\": \"52fe420ec3a36847f80006b1\", \"de...  \n",
              "2   [{\"credit_id\": \"52fe420ec3a36847f800076b\", \"de...  \n",
              "3   [{\"credit_id\": \"52fe420fc3a36847f8000f11\", \"de...  \n",
              "4   [{\"credit_id\": \"56a517709251410c080054d2\", \"de...  \n",
              "5   [{\"credit_id\": \"52fe4211c3a36847f8001521\", \"de...  \n",
              "6   [{\"credit_id\": \"52fe4211c3a36847f8001873\", \"de...  \n",
              "7   [{\"credit_id\": \"52fe4212c3a36847f8001a05\", \"de...  \n",
              "8   [{\"credit_id\": \"52fe4212c3a36847f8001c6b\", \"de...  \n",
              "9   [{\"credit_id\": \"52fe4213c3a36847f800200b\", \"de...  \n",
              "10  [{\"credit_id\": \"52fe4213c3a36847f80020c7\", \"de...  \n",
              "11  [{\"credit_id\": \"5563a4c1925141271b0021e7\", \"de...  \n",
              "12  [{\"credit_id\": \"52fe4213c3a36847f8002237\", \"de...  \n",
              "13  [{\"credit_id\": \"52fe4214c3a36847f80024d1\", \"de...  \n",
              "14  [{\"credit_id\": \"549e9edcc3a3682f2300824b\", \"de...  "
            ]
          },
          "metadata": {
            "tags": []
          },
          "execution_count": 12
        }
      ]
    },
    {
      "metadata": {
        "id": "3UE-Dc9MWMS2",
        "colab_type": "code",
        "colab": {}
      },
      "cell_type": "code",
      "source": [
        "data['overview']=data['overview'].apply(lambda x: stem_sentence(x))\n",
        "data['overview']=data['overview'].apply(lambda x: delete_stop_words(x))"
      ],
      "execution_count": 0,
      "outputs": []
    },
    {
      "metadata": {
        "id": "tglTzf6YWb2M",
        "colab_type": "code",
        "outputId": "9d64c6de-c2e2-470c-ff6f-74be32bb9646",
        "colab": {
          "base_uri": "https://localhost:8080/",
          "height": 780
        }
      },
      "cell_type": "code",
      "source": [
        "data.head(15)"
      ],
      "execution_count": 14,
      "outputs": [
        {
          "output_type": "execute_result",
          "data": {
            "text/html": [
              "<div>\n",
              "<style scoped>\n",
              "    .dataframe tbody tr th:only-of-type {\n",
              "        vertical-align: middle;\n",
              "    }\n",
              "\n",
              "    .dataframe tbody tr th {\n",
              "        vertical-align: top;\n",
              "    }\n",
              "\n",
              "    .dataframe thead th {\n",
              "        text-align: right;\n",
              "    }\n",
              "</style>\n",
              "<table border=\"1\" class=\"dataframe\">\n",
              "  <thead>\n",
              "    <tr style=\"text-align: right;\">\n",
              "      <th></th>\n",
              "      <th>id</th>\n",
              "      <th>title</th>\n",
              "      <th>like</th>\n",
              "      <th>vote_average</th>\n",
              "      <th>overview</th>\n",
              "      <th>cast</th>\n",
              "      <th>crew</th>\n",
              "    </tr>\n",
              "  </thead>\n",
              "  <tbody>\n",
              "    <tr>\n",
              "      <th>0</th>\n",
              "      <td>11</td>\n",
              "      <td>La guerra de las galaxias. Episodio IV: Una nu...</td>\n",
              "      <td>1</td>\n",
              "      <td>8.1</td>\n",
              "      <td>princes lei lid movimient rebeld dese reinstau...</td>\n",
              "      <td>[{\"cast_id\": 3, \"character\": \"Luke Skywalker\",...</td>\n",
              "      <td>[{\"credit_id\": \"52fe420dc3a36847f8000437\", \"de...</td>\n",
              "    </tr>\n",
              "    <tr>\n",
              "      <th>1</th>\n",
              "      <td>12</td>\n",
              "      <td>Buscando a Nemo</td>\n",
              "      <td>1</td>\n",
              "      <td>7.6</td>\n",
              "      <td>nem pececill hij unic quer proteg padr captur ...</td>\n",
              "      <td>[{\"cast_id\": 8, \"character\": \"Marlin (voice)\",...</td>\n",
              "      <td>[{\"credit_id\": \"52fe420ec3a36847f80006b1\", \"de...</td>\n",
              "    </tr>\n",
              "    <tr>\n",
              "      <th>2</th>\n",
              "      <td>13</td>\n",
              "      <td>Forrest Gump</td>\n",
              "      <td>1</td>\n",
              "      <td>8.2</td>\n",
              "      <td>forrest gump chic deficient mental profund inc...</td>\n",
              "      <td>[{\"cast_id\": 7, \"character\": \"Forrest Gump\", \"...</td>\n",
              "      <td>[{\"credit_id\": \"52fe420ec3a36847f800076b\", \"de...</td>\n",
              "    </tr>\n",
              "    <tr>\n",
              "      <th>3</th>\n",
              "      <td>22</td>\n",
              "      <td>Piratas del Caribe. La maldición de la Perla N...</td>\n",
              "      <td>1</td>\n",
              "      <td>7.5</td>\n",
              "      <td>aventurer capit jack sparrow recorr agu caribe...</td>\n",
              "      <td>[{\"cast_id\": 12, \"character\": \"Captain Jack Sp...</td>\n",
              "      <td>[{\"credit_id\": \"52fe420fc3a36847f8000f11\", \"de...</td>\n",
              "    </tr>\n",
              "    <tr>\n",
              "      <th>4</th>\n",
              "      <td>24</td>\n",
              "      <td>Kill Bill: Volumen 1</td>\n",
              "      <td>1</td>\n",
              "      <td>7.7</td>\n",
              "      <td>uma thurm asesin bod atac miembr band jef bill...</td>\n",
              "      <td>[{\"cast_id\": 3, \"character\": \"Beatrix 'The Bri...</td>\n",
              "      <td>[{\"credit_id\": \"56a517709251410c080054d2\", \"de...</td>\n",
              "    </tr>\n",
              "    <tr>\n",
              "      <th>5</th>\n",
              "      <td>35</td>\n",
              "      <td>Los Simpson: La película</td>\n",
              "      <td>1</td>\n",
              "      <td>6.9</td>\n",
              "      <td>hom salv mund catastrof provoc comienz hom mas...</td>\n",
              "      <td>[{\"cast_id\": 2, \"character\": \"Homer / Itchy / ...</td>\n",
              "      <td>[{\"credit_id\": \"52fe4211c3a36847f8001521\", \"de...</td>\n",
              "    </tr>\n",
              "    <tr>\n",
              "      <th>6</th>\n",
              "      <td>58</td>\n",
              "      <td>Piratas del Caribe: El cofre del hombre muerto</td>\n",
              "      <td>1</td>\n",
              "      <td>7.0</td>\n",
              "      <td>will turn elizabeth swann cas hech prisioner l...</td>\n",
              "      <td>[{\"cast_id\": 37, \"character\": \"Captain Jack Sp...</td>\n",
              "      <td>[{\"credit_id\": \"52fe4211c3a36847f8001873\", \"de...</td>\n",
              "    </tr>\n",
              "    <tr>\n",
              "      <th>7</th>\n",
              "      <td>62</td>\n",
              "      <td>2001: Una odisea del espacio</td>\n",
              "      <td>1</td>\n",
              "      <td>7.9</td>\n",
              "      <td>histori human divers estadi futur narr pelicul...</td>\n",
              "      <td>[{\"cast_id\": 6, \"character\": \"Dr. Dave Bowman\"...</td>\n",
              "      <td>[{\"credit_id\": \"52fe4212c3a36847f8001a05\", \"de...</td>\n",
              "    </tr>\n",
              "    <tr>\n",
              "      <th>8</th>\n",
              "      <td>65</td>\n",
              "      <td>8 millas</td>\n",
              "      <td>1</td>\n",
              "      <td>NaN</td>\n",
              "      <td>detroit promes potenci industrial transform he...</td>\n",
              "      <td>[{\"cast_id\": 3, \"character\": \"Jimmy B. \\\"Rabbi...</td>\n",
              "      <td>[{\"credit_id\": \"52fe4212c3a36847f8001c6b\", \"de...</td>\n",
              "    </tr>\n",
              "    <tr>\n",
              "      <th>9</th>\n",
              "      <td>70</td>\n",
              "      <td>Million Dollar Baby</td>\n",
              "      <td>1</td>\n",
              "      <td>7.7</td>\n",
              "      <td>franki dunn entren represent pugil regent gimn...</td>\n",
              "      <td>[{\"cast_id\": 4, \"character\": \"Frankie Dunn\", \"...</td>\n",
              "      <td>[{\"credit_id\": \"52fe4213c3a36847f800200b\", \"de...</td>\n",
              "    </tr>\n",
              "    <tr>\n",
              "      <th>10</th>\n",
              "      <td>71</td>\n",
              "      <td>Billy Elliot (Quiero bailar)</td>\n",
              "      <td>1</td>\n",
              "      <td>7.4</td>\n",
              "      <td>huelg miner cond durham suced enfrent piquet p...</td>\n",
              "      <td>[{\"cast_id\": 16, \"character\": \"Billy Elliot\", ...</td>\n",
              "      <td>[{\"credit_id\": \"52fe4213c3a36847f80020c7\", \"de...</td>\n",
              "    </tr>\n",
              "    <tr>\n",
              "      <th>11</th>\n",
              "      <td>73</td>\n",
              "      <td>American History X</td>\n",
              "      <td>1</td>\n",
              "      <td>8.2</td>\n",
              "      <td>derek vinyard edward norton lid grup neonazi v...</td>\n",
              "      <td>[{\"cast_id\": 4, \"character\": \"Derek Vinyard\", ...</td>\n",
              "      <td>[{\"credit_id\": \"5563a4c1925141271b0021e7\", \"de...</td>\n",
              "    </tr>\n",
              "    <tr>\n",
              "      <th>12</th>\n",
              "      <td>74</td>\n",
              "      <td>La guerra de los mundos</td>\n",
              "      <td>0</td>\n",
              "      <td>6.2</td>\n",
              "      <td>bas popul novel hg wells narr histori invasion...</td>\n",
              "      <td>[{\"cast_id\": 13, \"character\": \"Ray Ferrier\", \"...</td>\n",
              "      <td>[{\"credit_id\": \"52fe4213c3a36847f8002237\", \"de...</td>\n",
              "    </tr>\n",
              "    <tr>\n",
              "      <th>13</th>\n",
              "      <td>77</td>\n",
              "      <td>Memento</td>\n",
              "      <td>1</td>\n",
              "      <td>8.1</td>\n",
              "      <td>leonard investig segur cuy memori irrevers dañ...</td>\n",
              "      <td>[{\"cast_id\": 4, \"character\": \"Leonard\", \"credi...</td>\n",
              "      <td>[{\"credit_id\": \"52fe4214c3a36847f80024d1\", \"de...</td>\n",
              "    </tr>\n",
              "    <tr>\n",
              "      <th>14</th>\n",
              "      <td>78</td>\n",
              "      <td>Blade Runner</td>\n",
              "      <td>1</td>\n",
              "      <td>7.9</td>\n",
              "      <td>principi sigl xxi tyrell corporation desarroll...</td>\n",
              "      <td>[{\"cast_id\": 6, \"character\": \"Rick Deckard\", \"...</td>\n",
              "      <td>[{\"credit_id\": \"549e9edcc3a3682f2300824b\", \"de...</td>\n",
              "    </tr>\n",
              "  </tbody>\n",
              "</table>\n",
              "</div>"
            ],
            "text/plain": [
              "    id                                              title  like  vote_average  \\\n",
              "0   11  La guerra de las galaxias. Episodio IV: Una nu...     1           8.1   \n",
              "1   12                                    Buscando a Nemo     1           7.6   \n",
              "2   13                                       Forrest Gump     1           8.2   \n",
              "3   22  Piratas del Caribe. La maldición de la Perla N...     1           7.5   \n",
              "4   24                               Kill Bill: Volumen 1     1           7.7   \n",
              "5   35                           Los Simpson: La película     1           6.9   \n",
              "6   58     Piratas del Caribe: El cofre del hombre muerto     1           7.0   \n",
              "7   62                       2001: Una odisea del espacio     1           7.9   \n",
              "8   65                                           8 millas     1           NaN   \n",
              "9   70                                Million Dollar Baby     1           7.7   \n",
              "10  71                       Billy Elliot (Quiero bailar)     1           7.4   \n",
              "11  73                                 American History X     1           8.2   \n",
              "12  74                            La guerra de los mundos     0           6.2   \n",
              "13  77                                            Memento     1           8.1   \n",
              "14  78                                       Blade Runner     1           7.9   \n",
              "\n",
              "                                             overview  \\\n",
              "0   princes lei lid movimient rebeld dese reinstau...   \n",
              "1   nem pececill hij unic quer proteg padr captur ...   \n",
              "2   forrest gump chic deficient mental profund inc...   \n",
              "3   aventurer capit jack sparrow recorr agu caribe...   \n",
              "4   uma thurm asesin bod atac miembr band jef bill...   \n",
              "5   hom salv mund catastrof provoc comienz hom mas...   \n",
              "6   will turn elizabeth swann cas hech prisioner l...   \n",
              "7   histori human divers estadi futur narr pelicul...   \n",
              "8   detroit promes potenci industrial transform he...   \n",
              "9   franki dunn entren represent pugil regent gimn...   \n",
              "10  huelg miner cond durham suced enfrent piquet p...   \n",
              "11  derek vinyard edward norton lid grup neonazi v...   \n",
              "12  bas popul novel hg wells narr histori invasion...   \n",
              "13  leonard investig segur cuy memori irrevers dañ...   \n",
              "14  principi sigl xxi tyrell corporation desarroll...   \n",
              "\n",
              "                                                 cast  \\\n",
              "0   [{\"cast_id\": 3, \"character\": \"Luke Skywalker\",...   \n",
              "1   [{\"cast_id\": 8, \"character\": \"Marlin (voice)\",...   \n",
              "2   [{\"cast_id\": 7, \"character\": \"Forrest Gump\", \"...   \n",
              "3   [{\"cast_id\": 12, \"character\": \"Captain Jack Sp...   \n",
              "4   [{\"cast_id\": 3, \"character\": \"Beatrix 'The Bri...   \n",
              "5   [{\"cast_id\": 2, \"character\": \"Homer / Itchy / ...   \n",
              "6   [{\"cast_id\": 37, \"character\": \"Captain Jack Sp...   \n",
              "7   [{\"cast_id\": 6, \"character\": \"Dr. Dave Bowman\"...   \n",
              "8   [{\"cast_id\": 3, \"character\": \"Jimmy B. \\\"Rabbi...   \n",
              "9   [{\"cast_id\": 4, \"character\": \"Frankie Dunn\", \"...   \n",
              "10  [{\"cast_id\": 16, \"character\": \"Billy Elliot\", ...   \n",
              "11  [{\"cast_id\": 4, \"character\": \"Derek Vinyard\", ...   \n",
              "12  [{\"cast_id\": 13, \"character\": \"Ray Ferrier\", \"...   \n",
              "13  [{\"cast_id\": 4, \"character\": \"Leonard\", \"credi...   \n",
              "14  [{\"cast_id\": 6, \"character\": \"Rick Deckard\", \"...   \n",
              "\n",
              "                                                 crew  \n",
              "0   [{\"credit_id\": \"52fe420dc3a36847f8000437\", \"de...  \n",
              "1   [{\"credit_id\": \"52fe420ec3a36847f80006b1\", \"de...  \n",
              "2   [{\"credit_id\": \"52fe420ec3a36847f800076b\", \"de...  \n",
              "3   [{\"credit_id\": \"52fe420fc3a36847f8000f11\", \"de...  \n",
              "4   [{\"credit_id\": \"56a517709251410c080054d2\", \"de...  \n",
              "5   [{\"credit_id\": \"52fe4211c3a36847f8001521\", \"de...  \n",
              "6   [{\"credit_id\": \"52fe4211c3a36847f8001873\", \"de...  \n",
              "7   [{\"credit_id\": \"52fe4212c3a36847f8001a05\", \"de...  \n",
              "8   [{\"credit_id\": \"52fe4212c3a36847f8001c6b\", \"de...  \n",
              "9   [{\"credit_id\": \"52fe4213c3a36847f800200b\", \"de...  \n",
              "10  [{\"credit_id\": \"52fe4213c3a36847f80020c7\", \"de...  \n",
              "11  [{\"credit_id\": \"5563a4c1925141271b0021e7\", \"de...  \n",
              "12  [{\"credit_id\": \"52fe4213c3a36847f8002237\", \"de...  \n",
              "13  [{\"credit_id\": \"52fe4214c3a36847f80024d1\", \"de...  \n",
              "14  [{\"credit_id\": \"549e9edcc3a3682f2300824b\", \"de...  "
            ]
          },
          "metadata": {
            "tags": []
          },
          "execution_count": 14
        }
      ]
    },
    {
      "metadata": {
        "id": "3D5xiv1eRzQ1",
        "colab_type": "code",
        "colab": {}
      },
      "cell_type": "code",
      "source": [
        "# Get staff and paste to overview\n",
        "\n",
        "def get_actors(cast):\n",
        "  \n",
        "  try:\n",
        "    \n",
        "    json_cast = json.loads(cast)\n",
        "  \n",
        "  except:\n",
        "    \n",
        "    json_cast = cast\n",
        "  \n",
        "  if len(json_cast) > 2:\n",
        "    up = 3\n",
        "  else:\n",
        "    up = len(json_cast)\n",
        "\n",
        "  actors = ''\n",
        "  \n",
        "  for i in range(0,up):\n",
        "    actor = json_cast[i]['name']\n",
        "    actor = normalize(actor.replace(' ','_').lower())\n",
        "  \n",
        "    actors = actors + ' ' + actor\n",
        "  \n",
        "  return actors\n",
        "\n",
        "def get_director(crew):\n",
        "  \n",
        "  try:\n",
        "    \n",
        "    json_crew = json.loads(crew)\n",
        "  \n",
        "  except:\n",
        "    \n",
        "    json_crew = crew\n",
        "  \n",
        "  directors = [member['name'] for member in json_crew if member['job'] == 'Director']\n",
        "  directors = [normalize(director.replace(' ','_').lower()) for director in directors]\n",
        "  directors = str(' '.join(directors))\n",
        "  \n",
        "  return directors"
      ],
      "execution_count": 0,
      "outputs": []
    },
    {
      "metadata": {
        "id": "urmPevCVtAgS",
        "colab_type": "code",
        "colab": {}
      },
      "cell_type": "code",
      "source": [
        "data['overview']=data.apply(lambda x: get_actors(x['cast']) + ' ' + x['overview'] , axis=1)\n",
        "data['overview']=data.apply(lambda x: get_director(x['crew']) + x['overview'] , axis=1)"
      ],
      "execution_count": 0,
      "outputs": []
    },
    {
      "metadata": {
        "id": "qTjFRkmtz-JU",
        "colab_type": "code",
        "outputId": "fb9c82d8-04ba-41d0-d851-aa1e5061b2eb",
        "colab": {
          "base_uri": "https://localhost:8080/",
          "height": 54
        }
      },
      "cell_type": "code",
      "source": [
        "data['overview'][0]"
      ],
      "execution_count": 17,
      "outputs": [
        {
          "output_type": "execute_result",
          "data": {
            "text/plain": [
              "'george_lucas mark_hamill harrison_ford carrie_fisher princes lei lid movimient rebeld dese reinstaur republ galaxi tiemp omin imperi captur malevol fuerz imperial capitan implac darth vad sirvient fiel emper intrep luk skywalk ayud capit nav espacial halcon milenari android rd cpo encarg luch enemig rescat princes volv instaur justici sen galaxi'"
            ]
          },
          "metadata": {
            "tags": []
          },
          "execution_count": 17
        }
      ]
    },
    {
      "metadata": {
        "id": "mwp9UDLvh5Kw",
        "colab_type": "code",
        "colab": {}
      },
      "cell_type": "code",
      "source": [
        "from sklearn.model_selection import train_test_split\n",
        "\n",
        "overviews = data['overview'].values\n",
        "y = data['like'].values\n",
        "\n",
        "overviews_train, overviews_test, y_train, y_test = train_test_split(overviews, y, test_size=0.1, random_state=74, stratify=y)"
      ],
      "execution_count": 0,
      "outputs": []
    },
    {
      "metadata": {
        "id": "j5pooRddATyH",
        "colab_type": "code",
        "colab": {}
      },
      "cell_type": "code",
      "source": [
        "columns_train = {'Overview': overviews_train, 'Like': y_train}\n",
        "train = pd.DataFrame(data=columns_train)\n",
        "train.to_csv('train' + '.csv', sep=';', encoding='utf-8', index=False)\n",
        "\n",
        "columns_test = {'Comment': overviews_test, 'Like': y_test}\n",
        "test = pd.DataFrame(data=columns_test)\n",
        "test.to_csv('test' + '.csv', sep=';', encoding='utf-8', index=False)"
      ],
      "execution_count": 0,
      "outputs": []
    },
    {
      "metadata": {
        "id": "1APEOOWyi-gO",
        "colab_type": "code",
        "colab": {}
      },
      "cell_type": "code",
      "source": [
        "# Embedding\n",
        "num_words = 9000\n",
        "maxlen = 90\n",
        "embedding_size = 300\n",
        "\n",
        "# Convolution\n",
        "kernel_size = 5\n",
        "filters = 300\n",
        "pool_size = 2\n",
        "\n",
        "hidden_dims = 300\n",
        "\n",
        "\n",
        "# LSTM\n",
        "lstm_output_size = 70\n",
        "\n",
        "# Training\n",
        "lr=0.0005\n",
        "#lr=0.0001"
      ],
      "execution_count": 0,
      "outputs": []
    },
    {
      "metadata": {
        "id": "lBLAw0i0i5j3",
        "colab_type": "code",
        "outputId": "9f89a0dc-ed38-4ad9-c970-99557ac738f2",
        "colab": {
          "base_uri": "https://localhost:8080/",
          "height": 89
        }
      },
      "cell_type": "code",
      "source": [
        "from tensorflow.keras.preprocessing.text import Tokenizer\n",
        "\n",
        "tokenizer = Tokenizer(num_words) \n",
        "tokenizer.fit_on_texts(overviews_train)\n",
        "\n",
        "X_train = tokenizer.texts_to_sequences(overviews_train) \n",
        "X_test = tokenizer.texts_to_sequences(overviews_test)\n",
        "\n",
        "vocab_size = len(tokenizer.word_index) + 1 # Adding 1 because of reserved 0 index\n",
        "\n",
        "print(overviews_train[2]) \n",
        "print(X_train[2]) \n",
        "print(vocab_size)"
      ],
      "execution_count": 21,
      "outputs": [
        {
          "output_type": "stream",
          "text": [
            "richard_lagravenese hilary_swank gerard_butler lisa_kudrow holly kennedy jov viud encauz nuev vid muert amad mar gerry fallec enfermed descubr dej escrit cart\n",
            "[137, 2260, 854, 1183, 676, 1000, 4527, 4528, 1420, 1760, 9, 2261, 4529, 1421, 1, 28, 1001, 268, 3034, 1422, 1423, 10, 56, 589, 351]\n",
            "8861\n"
          ],
          "name": "stdout"
        }
      ]
    },
    {
      "metadata": {
        "id": "JRXfUryKjQCN",
        "colab_type": "code",
        "outputId": "98756e18-6818-4f31-9c2d-2aa07c77c778",
        "colab": {
          "base_uri": "https://localhost:8080/",
          "height": 69
        }
      },
      "cell_type": "code",
      "source": [
        "from collections import OrderedDict\n",
        "\n",
        "dictWords = dict(tokenizer.word_counts)\n",
        "\n",
        "print(len(dictWords) + 1)\n",
        "\n",
        "for k,v in list(dictWords.items()):\n",
        "    if v < 2 :\n",
        "        del dictWords[k]\n",
        "        \n",
        "print(len(dictWords) + 1) \n",
        "# Para establecer el tamaño de maxlen\n",
        "\n",
        "len(max(X_train, key=len))"
      ],
      "execution_count": 22,
      "outputs": [
        {
          "output_type": "stream",
          "text": [
            "8861\n",
            "4515\n"
          ],
          "name": "stdout"
        },
        {
          "output_type": "execute_result",
          "data": {
            "text/plain": [
              "95"
            ]
          },
          "metadata": {
            "tags": []
          },
          "execution_count": 22
        }
      ]
    },
    {
      "metadata": {
        "id": "XHqpVvAjjQY8",
        "colab_type": "code",
        "outputId": "8cd0d734-4ea9-479e-f3f5-5bf4e8a92b19",
        "colab": {
          "base_uri": "https://localhost:8080/",
          "height": 173
        }
      },
      "cell_type": "code",
      "source": [
        "from tensorflow.keras.preprocessing.sequence import pad_sequences\n",
        "\n",
        "X_train = pad_sequences(X_train, padding='post', maxlen=maxlen)\n",
        "X_test = pad_sequences(X_test, padding='post', maxlen=maxlen)\n",
        "\n",
        "X_train[1]"
      ],
      "execution_count": 23,
      "outputs": [
        {
          "output_type": "execute_result",
          "data": {
            "text/plain": [
              "array([  91, 4525,  481, 1759, 1417, 1182, 3033, 4526,  267,  114,   92,\n",
              "          5,  675, 1418,  226,   11, 2259,  997,  998,  350,    5,  853,\n",
              "       1419,  999,    0,    0,    0,    0,    0,    0,    0,    0,    0,\n",
              "          0,    0,    0,    0,    0,    0,    0,    0,    0,    0,    0,\n",
              "          0,    0,    0,    0,    0,    0,    0,    0,    0,    0,    0,\n",
              "          0,    0,    0,    0,    0,    0,    0,    0,    0,    0,    0,\n",
              "          0,    0,    0,    0,    0,    0,    0,    0,    0,    0,    0,\n",
              "          0,    0,    0,    0,    0,    0,    0,    0,    0,    0,    0,\n",
              "          0,    0], dtype=int32)"
            ]
          },
          "metadata": {
            "tags": []
          },
          "execution_count": 23
        }
      ]
    },
    {
      "metadata": {
        "id": "0UB9lmFFWab7",
        "colab_type": "code",
        "colab": {}
      },
      "cell_type": "code",
      "source": [
        "#from tensorflow.keras import backend as K\n",
        "from tensorflow.keras.callbacks import EarlyStopping\n",
        "\n",
        "#Optimizer\n",
        "\n",
        "from tensorflow.keras import optimizers\n",
        "\n",
        "adam = optimizers.Adam(lr)\n",
        "\n",
        "\n",
        "es = EarlyStopping(monitor='val_loss',\n",
        "                   min_delta=0,\n",
        "                   patience=40,\n",
        "                   verbose=0, mode='auto')"
      ],
      "execution_count": 0,
      "outputs": []
    },
    {
      "metadata": {
        "id": "ifIZiMr2LdSS",
        "colab_type": "code",
        "outputId": "0c422117-0258-44ba-c27d-14b0297f43d9",
        "colab": {
          "base_uri": "https://localhost:8080/",
          "height": 34
        }
      },
      "cell_type": "code",
      "source": [
        "from sklearn.utils import class_weight\n",
        "\n",
        "\n",
        "class_weights = class_weight.compute_class_weight('balanced',\n",
        "                                                 np.unique(y_train),\n",
        "                                                 y_train)\n",
        "\n",
        "class_weights"
      ],
      "execution_count": 25,
      "outputs": [
        {
          "output_type": "execute_result",
          "data": {
            "text/plain": [
              "array([0.96578947, 1.03672316])"
            ]
          },
          "metadata": {
            "tags": []
          },
          "execution_count": 25
        }
      ]
    },
    {
      "metadata": {
        "id": "TO2rjJmBj28t",
        "colab_type": "code",
        "outputId": "6c0f47e1-fd12-481b-c249-3436ea9062ce",
        "colab": {
          "base_uri": "https://localhost:8080/",
          "height": 499
        }
      },
      "cell_type": "code",
      "source": [
        "# Model 1\n",
        "\n",
        "from tensorflow.keras.models import Sequential\n",
        "from tensorflow.keras.layers import Dense, Dropout, Activation\n",
        "from tensorflow.keras.layers import Embedding\n",
        "from tensorflow.keras.layers import LSTM\n",
        "from tensorflow.keras.layers import Conv1D, GlobalMaxPooling1D\n",
        "\n",
        "model = Sequential()\n",
        "\n",
        "model.add(Embedding(vocab_size,embedding_size, input_length=maxlen))\n",
        "model.add(GlobalMaxPooling1D())\n",
        "model.add(Dropout(0.5))\n",
        "model.add(Dense(500, activation='elu', kernel_initializer='he_uniform'))\n",
        "model.add(Dropout(0.5))\n",
        "model.add(Dense(500, activation='elu', kernel_initializer='he_uniform'))\n",
        "model.add(Dropout(0.5))\n",
        "model.add(Dense(500, activation='elu', kernel_initializer='he_uniform'))\n",
        "model.add(Dropout(0.5))\n",
        "model.add(Dense(1, activation='sigmoid', kernel_initializer='he_uniform'))\n",
        "model.compile(optimizer=adam,\n",
        "              loss='binary_crossentropy',\n",
        "              metrics=['acc'])\n",
        "\n",
        "model.summary()\n"
      ],
      "execution_count": 0,
      "outputs": [
        {
          "output_type": "stream",
          "text": [
            "_________________________________________________________________\n",
            "Layer (type)                 Output Shape              Param #   \n",
            "=================================================================\n",
            "embedding_36 (Embedding)     (None, 90, 300)           2658300   \n",
            "_________________________________________________________________\n",
            "global_max_pooling1d_99 (Glo (None, 300)               0         \n",
            "_________________________________________________________________\n",
            "dropout_31 (Dropout)         (None, 300)               0         \n",
            "_________________________________________________________________\n",
            "dense_30 (Dense)             (None, 500)               150500    \n",
            "_________________________________________________________________\n",
            "dropout_32 (Dropout)         (None, 500)               0         \n",
            "_________________________________________________________________\n",
            "dense_31 (Dense)             (None, 500)               250500    \n",
            "_________________________________________________________________\n",
            "dropout_33 (Dropout)         (None, 500)               0         \n",
            "_________________________________________________________________\n",
            "dense_32 (Dense)             (None, 500)               250500    \n",
            "_________________________________________________________________\n",
            "dropout_34 (Dropout)         (None, 500)               0         \n",
            "_________________________________________________________________\n",
            "dense_33 (Dense)             (None, 1)                 501       \n",
            "=================================================================\n",
            "Total params: 3,310,301\n",
            "Trainable params: 3,310,301\n",
            "Non-trainable params: 0\n",
            "_________________________________________________________________\n"
          ],
          "name": "stdout"
        }
      ]
    },
    {
      "metadata": {
        "id": "X3Jtoe5qztD0",
        "colab_type": "code",
        "outputId": "8d14def8-52c1-4907-9e13-a085ae1a1621",
        "colab": {
          "base_uri": "https://localhost:8080/",
          "height": 625
        }
      },
      "cell_type": "code",
      "source": [
        "# Model 2\n",
        "\n",
        "from tensorflow.keras.models import Sequential\n",
        "from tensorflow.keras.layers import Dense, Dropout, Activation\n",
        "from tensorflow.keras.layers import Embedding, BatchNormalization\n",
        "from tensorflow.keras.layers import Conv1D, GlobalMaxPooling1D, MaxPooling1D,GlobalAveragePooling1D\n",
        "\n",
        "model = Sequential()\n",
        "\n",
        "# we start off with an efficient embedding layer which maps\n",
        "# our vocab indices into embedding_dims dimensions\n",
        "model.add(Embedding(vocab_size,\n",
        "                    embedding_size,\n",
        "                    input_length=maxlen))\n",
        "\n",
        "\n",
        "# we add a Convolution1D, which will learn filters\n",
        "# word group filters of size filter_length:\n",
        "model.add(Conv1D(filters,\n",
        "                 kernel_size,\n",
        "                 padding='valid',\n",
        "                 strides=1, kernel_initializer='he_uniform'))\n",
        "model.add(BatchNormalization())\n",
        "model.add(Activation('elu'))\n",
        "\n",
        "# we use max pooling:\n",
        "\n",
        "model.add(GlobalMaxPooling1D())\n",
        "\n",
        "# We add a vanilla hidden layer:\n",
        "model.add(Dense(150, kernel_initializer='he_uniform'))\n",
        "model.add(BatchNormalization())\n",
        "model.add(Activation('elu'))\n",
        "model.add(Dropout(0.5))\n",
        "\n",
        "# We project onto a single unit output layer, and squash it with a sigmoid:\n",
        "model.add(Dense(1))\n",
        "model.add(BatchNormalization())\n",
        "model.add(Activation('sigmoid'))\n",
        "\n",
        "model.compile(loss='binary_crossentropy',\n",
        "              optimizer=tf.keras.optimizers.Nadam(lr=0.001, beta_1=0.9, beta_2=0.999, epsilon=None, schedule_decay=0.004),\n",
        "              metrics=['accuracy'])\n",
        "\n",
        "model.summary()"
      ],
      "execution_count": 0,
      "outputs": [
        {
          "output_type": "stream",
          "text": [
            "_________________________________________________________________\n",
            "Layer (type)                 Output Shape              Param #   \n",
            "=================================================================\n",
            "embedding_22 (Embedding)     (None, 90, 300)           2634600   \n",
            "_________________________________________________________________\n",
            "dropout_64 (Dropout)         (None, 90, 300)           0         \n",
            "_________________________________________________________________\n",
            "conv1d_20 (Conv1D)           (None, 86, 300)           450300    \n",
            "_________________________________________________________________\n",
            "batch_normalization_v1_59 (B (None, 86, 300)           1200      \n",
            "_________________________________________________________________\n",
            "activation_60 (Activation)   (None, 86, 300)           0         \n",
            "_________________________________________________________________\n",
            "dropout_65 (Dropout)         (None, 86, 300)           0         \n",
            "_________________________________________________________________\n",
            "global_max_pooling1d_21 (Glo (None, 300)               0         \n",
            "_________________________________________________________________\n",
            "dense_44 (Dense)             (None, 150)               45150     \n",
            "_________________________________________________________________\n",
            "batch_normalization_v1_60 (B (None, 150)               600       \n",
            "_________________________________________________________________\n",
            "activation_61 (Activation)   (None, 150)               0         \n",
            "_________________________________________________________________\n",
            "dropout_66 (Dropout)         (None, 150)               0         \n",
            "_________________________________________________________________\n",
            "dense_45 (Dense)             (None, 1)                 151       \n",
            "_________________________________________________________________\n",
            "batch_normalization_v1_61 (B (None, 1)                 4         \n",
            "_________________________________________________________________\n",
            "activation_62 (Activation)   (None, 1)                 0         \n",
            "=================================================================\n",
            "Total params: 3,132,005\n",
            "Trainable params: 3,131,103\n",
            "Non-trainable params: 902\n",
            "_________________________________________________________________\n"
          ],
          "name": "stdout"
        }
      ]
    },
    {
      "metadata": {
        "id": "m4opiVy5h3t7",
        "colab_type": "code",
        "colab": {}
      },
      "cell_type": "code",
      "source": [
        "from tensorflow.keras.models import Sequential,Model\n",
        "from tensorflow.keras.layers import Dense, Dropout, Activation, Convolution1D, MaxPooling1D, Input\n",
        "from tensorflow.keras.layers import Embedding,CuDNNLSTM, SpatialDropout1D, Reshape, Flatten, BatchNormalization\n",
        "from tensorflow.keras.layers import Conv1D, GlobalMaxPooling1D, GlobalAveragePooling1D, Concatenate\n",
        "from tensorflow.keras.optimizers import Adam, Adagrad\n",
        "\n",
        "\n",
        "def my_conv1d(kernel_size,em):\n",
        "  \n",
        "  c1d = Conv1D(filters = 400, kernel_size = kernel_size, padding='same', strides=1, kernel_initializer='he_uniform')(em)\n",
        "  c1d = BatchNormalization()(c1d)\n",
        "  c1d = Activation('elu')(c1d)\n",
        "  \n",
        "  return c1d\n",
        "\n",
        "def my_pred(con):\n",
        "  \n",
        "  pred = Dense(1)(con)\n",
        "  pred = BatchNormalization()(pred)\n",
        "  pred = Activation('sigmoid')(pred)\n",
        "  \n",
        "  return pred"
      ],
      "execution_count": 0,
      "outputs": []
    },
    {
      "metadata": {
        "id": "F7r7BcGTDyEV",
        "colab_type": "code",
        "outputId": "d08786b2-2b4b-4bab-a7ef-fddaa673a14d",
        "colab": {
          "base_uri": "https://localhost:8080/",
          "height": 833
        }
      },
      "cell_type": "code",
      "source": [
        "# Model 3\n",
        "\n",
        "words = Input(shape=(maxlen,))\n",
        "em =  Embedding(input_dim = vocab_size, output_dim = embedding_size)(words)\n",
        "c1 = my_conv1d(2,em)\n",
        "c2 = my_conv1d(3,em)\n",
        "c3 = my_conv1d(5,em)\n",
        "\n",
        "g1 = GlobalMaxPooling1D()(c1)\n",
        "g2 = GlobalMaxPooling1D()(c2)\n",
        "g3 = GlobalMaxPooling1D()(c3)\n",
        "\n",
        "con = Concatenate(axis=1)([g1,g2,g3])\n",
        "con = Dropout(0.5)(con) \n",
        "pred = my_pred(con)\n",
        "model = Model(inputs=words, outputs=pred)\n",
        "\n",
        "model.compile(optimizer = 'adam',\n",
        "              loss = 'binary_crossentropy',\n",
        "              metrics = ['accuracy'])\n",
        "  \n",
        "model.summary()\n"
      ],
      "execution_count": 83,
      "outputs": [
        {
          "output_type": "stream",
          "text": [
            "__________________________________________________________________________________________________\n",
            "Layer (type)                    Output Shape         Param #     Connected to                     \n",
            "==================================================================================================\n",
            "input_18 (InputLayer)           (None, 90)           0                                            \n",
            "__________________________________________________________________________________________________\n",
            "embedding_17 (Embedding)        (None, 90, 300)      2658300     input_18[0][0]                   \n",
            "__________________________________________________________________________________________________\n",
            "conv1d_51 (Conv1D)              (None, 90, 400)      240400      embedding_17[0][0]               \n",
            "__________________________________________________________________________________________________\n",
            "conv1d_52 (Conv1D)              (None, 90, 400)      360400      embedding_17[0][0]               \n",
            "__________________________________________________________________________________________________\n",
            "conv1d_53 (Conv1D)              (None, 90, 400)      600400      embedding_17[0][0]               \n",
            "__________________________________________________________________________________________________\n",
            "batch_normalization_v1_53 (Batc (None, 90, 400)      1600        conv1d_51[0][0]                  \n",
            "__________________________________________________________________________________________________\n",
            "batch_normalization_v1_54 (Batc (None, 90, 400)      1600        conv1d_52[0][0]                  \n",
            "__________________________________________________________________________________________________\n",
            "batch_normalization_v1_55 (Batc (None, 90, 400)      1600        conv1d_53[0][0]                  \n",
            "__________________________________________________________________________________________________\n",
            "activation_50 (Activation)      (None, 90, 400)      0           batch_normalization_v1_53[0][0]  \n",
            "__________________________________________________________________________________________________\n",
            "activation_51 (Activation)      (None, 90, 400)      0           batch_normalization_v1_54[0][0]  \n",
            "__________________________________________________________________________________________________\n",
            "activation_52 (Activation)      (None, 90, 400)      0           batch_normalization_v1_55[0][0]  \n",
            "__________________________________________________________________________________________________\n",
            "global_max_pooling1d_51 (Global (None, 400)          0           activation_50[0][0]              \n",
            "__________________________________________________________________________________________________\n",
            "global_max_pooling1d_52 (Global (None, 400)          0           activation_51[0][0]              \n",
            "__________________________________________________________________________________________________\n",
            "global_max_pooling1d_53 (Global (None, 400)          0           activation_52[0][0]              \n",
            "__________________________________________________________________________________________________\n",
            "concatenate_17 (Concatenate)    (None, 1200)         0           global_max_pooling1d_51[0][0]    \n",
            "                                                                 global_max_pooling1d_52[0][0]    \n",
            "                                                                 global_max_pooling1d_53[0][0]    \n",
            "__________________________________________________________________________________________________\n",
            "dropout_17 (Dropout)            (None, 1200)         0           concatenate_17[0][0]             \n",
            "__________________________________________________________________________________________________\n",
            "dense_17 (Dense)                (None, 1)            1201        dropout_17[0][0]                 \n",
            "__________________________________________________________________________________________________\n",
            "batch_normalization_v1_56 (Batc (None, 1)            4           dense_17[0][0]                   \n",
            "__________________________________________________________________________________________________\n",
            "activation_53 (Activation)      (None, 1)            0           batch_normalization_v1_56[0][0]  \n",
            "==================================================================================================\n",
            "Total params: 3,865,505\n",
            "Trainable params: 3,863,103\n",
            "Non-trainable params: 2,402\n",
            "__________________________________________________________________________________________________\n"
          ],
          "name": "stdout"
        }
      ]
    },
    {
      "metadata": {
        "id": "aN3ce7nAkNdh",
        "colab_type": "code",
        "outputId": "50151c7c-b498-41d0-ccae-d0740bedf014",
        "colab": {
          "base_uri": "https://localhost:8080/",
          "height": 5418
        }
      },
      "cell_type": "code",
      "source": [
        "history = model.fit(X_train, y_train,\n",
        "                    epochs=500,\n",
        "                    verbose=True,\n",
        "                    validation_data=(X_test, y_test),\n",
        "                    batch_size=32, class_weight = class_weights, callbacks=[es])"
      ],
      "execution_count": 84,
      "outputs": [
        {
          "output_type": "stream",
          "text": [
            "Train on 734 samples, validate on 82 samples\n",
            "Epoch 1/500\n",
            "734/734 [==============================] - 2s 3ms/sample - loss: 0.7661 - acc: 0.5300 - val_loss: 0.6894 - val_acc: 0.5122\n",
            "Epoch 2/500\n",
            "734/734 [==============================] - 0s 564us/sample - loss: 0.3858 - acc: 0.9550 - val_loss: 0.7103 - val_acc: 0.5122\n",
            "Epoch 3/500\n",
            "734/734 [==============================] - 0s 560us/sample - loss: 0.3564 - acc: 0.9850 - val_loss: 0.7208 - val_acc: 0.5122\n",
            "Epoch 4/500\n",
            "734/734 [==============================] - 0s 573us/sample - loss: 0.3506 - acc: 0.9850 - val_loss: 0.7245 - val_acc: 0.5122\n",
            "Epoch 5/500\n",
            "734/734 [==============================] - 0s 557us/sample - loss: 0.3364 - acc: 0.9905 - val_loss: 0.7257 - val_acc: 0.5122\n",
            "Epoch 6/500\n",
            "734/734 [==============================] - 0s 557us/sample - loss: 0.3239 - acc: 0.9959 - val_loss: 0.7254 - val_acc: 0.5122\n",
            "Epoch 7/500\n",
            "734/734 [==============================] - 0s 557us/sample - loss: 0.3166 - acc: 0.9986 - val_loss: 0.7242 - val_acc: 0.5122\n",
            "Epoch 8/500\n",
            "734/734 [==============================] - 0s 561us/sample - loss: 0.3159 - acc: 0.9946 - val_loss: 0.7230 - val_acc: 0.5122\n",
            "Epoch 9/500\n",
            "734/734 [==============================] - 0s 561us/sample - loss: 0.3002 - acc: 1.0000 - val_loss: 0.7203 - val_acc: 0.5122\n",
            "Epoch 10/500\n",
            "734/734 [==============================] - 0s 554us/sample - loss: 0.2973 - acc: 0.9986 - val_loss: 0.7165 - val_acc: 0.5122\n",
            "Epoch 11/500\n",
            "734/734 [==============================] - 0s 561us/sample - loss: 0.2911 - acc: 0.9986 - val_loss: 0.7113 - val_acc: 0.5122\n",
            "Epoch 12/500\n",
            "734/734 [==============================] - 0s 576us/sample - loss: 0.2806 - acc: 1.0000 - val_loss: 0.7075 - val_acc: 0.5122\n",
            "Epoch 13/500\n",
            "734/734 [==============================] - 0s 563us/sample - loss: 0.2785 - acc: 1.0000 - val_loss: 0.7047 - val_acc: 0.5122\n",
            "Epoch 14/500\n",
            "734/734 [==============================] - 0s 563us/sample - loss: 0.2747 - acc: 1.0000 - val_loss: 0.7009 - val_acc: 0.5122\n",
            "Epoch 15/500\n",
            "734/734 [==============================] - 0s 560us/sample - loss: 0.2677 - acc: 1.0000 - val_loss: 0.6950 - val_acc: 0.5122\n",
            "Epoch 16/500\n",
            "734/734 [==============================] - 0s 568us/sample - loss: 0.2684 - acc: 1.0000 - val_loss: 0.6931 - val_acc: 0.5122\n",
            "Epoch 17/500\n",
            "734/734 [==============================] - 0s 573us/sample - loss: 0.2569 - acc: 1.0000 - val_loss: 0.6892 - val_acc: 0.5122\n",
            "Epoch 18/500\n",
            "734/734 [==============================] - 0s 562us/sample - loss: 0.2528 - acc: 1.0000 - val_loss: 0.6829 - val_acc: 0.5122\n",
            "Epoch 19/500\n",
            "734/734 [==============================] - 0s 559us/sample - loss: 0.2539 - acc: 1.0000 - val_loss: 0.6759 - val_acc: 0.5122\n",
            "Epoch 20/500\n",
            "734/734 [==============================] - 0s 555us/sample - loss: 0.2494 - acc: 1.0000 - val_loss: 0.6701 - val_acc: 0.5122\n",
            "Epoch 21/500\n",
            "734/734 [==============================] - 0s 569us/sample - loss: 0.2404 - acc: 1.0000 - val_loss: 0.6651 - val_acc: 0.5122\n",
            "Epoch 22/500\n",
            "734/734 [==============================] - 0s 555us/sample - loss: 0.2355 - acc: 1.0000 - val_loss: 0.6574 - val_acc: 0.5244\n",
            "Epoch 23/500\n",
            "734/734 [==============================] - 0s 564us/sample - loss: 0.2326 - acc: 1.0000 - val_loss: 0.6519 - val_acc: 0.5610\n",
            "Epoch 24/500\n",
            "734/734 [==============================] - 0s 578us/sample - loss: 0.2250 - acc: 1.0000 - val_loss: 0.6455 - val_acc: 0.5976\n",
            "Epoch 25/500\n",
            "734/734 [==============================] - 0s 565us/sample - loss: 0.2241 - acc: 1.0000 - val_loss: 0.6412 - val_acc: 0.6463\n",
            "Epoch 26/500\n",
            "734/734 [==============================] - 0s 567us/sample - loss: 0.2149 - acc: 1.0000 - val_loss: 0.6346 - val_acc: 0.6341\n",
            "Epoch 27/500\n",
            "734/734 [==============================] - 0s 561us/sample - loss: 0.2239 - acc: 1.0000 - val_loss: 0.6296 - val_acc: 0.6585\n",
            "Epoch 28/500\n",
            "734/734 [==============================] - 0s 553us/sample - loss: 0.2133 - acc: 1.0000 - val_loss: 0.6261 - val_acc: 0.6341\n",
            "Epoch 29/500\n",
            "734/734 [==============================] - 0s 572us/sample - loss: 0.2064 - acc: 1.0000 - val_loss: 0.6242 - val_acc: 0.6707\n",
            "Epoch 30/500\n",
            "734/734 [==============================] - 0s 568us/sample - loss: 0.2080 - acc: 1.0000 - val_loss: 0.6178 - val_acc: 0.7073\n",
            "Epoch 31/500\n",
            "734/734 [==============================] - 0s 571us/sample - loss: 0.1997 - acc: 1.0000 - val_loss: 0.6149 - val_acc: 0.6951\n",
            "Epoch 32/500\n",
            "734/734 [==============================] - 0s 562us/sample - loss: 0.1968 - acc: 1.0000 - val_loss: 0.6152 - val_acc: 0.6951\n",
            "Epoch 33/500\n",
            "734/734 [==============================] - 0s 570us/sample - loss: 0.1974 - acc: 1.0000 - val_loss: 0.6105 - val_acc: 0.6951\n",
            "Epoch 34/500\n",
            "734/734 [==============================] - 0s 554us/sample - loss: 0.1953 - acc: 1.0000 - val_loss: 0.6059 - val_acc: 0.7073\n",
            "Epoch 35/500\n",
            "734/734 [==============================] - 0s 566us/sample - loss: 0.1881 - acc: 1.0000 - val_loss: 0.6043 - val_acc: 0.7195\n",
            "Epoch 36/500\n",
            "734/734 [==============================] - 0s 566us/sample - loss: 0.1891 - acc: 1.0000 - val_loss: 0.6005 - val_acc: 0.7317\n",
            "Epoch 37/500\n",
            "734/734 [==============================] - 0s 567us/sample - loss: 0.1857 - acc: 1.0000 - val_loss: 0.5989 - val_acc: 0.7073\n",
            "Epoch 38/500\n",
            "734/734 [==============================] - 0s 566us/sample - loss: 0.1778 - acc: 1.0000 - val_loss: 0.6014 - val_acc: 0.6951\n",
            "Epoch 39/500\n",
            "734/734 [==============================] - 0s 566us/sample - loss: 0.1758 - acc: 1.0000 - val_loss: 0.5999 - val_acc: 0.7439\n",
            "Epoch 40/500\n",
            "734/734 [==============================] - 0s 568us/sample - loss: 0.1742 - acc: 1.0000 - val_loss: 0.5985 - val_acc: 0.7561\n",
            "Epoch 41/500\n",
            "734/734 [==============================] - 0s 567us/sample - loss: 0.1760 - acc: 1.0000 - val_loss: 0.5937 - val_acc: 0.7317\n",
            "Epoch 42/500\n",
            "734/734 [==============================] - 0s 567us/sample - loss: 0.1714 - acc: 1.0000 - val_loss: 0.5893 - val_acc: 0.7073\n",
            "Epoch 43/500\n",
            "734/734 [==============================] - 0s 567us/sample - loss: 0.1682 - acc: 1.0000 - val_loss: 0.5880 - val_acc: 0.7317\n",
            "Epoch 44/500\n",
            "734/734 [==============================] - 0s 570us/sample - loss: 0.1663 - acc: 1.0000 - val_loss: 0.5866 - val_acc: 0.7317\n",
            "Epoch 45/500\n",
            "734/734 [==============================] - 0s 568us/sample - loss: 0.1603 - acc: 1.0000 - val_loss: 0.5857 - val_acc: 0.7317\n",
            "Epoch 46/500\n",
            "734/734 [==============================] - 0s 582us/sample - loss: 0.1602 - acc: 1.0000 - val_loss: 0.5870 - val_acc: 0.7317\n",
            "Epoch 47/500\n",
            "734/734 [==============================] - 0s 559us/sample - loss: 0.1616 - acc: 1.0000 - val_loss: 0.5864 - val_acc: 0.7195\n",
            "Epoch 48/500\n",
            "734/734 [==============================] - 0s 565us/sample - loss: 0.1563 - acc: 1.0000 - val_loss: 0.5841 - val_acc: 0.7317\n",
            "Epoch 49/500\n",
            "734/734 [==============================] - 0s 562us/sample - loss: 0.1457 - acc: 1.0000 - val_loss: 0.5827 - val_acc: 0.7195\n",
            "Epoch 50/500\n",
            "734/734 [==============================] - 0s 575us/sample - loss: 0.1454 - acc: 1.0000 - val_loss: 0.5835 - val_acc: 0.7439\n",
            "Epoch 51/500\n",
            "734/734 [==============================] - 0s 567us/sample - loss: 0.1526 - acc: 1.0000 - val_loss: 0.5797 - val_acc: 0.7317\n",
            "Epoch 52/500\n",
            "734/734 [==============================] - 0s 573us/sample - loss: 0.1454 - acc: 1.0000 - val_loss: 0.5813 - val_acc: 0.7195\n",
            "Epoch 53/500\n",
            "734/734 [==============================] - 0s 568us/sample - loss: 0.1482 - acc: 1.0000 - val_loss: 0.5810 - val_acc: 0.7317\n",
            "Epoch 54/500\n",
            "734/734 [==============================] - 0s 568us/sample - loss: 0.1406 - acc: 1.0000 - val_loss: 0.5813 - val_acc: 0.7317\n",
            "Epoch 55/500\n",
            "734/734 [==============================] - 0s 563us/sample - loss: 0.1404 - acc: 1.0000 - val_loss: 0.5753 - val_acc: 0.7561\n",
            "Epoch 56/500\n",
            "734/734 [==============================] - 0s 570us/sample - loss: 0.1384 - acc: 1.0000 - val_loss: 0.5719 - val_acc: 0.7561\n",
            "Epoch 57/500\n",
            "734/734 [==============================] - 0s 558us/sample - loss: 0.1457 - acc: 1.0000 - val_loss: 0.5775 - val_acc: 0.7195\n",
            "Epoch 58/500\n",
            "734/734 [==============================] - 0s 571us/sample - loss: 0.1375 - acc: 1.0000 - val_loss: 0.5820 - val_acc: 0.7317\n",
            "Epoch 59/500\n",
            "734/734 [==============================] - 0s 573us/sample - loss: 0.1377 - acc: 1.0000 - val_loss: 0.5723 - val_acc: 0.7195\n",
            "Epoch 60/500\n",
            "734/734 [==============================] - 0s 567us/sample - loss: 0.1316 - acc: 1.0000 - val_loss: 0.5674 - val_acc: 0.7439\n",
            "Epoch 61/500\n",
            "734/734 [==============================] - 0s 569us/sample - loss: 0.1246 - acc: 1.0000 - val_loss: 0.5706 - val_acc: 0.7561\n",
            "Epoch 62/500\n",
            "734/734 [==============================] - 0s 570us/sample - loss: 0.1277 - acc: 1.0000 - val_loss: 0.5725 - val_acc: 0.7317\n",
            "Epoch 63/500\n",
            "734/734 [==============================] - 0s 575us/sample - loss: 0.1229 - acc: 1.0000 - val_loss: 0.5685 - val_acc: 0.7195\n",
            "Epoch 64/500\n",
            "734/734 [==============================] - 0s 568us/sample - loss: 0.1225 - acc: 1.0000 - val_loss: 0.5664 - val_acc: 0.7195\n",
            "Epoch 65/500\n",
            "734/734 [==============================] - 0s 572us/sample - loss: 0.1294 - acc: 1.0000 - val_loss: 0.5707 - val_acc: 0.7317\n",
            "Epoch 66/500\n",
            "734/734 [==============================] - 0s 566us/sample - loss: 0.1196 - acc: 1.0000 - val_loss: 0.5663 - val_acc: 0.7439\n",
            "Epoch 67/500\n",
            "734/734 [==============================] - 0s 578us/sample - loss: 0.1141 - acc: 1.0000 - val_loss: 0.5643 - val_acc: 0.7317\n",
            "Epoch 68/500\n",
            "734/734 [==============================] - 0s 566us/sample - loss: 0.1182 - acc: 1.0000 - val_loss: 0.5660 - val_acc: 0.7195\n",
            "Epoch 69/500\n",
            "734/734 [==============================] - 0s 570us/sample - loss: 0.1124 - acc: 1.0000 - val_loss: 0.5640 - val_acc: 0.7317\n",
            "Epoch 70/500\n",
            "734/734 [==============================] - 0s 574us/sample - loss: 0.1178 - acc: 0.9986 - val_loss: 0.5594 - val_acc: 0.7439\n",
            "Epoch 71/500\n",
            "734/734 [==============================] - 0s 562us/sample - loss: 0.1165 - acc: 1.0000 - val_loss: 0.5610 - val_acc: 0.7317\n",
            "Epoch 72/500\n",
            "734/734 [==============================] - 0s 573us/sample - loss: 0.1130 - acc: 1.0000 - val_loss: 0.5620 - val_acc: 0.7317\n",
            "Epoch 73/500\n",
            "734/734 [==============================] - 0s 571us/sample - loss: 0.1104 - acc: 1.0000 - val_loss: 0.5626 - val_acc: 0.7439\n",
            "Epoch 74/500\n",
            "734/734 [==============================] - 0s 565us/sample - loss: 0.1073 - acc: 1.0000 - val_loss: 0.5639 - val_acc: 0.7439\n",
            "Epoch 75/500\n",
            "734/734 [==============================] - 0s 580us/sample - loss: 0.1065 - acc: 1.0000 - val_loss: 0.5626 - val_acc: 0.7195\n",
            "Epoch 76/500\n",
            "734/734 [==============================] - 0s 573us/sample - loss: 0.1050 - acc: 1.0000 - val_loss: 0.5603 - val_acc: 0.7195\n",
            "Epoch 77/500\n",
            "734/734 [==============================] - 0s 571us/sample - loss: 0.1072 - acc: 1.0000 - val_loss: 0.5603 - val_acc: 0.7317\n",
            "Epoch 78/500\n",
            "734/734 [==============================] - 0s 567us/sample - loss: 0.1055 - acc: 1.0000 - val_loss: 0.5613 - val_acc: 0.7317\n",
            "Epoch 79/500\n",
            "734/734 [==============================] - 0s 585us/sample - loss: 0.1012 - acc: 1.0000 - val_loss: 0.5588 - val_acc: 0.7317\n",
            "Epoch 80/500\n",
            "734/734 [==============================] - 0s 573us/sample - loss: 0.0975 - acc: 1.0000 - val_loss: 0.5528 - val_acc: 0.7317\n",
            "Epoch 81/500\n",
            "734/734 [==============================] - 0s 567us/sample - loss: 0.0966 - acc: 1.0000 - val_loss: 0.5506 - val_acc: 0.7317\n",
            "Epoch 82/500\n",
            "734/734 [==============================] - 0s 586us/sample - loss: 0.0934 - acc: 1.0000 - val_loss: 0.5500 - val_acc: 0.7317\n",
            "Epoch 83/500\n",
            "734/734 [==============================] - 0s 567us/sample - loss: 0.0943 - acc: 1.0000 - val_loss: 0.5531 - val_acc: 0.7317\n",
            "Epoch 84/500\n",
            "734/734 [==============================] - 0s 575us/sample - loss: 0.0948 - acc: 1.0000 - val_loss: 0.5548 - val_acc: 0.7439\n",
            "Epoch 85/500\n",
            "734/734 [==============================] - 0s 568us/sample - loss: 0.0961 - acc: 1.0000 - val_loss: 0.5522 - val_acc: 0.7439\n",
            "Epoch 86/500\n",
            "734/734 [==============================] - 0s 573us/sample - loss: 0.0896 - acc: 1.0000 - val_loss: 0.5437 - val_acc: 0.7317\n",
            "Epoch 87/500\n",
            "734/734 [==============================] - 0s 585us/sample - loss: 0.0973 - acc: 1.0000 - val_loss: 0.5449 - val_acc: 0.7317\n",
            "Epoch 88/500\n",
            "734/734 [==============================] - 0s 571us/sample - loss: 0.0875 - acc: 1.0000 - val_loss: 0.5532 - val_acc: 0.7439\n",
            "Epoch 89/500\n",
            "734/734 [==============================] - 0s 588us/sample - loss: 0.0895 - acc: 1.0000 - val_loss: 0.5577 - val_acc: 0.7317\n",
            "Epoch 90/500\n",
            "734/734 [==============================] - 0s 567us/sample - loss: 0.0882 - acc: 1.0000 - val_loss: 0.5593 - val_acc: 0.7439\n",
            "Epoch 91/500\n",
            "734/734 [==============================] - 0s 604us/sample - loss: 0.0903 - acc: 1.0000 - val_loss: 0.5537 - val_acc: 0.7317\n",
            "Epoch 92/500\n",
            "734/734 [==============================] - 0s 623us/sample - loss: 0.0858 - acc: 1.0000 - val_loss: 0.5529 - val_acc: 0.7317\n",
            "Epoch 93/500\n",
            "734/734 [==============================] - 0s 619us/sample - loss: 0.0920 - acc: 1.0000 - val_loss: 0.5497 - val_acc: 0.7439\n",
            "Epoch 94/500\n",
            "734/734 [==============================] - 0s 627us/sample - loss: 0.0903 - acc: 1.0000 - val_loss: 0.5471 - val_acc: 0.7439\n",
            "Epoch 95/500\n",
            "734/734 [==============================] - 0s 616us/sample - loss: 0.0801 - acc: 1.0000 - val_loss: 0.5422 - val_acc: 0.7317\n",
            "Epoch 96/500\n",
            "734/734 [==============================] - 0s 622us/sample - loss: 0.0869 - acc: 1.0000 - val_loss: 0.5492 - val_acc: 0.7195\n",
            "Epoch 97/500\n",
            "734/734 [==============================] - 0s 618us/sample - loss: 0.0871 - acc: 1.0000 - val_loss: 0.5472 - val_acc: 0.7073\n",
            "Epoch 98/500\n",
            "734/734 [==============================] - 0s 622us/sample - loss: 0.0770 - acc: 1.0000 - val_loss: 0.5474 - val_acc: 0.7317\n",
            "Epoch 99/500\n",
            "734/734 [==============================] - 0s 611us/sample - loss: 0.0759 - acc: 1.0000 - val_loss: 0.5466 - val_acc: 0.7073\n",
            "Epoch 100/500\n",
            "734/734 [==============================] - 0s 627us/sample - loss: 0.0748 - acc: 1.0000 - val_loss: 0.5472 - val_acc: 0.7317\n",
            "Epoch 101/500\n",
            "734/734 [==============================] - 0s 615us/sample - loss: 0.0768 - acc: 1.0000 - val_loss: 0.5513 - val_acc: 0.7317\n",
            "Epoch 102/500\n",
            "734/734 [==============================] - 0s 628us/sample - loss: 0.0799 - acc: 1.0000 - val_loss: 0.5528 - val_acc: 0.7195\n",
            "Epoch 103/500\n",
            "734/734 [==============================] - 0s 617us/sample - loss: 0.0784 - acc: 1.0000 - val_loss: 0.5460 - val_acc: 0.7317\n",
            "Epoch 104/500\n",
            "734/734 [==============================] - 0s 621us/sample - loss: 0.0689 - acc: 1.0000 - val_loss: 0.5479 - val_acc: 0.7317\n",
            "Epoch 105/500\n",
            "734/734 [==============================] - 0s 624us/sample - loss: 0.0753 - acc: 1.0000 - val_loss: 0.5510 - val_acc: 0.7195\n",
            "Epoch 106/500\n",
            "734/734 [==============================] - 0s 621us/sample - loss: 0.0692 - acc: 1.0000 - val_loss: 0.5495 - val_acc: 0.7195\n",
            "Epoch 107/500\n",
            "734/734 [==============================] - 0s 625us/sample - loss: 0.0653 - acc: 1.0000 - val_loss: 0.5489 - val_acc: 0.7317\n",
            "Epoch 108/500\n",
            "734/734 [==============================] - 0s 618us/sample - loss: 0.0704 - acc: 1.0000 - val_loss: 0.5529 - val_acc: 0.7195\n",
            "Epoch 109/500\n",
            "734/734 [==============================] - 0s 622us/sample - loss: 0.0772 - acc: 1.0000 - val_loss: 0.5547 - val_acc: 0.7195\n",
            "Epoch 110/500\n",
            "734/734 [==============================] - 0s 622us/sample - loss: 0.0742 - acc: 1.0000 - val_loss: 0.5525 - val_acc: 0.7195\n",
            "Epoch 111/500\n",
            "734/734 [==============================] - 0s 628us/sample - loss: 0.0766 - acc: 1.0000 - val_loss: 0.5508 - val_acc: 0.7317\n",
            "Epoch 112/500\n",
            "734/734 [==============================] - 0s 617us/sample - loss: 0.0659 - acc: 1.0000 - val_loss: 0.5500 - val_acc: 0.7317\n",
            "Epoch 113/500\n",
            "734/734 [==============================] - 0s 587us/sample - loss: 0.0647 - acc: 1.0000 - val_loss: 0.5483 - val_acc: 0.7439\n",
            "Epoch 114/500\n",
            "734/734 [==============================] - 0s 578us/sample - loss: 0.0663 - acc: 1.0000 - val_loss: 0.5395 - val_acc: 0.7439\n",
            "Epoch 115/500\n",
            "734/734 [==============================] - 0s 579us/sample - loss: 0.0639 - acc: 1.0000 - val_loss: 0.5370 - val_acc: 0.7439\n",
            "Epoch 116/500\n",
            "734/734 [==============================] - 0s 568us/sample - loss: 0.0666 - acc: 1.0000 - val_loss: 0.5474 - val_acc: 0.7561\n",
            "Epoch 117/500\n",
            "734/734 [==============================] - 0s 565us/sample - loss: 0.0654 - acc: 1.0000 - val_loss: 0.5417 - val_acc: 0.7317\n",
            "Epoch 118/500\n",
            "734/734 [==============================] - 0s 576us/sample - loss: 0.0629 - acc: 1.0000 - val_loss: 0.5443 - val_acc: 0.7317\n",
            "Epoch 119/500\n",
            "734/734 [==============================] - 0s 568us/sample - loss: 0.0599 - acc: 1.0000 - val_loss: 0.5473 - val_acc: 0.7195\n",
            "Epoch 120/500\n",
            "734/734 [==============================] - 0s 565us/sample - loss: 0.0622 - acc: 1.0000 - val_loss: 0.5486 - val_acc: 0.7439\n",
            "Epoch 121/500\n",
            "734/734 [==============================] - 0s 580us/sample - loss: 0.0632 - acc: 1.0000 - val_loss: 0.5469 - val_acc: 0.7439\n",
            "Epoch 122/500\n",
            "734/734 [==============================] - 0s 562us/sample - loss: 0.0590 - acc: 1.0000 - val_loss: 0.5471 - val_acc: 0.7317\n",
            "Epoch 123/500\n",
            "734/734 [==============================] - 0s 573us/sample - loss: 0.0627 - acc: 1.0000 - val_loss: 0.5492 - val_acc: 0.7439\n",
            "Epoch 124/500\n",
            "734/734 [==============================] - 0s 572us/sample - loss: 0.0543 - acc: 1.0000 - val_loss: 0.5459 - val_acc: 0.7439\n",
            "Epoch 125/500\n",
            "734/734 [==============================] - 0s 566us/sample - loss: 0.0587 - acc: 1.0000 - val_loss: 0.5402 - val_acc: 0.7439\n",
            "Epoch 126/500\n",
            "734/734 [==============================] - 0s 568us/sample - loss: 0.0555 - acc: 1.0000 - val_loss: 0.5421 - val_acc: 0.7439\n",
            "Epoch 127/500\n",
            "734/734 [==============================] - 0s 562us/sample - loss: 0.0590 - acc: 1.0000 - val_loss: 0.5441 - val_acc: 0.7439\n",
            "Epoch 128/500\n",
            "734/734 [==============================] - 0s 568us/sample - loss: 0.0573 - acc: 1.0000 - val_loss: 0.5481 - val_acc: 0.7439\n",
            "Epoch 129/500\n",
            "734/734 [==============================] - 0s 556us/sample - loss: 0.0518 - acc: 1.0000 - val_loss: 0.5447 - val_acc: 0.7439\n",
            "Epoch 130/500\n",
            "734/734 [==============================] - 0s 576us/sample - loss: 0.0575 - acc: 1.0000 - val_loss: 0.5442 - val_acc: 0.7317\n",
            "Epoch 131/500\n",
            "734/734 [==============================] - 0s 573us/sample - loss: 0.0577 - acc: 1.0000 - val_loss: 0.5489 - val_acc: 0.7439\n",
            "Epoch 132/500\n",
            "734/734 [==============================] - 0s 561us/sample - loss: 0.0580 - acc: 1.0000 - val_loss: 0.5460 - val_acc: 0.7439\n",
            "Epoch 133/500\n",
            "734/734 [==============================] - 0s 569us/sample - loss: 0.0532 - acc: 1.0000 - val_loss: 0.5418 - val_acc: 0.7561\n",
            "Epoch 134/500\n",
            "734/734 [==============================] - 0s 559us/sample - loss: 0.0555 - acc: 1.0000 - val_loss: 0.5392 - val_acc: 0.7683\n",
            "Epoch 135/500\n",
            "734/734 [==============================] - 0s 571us/sample - loss: 0.0511 - acc: 1.0000 - val_loss: 0.5544 - val_acc: 0.7561\n",
            "Epoch 136/500\n",
            "734/734 [==============================] - 0s 564us/sample - loss: 0.0554 - acc: 1.0000 - val_loss: 0.5524 - val_acc: 0.7561\n",
            "Epoch 137/500\n",
            "734/734 [==============================] - 0s 566us/sample - loss: 0.0528 - acc: 1.0000 - val_loss: 0.5495 - val_acc: 0.7561\n",
            "Epoch 138/500\n",
            "734/734 [==============================] - 0s 571us/sample - loss: 0.0517 - acc: 1.0000 - val_loss: 0.5512 - val_acc: 0.7317\n",
            "Epoch 139/500\n",
            "734/734 [==============================] - 0s 566us/sample - loss: 0.0574 - acc: 1.0000 - val_loss: 0.5434 - val_acc: 0.7439\n",
            "Epoch 140/500\n",
            "734/734 [==============================] - 0s 573us/sample - loss: 0.0548 - acc: 1.0000 - val_loss: 0.5373 - val_acc: 0.7439\n",
            "Epoch 141/500\n",
            "734/734 [==============================] - 0s 579us/sample - loss: 0.0569 - acc: 1.0000 - val_loss: 0.5429 - val_acc: 0.7439\n",
            "Epoch 142/500\n",
            "734/734 [==============================] - 0s 565us/sample - loss: 0.0553 - acc: 1.0000 - val_loss: 0.5438 - val_acc: 0.7439\n",
            "Epoch 143/500\n",
            "734/734 [==============================] - 0s 570us/sample - loss: 0.0469 - acc: 1.0000 - val_loss: 0.5468 - val_acc: 0.7439\n",
            "Epoch 144/500\n",
            "734/734 [==============================] - 0s 559us/sample - loss: 0.0550 - acc: 1.0000 - val_loss: 0.5478 - val_acc: 0.7561\n",
            "Epoch 145/500\n",
            "734/734 [==============================] - 0s 575us/sample - loss: 0.0445 - acc: 1.0000 - val_loss: 0.5436 - val_acc: 0.7561\n",
            "Epoch 146/500\n",
            "734/734 [==============================] - 0s 566us/sample - loss: 0.0448 - acc: 1.0000 - val_loss: 0.5429 - val_acc: 0.7561\n",
            "Epoch 147/500\n",
            "734/734 [==============================] - 0s 568us/sample - loss: 0.0514 - acc: 1.0000 - val_loss: 0.5472 - val_acc: 0.7439\n",
            "Epoch 148/500\n",
            "734/734 [==============================] - 0s 564us/sample - loss: 0.0481 - acc: 1.0000 - val_loss: 0.5450 - val_acc: 0.7439\n",
            "Epoch 149/500\n",
            "734/734 [==============================] - 0s 558us/sample - loss: 0.0432 - acc: 1.0000 - val_loss: 0.5448 - val_acc: 0.7439\n",
            "Epoch 150/500\n",
            "734/734 [==============================] - 0s 564us/sample - loss: 0.0428 - acc: 1.0000 - val_loss: 0.5510 - val_acc: 0.7317\n",
            "Epoch 151/500\n",
            "734/734 [==============================] - 0s 559us/sample - loss: 0.0418 - acc: 1.0000 - val_loss: 0.5515 - val_acc: 0.7439\n",
            "Epoch 152/500\n",
            "734/734 [==============================] - 0s 567us/sample - loss: 0.0543 - acc: 1.0000 - val_loss: 0.5539 - val_acc: 0.7317\n",
            "Epoch 153/500\n",
            "734/734 [==============================] - 0s 554us/sample - loss: 0.0430 - acc: 1.0000 - val_loss: 0.5611 - val_acc: 0.7439\n",
            "Epoch 154/500\n",
            "734/734 [==============================] - 0s 557us/sample - loss: 0.0419 - acc: 1.0000 - val_loss: 0.5567 - val_acc: 0.7561\n",
            "Epoch 155/500\n",
            "734/734 [==============================] - 0s 581us/sample - loss: 0.0387 - acc: 1.0000 - val_loss: 0.5555 - val_acc: 0.7439\n"
          ],
          "name": "stdout"
        }
      ]
    },
    {
      "metadata": {
        "id": "E32LWBFAkrSq",
        "colab_type": "code",
        "outputId": "5cfbe919-32f7-4b05-e799-77b1c75cb2e8",
        "colab": {
          "base_uri": "https://localhost:8080/",
          "height": 337
        }
      },
      "cell_type": "code",
      "source": [
        "%matplotlib inline\n",
        "import matplotlib.pyplot as plt\n",
        "plt.style.use('ggplot')\n",
        "\n",
        "def plot_history(history):\n",
        "    acc = history.history['acc']\n",
        "    val_acc = history.history['val_acc']\n",
        "    loss = history.history['loss']\n",
        "    val_loss = history.history['val_loss']\n",
        "    x = range(1, len(acc) + 1)\n",
        "\n",
        "    plt.figure(figsize=(12, 5))\n",
        "    plt.subplot(1, 2, 1)\n",
        "    plt.plot(x, acc, 'b', label='Training acc')\n",
        "    plt.plot(x, val_acc, 'r', label='Validation acc')\n",
        "    plt.title('Training and validation accuracy')\n",
        "    plt.legend()\n",
        "    plt.subplot(1, 2, 2)\n",
        "    plt.plot(x, loss, 'b', label='Training loss')\n",
        "    plt.plot(x, val_loss, 'r', label='Validation loss')\n",
        "    plt.title('Training and validation loss')\n",
        "    plt.legend()\n",
        "    \n",
        "plot_history(history)"
      ],
      "execution_count": 85,
      "outputs": [
        {
          "output_type": "display_data",
          "data": {
            "image/png": "[encoded data removed]",
            "text/plain": [
              "<Figure size 864x360 with 2 Axes>"
            ]
          },
          "metadata": {
            "tags": []
          }
        }
      ]
    },
    {
      "metadata": {
        "id": "0-L6gkT1k1yQ",
        "colab_type": "code",
        "colab": {}
      },
      "cell_type": "code",
      "source": [
        "threshold = 0.5\n",
        "y_score = model.predict(X_test)\n",
        "#y_pred= model.predict_classes(X_neutral)\n",
        "#y_test = y_netural\n",
        "\n",
        "y_pred = y_score.copy()\n",
        "y_pred[y_pred >=threshold] = 1\n",
        "y_pred[y_pred <threshold] = 0"
      ],
      "execution_count": 0,
      "outputs": []
    },
    {
      "metadata": {
        "id": "7JLI_WVJkwcP",
        "colab_type": "code",
        "outputId": "1d581ff3-0577-4245-cbdc-aff46a739001",
        "colab": {
          "base_uri": "https://localhost:8080/",
          "height": 173
        }
      },
      "cell_type": "code",
      "source": [
        "from sklearn.metrics import confusion_matrix\n",
        "from sklearn.metrics import cohen_kappa_score\n",
        "from sklearn.metrics import accuracy_score\n",
        "from sklearn.metrics import precision_score\n",
        "from sklearn.metrics import recall_score\n",
        "from sklearn.metrics import f1_score\n",
        "from sklearn.metrics import roc_auc_score\n",
        "\n",
        "print(\"Confusion Matrix: \\n\" + str(confusion_matrix(y_test, y_pred)))\n",
        "print(\"Accuracy: {:.4f}\".format(accuracy_score(y_test, y_pred)))\n",
        "print(\"Kappa: {:.4f}\".format(cohen_kappa_score(y_test, y_pred)))\n",
        "print(\"Precision: {:.4f}\".format(precision_score(y_test, y_pred,pos_label=1)))\n",
        "print(\"Recall: {:.4f}\".format(recall_score(y_test, y_pred,pos_label=1)))\n",
        "print(\"F1: {:.4f}\".format(f1_score(y_test, y_pred,pos_label=1)))\n",
        "print(\"Auc: {:.4f}\".format(roc_auc_score(y_test, y_pred)))"
      ],
      "execution_count": 87,
      "outputs": [
        {
          "output_type": "stream",
          "text": [
            "Confusion Matrix: \n",
            "[[32 10]\n",
            " [11 29]]\n",
            "Accuracy: 0.7439\n",
            "Kappa: 0.4872\n",
            "Precision: 0.7436\n",
            "Recall: 0.7250\n",
            "F1: 0.7342\n",
            "Auc: 0.7435\n"
          ],
          "name": "stdout"
        }
      ]
    },
    {
      "metadata": {
        "id": "WJ1mQbvOJaQl",
        "colab_type": "code",
        "colab": {}
      },
      "cell_type": "code",
      "source": [
        "model.save('nice_movie' + '_model2.h5')  "
      ],
      "execution_count": 0,
      "outputs": []
    },
    {
      "metadata": {
        "id": "Nvz8Z9-J-TRJ",
        "colab_type": "code",
        "outputId": "5912d229-bd1d-465e-e618-efad668ff9a3",
        "colab": {
          "base_uri": "https://localhost:8080/",
          "height": 121
        }
      },
      "cell_type": "code",
      "source": [
        "!pip install tmdbsimple\n",
        "\n",
        "import tmdbsimple as tmdb\n",
        "\n",
        "tmdb.API_KEY = '38dd5c6c01713ef99903275d51e2fd68'"
      ],
      "execution_count": 0,
      "outputs": [
        {
          "output_type": "stream",
          "text": [
            "Requirement already satisfied: tmdbsimple in /usr/local/lib/python3.6/dist-packages (2.2.0)\n",
            "Requirement already satisfied: requests in /usr/local/lib/python3.6/dist-packages (from tmdbsimple) (2.18.4)\n",
            "Requirement already satisfied: chardet<3.1.0,>=3.0.2 in /usr/local/lib/python3.6/dist-packages (from requests->tmdbsimple) (3.0.4)\n",
            "Requirement already satisfied: urllib3<1.23,>=1.21.1 in /usr/local/lib/python3.6/dist-packages (from requests->tmdbsimple) (1.22)\n",
            "Requirement already satisfied: idna<2.7,>=2.5 in /usr/local/lib/python3.6/dist-packages (from requests->tmdbsimple) (2.6)\n",
            "Requirement already satisfied: certifi>=2017.4.17 in /usr/local/lib/python3.6/dist-packages (from requests->tmdbsimple) (2019.3.9)\n"
          ],
          "name": "stdout"
        }
      ]
    },
    {
      "metadata": {
        "id": "s-kzUQdq863L",
        "colab_type": "code",
        "colab": {}
      },
      "cell_type": "code",
      "source": [
        "def get_likeness(film):\n",
        "  \n",
        "  search = tmdb.Search()\n",
        "  response = search.movie(query=film,language='es-ES')\n",
        "  \n",
        "  print(response)\n",
        "  \n",
        "\n",
        "  if len(response['results']) >= 1:\n",
        "    over = response['results'][0]['overview']\n",
        "    score = response['results'][0]['vote_average']\n",
        "    \n",
        "    id_movie = response['results'][0]['id']\n",
        "    \n",
        "    movie = tmdb.Movies(id_movie)\n",
        "    \n",
        "    actors = get_actors(movie.credits()['cast'])\n",
        "    director = get_director(movie.credits()['crew'])\n",
        "    \n",
        "    over = clean_overview(str(over))\n",
        "    over = delete_stop_words(over)\n",
        "\n",
        "    over = actors + ' ' + over\n",
        "    over = director + over\n",
        "    \n",
        "    print(over)\n",
        "    \n",
        "    X_over = tokenizer.texts_to_sequences(np.array([over]))\n",
        "    X_over = pad_sequences(X_over, padding='post', maxlen=maxlen)\n",
        "\n",
        "    probability = model.predict(X_over)\n",
        "    print(probability)\n",
        "    probability = probability[0][0] * 0.75 + (score/10)*0.25\n",
        "    \n",
        "    if (probability >= 0.5):\n",
        "        pred = 1\n",
        "        print(probability)\n",
        "        if (probability < 0.5):\n",
        "          probability = 0.5\n",
        "        \n",
        "    else:\n",
        "        pred = 0\n",
        "    \n",
        "    return (str(pred) , str(probability), score/10)\n",
        "  \n",
        "  else:\n",
        "    \n",
        "    return 'No existe la peli'\n",
        "  "
      ],
      "execution_count": 0,
      "outputs": []
    },
    {
      "metadata": {
        "id": "BRvFNL5nBlPU",
        "colab_type": "code",
        "outputId": "8c23ff4e-fdc5-485a-fa61-324e0bc4965b",
        "colab": {
          "base_uri": "https://localhost:8080/",
          "height": 34
        }
      },
      "cell_type": "code",
      "source": [
        "movie = tmdb.Movies(64)\n",
        "    \n",
        "get_director(movie.credits()['crew'])"
      ],
      "execution_count": 0,
      "outputs": [
        {
          "output_type": "execute_result",
          "data": {
            "text/plain": [
              "'pedro_almodovar'"
            ]
          },
          "metadata": {
            "tags": []
          },
          "execution_count": 219
        }
      ]
    },
    {
      "metadata": {
        "id": "zYO4-m5wL3Ll",
        "colab_type": "code",
        "outputId": "8bb71c55-88a0-499d-fa1e-eb87971f4d1b",
        "colab": {
          "base_uri": "https://localhost:8080/",
          "height": 106
        }
      },
      "cell_type": "code",
      "source": [
        "get_likeness(\"la boda de mi mejor amiga\")"
      ],
      "execution_count": 0,
      "outputs": [
        {
          "output_type": "stream",
          "text": [
            "{'page': 1, 'total_results': 1, 'total_pages': 1, 'results': [{'vote_count': 2682, 'id': 55721, 'video': False, 'vote_average': 6.5, 'title': 'La boda de mi mejor amiga', 'popularity': 13.59, 'poster_path': '/f5qGgjJYoG81SYAKF0VamjGrwd2.jpg', 'original_language': 'en', 'original_title': 'Bridesmaids', 'genre_ids': [35, 10749], 'backdrop_path': '/yMqCfrfz3QXGiurmXXP3pJIwKOR.jpg', 'adult': False, 'overview': 'Annie (Kristen Wiig) es una treintañera soltera del Medio Oeste, con una vida sentimental más bien precaria, a la que Lilliam, su mejor amiga (Maya Rudolph), le pide que sea su dama de honor. Sin embargo, aunque nunca ha ejercido esa función, la pobre se esfuerza por dárselas de snob en la fiesta anterior a la boda. Mientras tanto, otra amiga de Lillian (Rose Byrne) hará todo lo posible por arrebatarle el papel a la inexperta Annie', 'release_date': '2011-05-13'}]}\n",
            "paul_feig kristen_wiig maya_rudolph rose_byrne annie kristen wiig treintañera soltera oeste vida sentimental precaria lilliam amiga maya rudolph pide dama honor ejercido funcion pobre esfuerza darselas snob fiesta boda amiga lillian rose byrne hara arrebatarle papel inexperta annie\n",
            "[[0.00496199]]\n"
          ],
          "name": "stdout"
        },
        {
          "output_type": "execute_result",
          "data": {
            "text/plain": [
              "('0', '0.16622149306349457', 0.65)"
            ]
          },
          "metadata": {
            "tags": []
          },
          "execution_count": 316
        }
      ]
    },
    {
      "metadata": {
        "id": "fuJocWX_CC8r",
        "colab_type": "code",
        "colab": {}
      },
      "cell_type": "code",
      "source": [
        "word_embds = model.layers[1].get_weights()[0]\n",
        "word_list = []\n",
        "for word, i in tokenizer.word_index.items():\n",
        "    word_list.append(word)"
      ],
      "execution_count": 0,
      "outputs": []
    },
    {
      "metadata": {
        "id": "rvDRkNV0CFrm",
        "colab_type": "code",
        "colab": {}
      },
      "cell_type": "code",
      "source": [
        "from sklearn.manifold import TSNE\n",
        "\n",
        "X_embedded = TSNE(n_components=2).fit_transform(word_embds)\n",
        "number_of_words = 1000\n",
        "trace = go.Scatter(\n",
        "    x = X_embedded[0:number_of_words,0], \n",
        "    y = X_embedded[0:number_of_words, 1],\n",
        "    mode = 'markers',\n",
        "    text= word_list[0:number_of_words]\n",
        ")\n",
        "layout = dict(title= 't-SNE 1 vs t-SNE 2 for sirst 1000 words ',\n",
        "              yaxis = dict(title='t-SNE 2'),\n",
        "              xaxis = dict(title='t-SNE 1'),\n",
        "              hovermode= 'closest')\n",
        "fig = dict(data = [trace], layout= layout)\n",
        "py.iplot(fig)"
      ],
      "execution_count": 0,
      "outputs": []
    },
    {
      "metadata": {
        "id": "fnSAd3BxBzGF",
        "colab_type": "code",
        "outputId": "6659672d-a142-4bab-f508-9c71f06a9e1d",
        "colab": {
          "base_uri": "https://localhost:8080/",
          "height": 126
        }
      },
      "cell_type": "code",
      "source": [
        "import xgboost as xgb\n",
        "\n",
        "#model = xgb.XGBClassifier(max_depth=10,n_estimators=150,silent=False,objective='binary:logistic')\n",
        "model = xgb.XGBClassifier()\n",
        "model.fit(X_train, y_train)"
      ],
      "execution_count": 0,
      "outputs": [
        {
          "output_type": "execute_result",
          "data": {
            "text/plain": [
              "XGBClassifier(base_score=0.5, booster='gbtree', colsample_bylevel=1,\n",
              "       colsample_bytree=1, gamma=0, learning_rate=0.1, max_delta_step=0,\n",
              "       max_depth=3, min_child_weight=1, missing=None, n_estimators=100,\n",
              "       n_jobs=1, nthread=None, objective='binary:logistic', random_state=0,\n",
              "       reg_alpha=0, reg_lambda=1, scale_pos_weight=1, seed=None,\n",
              "       silent=True, subsample=1)"
            ]
          },
          "metadata": {
            "tags": []
          },
          "execution_count": 56
        }
      ]
    },
    {
      "metadata": {
        "id": "mR7WdupnB7pd",
        "colab_type": "code",
        "colab": {}
      },
      "cell_type": "code",
      "source": [
        "y_pred = model.predict(X_test)\n",
        "y_score = model.predict_proba(X_test)"
      ],
      "execution_count": 0,
      "outputs": []
    },
    {
      "metadata": {
        "id": "FcrD_SolC9Qt",
        "colab_type": "code",
        "colab": {}
      },
      "cell_type": "code",
      "source": [
        "!pip install finetune"
      ],
      "execution_count": 0,
      "outputs": []
    },
    {
      "metadata": {
        "id": "FFzRg88aDFdv",
        "colab_type": "code",
        "colab": {}
      },
      "cell_type": "code",
      "source": [
        "from finetune import Classifier\n",
        "\n",
        "model = Classifier()               # Load base model\n",
        "model.fit(X_train, y_train)          # Finetune base model on custom data\n",
        "y_pred = model.predict(X_test)"
      ],
      "execution_count": 0,
      "outputs": []
    }
  ]
}
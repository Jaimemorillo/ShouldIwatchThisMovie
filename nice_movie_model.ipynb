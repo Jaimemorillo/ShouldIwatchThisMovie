{
  "nbformat": 4,
  "nbformat_minor": 0,
  "metadata": {
    "colab": {
      "name": "nice-movie-model.ipynb",
      "version": "0.3.2",
      "provenance": [],
      "collapsed_sections": [],
      "include_colab_link": true
    },
    "kernelspec": {
      "name": "python3",
      "display_name": "Python 3"
    },
    "accelerator": "GPU"
  },
  "cells": [
    {
      "cell_type": "markdown",
      "metadata": {
        "id": "view-in-github",
        "colab_type": "text"
      },
      "source": [
        "<a href=\"https://colab.research.google.com/github/Jaimemorillo/ShouldIwatchThisMovie/blob/master/nice_movie_model.ipynb\" target=\"_parent\"><img src=\"https://colab.research.google.com/assets/colab-badge.svg\" alt=\"Open In Colab\"/></a>"
      ]
    },
    {
      "metadata": {
        "id": "X4FsDixDIzQ9",
        "colab_type": "code",
        "outputId": "c7a65859-0eb6-4963-e924-1685ec5fc1d2",
        "colab": {
          "base_uri": "https://localhost:8080/",
          "height": 54
        }
      },
      "cell_type": "code",
      "source": [
        "from google.colab import drive\n",
        "drive.mount('/content/gdrive')"
      ],
      "execution_count": 102,
      "outputs": [
        {
          "output_type": "stream",
          "text": [
            "Drive already mounted at /content/gdrive; to attempt to forcibly remount, call drive.mount(\"/content/gdrive\", force_remount=True).\n"
          ],
          "name": "stdout"
        }
      ]
    },
    {
      "metadata": {
        "id": "rl4LFkMQoya5",
        "colab_type": "code",
        "outputId": "96c12d87-91c5-4a63-c773-e1abd9ce2a0e",
        "colab": {
          "base_uri": "https://localhost:8080/",
          "height": 868
        }
      },
      "cell_type": "code",
      "source": [
        "import pandas as pd\n",
        "import tensorflow as tf\n",
        "import time\n",
        "import numpy as np\n",
        "import json\n",
        "import nltk\n",
        "\n",
        "nltk.download(\"popular\")\n",
        "print(tf.__version__)"
      ],
      "execution_count": 103,
      "outputs": [
        {
          "output_type": "stream",
          "text": [
            "[nltk_data] Downloading collection 'popular'\n",
            "[nltk_data]    | \n",
            "[nltk_data]    | Downloading package cmudict to /root/nltk_data...\n",
            "[nltk_data]    |   Package cmudict is already up-to-date!\n",
            "[nltk_data]    | Downloading package gazetteers to /root/nltk_data...\n",
            "[nltk_data]    |   Package gazetteers is already up-to-date!\n",
            "[nltk_data]    | Downloading package genesis to /root/nltk_data...\n",
            "[nltk_data]    |   Package genesis is already up-to-date!\n",
            "[nltk_data]    | Downloading package gutenberg to /root/nltk_data...\n",
            "[nltk_data]    |   Package gutenberg is already up-to-date!\n",
            "[nltk_data]    | Downloading package inaugural to /root/nltk_data...\n",
            "[nltk_data]    |   Package inaugural is already up-to-date!\n",
            "[nltk_data]    | Downloading package movie_reviews to\n",
            "[nltk_data]    |     /root/nltk_data...\n",
            "[nltk_data]    |   Package movie_reviews is already up-to-date!\n",
            "[nltk_data]    | Downloading package names to /root/nltk_data...\n",
            "[nltk_data]    |   Package names is already up-to-date!\n",
            "[nltk_data]    | Downloading package shakespeare to /root/nltk_data...\n",
            "[nltk_data]    |   Package shakespeare is already up-to-date!\n",
            "[nltk_data]    | Downloading package stopwords to /root/nltk_data...\n",
            "[nltk_data]    |   Package stopwords is already up-to-date!\n",
            "[nltk_data]    | Downloading package treebank to /root/nltk_data...\n",
            "[nltk_data]    |   Package treebank is already up-to-date!\n",
            "[nltk_data]    | Downloading package twitter_samples to\n",
            "[nltk_data]    |     /root/nltk_data...\n",
            "[nltk_data]    |   Package twitter_samples is already up-to-date!\n",
            "[nltk_data]    | Downloading package omw to /root/nltk_data...\n",
            "[nltk_data]    |   Package omw is already up-to-date!\n",
            "[nltk_data]    | Downloading package wordnet to /root/nltk_data...\n",
            "[nltk_data]    |   Package wordnet is already up-to-date!\n",
            "[nltk_data]    | Downloading package wordnet_ic to /root/nltk_data...\n",
            "[nltk_data]    |   Package wordnet_ic is already up-to-date!\n",
            "[nltk_data]    | Downloading package words to /root/nltk_data...\n",
            "[nltk_data]    |   Package words is already up-to-date!\n",
            "[nltk_data]    | Downloading package maxent_ne_chunker to\n",
            "[nltk_data]    |     /root/nltk_data...\n",
            "[nltk_data]    |   Package maxent_ne_chunker is already up-to-date!\n",
            "[nltk_data]    | Downloading package punkt to /root/nltk_data...\n",
            "[nltk_data]    |   Package punkt is already up-to-date!\n",
            "[nltk_data]    | Downloading package snowball_data to\n",
            "[nltk_data]    |     /root/nltk_data...\n",
            "[nltk_data]    |   Package snowball_data is already up-to-date!\n",
            "[nltk_data]    | Downloading package averaged_perceptron_tagger to\n",
            "[nltk_data]    |     /root/nltk_data...\n",
            "[nltk_data]    |   Package averaged_perceptron_tagger is already up-\n",
            "[nltk_data]    |       to-date!\n",
            "[nltk_data]    | \n",
            "[nltk_data]  Done downloading collection popular\n",
            "1.13.1\n"
          ],
          "name": "stdout"
        }
      ]
    },
    {
      "metadata": {
        "id": "T1urQMU5YkEC",
        "colab_type": "code",
        "colab": {}
      },
      "cell_type": "code",
      "source": [
        "dataover = pd.read_csv(\"gdrive/My Drive/TFG/tmdb_spanish_overview.csv\",sep='#',lineterminator='\\n')\n",
        "taste = pd.read_csv(\"gdrive/My Drive/TFG/tmdb_spanish_Jaime2.csv\",sep=';', encoding='utf-8')\n",
        "credits = pd.read_csv(\"gdrive/My Drive/TFG/tmdb_5000_credits.csv\")"
      ],
      "execution_count": 0,
      "outputs": []
    },
    {
      "metadata": {
        "id": "_ZKXfq0GiJq6",
        "colab_type": "code",
        "colab": {}
      },
      "cell_type": "code",
      "source": [
        "taste = taste[~taste['id'].str.contains('/')]\n",
        "taste['id'] = taste['id'].astype(int)\n",
        "credits['movie_id'] = credits['movie_id'].astype(int)"
      ],
      "execution_count": 0,
      "outputs": []
    },
    {
      "metadata": {
        "id": "D4mTpGIoaAq1",
        "colab_type": "code",
        "colab": {}
      },
      "cell_type": "code",
      "source": [
        "# Merge taste and credits\n",
        "\n",
        "data = taste.merge(dataover[['id','overview']], left_on='id', right_on='id')\n",
        "data = data.merge(credits[['movie_id','cast','crew']], left_on='id', right_on='movie_id')\n",
        "data.drop(['movie_id'],axis=1, inplace= True)"
      ],
      "execution_count": 0,
      "outputs": []
    },
    {
      "metadata": {
        "id": "lhpyV6W4gXPh",
        "colab_type": "code",
        "outputId": "1d5b5390-3c90-4c38-f614-1fef3dd34c7c",
        "colab": {
          "base_uri": "https://localhost:8080/",
          "height": 34
        }
      },
      "cell_type": "code",
      "source": [
        "data = data[~pd.isna(data.overview)]\n",
        "len(data)"
      ],
      "execution_count": 107,
      "outputs": [
        {
          "output_type": "execute_result",
          "data": {
            "text/plain": [
              "4406"
            ]
          },
          "metadata": {
            "tags": []
          },
          "execution_count": 107
        }
      ]
    },
    {
      "metadata": {
        "id": "0zId8PUhkQX0",
        "colab_type": "code",
        "outputId": "d1e047c1-a514-4e2d-fd13-75f00ec4b9af",
        "colab": {
          "base_uri": "https://localhost:8080/",
          "height": 34
        }
      },
      "cell_type": "code",
      "source": [
        "data = data.dropna(subset=['like'])\n",
        "data['like'] = data['like'].astype(int)\n",
        "data.reset_index(inplace=True,drop=True)\n",
        "len(data)"
      ],
      "execution_count": 108,
      "outputs": [
        {
          "output_type": "execute_result",
          "data": {
            "text/plain": [
              "816"
            ]
          },
          "metadata": {
            "tags": []
          },
          "execution_count": 108
        }
      ]
    },
    {
      "metadata": {
        "id": "-l7_kcrl_Iv4",
        "colab_type": "code",
        "colab": {}
      },
      "cell_type": "code",
      "source": [
        "# Clean overviews ver que ocurre con deadpool y deadpool 2 \n",
        "\n",
        "import string\n",
        "\n",
        "stop_words = pd.read_csv(\"gdrive/My Drive/TFG/stopwords-es.txt\",header=None)\n",
        "stop_words = stop_words[0].tolist() + ['secuela']\n",
        "\n",
        "def normalize(s):\n",
        "    replacements = (\n",
        "        (\"á\", \"a\"),\n",
        "        (\"é\", \"e\"),\n",
        "        (\"í\", \"i\"),\n",
        "        (\"ó\", \"o\"),\n",
        "        (\"ú\", \"u\"),\n",
        "    )\n",
        "    for a, b in replacements:\n",
        "        s = s.replace(a, b).replace(a.upper(), b.upper())\n",
        "    return s\n",
        "\n",
        "def clean_overview(x):\n",
        "    x = normalize(x.lower())\n",
        "    x = x.translate(str.maketrans('','',string.punctuation))\n",
        "    x = x.translate(str.maketrans('','','1234567890ªº'))\n",
        "    return x\n",
        "\n",
        "def delete_stop_words(x):\n",
        "    words = x.split(' ')\n",
        "    words = [word for word in words if word not in stop_words]\n",
        "    x = str(' '.join(words))\n",
        "    return x\n"
      ],
      "execution_count": 0,
      "outputs": []
    },
    {
      "metadata": {
        "id": "hSEAKnpeVyfk",
        "colab_type": "code",
        "colab": {}
      },
      "cell_type": "code",
      "source": [
        "# Steaming overview\n",
        "\n",
        "from nltk import word_tokenize\n",
        "from nltk.stem import SnowballStemmer\n",
        "\n",
        "stemmer = SnowballStemmer(\"spanish\", ignore_stopwords=True)\n",
        "\n",
        "def stem_sentence(sentence):\n",
        "    stemmed_text = [stemmer.stem(word) for word in word_tokenize(sentence)]\n",
        "    return \" \".join(stemmed_text)\n",
        "  "
      ],
      "execution_count": 0,
      "outputs": []
    },
    {
      "metadata": {
        "id": "FR0ULnEis-uV",
        "colab_type": "code",
        "colab": {}
      },
      "cell_type": "code",
      "source": [
        "data['overview']=data['overview'].apply(lambda x: clean_overview(str(x)))\n",
        "#data['overview']=data['overview'].apply(lambda x: delete_stop_words(x))"
      ],
      "execution_count": 0,
      "outputs": []
    },
    {
      "metadata": {
        "id": "yRCVAywOWjVK",
        "colab_type": "code",
        "outputId": "18f1290b-58e9-4c7c-cfc4-2c669ae02bdd",
        "colab": {
          "base_uri": "https://localhost:8080/",
          "height": 1041
        }
      },
      "cell_type": "code",
      "source": [
        "data.head(15)"
      ],
      "execution_count": 112,
      "outputs": [
        {
          "output_type": "execute_result",
          "data": {
            "text/html": [
              "<div>\n",
              "<style scoped>\n",
              "    .dataframe tbody tr th:only-of-type {\n",
              "        vertical-align: middle;\n",
              "    }\n",
              "\n",
              "    .dataframe tbody tr th {\n",
              "        vertical-align: top;\n",
              "    }\n",
              "\n",
              "    .dataframe thead th {\n",
              "        text-align: right;\n",
              "    }\n",
              "</style>\n",
              "<table border=\"1\" class=\"dataframe\">\n",
              "  <thead>\n",
              "    <tr style=\"text-align: right;\">\n",
              "      <th></th>\n",
              "      <th>id</th>\n",
              "      <th>title</th>\n",
              "      <th>like</th>\n",
              "      <th>vote_average</th>\n",
              "      <th>overview</th>\n",
              "      <th>cast</th>\n",
              "      <th>crew</th>\n",
              "    </tr>\n",
              "  </thead>\n",
              "  <tbody>\n",
              "    <tr>\n",
              "      <th>0</th>\n",
              "      <td>11</td>\n",
              "      <td>La guerra de las galaxias. Episodio IV: Una nu...</td>\n",
              "      <td>1</td>\n",
              "      <td>8.1</td>\n",
              "      <td>la princesa leia lider del movimiento rebelde ...</td>\n",
              "      <td>[{\"cast_id\": 3, \"character\": \"Luke Skywalker\",...</td>\n",
              "      <td>[{\"credit_id\": \"52fe420dc3a36847f8000437\", \"de...</td>\n",
              "    </tr>\n",
              "    <tr>\n",
              "      <th>1</th>\n",
              "      <td>12</td>\n",
              "      <td>Buscando a Nemo</td>\n",
              "      <td>1</td>\n",
              "      <td>7.6</td>\n",
              "      <td>nemo un pececillo hijo unico muy querido y pro...</td>\n",
              "      <td>[{\"cast_id\": 8, \"character\": \"Marlin (voice)\",...</td>\n",
              "      <td>[{\"credit_id\": \"52fe420ec3a36847f80006b1\", \"de...</td>\n",
              "    </tr>\n",
              "    <tr>\n",
              "      <th>2</th>\n",
              "      <td>13</td>\n",
              "      <td>Forrest Gump</td>\n",
              "      <td>1</td>\n",
              "      <td>8.2</td>\n",
              "      <td>forrest gump es un chico con deficiencias ment...</td>\n",
              "      <td>[{\"cast_id\": 7, \"character\": \"Forrest Gump\", \"...</td>\n",
              "      <td>[{\"credit_id\": \"52fe420ec3a36847f800076b\", \"de...</td>\n",
              "    </tr>\n",
              "    <tr>\n",
              "      <th>3</th>\n",
              "      <td>22</td>\n",
              "      <td>Piratas del Caribe. La maldición de la Perla N...</td>\n",
              "      <td>1</td>\n",
              "      <td>7.5</td>\n",
              "      <td>el aventurero capitan jack sparrow recorre las...</td>\n",
              "      <td>[{\"cast_id\": 12, \"character\": \"Captain Jack Sp...</td>\n",
              "      <td>[{\"credit_id\": \"52fe420fc3a36847f8000f11\", \"de...</td>\n",
              "    </tr>\n",
              "    <tr>\n",
              "      <th>4</th>\n",
              "      <td>24</td>\n",
              "      <td>Kill Bill: Volumen 1</td>\n",
              "      <td>1</td>\n",
              "      <td>7.7</td>\n",
              "      <td>uma thurman es una asesina que el dia de su bo...</td>\n",
              "      <td>[{\"cast_id\": 3, \"character\": \"Beatrix 'The Bri...</td>\n",
              "      <td>[{\"credit_id\": \"56a517709251410c080054d2\", \"de...</td>\n",
              "    </tr>\n",
              "    <tr>\n",
              "      <th>5</th>\n",
              "      <td>35</td>\n",
              "      <td>Los Simpson: La película</td>\n",
              "      <td>1</td>\n",
              "      <td>6.9</td>\n",
              "      <td>homer debe salvar al mundo de una catastrofe q...</td>\n",
              "      <td>[{\"cast_id\": 2, \"character\": \"Homer / Itchy / ...</td>\n",
              "      <td>[{\"credit_id\": \"52fe4211c3a36847f8001521\", \"de...</td>\n",
              "    </tr>\n",
              "    <tr>\n",
              "      <th>6</th>\n",
              "      <td>58</td>\n",
              "      <td>Piratas del Caribe: El cofre del hombre muerto</td>\n",
              "      <td>1</td>\n",
              "      <td>7.0</td>\n",
              "      <td>will turner y elizabeth swann se van a casar p...</td>\n",
              "      <td>[{\"cast_id\": 37, \"character\": \"Captain Jack Sp...</td>\n",
              "      <td>[{\"credit_id\": \"52fe4211c3a36847f8001873\", \"de...</td>\n",
              "    </tr>\n",
              "    <tr>\n",
              "      <th>7</th>\n",
              "      <td>62</td>\n",
              "      <td>2001: Una odisea del espacio</td>\n",
              "      <td>1</td>\n",
              "      <td>7.9</td>\n",
              "      <td>la historia de la humanidad en diversos estadi...</td>\n",
              "      <td>[{\"cast_id\": 6, \"character\": \"Dr. Dave Bowman\"...</td>\n",
              "      <td>[{\"credit_id\": \"52fe4212c3a36847f8001a05\", \"de...</td>\n",
              "    </tr>\n",
              "    <tr>\n",
              "      <th>8</th>\n",
              "      <td>65</td>\n",
              "      <td>8 millas</td>\n",
              "      <td>1</td>\n",
              "      <td>NaN</td>\n",
              "      <td>detroit  la promesa de potencia industrial se ...</td>\n",
              "      <td>[{\"cast_id\": 3, \"character\": \"Jimmy B. \\\"Rabbi...</td>\n",
              "      <td>[{\"credit_id\": \"52fe4212c3a36847f8001c6b\", \"de...</td>\n",
              "    </tr>\n",
              "    <tr>\n",
              "      <th>9</th>\n",
              "      <td>70</td>\n",
              "      <td>Million Dollar Baby</td>\n",
              "      <td>1</td>\n",
              "      <td>7.7</td>\n",
              "      <td>frankie dunn despues de haber entrenado y repr...</td>\n",
              "      <td>[{\"cast_id\": 4, \"character\": \"Frankie Dunn\", \"...</td>\n",
              "      <td>[{\"credit_id\": \"52fe4213c3a36847f800200b\", \"de...</td>\n",
              "    </tr>\n",
              "    <tr>\n",
              "      <th>10</th>\n",
              "      <td>71</td>\n",
              "      <td>Billy Elliot (Quiero bailar)</td>\n",
              "      <td>1</td>\n",
              "      <td>7.4</td>\n",
              "      <td>en  durante una huelga de mineros en el condad...</td>\n",
              "      <td>[{\"cast_id\": 16, \"character\": \"Billy Elliot\", ...</td>\n",
              "      <td>[{\"credit_id\": \"52fe4213c3a36847f80020c7\", \"de...</td>\n",
              "    </tr>\n",
              "    <tr>\n",
              "      <th>11</th>\n",
              "      <td>73</td>\n",
              "      <td>American History X</td>\n",
              "      <td>1</td>\n",
              "      <td>8.2</td>\n",
              "      <td>derek vinyard edward norton es el lider de un ...</td>\n",
              "      <td>[{\"cast_id\": 4, \"character\": \"Derek Vinyard\", ...</td>\n",
              "      <td>[{\"credit_id\": \"5563a4c1925141271b0021e7\", \"de...</td>\n",
              "    </tr>\n",
              "    <tr>\n",
              "      <th>12</th>\n",
              "      <td>74</td>\n",
              "      <td>La guerra de los mundos</td>\n",
              "      <td>0</td>\n",
              "      <td>6.2</td>\n",
              "      <td>basada en una popular novela de hg wells narra...</td>\n",
              "      <td>[{\"cast_id\": 13, \"character\": \"Ray Ferrier\", \"...</td>\n",
              "      <td>[{\"credit_id\": \"52fe4213c3a36847f8002237\", \"de...</td>\n",
              "    </tr>\n",
              "    <tr>\n",
              "      <th>13</th>\n",
              "      <td>77</td>\n",
              "      <td>Memento</td>\n",
              "      <td>1</td>\n",
              "      <td>8.1</td>\n",
              "      <td>leonard es un investigador de seguros cuya mem...</td>\n",
              "      <td>[{\"cast_id\": 4, \"character\": \"Leonard\", \"credi...</td>\n",
              "      <td>[{\"credit_id\": \"52fe4214c3a36847f80024d1\", \"de...</td>\n",
              "    </tr>\n",
              "    <tr>\n",
              "      <th>14</th>\n",
              "      <td>78</td>\n",
              "      <td>Blade Runner</td>\n",
              "      <td>1</td>\n",
              "      <td>7.9</td>\n",
              "      <td>a principios del siglo xxi la tyrell corporati...</td>\n",
              "      <td>[{\"cast_id\": 6, \"character\": \"Rick Deckard\", \"...</td>\n",
              "      <td>[{\"credit_id\": \"549e9edcc3a3682f2300824b\", \"de...</td>\n",
              "    </tr>\n",
              "  </tbody>\n",
              "</table>\n",
              "</div>"
            ],
            "text/plain": [
              "    id                                              title  like  vote_average  \\\n",
              "0   11  La guerra de las galaxias. Episodio IV: Una nu...     1           8.1   \n",
              "1   12                                    Buscando a Nemo     1           7.6   \n",
              "2   13                                       Forrest Gump     1           8.2   \n",
              "3   22  Piratas del Caribe. La maldición de la Perla N...     1           7.5   \n",
              "4   24                               Kill Bill: Volumen 1     1           7.7   \n",
              "5   35                           Los Simpson: La película     1           6.9   \n",
              "6   58     Piratas del Caribe: El cofre del hombre muerto     1           7.0   \n",
              "7   62                       2001: Una odisea del espacio     1           7.9   \n",
              "8   65                                           8 millas     1           NaN   \n",
              "9   70                                Million Dollar Baby     1           7.7   \n",
              "10  71                       Billy Elliot (Quiero bailar)     1           7.4   \n",
              "11  73                                 American History X     1           8.2   \n",
              "12  74                            La guerra de los mundos     0           6.2   \n",
              "13  77                                            Memento     1           8.1   \n",
              "14  78                                       Blade Runner     1           7.9   \n",
              "\n",
              "                                             overview  \\\n",
              "0   la princesa leia lider del movimiento rebelde ...   \n",
              "1   nemo un pececillo hijo unico muy querido y pro...   \n",
              "2   forrest gump es un chico con deficiencias ment...   \n",
              "3   el aventurero capitan jack sparrow recorre las...   \n",
              "4   uma thurman es una asesina que el dia de su bo...   \n",
              "5   homer debe salvar al mundo de una catastrofe q...   \n",
              "6   will turner y elizabeth swann se van a casar p...   \n",
              "7   la historia de la humanidad en diversos estadi...   \n",
              "8   detroit  la promesa de potencia industrial se ...   \n",
              "9   frankie dunn despues de haber entrenado y repr...   \n",
              "10  en  durante una huelga de mineros en el condad...   \n",
              "11  derek vinyard edward norton es el lider de un ...   \n",
              "12  basada en una popular novela de hg wells narra...   \n",
              "13  leonard es un investigador de seguros cuya mem...   \n",
              "14  a principios del siglo xxi la tyrell corporati...   \n",
              "\n",
              "                                                 cast  \\\n",
              "0   [{\"cast_id\": 3, \"character\": \"Luke Skywalker\",...   \n",
              "1   [{\"cast_id\": 8, \"character\": \"Marlin (voice)\",...   \n",
              "2   [{\"cast_id\": 7, \"character\": \"Forrest Gump\", \"...   \n",
              "3   [{\"cast_id\": 12, \"character\": \"Captain Jack Sp...   \n",
              "4   [{\"cast_id\": 3, \"character\": \"Beatrix 'The Bri...   \n",
              "5   [{\"cast_id\": 2, \"character\": \"Homer / Itchy / ...   \n",
              "6   [{\"cast_id\": 37, \"character\": \"Captain Jack Sp...   \n",
              "7   [{\"cast_id\": 6, \"character\": \"Dr. Dave Bowman\"...   \n",
              "8   [{\"cast_id\": 3, \"character\": \"Jimmy B. \\\"Rabbi...   \n",
              "9   [{\"cast_id\": 4, \"character\": \"Frankie Dunn\", \"...   \n",
              "10  [{\"cast_id\": 16, \"character\": \"Billy Elliot\", ...   \n",
              "11  [{\"cast_id\": 4, \"character\": \"Derek Vinyard\", ...   \n",
              "12  [{\"cast_id\": 13, \"character\": \"Ray Ferrier\", \"...   \n",
              "13  [{\"cast_id\": 4, \"character\": \"Leonard\", \"credi...   \n",
              "14  [{\"cast_id\": 6, \"character\": \"Rick Deckard\", \"...   \n",
              "\n",
              "                                                 crew  \n",
              "0   [{\"credit_id\": \"52fe420dc3a36847f8000437\", \"de...  \n",
              "1   [{\"credit_id\": \"52fe420ec3a36847f80006b1\", \"de...  \n",
              "2   [{\"credit_id\": \"52fe420ec3a36847f800076b\", \"de...  \n",
              "3   [{\"credit_id\": \"52fe420fc3a36847f8000f11\", \"de...  \n",
              "4   [{\"credit_id\": \"56a517709251410c080054d2\", \"de...  \n",
              "5   [{\"credit_id\": \"52fe4211c3a36847f8001521\", \"de...  \n",
              "6   [{\"credit_id\": \"52fe4211c3a36847f8001873\", \"de...  \n",
              "7   [{\"credit_id\": \"52fe4212c3a36847f8001a05\", \"de...  \n",
              "8   [{\"credit_id\": \"52fe4212c3a36847f8001c6b\", \"de...  \n",
              "9   [{\"credit_id\": \"52fe4213c3a36847f800200b\", \"de...  \n",
              "10  [{\"credit_id\": \"52fe4213c3a36847f80020c7\", \"de...  \n",
              "11  [{\"credit_id\": \"5563a4c1925141271b0021e7\", \"de...  \n",
              "12  [{\"credit_id\": \"52fe4213c3a36847f8002237\", \"de...  \n",
              "13  [{\"credit_id\": \"52fe4214c3a36847f80024d1\", \"de...  \n",
              "14  [{\"credit_id\": \"549e9edcc3a3682f2300824b\", \"de...  "
            ]
          },
          "metadata": {
            "tags": []
          },
          "execution_count": 112
        }
      ]
    },
    {
      "metadata": {
        "id": "3UE-Dc9MWMS2",
        "colab_type": "code",
        "colab": {}
      },
      "cell_type": "code",
      "source": [
        "#data['overview']=data['overview'].apply(lambda x: stem_sentence(x))\n",
        "#data['overview']=data['overview'].apply(lambda x: delete_stop_words(x))"
      ],
      "execution_count": 0,
      "outputs": []
    },
    {
      "metadata": {
        "id": "tglTzf6YWb2M",
        "colab_type": "code",
        "outputId": "59b74d64-ee71-4876-e9f6-d3c858d32a21",
        "colab": {
          "base_uri": "https://localhost:8080/",
          "height": 1041
        }
      },
      "cell_type": "code",
      "source": [
        "data.head(15)"
      ],
      "execution_count": 114,
      "outputs": [
        {
          "output_type": "execute_result",
          "data": {
            "text/html": [
              "<div>\n",
              "<style scoped>\n",
              "    .dataframe tbody tr th:only-of-type {\n",
              "        vertical-align: middle;\n",
              "    }\n",
              "\n",
              "    .dataframe tbody tr th {\n",
              "        vertical-align: top;\n",
              "    }\n",
              "\n",
              "    .dataframe thead th {\n",
              "        text-align: right;\n",
              "    }\n",
              "</style>\n",
              "<table border=\"1\" class=\"dataframe\">\n",
              "  <thead>\n",
              "    <tr style=\"text-align: right;\">\n",
              "      <th></th>\n",
              "      <th>id</th>\n",
              "      <th>title</th>\n",
              "      <th>like</th>\n",
              "      <th>vote_average</th>\n",
              "      <th>overview</th>\n",
              "      <th>cast</th>\n",
              "      <th>crew</th>\n",
              "    </tr>\n",
              "  </thead>\n",
              "  <tbody>\n",
              "    <tr>\n",
              "      <th>0</th>\n",
              "      <td>11</td>\n",
              "      <td>La guerra de las galaxias. Episodio IV: Una nu...</td>\n",
              "      <td>1</td>\n",
              "      <td>8.1</td>\n",
              "      <td>la princesa leia lider del movimiento rebelde ...</td>\n",
              "      <td>[{\"cast_id\": 3, \"character\": \"Luke Skywalker\",...</td>\n",
              "      <td>[{\"credit_id\": \"52fe420dc3a36847f8000437\", \"de...</td>\n",
              "    </tr>\n",
              "    <tr>\n",
              "      <th>1</th>\n",
              "      <td>12</td>\n",
              "      <td>Buscando a Nemo</td>\n",
              "      <td>1</td>\n",
              "      <td>7.6</td>\n",
              "      <td>nemo un pececillo hijo unico muy querido y pro...</td>\n",
              "      <td>[{\"cast_id\": 8, \"character\": \"Marlin (voice)\",...</td>\n",
              "      <td>[{\"credit_id\": \"52fe420ec3a36847f80006b1\", \"de...</td>\n",
              "    </tr>\n",
              "    <tr>\n",
              "      <th>2</th>\n",
              "      <td>13</td>\n",
              "      <td>Forrest Gump</td>\n",
              "      <td>1</td>\n",
              "      <td>8.2</td>\n",
              "      <td>forrest gump es un chico con deficiencias ment...</td>\n",
              "      <td>[{\"cast_id\": 7, \"character\": \"Forrest Gump\", \"...</td>\n",
              "      <td>[{\"credit_id\": \"52fe420ec3a36847f800076b\", \"de...</td>\n",
              "    </tr>\n",
              "    <tr>\n",
              "      <th>3</th>\n",
              "      <td>22</td>\n",
              "      <td>Piratas del Caribe. La maldición de la Perla N...</td>\n",
              "      <td>1</td>\n",
              "      <td>7.5</td>\n",
              "      <td>el aventurero capitan jack sparrow recorre las...</td>\n",
              "      <td>[{\"cast_id\": 12, \"character\": \"Captain Jack Sp...</td>\n",
              "      <td>[{\"credit_id\": \"52fe420fc3a36847f8000f11\", \"de...</td>\n",
              "    </tr>\n",
              "    <tr>\n",
              "      <th>4</th>\n",
              "      <td>24</td>\n",
              "      <td>Kill Bill: Volumen 1</td>\n",
              "      <td>1</td>\n",
              "      <td>7.7</td>\n",
              "      <td>uma thurman es una asesina que el dia de su bo...</td>\n",
              "      <td>[{\"cast_id\": 3, \"character\": \"Beatrix 'The Bri...</td>\n",
              "      <td>[{\"credit_id\": \"56a517709251410c080054d2\", \"de...</td>\n",
              "    </tr>\n",
              "    <tr>\n",
              "      <th>5</th>\n",
              "      <td>35</td>\n",
              "      <td>Los Simpson: La película</td>\n",
              "      <td>1</td>\n",
              "      <td>6.9</td>\n",
              "      <td>homer debe salvar al mundo de una catastrofe q...</td>\n",
              "      <td>[{\"cast_id\": 2, \"character\": \"Homer / Itchy / ...</td>\n",
              "      <td>[{\"credit_id\": \"52fe4211c3a36847f8001521\", \"de...</td>\n",
              "    </tr>\n",
              "    <tr>\n",
              "      <th>6</th>\n",
              "      <td>58</td>\n",
              "      <td>Piratas del Caribe: El cofre del hombre muerto</td>\n",
              "      <td>1</td>\n",
              "      <td>7.0</td>\n",
              "      <td>will turner y elizabeth swann se van a casar p...</td>\n",
              "      <td>[{\"cast_id\": 37, \"character\": \"Captain Jack Sp...</td>\n",
              "      <td>[{\"credit_id\": \"52fe4211c3a36847f8001873\", \"de...</td>\n",
              "    </tr>\n",
              "    <tr>\n",
              "      <th>7</th>\n",
              "      <td>62</td>\n",
              "      <td>2001: Una odisea del espacio</td>\n",
              "      <td>1</td>\n",
              "      <td>7.9</td>\n",
              "      <td>la historia de la humanidad en diversos estadi...</td>\n",
              "      <td>[{\"cast_id\": 6, \"character\": \"Dr. Dave Bowman\"...</td>\n",
              "      <td>[{\"credit_id\": \"52fe4212c3a36847f8001a05\", \"de...</td>\n",
              "    </tr>\n",
              "    <tr>\n",
              "      <th>8</th>\n",
              "      <td>65</td>\n",
              "      <td>8 millas</td>\n",
              "      <td>1</td>\n",
              "      <td>NaN</td>\n",
              "      <td>detroit  la promesa de potencia industrial se ...</td>\n",
              "      <td>[{\"cast_id\": 3, \"character\": \"Jimmy B. \\\"Rabbi...</td>\n",
              "      <td>[{\"credit_id\": \"52fe4212c3a36847f8001c6b\", \"de...</td>\n",
              "    </tr>\n",
              "    <tr>\n",
              "      <th>9</th>\n",
              "      <td>70</td>\n",
              "      <td>Million Dollar Baby</td>\n",
              "      <td>1</td>\n",
              "      <td>7.7</td>\n",
              "      <td>frankie dunn despues de haber entrenado y repr...</td>\n",
              "      <td>[{\"cast_id\": 4, \"character\": \"Frankie Dunn\", \"...</td>\n",
              "      <td>[{\"credit_id\": \"52fe4213c3a36847f800200b\", \"de...</td>\n",
              "    </tr>\n",
              "    <tr>\n",
              "      <th>10</th>\n",
              "      <td>71</td>\n",
              "      <td>Billy Elliot (Quiero bailar)</td>\n",
              "      <td>1</td>\n",
              "      <td>7.4</td>\n",
              "      <td>en  durante una huelga de mineros en el condad...</td>\n",
              "      <td>[{\"cast_id\": 16, \"character\": \"Billy Elliot\", ...</td>\n",
              "      <td>[{\"credit_id\": \"52fe4213c3a36847f80020c7\", \"de...</td>\n",
              "    </tr>\n",
              "    <tr>\n",
              "      <th>11</th>\n",
              "      <td>73</td>\n",
              "      <td>American History X</td>\n",
              "      <td>1</td>\n",
              "      <td>8.2</td>\n",
              "      <td>derek vinyard edward norton es el lider de un ...</td>\n",
              "      <td>[{\"cast_id\": 4, \"character\": \"Derek Vinyard\", ...</td>\n",
              "      <td>[{\"credit_id\": \"5563a4c1925141271b0021e7\", \"de...</td>\n",
              "    </tr>\n",
              "    <tr>\n",
              "      <th>12</th>\n",
              "      <td>74</td>\n",
              "      <td>La guerra de los mundos</td>\n",
              "      <td>0</td>\n",
              "      <td>6.2</td>\n",
              "      <td>basada en una popular novela de hg wells narra...</td>\n",
              "      <td>[{\"cast_id\": 13, \"character\": \"Ray Ferrier\", \"...</td>\n",
              "      <td>[{\"credit_id\": \"52fe4213c3a36847f8002237\", \"de...</td>\n",
              "    </tr>\n",
              "    <tr>\n",
              "      <th>13</th>\n",
              "      <td>77</td>\n",
              "      <td>Memento</td>\n",
              "      <td>1</td>\n",
              "      <td>8.1</td>\n",
              "      <td>leonard es un investigador de seguros cuya mem...</td>\n",
              "      <td>[{\"cast_id\": 4, \"character\": \"Leonard\", \"credi...</td>\n",
              "      <td>[{\"credit_id\": \"52fe4214c3a36847f80024d1\", \"de...</td>\n",
              "    </tr>\n",
              "    <tr>\n",
              "      <th>14</th>\n",
              "      <td>78</td>\n",
              "      <td>Blade Runner</td>\n",
              "      <td>1</td>\n",
              "      <td>7.9</td>\n",
              "      <td>a principios del siglo xxi la tyrell corporati...</td>\n",
              "      <td>[{\"cast_id\": 6, \"character\": \"Rick Deckard\", \"...</td>\n",
              "      <td>[{\"credit_id\": \"549e9edcc3a3682f2300824b\", \"de...</td>\n",
              "    </tr>\n",
              "  </tbody>\n",
              "</table>\n",
              "</div>"
            ],
            "text/plain": [
              "    id                                              title  like  vote_average  \\\n",
              "0   11  La guerra de las galaxias. Episodio IV: Una nu...     1           8.1   \n",
              "1   12                                    Buscando a Nemo     1           7.6   \n",
              "2   13                                       Forrest Gump     1           8.2   \n",
              "3   22  Piratas del Caribe. La maldición de la Perla N...     1           7.5   \n",
              "4   24                               Kill Bill: Volumen 1     1           7.7   \n",
              "5   35                           Los Simpson: La película     1           6.9   \n",
              "6   58     Piratas del Caribe: El cofre del hombre muerto     1           7.0   \n",
              "7   62                       2001: Una odisea del espacio     1           7.9   \n",
              "8   65                                           8 millas     1           NaN   \n",
              "9   70                                Million Dollar Baby     1           7.7   \n",
              "10  71                       Billy Elliot (Quiero bailar)     1           7.4   \n",
              "11  73                                 American History X     1           8.2   \n",
              "12  74                            La guerra de los mundos     0           6.2   \n",
              "13  77                                            Memento     1           8.1   \n",
              "14  78                                       Blade Runner     1           7.9   \n",
              "\n",
              "                                             overview  \\\n",
              "0   la princesa leia lider del movimiento rebelde ...   \n",
              "1   nemo un pececillo hijo unico muy querido y pro...   \n",
              "2   forrest gump es un chico con deficiencias ment...   \n",
              "3   el aventurero capitan jack sparrow recorre las...   \n",
              "4   uma thurman es una asesina que el dia de su bo...   \n",
              "5   homer debe salvar al mundo de una catastrofe q...   \n",
              "6   will turner y elizabeth swann se van a casar p...   \n",
              "7   la historia de la humanidad en diversos estadi...   \n",
              "8   detroit  la promesa de potencia industrial se ...   \n",
              "9   frankie dunn despues de haber entrenado y repr...   \n",
              "10  en  durante una huelga de mineros en el condad...   \n",
              "11  derek vinyard edward norton es el lider de un ...   \n",
              "12  basada en una popular novela de hg wells narra...   \n",
              "13  leonard es un investigador de seguros cuya mem...   \n",
              "14  a principios del siglo xxi la tyrell corporati...   \n",
              "\n",
              "                                                 cast  \\\n",
              "0   [{\"cast_id\": 3, \"character\": \"Luke Skywalker\",...   \n",
              "1   [{\"cast_id\": 8, \"character\": \"Marlin (voice)\",...   \n",
              "2   [{\"cast_id\": 7, \"character\": \"Forrest Gump\", \"...   \n",
              "3   [{\"cast_id\": 12, \"character\": \"Captain Jack Sp...   \n",
              "4   [{\"cast_id\": 3, \"character\": \"Beatrix 'The Bri...   \n",
              "5   [{\"cast_id\": 2, \"character\": \"Homer / Itchy / ...   \n",
              "6   [{\"cast_id\": 37, \"character\": \"Captain Jack Sp...   \n",
              "7   [{\"cast_id\": 6, \"character\": \"Dr. Dave Bowman\"...   \n",
              "8   [{\"cast_id\": 3, \"character\": \"Jimmy B. \\\"Rabbi...   \n",
              "9   [{\"cast_id\": 4, \"character\": \"Frankie Dunn\", \"...   \n",
              "10  [{\"cast_id\": 16, \"character\": \"Billy Elliot\", ...   \n",
              "11  [{\"cast_id\": 4, \"character\": \"Derek Vinyard\", ...   \n",
              "12  [{\"cast_id\": 13, \"character\": \"Ray Ferrier\", \"...   \n",
              "13  [{\"cast_id\": 4, \"character\": \"Leonard\", \"credi...   \n",
              "14  [{\"cast_id\": 6, \"character\": \"Rick Deckard\", \"...   \n",
              "\n",
              "                                                 crew  \n",
              "0   [{\"credit_id\": \"52fe420dc3a36847f8000437\", \"de...  \n",
              "1   [{\"credit_id\": \"52fe420ec3a36847f80006b1\", \"de...  \n",
              "2   [{\"credit_id\": \"52fe420ec3a36847f800076b\", \"de...  \n",
              "3   [{\"credit_id\": \"52fe420fc3a36847f8000f11\", \"de...  \n",
              "4   [{\"credit_id\": \"56a517709251410c080054d2\", \"de...  \n",
              "5   [{\"credit_id\": \"52fe4211c3a36847f8001521\", \"de...  \n",
              "6   [{\"credit_id\": \"52fe4211c3a36847f8001873\", \"de...  \n",
              "7   [{\"credit_id\": \"52fe4212c3a36847f8001a05\", \"de...  \n",
              "8   [{\"credit_id\": \"52fe4212c3a36847f8001c6b\", \"de...  \n",
              "9   [{\"credit_id\": \"52fe4213c3a36847f800200b\", \"de...  \n",
              "10  [{\"credit_id\": \"52fe4213c3a36847f80020c7\", \"de...  \n",
              "11  [{\"credit_id\": \"5563a4c1925141271b0021e7\", \"de...  \n",
              "12  [{\"credit_id\": \"52fe4213c3a36847f8002237\", \"de...  \n",
              "13  [{\"credit_id\": \"52fe4214c3a36847f80024d1\", \"de...  \n",
              "14  [{\"credit_id\": \"549e9edcc3a3682f2300824b\", \"de...  "
            ]
          },
          "metadata": {
            "tags": []
          },
          "execution_count": 114
        }
      ]
    },
    {
      "metadata": {
        "id": "3D5xiv1eRzQ1",
        "colab_type": "code",
        "colab": {}
      },
      "cell_type": "code",
      "source": [
        "# Get staff and paste to overview\n",
        "\n",
        "def get_actors(cast):\n",
        "  \n",
        "  try:\n",
        "    \n",
        "    json_cast = json.loads(cast)\n",
        "  \n",
        "  except:\n",
        "    \n",
        "    json_cast = cast\n",
        "  \n",
        "  if len(json_cast) > 2:\n",
        "    up = 3\n",
        "  else:\n",
        "    up = len(json_cast)\n",
        "\n",
        "  actors = ''\n",
        "  \n",
        "  for i in range(0,up):\n",
        "    actor = json_cast[i]['name']\n",
        "    actor = normalize(actor.replace(' ','_').lower())\n",
        "  \n",
        "    actors = actors + ' ' + actor\n",
        "  \n",
        "  return actors\n",
        "\n",
        "def get_director(crew):\n",
        "  \n",
        "  try:\n",
        "    \n",
        "    json_crew = json.loads(crew)\n",
        "  \n",
        "  except:\n",
        "    \n",
        "    json_crew = crew\n",
        "  \n",
        "  directors = [member['name'] for member in json_crew if member['job'] == 'Director']\n",
        "  directors = [normalize(director.replace(' ','_').lower()) for director in directors]\n",
        "  directors = str(' '.join(directors))\n",
        "  \n",
        "  return directors"
      ],
      "execution_count": 0,
      "outputs": []
    },
    {
      "metadata": {
        "id": "urmPevCVtAgS",
        "colab_type": "code",
        "colab": {}
      },
      "cell_type": "code",
      "source": [
        "data['overview']=data.apply(lambda x: get_actors(x['cast']) + ' ' + x['overview'] , axis=1)\n",
        "data['overview']=data.apply(lambda x: get_director(x['crew']) + x['overview'] , axis=1)"
      ],
      "execution_count": 0,
      "outputs": []
    },
    {
      "metadata": {
        "id": "qTjFRkmtz-JU",
        "colab_type": "code",
        "outputId": "a90eb0a8-d51d-47a6-ed96-57a369a1c625",
        "colab": {
          "base_uri": "https://localhost:8080/",
          "height": 54
        }
      },
      "cell_type": "code",
      "source": [
        "data['overview'][0]"
      ],
      "execution_count": 117,
      "outputs": [
        {
          "output_type": "execute_result",
          "data": {
            "text/plain": [
              "'george_lucas mark_hamill harrison_ford carrie_fisher la princesa leia lider del movimiento rebelde que desea reinstaurar la republica en la galaxia en los tiempos ominosos del imperio es capturada por las malevolas fuerzas imperiales capitaneadas por el implacable darth vader el sirviente mas fiel del emperador el intrepido luke skywalker ayudado por han solo capitan de la nave espacial el halcon milenario y los androides rd y cpo seran los encargados de luchar contra el enemigo y rescatar a la princesa para volver a instaurar la justicia en el seno de la galaxia'"
            ]
          },
          "metadata": {
            "tags": []
          },
          "execution_count": 117
        }
      ]
    },
    {
      "metadata": {
        "id": "mwp9UDLvh5Kw",
        "colab_type": "code",
        "colab": {}
      },
      "cell_type": "code",
      "source": [
        "from sklearn.model_selection import train_test_split\n",
        "\n",
        "overviews = data['overview'].values\n",
        "y = data['like'].values\n",
        "\n",
        "overviews_train, overviews_test, y_train, y_test = train_test_split(overviews, y, test_size=0.2, stratify=y)"
      ],
      "execution_count": 0,
      "outputs": []
    },
    {
      "metadata": {
        "id": "j5pooRddATyH",
        "colab_type": "code",
        "colab": {}
      },
      "cell_type": "code",
      "source": [
        "columns_train = {'Overview': overviews_train, 'Like': y_train}\n",
        "train = pd.DataFrame(data=columns_train)\n",
        "train.to_csv('train' + '.csv', sep=';', encoding='utf-8', index=False)\n",
        "\n",
        "columns_test = {'Comment': overviews_test, 'Like': y_test}\n",
        "test = pd.DataFrame(data=columns_test)\n",
        "test.to_csv('test' + '.csv', sep=';', encoding='utf-8', index=False)"
      ],
      "execution_count": 0,
      "outputs": []
    },
    {
      "metadata": {
        "id": "1APEOOWyi-gO",
        "colab_type": "code",
        "colab": {}
      },
      "cell_type": "code",
      "source": [
        "# Embedding\n",
        "num_words = 9000\n",
        "maxlen = 90\n",
        "embedding_size = 300\n",
        "\n",
        "# Convolution\n",
        "kernel_size = 5\n",
        "filters = 300\n",
        "pool_size = 2\n",
        "\n",
        "hidden_dims = 300\n",
        "\n",
        "\n",
        "# LSTM\n",
        "lstm_output_size = 70\n",
        "\n",
        "# Training\n",
        "lr=0.0005\n",
        "#lr=0.0001"
      ],
      "execution_count": 0,
      "outputs": []
    },
    {
      "metadata": {
        "id": "lBLAw0i0i5j3",
        "colab_type": "code",
        "outputId": "6e507f90-4b2a-4797-8b53-119119034080",
        "colab": {
          "base_uri": "https://localhost:8080/",
          "height": 89
        }
      },
      "cell_type": "code",
      "source": [
        "from tensorflow.keras.preprocessing.text import Tokenizer\n",
        "\n",
        "tokenizer = Tokenizer(num_words) \n",
        "tokenizer.fit_on_texts(overviews_train)\n",
        "\n",
        "X_train = tokenizer.texts_to_sequences(overviews_train) \n",
        "X_test = tokenizer.texts_to_sequences(overviews_test)\n",
        "\n",
        "vocab_size = len(tokenizer.word_index) + 1 # Adding 1 because of reserved 0 index\n",
        "\n",
        "print(overviews_train[2]) \n",
        "print(X_train[2]) \n",
        "print(vocab_size)"
      ],
      "execution_count": 121,
      "outputs": [
        {
          "output_type": "stream",
          "text": [
            "hironobu_sakaguchi motonori_sakakibara donald_sutherland ming-na_wen alec_baldwin corre el año  y la tierra ha sido devastada por una invasión alienígena en los ojos de una joven se refleja tristeza y desolación mientras mira fijamente a la desértica tierra a su alrededor y la luz del sol demasiado brillante le dificulta la visión está sola entre nubes de polvo en un amenazador mundo de extraterrestres y sus ojos revelan un conflicto interno times square se desmorona en la oscuridad quemado casi hasta desaparecer pero en alguna parte grandes ejércitos retienen al ejército extraterrestre mientras la muerte acecha entre las sombras ella busca el milagro creyendo en que los valores humanos como el valor la dedicación y el amor podrán finalmente salvar al planeta tierra\n",
            "[5200, 5201, 5202, 5203, 1416, 3290, 2332, 2333, 2334, 5204, 5205, 2335, 4, 5206, 6, 2, 56, 24, 117, 2336, 16, 10, 5207, 5208, 7, 11, 985, 1, 10, 42, 12, 5209, 1769, 6, 5210, 40, 5211, 3291, 5, 2, 5212, 56, 5, 9, 1417, 6, 2, 751, 14, 3292, 443, 752, 29, 5213, 2, 5214, 1183, 1184, 43, 3293, 1, 5215, 7, 8, 5216, 31, 1, 601, 6, 20, 985, 5217, 8, 986, 5218, 5219, 5220, 12, 3294, 7, 2, 1185, 5221, 323, 61, 3295, 21, 7, 674, 97, 444, 5222, 5223, 19, 2337, 1770, 40, 2, 102, 1771, 43, 18, 987, 103, 150, 4, 5224, 2338, 7, 3, 11, 2339, 190, 28, 4, 1186, 2, 5225, 6, 4, 124, 5226, 753, 87, 19, 104, 56]\n",
            "11696\n"
          ],
          "name": "stdout"
        }
      ]
    },
    {
      "metadata": {
        "id": "CTsC2-KlqZ7u",
        "colab_type": "code",
        "colab": {
          "base_uri": "https://localhost:8080/",
          "height": 1337
        },
        "outputId": "c0f28d24-4a27-4643-d2f0-0dff06b680c2"
      },
      "cell_type": "code",
      "source": [
        "# Crear pre-trained emmbeding\n",
        "\n",
        "def create_embedding_matrix(filepath, word_index, embedding_size):\n",
        "    vocab_size = len(word_index) + 1  # Adding again 1 because of reserved 0 index\n",
        "    embedding_matrix = np.zeros((vocab_size, embedding_size))\n",
        "\n",
        "    with open(filepath, encoding='utf-8') as f:\n",
        "        for line in f:\n",
        "            word, *vector = line.split()\n",
        "            if word in word_index:\n",
        "                idx = word_index[word] \n",
        "                embedding_matrix[idx] = np.array(\n",
        "                    vector, dtype=np.float32)[:embedding_size]\n",
        "\n",
        "    return embedding_matrix\n",
        "  \n",
        "embedding_matrix = create_embedding_matrix(\n",
        "    'gdrive/My Drive/TFG/SBW-vectors-300-min5.txt',\n",
        "    tokenizer.word_index, embedding_size)\n",
        "\n",
        "print(embedding_matrix[1])\n",
        "\n",
        "nonzero_elements = np.count_nonzero(np.count_nonzero(embedding_matrix, axis=1))\n",
        "nonzero_elements / vocab_size"
      ],
      "execution_count": 122,
      "outputs": [
        {
          "output_type": "stream",
          "text": [
            "[-2.96480004e-02  1.13359997e-02  1.99490003e-02 -8.88319984e-02\n",
            " -2.52250005e-02  5.68439998e-02  2.54730005e-02  1.40680000e-02\n",
            "  1.63693994e-01 -6.71539977e-02  1.47380000e-02  2.71339994e-02\n",
            "  6.64430037e-02 -4.48459983e-02 -4.49870005e-02 -4.08979990e-02\n",
            "  3.03109996e-02  3.41960005e-02 -4.92400005e-02  8.53700005e-03\n",
            " -6.80909976e-02 -8.79380032e-02  3.53000015e-02  1.49385005e-01\n",
            " -1.23500004e-02  1.26130003e-02  2.93499995e-02  6.95960000e-02\n",
            "  3.91109996e-02  5.76520003e-02  6.99540004e-02 -6.62169978e-02\n",
            " -4.17839997e-02  2.86229998e-02  2.67719999e-02 -6.63919970e-02\n",
            "  2.95299990e-03 -1.21879997e-02 -3.03630009e-02  4.02220003e-02\n",
            "  3.48579995e-02  2.74689998e-02 -2.90339999e-02 -4.87480015e-02\n",
            " -3.85820009e-02 -5.15529998e-02 -3.35009992e-02 -1.90079994e-02\n",
            "  3.04299989e-03  1.10711999e-01 -2.50959992e-02  1.11082003e-01\n",
            "  3.52439992e-02  1.14207000e-01  1.01950001e-02  5.15110008e-02\n",
            " -4.06490006e-02 -1.13944001e-01  4.48729992e-02  5.20110019e-02\n",
            "  6.73599988e-02  4.90540005e-02 -1.27085000e-01 -3.18460017e-02\n",
            "  3.28480005e-02  4.08249982e-02 -8.48729983e-02  5.98010011e-02\n",
            " -6.74239993e-02  1.65309999e-02 -8.45649987e-02  5.70239983e-02\n",
            "  8.32879990e-02 -1.01359999e-02 -4.85079996e-02  5.17570004e-02\n",
            "  4.66639996e-02  1.81019995e-02 -5.23199998e-02 -7.65000004e-04\n",
            "  5.36619984e-02 -9.96700022e-03  8.28580037e-02  9.06800013e-03\n",
            "  5.45750000e-02 -3.46600008e-03 -2.33759992e-02  2.30689999e-02\n",
            "  8.85130018e-02  1.85039993e-02 -3.95030007e-02 -3.29799987e-02\n",
            " -2.13899999e-03  9.99999975e-06 -1.07626997e-01  7.69900018e-03\n",
            "  4.63510007e-02 -3.06200003e-03  3.05000003e-02  1.13650002e-01\n",
            "  3.25360000e-02 -9.73009989e-02 -1.37339998e-02  9.83449966e-02\n",
            "  8.08980018e-02 -6.41729981e-02 -8.87400005e-03 -1.44750997e-01\n",
            "  3.75850014e-02  1.32900001e-02  5.96739985e-02  6.16300013e-03\n",
            "  7.31799984e-03  5.29999998e-05 -6.02920018e-02 -5.91350012e-02\n",
            "  4.94970009e-02 -1.14380000e-02 -9.51080024e-02 -4.34649996e-02\n",
            "  4.85670008e-02 -4.39900011e-02 -3.07739992e-02  5.09200012e-03\n",
            " -3.22650000e-02  9.39199980e-03  1.85029991e-02  8.48570019e-02\n",
            "  1.09709002e-01 -2.06620004e-02  1.76960006e-02  2.66989991e-02\n",
            " -7.66379982e-02 -1.41059998e-02 -3.51549983e-02  4.69990000e-02\n",
            " -3.72699997e-03 -4.78050001e-02  4.42700014e-02  1.13140000e-02\n",
            "  3.65240015e-02 -6.95049986e-02 -1.48499999e-02 -3.53799993e-03\n",
            " -4.70490009e-02  2.93489993e-02  3.45209986e-02 -3.21989991e-02\n",
            "  1.16497003e-01 -7.76100010e-02  6.82339966e-02 -1.61259994e-02\n",
            " -6.64540008e-02 -7.99140036e-02 -2.07230002e-02 -6.49050027e-02\n",
            "  6.95599988e-02  2.13680007e-02 -4.94970009e-02 -4.65990007e-02\n",
            "  6.76629990e-02 -6.90350011e-02  1.18014999e-01  2.74630003e-02\n",
            " -6.17600000e-03 -3.45139988e-02 -2.65149996e-02  4.03079987e-02\n",
            "  9.11130011e-02 -8.05390030e-02  1.32407993e-01 -7.09580034e-02\n",
            "  1.97299998e-02  3.33990008e-02  3.48900002e-03 -1.59658998e-01\n",
            " -4.23000008e-03  4.88799997e-03 -5.66149987e-02  6.10210001e-02\n",
            "  2.51170006e-02  9.96130034e-02  6.38760030e-02 -6.20200019e-03\n",
            " -4.93160002e-02 -2.05300003e-02  8.52200016e-03 -9.41679999e-02\n",
            " -9.45100002e-03 -3.46819982e-02 -2.68009994e-02  6.53830022e-02\n",
            "  4.25279997e-02 -1.36879999e-02  3.50680016e-02  1.19802997e-01\n",
            " -2.02779993e-02  1.11882001e-01 -6.83360025e-02  5.02449982e-02\n",
            " -1.23240001e-01  2.24799989e-03  1.02289999e-02 -6.25400022e-02\n",
            " -1.78369991e-02 -1.15209997e-01  5.10360003e-02  2.69200001e-02\n",
            "  8.34570006e-02  6.29020035e-02  3.08299996e-03 -3.71120013e-02\n",
            " -1.54250003e-02  1.71600003e-03  1.80019997e-02  1.01099998e-01\n",
            "  1.94460005e-02  7.48390034e-02  5.99509999e-02  7.22429976e-02\n",
            " -2.54590008e-02 -3.98529992e-02  7.79500008e-02  6.01989999e-02\n",
            " -7.06029981e-02  6.06519990e-02  2.38550007e-02 -3.58580016e-02\n",
            " -5.80429994e-02 -7.51300007e-02  6.69999979e-04  8.28280002e-02\n",
            " -1.31409997e-02  1.44692004e-01 -1.05774999e-01  8.76239985e-02\n",
            "  4.70299982e-02 -1.56999994e-02 -4.23600003e-02  2.63369996e-02\n",
            "  1.44966006e-01  2.19219998e-02  1.20970001e-02 -1.14430003e-02\n",
            " -1.10207997e-01  9.33299959e-03 -8.14229995e-02 -2.71370001e-02\n",
            "  8.27000011e-04  8.53890032e-02  3.44640017e-02  3.23380008e-02\n",
            " -1.50400000e-02  9.95399989e-03 -1.17589999e-02 -4.23949994e-02\n",
            " -4.67000005e-04  5.50470017e-02 -4.97100018e-02 -1.04978003e-01\n",
            "  3.17419991e-02  3.70200016e-02 -7.01599987e-03 -4.97119986e-02\n",
            "  4.16840017e-02  1.83479991e-02 -1.20099995e-03  1.92820001e-02\n",
            "  5.76299988e-03  7.49519989e-02 -1.85880009e-02  1.60549991e-02\n",
            "  1.19525999e-01 -1.46129997e-02  2.05979999e-02  2.73119994e-02\n",
            "  2.42519993e-02 -2.40439996e-02 -2.63320003e-02 -6.31520003e-02\n",
            " -9.53629985e-02 -3.43349986e-02 -6.25519976e-02 -3.57300006e-02\n",
            "  9.11649987e-02  9.68599971e-03  2.03409996e-02 -1.20040001e-02\n",
            "  1.18260002e-02 -8.43010023e-02  1.11440001e-02  7.49690011e-02\n",
            " -4.86199977e-03 -1.40760001e-02  2.56919991e-02 -7.73219988e-02\n",
            " -2.29979996e-02 -1.28057003e-01 -4.91699995e-03  6.26280010e-02]\n"
          ],
          "name": "stdout"
        },
        {
          "output_type": "execute_result",
          "data": {
            "text/plain": [
              "0.7873632010943913"
            ]
          },
          "metadata": {
            "tags": []
          },
          "execution_count": 122
        }
      ]
    },
    {
      "metadata": {
        "id": "JRXfUryKjQCN",
        "colab_type": "code",
        "outputId": "75db9e15-b26a-4c72-db4c-5c9c4ea9add7",
        "colab": {
          "base_uri": "https://localhost:8080/",
          "height": 69
        }
      },
      "cell_type": "code",
      "source": [
        "from collections import OrderedDict\n",
        "\n",
        "dictWords = dict(tokenizer.word_counts)\n",
        "\n",
        "print(len(dictWords) + 1)\n",
        "\n",
        "for k,v in list(dictWords.items()):\n",
        "    if v < 2 :\n",
        "        del dictWords[k]\n",
        "        \n",
        "print(len(dictWords) + 1) \n",
        "# Para establecer el tamaño de maxlen\n",
        "\n",
        "len(max(X_train, key=len))"
      ],
      "execution_count": 123,
      "outputs": [
        {
          "output_type": "stream",
          "text": [
            "11696\n",
            "5183\n"
          ],
          "name": "stdout"
        },
        {
          "output_type": "execute_result",
          "data": {
            "text/plain": [
              "184"
            ]
          },
          "metadata": {
            "tags": []
          },
          "execution_count": 123
        }
      ]
    },
    {
      "metadata": {
        "id": "XHqpVvAjjQY8",
        "colab_type": "code",
        "outputId": "01bfbb47-2597-47b5-f644-a60fcccd5057",
        "colab": {
          "base_uri": "https://localhost:8080/",
          "height": 173
        }
      },
      "cell_type": "code",
      "source": [
        "from tensorflow.keras.preprocessing.sequence import pad_sequences\n",
        "\n",
        "X_train = pad_sequences(X_train, padding='post', maxlen=maxlen)\n",
        "X_test = pad_sequences(X_test, padding='post', maxlen=maxlen)\n",
        "\n",
        "X_train[1]"
      ],
      "execution_count": 124,
      "outputs": [
        {
          "output_type": "execute_result",
          "data": {
            "text/plain": [
              "array([  76, 5194,    2,  253,   71,    6,   55,    3, 1181,   10,   76,\n",
              "        673,   36, 2328,    3, 5195,   28, 5196,  750,  189, 1765,   46,\n",
              "          2, 5197,    1,  442, 3286,  983,    6,  215,  295, 1414, 1182,\n",
              "          7,  116,  984,   40,   12, 1766,   10,  100, 2329,    3,  239,\n",
              "          5,  138,    2,  240,   15,  345,  983,   12,  372, 5198,    5,\n",
              "        873, 3287, 5199,   77,    4, 1415,    2, 1767,    4, 1768,    6,\n",
              "          4,  124,  254,    1, 3285,    6,  156,  274,    5,    2,  149,\n",
              "       2330,   16, 2331, 3288,    7,   34,  874,   10, 3289,    7,    6,\n",
              "        296,    7], dtype=int32)"
            ]
          },
          "metadata": {
            "tags": []
          },
          "execution_count": 124
        }
      ]
    },
    {
      "metadata": {
        "id": "0UB9lmFFWab7",
        "colab_type": "code",
        "colab": {}
      },
      "cell_type": "code",
      "source": [
        "#from tensorflow.keras import backend as K\n",
        "from tensorflow.keras.callbacks import EarlyStopping\n",
        "\n",
        "#Optimizer\n",
        "\n",
        "from tensorflow.keras import optimizers\n",
        "\n",
        "adam = optimizers.Adam(lr)\n",
        "\n",
        "\n",
        "es = EarlyStopping(monitor='val_loss',\n",
        "                   min_delta=0,\n",
        "                   patience=30,\n",
        "                   verbose=0, mode='auto')"
      ],
      "execution_count": 0,
      "outputs": []
    },
    {
      "metadata": {
        "id": "ifIZiMr2LdSS",
        "colab_type": "code",
        "outputId": "e38a11af-ccbc-4d79-c766-10bca77503af",
        "colab": {
          "base_uri": "https://localhost:8080/",
          "height": 34
        }
      },
      "cell_type": "code",
      "source": [
        "from sklearn.utils import class_weight\n",
        "\n",
        "\n",
        "class_weights = class_weight.compute_class_weight('balanced',\n",
        "                                                 np.unique(y_train),\n",
        "                                                 y_train)\n",
        "\n",
        "class_weights"
      ],
      "execution_count": 127,
      "outputs": [
        {
          "output_type": "execute_result",
          "data": {
            "text/plain": [
              "array([0.96735905, 1.03492063])"
            ]
          },
          "metadata": {
            "tags": []
          },
          "execution_count": 127
        }
      ]
    },
    {
      "metadata": {
        "id": "TO2rjJmBj28t",
        "colab_type": "code",
        "outputId": "bcec2cf0-425b-4d7d-d284-29df305ef84e",
        "colab": {
          "base_uri": "https://localhost:8080/",
          "height": 486
        }
      },
      "cell_type": "code",
      "source": [
        "# Model 1\n",
        "\n",
        "from tensorflow.keras.models import Sequential\n",
        "from tensorflow.keras.layers import Dense, Dropout, Activation\n",
        "from tensorflow.keras.layers import Embedding\n",
        "from tensorflow.keras.layers import LSTM\n",
        "from tensorflow.keras.layers import Conv1D, GlobalMaxPooling1D\n",
        "\n",
        "model = Sequential()\n",
        "\n",
        "model.add(Embedding(vocab_size,embedding_size, input_length=maxlen))\n",
        "model.add(GlobalMaxPooling1D())\n",
        "model.add(Dropout(0.5))\n",
        "model.add(Dense(500, activation='elu', kernel_initializer='he_uniform'))\n",
        "model.add(Dropout(0.5))\n",
        "model.add(Dense(500, activation='elu', kernel_initializer='he_uniform'))\n",
        "model.add(Dropout(0.5))\n",
        "model.add(Dense(500, activation='elu', kernel_initializer='he_uniform'))\n",
        "model.add(Dropout(0.5))\n",
        "model.add(Dense(1, activation='sigmoid', kernel_initializer='he_uniform'))\n",
        "model.compile(optimizer=adam,\n",
        "              loss='binary_crossentropy',\n",
        "              metrics=['acc'])\n",
        "\n",
        "model.summary()\n"
      ],
      "execution_count": 51,
      "outputs": [
        {
          "output_type": "stream",
          "text": [
            "_________________________________________________________________\n",
            "Layer (type)                 Output Shape              Param #   \n",
            "=================================================================\n",
            "embedding_6 (Embedding)      (None, 90, 300)           2496000   \n",
            "_________________________________________________________________\n",
            "global_max_pooling1d_14 (Glo (None, 300)               0         \n",
            "_________________________________________________________________\n",
            "dropout_12 (Dropout)         (None, 300)               0         \n",
            "_________________________________________________________________\n",
            "dense_10 (Dense)             (None, 500)               150500    \n",
            "_________________________________________________________________\n",
            "dropout_13 (Dropout)         (None, 500)               0         \n",
            "_________________________________________________________________\n",
            "dense_11 (Dense)             (None, 500)               250500    \n",
            "_________________________________________________________________\n",
            "dropout_14 (Dropout)         (None, 500)               0         \n",
            "_________________________________________________________________\n",
            "dense_12 (Dense)             (None, 500)               250500    \n",
            "_________________________________________________________________\n",
            "dropout_15 (Dropout)         (None, 500)               0         \n",
            "_________________________________________________________________\n",
            "dense_13 (Dense)             (None, 1)                 501       \n",
            "=================================================================\n",
            "Total params: 3,148,001\n",
            "Trainable params: 3,148,001\n",
            "Non-trainable params: 0\n",
            "_________________________________________________________________\n"
          ],
          "name": "stdout"
        }
      ]
    },
    {
      "metadata": {
        "id": "X3Jtoe5qztD0",
        "colab_type": "code",
        "outputId": "e38e0721-a02a-4b93-d250-642eddb707ca",
        "colab": {
          "base_uri": "https://localhost:8080/",
          "height": 555
        }
      },
      "cell_type": "code",
      "source": [
        "# Model 2\n",
        "\n",
        "from tensorflow.keras.models import Sequential\n",
        "from tensorflow.keras.layers import Dense, Dropout, Activation\n",
        "from tensorflow.keras.layers import Embedding, BatchNormalization\n",
        "from tensorflow.keras.layers import Conv1D, GlobalMaxPooling1D, MaxPooling1D,GlobalAveragePooling1D\n",
        "\n",
        "model = Sequential()\n",
        "\n",
        "# we start off with an efficient embedding layer which maps\n",
        "# our vocab indices into embedding_dims dimensions\n",
        "model.add(Embedding(vocab_size,\n",
        "                    embedding_size,\n",
        "                    input_length=maxlen))\n",
        "\n",
        "\n",
        "# we add a Convolution1D, which will learn filters\n",
        "# word group filters of size filter_length:\n",
        "model.add(Conv1D(filters,\n",
        "                 kernel_size,\n",
        "                 padding='valid',\n",
        "                 strides=1, kernel_initializer='he_uniform'))\n",
        "model.add(BatchNormalization())\n",
        "model.add(Activation('elu'))\n",
        "\n",
        "# we use max pooling:\n",
        "\n",
        "model.add(GlobalMaxPooling1D())\n",
        "\n",
        "# We add a vanilla hidden layer:\n",
        "model.add(Dense(150, kernel_initializer='he_uniform'))\n",
        "model.add(BatchNormalization())\n",
        "model.add(Activation('elu'))\n",
        "model.add(Dropout(0.5))\n",
        "\n",
        "# We project onto a single unit output layer, and squash it with a sigmoid:\n",
        "model.add(Dense(1))\n",
        "model.add(BatchNormalization())\n",
        "model.add(Activation('sigmoid'))\n",
        "\n",
        "model.compile(loss='binary_crossentropy',\n",
        "              optimizer=tf.keras.optimizers.Nadam(lr=0.001, beta_1=0.9, beta_2=0.999, epsilon=None, schedule_decay=0.004),\n",
        "              metrics=['accuracy'])\n",
        "\n",
        "model.summary()"
      ],
      "execution_count": 28,
      "outputs": [
        {
          "output_type": "stream",
          "text": [
            "_________________________________________________________________\n",
            "Layer (type)                 Output Shape              Param #   \n",
            "=================================================================\n",
            "embedding_1 (Embedding)      (None, 90, 300)           2658300   \n",
            "_________________________________________________________________\n",
            "conv1d (Conv1D)              (None, 86, 300)           450300    \n",
            "_________________________________________________________________\n",
            "batch_normalization_v1 (Batc (None, 86, 300)           1200      \n",
            "_________________________________________________________________\n",
            "activation (Activation)      (None, 86, 300)           0         \n",
            "_________________________________________________________________\n",
            "global_max_pooling1d_1 (Glob (None, 300)               0         \n",
            "_________________________________________________________________\n",
            "dense_4 (Dense)              (None, 150)               45150     \n",
            "_________________________________________________________________\n",
            "batch_normalization_v1_1 (Ba (None, 150)               600       \n",
            "_________________________________________________________________\n",
            "activation_1 (Activation)    (None, 150)               0         \n",
            "_________________________________________________________________\n",
            "dropout_4 (Dropout)          (None, 150)               0         \n",
            "_________________________________________________________________\n",
            "dense_5 (Dense)              (None, 1)                 151       \n",
            "_________________________________________________________________\n",
            "batch_normalization_v1_2 (Ba (None, 1)                 4         \n",
            "_________________________________________________________________\n",
            "activation_2 (Activation)    (None, 1)                 0         \n",
            "=================================================================\n",
            "Total params: 3,155,705\n",
            "Trainable params: 3,154,803\n",
            "Non-trainable params: 902\n",
            "_________________________________________________________________\n"
          ],
          "name": "stdout"
        }
      ]
    },
    {
      "metadata": {
        "id": "m4opiVy5h3t7",
        "colab_type": "code",
        "colab": {}
      },
      "cell_type": "code",
      "source": [
        "from tensorflow.keras.models import Sequential,Model\n",
        "from tensorflow.keras.layers import Dense, Dropout, Activation, Convolution1D, MaxPooling1D, Input\n",
        "from tensorflow.keras.layers import Embedding,CuDNNLSTM, SpatialDropout1D, Reshape, Flatten, BatchNormalization\n",
        "from tensorflow.keras.layers import Conv1D, GlobalMaxPooling1D, GlobalAveragePooling1D, Concatenate\n",
        "from tensorflow.keras.optimizers import Adam, Adagrad\n",
        "\n",
        "\n",
        "def my_conv1d(kernel_size, layer, filters=10, strides=1):\n",
        "  \n",
        "  c1d = Conv1D(filters = filters, kernel_size = kernel_size, padding='same', strides=strides, kernel_initializer='he_uniform')(layer)\n",
        "  c1d = BatchNormalization()(c1d)\n",
        "  c1d = Activation('elu')(c1d)\n",
        "  \n",
        "  return c1d\n",
        "\n",
        "def my_dense(neurons, ant, act='sigmoid', ini='glorot_uniform'):\n",
        "  \n",
        "  dense = Dense(neurons, kernel_initializer=ini)(ant)\n",
        "  dense = BatchNormalization()(dense)\n",
        "  dense = Activation(act)(dense)\n",
        "  \n",
        "  return dense"
      ],
      "execution_count": 0,
      "outputs": []
    },
    {
      "metadata": {
        "id": "F7r7BcGTDyEV",
        "colab_type": "code",
        "outputId": "96bbac77-e2f2-4548-9feb-e008ccb138f9",
        "colab": {
          "base_uri": "https://localhost:8080/",
          "height": 833
        }
      },
      "cell_type": "code",
      "source": [
        "# Model 3\n",
        "\n",
        "words = Input(shape=(maxlen,))\n",
        "em =  Embedding(input_dim = vocab_size, output_dim = embedding_size, weights=[embedding_matrix], trainable=True)(words)\n",
        "#em = Dropout(0.3)(em) \n",
        "c1 = my_conv1d(2,em, filters=300)\n",
        "c2 = my_conv1d(3,em, filters=300)\n",
        "c3 = my_conv1d(5,em, filters=300)\n",
        "\n",
        "g1 = GlobalMaxPooling1D()(c1)\n",
        "g2 = GlobalMaxPooling1D()(c2)\n",
        "g3 = GlobalMaxPooling1D()(c3)\n",
        "\n",
        "con = Concatenate(axis=1)([g1,g2,g3])\n",
        "\n",
        "dense = Dropout(0.5)(con) \n",
        "pred = my_dense(1,dense)\n",
        "model = Model(inputs=words, outputs=pred)\n",
        "\n",
        "model.compile(optimizer = 'adam',\n",
        "              loss = 'binary_crossentropy',\n",
        "              metrics = ['accuracy'])\n",
        "  \n",
        "model.summary()\n"
      ],
      "execution_count": 139,
      "outputs": [
        {
          "output_type": "stream",
          "text": [
            "__________________________________________________________________________________________________\n",
            "Layer (type)                    Output Shape         Param #     Connected to                     \n",
            "==================================================================================================\n",
            "input_17 (InputLayer)           (None, 90)           0                                            \n",
            "__________________________________________________________________________________________________\n",
            "embedding_19 (Embedding)        (None, 90, 300)      3508800     input_17[0][0]                   \n",
            "__________________________________________________________________________________________________\n",
            "conv1d_49 (Conv1D)              (None, 90, 300)      180300      embedding_19[0][0]               \n",
            "__________________________________________________________________________________________________\n",
            "conv1d_50 (Conv1D)              (None, 90, 300)      270300      embedding_19[0][0]               \n",
            "__________________________________________________________________________________________________\n",
            "conv1d_51 (Conv1D)              (None, 90, 300)      450300      embedding_19[0][0]               \n",
            "__________________________________________________________________________________________________\n",
            "batch_normalization_v1_67 (Batc (None, 90, 300)      1200        conv1d_49[0][0]                  \n",
            "__________________________________________________________________________________________________\n",
            "batch_normalization_v1_68 (Batc (None, 90, 300)      1200        conv1d_50[0][0]                  \n",
            "__________________________________________________________________________________________________\n",
            "batch_normalization_v1_69 (Batc (None, 90, 300)      1200        conv1d_51[0][0]                  \n",
            "__________________________________________________________________________________________________\n",
            "activation_67 (Activation)      (None, 90, 300)      0           batch_normalization_v1_67[0][0]  \n",
            "__________________________________________________________________________________________________\n",
            "activation_68 (Activation)      (None, 90, 300)      0           batch_normalization_v1_68[0][0]  \n",
            "__________________________________________________________________________________________________\n",
            "activation_69 (Activation)      (None, 90, 300)      0           batch_normalization_v1_69[0][0]  \n",
            "__________________________________________________________________________________________________\n",
            "global_max_pooling1d_51 (Global (None, 300)          0           activation_67[0][0]              \n",
            "__________________________________________________________________________________________________\n",
            "global_max_pooling1d_52 (Global (None, 300)          0           activation_68[0][0]              \n",
            "__________________________________________________________________________________________________\n",
            "global_max_pooling1d_53 (Global (None, 300)          0           activation_69[0][0]              \n",
            "__________________________________________________________________________________________________\n",
            "concatenate_16 (Concatenate)    (None, 900)          0           global_max_pooling1d_51[0][0]    \n",
            "                                                                 global_max_pooling1d_52[0][0]    \n",
            "                                                                 global_max_pooling1d_53[0][0]    \n",
            "__________________________________________________________________________________________________\n",
            "dropout_28 (Dropout)            (None, 900)          0           concatenate_16[0][0]             \n",
            "__________________________________________________________________________________________________\n",
            "dense_26 (Dense)                (None, 1)            901         dropout_28[0][0]                 \n",
            "__________________________________________________________________________________________________\n",
            "batch_normalization_v1_70 (Batc (None, 1)            4           dense_26[0][0]                   \n",
            "__________________________________________________________________________________________________\n",
            "activation_70 (Activation)      (None, 1)            0           batch_normalization_v1_70[0][0]  \n",
            "==================================================================================================\n",
            "Total params: 4,414,205\n",
            "Trainable params: 4,412,403\n",
            "Non-trainable params: 1,802\n",
            "__________________________________________________________________________________________________\n"
          ],
          "name": "stdout"
        }
      ]
    },
    {
      "metadata": {
        "id": "SNfu7h5_eety",
        "colab_type": "code",
        "outputId": "b1c73aba-e5f3-40fb-9974-b53017c9b5fd",
        "colab": {
          "base_uri": "https://localhost:8080/",
          "height": 451
        }
      },
      "cell_type": "code",
      "source": [
        "# Model RNN\n",
        "\n",
        "from tensorflow.keras.layers import Bidirectional, LSTM, Flatten\n",
        "\n",
        "words = Input(shape=(maxlen,))\n",
        "em =  Embedding(input_dim = vocab_size, output_dim = embedding_size, weights=[embedding_matrix], trainable=True)(words)\n",
        "#em = Dropout(0.3)(em) \n",
        "\n",
        "lstm_1 = Bidirectional(LSTM(64, name='blstm_1',\n",
        "activation='tanh',\n",
        "recurrent_activation='hard_sigmoid',\n",
        "recurrent_dropout=0.0,\n",
        "dropout=0.5, \n",
        "kernel_initializer='glorot_uniform',\n",
        "return_sequences=True),\n",
        "merge_mode='concat')(em)\n",
        "\n",
        "lstm_1 = BatchNormalization()(lstm_1)\n",
        "\n",
        "#Flatten\n",
        "g1 = Flatten()(lstm_1)\n",
        "\n",
        "drop3 = Dropout(0.5)(g1)\n",
        "\n",
        "pred = my_dense(1,drop3)\n",
        "model = Model(inputs=words, outputs=pred)\n",
        "\n",
        "model.compile(optimizer = 'adam',\n",
        "              loss = 'binary_crossentropy',\n",
        "              metrics = ['accuracy'])\n",
        "  \n",
        "model.summary()"
      ],
      "execution_count": 143,
      "outputs": [
        {
          "output_type": "stream",
          "text": [
            "_________________________________________________________________\n",
            "Layer (type)                 Output Shape              Param #   \n",
            "=================================================================\n",
            "input_20 (InputLayer)        (None, 90)                0         \n",
            "_________________________________________________________________\n",
            "embedding_22 (Embedding)     (None, 90, 300)           3508800   \n",
            "_________________________________________________________________\n",
            "bidirectional_2 (Bidirection (None, 90, 128)           186880    \n",
            "_________________________________________________________________\n",
            "batch_normalization_v1_75 (B (None, 90, 128)           512       \n",
            "_________________________________________________________________\n",
            "flatten_1 (Flatten)          (None, 11520)             0         \n",
            "_________________________________________________________________\n",
            "dropout_33 (Dropout)         (None, 11520)             0         \n",
            "_________________________________________________________________\n",
            "dense_29 (Dense)             (None, 1)                 11521     \n",
            "_________________________________________________________________\n",
            "batch_normalization_v1_76 (B (None, 1)                 4         \n",
            "_________________________________________________________________\n",
            "activation_73 (Activation)   (None, 1)                 0         \n",
            "=================================================================\n",
            "Total params: 3,707,717\n",
            "Trainable params: 3,707,459\n",
            "Non-trainable params: 258\n",
            "_________________________________________________________________\n"
          ],
          "name": "stdout"
        }
      ]
    },
    {
      "metadata": {
        "id": "aN3ce7nAkNdh",
        "colab_type": "code",
        "outputId": "8e347e07-142e-4a5d-c2a4-d5007f994e22",
        "colab": {
          "base_uri": "https://localhost:8080/",
          "height": 3111
        }
      },
      "cell_type": "code",
      "source": [
        "history = model.fit(X_train, y_train,\n",
        "                    epochs=300,\n",
        "                    verbose=True,\n",
        "                    validation_data=(X_test, y_test),\n",
        "                    batch_size=64, class_weight = class_weights, callbacks=[es])"
      ],
      "execution_count": 144,
      "outputs": [
        {
          "output_type": "stream",
          "text": [
            "Train on 652 samples, validate on 164 samples\n",
            "Epoch 1/300\n",
            "652/652 [==============================] - 8s 13ms/sample - loss: 0.7262 - acc: 0.5690 - val_loss: 0.7047 - val_acc: 0.5305\n",
            "Epoch 2/300\n",
            "652/652 [==============================] - 5s 7ms/sample - loss: 0.6280 - acc: 0.6626 - val_loss: 0.6972 - val_acc: 0.4878\n",
            "Epoch 3/300\n",
            "652/652 [==============================] - 5s 8ms/sample - loss: 0.5242 - acc: 0.7653 - val_loss: 0.6935 - val_acc: 0.4817\n",
            "Epoch 4/300\n",
            "652/652 [==============================] - 5s 7ms/sample - loss: 0.4206 - acc: 0.8850 - val_loss: 0.6923 - val_acc: 0.4817\n",
            "Epoch 5/300\n",
            "652/652 [==============================] - 5s 8ms/sample - loss: 0.3720 - acc: 0.9617 - val_loss: 0.6919 - val_acc: 0.4817\n",
            "Epoch 6/300\n",
            "652/652 [==============================] - 5s 7ms/sample - loss: 0.3609 - acc: 0.9709 - val_loss: 0.6905 - val_acc: 0.5305\n",
            "Epoch 7/300\n",
            "652/652 [==============================] - 5s 7ms/sample - loss: 0.3428 - acc: 0.9877 - val_loss: 0.6901 - val_acc: 0.5305\n",
            "Epoch 8/300\n",
            "652/652 [==============================] - 5s 7ms/sample - loss: 0.3315 - acc: 0.9969 - val_loss: 0.6901 - val_acc: 0.5305\n",
            "Epoch 9/300\n",
            "652/652 [==============================] - 5s 8ms/sample - loss: 0.3324 - acc: 0.9954 - val_loss: 0.6898 - val_acc: 0.5305\n",
            "Epoch 10/300\n",
            "652/652 [==============================] - 5s 7ms/sample - loss: 0.3203 - acc: 1.0000 - val_loss: 0.6894 - val_acc: 0.5427\n",
            "Epoch 11/300\n",
            "652/652 [==============================] - 5s 7ms/sample - loss: 0.3151 - acc: 1.0000 - val_loss: 0.6889 - val_acc: 0.5549\n",
            "Epoch 12/300\n",
            "652/652 [==============================] - 5s 7ms/sample - loss: 0.3065 - acc: 1.0000 - val_loss: 0.6888 - val_acc: 0.5610\n",
            "Epoch 13/300\n",
            "652/652 [==============================] - 5s 7ms/sample - loss: 0.3064 - acc: 1.0000 - val_loss: 0.6886 - val_acc: 0.5488\n",
            "Epoch 14/300\n",
            "652/652 [==============================] - 5s 7ms/sample - loss: 0.3065 - acc: 0.9969 - val_loss: 0.6889 - val_acc: 0.5366\n",
            "Epoch 15/300\n",
            "652/652 [==============================] - 5s 8ms/sample - loss: 0.2968 - acc: 1.0000 - val_loss: 0.6885 - val_acc: 0.5427\n",
            "Epoch 16/300\n",
            "652/652 [==============================] - 5s 8ms/sample - loss: 0.2958 - acc: 0.9985 - val_loss: 0.6877 - val_acc: 0.5549\n",
            "Epoch 17/300\n",
            "652/652 [==============================] - 5s 8ms/sample - loss: 0.2927 - acc: 0.9985 - val_loss: 0.6872 - val_acc: 0.5671\n",
            "Epoch 18/300\n",
            "652/652 [==============================] - 5s 7ms/sample - loss: 0.2853 - acc: 1.0000 - val_loss: 0.6871 - val_acc: 0.5610\n",
            "Epoch 19/300\n",
            "652/652 [==============================] - 5s 7ms/sample - loss: 0.2830 - acc: 1.0000 - val_loss: 0.6863 - val_acc: 0.5488\n",
            "Epoch 20/300\n",
            "652/652 [==============================] - 5s 7ms/sample - loss: 0.2787 - acc: 1.0000 - val_loss: 0.6862 - val_acc: 0.5488\n",
            "Epoch 21/300\n",
            "652/652 [==============================] - 5s 7ms/sample - loss: 0.2754 - acc: 1.0000 - val_loss: 0.6858 - val_acc: 0.5549\n",
            "Epoch 22/300\n",
            "652/652 [==============================] - 5s 8ms/sample - loss: 0.2752 - acc: 1.0000 - val_loss: 0.6848 - val_acc: 0.5610\n",
            "Epoch 23/300\n",
            "652/652 [==============================] - 5s 8ms/sample - loss: 0.2715 - acc: 1.0000 - val_loss: 0.6846 - val_acc: 0.5488\n",
            "Epoch 24/300\n",
            "652/652 [==============================] - 5s 7ms/sample - loss: 0.2668 - acc: 1.0000 - val_loss: 0.6841 - val_acc: 0.5549\n",
            "Epoch 25/300\n",
            "652/652 [==============================] - 5s 8ms/sample - loss: 0.2661 - acc: 1.0000 - val_loss: 0.6836 - val_acc: 0.5732\n",
            "Epoch 26/300\n",
            "652/652 [==============================] - 5s 7ms/sample - loss: 0.2638 - acc: 1.0000 - val_loss: 0.6831 - val_acc: 0.5671\n",
            "Epoch 27/300\n",
            "652/652 [==============================] - 5s 7ms/sample - loss: 0.2696 - acc: 1.0000 - val_loss: 0.6820 - val_acc: 0.5793\n",
            "Epoch 28/300\n",
            "652/652 [==============================] - 5s 7ms/sample - loss: 0.2579 - acc: 1.0000 - val_loss: 0.6817 - val_acc: 0.5671\n",
            "Epoch 29/300\n",
            "652/652 [==============================] - 5s 7ms/sample - loss: 0.2570 - acc: 1.0000 - val_loss: 0.6807 - val_acc: 0.5793\n",
            "Epoch 30/300\n",
            "652/652 [==============================] - 5s 7ms/sample - loss: 0.2537 - acc: 1.0000 - val_loss: 0.6801 - val_acc: 0.5793\n",
            "Epoch 31/300\n",
            "652/652 [==============================] - 5s 7ms/sample - loss: 0.2486 - acc: 1.0000 - val_loss: 0.6793 - val_acc: 0.5793\n",
            "Epoch 32/300\n",
            "652/652 [==============================] - 5s 8ms/sample - loss: 0.2515 - acc: 1.0000 - val_loss: 0.6780 - val_acc: 0.5793\n",
            "Epoch 33/300\n",
            "652/652 [==============================] - 5s 8ms/sample - loss: 0.2464 - acc: 1.0000 - val_loss: 0.6770 - val_acc: 0.5854\n",
            "Epoch 34/300\n",
            "652/652 [==============================] - 5s 7ms/sample - loss: 0.2428 - acc: 1.0000 - val_loss: 0.6768 - val_acc: 0.5793\n",
            "Epoch 35/300\n",
            "652/652 [==============================] - 5s 7ms/sample - loss: 0.2395 - acc: 1.0000 - val_loss: 0.6760 - val_acc: 0.5793\n",
            "Epoch 36/300\n",
            "652/652 [==============================] - 5s 7ms/sample - loss: 0.2390 - acc: 1.0000 - val_loss: 0.6754 - val_acc: 0.5793\n",
            "Epoch 37/300\n",
            "652/652 [==============================] - 5s 7ms/sample - loss: 0.2373 - acc: 1.0000 - val_loss: 0.6748 - val_acc: 0.5793\n",
            "Epoch 38/300\n",
            "652/652 [==============================] - 6s 9ms/sample - loss: 0.2337 - acc: 1.0000 - val_loss: 0.6738 - val_acc: 0.5976\n",
            "Epoch 39/300\n",
            "652/652 [==============================] - 5s 8ms/sample - loss: 0.2371 - acc: 1.0000 - val_loss: 0.6726 - val_acc: 0.6159\n",
            "Epoch 40/300\n",
            "652/652 [==============================] - 5s 7ms/sample - loss: 0.2300 - acc: 1.0000 - val_loss: 0.6717 - val_acc: 0.5976\n",
            "Epoch 41/300\n",
            "652/652 [==============================] - 5s 7ms/sample - loss: 0.2273 - acc: 1.0000 - val_loss: 0.6706 - val_acc: 0.6098\n",
            "Epoch 42/300\n",
            "652/652 [==============================] - 5s 7ms/sample - loss: 0.2263 - acc: 1.0000 - val_loss: 0.6698 - val_acc: 0.6280\n",
            "Epoch 43/300\n",
            "652/652 [==============================] - 5s 7ms/sample - loss: 0.2251 - acc: 1.0000 - val_loss: 0.6695 - val_acc: 0.6220\n",
            "Epoch 44/300\n",
            "652/652 [==============================] - 5s 7ms/sample - loss: 0.2246 - acc: 1.0000 - val_loss: 0.6694 - val_acc: 0.6341\n",
            "Epoch 45/300\n",
            "652/652 [==============================] - 5s 7ms/sample - loss: 0.2203 - acc: 1.0000 - val_loss: 0.6684 - val_acc: 0.6341\n",
            "Epoch 46/300\n",
            "652/652 [==============================] - 5s 8ms/sample - loss: 0.2177 - acc: 1.0000 - val_loss: 0.6670 - val_acc: 0.6402\n",
            "Epoch 47/300\n",
            "652/652 [==============================] - 5s 7ms/sample - loss: 0.2181 - acc: 1.0000 - val_loss: 0.6652 - val_acc: 0.6463\n",
            "Epoch 48/300\n",
            "652/652 [==============================] - 5s 8ms/sample - loss: 0.2142 - acc: 1.0000 - val_loss: 0.6648 - val_acc: 0.6524\n",
            "Epoch 49/300\n",
            "652/652 [==============================] - 5s 8ms/sample - loss: 0.2140 - acc: 1.0000 - val_loss: 0.6642 - val_acc: 0.6463\n",
            "Epoch 50/300\n",
            "652/652 [==============================] - 5s 7ms/sample - loss: 0.2082 - acc: 1.0000 - val_loss: 0.6642 - val_acc: 0.6524\n",
            "Epoch 51/300\n",
            "652/652 [==============================] - 5s 7ms/sample - loss: 0.2117 - acc: 1.0000 - val_loss: 0.6633 - val_acc: 0.6341\n",
            "Epoch 52/300\n",
            "652/652 [==============================] - 5s 7ms/sample - loss: 0.2059 - acc: 1.0000 - val_loss: 0.6624 - val_acc: 0.6280\n",
            "Epoch 53/300\n",
            "652/652 [==============================] - 5s 7ms/sample - loss: 0.2044 - acc: 1.0000 - val_loss: 0.6618 - val_acc: 0.6280\n",
            "Epoch 54/300\n",
            "652/652 [==============================] - 5s 7ms/sample - loss: 0.2060 - acc: 1.0000 - val_loss: 0.6619 - val_acc: 0.6341\n",
            "Epoch 55/300\n",
            "652/652 [==============================] - 5s 7ms/sample - loss: 0.2023 - acc: 1.0000 - val_loss: 0.6625 - val_acc: 0.6341\n",
            "Epoch 56/300\n",
            "652/652 [==============================] - 5s 7ms/sample - loss: 0.1983 - acc: 1.0000 - val_loss: 0.6620 - val_acc: 0.6463\n",
            "Epoch 57/300\n",
            "652/652 [==============================] - 5s 7ms/sample - loss: 0.2011 - acc: 1.0000 - val_loss: 0.6612 - val_acc: 0.6220\n",
            "Epoch 58/300\n",
            "652/652 [==============================] - 5s 7ms/sample - loss: 0.1936 - acc: 1.0000 - val_loss: 0.6600 - val_acc: 0.6220\n",
            "Epoch 59/300\n",
            "652/652 [==============================] - 5s 7ms/sample - loss: 0.1968 - acc: 1.0000 - val_loss: 0.6602 - val_acc: 0.6220\n",
            "Epoch 60/300\n",
            "652/652 [==============================] - 5s 7ms/sample - loss: 0.1969 - acc: 1.0000 - val_loss: 0.6611 - val_acc: 0.6220\n",
            "Epoch 61/300\n",
            "652/652 [==============================] - 5s 7ms/sample - loss: 0.1932 - acc: 1.0000 - val_loss: 0.6613 - val_acc: 0.6220\n",
            "Epoch 62/300\n",
            "652/652 [==============================] - 5s 7ms/sample - loss: 0.1891 - acc: 1.0000 - val_loss: 0.6616 - val_acc: 0.6159\n",
            "Epoch 63/300\n",
            "652/652 [==============================] - 5s 7ms/sample - loss: 0.1867 - acc: 1.0000 - val_loss: 0.6609 - val_acc: 0.6159\n",
            "Epoch 64/300\n",
            "652/652 [==============================] - 5s 8ms/sample - loss: 0.1883 - acc: 1.0000 - val_loss: 0.6608 - val_acc: 0.6159\n",
            "Epoch 65/300\n",
            "652/652 [==============================] - 6s 9ms/sample - loss: 0.1835 - acc: 1.0000 - val_loss: 0.6611 - val_acc: 0.6280\n",
            "Epoch 66/300\n",
            "652/652 [==============================] - 5s 8ms/sample - loss: 0.1897 - acc: 1.0000 - val_loss: 0.6619 - val_acc: 0.6098\n",
            "Epoch 67/300\n",
            "652/652 [==============================] - 5s 7ms/sample - loss: 0.1831 - acc: 1.0000 - val_loss: 0.6622 - val_acc: 0.6159\n",
            "Epoch 68/300\n",
            "652/652 [==============================] - 5s 7ms/sample - loss: 0.1871 - acc: 1.0000 - val_loss: 0.6616 - val_acc: 0.6159\n",
            "Epoch 69/300\n",
            "652/652 [==============================] - 5s 7ms/sample - loss: 0.1812 - acc: 1.0000 - val_loss: 0.6635 - val_acc: 0.6037\n",
            "Epoch 70/300\n",
            "652/652 [==============================] - 5s 7ms/sample - loss: 0.1775 - acc: 1.0000 - val_loss: 0.6611 - val_acc: 0.6159\n",
            "Epoch 71/300\n",
            "652/652 [==============================] - 5s 7ms/sample - loss: 0.1765 - acc: 1.0000 - val_loss: 0.6610 - val_acc: 0.6159\n",
            "Epoch 72/300\n",
            "652/652 [==============================] - 5s 7ms/sample - loss: 0.1737 - acc: 1.0000 - val_loss: 0.6620 - val_acc: 0.6037\n",
            "Epoch 73/300\n",
            "652/652 [==============================] - 5s 7ms/sample - loss: 0.1731 - acc: 1.0000 - val_loss: 0.6621 - val_acc: 0.6220\n",
            "Epoch 74/300\n",
            "652/652 [==============================] - 5s 7ms/sample - loss: 0.1744 - acc: 1.0000 - val_loss: 0.6630 - val_acc: 0.6159\n",
            "Epoch 75/300\n",
            "652/652 [==============================] - 5s 7ms/sample - loss: 0.1712 - acc: 1.0000 - val_loss: 0.6640 - val_acc: 0.6037\n",
            "Epoch 76/300\n",
            "652/652 [==============================] - 5s 7ms/sample - loss: 0.1711 - acc: 1.0000 - val_loss: 0.6643 - val_acc: 0.6098\n",
            "Epoch 77/300\n",
            "652/652 [==============================] - 5s 7ms/sample - loss: 0.1680 - acc: 1.0000 - val_loss: 0.6642 - val_acc: 0.6037\n",
            "Epoch 78/300\n",
            "652/652 [==============================] - 5s 7ms/sample - loss: 0.1678 - acc: 1.0000 - val_loss: 0.6631 - val_acc: 0.6098\n",
            "Epoch 79/300\n",
            "652/652 [==============================] - 5s 7ms/sample - loss: 0.1674 - acc: 1.0000 - val_loss: 0.6641 - val_acc: 0.6098\n",
            "Epoch 80/300\n",
            "652/652 [==============================] - 5s 7ms/sample - loss: 0.1653 - acc: 1.0000 - val_loss: 0.6635 - val_acc: 0.6098\n",
            "Epoch 81/300\n",
            "652/652 [==============================] - 5s 8ms/sample - loss: 0.1658 - acc: 1.0000 - val_loss: 0.6630 - val_acc: 0.6220\n",
            "Epoch 82/300\n",
            "652/652 [==============================] - 5s 8ms/sample - loss: 0.1619 - acc: 1.0000 - val_loss: 0.6653 - val_acc: 0.6098\n",
            "Epoch 83/300\n",
            "652/652 [==============================] - 5s 8ms/sample - loss: 0.1623 - acc: 1.0000 - val_loss: 0.6654 - val_acc: 0.6220\n",
            "Epoch 84/300\n",
            "652/652 [==============================] - 5s 7ms/sample - loss: 0.1605 - acc: 1.0000 - val_loss: 0.6635 - val_acc: 0.6402\n",
            "Epoch 85/300\n",
            "652/652 [==============================] - 5s 7ms/sample - loss: 0.1619 - acc: 1.0000 - val_loss: 0.6660 - val_acc: 0.6159\n",
            "Epoch 86/300\n",
            "652/652 [==============================] - 5s 8ms/sample - loss: 0.1582 - acc: 1.0000 - val_loss: 0.6662 - val_acc: 0.6037\n",
            "Epoch 87/300\n",
            "652/652 [==============================] - 5s 7ms/sample - loss: 0.1588 - acc: 1.0000 - val_loss: 0.6644 - val_acc: 0.6159\n",
            "Epoch 88/300\n",
            "652/652 [==============================] - 5s 7ms/sample - loss: 0.1560 - acc: 1.0000 - val_loss: 0.6634 - val_acc: 0.6220\n"
          ],
          "name": "stdout"
        }
      ]
    },
    {
      "metadata": {
        "id": "E32LWBFAkrSq",
        "colab_type": "code",
        "outputId": "bdcdb5a3-982b-492e-fd3b-5186d4155e4e",
        "colab": {
          "base_uri": "https://localhost:8080/",
          "height": 337
        }
      },
      "cell_type": "code",
      "source": [
        "%matplotlib inline\n",
        "import matplotlib.pyplot as plt\n",
        "plt.style.use('ggplot')\n",
        "\n",
        "def plot_history(history):\n",
        "    acc = history.history['acc']\n",
        "    val_acc = history.history['val_acc']\n",
        "    loss = history.history['loss']\n",
        "    val_loss = history.history['val_loss']\n",
        "    x = range(1, len(acc) + 1)\n",
        "\n",
        "    plt.figure(figsize=(12, 5))\n",
        "    plt.subplot(1, 2, 1)\n",
        "    plt.plot(x, acc, 'b', label='Training acc')\n",
        "    plt.plot(x, val_acc, 'r', label='Validation acc')\n",
        "    plt.title('Training and validation accuracy')\n",
        "    plt.legend()\n",
        "    plt.subplot(1, 2, 2)\n",
        "    plt.plot(x, loss, 'b', label='Training loss')\n",
        "    plt.plot(x, val_loss, 'r', label='Validation loss')\n",
        "    plt.title('Training and validation loss')\n",
        "    plt.legend()\n",
        "    \n",
        "plot_history(history)"
      ],
      "execution_count": 145,
      "outputs": [
        {
          "output_type": "display_data",
          "data": {
            "image/png": "[encoded data removed]",
            "text/plain": [
              "<Figure size 864x360 with 2 Axes>"
            ]
          },
          "metadata": {
            "tags": []
          }
        }
      ]
    },
    {
      "metadata": {
        "id": "0-L6gkT1k1yQ",
        "colab_type": "code",
        "colab": {}
      },
      "cell_type": "code",
      "source": [
        "threshold = 0.5\n",
        "y_score = model.predict(X_test)\n",
        "#y_pred= model.predict_classes(X_neutral)\n",
        "#y_test = y_netural\n",
        "\n",
        "y_pred = y_score.copy()\n",
        "y_pred[y_pred >=threshold] = 1\n",
        "y_pred[y_pred <threshold] = 0"
      ],
      "execution_count": 0,
      "outputs": []
    },
    {
      "metadata": {
        "id": "7JLI_WVJkwcP",
        "colab_type": "code",
        "outputId": "8b59cae8-dcac-4582-9599-e22d68a4225b",
        "colab": {
          "base_uri": "https://localhost:8080/",
          "height": 173
        }
      },
      "cell_type": "code",
      "source": [
        "from sklearn.metrics import confusion_matrix\n",
        "from sklearn.metrics import cohen_kappa_score\n",
        "from sklearn.metrics import accuracy_score\n",
        "from sklearn.metrics import precision_score\n",
        "from sklearn.metrics import recall_score\n",
        "from sklearn.metrics import f1_score\n",
        "from sklearn.metrics import roc_auc_score\n",
        "\n",
        "print(\"Confusion Matrix: \\n\" + str(confusion_matrix(y_test, y_pred)))\n",
        "print(\"Accuracy: {:.4f}\".format(accuracy_score(y_test, y_pred)))\n",
        "print(\"Kappa: {:.4f}\".format(cohen_kappa_score(y_test, y_pred)))\n",
        "print(\"Precision: {:.4f}\".format(precision_score(y_test, y_pred,pos_label=1)))\n",
        "print(\"Recall: {:.4f}\".format(recall_score(y_test, y_pred,pos_label=1)))\n",
        "print(\"F1: {:.4f}\".format(f1_score(y_test, y_pred,pos_label=1)))\n",
        "print(\"Auc: {:.4f}\".format(roc_auc_score(y_test, y_pred)))"
      ],
      "execution_count": 147,
      "outputs": [
        {
          "output_type": "stream",
          "text": [
            "Confusion Matrix: \n",
            "[[61 24]\n",
            " [38 41]]\n",
            "Accuracy: 0.6220\n",
            "Kappa: 0.2381\n",
            "Precision: 0.6308\n",
            "Recall: 0.5190\n",
            "F1: 0.5694\n",
            "Auc: 0.6183\n"
          ],
          "name": "stdout"
        }
      ]
    },
    {
      "metadata": {
        "id": "WJ1mQbvOJaQl",
        "colab_type": "code",
        "colab": {}
      },
      "cell_type": "code",
      "source": [
        "model.save('nice_movie' + '_model2.h5')  "
      ],
      "execution_count": 0,
      "outputs": []
    },
    {
      "metadata": {
        "id": "Nvz8Z9-J-TRJ",
        "colab_type": "code",
        "outputId": "5912d229-bd1d-465e-e618-efad668ff9a3",
        "colab": {
          "base_uri": "https://localhost:8080/",
          "height": 121
        }
      },
      "cell_type": "code",
      "source": [
        "!pip install tmdbsimple\n",
        "\n",
        "import tmdbsimple as tmdb\n",
        "\n",
        "tmdb.API_KEY = '38dd5c6c01713ef99903275d51e2fd68'"
      ],
      "execution_count": 0,
      "outputs": [
        {
          "output_type": "stream",
          "text": [
            "Requirement already satisfied: tmdbsimple in /usr/local/lib/python3.6/dist-packages (2.2.0)\n",
            "Requirement already satisfied: requests in /usr/local/lib/python3.6/dist-packages (from tmdbsimple) (2.18.4)\n",
            "Requirement already satisfied: chardet<3.1.0,>=3.0.2 in /usr/local/lib/python3.6/dist-packages (from requests->tmdbsimple) (3.0.4)\n",
            "Requirement already satisfied: urllib3<1.23,>=1.21.1 in /usr/local/lib/python3.6/dist-packages (from requests->tmdbsimple) (1.22)\n",
            "Requirement already satisfied: idna<2.7,>=2.5 in /usr/local/lib/python3.6/dist-packages (from requests->tmdbsimple) (2.6)\n",
            "Requirement already satisfied: certifi>=2017.4.17 in /usr/local/lib/python3.6/dist-packages (from requests->tmdbsimple) (2019.3.9)\n"
          ],
          "name": "stdout"
        }
      ]
    },
    {
      "metadata": {
        "id": "s-kzUQdq863L",
        "colab_type": "code",
        "colab": {}
      },
      "cell_type": "code",
      "source": [
        "def get_likeness(film):\n",
        "  \n",
        "  search = tmdb.Search()\n",
        "  response = search.movie(query=film,language='es-ES')\n",
        "  \n",
        "  print(response)\n",
        "  \n",
        "\n",
        "  if len(response['results']) >= 1:\n",
        "    over = response['results'][0]['overview']\n",
        "    score = response['results'][0]['vote_average']\n",
        "    \n",
        "    id_movie = response['results'][0]['id']\n",
        "    \n",
        "    movie = tmdb.Movies(id_movie)\n",
        "    \n",
        "    actors = get_actors(movie.credits()['cast'])\n",
        "    director = get_director(movie.credits()['crew'])\n",
        "    \n",
        "    over = clean_overview(str(over))\n",
        "    over = delete_stop_words(over)\n",
        "\n",
        "    over = actors + ' ' + over\n",
        "    over = director + over\n",
        "    \n",
        "    print(over)\n",
        "    \n",
        "    X_over = tokenizer.texts_to_sequences(np.array([over]))\n",
        "    X_over = pad_sequences(X_over, padding='post', maxlen=maxlen)\n",
        "\n",
        "    probability = model.predict(X_over)\n",
        "    print(probability)\n",
        "    probability = probability[0][0] * 0.75 + (score/10)*0.25\n",
        "    \n",
        "    if (probability >= 0.5):\n",
        "        pred = 1\n",
        "        print(probability)\n",
        "        if (probability < 0.5):\n",
        "          probability = 0.5\n",
        "        \n",
        "    else:\n",
        "        pred = 0\n",
        "    \n",
        "    return (str(pred) , str(probability), score/10)\n",
        "  \n",
        "  else:\n",
        "    \n",
        "    return 'No existe la peli'\n",
        "  "
      ],
      "execution_count": 0,
      "outputs": []
    },
    {
      "metadata": {
        "id": "BRvFNL5nBlPU",
        "colab_type": "code",
        "outputId": "8c23ff4e-fdc5-485a-fa61-324e0bc4965b",
        "colab": {
          "base_uri": "https://localhost:8080/",
          "height": 34
        }
      },
      "cell_type": "code",
      "source": [
        "movie = tmdb.Movies(64)\n",
        "    \n",
        "get_director(movie.credits()['crew'])"
      ],
      "execution_count": 0,
      "outputs": [
        {
          "output_type": "execute_result",
          "data": {
            "text/plain": [
              "'pedro_almodovar'"
            ]
          },
          "metadata": {
            "tags": []
          },
          "execution_count": 219
        }
      ]
    },
    {
      "metadata": {
        "id": "zYO4-m5wL3Ll",
        "colab_type": "code",
        "outputId": "8bb71c55-88a0-499d-fa1e-eb87971f4d1b",
        "colab": {
          "base_uri": "https://localhost:8080/",
          "height": 106
        }
      },
      "cell_type": "code",
      "source": [
        "get_likeness(\"la boda de mi mejor amiga\")"
      ],
      "execution_count": 0,
      "outputs": [
        {
          "output_type": "stream",
          "text": [
            "{'page': 1, 'total_results': 1, 'total_pages': 1, 'results': [{'vote_count': 2682, 'id': 55721, 'video': False, 'vote_average': 6.5, 'title': 'La boda de mi mejor amiga', 'popularity': 13.59, 'poster_path': '/f5qGgjJYoG81SYAKF0VamjGrwd2.jpg', 'original_language': 'en', 'original_title': 'Bridesmaids', 'genre_ids': [35, 10749], 'backdrop_path': '/yMqCfrfz3QXGiurmXXP3pJIwKOR.jpg', 'adult': False, 'overview': 'Annie (Kristen Wiig) es una treintañera soltera del Medio Oeste, con una vida sentimental más bien precaria, a la que Lilliam, su mejor amiga (Maya Rudolph), le pide que sea su dama de honor. Sin embargo, aunque nunca ha ejercido esa función, la pobre se esfuerza por dárselas de snob en la fiesta anterior a la boda. Mientras tanto, otra amiga de Lillian (Rose Byrne) hará todo lo posible por arrebatarle el papel a la inexperta Annie', 'release_date': '2011-05-13'}]}\n",
            "paul_feig kristen_wiig maya_rudolph rose_byrne annie kristen wiig treintañera soltera oeste vida sentimental precaria lilliam amiga maya rudolph pide dama honor ejercido funcion pobre esfuerza darselas snob fiesta boda amiga lillian rose byrne hara arrebatarle papel inexperta annie\n",
            "[[0.00496199]]\n"
          ],
          "name": "stdout"
        },
        {
          "output_type": "execute_result",
          "data": {
            "text/plain": [
              "('0', '0.16622149306349457', 0.65)"
            ]
          },
          "metadata": {
            "tags": []
          },
          "execution_count": 316
        }
      ]
    },
    {
      "metadata": {
        "id": "fuJocWX_CC8r",
        "colab_type": "code",
        "colab": {}
      },
      "cell_type": "code",
      "source": [
        "word_embds = model.layers[1].get_weights()[0]\n",
        "word_list = []\n",
        "for word, i in tokenizer.word_index.items():\n",
        "    word_list.append(word)"
      ],
      "execution_count": 0,
      "outputs": []
    },
    {
      "metadata": {
        "id": "rvDRkNV0CFrm",
        "colab_type": "code",
        "colab": {}
      },
      "cell_type": "code",
      "source": [
        "from sklearn.manifold import TSNE\n",
        "\n",
        "X_embedded = TSNE(n_components=2).fit_transform(word_embds)\n",
        "number_of_words = 1000\n",
        "trace = go.Scatter(\n",
        "    x = X_embedded[0:number_of_words,0], \n",
        "    y = X_embedded[0:number_of_words, 1],\n",
        "    mode = 'markers',\n",
        "    text= word_list[0:number_of_words]\n",
        ")\n",
        "layout = dict(title= 't-SNE 1 vs t-SNE 2 for sirst 1000 words ',\n",
        "              yaxis = dict(title='t-SNE 2'),\n",
        "              xaxis = dict(title='t-SNE 1'),\n",
        "              hovermode= 'closest')\n",
        "fig = dict(data = [trace], layout= layout)\n",
        "py.iplot(fig)"
      ],
      "execution_count": 0,
      "outputs": []
    },
    {
      "metadata": {
        "id": "fnSAd3BxBzGF",
        "colab_type": "code",
        "outputId": "6659672d-a142-4bab-f508-9c71f06a9e1d",
        "colab": {
          "base_uri": "https://localhost:8080/",
          "height": 126
        }
      },
      "cell_type": "code",
      "source": [
        "import xgboost as xgb\n",
        "\n",
        "#model = xgb.XGBClassifier(max_depth=10,n_estimators=150,silent=False,objective='binary:logistic')\n",
        "model = xgb.XGBClassifier()\n",
        "model.fit(X_train, y_train)"
      ],
      "execution_count": 0,
      "outputs": [
        {
          "output_type": "execute_result",
          "data": {
            "text/plain": [
              "XGBClassifier(base_score=0.5, booster='gbtree', colsample_bylevel=1,\n",
              "       colsample_bytree=1, gamma=0, learning_rate=0.1, max_delta_step=0,\n",
              "       max_depth=3, min_child_weight=1, missing=None, n_estimators=100,\n",
              "       n_jobs=1, nthread=None, objective='binary:logistic', random_state=0,\n",
              "       reg_alpha=0, reg_lambda=1, scale_pos_weight=1, seed=None,\n",
              "       silent=True, subsample=1)"
            ]
          },
          "metadata": {
            "tags": []
          },
          "execution_count": 56
        }
      ]
    },
    {
      "metadata": {
        "id": "mR7WdupnB7pd",
        "colab_type": "code",
        "colab": {}
      },
      "cell_type": "code",
      "source": [
        "y_pred = model.predict(X_test)\n",
        "y_score = model.predict_proba(X_test)"
      ],
      "execution_count": 0,
      "outputs": []
    },
    {
      "metadata": {
        "id": "FcrD_SolC9Qt",
        "colab_type": "code",
        "colab": {}
      },
      "cell_type": "code",
      "source": [
        "!pip install finetune"
      ],
      "execution_count": 0,
      "outputs": []
    },
    {
      "metadata": {
        "id": "FFzRg88aDFdv",
        "colab_type": "code",
        "colab": {}
      },
      "cell_type": "code",
      "source": [
        "from finetune import Classifier\n",
        "\n",
        "model = Classifier()               # Load base model\n",
        "model.fit(X_train, y_train)          # Finetune base model on custom data\n",
        "y_pred = model.predict(X_test)"
      ],
      "execution_count": 0,
      "outputs": []
    }
  ]
}
{
  "nbformat": 4,
  "nbformat_minor": 0,
  "metadata": {
    "colab": {
      "name": "memoria_preprocessing_textos.ipynb",
      "provenance": [],
      "collapsed_sections": [],
      "authorship_tag": "ABX9TyPdejkopGEDbtdOtch2eqfO",
      "include_colab_link": true
    },
    "kernelspec": {
      "name": "python3",
      "display_name": "Python 3"
    },
    "widgets": {
      "application/vnd.jupyter.widget-state+json": {
        "e35cc4f51cb64e65942aa26f5b30be79": {
          "model_module": "@jupyter-widgets/controls",
          "model_name": "HBoxModel",
          "state": {
            "_view_name": "HBoxView",
            "_dom_classes": [],
            "_model_name": "HBoxModel",
            "_view_module": "@jupyter-widgets/controls",
            "_model_module_version": "1.5.0",
            "_view_count": null,
            "_view_module_version": "1.5.0",
            "box_style": "",
            "layout": "IPY_MODEL_031aa9681eec4dfbbf9d9fac67010bdb",
            "_model_module": "@jupyter-widgets/controls",
            "children": [
              "IPY_MODEL_b50027072d6e4b69abc81bb581a1a93f",
              "IPY_MODEL_cc57b11c62c9433aad644e2f62a45388"
            ]
          }
        },
        "031aa9681eec4dfbbf9d9fac67010bdb": {
          "model_module": "@jupyter-widgets/base",
          "model_name": "LayoutModel",
          "state": {
            "_view_name": "LayoutView",
            "grid_template_rows": null,
            "right": null,
            "justify_content": null,
            "_view_module": "@jupyter-widgets/base",
            "overflow": null,
            "_model_module_version": "1.2.0",
            "_view_count": null,
            "flex_flow": null,
            "width": null,
            "min_width": null,
            "border": null,
            "align_items": null,
            "bottom": null,
            "_model_module": "@jupyter-widgets/base",
            "top": null,
            "grid_column": null,
            "overflow_y": null,
            "overflow_x": null,
            "grid_auto_flow": null,
            "grid_area": null,
            "grid_template_columns": null,
            "flex": null,
            "_model_name": "LayoutModel",
            "justify_items": null,
            "grid_row": null,
            "max_height": null,
            "align_content": null,
            "visibility": null,
            "align_self": null,
            "height": null,
            "min_height": null,
            "padding": null,
            "grid_auto_rows": null,
            "grid_gap": null,
            "max_width": null,
            "order": null,
            "_view_module_version": "1.2.0",
            "grid_template_areas": null,
            "object_position": null,
            "object_fit": null,
            "grid_auto_columns": null,
            "margin": null,
            "display": null,
            "left": null
          }
        },
        "b50027072d6e4b69abc81bb581a1a93f": {
          "model_module": "@jupyter-widgets/controls",
          "model_name": "FloatProgressModel",
          "state": {
            "_view_name": "ProgressView",
            "style": "IPY_MODEL_1dd262f3130f45d58a5a698ceb05c199",
            "_dom_classes": [],
            "description": "100%",
            "_model_name": "FloatProgressModel",
            "bar_style": "success",
            "max": 1015,
            "_view_module": "@jupyter-widgets/controls",
            "_model_module_version": "1.5.0",
            "value": 1015,
            "_view_count": null,
            "_view_module_version": "1.5.0",
            "orientation": "horizontal",
            "min": 0,
            "description_tooltip": null,
            "_model_module": "@jupyter-widgets/controls",
            "layout": "IPY_MODEL_453165e66aa64912a7fced83b65b8a48"
          }
        },
        "cc57b11c62c9433aad644e2f62a45388": {
          "model_module": "@jupyter-widgets/controls",
          "model_name": "HTMLModel",
          "state": {
            "_view_name": "HTMLView",
            "style": "IPY_MODEL_0380da5fed1d4b119e834795ddda8f6e",
            "_dom_classes": [],
            "description": "",
            "_model_name": "HTMLModel",
            "placeholder": "​",
            "_view_module": "@jupyter-widgets/controls",
            "_model_module_version": "1.5.0",
            "value": " 1015/1015 [10:19&lt;00:00,  1.64it/s]",
            "_view_count": null,
            "_view_module_version": "1.5.0",
            "description_tooltip": null,
            "_model_module": "@jupyter-widgets/controls",
            "layout": "IPY_MODEL_efd1e31575294996911922ecc1b8faf3"
          }
        },
        "1dd262f3130f45d58a5a698ceb05c199": {
          "model_module": "@jupyter-widgets/controls",
          "model_name": "ProgressStyleModel",
          "state": {
            "_view_name": "StyleView",
            "_model_name": "ProgressStyleModel",
            "description_width": "initial",
            "_view_module": "@jupyter-widgets/base",
            "_model_module_version": "1.5.0",
            "_view_count": null,
            "_view_module_version": "1.2.0",
            "bar_color": null,
            "_model_module": "@jupyter-widgets/controls"
          }
        },
        "453165e66aa64912a7fced83b65b8a48": {
          "model_module": "@jupyter-widgets/base",
          "model_name": "LayoutModel",
          "state": {
            "_view_name": "LayoutView",
            "grid_template_rows": null,
            "right": null,
            "justify_content": null,
            "_view_module": "@jupyter-widgets/base",
            "overflow": null,
            "_model_module_version": "1.2.0",
            "_view_count": null,
            "flex_flow": null,
            "width": null,
            "min_width": null,
            "border": null,
            "align_items": null,
            "bottom": null,
            "_model_module": "@jupyter-widgets/base",
            "top": null,
            "grid_column": null,
            "overflow_y": null,
            "overflow_x": null,
            "grid_auto_flow": null,
            "grid_area": null,
            "grid_template_columns": null,
            "flex": null,
            "_model_name": "LayoutModel",
            "justify_items": null,
            "grid_row": null,
            "max_height": null,
            "align_content": null,
            "visibility": null,
            "align_self": null,
            "height": null,
            "min_height": null,
            "padding": null,
            "grid_auto_rows": null,
            "grid_gap": null,
            "max_width": null,
            "order": null,
            "_view_module_version": "1.2.0",
            "grid_template_areas": null,
            "object_position": null,
            "object_fit": null,
            "grid_auto_columns": null,
            "margin": null,
            "display": null,
            "left": null
          }
        },
        "0380da5fed1d4b119e834795ddda8f6e": {
          "model_module": "@jupyter-widgets/controls",
          "model_name": "DescriptionStyleModel",
          "state": {
            "_view_name": "StyleView",
            "_model_name": "DescriptionStyleModel",
            "description_width": "",
            "_view_module": "@jupyter-widgets/base",
            "_model_module_version": "1.5.0",
            "_view_count": null,
            "_view_module_version": "1.2.0",
            "_model_module": "@jupyter-widgets/controls"
          }
        },
        "efd1e31575294996911922ecc1b8faf3": {
          "model_module": "@jupyter-widgets/base",
          "model_name": "LayoutModel",
          "state": {
            "_view_name": "LayoutView",
            "grid_template_rows": null,
            "right": null,
            "justify_content": null,
            "_view_module": "@jupyter-widgets/base",
            "overflow": null,
            "_model_module_version": "1.2.0",
            "_view_count": null,
            "flex_flow": null,
            "width": null,
            "min_width": null,
            "border": null,
            "align_items": null,
            "bottom": null,
            "_model_module": "@jupyter-widgets/base",
            "top": null,
            "grid_column": null,
            "overflow_y": null,
            "overflow_x": null,
            "grid_auto_flow": null,
            "grid_area": null,
            "grid_template_columns": null,
            "flex": null,
            "_model_name": "LayoutModel",
            "justify_items": null,
            "grid_row": null,
            "max_height": null,
            "align_content": null,
            "visibility": null,
            "align_self": null,
            "height": null,
            "min_height": null,
            "padding": null,
            "grid_auto_rows": null,
            "grid_gap": null,
            "max_width": null,
            "order": null,
            "_view_module_version": "1.2.0",
            "grid_template_areas": null,
            "object_position": null,
            "object_fit": null,
            "grid_auto_columns": null,
            "margin": null,
            "display": null,
            "left": null
          }
        }
      }
    },
    "accelerator": "GPU"
  },
  "cells": [
    {
      "cell_type": "markdown",
      "metadata": {
        "id": "view-in-github",
        "colab_type": "text"
      },
      "source": [
        "<a href=\"https://colab.research.google.com/github/Jaimemorillo/ShouldIwatchThisMovie/blob/master/memoria_preprocessing_textos.ipynb\" target=\"_parent\"><img src=\"https://colab.research.google.com/assets/colab-badge.svg\" alt=\"Open In Colab\"/></a>"
      ]
    },
    {
      "cell_type": "markdown",
      "metadata": {
        "id": "2UDXNTkJHYp0"
      },
      "source": [
        "# Preprocesamiento\n",
        "\n",
        "El objetivo de esta sección es el de ver que técnicas existen para tratar de reducir el vocabulario de las oraciones. Con esto conseguimos acelerar y mejorar el entrenamiento de los modelos, ya que en el input de lo que vamos a codificar ya va la información esencial y la que contiene mayor carga de significado.\n",
        "\n",
        "Podemos encontrarnos palabras con errores ortográficos, palabras que no aportan significado, palabras con terminaciones diferentes pero el mismo valor...\n",
        "\n",
        "Si conseguimos tratar todos estos puntos vamos a conseguir extraer las características que realmente importan de los textos."
      ]
    },
    {
      "cell_type": "code",
      "metadata": {
        "colab": {
          "base_uri": "https://localhost:8080/"
        },
        "id": "EQT730YtNqjj",
        "outputId": "ad59c462-3d00-4859-8cb0-24ff4ebfd2de"
      },
      "source": [
        "!python -m spacy download es_core_news_sm"
      ],
      "execution_count": 78,
      "outputs": [
        {
          "output_type": "stream",
          "text": [
            "Requirement already satisfied: es_core_news_sm==2.2.5 from https://github.com/explosion/spacy-models/releases/download/es_core_news_sm-2.2.5/es_core_news_sm-2.2.5.tar.gz#egg=es_core_news_sm==2.2.5 in /usr/local/lib/python3.7/dist-packages (2.2.5)\n",
            "Requirement already satisfied: spacy>=2.2.2 in /usr/local/lib/python3.7/dist-packages (from es_core_news_sm==2.2.5) (2.2.4)\n",
            "Requirement already satisfied: tqdm<5.0.0,>=4.38.0 in /usr/local/lib/python3.7/dist-packages (from spacy>=2.2.2->es_core_news_sm==2.2.5) (4.41.1)\n",
            "Requirement already satisfied: setuptools in /usr/local/lib/python3.7/dist-packages (from spacy>=2.2.2->es_core_news_sm==2.2.5) (54.1.2)\n",
            "Requirement already satisfied: requests<3.0.0,>=2.13.0 in /usr/local/lib/python3.7/dist-packages (from spacy>=2.2.2->es_core_news_sm==2.2.5) (2.23.0)\n",
            "Requirement already satisfied: plac<1.2.0,>=0.9.6 in /usr/local/lib/python3.7/dist-packages (from spacy>=2.2.2->es_core_news_sm==2.2.5) (1.1.3)\n",
            "Requirement already satisfied: murmurhash<1.1.0,>=0.28.0 in /usr/local/lib/python3.7/dist-packages (from spacy>=2.2.2->es_core_news_sm==2.2.5) (1.0.5)\n",
            "Requirement already satisfied: catalogue<1.1.0,>=0.0.7 in /usr/local/lib/python3.7/dist-packages (from spacy>=2.2.2->es_core_news_sm==2.2.5) (1.0.0)\n",
            "Requirement already satisfied: thinc==7.4.0 in /usr/local/lib/python3.7/dist-packages (from spacy>=2.2.2->es_core_news_sm==2.2.5) (7.4.0)\n",
            "Requirement already satisfied: blis<0.5.0,>=0.4.0 in /usr/local/lib/python3.7/dist-packages (from spacy>=2.2.2->es_core_news_sm==2.2.5) (0.4.1)\n",
            "Requirement already satisfied: numpy>=1.15.0 in /usr/local/lib/python3.7/dist-packages (from spacy>=2.2.2->es_core_news_sm==2.2.5) (1.19.5)\n",
            "Requirement already satisfied: wasabi<1.1.0,>=0.4.0 in /usr/local/lib/python3.7/dist-packages (from spacy>=2.2.2->es_core_news_sm==2.2.5) (0.8.2)\n",
            "Requirement already satisfied: preshed<3.1.0,>=3.0.2 in /usr/local/lib/python3.7/dist-packages (from spacy>=2.2.2->es_core_news_sm==2.2.5) (3.0.5)\n",
            "Requirement already satisfied: cymem<2.1.0,>=2.0.2 in /usr/local/lib/python3.7/dist-packages (from spacy>=2.2.2->es_core_news_sm==2.2.5) (2.0.5)\n",
            "Requirement already satisfied: srsly<1.1.0,>=1.0.2 in /usr/local/lib/python3.7/dist-packages (from spacy>=2.2.2->es_core_news_sm==2.2.5) (1.0.5)\n",
            "Requirement already satisfied: urllib3!=1.25.0,!=1.25.1,<1.26,>=1.21.1 in /usr/local/lib/python3.7/dist-packages (from requests<3.0.0,>=2.13.0->spacy>=2.2.2->es_core_news_sm==2.2.5) (1.24.3)\n",
            "Requirement already satisfied: certifi>=2017.4.17 in /usr/local/lib/python3.7/dist-packages (from requests<3.0.0,>=2.13.0->spacy>=2.2.2->es_core_news_sm==2.2.5) (2020.12.5)\n",
            "Requirement already satisfied: chardet<4,>=3.0.2 in /usr/local/lib/python3.7/dist-packages (from requests<3.0.0,>=2.13.0->spacy>=2.2.2->es_core_news_sm==2.2.5) (3.0.4)\n",
            "Requirement already satisfied: idna<3,>=2.5 in /usr/local/lib/python3.7/dist-packages (from requests<3.0.0,>=2.13.0->spacy>=2.2.2->es_core_news_sm==2.2.5) (2.10)\n",
            "Requirement already satisfied: importlib-metadata>=0.20; python_version < \"3.8\" in /usr/local/lib/python3.7/dist-packages (from catalogue<1.1.0,>=0.0.7->spacy>=2.2.2->es_core_news_sm==2.2.5) (3.7.2)\n",
            "Requirement already satisfied: typing-extensions>=3.6.4; python_version < \"3.8\" in /usr/local/lib/python3.7/dist-packages (from importlib-metadata>=0.20; python_version < \"3.8\"->catalogue<1.1.0,>=0.0.7->spacy>=2.2.2->es_core_news_sm==2.2.5) (3.7.4.3)\n",
            "Requirement already satisfied: zipp>=0.5 in /usr/local/lib/python3.7/dist-packages (from importlib-metadata>=0.20; python_version < \"3.8\"->catalogue<1.1.0,>=0.0.7->spacy>=2.2.2->es_core_news_sm==2.2.5) (3.4.1)\n",
            "\u001b[38;5;2m✔ Download and installation successful\u001b[0m\n",
            "You can now load the model via spacy.load('es_core_news_sm')\n"
          ],
          "name": "stdout"
        }
      ]
    },
    {
      "cell_type": "code",
      "metadata": {
        "colab": {
          "base_uri": "https://localhost:8080/"
        },
        "id": "eoob7NcR_396",
        "outputId": "a7baf271-4b08-4d87-88c2-879999e2c8c2"
      },
      "source": [
        "from google.colab import drive\n",
        "drive.mount('/content/gdrive')"
      ],
      "execution_count": 79,
      "outputs": [
        {
          "output_type": "stream",
          "text": [
            "Drive already mounted at /content/gdrive; to attempt to forcibly remount, call drive.mount(\"/content/gdrive\", force_remount=True).\n"
          ],
          "name": "stdout"
        }
      ]
    },
    {
      "cell_type": "code",
      "metadata": {
        "colab": {
          "base_uri": "https://localhost:8080/"
        },
        "id": "cDpftzkbCfAS",
        "outputId": "9b9b7171-bbe2-4756-ee26-10f6f6de3ed9"
      },
      "source": [
        "import pandas as pd\n",
        "import numpy as np\n",
        "import time\n",
        "\n",
        "import nltk\n",
        "from nltk.tokenize import WordPunctTokenizer\n",
        "\n",
        "import string\n",
        "import re\n",
        "\n",
        "from tqdm.notebook import tqdm\n",
        "tqdm.pandas()\n",
        "\n",
        "nltk.download(\"popular\")"
      ],
      "execution_count": 80,
      "outputs": [
        {
          "output_type": "stream",
          "text": [
            "[nltk_data] Downloading collection 'popular'\n",
            "[nltk_data]    | \n",
            "[nltk_data]    | Downloading package cmudict to /root/nltk_data...\n",
            "[nltk_data]    |   Package cmudict is already up-to-date!\n",
            "[nltk_data]    | Downloading package gazetteers to /root/nltk_data...\n",
            "[nltk_data]    |   Package gazetteers is already up-to-date!\n",
            "[nltk_data]    | Downloading package genesis to /root/nltk_data...\n",
            "[nltk_data]    |   Package genesis is already up-to-date!\n",
            "[nltk_data]    | Downloading package gutenberg to /root/nltk_data...\n",
            "[nltk_data]    |   Package gutenberg is already up-to-date!\n",
            "[nltk_data]    | Downloading package inaugural to /root/nltk_data...\n",
            "[nltk_data]    |   Package inaugural is already up-to-date!\n",
            "[nltk_data]    | Downloading package movie_reviews to\n",
            "[nltk_data]    |     /root/nltk_data...\n"
          ],
          "name": "stdout"
        },
        {
          "output_type": "stream",
          "text": [
            "/usr/local/lib/python3.7/dist-packages/tqdm/std.py:658: FutureWarning: The Panel class is removed from pandas. Accessing it from the top-level namespace will also be removed in the next version\n",
            "  from pandas import Panel\n"
          ],
          "name": "stderr"
        },
        {
          "output_type": "stream",
          "text": [
            "[nltk_data]    |   Package movie_reviews is already up-to-date!\n",
            "[nltk_data]    | Downloading package names to /root/nltk_data...\n",
            "[nltk_data]    |   Package names is already up-to-date!\n",
            "[nltk_data]    | Downloading package shakespeare to /root/nltk_data...\n",
            "[nltk_data]    |   Package shakespeare is already up-to-date!\n",
            "[nltk_data]    | Downloading package stopwords to /root/nltk_data...\n",
            "[nltk_data]    |   Package stopwords is already up-to-date!\n",
            "[nltk_data]    | Downloading package treebank to /root/nltk_data...\n",
            "[nltk_data]    |   Package treebank is already up-to-date!\n",
            "[nltk_data]    | Downloading package twitter_samples to\n",
            "[nltk_data]    |     /root/nltk_data...\n",
            "[nltk_data]    |   Package twitter_samples is already up-to-date!\n",
            "[nltk_data]    | Downloading package omw to /root/nltk_data...\n",
            "[nltk_data]    |   Package omw is already up-to-date!\n",
            "[nltk_data]    | Downloading package wordnet to /root/nltk_data...\n",
            "[nltk_data]    |   Package wordnet is already up-to-date!\n",
            "[nltk_data]    | Downloading package wordnet_ic to /root/nltk_data...\n",
            "[nltk_data]    |   Package wordnet_ic is already up-to-date!\n",
            "[nltk_data]    | Downloading package words to /root/nltk_data...\n",
            "[nltk_data]    |   Package words is already up-to-date!\n",
            "[nltk_data]    | Downloading package maxent_ne_chunker to\n",
            "[nltk_data]    |     /root/nltk_data...\n",
            "[nltk_data]    |   Package maxent_ne_chunker is already up-to-date!\n",
            "[nltk_data]    | Downloading package punkt to /root/nltk_data...\n",
            "[nltk_data]    |   Package punkt is already up-to-date!\n",
            "[nltk_data]    | Downloading package snowball_data to\n",
            "[nltk_data]    |     /root/nltk_data...\n",
            "[nltk_data]    |   Package snowball_data is already up-to-date!\n",
            "[nltk_data]    | Downloading package averaged_perceptron_tagger to\n",
            "[nltk_data]    |     /root/nltk_data...\n",
            "[nltk_data]    |   Package averaged_perceptron_tagger is already up-\n",
            "[nltk_data]    |       to-date!\n",
            "[nltk_data]    | \n",
            "[nltk_data]  Done downloading collection popular\n"
          ],
          "name": "stdout"
        },
        {
          "output_type": "execute_result",
          "data": {
            "text/plain": [
              "True"
            ]
          },
          "metadata": {
            "tags": []
          },
          "execution_count": 80
        }
      ]
    },
    {
      "cell_type": "code",
      "metadata": {
        "id": "dFI1qKTtLVFk"
      },
      "source": [
        "dataover = pd.read_csv(\"gdrive/My Drive/TFG/tmdb_spanish_def.csv\", sep='#',encoding='utf-8', lineterminator='\\n')\n",
        "taste = pd.read_csv(\"gdrive/My Drive/TFG/tmdb_spanish_Jaime_def_2.csv\", sep='#', encoding='utf-8')"
      ],
      "execution_count": 81,
      "outputs": []
    },
    {
      "cell_type": "code",
      "metadata": {
        "colab": {
          "base_uri": "https://localhost:8080/"
        },
        "id": "-zQm33RKLWQ1",
        "outputId": "6d813c2b-16e4-41b8-c2b8-0a2e70d58f07"
      },
      "source": [
        "taste['id'] = taste['id'].astype(int)\n",
        "\n",
        "data = taste.merge(dataover[['id','title','overview','genres','crew','cast']], left_on='id', right_on='id')\n",
        "data = data[~pd.isna(data.overview)]\n",
        "\n",
        "data = data.dropna(subset=['like'])\n",
        "data['like'] = data['like'].astype(int)\n",
        "\n",
        "data = data.drop_duplicates(subset=['id'])\n",
        "data.reset_index(inplace=True,drop=True)\n",
        "\n",
        "print(len(data))\n",
        "\n",
        "print(data.like.value_counts(dropna=False))"
      ],
      "execution_count": 82,
      "outputs": [
        {
          "output_type": "stream",
          "text": [
            "1015\n",
            "0    514\n",
            "1    501\n",
            "Name: like, dtype: int64\n"
          ],
          "name": "stdout"
        }
      ]
    },
    {
      "cell_type": "markdown",
      "metadata": {
        "id": "xByWPU7lHAVY"
      },
      "source": [
        "## Correción ortográfica\n",
        "\n",
        "Uno de los problema al que nos enfrentamos cuando hablamos de textos es al de los errores ortográficos, muchas veces escribimos rápido y nos pasamos por alto acentos, confundimos letras por tener sonidos similares, intercalamos letras de más, tenemos letras en mayúsculas y minúsculas, juntamos palabras...\n",
        "\n",
        "Algunos de ellos como las tildes tienen una solución sencilla que además suelen ser los errores más habituales. Nuestra base de datos de partida es editable por los usuarios y es un punto necesario para ser tratado.\n",
        "\n",
        "Vamos a ver las funciones y técnicas que nos van a ayudar a resolver este apartado:"
      ]
    },
    {
      "cell_type": "markdown",
      "metadata": {
        "id": "-yAgD-CcK0pY"
      },
      "source": [
        "### Normalización\n",
        "\n",
        "Vamos a quitar todas las tildes y llevar todas las letras a minúsculas, de tal manera que no pueda haber diferencias entre la palabra con tílde o sin ella o si tiene una letra en mayus. o en minus.\n",
        "Además vamos a eliminar todos los signos de puntuación y espacios dobles."
      ]
    },
    {
      "cell_type": "code",
      "metadata": {
        "colab": {
          "base_uri": "https://localhost:8080/",
          "height": 88
        },
        "id": "Vu9U9TYMOcvL",
        "outputId": "7ba1beb2-a4a7-46dc-b5cf-513b5286c1e4"
      },
      "source": [
        "example = data.overview[0]\n",
        "example"
      ],
      "execution_count": 83,
      "outputs": [
        {
          "output_type": "execute_result",
          "data": {
            "application/vnd.google.colaboratory.intrinsic+json": {
              "type": "string"
            },
            "text/plain": [
              "'La princesa Leia, líder del movimiento rebelde que desea reinstaurar la República en la galaxia en los tiempos ominosos del Imperio, es capturada por las malévolas Fuerzas Imperiales, capitaneadas por el implacable Darth Vader, el sirviente más fiel del emperador. El intrépido Luke Skywalker, ayudado por Han Solo, capitán de la nave espacial \"El Halcón Milenario\", y los androides, R2D2 y C3PO, serán los encargados de luchar contra el enemigo y rescatar a la princesa para volver a instaurar la justicia en el seno de la Galaxia.'"
            ]
          },
          "metadata": {
            "tags": []
          },
          "execution_count": 83
        }
      ]
    },
    {
      "cell_type": "code",
      "metadata": {
        "id": "qpbdZ14tM6mE"
      },
      "source": [
        "def normalize(x):\n",
        "  x = x.lower()\n",
        "  replacements = (\n",
        "      (\"á\", \"a\"),\n",
        "      (\"é\", \"e\"),\n",
        "      (\"í\", \"i\"),\n",
        "      (\"ó\", \"o\"),\n",
        "      (\"ú\", \"u\"),\n",
        "      (\"ñ\", \"n\")\n",
        "  )\n",
        "  for a, b in replacements:\n",
        "      x = x.replace(a, b)\n",
        "\n",
        "  x = x.translate(str.maketrans('','',string.punctuation))\n",
        "  x = x.translate(str.maketrans('','','ªº¡¿'))    \n",
        "  x = x.replace(\"  \", \" \")\n",
        "  return x"
      ],
      "execution_count": 84,
      "outputs": []
    },
    {
      "cell_type": "code",
      "metadata": {
        "colab": {
          "base_uri": "https://localhost:8080/",
          "height": 88
        },
        "id": "PK40q_obPGwz",
        "outputId": "df1e4419-8bcf-46c1-f40d-e2be5be62287"
      },
      "source": [
        "normalize(example)"
      ],
      "execution_count": 85,
      "outputs": [
        {
          "output_type": "execute_result",
          "data": {
            "application/vnd.google.colaboratory.intrinsic+json": {
              "type": "string"
            },
            "text/plain": [
              "'la princesa leia lider del movimiento rebelde que desea reinstaurar la republica en la galaxia en los tiempos ominosos del imperio es capturada por las malevolas fuerzas imperiales capitaneadas por el implacable darth vader el sirviente mas fiel del emperador el intrepido luke skywalker ayudado por han solo capitan de la nave espacial el halcon milenario y los androides r2d2 y c3po seran los encargados de luchar contra el enemigo y rescatar a la princesa para volver a instaurar la justicia en el seno de la galaxia'"
            ]
          },
          "metadata": {
            "tags": []
          },
          "execution_count": 85
        }
      ]
    },
    {
      "cell_type": "markdown",
      "metadata": {
        "id": "DDyO_89iiUPj"
      },
      "source": [
        "### Spell Checker\n",
        "\n",
        "La alternativa sería usar un corrector ortográfico o bien implementado por tí o usando una librería de las que hay disponibles.\n",
        "\n",
        "Los correctores ortográficos funcionan comparando cada una de las palabras contra las palabras del diccionario. Se calcula la distancia de **Levenshtein** respecto a las del diccionario y se selecciona aquella que tenga una distancia menor o 0 en el caso de ser una palabra correcta que está en el diccionario.\n",
        "\n",
        "Esto computacionalmente es muy costoso de aplicar a todas las palabras de cada sinopsis por lo tanto se descarta en nuestra aplicación. Asumimos que el porcentaje de palabras mal escritas será muy bajo. Además puedes tener una palabra mal escrita que también exista en el diccionario y no estaríamos ganando nada o encontrarte un nombre propio y que te lo sustituya. También es complicado asignar cual es la palabra correcta si hay varias posibles.\n",
        "\n",
        "https://github.com/barrust/pyspellchecker\n",
        "\n",
        "https://en.wikipedia.org/wiki/Levenshtein_distance"
      ]
    },
    {
      "cell_type": "code",
      "metadata": {
        "colab": {
          "base_uri": "https://localhost:8080/"
        },
        "id": "pOetEoVzf-nP",
        "outputId": "cf4c5b3c-0eb9-40f3-ca63-77c5f3686363"
      },
      "source": [
        "%pip install pyspellchecker"
      ],
      "execution_count": 86,
      "outputs": [
        {
          "output_type": "stream",
          "text": [
            "Requirement already satisfied: pyspellchecker in /usr/local/lib/python3.7/dist-packages (0.6.1)\n"
          ],
          "name": "stdout"
        }
      ]
    },
    {
      "cell_type": "code",
      "metadata": {
        "id": "08oQCAarhDB-",
        "colab": {
          "base_uri": "https://localhost:8080/"
        },
        "outputId": "d612872f-1648-4d88-fdb2-73d90a2bb07f"
      },
      "source": [
        "from spellchecker import SpellChecker\n",
        "\n",
        "spell = SpellChecker(language='es')\n",
        "\n",
        "# find those words that may be misspelled\n",
        "misspelled = spell.unknown(['Mi', 'rvaca', 'se', 'gllama', 'Paca'])\n",
        "\n",
        "for word in misspelled:\n",
        "  # Get the one `most likely` answer\n",
        "  print(spell.correction(word))\n",
        "\n",
        "  # Get a list of `likely` options\n",
        "  print(spell.candidates(word))"
      ],
      "execution_count": 87,
      "outputs": [
        {
          "output_type": "stream",
          "text": [
            "llama\n",
            "{'illama', 'llama'}\n",
            "vaca\n",
            "{'vaca'}\n"
          ],
          "name": "stdout"
        }
      ]
    },
    {
      "cell_type": "markdown",
      "metadata": {
        "id": "Y2e4UYG2keIq"
      },
      "source": [
        "## StopWords (Palabras vacías)\n",
        "\n",
        "Este es el nombre que reciben las palabras que carecen de significado, como artíículos, pronombres, preposiciones... que nos interesa filtrar antes del tratamiento de nuestras sinopsis. Son palabras que no van a aportar nada al modelo y únicamente funcionarían como ruido. No existe una lista definitiva de stopwords del español y cada problema puede tener la suya propia. En nuestro caso la nuestra la cargamos mediante un '.txt' que contiene aquellas que suelen ser consideradas palabras vacías en la mayor parte de las ocasiones y la aplicaremos la funcion de normalización vista antes.\n",
        "\n",
        "Para sacar estas stopwords comparamos todas las palabras de nuestra frase contra las de la lista y si coincide con alguna la sacamos.\n",
        "\n",
        "Podemos ver con un ejemplo como se nos hace practiamente indiferente en terminos de significado el leer una oración con o sin estas palabras vacías:\n",
        "\n",
        "***La princesa Leia, líder del movimiento rebelde que desea reinstaurar la República en la galaxia en los tiempos ominosos del Imperio.***\n",
        "\n",
        "***princesa leia lider movimiento rebelde desea reinstaurar republica galaxia tiempos ominosos imperio.***\n",
        "\n",
        "Con esta técnica conseguimos reducir el tamaño de las sinopsis y del diccionario final en consecuencia.\n",
        "\n",
        "https://es.wikipedia.org/wiki/Palabra_vac%C3%ADa\n"
      ]
    },
    {
      "cell_type": "code",
      "metadata": {
        "id": "jRNDUofZmE_O"
      },
      "source": [
        "stop_words = pd.read_csv(\"gdrive/My Drive/TFG/stopwords-es.txt\",header=None)\n",
        "stop_words = stop_words[0].tolist()\n",
        "stop_words = [normalize(word) for word in stop_words]\n",
        "\n",
        "def delete_stop_words(x):\n",
        "  words = x.split(' ')\n",
        "  words = [word for word in words if word not in stop_words]\n",
        "  x = str(' '.join(words))\n",
        "  return x"
      ],
      "execution_count": 88,
      "outputs": []
    },
    {
      "cell_type": "code",
      "metadata": {
        "colab": {
          "base_uri": "https://localhost:8080/",
          "height": 88
        },
        "id": "66dAf-LnnWuJ",
        "outputId": "ef3e69d9-b190-4250-9a7f-a68e68b5148b"
      },
      "source": [
        "example"
      ],
      "execution_count": 89,
      "outputs": [
        {
          "output_type": "execute_result",
          "data": {
            "application/vnd.google.colaboratory.intrinsic+json": {
              "type": "string"
            },
            "text/plain": [
              "'La princesa Leia, líder del movimiento rebelde que desea reinstaurar la República en la galaxia en los tiempos ominosos del Imperio, es capturada por las malévolas Fuerzas Imperiales, capitaneadas por el implacable Darth Vader, el sirviente más fiel del emperador. El intrépido Luke Skywalker, ayudado por Han Solo, capitán de la nave espacial \"El Halcón Milenario\", y los androides, R2D2 y C3PO, serán los encargados de luchar contra el enemigo y rescatar a la princesa para volver a instaurar la justicia en el seno de la Galaxia.'"
            ]
          },
          "metadata": {
            "tags": []
          },
          "execution_count": 89
        }
      ]
    },
    {
      "cell_type": "code",
      "metadata": {
        "colab": {
          "base_uri": "https://localhost:8080/",
          "height": 71
        },
        "id": "e6uaE5o5mJRl",
        "outputId": "634f2c4d-f326-4418-80e3-c92a0b4de444"
      },
      "source": [
        "delete_stop_words(normalize(example))"
      ],
      "execution_count": 90,
      "outputs": [
        {
          "output_type": "execute_result",
          "data": {
            "application/vnd.google.colaboratory.intrinsic+json": {
              "type": "string"
            },
            "text/plain": [
              "'princesa leia lider movimiento rebelde desea reinstaurar republica galaxia tiempos ominosos imperio capturada malevolas fuerzas imperiales capitaneadas implacable darth vader sirviente fiel emperador intrepido luke skywalker ayudado capitan nave espacial halcon milenario androides r2d2 c3po encargados luchar enemigo rescatar princesa volver instaurar justicia seno galaxia'"
            ]
          },
          "metadata": {
            "tags": []
          },
          "execution_count": 90
        }
      ]
    },
    {
      "cell_type": "markdown",
      "metadata": {
        "id": "y9cwr4hopTwg"
      },
      "source": [
        "## Stemming\n",
        "\n",
        "La forma en la que aparecen las palabras puede penalizar la frecuencia de estas, de tal manera que palabras de la misma familia semántica (caballo, caballería, caballos...) sean consideradas como totalmente diferentes por nuestros modelos, cuando realmente comparten significado, y acaban dotándolas de una importancia menor de la que podrían tener. Lo que tenemos que tratar es de llevar todas estas palabras a una forma única para que nuestros algoritmos les den un peso más próximo a la realidad.\n",
        "\n",
        "La primera técnica que vamos a ver se conoce como Stemming. Esta técnica consiste en llevar una palabra a su raíz, esta raíz no tiene por qué pertenecer al diccionario, y se logra tras quitar los morfemas (prefijos y sufijos) de la palabra derivada. El resultado no es el más preciso ya que no se basa en ningún tipo de regla lingüística para quitar estos morfemas, pero en la mayoría de casos suele ser suficiente para mapear palabras de la misma familia a la misma raiz. Computacionalmente es mucho menos costoso y más simple que la alternativa que veremos a continuación, por lo tanto la técnica elegida para nuestro problema es esta, lo que nostros buscamos es velocidad en el procesado.\n",
        "\n",
        "https://en.wikipedia.org/wiki/Stemming\n",
        "\n",
        "Existen diferentes algoritmos para lograr el stemming, el más conocido es el algoritmo de Porter. Nosotros vamos a aplicar un stemmer implementado dentro de la librería NLTK llamado SnowballStemmer, el funcionanmiento e implementación es muy similar al de Porter pero es bastante más agresivo y preciso.\n",
        "\n",
        "El algoritmo de Porter fue desarrolado por un informático britanico llamado Martin F. Porter en el año 1979 como parte de un proyecto mayor de recuperación de información. El idioma original es el inglés y la mayoría de la literatura y códigos los encontramos para este idioma, por lo tanto vamos a explicar la implementación del algoritmo para el inglés y no el español, para nuestra lengua habría que considerar cambios en los apartados de las condiciones de la implementación, pero a rasgos generales vamos a alcanzar a entender el algoritmo de igual manera. \n",
        "\n",
        "(Explicación detallada del algoritmo) https://vijinimallawaarachchi.com/2017/05/09/porter-stemming-algorithm/\n",
        "\n",
        "(Explicación Snowball Español) https://snowballstem.org/algorithms/spanish/stemmer.html\n",
        "\n",
        "Vamos a ver un ejemplo de como quedaría esta frase tras aplicar el stemming:\n",
        "\n",
        "\"Aquel es un **caballo** de la **caballería** militar, los otros **caballos** no\"\n",
        "\n",
        "\"aquel es un **caball** de la **caball** milit , los otros **caball** no\"\n",
        "\n",
        "\n",
        "\n",
        "---\n",
        "\n",
        "\n",
        "https://tartarus.org/martin/PorterStemmer/\n",
        "\n",
        "https://www.geeksforgeeks.org/snowball-stemmer-nlp/\n"
      ]
    },
    {
      "cell_type": "code",
      "metadata": {
        "id": "mezHH2hcqzv0"
      },
      "source": [
        "from nltk import word_tokenize\n",
        "from nltk.stem import SnowballStemmer\n",
        "\n",
        "stemmer = SnowballStemmer(\"spanish\", ignore_stopwords=True)\n",
        "\n",
        "def stem_sentence(sentence):\n",
        "  stemmed_text = [stemmer.stem(word) for word in word_tokenize(sentence)]\n",
        "  return \" \".join(stemmed_text)"
      ],
      "execution_count": 91,
      "outputs": []
    },
    {
      "cell_type": "code",
      "metadata": {
        "colab": {
          "base_uri": "https://localhost:8080/",
          "height": 53
        },
        "id": "8fuvI2-esjLm",
        "outputId": "fa7359a3-9cf9-422c-afb3-73959f5ffb5a"
      },
      "source": [
        "stem_sentence(delete_stop_words(normalize(example)))"
      ],
      "execution_count": 92,
      "outputs": [
        {
          "output_type": "execute_result",
          "data": {
            "application/vnd.google.colaboratory.intrinsic+json": {
              "type": "string"
            },
            "text/plain": [
              "'princes lei lid movimient rebeld dese reinstaur republ galaxi tiemp omin imperi captur malevol fuerz imperial capitan implac darth vad sirvient fiel emper intrep luk skywalk ayud capit nav espacial halcon milenari android r2d2 c3po encarg luch enemig rescat princes volv instaur justici sen galaxi'"
            ]
          },
          "metadata": {
            "tags": []
          },
          "execution_count": 92
        }
      ]
    },
    {
      "cell_type": "code",
      "metadata": {
        "colab": {
          "base_uri": "https://localhost:8080/",
          "height": 36
        },
        "id": "rDuGy183vxgi",
        "outputId": "e5e2644f-c14e-48c5-ac74-d3347db3966b"
      },
      "source": [
        "stem_sentence(\"Aquel es un caballo de la caballería militar, los otros caballos no\")"
      ],
      "execution_count": 93,
      "outputs": [
        {
          "output_type": "execute_result",
          "data": {
            "application/vnd.google.colaboratory.intrinsic+json": {
              "type": "string"
            },
            "text/plain": [
              "'aquel es un caball de la caball milit , los otros caball no'"
            ]
          },
          "metadata": {
            "tags": []
          },
          "execution_count": 93
        }
      ]
    },
    {
      "cell_type": "markdown",
      "metadata": {
        "id": "zeSI-Km-FdT2"
      },
      "source": [
        "## Lemmatization\n",
        "\n",
        "Con esta técnica lo que logramos es llevar cada palabra a su lema, el lema es la forma básica de la palabra que encontraríamos como entrada en el diccionario (a diferencia del stemming), el lema representa a todas las demás palabras flexionadas (palabras alteradas mediante morfemas), por ejemplo, decir sería el lema de dije, pero también de diré o dijéramos. En este caso tras aplicar la técnica pasaríamos de tener tres palabras distintas en nuestro vocabulario a solo una, justo lo que queremos conseguir. Para aplicar este método necesitaríamos tener mapeadas todas las palabras con su respectivo lema y luego poder realizar esta transformación para todas las palabras de cada sinopsis, lo que requiere un tiempo de computación bastante elevado, además de que siempre van a quedar palabras residuales que no tengamos almacenada y se nos escapen. En nuestro caso hemos usado los lemmas de una librería llamada spacy que como podemos comprobar con el siguiente ejemplo no muestra resultados muy positivos, unicamente consigue llevarnos al lema 2 de las 3 palabras.\n",
        "\n",
        "\"Aquel es un **caballo** de la **caballería** militar, los otros **caballos** no\"\n",
        "\n",
        "\"Aquel ser uno **caballo** de lo **caballería** militar , lo otro **caballo** no\"\n",
        "\n",
        "Lo ideal es aplicar ambos métodos para cubrir aquellos casos en los que el stemming puede fallar o aquellas palabras que no tengamos mapeadas en la lematización. Primero se aplicaría la Lemmatization y a continuación el Stemming. El resultado para el ejemplo sería este:\n",
        "\n",
        "\"aquel es un **caball** de la **caball** milit , los otros **caball** no\"\n",
        "\n",
        "\n",
        "https://www.datacamp.com/community/tutorials/stemming-lemmatization-python"
      ]
    },
    {
      "cell_type": "code",
      "metadata": {
        "id": "6zWSYv_9Lg8i"
      },
      "source": [
        "import spacy\n",
        "\n",
        "nlp = spacy.load('es_core_news_sm')\n",
        "\n",
        "def lemmatize_sentece(sentence):  \n",
        "  doc = nlp(sentence)\n",
        "  return ' '.join([word.lemma_ for word in doc])"
      ],
      "execution_count": 94,
      "outputs": []
    },
    {
      "cell_type": "code",
      "metadata": {
        "colab": {
          "base_uri": "https://localhost:8080/",
          "height": 36
        },
        "id": "9M3mQUFCWQ6X",
        "outputId": "d331c3af-66df-4023-9503-8d84fb1d7ab9"
      },
      "source": [
        "lemmatize_sentece(\"Aquel es un caballo de la caballería militar, los otros caballos no\")"
      ],
      "execution_count": 95,
      "outputs": [
        {
          "output_type": "execute_result",
          "data": {
            "application/vnd.google.colaboratory.intrinsic+json": {
              "type": "string"
            },
            "text/plain": [
              "'Aquel ser uno caballo de lo caballería militar , lo otro caballo no'"
            ]
          },
          "metadata": {
            "tags": []
          },
          "execution_count": 95
        }
      ]
    },
    {
      "cell_type": "code",
      "metadata": {
        "colab": {
          "base_uri": "https://localhost:8080/",
          "height": 88
        },
        "id": "9l7Nzz9SWbfN",
        "outputId": "954d5fc2-882f-44d2-a569-9385abcd9f48"
      },
      "source": [
        "lemmatize_sentece(example)"
      ],
      "execution_count": 96,
      "outputs": [
        {
          "output_type": "execute_result",
          "data": {
            "application/vnd.google.colaboratory.intrinsic+json": {
              "type": "string"
            },
            "text/plain": [
              "'La princesa Leia , líder del movimiento rebelde que desear reinstaurar lo República en lo galaxia en lo tiempo ominoso del Imperio , ser capturar por los malévolo Fuerzas Imperiales , capitanear por el implacable Darth Vader , el sirviente más fiel del emperador . El intrépido Luke Skywalker , ayudar por Han Solo , capitán de lo nave espacial \" El Halcón Milenario \" , y lo androide , R2D2 y C3PO , ser lo encargar de luchar contra el enemigo y rescatar a lo princesa parir volver a instaurar lo justicia en el seno de lo Galaxia .'"
            ]
          },
          "metadata": {
            "tags": []
          },
          "execution_count": 96
        }
      ]
    },
    {
      "cell_type": "code",
      "metadata": {
        "colab": {
          "base_uri": "https://localhost:8080/",
          "height": 36
        },
        "id": "dNqGhf6R1fmt",
        "outputId": "d529c37a-59c0-4893-95fe-8dbb574f997c"
      },
      "source": [
        "stem_sentence(lemmatize_sentece(\"Aquel es un caballo de la caballería militar, los otros caballos no\"))"
      ],
      "execution_count": 97,
      "outputs": [
        {
          "output_type": "execute_result",
          "data": {
            "application/vnd.google.colaboratory.intrinsic+json": {
              "type": "string"
            },
            "text/plain": [
              "'aquel ser uno caball de lo caball milit , lo otro caball no'"
            ]
          },
          "metadata": {
            "tags": []
          },
          "execution_count": 97
        }
      ]
    },
    {
      "cell_type": "code",
      "metadata": {
        "colab": {
          "base_uri": "https://localhost:8080/",
          "height": 36
        },
        "id": "H7K4ZpYa1xeG",
        "outputId": "31ec765d-0682-4a0a-8a37-29b5e461e0a5"
      },
      "source": [
        "stem_sentence(\"Aquel es un caballo de la caballería militar, los otros caballos no\")"
      ],
      "execution_count": 98,
      "outputs": [
        {
          "output_type": "execute_result",
          "data": {
            "application/vnd.google.colaboratory.intrinsic+json": {
              "type": "string"
            },
            "text/plain": [
              "'aquel es un caball de la caball milit , los otros caball no'"
            ]
          },
          "metadata": {
            "tags": []
          },
          "execution_count": 98
        }
      ]
    },
    {
      "cell_type": "markdown",
      "metadata": {
        "id": "zkg7UpnO3K3J"
      },
      "source": [
        "## Text Augmentation\n",
        "\n",
        "Un problema al que nos enfrentamos al entrenar redes neuronales es a la cantidad de datos de las que disponemos, estos modelos demandan una cantidad enorme de datos y suelen lograr mejores resultados cuanto mayor sea esta, muchas veces no disponemos de tantos datos de entrenamiento como nos gustaría. Es aquí donde entra en juego el data augmentation (aumento de datos) en nuestro caso al tratarse de texto se le llama \"Text Augmentation\". Lo que tratamos con ello es de crear textos sintéticos que se parezcan a nuestros textos iniciales y que ayuden a afianzar conocimiento a nuestros modelos. Existen multiples métodos para conseguir este aumento de textos, vamos a repasar unos cuantos y veremos cual es la mejor elección. Hay que tener en cuenta que este text augmentation únicamente ha de aplicarse al train. \n",
        "\n",
        "https://towardsdatascience.com/data-augmentation-in-nlp-2801a34dfc28\n",
        "\n",
        "https://neptune.ai/blog/data-augmentation-nlp\n",
        "\n",
        "https://towardsdatascience.com/data-augmentation-library-for-text-9661736b13ff\n",
        "\n",
        "https://github.com/makcedward/nlpaug"
      ]
    },
    {
      "cell_type": "markdown",
      "metadata": {
        "id": "fDUMoGNj7MAS"
      },
      "source": [
        "### Sinónimos\n",
        "\n",
        "Este es el método más sencillo y seguramente el más usado, básicamente consiste en reemplazar n palabras del texto que no sean stopwords por sus respectivos sinónimos. Necesitas tener un diccionario de sinónimos almacenado o usar alguna librería que disponga de la implementación. La mayor limitación de esta técnica es que no todas las palabras tienen un sinónimo. Vamos a usar una librería llamada nlpaug para tratar un ejemplo, únicamente le indicamos que nos cambie una palabra. \n",
        "\n",
        "\n",
        "---\n",
        "\n",
        "\n",
        "Un niño pequeño juega con una **pelota** redonda en el parque\n",
        "\n",
        "Un niño pequeño juega con una **balón** redonda en el parque"
      ]
    },
    {
      "cell_type": "code",
      "metadata": {
        "colab": {
          "base_uri": "https://localhost:8080/"
        },
        "id": "n9hSbdx9ZHvE",
        "outputId": "c211ed35-f1ac-49ba-a9de-dcbb26bc8aa3"
      },
      "source": [
        "%pip install nlpaug"
      ],
      "execution_count": 99,
      "outputs": [
        {
          "output_type": "stream",
          "text": [
            "Requirement already satisfied: nlpaug in /usr/local/lib/python3.7/dist-packages (1.1.3)\n"
          ],
          "name": "stdout"
        }
      ]
    },
    {
      "cell_type": "code",
      "metadata": {
        "id": "lV4dkmrNZPDU"
      },
      "source": [
        "%pip install torch>=1.6.0 transformers>=4.0.0"
      ],
      "execution_count": 100,
      "outputs": []
    },
    {
      "cell_type": "code",
      "metadata": {
        "id": "2r2cAKG4Zdk3"
      },
      "source": [
        "import nlpaug.augmenter.char as nac\n",
        "import nlpaug.augmenter.word as naw\n",
        "import nlpaug.augmenter.sentence as nas\n",
        "import nlpaug.flow as naf\n",
        "from nlpaug.augmenter.word import WordAugmenter\n",
        "\n",
        "from nlpaug.util import Action"
      ],
      "execution_count": 101,
      "outputs": []
    },
    {
      "cell_type": "code",
      "metadata": {
        "id": "SmgCihOiZnvY",
        "colab": {
          "base_uri": "https://localhost:8080/"
        },
        "outputId": "18799ebe-309e-4ee5-e635-4733f5595568"
      },
      "source": [
        "aug = naw.SynonymAug(aug_src='wordnet', lang='spa', aug_min=5, aug_max=20, stopwords=stop_words)\n",
        "augmented_text = aug.augment('Un niño pequeño juega con una pelota redonda en el parque', n=1)\n",
        "print(\"Original:\")\n",
        "print('Un niño pequeño juega con una pelota redonda en el parque')\n",
        "print(\"Augmented Text:\")\n",
        "print(augmented_text)"
      ],
      "execution_count": 102,
      "outputs": [
        {
          "output_type": "stream",
          "text": [
            "Original:\n",
            "Un niño pequeño juega con una pelota redonda en el parque\n",
            "Augmented Text:\n",
            "Un alevín escaso juega con una pelota redonda en el parque para bebés\n"
          ],
          "name": "stdout"
        }
      ]
    },
    {
      "cell_type": "code",
      "metadata": {
        "colab": {
          "base_uri": "https://localhost:8080/"
        },
        "id": "NjchemD-9fZ_",
        "outputId": "c35f0f74-b172-4333-aee6-f02391d38731"
      },
      "source": [
        "augmented_text = aug.augment(example, n=1)\n",
        "print(\"Original:\")\n",
        "print(example)\n",
        "print(\"Augmented Text:\")\n",
        "print(augmented_text)"
      ],
      "execution_count": 103,
      "outputs": [
        {
          "output_type": "stream",
          "text": [
            "Original:\n",
            "La princesa Leia, líder del movimiento rebelde que desea reinstaurar la República en la galaxia en los tiempos ominosos del Imperio, es capturada por las malévolas Fuerzas Imperiales, capitaneadas por el implacable Darth Vader, el sirviente más fiel del emperador. El intrépido Luke Skywalker, ayudado por Han Solo, capitán de la nave espacial \"El Halcón Milenario\", y los androides, R2D2 y C3PO, serán los encargados de luchar contra el enemigo y rescatar a la princesa para volver a instaurar la justicia en el seno de la Galaxia.\n",
            "Augmented Text:\n",
            "La princesa Leia, líder del agitación rebelde que desea reinstaurar la República en la galaxia en los tiempos ominosos del Imperio, es capturada por las malévolas Fuerzas Imperiales, capitaneadas por el implacable Darth Vader, el sirviente más fiel del emperador. El intrépido Luke Skywalker, ayudado por Han Solo, capitán de la nave espacial \" El Halcón Milenario \", y los androides, R2D2 y C3PO, serán los encargados de luchar contra el enemigo y rescatar a la princesa real para volver a instaurar la justicia en el estrujar de la Galaxia.\n"
          ],
          "name": "stdout"
        }
      ]
    },
    {
      "cell_type": "markdown",
      "metadata": {
        "id": "A1Yj6Zb7-jVU"
      },
      "source": [
        "### Back translation\n",
        "\n",
        "En esta técnica como su propio nombre indica lo fundamental es la traducción. Consiste en traduccir el texto inicial a un idioma cualquiera y volverlo a traduccir al idioma de origen. Con esto conseguimos algo similiar a el caso de los sinónimos pero nos aprovechamos de las tecnologías y APIs de traducción (Google Translate, Bing, Yandex) para dotar de mayor coherencia a estos nuevos textos. También pueden introducir variaciones en el orden de las palabras que enriquecen a nuestro modelo. El problema de este método viene de las limitaciones que imponen estas APIs y que en la mayoría de casos te hacen pasar por caja. Vamos a usar una libería llamada translators para usar estas APIs.\n",
        "\n",
        "El texto generado a partir de nuestro ejemplo pasando por el japonés sería el siguiente:\n",
        "\n",
        "\n",
        "---\n",
        "\n",
        "\n",
        "Un niño pequeño juega con una pelota redonda en el parque\n",
        "\n",
        "Niño jugando con bola redonda en el parque\n",
        "\n",
        "https://github.com/uliontse/translators\n",
        "\n",
        "https://arxiv.org/pdf/1511.06709.pdf"
      ]
    },
    {
      "cell_type": "code",
      "metadata": {
        "colab": {
          "base_uri": "https://localhost:8080/"
        },
        "id": "-yRv2CHOAMTa",
        "outputId": "9fe8d982-2529-4ff1-8a4e-cc8ec3935a9b"
      },
      "source": [
        "!pip install translators"
      ],
      "execution_count": 104,
      "outputs": [
        {
          "output_type": "stream",
          "text": [
            "Requirement already satisfied: translators in /usr/local/lib/python3.7/dist-packages (4.7.16)\n",
            "Requirement already satisfied: requests>=2.23.0 in /usr/local/lib/python3.7/dist-packages (from translators) (2.23.0)\n",
            "Requirement already satisfied: loguru>=0.4.1 in /usr/local/lib/python3.7/dist-packages (from translators) (0.5.3)\n",
            "Requirement already satisfied: PyExecJS>=1.5.1 in /usr/local/lib/python3.7/dist-packages (from translators) (1.5.1)\n",
            "Requirement already satisfied: lxml>=4.5.0 in /usr/local/lib/python3.7/dist-packages (from translators) (4.6.3)\n",
            "Requirement already satisfied: certifi>=2017.4.17 in /usr/local/lib/python3.7/dist-packages (from requests>=2.23.0->translators) (2020.12.5)\n",
            "Requirement already satisfied: chardet<4,>=3.0.2 in /usr/local/lib/python3.7/dist-packages (from requests>=2.23.0->translators) (3.0.4)\n",
            "Requirement already satisfied: urllib3!=1.25.0,!=1.25.1,<1.26,>=1.21.1 in /usr/local/lib/python3.7/dist-packages (from requests>=2.23.0->translators) (1.24.3)\n",
            "Requirement already satisfied: idna<3,>=2.5 in /usr/local/lib/python3.7/dist-packages (from requests>=2.23.0->translators) (2.10)\n",
            "Requirement already satisfied: six>=1.10.0 in /usr/local/lib/python3.7/dist-packages (from PyExecJS>=1.5.1->translators) (1.15.0)\n"
          ],
          "name": "stdout"
        }
      ]
    },
    {
      "cell_type": "code",
      "metadata": {
        "id": "jGkyS2XKAHXt"
      },
      "source": [
        "import translators as ts\n",
        "\n",
        "API = 'bing'\n",
        "\n",
        "def translator_constructor(api):\n",
        "    if api == 'google':\n",
        "        return ts.google\n",
        "    elif api == 'bing':\n",
        "        return ts.bing\n",
        "    elif api == 'baidu':\n",
        "        return ts.baidu\n",
        "    elif api == 'sogou':\n",
        "        return ts.sogou\n",
        "    elif api == 'youdao':\n",
        "        return ts.youdao\n",
        "    elif api == 'tencent':\n",
        "        return ts.tencent\n",
        "    elif api == 'alibaba':\n",
        "        return ts.alibaba\n",
        "    elif api == 'yandex':\n",
        "        return ts.yandex\n",
        "    else:\n",
        "        raise NotImplementedError(f'{api} translator is not realised!')\n",
        "\n",
        "translator = translator_constructor(API)\n",
        "\n",
        "def translate(x, lang='en'):\n",
        "    try:\n",
        "        return translator(x, 'es', lang)\n",
        "    except:\n",
        "        print('KO')\n",
        "        time.sleep(60)\n",
        "        return translate(x, lang='en')\n",
        "\n",
        "def back_translate(x, lang='en'):\n",
        "    try:\n",
        "        return translator(x, lang, 'es')\n",
        "    except:\n",
        "        print('KO')\n",
        "        time.sleep(60)\n",
        "        return translator(x, lang, 'es')\n",
        "\n",
        "def translate_substitution(x, lang='en'):\n",
        "  t = translate(x, lang)\n",
        "  b = back_translate(t, lang)\n",
        "  return b"
      ],
      "execution_count": 105,
      "outputs": []
    },
    {
      "cell_type": "code",
      "metadata": {
        "colab": {
          "base_uri": "https://localhost:8080/",
          "height": 36
        },
        "id": "eLJorzzjugR8",
        "outputId": "50f187bf-35c5-43b8-c69a-ed0b3be7129c"
      },
      "source": [
        "lang='ru'\n",
        "translate_substitution('Un niño pequeño juega con una pelota redonda en el parque', lang=lang)"
      ],
      "execution_count": 106,
      "outputs": [
        {
          "output_type": "execute_result",
          "data": {
            "application/vnd.google.colaboratory.intrinsic+json": {
              "type": "string"
            },
            "text/plain": [
              "'Niño juega con bola redonda en el parque'"
            ]
          },
          "metadata": {
            "tags": []
          },
          "execution_count": 106
        }
      ]
    },
    {
      "cell_type": "code",
      "metadata": {
        "colab": {
          "base_uri": "https://localhost:8080/",
          "height": 88
        },
        "id": "51KqpYXnZjS9",
        "outputId": "08ad21f8-b657-466b-aaa9-84594c020af7"
      },
      "source": [
        "example"
      ],
      "execution_count": 107,
      "outputs": [
        {
          "output_type": "execute_result",
          "data": {
            "application/vnd.google.colaboratory.intrinsic+json": {
              "type": "string"
            },
            "text/plain": [
              "'La princesa Leia, líder del movimiento rebelde que desea reinstaurar la República en la galaxia en los tiempos ominosos del Imperio, es capturada por las malévolas Fuerzas Imperiales, capitaneadas por el implacable Darth Vader, el sirviente más fiel del emperador. El intrépido Luke Skywalker, ayudado por Han Solo, capitán de la nave espacial \"El Halcón Milenario\", y los androides, R2D2 y C3PO, serán los encargados de luchar contra el enemigo y rescatar a la princesa para volver a instaurar la justicia en el seno de la Galaxia.'"
            ]
          },
          "metadata": {
            "tags": []
          },
          "execution_count": 107
        }
      ]
    },
    {
      "cell_type": "code",
      "metadata": {
        "colab": {
          "base_uri": "https://localhost:8080/",
          "height": 88
        },
        "id": "V-NaCeaWJIPP",
        "outputId": "97d9e9f2-e922-40ea-c51e-aab403d0929e"
      },
      "source": [
        "translate_substitution(example, lang=lang)"
      ],
      "execution_count": 108,
      "outputs": [
        {
          "output_type": "execute_result",
          "data": {
            "application/vnd.google.colaboratory.intrinsic+json": {
              "type": "string"
            },
            "text/plain": [
              "'La princesa Leia, líder del movimiento rebelde, que quiere restaurar la República en la galaxia durante la época de la Omiosis del Imperio, es capturada por las fuerzas imperiales malvadas, capitaneadas por el implacable Darth Vader, el siervo más leal del emperador. El intrépido Luke Skywalker, respaldado por Han Solo, capitán de la nave espacial Halcón Milenario, y los androides, R2D2 y C3PO, serán responsables de luchar contra el enemigo y rescatar a la princesa para restaurar la justicia a la galaxia.'"
            ]
          },
          "metadata": {
            "tags": []
          },
          "execution_count": 108
        }
      ]
    },
    {
      "cell_type": "markdown",
      "metadata": {
        "id": "LDxUiqt_SLiy"
      },
      "source": [
        "### Word Embeddings\n",
        "\n",
        "Como hemos visto en el aparatado de codificación de textos, los word embeddings mapeaban las palabras sobre un espacio geométrico, de tal manera que las palabras similares se encontraban próximas entre sí, existe una distancia entre ellas que podemos medir. Con esta nueva técnica lo que vamos a hacer es cambiar n palabras de nuestra sentencia por sus palabras más cercanas en el embedding. Lo normal en este caso es utilizar un embedding pre-entrenado dónde buscar esta palabra más cercana. Veamos un ejemplo usando la librería nlpaug.\n",
        "\n",
        "https://towardsdatascience.com/data-augmentation-in-nlp-2801a34dfc28\n",
        "\n",
        "---\n",
        "\n",
        "Un niño pequeño juega con una pelota redonda en el parque\n",
        "\n",
        "Un niño monstruoso juega con una pelota redonda en el parquizó\n",
        "\n",
        "Como podemos ver debido a la alta cantidad de palabras con las que ha sido entrenado (no se comprueba sin son palabras bien escritas, de la lengua...) esta técnica realiza sustituciones un poco extrañas y difíciles de controlar.\n"
      ]
    },
    {
      "cell_type": "code",
      "metadata": {
        "id": "RxSQgukGJ9FX"
      },
      "source": [
        "# Embedding https://github.com/dccuchile/spanish-word-embeddings\n",
        "# https://fasttext.cc/docs/en/crawl-vectors.html\n",
        "\n",
        "model_dir = '/content/gdrive/MyDrive/TFG/'\n",
        "\n",
        "aug = naw.WordEmbsAug(\n",
        "    model_type='fasttext', model_path= model_dir + 'embeddings-m-model.vec', action=\"substitute\", aug_p=0.2, stopwords=stop_words)"
      ],
      "execution_count": 109,
      "outputs": []
    },
    {
      "cell_type": "code",
      "metadata": {
        "colab": {
          "base_uri": "https://localhost:8080/"
        },
        "id": "sTs6c4jU-P2O",
        "outputId": "8d7bc67f-75d2-49ff-df74-2a9effd031a9"
      },
      "source": [
        "augmented_text = aug.augment('Un niño pequeño juega con una pelota redonda en el parque')\n",
        "print(\"Original:\")\n",
        "print('Un niño pequeño juega con una pelota redonda en el parque')\n",
        "print(\"Augmented Text:\")\n",
        "print(augmented_text)"
      ],
      "execution_count": 110,
      "outputs": [
        {
          "output_type": "stream",
          "text": [
            "Original:\n",
            "Un niño pequeño juega con una pelota redonda en el parque\n",
            "Augmented Text:\n",
            "Un cachorrinho pequeño juega con una pelota redonda en el monumento\n"
          ],
          "name": "stdout"
        }
      ]
    },
    {
      "cell_type": "markdown",
      "metadata": {
        "id": "cR1gar-BWfgV"
      },
      "source": [
        "### Contextualized Word Embeddings\n",
        "Para solucionar el problema de los word embbedings tracionales, que comentamos anteriormente en el apartado de encoding, han surgido una nueva arquitectura de modelos bidireccionales que son capaces de tener en cuenta el contexto de las palabras. Para el caso de text augmentation, lo que podemos hacer es dejar que estos modelos nos cambien las palabras. Dada una palabra de nuestra frase es capaz de elegir un reemplazo adecuado para ella basándose en las que tiene alrededor.\n",
        "En concreto nostros vamos a dejar que BERT (uno de estos modelos bidireccionales) nos genere nuevos textos, para ello usaremos la misma librería que para los sinónimos \"nlpaug\".\n",
        "\n",
        "\n",
        "---\n",
        "\n",
        "Un niño pequeño juega con una pelota redonda en el parque\n",
        "\n",
        "Un hombre pequeño juega con una pelota colorada en el parque\n",
        "\n",
        "Nos devuelve algo con bastante más sentido que en el apartado anterior.\n",
        "\n"
      ]
    },
    {
      "cell_type": "code",
      "metadata": {
        "id": "DCptD1UAU5pG"
      },
      "source": [
        "# Cased acepta mayusculas y tildes, uncased no (para el aug lo único que varía es la salida)\n",
        "aug = naw.ContextualWordEmbsAug(model_path='bert-base-multilingual-cased', action=\"substitute\", aug_p=0.2, stopwords=stop_words)"
      ],
      "execution_count": 111,
      "outputs": []
    },
    {
      "cell_type": "code",
      "metadata": {
        "colab": {
          "base_uri": "https://localhost:8080/"
        },
        "id": "MmsLUz6qVPze",
        "outputId": "b7b6d394-cd3e-4795-88e5-ec8a2b545331"
      },
      "source": [
        "augmented_text = aug.augment('Un niño pequeño juega con una pelota redonda en el parque')\n",
        "print(\"Original:\")\n",
        "print('Un niño pequeño juega con una pelota redonda en el parque')\n",
        "print(\"Augmented Text:\")\n",
        "print(augmented_text)"
      ],
      "execution_count": 112,
      "outputs": [
        {
          "output_type": "stream",
          "text": [
            "Original:\n",
            "Un niño pequeño juega con una pelota redonda en el parque\n",
            "Augmented Text:\n",
            "Los niño estadounidense juega con una pelota redonda en el parque\n"
          ],
          "name": "stdout"
        }
      ]
    },
    {
      "cell_type": "markdown",
      "metadata": {
        "id": "c8C9WUefd7GF"
      },
      "source": [
        "### Generación de texto\n",
        "\n",
        "Existen modelos capaz de generar texto a partir de una frase dada. Aprende el contexto de la oración y empieza a generar texto. Muchos de estos textos tienen una coherencia asombrosa. Los dos modelos más conocidos son GPT-2 y XLnet. El problema es que tienen un funcionamiento muchísimo mejor y más fiable en inglés que en español.\n",
        "\n",
        "Nosotros los podemos usar de tal manera que dandole la introducción de una sinopsis dejar que el modelo nos la continue. Veamos un ejemplo con nlpaug.\n",
        "\n",
        "\n",
        "---\n",
        "\n",
        "Un niño pequeño juega con una pelota redonda en el parque\n",
        "\n",
        "Un niño pequeño juega con una pelota redonda en el parque . m - el w , - k re for and ir o n S , s on - , is u ( w on all G t - , t\n",
        "\n",
        "Como podemos ver, el texto que ha generado es totalmente aleatorio. Estos modelos son extremadamente grandes por lo que para usarlos necesitas una api externa, no puedes levantarlos en tu propia máquina.\n"
      ]
    },
    {
      "cell_type": "code",
      "metadata": {
        "id": "gdmbz8Ouhsny"
      },
      "source": [
        "# model_path: xlnet-base-cased, gpt2 or distilgpt2\n",
        "aug = nas.ContextualWordEmbsForSentenceAug(model_path='xlnet-base-cased', temperature=1, top_k=None)"
      ],
      "execution_count": 113,
      "outputs": []
    },
    {
      "cell_type": "code",
      "metadata": {
        "colab": {
          "base_uri": "https://localhost:8080/"
        },
        "id": "UXfWnEswg02H",
        "outputId": "5e5987c2-476e-4a4d-e76f-fab8257595d7"
      },
      "source": [
        "augmented_texts = aug.augment('The quick brown fox jumps over the lazy dog .')\n",
        "print(\"Original:\")\n",
        "print('The quick brown fox jumps over the lazy dog .')\n",
        "print(\"Augmented Texts:\")\n",
        "print(augmented_texts)"
      ],
      "execution_count": 114,
      "outputs": [
        {
          "output_type": "stream",
          "text": [
            "Original:\n",
            "The quick brown fox jumps over the lazy dog .\n",
            "Augmented Texts:\n",
            "The quick brown fox jumps over the lazy dog . An infectious split seconds presents herself unto Scott.\n"
          ],
          "name": "stdout"
        }
      ]
    },
    {
      "cell_type": "markdown",
      "metadata": {
        "id": "9vUCD6qqyGi3"
      },
      "source": [
        "### Propuesta\n",
        "\n",
        "Aplicar sustitución por sinónimos, traducción y aplicar word embedding contextual. Todos ellos de manera aleatoria."
      ]
    },
    {
      "cell_type": "code",
      "metadata": {
        "id": "1fvozHm_tJ0f"
      },
      "source": [
        "class CustomTranslateAug(WordAugmenter):\n",
        "    def __init__(self, name='CustomWord_Aug', aug_min=1, aug_max=10, \n",
        "                 aug_p=0.3, stopwords=None, tokenizer=None, reverse_tokenizer=None, \n",
        "                 device='cpu', verbose=0, stopwords_regex=None):\n",
        "        super(CustomTranslateAug, self).__init__(\n",
        "            action='substitute', name=name, aug_min=aug_min, aug_max=aug_max, \n",
        "                 aug_p=aug_p, stopwords=stopwords, tokenizer=tokenizer, reverse_tokenizer=reverse_tokenizer, \n",
        "                 device=device, verbose=0, stopwords_regex=stopwords_regex)\n",
        "        \n",
        "        self.model = self.get_model()\n",
        "\n",
        "    def substitute(self, data):\n",
        "        lang = 'zh'\n",
        "        return translate_substitution(data, lang=lang)\n",
        "    \n",
        "    def get_model(self):\n",
        "        return None"
      ],
      "execution_count": 115,
      "outputs": []
    },
    {
      "cell_type": "code",
      "metadata": {
        "colab": {
          "base_uri": "https://localhost:8080/",
          "height": 36
        },
        "id": "l1h1ol-NtrG-",
        "outputId": "b2735f0e-9360-4be3-cca0-e5045d329a22"
      },
      "source": [
        "aug = CustomTranslateAug()\n",
        "aug.augment('Un niño pequeño juega con una pelota redonda en el parque')"
      ],
      "execution_count": 116,
      "outputs": [
        {
          "output_type": "execute_result",
          "data": {
            "application/vnd.google.colaboratory.intrinsic+json": {
              "type": "string"
            },
            "text/plain": [
              "'Un niño pequeño juega a la pelota en el parque'"
            ]
          },
          "metadata": {
            "tags": []
          },
          "execution_count": 116
        }
      ]
    },
    {
      "cell_type": "code",
      "metadata": {
        "colab": {
          "base_uri": "https://localhost:8080/",
          "height": 88
        },
        "id": "KGW52QA02GlB",
        "outputId": "0ce00943-7deb-4d72-a425-0ce756f8634c"
      },
      "source": [
        "aug.augment(example)"
      ],
      "execution_count": 117,
      "outputs": [
        {
          "output_type": "execute_result",
          "data": {
            "application/vnd.google.colaboratory.intrinsic+json": {
              "type": "string"
            },
            "text/plain": [
              "'La princesa Leia, líder del movimiento rebelde, quería restaurar la República a la Vía Láctea durante el ominoso período del Imperio, pero fue capturada por el malvado Ejército Imperial, dirigido por Darth Vader, el siervo más fiel del emperador. El intrépido Luke Skytrot, con la ayuda de Han Solo, el capitán de la nave espacial Halcón Milenario, y los robots R2D2 y C3PO, serán responsables de luchar contra el enemigo, salvar a la princesa y restablecer la justicia en la galaxia.'"
            ]
          },
          "metadata": {
            "tags": []
          },
          "execution_count": 117
        }
      ]
    },
    {
      "cell_type": "code",
      "metadata": {
        "id": "mcX6fyJEq9m9"
      },
      "source": [
        "# En la documentación de Bert recomiendan este modelo \n",
        "# BERT-Base, Multilingual (Not recommended, use Multilingual Cased instead)\n",
        "\n",
        "\"\"\"\n",
        "    :param str aug_src: Support 'wordnet' and 'ppdb' .\n",
        "    :param str model_path: Path of dictionary. Mandatory field if using PPDB as data source\n",
        "    :param str lang: Language of your text. Default value is 'eng'.\n",
        "    :param float aug_p: Percentage of word will be augmented.\n",
        "    :param int aug_min: Minimum number of word will be augmented.\n",
        "    :param int aug_max: Maximum number of word will be augmented. If None is passed, number of augmentation is\n",
        "        calculated via aup_p. If calculated result from aug_p is smaller than aug_max, will use calculated result from\n",
        "        aug_p. Otherwise, using aug_max.\n",
        "    :param list stopwords: List of words which will be skipped from augment operation.\n",
        "    :param str stopwords_regex: Regular expression for matching words which will be skipped from augment operation.\n",
        "    :param func tokenizer: Customize tokenization process\n",
        "    :param func reverse_tokenizer: Customize reverse of tokenization process\n",
        "    :param bool force_reload: Force reload model to memory when initialize the class.\n",
        "        Default value is False and suggesting to keep it as False if performance is the consideration.\n",
        "    :param str name: Name of this augmenter\n",
        "    >>> import nlpaug.augmenter.word as naw\n",
        "    >>> aug = naw.SynonymAug()\n",
        "\"\"\"\n",
        "\n",
        "aug = naf.Sequential([\n",
        "    naw.SynonymAug(aug_src='wordnet', lang='spa', aug_p=0.5, aug_min=10, aug_max=40, stopwords=stop_words),        \n",
        "    naw.SynonymAug(aug_src='wordnet', lang='spa', aug_p=0.5, aug_min=10, aug_max=40, stopwords=stop_words), \n",
        "    naw.SynonymAug(aug_src='wordnet', lang='spa', aug_p=0.5, aug_min=10, aug_max=40, stopwords=stop_words),           \n",
        "    #CustomTranslateAug(),\n",
        "    #naw.ContextualWordEmbsAug(model_path='bert-base-multilingual-cased', action='substitute', aug_p=0.7, stopwords=stop_words),\n",
        "    #naw.ContextualWordEmbsAug(model_path='bert-base-multilingual-cased', action='insert', aug_p=0.7, stopwords=stop_words)\n",
        "])"
      ],
      "execution_count": 229,
      "outputs": []
    },
    {
      "cell_type": "code",
      "metadata": {
        "id": "6bQGN_bK3Wc6"
      },
      "source": [
        "def get_new_text(x):\n",
        "  text = aug.augment(x) \n",
        "  text_2 = aug.augment(text) \n",
        "  return [text, text_2]"
      ],
      "execution_count": 230,
      "outputs": []
    },
    {
      "cell_type": "code",
      "metadata": {
        "colab": {
          "base_uri": "https://localhost:8080/",
          "height": 66,
          "referenced_widgets": [
            "e35cc4f51cb64e65942aa26f5b30be79",
            "031aa9681eec4dfbbf9d9fac67010bdb",
            "b50027072d6e4b69abc81bb581a1a93f",
            "cc57b11c62c9433aad644e2f62a45388",
            "1dd262f3130f45d58a5a698ceb05c199",
            "453165e66aa64912a7fced83b65b8a48",
            "0380da5fed1d4b119e834795ddda8f6e",
            "efd1e31575294996911922ecc1b8faf3"
          ]
        },
        "id": "lJ7cQS307WQL",
        "outputId": "405221b8-16c5-4f5d-cc01-15deef4ff0e0"
      },
      "source": [
        "data['new_overviews'] = data.overview.progress_apply(lambda x: get_new_text(x))"
      ],
      "execution_count": 231,
      "outputs": [
        {
          "output_type": "display_data",
          "data": {
            "application/vnd.jupyter.widget-view+json": {
              "model_id": "e35cc4f51cb64e65942aa26f5b30be79",
              "version_major": 2,
              "version_minor": 0
            },
            "text/plain": [
              "HBox(children=(FloatProgress(value=0.0, max=1015.0), HTML(value='')))"
            ]
          },
          "metadata": {
            "tags": []
          }
        },
        {
          "output_type": "stream",
          "text": [
            "\n"
          ],
          "name": "stdout"
        }
      ]
    },
    {
      "cell_type": "code",
      "metadata": {
        "id": "MPi9O_63b--u",
        "colab": {
          "base_uri": "https://localhost:8080/",
          "height": 293
        },
        "outputId": "0f6fc67d-6b92-492d-eca0-8283672501aa"
      },
      "source": [
        "data.head(5)"
      ],
      "execution_count": 232,
      "outputs": [
        {
          "output_type": "execute_result",
          "data": {
            "text/html": [
              "<div>\n",
              "<style scoped>\n",
              "    .dataframe tbody tr th:only-of-type {\n",
              "        vertical-align: middle;\n",
              "    }\n",
              "\n",
              "    .dataframe tbody tr th {\n",
              "        vertical-align: top;\n",
              "    }\n",
              "\n",
              "    .dataframe thead th {\n",
              "        text-align: right;\n",
              "    }\n",
              "</style>\n",
              "<table border=\"1\" class=\"dataframe\">\n",
              "  <thead>\n",
              "    <tr style=\"text-align: right;\">\n",
              "      <th></th>\n",
              "      <th>id</th>\n",
              "      <th>like</th>\n",
              "      <th>title</th>\n",
              "      <th>overview</th>\n",
              "      <th>genres</th>\n",
              "      <th>crew</th>\n",
              "      <th>cast</th>\n",
              "      <th>new_overviews</th>\n",
              "    </tr>\n",
              "  </thead>\n",
              "  <tbody>\n",
              "    <tr>\n",
              "      <th>0</th>\n",
              "      <td>11</td>\n",
              "      <td>1</td>\n",
              "      <td>La guerra de las galaxias. Episodio IV: Una nu...</td>\n",
              "      <td>La princesa Leia, líder del movimiento rebelde...</td>\n",
              "      <td>[{'id': 12, 'name': 'Aventura'}, {'id': 28, 'n...</td>\n",
              "      <td>[{'credit_id': '52fe420dc3a36847f8000437', 'de...</td>\n",
              "      <td>[{'cast_id': 3, 'character': 'Luke Skywalker',...</td>\n",
              "      <td>[La princesa real verdadero Leia, líder del de...</td>\n",
              "    </tr>\n",
              "    <tr>\n",
              "      <th>1</th>\n",
              "      <td>62</td>\n",
              "      <td>1</td>\n",
              "      <td>2001: Una odisea del espacio</td>\n",
              "      <td>La historia de la humanidad, en diversos estad...</td>\n",
              "      <td>[{'id': 878, 'name': 'Ciencia ficción'}, {'id'...</td>\n",
              "      <td>[{'credit_id': '52fe4212c3a36847f8001a05', 'de...</td>\n",
              "      <td>[{'cast_id': 6, 'character': 'Dr. David Bowman...</td>\n",
              "      <td>[La bien comercial de la afección, en diversos...</td>\n",
              "    </tr>\n",
              "    <tr>\n",
              "      <th>2</th>\n",
              "      <td>74</td>\n",
              "      <td>1</td>\n",
              "      <td>La guerra de los mundos</td>\n",
              "      <td>Basada en una popular novela de HG Wells, narr...</td>\n",
              "      <td>[{'id': 12, 'name': 'Aventura'}, {'id': 53, 'n...</td>\n",
              "      <td>[{'credit_id': '52fe4213c3a36847f8002225', 'de...</td>\n",
              "      <td>[{'cast_id': 13, 'character': 'Ray Ferrier', '...</td>\n",
              "      <td>[Basada en una popular novela de HG Wells, nar...</td>\n",
              "    </tr>\n",
              "    <tr>\n",
              "      <th>3</th>\n",
              "      <td>75</td>\n",
              "      <td>1</td>\n",
              "      <td>Mars attacks!</td>\n",
              "      <td>Parodia de los filmes de ciencia ficción de lo...</td>\n",
              "      <td>[{'id': 35, 'name': 'Comedia'}, {'id': 14, 'na...</td>\n",
              "      <td>[{'credit_id': '52fe4214c3a36847f80022eb', 'de...</td>\n",
              "      <td>[{'cast_id': 6, 'character': 'President James ...</td>\n",
              "      <td>[Burla de los filmes de cognición invención de...</td>\n",
              "    </tr>\n",
              "    <tr>\n",
              "      <th>4</th>\n",
              "      <td>78</td>\n",
              "      <td>1</td>\n",
              "      <td>Blade Runner</td>\n",
              "      <td>A principios del siglo XXI, la Tyrell Corporat...</td>\n",
              "      <td>[{'id': 878, 'name': 'Ciencia ficción'}, {'id'...</td>\n",
              "      <td>[{'credit_id': '52fe4214c3a36847f8002595', 'de...</td>\n",
              "      <td>[{'cast_id': 6, 'character': 'Rick Deckard', '...</td>\n",
              "      <td>[A principios del 100 XXI, la Tyrell Corporati...</td>\n",
              "    </tr>\n",
              "  </tbody>\n",
              "</table>\n",
              "</div>"
            ],
            "text/plain": [
              "   id  ...                                      new_overviews\n",
              "0  11  ...  [La princesa real verdadero Leia, líder del de...\n",
              "1  62  ...  [La bien comercial de la afección, en diversos...\n",
              "2  74  ...  [Basada en una popular novela de HG Wells, nar...\n",
              "3  75  ...  [Burla de los filmes de cognición invención de...\n",
              "4  78  ...  [A principios del 100 XXI, la Tyrell Corporati...\n",
              "\n",
              "[5 rows x 8 columns]"
            ]
          },
          "metadata": {
            "tags": []
          },
          "execution_count": 232
        }
      ]
    },
    {
      "cell_type": "code",
      "metadata": {
        "id": "8JNoiIz9_dZZ"
      },
      "source": [
        "data.to_csv(\"gdrive/My Drive/TFG/overviews_final.csv\", sep='#',encoding='utf-8', index=False)"
      ],
      "execution_count": 233,
      "outputs": []
    }
  ]
}
{
  "nbformat": 4,
  "nbformat_minor": 0,
  "metadata": {
    "colab": {
      "name": "Memoria_experiment3.2.ipynb",
      "provenance": [],
      "collapsed_sections": [],
      "authorship_tag": "ABX9TyM/hx2lDl1snTC7NCuS59pu",
      "include_colab_link": true
    },
    "kernelspec": {
      "name": "python3",
      "display_name": "Python 3"
    },
    "language_info": {
      "name": "python"
    },
    "widgets": {
      "application/vnd.jupyter.widget-state+json": {
        "f1c868d5f16e46f0b23c7cb8299e240f": {
          "model_module": "@jupyter-widgets/controls",
          "model_name": "HBoxModel",
          "state": {
            "_view_name": "HBoxView",
            "_dom_classes": [],
            "_model_name": "HBoxModel",
            "_view_module": "@jupyter-widgets/controls",
            "_model_module_version": "1.5.0",
            "_view_count": null,
            "_view_module_version": "1.5.0",
            "box_style": "",
            "layout": "IPY_MODEL_4b0da007b61742c98db0422425429cd0",
            "_model_module": "@jupyter-widgets/controls",
            "children": [
              "IPY_MODEL_99748d45aa4145d6ac16eb757737b6f9",
              "IPY_MODEL_04242c4f4e6c4129ac87f6a31efba040"
            ]
          }
        },
        "4b0da007b61742c98db0422425429cd0": {
          "model_module": "@jupyter-widgets/base",
          "model_name": "LayoutModel",
          "state": {
            "_view_name": "LayoutView",
            "grid_template_rows": null,
            "right": null,
            "justify_content": null,
            "_view_module": "@jupyter-widgets/base",
            "overflow": null,
            "_model_module_version": "1.2.0",
            "_view_count": null,
            "flex_flow": null,
            "width": null,
            "min_width": null,
            "border": null,
            "align_items": null,
            "bottom": null,
            "_model_module": "@jupyter-widgets/base",
            "top": null,
            "grid_column": null,
            "overflow_y": null,
            "overflow_x": null,
            "grid_auto_flow": null,
            "grid_area": null,
            "grid_template_columns": null,
            "flex": null,
            "_model_name": "LayoutModel",
            "justify_items": null,
            "grid_row": null,
            "max_height": null,
            "align_content": null,
            "visibility": null,
            "align_self": null,
            "height": null,
            "min_height": null,
            "padding": null,
            "grid_auto_rows": null,
            "grid_gap": null,
            "max_width": null,
            "order": null,
            "_view_module_version": "1.2.0",
            "grid_template_areas": null,
            "object_position": null,
            "object_fit": null,
            "grid_auto_columns": null,
            "margin": null,
            "display": null,
            "left": null
          }
        },
        "99748d45aa4145d6ac16eb757737b6f9": {
          "model_module": "@jupyter-widgets/controls",
          "model_name": "FloatProgressModel",
          "state": {
            "_view_name": "ProgressView",
            "style": "IPY_MODEL_e0c9d029d4eb47b0bf4dc9511b7fcb19",
            "_dom_classes": [],
            "description": "100%",
            "_model_name": "FloatProgressModel",
            "bar_style": "success",
            "max": 1052,
            "_view_module": "@jupyter-widgets/controls",
            "_model_module_version": "1.5.0",
            "value": 1052,
            "_view_count": null,
            "_view_module_version": "1.5.0",
            "orientation": "horizontal",
            "min": 0,
            "description_tooltip": null,
            "_model_module": "@jupyter-widgets/controls",
            "layout": "IPY_MODEL_a383478ed120448382cf7ef377c8cf91"
          }
        },
        "04242c4f4e6c4129ac87f6a31efba040": {
          "model_module": "@jupyter-widgets/controls",
          "model_name": "HTMLModel",
          "state": {
            "_view_name": "HTMLView",
            "style": "IPY_MODEL_e825f9ab4021426d92b5c2ee76bde1b6",
            "_dom_classes": [],
            "description": "",
            "_model_name": "HTMLModel",
            "placeholder": "​",
            "_view_module": "@jupyter-widgets/controls",
            "_model_module_version": "1.5.0",
            "value": " 1052/1052 [02:37&lt;00:00,  6.67it/s]",
            "_view_count": null,
            "_view_module_version": "1.5.0",
            "description_tooltip": null,
            "_model_module": "@jupyter-widgets/controls",
            "layout": "IPY_MODEL_23d1106b704a48309eccb32b4decd7e4"
          }
        },
        "e0c9d029d4eb47b0bf4dc9511b7fcb19": {
          "model_module": "@jupyter-widgets/controls",
          "model_name": "ProgressStyleModel",
          "state": {
            "_view_name": "StyleView",
            "_model_name": "ProgressStyleModel",
            "description_width": "initial",
            "_view_module": "@jupyter-widgets/base",
            "_model_module_version": "1.5.0",
            "_view_count": null,
            "_view_module_version": "1.2.0",
            "bar_color": null,
            "_model_module": "@jupyter-widgets/controls"
          }
        },
        "a383478ed120448382cf7ef377c8cf91": {
          "model_module": "@jupyter-widgets/base",
          "model_name": "LayoutModel",
          "state": {
            "_view_name": "LayoutView",
            "grid_template_rows": null,
            "right": null,
            "justify_content": null,
            "_view_module": "@jupyter-widgets/base",
            "overflow": null,
            "_model_module_version": "1.2.0",
            "_view_count": null,
            "flex_flow": null,
            "width": null,
            "min_width": null,
            "border": null,
            "align_items": null,
            "bottom": null,
            "_model_module": "@jupyter-widgets/base",
            "top": null,
            "grid_column": null,
            "overflow_y": null,
            "overflow_x": null,
            "grid_auto_flow": null,
            "grid_area": null,
            "grid_template_columns": null,
            "flex": null,
            "_model_name": "LayoutModel",
            "justify_items": null,
            "grid_row": null,
            "max_height": null,
            "align_content": null,
            "visibility": null,
            "align_self": null,
            "height": null,
            "min_height": null,
            "padding": null,
            "grid_auto_rows": null,
            "grid_gap": null,
            "max_width": null,
            "order": null,
            "_view_module_version": "1.2.0",
            "grid_template_areas": null,
            "object_position": null,
            "object_fit": null,
            "grid_auto_columns": null,
            "margin": null,
            "display": null,
            "left": null
          }
        },
        "e825f9ab4021426d92b5c2ee76bde1b6": {
          "model_module": "@jupyter-widgets/controls",
          "model_name": "DescriptionStyleModel",
          "state": {
            "_view_name": "StyleView",
            "_model_name": "DescriptionStyleModel",
            "description_width": "",
            "_view_module": "@jupyter-widgets/base",
            "_model_module_version": "1.5.0",
            "_view_count": null,
            "_view_module_version": "1.2.0",
            "_model_module": "@jupyter-widgets/controls"
          }
        },
        "23d1106b704a48309eccb32b4decd7e4": {
          "model_module": "@jupyter-widgets/base",
          "model_name": "LayoutModel",
          "state": {
            "_view_name": "LayoutView",
            "grid_template_rows": null,
            "right": null,
            "justify_content": null,
            "_view_module": "@jupyter-widgets/base",
            "overflow": null,
            "_model_module_version": "1.2.0",
            "_view_count": null,
            "flex_flow": null,
            "width": null,
            "min_width": null,
            "border": null,
            "align_items": null,
            "bottom": null,
            "_model_module": "@jupyter-widgets/base",
            "top": null,
            "grid_column": null,
            "overflow_y": null,
            "overflow_x": null,
            "grid_auto_flow": null,
            "grid_area": null,
            "grid_template_columns": null,
            "flex": null,
            "_model_name": "LayoutModel",
            "justify_items": null,
            "grid_row": null,
            "max_height": null,
            "align_content": null,
            "visibility": null,
            "align_self": null,
            "height": null,
            "min_height": null,
            "padding": null,
            "grid_auto_rows": null,
            "grid_gap": null,
            "max_width": null,
            "order": null,
            "_view_module_version": "1.2.0",
            "grid_template_areas": null,
            "object_position": null,
            "object_fit": null,
            "grid_auto_columns": null,
            "margin": null,
            "display": null,
            "left": null
          }
        },
        "498d8b9a83444a6ca66dfe588779feb0": {
          "model_module": "@jupyter-widgets/controls",
          "model_name": "HBoxModel",
          "state": {
            "_view_name": "HBoxView",
            "_dom_classes": [],
            "_model_name": "HBoxModel",
            "_view_module": "@jupyter-widgets/controls",
            "_model_module_version": "1.5.0",
            "_view_count": null,
            "_view_module_version": "1.5.0",
            "box_style": "",
            "layout": "IPY_MODEL_2bc919a132414e618336aa5e8f965601",
            "_model_module": "@jupyter-widgets/controls",
            "children": [
              "IPY_MODEL_16ea177a528c48f7aaa3f58a0c739d9b",
              "IPY_MODEL_04289f651c264268b602f5bb0e04cc17"
            ]
          }
        },
        "2bc919a132414e618336aa5e8f965601": {
          "model_module": "@jupyter-widgets/base",
          "model_name": "LayoutModel",
          "state": {
            "_view_name": "LayoutView",
            "grid_template_rows": null,
            "right": null,
            "justify_content": null,
            "_view_module": "@jupyter-widgets/base",
            "overflow": null,
            "_model_module_version": "1.2.0",
            "_view_count": null,
            "flex_flow": null,
            "width": null,
            "min_width": null,
            "border": null,
            "align_items": null,
            "bottom": null,
            "_model_module": "@jupyter-widgets/base",
            "top": null,
            "grid_column": null,
            "overflow_y": null,
            "overflow_x": null,
            "grid_auto_flow": null,
            "grid_area": null,
            "grid_template_columns": null,
            "flex": null,
            "_model_name": "LayoutModel",
            "justify_items": null,
            "grid_row": null,
            "max_height": null,
            "align_content": null,
            "visibility": null,
            "align_self": null,
            "height": null,
            "min_height": null,
            "padding": null,
            "grid_auto_rows": null,
            "grid_gap": null,
            "max_width": null,
            "order": null,
            "_view_module_version": "1.2.0",
            "grid_template_areas": null,
            "object_position": null,
            "object_fit": null,
            "grid_auto_columns": null,
            "margin": null,
            "display": null,
            "left": null
          }
        },
        "16ea177a528c48f7aaa3f58a0c739d9b": {
          "model_module": "@jupyter-widgets/controls",
          "model_name": "FloatProgressModel",
          "state": {
            "_view_name": "ProgressView",
            "style": "IPY_MODEL_f5263d69a9c649a5aaadba82967123db",
            "_dom_classes": [],
            "description": "100%",
            "_model_name": "FloatProgressModel",
            "bar_style": "success",
            "max": 1052,
            "_view_module": "@jupyter-widgets/controls",
            "_model_module_version": "1.5.0",
            "value": 1052,
            "_view_count": null,
            "_view_module_version": "1.5.0",
            "orientation": "horizontal",
            "min": 0,
            "description_tooltip": null,
            "_model_module": "@jupyter-widgets/controls",
            "layout": "IPY_MODEL_9f63dbe6490b470098c32ae7bbb89d1f"
          }
        },
        "04289f651c264268b602f5bb0e04cc17": {
          "model_module": "@jupyter-widgets/controls",
          "model_name": "HTMLModel",
          "state": {
            "_view_name": "HTMLView",
            "style": "IPY_MODEL_a53e6b358e1e48cd99cf48da9f68ac66",
            "_dom_classes": [],
            "description": "",
            "_model_name": "HTMLModel",
            "placeholder": "​",
            "_view_module": "@jupyter-widgets/controls",
            "_model_module_version": "1.5.0",
            "value": " 1052/1052 [00:00&lt;00:00, 9900.13it/s]",
            "_view_count": null,
            "_view_module_version": "1.5.0",
            "description_tooltip": null,
            "_model_module": "@jupyter-widgets/controls",
            "layout": "IPY_MODEL_fa8a573997124f528f5b458ea77b7ef2"
          }
        },
        "f5263d69a9c649a5aaadba82967123db": {
          "model_module": "@jupyter-widgets/controls",
          "model_name": "ProgressStyleModel",
          "state": {
            "_view_name": "StyleView",
            "_model_name": "ProgressStyleModel",
            "description_width": "initial",
            "_view_module": "@jupyter-widgets/base",
            "_model_module_version": "1.5.0",
            "_view_count": null,
            "_view_module_version": "1.2.0",
            "bar_color": null,
            "_model_module": "@jupyter-widgets/controls"
          }
        },
        "9f63dbe6490b470098c32ae7bbb89d1f": {
          "model_module": "@jupyter-widgets/base",
          "model_name": "LayoutModel",
          "state": {
            "_view_name": "LayoutView",
            "grid_template_rows": null,
            "right": null,
            "justify_content": null,
            "_view_module": "@jupyter-widgets/base",
            "overflow": null,
            "_model_module_version": "1.2.0",
            "_view_count": null,
            "flex_flow": null,
            "width": null,
            "min_width": null,
            "border": null,
            "align_items": null,
            "bottom": null,
            "_model_module": "@jupyter-widgets/base",
            "top": null,
            "grid_column": null,
            "overflow_y": null,
            "overflow_x": null,
            "grid_auto_flow": null,
            "grid_area": null,
            "grid_template_columns": null,
            "flex": null,
            "_model_name": "LayoutModel",
            "justify_items": null,
            "grid_row": null,
            "max_height": null,
            "align_content": null,
            "visibility": null,
            "align_self": null,
            "height": null,
            "min_height": null,
            "padding": null,
            "grid_auto_rows": null,
            "grid_gap": null,
            "max_width": null,
            "order": null,
            "_view_module_version": "1.2.0",
            "grid_template_areas": null,
            "object_position": null,
            "object_fit": null,
            "grid_auto_columns": null,
            "margin": null,
            "display": null,
            "left": null
          }
        },
        "a53e6b358e1e48cd99cf48da9f68ac66": {
          "model_module": "@jupyter-widgets/controls",
          "model_name": "DescriptionStyleModel",
          "state": {
            "_view_name": "StyleView",
            "_model_name": "DescriptionStyleModel",
            "description_width": "",
            "_view_module": "@jupyter-widgets/base",
            "_model_module_version": "1.5.0",
            "_view_count": null,
            "_view_module_version": "1.2.0",
            "_model_module": "@jupyter-widgets/controls"
          }
        },
        "fa8a573997124f528f5b458ea77b7ef2": {
          "model_module": "@jupyter-widgets/base",
          "model_name": "LayoutModel",
          "state": {
            "_view_name": "LayoutView",
            "grid_template_rows": null,
            "right": null,
            "justify_content": null,
            "_view_module": "@jupyter-widgets/base",
            "overflow": null,
            "_model_module_version": "1.2.0",
            "_view_count": null,
            "flex_flow": null,
            "width": null,
            "min_width": null,
            "border": null,
            "align_items": null,
            "bottom": null,
            "_model_module": "@jupyter-widgets/base",
            "top": null,
            "grid_column": null,
            "overflow_y": null,
            "overflow_x": null,
            "grid_auto_flow": null,
            "grid_area": null,
            "grid_template_columns": null,
            "flex": null,
            "_model_name": "LayoutModel",
            "justify_items": null,
            "grid_row": null,
            "max_height": null,
            "align_content": null,
            "visibility": null,
            "align_self": null,
            "height": null,
            "min_height": null,
            "padding": null,
            "grid_auto_rows": null,
            "grid_gap": null,
            "max_width": null,
            "order": null,
            "_view_module_version": "1.2.0",
            "grid_template_areas": null,
            "object_position": null,
            "object_fit": null,
            "grid_auto_columns": null,
            "margin": null,
            "display": null,
            "left": null
          }
        },
        "abba150ed74d40b884749cbc01259b68": {
          "model_module": "@jupyter-widgets/controls",
          "model_name": "HBoxModel",
          "state": {
            "_view_name": "HBoxView",
            "_dom_classes": [],
            "_model_name": "HBoxModel",
            "_view_module": "@jupyter-widgets/controls",
            "_model_module_version": "1.5.0",
            "_view_count": null,
            "_view_module_version": "1.5.0",
            "box_style": "",
            "layout": "IPY_MODEL_5237a8f26c3d494ab279630313780efb",
            "_model_module": "@jupyter-widgets/controls",
            "children": [
              "IPY_MODEL_bec4b1f30b1a4e229493b499103532d9",
              "IPY_MODEL_fd99c42bdc074e6c9beb1ea290ad344b"
            ]
          }
        },
        "5237a8f26c3d494ab279630313780efb": {
          "model_module": "@jupyter-widgets/base",
          "model_name": "LayoutModel",
          "state": {
            "_view_name": "LayoutView",
            "grid_template_rows": null,
            "right": null,
            "justify_content": null,
            "_view_module": "@jupyter-widgets/base",
            "overflow": null,
            "_model_module_version": "1.2.0",
            "_view_count": null,
            "flex_flow": null,
            "width": null,
            "min_width": null,
            "border": null,
            "align_items": null,
            "bottom": null,
            "_model_module": "@jupyter-widgets/base",
            "top": null,
            "grid_column": null,
            "overflow_y": null,
            "overflow_x": null,
            "grid_auto_flow": null,
            "grid_area": null,
            "grid_template_columns": null,
            "flex": null,
            "_model_name": "LayoutModel",
            "justify_items": null,
            "grid_row": null,
            "max_height": null,
            "align_content": null,
            "visibility": null,
            "align_self": null,
            "height": null,
            "min_height": null,
            "padding": null,
            "grid_auto_rows": null,
            "grid_gap": null,
            "max_width": null,
            "order": null,
            "_view_module_version": "1.2.0",
            "grid_template_areas": null,
            "object_position": null,
            "object_fit": null,
            "grid_auto_columns": null,
            "margin": null,
            "display": null,
            "left": null
          }
        },
        "bec4b1f30b1a4e229493b499103532d9": {
          "model_module": "@jupyter-widgets/controls",
          "model_name": "FloatProgressModel",
          "state": {
            "_view_name": "ProgressView",
            "style": "IPY_MODEL_1aa1622b1a024825814afafed2c9cb2c",
            "_dom_classes": [],
            "description": "100%",
            "_model_name": "FloatProgressModel",
            "bar_style": "success",
            "max": 1052,
            "_view_module": "@jupyter-widgets/controls",
            "_model_module_version": "1.5.0",
            "value": 1052,
            "_view_count": null,
            "_view_module_version": "1.5.0",
            "orientation": "horizontal",
            "min": 0,
            "description_tooltip": null,
            "_model_module": "@jupyter-widgets/controls",
            "layout": "IPY_MODEL_98ddca2251634a2fbaf754976f461b8e"
          }
        },
        "fd99c42bdc074e6c9beb1ea290ad344b": {
          "model_module": "@jupyter-widgets/controls",
          "model_name": "HTMLModel",
          "state": {
            "_view_name": "HTMLView",
            "style": "IPY_MODEL_a7a4ac757b064b149599416c28b7d4c6",
            "_dom_classes": [],
            "description": "",
            "_model_name": "HTMLModel",
            "placeholder": "​",
            "_view_module": "@jupyter-widgets/controls",
            "_model_module_version": "1.5.0",
            "value": " 1052/1052 [14:11&lt;00:00,  1.24it/s]",
            "_view_count": null,
            "_view_module_version": "1.5.0",
            "description_tooltip": null,
            "_model_module": "@jupyter-widgets/controls",
            "layout": "IPY_MODEL_b05a45fc51fb4218aab2bed780ebf631"
          }
        },
        "1aa1622b1a024825814afafed2c9cb2c": {
          "model_module": "@jupyter-widgets/controls",
          "model_name": "ProgressStyleModel",
          "state": {
            "_view_name": "StyleView",
            "_model_name": "ProgressStyleModel",
            "description_width": "initial",
            "_view_module": "@jupyter-widgets/base",
            "_model_module_version": "1.5.0",
            "_view_count": null,
            "_view_module_version": "1.2.0",
            "bar_color": null,
            "_model_module": "@jupyter-widgets/controls"
          }
        },
        "98ddca2251634a2fbaf754976f461b8e": {
          "model_module": "@jupyter-widgets/base",
          "model_name": "LayoutModel",
          "state": {
            "_view_name": "LayoutView",
            "grid_template_rows": null,
            "right": null,
            "justify_content": null,
            "_view_module": "@jupyter-widgets/base",
            "overflow": null,
            "_model_module_version": "1.2.0",
            "_view_count": null,
            "flex_flow": null,
            "width": null,
            "min_width": null,
            "border": null,
            "align_items": null,
            "bottom": null,
            "_model_module": "@jupyter-widgets/base",
            "top": null,
            "grid_column": null,
            "overflow_y": null,
            "overflow_x": null,
            "grid_auto_flow": null,
            "grid_area": null,
            "grid_template_columns": null,
            "flex": null,
            "_model_name": "LayoutModel",
            "justify_items": null,
            "grid_row": null,
            "max_height": null,
            "align_content": null,
            "visibility": null,
            "align_self": null,
            "height": null,
            "min_height": null,
            "padding": null,
            "grid_auto_rows": null,
            "grid_gap": null,
            "max_width": null,
            "order": null,
            "_view_module_version": "1.2.0",
            "grid_template_areas": null,
            "object_position": null,
            "object_fit": null,
            "grid_auto_columns": null,
            "margin": null,
            "display": null,
            "left": null
          }
        },
        "a7a4ac757b064b149599416c28b7d4c6": {
          "model_module": "@jupyter-widgets/controls",
          "model_name": "DescriptionStyleModel",
          "state": {
            "_view_name": "StyleView",
            "_model_name": "DescriptionStyleModel",
            "description_width": "",
            "_view_module": "@jupyter-widgets/base",
            "_model_module_version": "1.5.0",
            "_view_count": null,
            "_view_module_version": "1.2.0",
            "_model_module": "@jupyter-widgets/controls"
          }
        },
        "b05a45fc51fb4218aab2bed780ebf631": {
          "model_module": "@jupyter-widgets/base",
          "model_name": "LayoutModel",
          "state": {
            "_view_name": "LayoutView",
            "grid_template_rows": null,
            "right": null,
            "justify_content": null,
            "_view_module": "@jupyter-widgets/base",
            "overflow": null,
            "_model_module_version": "1.2.0",
            "_view_count": null,
            "flex_flow": null,
            "width": null,
            "min_width": null,
            "border": null,
            "align_items": null,
            "bottom": null,
            "_model_module": "@jupyter-widgets/base",
            "top": null,
            "grid_column": null,
            "overflow_y": null,
            "overflow_x": null,
            "grid_auto_flow": null,
            "grid_area": null,
            "grid_template_columns": null,
            "flex": null,
            "_model_name": "LayoutModel",
            "justify_items": null,
            "grid_row": null,
            "max_height": null,
            "align_content": null,
            "visibility": null,
            "align_self": null,
            "height": null,
            "min_height": null,
            "padding": null,
            "grid_auto_rows": null,
            "grid_gap": null,
            "max_width": null,
            "order": null,
            "_view_module_version": "1.2.0",
            "grid_template_areas": null,
            "object_position": null,
            "object_fit": null,
            "grid_auto_columns": null,
            "margin": null,
            "display": null,
            "left": null
          }
        },
        "4709e26d57154ab48a53a0146afa33a5": {
          "model_module": "@jupyter-widgets/controls",
          "model_name": "HBoxModel",
          "state": {
            "_view_name": "HBoxView",
            "_dom_classes": [],
            "_model_name": "HBoxModel",
            "_view_module": "@jupyter-widgets/controls",
            "_model_module_version": "1.5.0",
            "_view_count": null,
            "_view_module_version": "1.5.0",
            "box_style": "",
            "layout": "IPY_MODEL_8ed6eac2dd4143deaee9a92d4caf606e",
            "_model_module": "@jupyter-widgets/controls",
            "children": [
              "IPY_MODEL_52a100c038824e6f93f55dc7046e826b",
              "IPY_MODEL_d4acc7b94e684a86a7a31636df52b8b6"
            ]
          }
        },
        "8ed6eac2dd4143deaee9a92d4caf606e": {
          "model_module": "@jupyter-widgets/base",
          "model_name": "LayoutModel",
          "state": {
            "_view_name": "LayoutView",
            "grid_template_rows": null,
            "right": null,
            "justify_content": null,
            "_view_module": "@jupyter-widgets/base",
            "overflow": null,
            "_model_module_version": "1.2.0",
            "_view_count": null,
            "flex_flow": null,
            "width": null,
            "min_width": null,
            "border": null,
            "align_items": null,
            "bottom": null,
            "_model_module": "@jupyter-widgets/base",
            "top": null,
            "grid_column": null,
            "overflow_y": null,
            "overflow_x": null,
            "grid_auto_flow": null,
            "grid_area": null,
            "grid_template_columns": null,
            "flex": null,
            "_model_name": "LayoutModel",
            "justify_items": null,
            "grid_row": null,
            "max_height": null,
            "align_content": null,
            "visibility": null,
            "align_self": null,
            "height": null,
            "min_height": null,
            "padding": null,
            "grid_auto_rows": null,
            "grid_gap": null,
            "max_width": null,
            "order": null,
            "_view_module_version": "1.2.0",
            "grid_template_areas": null,
            "object_position": null,
            "object_fit": null,
            "grid_auto_columns": null,
            "margin": null,
            "display": null,
            "left": null
          }
        },
        "52a100c038824e6f93f55dc7046e826b": {
          "model_module": "@jupyter-widgets/controls",
          "model_name": "FloatProgressModel",
          "state": {
            "_view_name": "ProgressView",
            "style": "IPY_MODEL_d24ef6a3fc37400f9207533f3bbd403a",
            "_dom_classes": [],
            "description": "100%",
            "_model_name": "FloatProgressModel",
            "bar_style": "success",
            "max": 1052,
            "_view_module": "@jupyter-widgets/controls",
            "_model_module_version": "1.5.0",
            "value": 1052,
            "_view_count": null,
            "_view_module_version": "1.5.0",
            "orientation": "horizontal",
            "min": 0,
            "description_tooltip": null,
            "_model_module": "@jupyter-widgets/controls",
            "layout": "IPY_MODEL_a420643cf2b44088a017e768ff594e76"
          }
        },
        "d4acc7b94e684a86a7a31636df52b8b6": {
          "model_module": "@jupyter-widgets/controls",
          "model_name": "HTMLModel",
          "state": {
            "_view_name": "HTMLView",
            "style": "IPY_MODEL_8ba857018ce0486798122b1f031a9b9a",
            "_dom_classes": [],
            "description": "",
            "_model_name": "HTMLModel",
            "placeholder": "​",
            "_view_module": "@jupyter-widgets/controls",
            "_model_module_version": "1.5.0",
            "value": " 1052/1052 [00:01&lt;00:00, 526.68it/s]",
            "_view_count": null,
            "_view_module_version": "1.5.0",
            "description_tooltip": null,
            "_model_module": "@jupyter-widgets/controls",
            "layout": "IPY_MODEL_71dc4e5b94f94b68819ef0f8e5024e9e"
          }
        },
        "d24ef6a3fc37400f9207533f3bbd403a": {
          "model_module": "@jupyter-widgets/controls",
          "model_name": "ProgressStyleModel",
          "state": {
            "_view_name": "StyleView",
            "_model_name": "ProgressStyleModel",
            "description_width": "initial",
            "_view_module": "@jupyter-widgets/base",
            "_model_module_version": "1.5.0",
            "_view_count": null,
            "_view_module_version": "1.2.0",
            "bar_color": null,
            "_model_module": "@jupyter-widgets/controls"
          }
        },
        "a420643cf2b44088a017e768ff594e76": {
          "model_module": "@jupyter-widgets/base",
          "model_name": "LayoutModel",
          "state": {
            "_view_name": "LayoutView",
            "grid_template_rows": null,
            "right": null,
            "justify_content": null,
            "_view_module": "@jupyter-widgets/base",
            "overflow": null,
            "_model_module_version": "1.2.0",
            "_view_count": null,
            "flex_flow": null,
            "width": null,
            "min_width": null,
            "border": null,
            "align_items": null,
            "bottom": null,
            "_model_module": "@jupyter-widgets/base",
            "top": null,
            "grid_column": null,
            "overflow_y": null,
            "overflow_x": null,
            "grid_auto_flow": null,
            "grid_area": null,
            "grid_template_columns": null,
            "flex": null,
            "_model_name": "LayoutModel",
            "justify_items": null,
            "grid_row": null,
            "max_height": null,
            "align_content": null,
            "visibility": null,
            "align_self": null,
            "height": null,
            "min_height": null,
            "padding": null,
            "grid_auto_rows": null,
            "grid_gap": null,
            "max_width": null,
            "order": null,
            "_view_module_version": "1.2.0",
            "grid_template_areas": null,
            "object_position": null,
            "object_fit": null,
            "grid_auto_columns": null,
            "margin": null,
            "display": null,
            "left": null
          }
        },
        "8ba857018ce0486798122b1f031a9b9a": {
          "model_module": "@jupyter-widgets/controls",
          "model_name": "DescriptionStyleModel",
          "state": {
            "_view_name": "StyleView",
            "_model_name": "DescriptionStyleModel",
            "description_width": "",
            "_view_module": "@jupyter-widgets/base",
            "_model_module_version": "1.5.0",
            "_view_count": null,
            "_view_module_version": "1.2.0",
            "_model_module": "@jupyter-widgets/controls"
          }
        },
        "71dc4e5b94f94b68819ef0f8e5024e9e": {
          "model_module": "@jupyter-widgets/base",
          "model_name": "LayoutModel",
          "state": {
            "_view_name": "LayoutView",
            "grid_template_rows": null,
            "right": null,
            "justify_content": null,
            "_view_module": "@jupyter-widgets/base",
            "overflow": null,
            "_model_module_version": "1.2.0",
            "_view_count": null,
            "flex_flow": null,
            "width": null,
            "min_width": null,
            "border": null,
            "align_items": null,
            "bottom": null,
            "_model_module": "@jupyter-widgets/base",
            "top": null,
            "grid_column": null,
            "overflow_y": null,
            "overflow_x": null,
            "grid_auto_flow": null,
            "grid_area": null,
            "grid_template_columns": null,
            "flex": null,
            "_model_name": "LayoutModel",
            "justify_items": null,
            "grid_row": null,
            "max_height": null,
            "align_content": null,
            "visibility": null,
            "align_self": null,
            "height": null,
            "min_height": null,
            "padding": null,
            "grid_auto_rows": null,
            "grid_gap": null,
            "max_width": null,
            "order": null,
            "_view_module_version": "1.2.0",
            "grid_template_areas": null,
            "object_position": null,
            "object_fit": null,
            "grid_auto_columns": null,
            "margin": null,
            "display": null,
            "left": null
          }
        },
        "98b5053d81d048ed8dbef671b5889a8a": {
          "model_module": "@jupyter-widgets/controls",
          "model_name": "HBoxModel",
          "state": {
            "_view_name": "HBoxView",
            "_dom_classes": [],
            "_model_name": "HBoxModel",
            "_view_module": "@jupyter-widgets/controls",
            "_model_module_version": "1.5.0",
            "_view_count": null,
            "_view_module_version": "1.5.0",
            "box_style": "",
            "layout": "IPY_MODEL_aac105aa7e3347c3a567e6595a5762a7",
            "_model_module": "@jupyter-widgets/controls",
            "children": [
              "IPY_MODEL_e6e3a48ab28e4ba2b05c44924125ce02",
              "IPY_MODEL_5c8dcf4fd7ad4e22b16f0543631cccff"
            ]
          }
        },
        "aac105aa7e3347c3a567e6595a5762a7": {
          "model_module": "@jupyter-widgets/base",
          "model_name": "LayoutModel",
          "state": {
            "_view_name": "LayoutView",
            "grid_template_rows": null,
            "right": null,
            "justify_content": null,
            "_view_module": "@jupyter-widgets/base",
            "overflow": null,
            "_model_module_version": "1.2.0",
            "_view_count": null,
            "flex_flow": null,
            "width": null,
            "min_width": null,
            "border": null,
            "align_items": null,
            "bottom": null,
            "_model_module": "@jupyter-widgets/base",
            "top": null,
            "grid_column": null,
            "overflow_y": null,
            "overflow_x": null,
            "grid_auto_flow": null,
            "grid_area": null,
            "grid_template_columns": null,
            "flex": null,
            "_model_name": "LayoutModel",
            "justify_items": null,
            "grid_row": null,
            "max_height": null,
            "align_content": null,
            "visibility": null,
            "align_self": null,
            "height": null,
            "min_height": null,
            "padding": null,
            "grid_auto_rows": null,
            "grid_gap": null,
            "max_width": null,
            "order": null,
            "_view_module_version": "1.2.0",
            "grid_template_areas": null,
            "object_position": null,
            "object_fit": null,
            "grid_auto_columns": null,
            "margin": null,
            "display": null,
            "left": null
          }
        },
        "e6e3a48ab28e4ba2b05c44924125ce02": {
          "model_module": "@jupyter-widgets/controls",
          "model_name": "FloatProgressModel",
          "state": {
            "_view_name": "ProgressView",
            "style": "IPY_MODEL_781b5e2c586e4416b486deea64375030",
            "_dom_classes": [],
            "description": "100%",
            "_model_name": "FloatProgressModel",
            "bar_style": "success",
            "max": 1052,
            "_view_module": "@jupyter-widgets/controls",
            "_model_module_version": "1.5.0",
            "value": 1052,
            "_view_count": null,
            "_view_module_version": "1.5.0",
            "orientation": "horizontal",
            "min": 0,
            "description_tooltip": null,
            "_model_module": "@jupyter-widgets/controls",
            "layout": "IPY_MODEL_8ea1fdaf08f7455aabd814caf9220a2e"
          }
        },
        "5c8dcf4fd7ad4e22b16f0543631cccff": {
          "model_module": "@jupyter-widgets/controls",
          "model_name": "HTMLModel",
          "state": {
            "_view_name": "HTMLView",
            "style": "IPY_MODEL_bda3166092674adf88d1cf490e037ba4",
            "_dom_classes": [],
            "description": "",
            "_model_name": "HTMLModel",
            "placeholder": "​",
            "_view_module": "@jupyter-widgets/controls",
            "_model_module_version": "1.5.0",
            "value": " 1052/1052 [04:44&lt;00:00,  3.70it/s]",
            "_view_count": null,
            "_view_module_version": "1.5.0",
            "description_tooltip": null,
            "_model_module": "@jupyter-widgets/controls",
            "layout": "IPY_MODEL_f12d3317550b4d71828f45ac66c540e9"
          }
        },
        "781b5e2c586e4416b486deea64375030": {
          "model_module": "@jupyter-widgets/controls",
          "model_name": "ProgressStyleModel",
          "state": {
            "_view_name": "StyleView",
            "_model_name": "ProgressStyleModel",
            "description_width": "initial",
            "_view_module": "@jupyter-widgets/base",
            "_model_module_version": "1.5.0",
            "_view_count": null,
            "_view_module_version": "1.2.0",
            "bar_color": null,
            "_model_module": "@jupyter-widgets/controls"
          }
        },
        "8ea1fdaf08f7455aabd814caf9220a2e": {
          "model_module": "@jupyter-widgets/base",
          "model_name": "LayoutModel",
          "state": {
            "_view_name": "LayoutView",
            "grid_template_rows": null,
            "right": null,
            "justify_content": null,
            "_view_module": "@jupyter-widgets/base",
            "overflow": null,
            "_model_module_version": "1.2.0",
            "_view_count": null,
            "flex_flow": null,
            "width": null,
            "min_width": null,
            "border": null,
            "align_items": null,
            "bottom": null,
            "_model_module": "@jupyter-widgets/base",
            "top": null,
            "grid_column": null,
            "overflow_y": null,
            "overflow_x": null,
            "grid_auto_flow": null,
            "grid_area": null,
            "grid_template_columns": null,
            "flex": null,
            "_model_name": "LayoutModel",
            "justify_items": null,
            "grid_row": null,
            "max_height": null,
            "align_content": null,
            "visibility": null,
            "align_self": null,
            "height": null,
            "min_height": null,
            "padding": null,
            "grid_auto_rows": null,
            "grid_gap": null,
            "max_width": null,
            "order": null,
            "_view_module_version": "1.2.0",
            "grid_template_areas": null,
            "object_position": null,
            "object_fit": null,
            "grid_auto_columns": null,
            "margin": null,
            "display": null,
            "left": null
          }
        },
        "bda3166092674adf88d1cf490e037ba4": {
          "model_module": "@jupyter-widgets/controls",
          "model_name": "DescriptionStyleModel",
          "state": {
            "_view_name": "StyleView",
            "_model_name": "DescriptionStyleModel",
            "description_width": "",
            "_view_module": "@jupyter-widgets/base",
            "_model_module_version": "1.5.0",
            "_view_count": null,
            "_view_module_version": "1.2.0",
            "_model_module": "@jupyter-widgets/controls"
          }
        },
        "f12d3317550b4d71828f45ac66c540e9": {
          "model_module": "@jupyter-widgets/base",
          "model_name": "LayoutModel",
          "state": {
            "_view_name": "LayoutView",
            "grid_template_rows": null,
            "right": null,
            "justify_content": null,
            "_view_module": "@jupyter-widgets/base",
            "overflow": null,
            "_model_module_version": "1.2.0",
            "_view_count": null,
            "flex_flow": null,
            "width": null,
            "min_width": null,
            "border": null,
            "align_items": null,
            "bottom": null,
            "_model_module": "@jupyter-widgets/base",
            "top": null,
            "grid_column": null,
            "overflow_y": null,
            "overflow_x": null,
            "grid_auto_flow": null,
            "grid_area": null,
            "grid_template_columns": null,
            "flex": null,
            "_model_name": "LayoutModel",
            "justify_items": null,
            "grid_row": null,
            "max_height": null,
            "align_content": null,
            "visibility": null,
            "align_self": null,
            "height": null,
            "min_height": null,
            "padding": null,
            "grid_auto_rows": null,
            "grid_gap": null,
            "max_width": null,
            "order": null,
            "_view_module_version": "1.2.0",
            "grid_template_areas": null,
            "object_position": null,
            "object_fit": null,
            "grid_auto_columns": null,
            "margin": null,
            "display": null,
            "left": null
          }
        },
        "6963d2ded48c4f48808c9e4bb5c82c9a": {
          "model_module": "@jupyter-widgets/controls",
          "model_name": "HBoxModel",
          "state": {
            "_view_name": "HBoxView",
            "_dom_classes": [],
            "_model_name": "HBoxModel",
            "_view_module": "@jupyter-widgets/controls",
            "_model_module_version": "1.5.0",
            "_view_count": null,
            "_view_module_version": "1.5.0",
            "box_style": "",
            "layout": "IPY_MODEL_7c75a6f9f5d549c3bad53167d6610edf",
            "_model_module": "@jupyter-widgets/controls",
            "children": [
              "IPY_MODEL_14477e8d0cc74bbdae024e5840a6736f",
              "IPY_MODEL_8fb25792e7d84de193eeffb238ca35ad"
            ]
          }
        },
        "7c75a6f9f5d549c3bad53167d6610edf": {
          "model_module": "@jupyter-widgets/base",
          "model_name": "LayoutModel",
          "state": {
            "_view_name": "LayoutView",
            "grid_template_rows": null,
            "right": null,
            "justify_content": null,
            "_view_module": "@jupyter-widgets/base",
            "overflow": null,
            "_model_module_version": "1.2.0",
            "_view_count": null,
            "flex_flow": null,
            "width": null,
            "min_width": null,
            "border": null,
            "align_items": null,
            "bottom": null,
            "_model_module": "@jupyter-widgets/base",
            "top": null,
            "grid_column": null,
            "overflow_y": null,
            "overflow_x": null,
            "grid_auto_flow": null,
            "grid_area": null,
            "grid_template_columns": null,
            "flex": null,
            "_model_name": "LayoutModel",
            "justify_items": null,
            "grid_row": null,
            "max_height": null,
            "align_content": null,
            "visibility": null,
            "align_self": null,
            "height": null,
            "min_height": null,
            "padding": null,
            "grid_auto_rows": null,
            "grid_gap": null,
            "max_width": null,
            "order": null,
            "_view_module_version": "1.2.0",
            "grid_template_areas": null,
            "object_position": null,
            "object_fit": null,
            "grid_auto_columns": null,
            "margin": null,
            "display": null,
            "left": null
          }
        },
        "14477e8d0cc74bbdae024e5840a6736f": {
          "model_module": "@jupyter-widgets/controls",
          "model_name": "FloatProgressModel",
          "state": {
            "_view_name": "ProgressView",
            "style": "IPY_MODEL_303636421fab4687a392781586bf157e",
            "_dom_classes": [],
            "description": "100%",
            "_model_name": "FloatProgressModel",
            "bar_style": "success",
            "max": 1052,
            "_view_module": "@jupyter-widgets/controls",
            "_model_module_version": "1.5.0",
            "value": 1052,
            "_view_count": null,
            "_view_module_version": "1.5.0",
            "orientation": "horizontal",
            "min": 0,
            "description_tooltip": null,
            "_model_module": "@jupyter-widgets/controls",
            "layout": "IPY_MODEL_67c952dcbd1940c5b018734cf6addcda"
          }
        },
        "8fb25792e7d84de193eeffb238ca35ad": {
          "model_module": "@jupyter-widgets/controls",
          "model_name": "HTMLModel",
          "state": {
            "_view_name": "HTMLView",
            "style": "IPY_MODEL_699143a00c9e454fbe3958d0c2f38304",
            "_dom_classes": [],
            "description": "",
            "_model_name": "HTMLModel",
            "placeholder": "​",
            "_view_module": "@jupyter-widgets/controls",
            "_model_module_version": "1.5.0",
            "value": " 1052/1052 [00:01&lt;00:00, 529.80it/s]",
            "_view_count": null,
            "_view_module_version": "1.5.0",
            "description_tooltip": null,
            "_model_module": "@jupyter-widgets/controls",
            "layout": "IPY_MODEL_432ae53e590d4923bb1e9edad28e6626"
          }
        },
        "303636421fab4687a392781586bf157e": {
          "model_module": "@jupyter-widgets/controls",
          "model_name": "ProgressStyleModel",
          "state": {
            "_view_name": "StyleView",
            "_model_name": "ProgressStyleModel",
            "description_width": "initial",
            "_view_module": "@jupyter-widgets/base",
            "_model_module_version": "1.5.0",
            "_view_count": null,
            "_view_module_version": "1.2.0",
            "bar_color": null,
            "_model_module": "@jupyter-widgets/controls"
          }
        },
        "67c952dcbd1940c5b018734cf6addcda": {
          "model_module": "@jupyter-widgets/base",
          "model_name": "LayoutModel",
          "state": {
            "_view_name": "LayoutView",
            "grid_template_rows": null,
            "right": null,
            "justify_content": null,
            "_view_module": "@jupyter-widgets/base",
            "overflow": null,
            "_model_module_version": "1.2.0",
            "_view_count": null,
            "flex_flow": null,
            "width": null,
            "min_width": null,
            "border": null,
            "align_items": null,
            "bottom": null,
            "_model_module": "@jupyter-widgets/base",
            "top": null,
            "grid_column": null,
            "overflow_y": null,
            "overflow_x": null,
            "grid_auto_flow": null,
            "grid_area": null,
            "grid_template_columns": null,
            "flex": null,
            "_model_name": "LayoutModel",
            "justify_items": null,
            "grid_row": null,
            "max_height": null,
            "align_content": null,
            "visibility": null,
            "align_self": null,
            "height": null,
            "min_height": null,
            "padding": null,
            "grid_auto_rows": null,
            "grid_gap": null,
            "max_width": null,
            "order": null,
            "_view_module_version": "1.2.0",
            "grid_template_areas": null,
            "object_position": null,
            "object_fit": null,
            "grid_auto_columns": null,
            "margin": null,
            "display": null,
            "left": null
          }
        },
        "699143a00c9e454fbe3958d0c2f38304": {
          "model_module": "@jupyter-widgets/controls",
          "model_name": "DescriptionStyleModel",
          "state": {
            "_view_name": "StyleView",
            "_model_name": "DescriptionStyleModel",
            "description_width": "",
            "_view_module": "@jupyter-widgets/base",
            "_model_module_version": "1.5.0",
            "_view_count": null,
            "_view_module_version": "1.2.0",
            "_model_module": "@jupyter-widgets/controls"
          }
        },
        "432ae53e590d4923bb1e9edad28e6626": {
          "model_module": "@jupyter-widgets/base",
          "model_name": "LayoutModel",
          "state": {
            "_view_name": "LayoutView",
            "grid_template_rows": null,
            "right": null,
            "justify_content": null,
            "_view_module": "@jupyter-widgets/base",
            "overflow": null,
            "_model_module_version": "1.2.0",
            "_view_count": null,
            "flex_flow": null,
            "width": null,
            "min_width": null,
            "border": null,
            "align_items": null,
            "bottom": null,
            "_model_module": "@jupyter-widgets/base",
            "top": null,
            "grid_column": null,
            "overflow_y": null,
            "overflow_x": null,
            "grid_auto_flow": null,
            "grid_area": null,
            "grid_template_columns": null,
            "flex": null,
            "_model_name": "LayoutModel",
            "justify_items": null,
            "grid_row": null,
            "max_height": null,
            "align_content": null,
            "visibility": null,
            "align_self": null,
            "height": null,
            "min_height": null,
            "padding": null,
            "grid_auto_rows": null,
            "grid_gap": null,
            "max_width": null,
            "order": null,
            "_view_module_version": "1.2.0",
            "grid_template_areas": null,
            "object_position": null,
            "object_fit": null,
            "grid_auto_columns": null,
            "margin": null,
            "display": null,
            "left": null
          }
        },
        "616e4491f51241d193f3af29fad7a2c7": {
          "model_module": "@jupyter-widgets/controls",
          "model_name": "HBoxModel",
          "state": {
            "_view_name": "HBoxView",
            "_dom_classes": [],
            "_model_name": "HBoxModel",
            "_view_module": "@jupyter-widgets/controls",
            "_model_module_version": "1.5.0",
            "_view_count": null,
            "_view_module_version": "1.5.0",
            "box_style": "",
            "layout": "IPY_MODEL_da6170ccae76441ea8a107a1a3117317",
            "_model_module": "@jupyter-widgets/controls",
            "children": [
              "IPY_MODEL_578dd8731c3447e6a3ddfcff4561b12b",
              "IPY_MODEL_b294c53d2c3d4cd3875b3c6515bc0d24"
            ]
          }
        },
        "da6170ccae76441ea8a107a1a3117317": {
          "model_module": "@jupyter-widgets/base",
          "model_name": "LayoutModel",
          "state": {
            "_view_name": "LayoutView",
            "grid_template_rows": null,
            "right": null,
            "justify_content": null,
            "_view_module": "@jupyter-widgets/base",
            "overflow": null,
            "_model_module_version": "1.2.0",
            "_view_count": null,
            "flex_flow": null,
            "width": null,
            "min_width": null,
            "border": null,
            "align_items": null,
            "bottom": null,
            "_model_module": "@jupyter-widgets/base",
            "top": null,
            "grid_column": null,
            "overflow_y": null,
            "overflow_x": null,
            "grid_auto_flow": null,
            "grid_area": null,
            "grid_template_columns": null,
            "flex": null,
            "_model_name": "LayoutModel",
            "justify_items": null,
            "grid_row": null,
            "max_height": null,
            "align_content": null,
            "visibility": null,
            "align_self": null,
            "height": null,
            "min_height": null,
            "padding": null,
            "grid_auto_rows": null,
            "grid_gap": null,
            "max_width": null,
            "order": null,
            "_view_module_version": "1.2.0",
            "grid_template_areas": null,
            "object_position": null,
            "object_fit": null,
            "grid_auto_columns": null,
            "margin": null,
            "display": null,
            "left": null
          }
        },
        "578dd8731c3447e6a3ddfcff4561b12b": {
          "model_module": "@jupyter-widgets/controls",
          "model_name": "FloatProgressModel",
          "state": {
            "_view_name": "ProgressView",
            "style": "IPY_MODEL_e5af69641f40432fad9fe5288aec4f9e",
            "_dom_classes": [],
            "description": "100%",
            "_model_name": "FloatProgressModel",
            "bar_style": "success",
            "max": 1052,
            "_view_module": "@jupyter-widgets/controls",
            "_model_module_version": "1.5.0",
            "value": 1052,
            "_view_count": null,
            "_view_module_version": "1.5.0",
            "orientation": "horizontal",
            "min": 0,
            "description_tooltip": null,
            "_model_module": "@jupyter-widgets/controls",
            "layout": "IPY_MODEL_ad861f2d23794a1c9956a85317af20d2"
          }
        },
        "b294c53d2c3d4cd3875b3c6515bc0d24": {
          "model_module": "@jupyter-widgets/controls",
          "model_name": "HTMLModel",
          "state": {
            "_view_name": "HTMLView",
            "style": "IPY_MODEL_79cf0bd6b2874f6d91cc56769c349825",
            "_dom_classes": [],
            "description": "",
            "_model_name": "HTMLModel",
            "placeholder": "​",
            "_view_module": "@jupyter-widgets/controls",
            "_model_module_version": "1.5.0",
            "value": " 1052/1052 [04:40&lt;00:00,  3.75it/s]",
            "_view_count": null,
            "_view_module_version": "1.5.0",
            "description_tooltip": null,
            "_model_module": "@jupyter-widgets/controls",
            "layout": "IPY_MODEL_99faa26080484a279feeca7803cc9b87"
          }
        },
        "e5af69641f40432fad9fe5288aec4f9e": {
          "model_module": "@jupyter-widgets/controls",
          "model_name": "ProgressStyleModel",
          "state": {
            "_view_name": "StyleView",
            "_model_name": "ProgressStyleModel",
            "description_width": "initial",
            "_view_module": "@jupyter-widgets/base",
            "_model_module_version": "1.5.0",
            "_view_count": null,
            "_view_module_version": "1.2.0",
            "bar_color": null,
            "_model_module": "@jupyter-widgets/controls"
          }
        },
        "ad861f2d23794a1c9956a85317af20d2": {
          "model_module": "@jupyter-widgets/base",
          "model_name": "LayoutModel",
          "state": {
            "_view_name": "LayoutView",
            "grid_template_rows": null,
            "right": null,
            "justify_content": null,
            "_view_module": "@jupyter-widgets/base",
            "overflow": null,
            "_model_module_version": "1.2.0",
            "_view_count": null,
            "flex_flow": null,
            "width": null,
            "min_width": null,
            "border": null,
            "align_items": null,
            "bottom": null,
            "_model_module": "@jupyter-widgets/base",
            "top": null,
            "grid_column": null,
            "overflow_y": null,
            "overflow_x": null,
            "grid_auto_flow": null,
            "grid_area": null,
            "grid_template_columns": null,
            "flex": null,
            "_model_name": "LayoutModel",
            "justify_items": null,
            "grid_row": null,
            "max_height": null,
            "align_content": null,
            "visibility": null,
            "align_self": null,
            "height": null,
            "min_height": null,
            "padding": null,
            "grid_auto_rows": null,
            "grid_gap": null,
            "max_width": null,
            "order": null,
            "_view_module_version": "1.2.0",
            "grid_template_areas": null,
            "object_position": null,
            "object_fit": null,
            "grid_auto_columns": null,
            "margin": null,
            "display": null,
            "left": null
          }
        },
        "79cf0bd6b2874f6d91cc56769c349825": {
          "model_module": "@jupyter-widgets/controls",
          "model_name": "DescriptionStyleModel",
          "state": {
            "_view_name": "StyleView",
            "_model_name": "DescriptionStyleModel",
            "description_width": "",
            "_view_module": "@jupyter-widgets/base",
            "_model_module_version": "1.5.0",
            "_view_count": null,
            "_view_module_version": "1.2.0",
            "_model_module": "@jupyter-widgets/controls"
          }
        },
        "99faa26080484a279feeca7803cc9b87": {
          "model_module": "@jupyter-widgets/base",
          "model_name": "LayoutModel",
          "state": {
            "_view_name": "LayoutView",
            "grid_template_rows": null,
            "right": null,
            "justify_content": null,
            "_view_module": "@jupyter-widgets/base",
            "overflow": null,
            "_model_module_version": "1.2.0",
            "_view_count": null,
            "flex_flow": null,
            "width": null,
            "min_width": null,
            "border": null,
            "align_items": null,
            "bottom": null,
            "_model_module": "@jupyter-widgets/base",
            "top": null,
            "grid_column": null,
            "overflow_y": null,
            "overflow_x": null,
            "grid_auto_flow": null,
            "grid_area": null,
            "grid_template_columns": null,
            "flex": null,
            "_model_name": "LayoutModel",
            "justify_items": null,
            "grid_row": null,
            "max_height": null,
            "align_content": null,
            "visibility": null,
            "align_self": null,
            "height": null,
            "min_height": null,
            "padding": null,
            "grid_auto_rows": null,
            "grid_gap": null,
            "max_width": null,
            "order": null,
            "_view_module_version": "1.2.0",
            "grid_template_areas": null,
            "object_position": null,
            "object_fit": null,
            "grid_auto_columns": null,
            "margin": null,
            "display": null,
            "left": null
          }
        }
      }
    }
  },
  "cells": [
    {
      "cell_type": "markdown",
      "metadata": {
        "id": "view-in-github",
        "colab_type": "text"
      },
      "source": [
        "<a href=\"https://colab.research.google.com/github/Jaimemorillo/ShouldIwatchThisMovie/blob/master/Memoria_experiment3_2.ipynb\" target=\"_parent\"><img src=\"https://colab.research.google.com/assets/colab-badge.svg\" alt=\"Open In Colab\"/></a>"
      ]
    },
    {
      "cell_type": "markdown",
      "metadata": {
        "id": "DORREvSKVbb4"
      },
      "source": [
        "Aplicamos las técnicas de preprocesamiento que hemos comprobado más efectivas y aplicamos word emmbedding. Al ser el resultado una matriz aplicamos CNN"
      ]
    },
    {
      "cell_type": "code",
      "metadata": {
        "colab": {
          "base_uri": "https://localhost:8080/"
        },
        "id": "mk8_bsNkVbMa",
        "outputId": "82713af0-b57d-4cb6-a66a-7d14ef8972f3"
      },
      "source": [
        "from google.colab import drive\n",
        "drive.mount('/content/gdrive')"
      ],
      "execution_count": 2,
      "outputs": [
        {
          "output_type": "stream",
          "text": [
            "Drive already mounted at /content/gdrive; to attempt to forcibly remount, call drive.mount(\"/content/gdrive\", force_remount=True).\n"
          ],
          "name": "stdout"
        }
      ]
    },
    {
      "cell_type": "code",
      "metadata": {
        "colab": {
          "base_uri": "https://localhost:8080/"
        },
        "id": "ng-FlAwtVrQY",
        "outputId": "fc737570-4e7a-4386-f56a-e1b48123bb9e"
      },
      "source": [
        "import pandas as pd\n",
        "import numpy as np\n",
        "\n",
        "from tqdm.notebook import tqdm\n",
        "tqdm.pandas()\n",
        "\n",
        "from numpy.random import seed\n",
        "seed(9)\n",
        "\n",
        "import tensorflow as tf\n",
        "tf.random.set_seed(9)\n",
        "\n",
        "import matplotlib.pyplot as plt\n",
        "plt.style.use('seaborn-white')\n",
        "\n",
        "import seaborn as sns\n",
        "sns.set_style(\"white\")\n",
        "sns.set_context(\"notebook\")\n",
        "\n",
        "import nltk\n",
        "from nltk.tokenize import WordPunctTokenizer\n",
        "import keras\n",
        "import re\n",
        "import string\n",
        "from collections import Counter\n",
        "\n",
        "nltk.download(\"popular\")\n",
        "nltk.download('stopwords')\n",
        "print(tf.__version__)\n",
        "\n",
        "from sklearn.feature_extraction.text import CountVectorizer\n",
        "from sklearn.model_selection import train_test_split\n",
        "\n",
        "from tensorflow.keras.preprocessing.text import Tokenizer\n",
        "from tensorflow.keras.preprocessing.sequence import pad_sequences"
      ],
      "execution_count": 69,
      "outputs": [
        {
          "output_type": "stream",
          "text": [
            "[nltk_data] Downloading collection 'popular'\n",
            "[nltk_data]    | \n",
            "[nltk_data]    | Downloading package cmudict to /root/nltk_data...\n",
            "[nltk_data]    |   Package cmudict is already up-to-date!\n",
            "[nltk_data]    | Downloading package gazetteers to /root/nltk_data...\n",
            "[nltk_data]    |   Package gazetteers is already up-to-date!\n",
            "[nltk_data]    | Downloading package genesis to /root/nltk_data...\n",
            "[nltk_data]    |   Package genesis is already up-to-date!\n",
            "[nltk_data]    | Downloading package gutenberg to /root/nltk_data...\n",
            "[nltk_data]    |   Package gutenberg is already up-to-date!\n",
            "[nltk_data]    | Downloading package inaugural to /root/nltk_data...\n",
            "[nltk_data]    |   Package inaugural is already up-to-date!\n",
            "[nltk_data]    | Downloading package movie_reviews to\n",
            "[nltk_data]    |     /root/nltk_data...\n",
            "[nltk_data]    |   Package movie_reviews is already up-to-date!\n",
            "[nltk_data]    | Downloading package names to /root/nltk_data...\n",
            "[nltk_data]    |   Package names is already up-to-date!\n",
            "[nltk_data]    | Downloading package shakespeare to /root/nltk_data...\n",
            "[nltk_data]    |   Package shakespeare is already up-to-date!\n",
            "[nltk_data]    | Downloading package stopwords to /root/nltk_data...\n",
            "[nltk_data]    |   Package stopwords is already up-to-date!\n",
            "[nltk_data]    | Downloading package treebank to /root/nltk_data...\n",
            "[nltk_data]    |   Package treebank is already up-to-date!\n",
            "[nltk_data]    | Downloading package twitter_samples to\n",
            "[nltk_data]    |     /root/nltk_data...\n",
            "[nltk_data]    |   Package twitter_samples is already up-to-date!\n",
            "[nltk_data]    | Downloading package omw to /root/nltk_data...\n",
            "[nltk_data]    |   Package omw is already up-to-date!\n",
            "[nltk_data]    | Downloading package wordnet to /root/nltk_data...\n",
            "[nltk_data]    |   Package wordnet is already up-to-date!\n",
            "[nltk_data]    | Downloading package wordnet_ic to /root/nltk_data...\n",
            "[nltk_data]    |   Package wordnet_ic is already up-to-date!\n",
            "[nltk_data]    | Downloading package words to /root/nltk_data...\n",
            "[nltk_data]    |   Package words is already up-to-date!\n",
            "[nltk_data]    | Downloading package maxent_ne_chunker to\n",
            "[nltk_data]    |     /root/nltk_data...\n",
            "[nltk_data]    |   Package maxent_ne_chunker is already up-to-date!\n",
            "[nltk_data]    | Downloading package punkt to /root/nltk_data...\n",
            "[nltk_data]    |   Package punkt is already up-to-date!\n",
            "[nltk_data]    | Downloading package snowball_data to\n",
            "[nltk_data]    |     /root/nltk_data...\n",
            "[nltk_data]    |   Package snowball_data is already up-to-date!\n",
            "[nltk_data]    | Downloading package averaged_perceptron_tagger to\n",
            "[nltk_data]    |     /root/nltk_data...\n",
            "[nltk_data]    |   Package averaged_perceptron_tagger is already up-\n",
            "[nltk_data]    |       to-date!\n",
            "[nltk_data]    | \n",
            "[nltk_data]  Done downloading collection popular\n",
            "[nltk_data] Downloading package stopwords to /root/nltk_data...\n",
            "[nltk_data]   Package stopwords is already up-to-date!\n",
            "2.4.1\n"
          ],
          "name": "stdout"
        },
        {
          "output_type": "stream",
          "text": [
            "/usr/local/lib/python3.7/dist-packages/tqdm/std.py:658: FutureWarning: The Panel class is removed from pandas. Accessing it from the top-level namespace will also be removed in the next version\n",
            "  from pandas import Panel\n"
          ],
          "name": "stderr"
        }
      ]
    },
    {
      "cell_type": "code",
      "metadata": {
        "colab": {
          "base_uri": "https://localhost:8080/"
        },
        "id": "YVGUxQVah1Vi",
        "outputId": "ac505365-2a77-4d16-b9c3-3119510b8d05"
      },
      "source": [
        "df = pd.read_csv(\"gdrive/My Drive/TFG/overviews_final.csv\", sep='#',encoding='utf-8', lineterminator='\\n')\n",
        "\n",
        "df['text_array'] = df.overview.str.split(\" \")\n",
        "df['n_words'] = df['text_array'].apply(lambda x: len(x))\n",
        "df = df.drop(columns=['text_array'])\n",
        "df = df[df['n_words']>15]\n",
        "\n",
        "df.shape"
      ],
      "execution_count": 4,
      "outputs": [
        {
          "output_type": "execute_result",
          "data": {
            "text/plain": [
              "(1052, 9)"
            ]
          },
          "metadata": {
            "tags": []
          },
          "execution_count": 4
        }
      ]
    },
    {
      "cell_type": "code",
      "metadata": {
        "colab": {
          "base_uri": "https://localhost:8080/",
          "height": 66,
          "referenced_widgets": [
            "f1c868d5f16e46f0b23c7cb8299e240f",
            "4b0da007b61742c98db0422425429cd0",
            "99748d45aa4145d6ac16eb757737b6f9",
            "04242c4f4e6c4129ac87f6a31efba040",
            "e0c9d029d4eb47b0bf4dc9511b7fcb19",
            "a383478ed120448382cf7ef377c8cf91",
            "e825f9ab4021426d92b5c2ee76bde1b6",
            "23d1106b704a48309eccb32b4decd7e4"
          ]
        },
        "id": "NHeg9RgriO-7",
        "outputId": "f3f21dbd-f5c9-40ab-ecde-2c8bf2f888b3"
      },
      "source": [
        "df['new_overviews'] = df['new_overviews'].progress_apply(lambda x: eval(x))"
      ],
      "execution_count": 5,
      "outputs": [
        {
          "output_type": "display_data",
          "data": {
            "application/vnd.jupyter.widget-view+json": {
              "model_id": "f1c868d5f16e46f0b23c7cb8299e240f",
              "version_minor": 0,
              "version_major": 2
            },
            "text/plain": [
              "HBox(children=(FloatProgress(value=0.0, max=1052.0), HTML(value='')))"
            ]
          },
          "metadata": {
            "tags": []
          }
        },
        {
          "output_type": "stream",
          "text": [
            "\n"
          ],
          "name": "stdout"
        }
      ]
    },
    {
      "cell_type": "code",
      "metadata": {
        "id": "1hOaFwu5iTY1"
      },
      "source": [
        "# Normalización\n",
        "\n",
        "def normalize(x):\n",
        "  x = x.lower()\n",
        "  replacements = (\n",
        "      (\"á\", \"a\"),\n",
        "      (\"é\", \"e\"),\n",
        "      (\"í\", \"i\"),\n",
        "      (\"ó\", \"o\"),\n",
        "      (\"ú\", \"u\"),\n",
        "      (\"ñ\", \"n\")\n",
        "  )\n",
        "  for a, b in replacements:\n",
        "      x = x.replace(a, b)\n",
        "\n",
        "  x = x.translate(str.maketrans('','',string.punctuation))\n",
        "  x = x.translate(str.maketrans('','','ªº¡¿'))   \n",
        "  x = x.replace(\"  \", \" \") \n",
        "  return x\n",
        "\n",
        "# Stop_words\n",
        "\n",
        "stop_words = pd.read_csv(\"gdrive/My Drive/TFG/stopwords-es.txt\",header=None)\n",
        "stop_words = stop_words[0].tolist()\n",
        "stop_words = [normalize(word) for word in stop_words]\n",
        "\n",
        "def delete_stop_words(x):\n",
        "  words = x.split(' ')\n",
        "  words = [word for word in words if word not in stop_words]\n",
        "  x = str(' '.join(words))\n",
        "  return x\n",
        "\n",
        "# Steaming\n",
        "\n",
        "from nltk import word_tokenize\n",
        "from nltk.stem import SnowballStemmer\n",
        "\n",
        "stemmer = SnowballStemmer(\"spanish\", ignore_stopwords=True)\n",
        "\n",
        "def stem_sentence(sentence):\n",
        "  stemmed_text = [stemmer.stem(word) for word in word_tokenize(sentence)]\n",
        "  return \" \".join(stemmed_text)"
      ],
      "execution_count": 7,
      "outputs": []
    },
    {
      "cell_type": "code",
      "metadata": {
        "colab": {
          "base_uri": "https://localhost:8080/",
          "height": 313,
          "referenced_widgets": [
            "498d8b9a83444a6ca66dfe588779feb0",
            "2bc919a132414e618336aa5e8f965601",
            "16ea177a528c48f7aaa3f58a0c739d9b",
            "04289f651c264268b602f5bb0e04cc17",
            "f5263d69a9c649a5aaadba82967123db",
            "9f63dbe6490b470098c32ae7bbb89d1f",
            "a53e6b358e1e48cd99cf48da9f68ac66",
            "fa8a573997124f528f5b458ea77b7ef2",
            "abba150ed74d40b884749cbc01259b68",
            "5237a8f26c3d494ab279630313780efb",
            "bec4b1f30b1a4e229493b499103532d9",
            "fd99c42bdc074e6c9beb1ea290ad344b",
            "1aa1622b1a024825814afafed2c9cb2c",
            "98ddca2251634a2fbaf754976f461b8e",
            "a7a4ac757b064b149599416c28b7d4c6",
            "b05a45fc51fb4218aab2bed780ebf631",
            "4709e26d57154ab48a53a0146afa33a5",
            "8ed6eac2dd4143deaee9a92d4caf606e",
            "52a100c038824e6f93f55dc7046e826b",
            "d4acc7b94e684a86a7a31636df52b8b6",
            "d24ef6a3fc37400f9207533f3bbd403a",
            "a420643cf2b44088a017e768ff594e76",
            "8ba857018ce0486798122b1f031a9b9a",
            "71dc4e5b94f94b68819ef0f8e5024e9e",
            "98b5053d81d048ed8dbef671b5889a8a",
            "aac105aa7e3347c3a567e6595a5762a7",
            "e6e3a48ab28e4ba2b05c44924125ce02",
            "5c8dcf4fd7ad4e22b16f0543631cccff",
            "781b5e2c586e4416b486deea64375030",
            "8ea1fdaf08f7455aabd814caf9220a2e",
            "bda3166092674adf88d1cf490e037ba4",
            "f12d3317550b4d71828f45ac66c540e9",
            "6963d2ded48c4f48808c9e4bb5c82c9a",
            "7c75a6f9f5d549c3bad53167d6610edf",
            "14477e8d0cc74bbdae024e5840a6736f",
            "8fb25792e7d84de193eeffb238ca35ad",
            "303636421fab4687a392781586bf157e",
            "67c952dcbd1940c5b018734cf6addcda",
            "699143a00c9e454fbe3958d0c2f38304",
            "432ae53e590d4923bb1e9edad28e6626",
            "616e4491f51241d193f3af29fad7a2c7",
            "da6170ccae76441ea8a107a1a3117317",
            "578dd8731c3447e6a3ddfcff4561b12b",
            "b294c53d2c3d4cd3875b3c6515bc0d24",
            "e5af69641f40432fad9fe5288aec4f9e",
            "ad861f2d23794a1c9956a85317af20d2",
            "79cf0bd6b2874f6d91cc56769c349825",
            "99faa26080484a279feeca7803cc9b87"
          ]
        },
        "id": "8Mxcz7xniZnJ",
        "outputId": "84d9c2e8-0fb7-4bb0-ca6a-bb0f7f588d7f"
      },
      "source": [
        "df['overview'] = df['overview'].progress_apply(lambda x: normalize(x))\n",
        "df['new_overviews'] = df['new_overviews'].progress_apply(lambda x: [normalize(i) for i in x])\n",
        "\n",
        "df['overview'] = df['overview'].progress_apply(lambda x: delete_stop_words(x))\n",
        "df['new_overviews'] = df['new_overviews'].progress_apply(lambda x: [delete_stop_words(i) for i in x])\n",
        "\n",
        "df['overview'] = df['overview'].progress_apply(lambda x: stem_sentence(x))\n",
        "df['new_overviews'] = df['new_overviews'].progress_apply(lambda x: [stem_sentence(i) for i in x])"
      ],
      "execution_count": 8,
      "outputs": [
        {
          "output_type": "display_data",
          "data": {
            "application/vnd.jupyter.widget-view+json": {
              "model_id": "498d8b9a83444a6ca66dfe588779feb0",
              "version_minor": 0,
              "version_major": 2
            },
            "text/plain": [
              "HBox(children=(FloatProgress(value=0.0, max=1052.0), HTML(value='')))"
            ]
          },
          "metadata": {
            "tags": []
          }
        },
        {
          "output_type": "stream",
          "text": [
            "\n"
          ],
          "name": "stdout"
        },
        {
          "output_type": "display_data",
          "data": {
            "application/vnd.jupyter.widget-view+json": {
              "model_id": "abba150ed74d40b884749cbc01259b68",
              "version_minor": 0,
              "version_major": 2
            },
            "text/plain": [
              "HBox(children=(FloatProgress(value=0.0, max=1052.0), HTML(value='')))"
            ]
          },
          "metadata": {
            "tags": []
          }
        },
        {
          "output_type": "stream",
          "text": [
            "\n"
          ],
          "name": "stdout"
        },
        {
          "output_type": "display_data",
          "data": {
            "application/vnd.jupyter.widget-view+json": {
              "model_id": "4709e26d57154ab48a53a0146afa33a5",
              "version_minor": 0,
              "version_major": 2
            },
            "text/plain": [
              "HBox(children=(FloatProgress(value=0.0, max=1052.0), HTML(value='')))"
            ]
          },
          "metadata": {
            "tags": []
          }
        },
        {
          "output_type": "stream",
          "text": [
            "\n"
          ],
          "name": "stdout"
        },
        {
          "output_type": "display_data",
          "data": {
            "application/vnd.jupyter.widget-view+json": {
              "model_id": "98b5053d81d048ed8dbef671b5889a8a",
              "version_minor": 0,
              "version_major": 2
            },
            "text/plain": [
              "HBox(children=(FloatProgress(value=0.0, max=1052.0), HTML(value='')))"
            ]
          },
          "metadata": {
            "tags": []
          }
        },
        {
          "output_type": "stream",
          "text": [
            "\n"
          ],
          "name": "stdout"
        },
        {
          "output_type": "display_data",
          "data": {
            "application/vnd.jupyter.widget-view+json": {
              "model_id": "6963d2ded48c4f48808c9e4bb5c82c9a",
              "version_minor": 0,
              "version_major": 2
            },
            "text/plain": [
              "HBox(children=(FloatProgress(value=0.0, max=1052.0), HTML(value='')))"
            ]
          },
          "metadata": {
            "tags": []
          }
        },
        {
          "output_type": "stream",
          "text": [
            "\n"
          ],
          "name": "stdout"
        },
        {
          "output_type": "display_data",
          "data": {
            "application/vnd.jupyter.widget-view+json": {
              "model_id": "616e4491f51241d193f3af29fad7a2c7",
              "version_minor": 0,
              "version_major": 2
            },
            "text/plain": [
              "HBox(children=(FloatProgress(value=0.0, max=1052.0), HTML(value='')))"
            ]
          },
          "metadata": {
            "tags": []
          }
        },
        {
          "output_type": "stream",
          "text": [
            "\n"
          ],
          "name": "stdout"
        }
      ]
    },
    {
      "cell_type": "code",
      "metadata": {
        "id": "_O4YS2_MiXE2"
      },
      "source": [
        "# Get Text augmentation\n",
        "\n",
        "X = df.drop(columns=['like'])\n",
        "y = df['like']\n",
        "\n",
        "X_train, X_test, y_train, y_test = train_test_split(X, y, test_size=0.2, stratify=y, random_state=1996)\n",
        "\n",
        "X_test = X_test['overview']\n",
        "y_test = y_test.values\n",
        "\n",
        "X_train_new = X_train['overview'].copy()\n",
        "y_train_new = y_train.copy()\n",
        "\n",
        "for i in range(0, len(X_train)):\n",
        "  new_series_X = pd.Series(X_train.iloc[i]['new_overviews'])\n",
        "  X_train_new = X_train_new.append(new_series_X, ignore_index=True)\n",
        "\n",
        "  y_value = y_train.iloc[i]\n",
        "  new_series_y = pd.Series([y_value, y_value, y_value])\n",
        "  y_train_new = y_train_new.append(new_series_y, ignore_index=True)\n",
        "\n",
        "y_train_new = y_train_new.values"
      ],
      "execution_count": 78,
      "outputs": []
    },
    {
      "cell_type": "code",
      "metadata": {
        "id": "hjzPvmsdkP8y"
      },
      "source": [
        "# Parameters\n",
        "num_words = 6000\n",
        "maxlen = 90"
      ],
      "execution_count": 79,
      "outputs": []
    },
    {
      "cell_type": "markdown",
      "metadata": {
        "id": "rdWDgTtVo1yv"
      },
      "source": [
        "Como en la practica lo que hace Keras para calcular el embedding es indexar la matriz de embbedding necesitamos asignar un índice a cada palabra y aplicarlo a los textos, vamos a generar este indice en función de las sinopsis del train."
      ]
    },
    {
      "cell_type": "code",
      "metadata": {
        "colab": {
          "base_uri": "https://localhost:8080/"
        },
        "id": "wQSnYBArjEo_",
        "outputId": "0d513e09-9308-456f-da2c-38f936759028"
      },
      "source": [
        "# https://keras.io/api/preprocessing/text/\n",
        "\n",
        "tokenizer = Tokenizer(num_words=num_words, oov_token='OOV') # Mark non vocabulary words with index 1\n",
        "tokenizer.fit_on_texts(X_train_new)\n",
        "print(X_train_new[0]) \n",
        "\n",
        "X_train = tokenizer.texts_to_sequences(X_train_new) \n",
        "X_test = tokenizer.texts_to_sequences(X_test)\n",
        "\n",
        "vocab_size = len(tokenizer.word_index) + 1 # Adding 1 because of reserved 0 index for future padding\n",
        "\n",
        "print(X_train[0]) \n",
        "print(vocab_size)\n",
        "\n",
        "# Max length vector\n",
        "print(len(max(X_train, key=len)))\n",
        "\n",
        "print(tokenizer.word_index.items())"
      ],
      "execution_count": 80,
      "outputs": [
        {
          "output_type": "stream",
          "text": [
            "futur kaijus logr conquist tierr human deber dej hog mud planet desgraci alberg unic esper sobreviv volv tierr venc godzill regres 20000 anos domini kaiju human deber enfrent\n",
            "[60, 4388, 155, 665, 19, 13, 54, 53, 215, 577, 46, 1747, 4094, 37, 58, 126, 112, 19, 629, 2106, 66, 1, 4, 1192, 1872, 13, 54, 25]\n",
            "8943\n",
            "90\n",
            "dict_items([('OOV', 1), ('vid', 2), ('mund', 3), ('anos', 4), ('amig', 5), ('jov', 6), ('hij', 7), ('cas', 8), ('padr', 9), ('viv', 10), ('descubr', 11), ('conoc', 12), ('human', 13), ('famili', 14), ('decid', 15), ('histori', 16), ('ayud', 17), ('llam', 18), ('tierr', 19), ('misteri', 20), ('lleg', 21), ('agent', 22), ('hombr', 23), ('peligr', 24), ('enfrent', 25), ('luch', 26), ('nin', 27), ('pas', 28), ('secret', 29), ('grup', 30), ('form', 31), ('acab', 32), ('pequen', 33), ('poder', 34), ('encontr', 35), ('chic', 36), ('unic', 37), ('ciud', 38), ('salv', 39), ('muert', 40), ('aventur', 41), ('mision', 42), ('herman', 43), ('busc', 44), ('viaj', 45), ('planet', 46), ('equip', 47), ('guerr', 48), ('muj', 49), ('cre', 50), ('fuerz', 51), ('pelicul', 52), ('dej', 53), ('deber', 54), ('madr', 55), ('amenaz', 56), ('plan', 57), ('esper', 58), ('cambi', 59), ('futur', 60), ('sal', 61), ('amor', 62), ('convert', 63), ('man', 64), ('llev', 65), ('regres', 66), ('vuelv', 67), ('objet', 68), ('person', 69), ('univers', 70), ('polici', 71), ('estudi', 72), ('comienz', 73), ('especial', 74), ('qued', 75), ('antigu', 76), ('tom', 77), ('dirig', 78), ('unid', 79), ('perd', 80), ('rein', 81), ('carrer', 82), ('problem', 83), ('companer', 84), ('entreg', 85), ('joven', 86), ('jam', 87), ('unk', 88), ('malv', 89), ('relacion', 90), ('asesin', 91), ('criatur', 92), ('suen', 93), ('adolescent', 94), ('john', 95), ('seri', 96), ('noch', 97), ('ve', 98), ('extran', 99), ('famos', 100), ('intent', 101), ('punt', 102), ('ano', 103), ('empiez', 104), ('enemig', 105), ('bas', 106), ('investig', 107), ('cuy', 108), ('pon', 109), ('junt', 110), ('band', 111), ('volv', 112), ('personaj', 113), ('realid', 114), ('encuentr', 115), ('jueg', 116), ('libr', 117), ('profesor', 118), ('accion', 119), ('camin', 120), ('oblig', 121), ('bell', 122), ('escap', 123), ('hac', 124), ('orden', 125), ('sobreviv', 126), ('segur', 127), ('cientif', 128), ('envi', 129), ('prueb', 130), ('recuper', 131), ('novi', 132), ('oscur', 133), ('puebl', 134), ('pet', 135), ('jef', 136), ('gan', 137), ('sag', 138), ('real', 139), ('entren', 140), ('conviert', 141), ('viej', 142), ('rescat', 143), ('control', 144), ('centr', 145), ('mundial', 146), ('batall', 147), ('ali', 148), ('destru', 149), ('bond', 150), ('criminal', 151), ('dese', 152), ('cuerp', 153), ('recib', 154), ('logr', 155), ('final', 156), ('mil', 157), ('isla', 158), ('trat', 159), ('adaptacion', 160), ('terror', 161), ('monstru', 162), ('ejercit', 163), ('evit', 164), ('parej', 165), ('her', 166), ('exit', 167), ('york', 168), ('destin', 169), ('dur', 170), ('alienigen', 171), ('nombr', 172), ('secuel', 173), ('aparec', 174), ('rey', 175), ('popul', 176), ('termin', 177), ('visit', 178), ('the', 179), ('asesinat', 180), ('terribl', 181), ('secuestr', 182), ('animal', 183), ('villan', 184), ('situacion', 185), ('import', 186), ('ver', 187), ('proteg', 188), ('mejor', 189), ('raz', 190), ('music', 191), ('aparent', 192), ('capit', 193), ('enorm', 194), ('program', 195), ('vist', 196), ('existent', 197), ('rest', 198), ('hero', 199), ('graci', 200), ('combat', 201), ('princes', 202), ('jack', 203), ('rob', 204), ('ide', 205), ('inteligent', 206), ('enamor', 207), ('abandon', 208), ('blanc', 209), ('will', 210), ('lider', 211), ('utiliz', 212), ('michael', 213), ('magic', 214), ('hog', 215), ('acompan', 216), ('guerrer', 217), ('busqued', 218), ('”', 219), ('complet', 220), ('maquin', 221), ('clas', 222), ('estrell', 223), ('pist', 224), ('har', 225), ('encarg', 226), ('result', 227), ('ocurr', 228), ('protagon', 229), ('cin', 230), ('atrap', 231), ('espacial', 232), ('habit', 233), ('miembr', 234), ('reclut', 235), ('nav', 236), ('negr', 237), ('millon', 238), ('escond', 239), ('inesper', 240), ('mat', 241), ('mar', 242), ('comun', 243), ('com', 244), ('habil', 245), ('profund', 246), ('fuert', 247), ('empres', 248), ('organizacion', 249), ('dav', 250), ('deten', 251), ('espos', 252), ('cab', 253), ('jon', 254), ('“', 255), ('captur', 256), ('desarroll', 257), ('caus', 258), ('servici', 259), ('doctor', 260), ('present', 261), ('destruccion', 262), ('frank', 263), ('mortal', 264), ('llen', 265), ('cumpl', 266), ('ambient', 267), ('britan', 268), ('public', 269), ('enter', 270), ('original', 271), ('modern', 272), ('venganz', 273), ('complic', 274), ('comenz', 275), ('«', 276), ('red', 277), ('corazon', 278), ('desesper', 279), ('atac', 280), ('necesit', 281), ('reun', 282), ('ident', 283), ('continu', 284), ('ocasion', 285), ('perr', 286), ('mutant', 287), ('espectacul', 288), ('parec', 289), ('milit', 290), ('director', 291), ('»', 292), ('dios', 293), ('personal', 294), ('experiment', 295), ('american', 296), ('vecin', 297), ('ray', 298), ('internacional', 299), ('ser', 300), ('med', 301), ('ensen', 302), ('acontec', 303), ('cart', 304), ('normal', 305), ('part', 306), ('lid', 307), ('ataqu', 308), ('fantasm', 309), ('cont', 310), ('salvaj', 311), ('medi', 312), ('trabaj', 313), ('park', 314), ('novel', 315), ('fiest', 316), ('par', 317), ('anim', 318), ('narr', 319), ('perfect', 320), ('desaparec', 321), ('lanz', 322), ('brillant', 323), ('puest', 324), ('entrar', 325), ('sistem', 326), ('clasic', 327), ('institut', 328), ('produc', 329), ('despiad', 330), ('accident', 331), ('don', 332), ('olvid', 333), ('armas', 334), ('legendari', 335), ('harry', 336), ('amer', 337), ('realment', 338), ('comic', 339), ('ocult', 340), ('ric', 341), ('gobiern', 342), ('cazador', 343), ('transform', 344), ('emprend', 345), ('dispuest', 346), ('londr', 347), ('conden', 348), ('solter', 349), ('angel', 350), ('eleg', 351), ('social', 352), ('vampir', 353), ('oportun', 354), ('sup', 355), ('manten', 356), ('alto', 357), ('segu', 358), ('increibl', 359), ('inici', 360), ('compani', 361), ('ofrec', 362), ('bruj', 363), ('detectiv', 364), ('retir', 365), ('camp', 366), ('resolv', 367), ('carg', 368), ('espiritu', 369), ('dedic', 370), ('supervivient', 371), ('espaci', 372), ('sold', 373), ('divert', 374), ('desafi', 375), ('filmaffinity', 376), ('robert', 377), ('convenc', 378), ('veran', 379), ('sigl', 380), ('charli', 381), ('gent', 382), ('william', 383), ('premi', 384), ('local', 385), ('diari', 386), ('escuel', 387), ('especi', 388), ('acerc', 389), ('́', 390), ('kevin', 391), ('diner', 392), ('super', 393), ('ven', 394), ('tim', 395), ('adult', 396), ('version', 397), ('capac', 398), ('aprend', 399), ('mujer', 400), ('barri', 401), ('vacacion', 402), ('motiv', 403), ('call', 404), ('propon', 405), ('principal', 406), ('vuelt', 407), ('entra', 408), ('expert', 409), ('johnny', 410), ('007', 411), ('quier', 412), ('menor', 413), ('desconoc', 414), ('mal', 415), ('frent', 416), ('veng', 417), ('prision', 418), ('period', 419), ('provoc', 420), ('lord', 421), ('sufr', 422), ('tecnologi', 423), ('inclu', 424), ('extraordinari', 425), ('sospech', 426), ('bail', 427), ('autor', 428), ('sam', 429), ('jason', 430), ('cuent', 431), ('contact', 432), ('unir', 433), ('organiz', 434), ('luz', 435), ('ben', 436), ('bod', 437), ('oper', 438), ('franc', 439), ('actual', 440), ('cia', 441), ('tem', 442), ('rapid', 443), ('cercan', 444), ('ingles', 445), ('liber', 446), ('negoci', 447), ('amist', 448), ('remot', 449), ('sombr', 450), ('cuart', 451), ('oficial', 452), ('naturalez', 453), ('recient', 454), ('extraterrestr', 455), ('dificil', 456), ('doc', 457), ('devast', 458), ('convirt', 459), ('coch', 460), ('agenci', 461), ('represent', 462), ('sangr', 463), ('grand', 464), ('victim', 465), ('dragon', 466), ('domin', 467), ('infiltr', 468), ('cuid', 469), ('loc', 470), ('diez', 471), ('libert', 472), ('senor', 473), ('comedi', 474), ('dec', 475), ('derrot', 476), ('rus', 477), ('vigil', 478), ('revel', 479), ('chin', 480), ('dr', 481), ('conflict', 482), ('solitari', 483), ('numer', 484), ('concurs', 485), ('president', 486), ('maestr', 487), ('juli', 488), ('total', 489), ('tranquil', 490), ('investigacion', 491), ('crim', 492), ('mag', 493), ('marc', 494), ('consecuent', 495), ('siniestr', 496), ('zon', 497), ('algui', 498), ('rod', 499), ('celebr', 500), ('veg', 501), ('cruz', 502), ('quer', 503), ('titul', 504), ('tio', 505), ('stev', 506), ('demostr', 507), ('supervivent', 508), ('lejan', 509), ('lun', 510), ('car', 511), ('dinosauri', 512), ('beb', 513), ('plen', 514), ('embarc', 515), ('muer', 516), ('polit', 517), ('thom', 518), ('recuerd', 519), ('presenci', 520), ('mit', 521), ('tiburon', 522), ('lee', 523), ('siente', 524), ('emocion', 525), ('marvel', 526), ('escrit', 527), ('intencion', 528), ('persegu', 529), ('atract', 530), ('paris', 531), ('musical', 532), ('empez', 533), ('disfrut', 534), ('galaxi', 535), ('sorpres', 536), ('brutal', 537), ('anna', 538), ('socied', 539), ('principi', 540), ('fracas', 541), ('tripulacion', 542), ('contrat', 543), ('matrimoni', 544), ('realiz', 545), ('vengador', 546), ('transport', 547), ('tip', 548), ('rebeld', 549), ('separ', 550), ('prepar', 551), ('disen', 552), ('ryan', 553), ('voz', 554), ('permit', 555), ('interior', 556), ('judi', 557), ('drog', 558), ('hotel', 559), ('encant', 560), ('curs', 561), ('norteamerican', 562), ('bruc', 563), ('artist', 564), ('traicion', 565), ('sant', 566), ('videojueg', 567), ('abuel', 568), ('capaz', 569), ('distint', 570), ('nac', 571), ('nick', 572), ('event', 573), ('besti', 574), ('pilot', 575), ('trafic', 576), ('mud', 577), ('genet', 578), ('imagin', 579), ('superher', 580), ('nort', 581), ('particip', 582), ('falt', 583), ('pondr', 584), ('alex', 585), ('mark', 586), ('interpret', 587), ('cam', 588), ('elit', 589), ('sac', 590), ('crec', 591), ('despiert', 592), ('acept', 593), ('agu', 594), ('seman', 595), ('rap', 596), ('divorci', 597), ('aprovech', 598), ('solucion', 599), ('mor', 600), ('encabez', 601), ('unen', 602), ('cost', 603), ('dian', 604), ('implac', 605), ('anill', 606), ('martin', 607), ('inspir', 608), ('caz', 609), ('traslad', 610), ('cos', 611), ('mari', 612), ('ador', 613), ('superhero', 614), ('respons', 615), ('memori', 616), ('romp', 617), ('confi', 618), ('arriesg', 619), ('hall', 620), ('danny', 621), ('alici', 622), ('torment', 623), ('sobrenatural', 624), ('edward', 625), ('experient', 626), ('intern', 627), ('alter', 628), ('venc', 629), ('temibl', 630), ('avion', 631), ('campament', 632), ('defend', 633), ('billy', 634), ('hoffm', 635), ('charl', 636), ('larg', 637), ('favorit', 638), ('estil', 639), ('pregunt', 640), ('television', 641), ('carcel', 642), ('convertir', 643), ('consegu', 644), ('estall', 645), ('preci', 646), ('pose', 647), ('pres', 648), ('valient', 649), ('sofistic', 650), ('met', 651), ('robot', 652), ('tra', 653), ('acud', 654), ('universitari', 655), ('pierd', 656), ('promet', 657), ('desencaden', 658), ('rio', 659), ('arthur', 660), ('violent', 661), ('facil', 662), ('nucl', 663), ('superior', 664), ('conquist', 665), ('parodi', 666), ('fam', 667), ('orig', 668), ('nacional', 669), ('suced', 670), ('geni', 671), ('connor', 672), ('comet', 673), ('remak', 674), ('piens', 675), ('impos', 676), ('ment', 677), ('veteran', 678), ('compr', 679), ('paul', 680), ('cinematograf', 681), ('cri', 682), ('alcanz', 683), ('explor', 684), ('invasion', 685), ('mayor', 686), ('adam', 687), ('alla', 688), ('letal', 689), ('munec', 690), ('malign', 691), ('neces', 692), ('bosqu', 693), ('inocent', 694), ('march', 695), ('delincuent', 696), ('refugi', 697), ('acus', 698), ('envuelt', 699), ('air', 700), ('ley', 701), ('tuerc', 702), ('smith', 703), ('ocup', 704), ('paz', 705), ('internet', 706), ('testig', 707), ('aventurer', 708), ('pid', 709), ('decision', 710), ('caos', 711), ('adopt', 712), ('californi', 713), ('documental', 714), ('juguet', 715), ('robots', 716), ('mexic', 717), ('intens', 718), ('apoy', 719), ('obra', 720), ('informacion', 721), ('mental', 722), ('alumn', 723), ('activ', 724), ('mes', 725), ('estadounidens', 726), ('cody', 727), ('pesadill', 728), ('unirs', 729), ('simon', 730), ('pokemon', 731), ('fond', 732), ('cit', 733), ('warr', 734), ('espanol', 735), ('golp', 736), ('practic', 737), ('nivel', 738), ('toc', 739), ('japon', 740), ('alianz', 741), ('jedi', 742), ('consider', 743), ('louis', 744), ('permanec', 745), ('lady', 746), ('fabric', 747), ('chris', 748), ('colegi', 749), ('paranormal', 750), ('ed', 751), ('averigu', 752), ('pacif', 753), ('elimin', 754), ('millonari', 755), ('terrorif', 756), ('pos', 757), ('riesg', 758), ('duen', 759), ('fisic', 760), ('escen', 761), ('actriz', 762), ('cristal', 763), ('espi', 764), ('jigsaw', 765), ('san', 766), ('crisis', 767), ('pretend', 768), ('asalt', 769), ('aparicion', 770), ('spid', 771), ('europ', 772), ('nazis', 773), ('sent', 774), ('vag', 775), ('surg', 776), ('mand', 777), ('talent', 778), ('hel', 779), ('feliz', 780), ('scott', 781), ('bob', 782), ('emple', 783), ('habl', 784), ('vuel', 785), ('andy', 786), ('relat', 787), ('superm', 788), ('reci', 789), ('obsesion', 790), ('jim', 791), ('localiz', 792), ('bomb', 793), ('navid', 794), ('gordon', 795), ('jak', 796), ('ignor', 797), ('invad', 798), ('deport', 799), ('henry', 800), ('preocup', 801), ('espan', 802), ('ancian', 803), ('atencion', 804), ('mied', 805), ('siti', 806), ('limit', 807), ('evolucion', 808), ('phil', 809), ('futbol', 810), ('just', 811), ('coronel', 812), ('sex', 813), ('ladron', 814), ('romant', 815), ('puert', 816), ('etern', 817), ('autent', 818), ('jan', 819), ('cort', 820), ('infanci', 821), ('complej', 822), ('desastr', 823), ('caballer', 824), ('nacion', 825), ('montan', 826), ('marty', 827), ('pag', 828), ('tram', 829), ('caid', 830), ('muestr', 831), ('revolucion', 832), ('sur', 833), ('corr', 834), ('aisl', 835), ('aterriz', 836), ('esfuerz', 837), ('tiemp', 838), ('malef', 839), ('recorr', 840), ('masc', 841), ('jug', 842), ('cobr', 843), ('prep', 844), ('fech', 845), ('princip', 846), ('pirat', 847), ('fiel', 848), ('gat', 849), ('poblacion', 850), ('recurs', 851), ('film', 852), ('arma', 853), ('arqueolog', 854), ('leyend', 855), ('destroz', 856), ('sarah', 857), ('constru', 858), ('astronaut', 859), ('pens', 860), ('laboratori', 861), ('fenomen', 862), ('manan', 863), ('simpl', 864), ('ret', 865), ('conduc', 866), ('caden', 867), ('comand', 868), ('epic', 869), ('campeon', 870), ('forz', 871), ('color', 872), ('azul', 873), ('parqu', 874), ('fbi', 875), ('atent', 876), ('alic', 877), ('not', 878), ('sacerdot', 879), ('mafi', 880), ('christi', 881), ('medic', 882), ('arregl', 883), ('10', 884), ('mont', 885), ('resistent', 886), ('regl', 887), ('ira', 888), ('annabell', 889), ('rechaz', 890), ('muse', 891), ('observ', 892), ('aficion', 893), ('rode', 894), ('tempor', 895), ('remedi', 896), ('dot', 897), ('maldicion', 898), ('cruel', 899), ('descubiert', 900), ('street', 901), ('sid', 902), ('monj', 903), ('posterior', 904), ('expuls', 905), ('peculi', 906), ('matt', 907), ('gobern', 908), ('tesor', 909), ('pingüin', 910), ('lig', 911), ('justici', 912), ('edad', 913), ('somet', 914), ('emper', 915), ('confianz', 916), ('city', 917), ('magi', 918), ('ejecut', 919), ('central', 920), ('obten', 921), ('hereder', 922), ('li', 923), ('particul', 924), ('leon', 925), ('dolar', 926), ('suces', 927), ('torn', 928), ('of', 929), ('lar', 930), ('aterr', 931), ('profesional', 932), ('avanz', 933), ('alan', 934), ('pasion', 935), ('gigant', 936), ('pandill', 937), ('anterior', 938), ('alta', 939), ('maravill', 940), ('divers', 941), ('sentido', 942), ('ethan', 943), ('baj', 944), ('secundari', 945), ('kat', 946), ('sed', 947), ('line', 948), ('asust', 949), ('2012', 950), ('vivient', 951), ('cae', 952), ('mercenari', 953), ('bord', 954), ('campan', 955), ('impar', 956), ('jugador', 957), ('verd', 958), ('determin', 959), ('funcion', 960), ('pobr', 961), ('papel', 962), ('washington', 963), ('global', 964), ('ilegal', 965), ('guardi', 966), ('respuest', 967), ('gigantesc', 968), ('rachel', 969), ('vien', 970), ('ninj', 971), ('des', 972), ('elizabeth', 973), ('hulk', 974), ('thor', 975), ('grav', 976), ('plaz', 977), ('plane', 978), ('enfermed', 979), ('terc', 980), ('3d', 981), ('mr', 982), ('operacion', 983), ('40', 984), ('recurr', 985), ('republ', 986), ('corrupt', 987), ('dan', 988), ('mantien', 989), ('alma', 990), ('simplement', 991), ('imperial', 992), ('desaparicion', 993), ('descubrir', 994), ('entran', 995), ('departament', 996), ('sub', 997), ('murphy', 998), ('metal', 999), ('vend', 1000), ('may', 1001), ('arras', 1002), ('ciudadan', 1003), ('oest', 1004), ('despert', 1005), ('luc', 1006), ('sep', 1007), ('catastrof', 1008), ('bol', 1009), ('jennif', 1010), ('maxim', 1011), ('actu', 1012), ('20', 1013), ('alcanc', 1014), ('cabez', 1015), ('alegri', 1016), ('luk', 1017), ('amant', 1018), ('hermos', 1019), ('victor', 1020), ('natal', 1021), ('gir', 1022), ('infantil', 1023), ('atraccion', 1024), ('casual', 1025), ('cal', 1026), ('rees', 1027), ('men', 1028), ('exorc', 1029), ('nocturn', 1030), ('jean', 1031), ('desat', 1032), ('ingenu', 1033), ('sumerg', 1034), ('conocer', 1035), ('crei', 1036), ('tecnic', 1037), ('disney', 1038), ('soviet', 1039), ('posibil', 1040), ('guap', 1041), ('promes', 1042), ('conductor', 1043), ('rock', 1044), ('rival', 1045), ('posibl', 1046), ('bri', 1047), ('rach', 1048), ('region', 1049), ('fortun', 1050), ('ciel', 1051), ('imperi', 1052), ('empresari', 1053), ('escritor', 1054), ('enmascar', 1055), ('ojo', 1056), ('pes', 1057), ('impresion', 1058), ('mostr', 1059), ('animacion', 1060), ('reconoc', 1061), ('prestigi', 1062), ('diferent', 1063), ('asign', 1064), ('terrestr', 1065), ('spectr', 1066), ('virus', 1067), ('aleman', 1068), ('suelt', 1069), ('salt', 1070), ('epoc', 1071), ('procedent', 1072), ('pap', 1073), ('taylor', 1074), ('mik', 1075), ('chuck', 1076), ('invasor', 1077), ('aterroriz', 1078), ('apoder', 1079), ('implic', 1080), ('sar', 1081), ('inmortal', 1082), ('civil', 1083), ('invit', 1084), ('muchach', 1085), ('luj', 1086), ('veloc', 1087), ('sorprend', 1088), ('convirti', 1089), ('odi', 1090), ('fantast', 1091), ('glori', 1092), ('leonard', 1093), ('marcus', 1094), ('bourn', 1095), ('sol', 1096), ('empen', 1097), ('amy', 1098), ('spe', 1099), ('tiend', 1100), ('pat', 1101), ('escrib', 1102), ('primer', 1103), ('razon', 1104), ('informat', 1105), ('franci', 1106), ('prim', 1107), ('casin', 1108), ('mascot', 1109), ('andrew', 1110), ('stu', 1111), ('tenient', 1112), ('distanci', 1113), ('ripley', 1114), ('english', 1115), ('transformers', 1116), ('infinit', 1117), ('hech', 1118), ('pur', 1119), ('lob', 1120), ('liv', 1121), ('reporter', 1122), ('selen', 1123), ('black', 1124), ('metr', 1125), ('barc', 1126), ('protagoniz', 1127), ('estaf', 1128), ('alegr', 1129), ('mon', 1130), ('deshac', 1131), ('bellez', 1132), ('trayectori', 1133), ('compromis', 1134), ('clark', 1135), ('clan', 1136), ('juerg', 1137), ('niet', 1138), ('compet', 1139), ('tir', 1140), ('cortez', 1141), ('jackson', 1142), ('in', 1143), ('steph', 1144), ('fri', 1145), ('monton', 1146), ('roj', 1147), ('veint', 1148), ('sauron', 1149), ('hollywood', 1150), ('amand', 1151), ('ambici', 1152), ('13', 1153), ('lou', 1154), ('esfer', 1155), ('notici', 1156), ('josh', 1157), ('radi', 1158), ('devolv', 1159), ('expedicion', 1160), ('restaur', 1161), ('colabor', 1162), ('heroin', 1163), ('desped', 1164), ('submarin', 1165), ('repentin', 1166), ('frances', 1167), ('dram', 1168), ('trop', 1169), ('prisioner', 1170), ('resucit', 1171), ('list', 1172), ('mir', 1173), ('miss', 1174), ('sustitu', 1175), ('greg', 1176), ('amad', 1177), ('inicial', 1178), ('nat', 1179), ('une', 1180), ('pantall', 1181), ('romanc', 1182), ('emma', 1183), ('clav', 1184), ('sum', 1185), ('king', 1186), ('2013', 1187), ('russell', 1188), ('digimon', 1189), ('episodi', 1190), ('actor', 1191), ('domini', 1192), ('imped', 1193), ('pertenec', 1194), ('absolut', 1195), ('festival', 1196), ('masiv', 1197), ('mutu', 1198), ('truc', 1199), ('conspiracion', 1200), ('proyect', 1201), ('reserv', 1202), ('valios', 1203), ('proporcion', 1204), ('tia', 1205), ('ejerc', 1206), ('hospital', 1207), ('darl', 1208), ('antart', 1209), ('limpi', 1210), ('divid', 1211), ('conced', 1212), ('quint', 1213), ('corleon', 1214), ('abaj', 1215), ('trist', 1216), ('accidental', 1217), ('pop', 1218), ('flot', 1219), ('establec', 1220), ('abog', 1221), ('tare', 1222), ('arbol', 1223), ('tragedi', 1224), ('madrastr', 1225), ('comics', 1226), ('embaj', 1227), ('tony', 1228), ('defens', 1229), ('meg', 1230), ('sparrow', 1231), ('rumb', 1232), ('estren', 1233), ('silenci', 1234), ('supon', 1235), ('escenari', 1236), ('juventud', 1237), ('exot', 1238), ('dieg', 1239), ('sab', 1240), ('aprendiz', 1241), ('gru', 1242), ('movimient', 1243), ('wilson', 1244), ('armad', 1245), ('mart', 1246), ('aren', 1247), ('rom', 1248), ('batm', 1249), ('direccion', 1250), ('tris', 1251), ('cur', 1252), ('ana', 1253), ('scooby', 1254), ('chucky', 1255), ('alej', 1256), ('desmoron', 1257), ('constant', 1258), ('huir', 1259), ('acog', 1260), ('bal', 1261), ('joe', 1262), ('exterior', 1263), ('rutinari', 1264), ('inmers', 1265), ('violenci', 1266), ('dracul', 1267), ('atra', 1268), ('ron', 1269), ('pele', 1270), ('element', 1271), ('respet', 1272), ('suficient', 1273), ('proposit', 1274), ('intrep', 1275), ('origen', 1276), ('lov', 1277), ('mezcl', 1278), ('mill', 1279), ('adict', 1280), ('definit', 1281), ('victori', 1282), ('carm', 1283), ('destac', 1284), ('afect', 1285), ('trepid', 1286), ('asum', 1287), ('minut', 1288), ('gal', 1289), ('play', 1290), ('replic', 1291), ('nuev', 1292), ('capitan', 1293), ('fantasi', 1294), ('lloyd', 1295), ('emprender', 1296), ('mi6', 1297), ('pasajer', 1298), ('inspector', 1299), ('inglaterr', 1300), ('kyle', 1301), ('cant', 1302), ('engan', 1303), ('torp', 1304), ('consej', 1305), ('goku', 1306), ('campeonat', 1307), ('hunt', 1308), ('sir', 1309), ('ren', 1310), ('charlott', 1311), ('ojos', 1312), ('vital', 1313), ('arte', 1314), ('ces', 1315), ('hembr', 1316), ('simi', 1317), ('matemat', 1318), ('vincent', 1319), ('raf', 1320), ('activity', 1321), ('comprend', 1322), ('ambicion', 1323), ('descans', 1324), ('leg', 1325), ('capital', 1326), ('vivi', 1327), ('shrek', 1328), ('entend', 1329), ('cindy', 1330), ('insolit', 1331), ('desiert', 1332), ('hor', 1333), ('anual', 1334), ('temor', 1335), ('dam', 1336), ('psicopat', 1337), ('bailarin', 1338), ('tradicion', 1339), ('legion', 1340), ('corredor', 1341), ('sangrient', 1342), ('fall', 1343), ('arrastr', 1344), ('cerr', 1345), ('individual', 1346), ('atrac', 1347), ('interes', 1348), ('emerg', 1349), ('fin', 1350), ('licantrop', 1351), ('cautiv', 1352), ('hill', 1353), ('tri', 1354), ('alt', 1355), ('whit', 1356), ('opcion', 1357), ('cazarrecompens', 1358), ('aliment', 1359), ('fox', 1360), ('williams', 1361), ('matrix', 1362), ('cap', 1363), ('disposit', 1364), ('diabl', 1365), ('circunst', 1366), ('lidi', 1367), ('carl', 1368), ('torne', 1369), ('efect', 1370), ('grieg', 1371), ('persig', 1372), ('direct', 1373), ('fugit', 1374), ('creacion', 1375), ('asunt', 1376), ('ross', 1377), ('2014', 1378), ('enigmat', 1379), ('harold', 1380), ('claudi', 1381), ('repart', 1382), ('ama', 1383), ('lucy', 1384), ('sulliv', 1385), ('club', 1386), ('caj', 1387), ('ros', 1388), ('posesion', 1389), ('hiel', 1390), ('eleccion', 1391), ('suert', 1392), ('hal', 1393), ('chlo', 1394), ('generacion', 1395), ('dolor', 1396), ('ciudad', 1397), ('campus', 1398), ('invent', 1399), ('contien', 1400), ('acer', 1401), ('fug', 1402), ('narcotraf', 1403), ('jimmy', 1404), ('gener', 1405), ('franki', 1406), ('sell', 1407), ('anunci', 1408), ('cor', 1409), ('espad', 1410), ('inmigr', 1411), ('and', 1412), ('death', 1413), ('zombi', 1414), ('distrit', 1415), ('vill', 1416), ('col', 1417), ('adn', 1418), ('valentin', 1419), ('•', 1420), ('formul', 1421), ('propied', 1422), ('fion', 1423), ('betty', 1424), ('max', 1425), ('campbell', 1426), ('vision', 1427), ('ambas', 1428), ('estrict', 1429), ('cyborg', 1430), ('ocean', 1431), ('respond', 1432), ('sagr', 1433), ('renunci', 1434), ('ralph', 1435), ('esclav', 1436), ('tortug', 1437), ('explot', 1438), ('brig', 1439), ('paisaj', 1440), ('frankenstein', 1441), ('cond', 1442), ('diabol', 1443), ('apac', 1444), ('entorn', 1445), ('obrer', 1446), ('jardin', 1447), ('produccion', 1448), ('eric', 1449), ('jeremy', 1450), ('demuestr', 1451), ('taman', 1452), ('civilizacion', 1453), ('presion', 1454), ('valenti', 1455), ('indi', 1456), ('molly', 1457), ('sus', 1458), ('milenari', 1459), ('darth', 1460), ('vin', 1461), ('xavi', 1462), ('steel', 1463), ('niner', 1464), ('boxe', 1465), ('alcantarill', 1466), ('jr', 1467), ('turn', 1468), ('astut', 1469), ('conseguir', 1470), ('humor', 1471), ('woodsbor', 1472), ('laur', 1473), ('motor', 1474), ('merc', 1475), ('secuac', 1476), ('jami', 1477), ('georg', 1478), ('juni', 1479), ('virtual', 1480), ('carn', 1481), ('skynet', 1482), ('escuch', 1483), ('apasion', 1484), ('dar', 1485), ('pong', 1486), ('vampires', 1487), ('aloc', 1488), ('dent', 1489), ('sencill', 1490), ('moment', 1491), ('crecient', 1492), ('nas', 1493), ('cocodril', 1494), ('extrem', 1495), ('hab', 1496), ('resid', 1497), ('manny', 1498), ('kung', 1499), ('harvey', 1500), ('femenin', 1501), ('cuestion', 1502), ('vivir', 1503), ('holm', 1504), ('huy', 1505), ('guion', 1506), ('compuest', 1507), ('trasl', 1508), ('traj', 1509), ('coloni', 1510), ('milagr', 1511), ('turist', 1512), ('apocalipt', 1513), ('dobl', 1514), ('coron', 1515), ('natali', 1516), ('pituf', 1517), ('garfield', 1518), ('pers', 1519), ('ingeni', 1520), ('vall', 1521), ('naviden', 1522), ('redencion', 1523), ('pais', 1524), ('tren', 1525), ('interrump', 1526), ('guard', 1527), ('indian', 1528), ('descifr', 1529), ('costell', 1530), ('competicion', 1531), ('debil', 1532), ('dand', 1533), ('jeff', 1534), ('terminator', 1535), ('asegur', 1536), ('carismat', 1537), ('jesus', 1538), ('aran', 1539), ('clandestin', 1540), ('sexual', 1541), ('inexpert', 1542), ('multipl', 1543), ('grab', 1544), ('cint', 1545), ('humild', 1546), ('vincul', 1547), ('magnet', 1548), ('mer', 1549), ('paralel', 1550), ('asistent', 1551), ('aspect', 1552), ('frustr', 1553), ('oliv', 1554), ('inadapt', 1555), ('conexion', 1556), ('mayori', 1557), ('militar', 1558), ('inminent', 1559), ('propietari', 1560), ('seguidor', 1561), ('mary', 1562), ('octubr', 1563), ('excelent', 1564), ('nacimient', 1565), ('grunon', 1566), ('primaver', 1567), ('estacion', 1568), ('rog', 1569), ('aspir', 1570), ('iglesi', 1571), ('simpat', 1572), ('mitic', 1573), ('capitul', 1574), ('hart', 1575), ('cub', 1576), ('miami', 1577), ('willis', 1578), ('organ', 1579), ('atorment', 1580), ('adentr', 1581), ('hostil', 1582), ('olor', 1583), ('imag', 1584), ('wad', 1585), ('perl', 1586), ('incapac', 1587), ('mac', 1588), ('rebecc', 1589), ('oscar', 1590), ('edifici', 1591), ('fu', 1592), ('kgb', 1593), ('wall', 1594), ('inmens', 1595), ('ruin', 1596), ('roman', 1597), ('terry', 1598), ('tribus', 1599), ('capt', 1600), ('watson', 1601), ('gen', 1602), ('gust', 1603), ('orient', 1604), ('transcurr', 1605), ('anderson', 1606), ('temporal', 1607), ('world', 1608), ('autobots', 1609), ('koskov', 1610), ('catol', 1611), ('mensaj', 1612), ('condicion', 1613), ('sorprendent', 1614), ('revolucionari', 1615), ('top', 1616), ('comunicacion', 1617), ('eddi', 1618), ('po', 1619), ('abiert', 1620), ('monstruos', 1621), ('tyler', 1622), ('superfici', 1623), ('fe', 1624), ('error', 1625), ('100', 1626), ('plag', 1627), ('pervers', 1628), ('vide', 1629), ('rued', 1630), ('econom', 1631), ('excentr', 1632), ('toki', 1633), ('lawrenc', 1634), ('april', 1635), ('levant', 1636), ('pobl', 1637), ('encaj', 1638), ('especializ', 1639), ('avanc', 1640), ('replet', 1641), ('skywalk', 1642), ('sr', 1643), ('felic', 1644), ('fals', 1645), ('ampli', 1646), ('damon', 1647), ('sigu', 1648), ('decidi', 1649), ('cultur', 1650), ('2010', 1651), ('gimnasi', 1652), ('oro', 1653), ('comercial', 1654), ('shredd', 1655), ('derech', 1656), ('tron', 1657), ('exili', 1658), ('robin', 1659), ('ficcion', 1660), ('hag', 1661), ('coleccion', 1662), ('pued', 1663), ('product', 1664), ('cienci', 1665), ('peculiar', 1666), ('emily', 1667), ('caracterist', 1668), ('wahlberg', 1669), ('atom', 1670), ('magnat', 1671), ('literari', 1672), ('declar', 1673), ('cantid', 1674), ('ee', 1675), ('prohib', 1676), ('masacr', 1677), ('egipt', 1678), ('sobrin', 1679), ('explic', 1680), ('model', 1681), ('kelly', 1682), ('anastasi', 1683), ('12', 1684), ('derek', 1685), ('inimagin', 1686), ('inviern', 1687), ('regim', 1688), ('fil', 1689), ('pel', 1690), ('protector', 1691), ('coloc', 1692), ('habitacion', 1693), ('via', 1694), ('51', 1695), ('invis', 1696), ('conten', 1697), ('detroit', 1698), ('inmediat', 1699), ('island', 1700), ('glob', 1701), ('rogers', 1702), ('stanley', 1703), ('aument', 1704), ('priv', 1705), ('cumplean', 1706), ('productor', 1707), ('alcohol', 1708), ('star', 1709), ('ardill', 1710), ('caer', 1711), ('donatell', 1712), ('norm', 1713), ('wayn', 1714), ('lealt', 1715), ('granj', 1716), ('electr', 1717), ('culp', 1718), ('denomin', 1719), ('union', 1720), ('reputacion', 1721), ('record', 1722), ('mader', 1723), ('enterr', 1724), ('comod', 1725), ('hannah', 1726), ('aere', 1727), ('desvi', 1728), ('homonim', 1729), ('rusi', 1730), ('celebracion', 1731), ('luis', 1732), ('lan', 1733), ('volver', 1734), ('sacrifici', 1735), ('austin', 1736), ('actuacion', 1737), ('uu', 1738), ('leccion', 1739), ('tour', 1740), ('acto', 1741), ('respect', 1742), ('conjunt', 1743), ('marg', 1744), ('dorothy', 1745), ('jorn', 1746), ('desgraci', 1747), ('nuclear', 1748), ('ced', 1749), ('inest', 1750), ('hugh', 1751), ('gui', 1752), ('despreocup', 1753), ('crystal', 1754), ('cerdit', 1755), ('connery', 1756), ('conviv', 1757), ('espeluzn', 1758), ('cons', 1759), ('ilusion', 1760), ('angelin', 1761), ('joli', 1762), ('hogwarts', 1763), ('samuel', 1764), ('pitt', 1765), ('lin', 1766), ('llav', 1767), ('territori', 1768), ('mord', 1769), ('pis', 1770), ('corrient', 1771), ('irse', 1772), ('blancaniev', 1773), ('quinc', 1774), ('renn', 1775), ('apuest', 1776), ('croft', 1777), ('son', 1778), ('frecuent', 1779), ('competit', 1780), ('debut', 1781), ('colosal', 1782), ('californian', 1783), ('puent', 1784), ('más', 1785), ('tecnolog', 1786), ('andanz', 1787), ('halcon', 1788), ('consig', 1789), ('banks', 1790), ('optim', 1791), ('main', 1792), ('horribl', 1793), ('raphael', 1794), ('michelangel', 1795), ('pandor', 1796), ('castill', 1797), ('swann', 1798), ('lugar', 1799), ('educacion', 1800), ('sidney', 1801), ('temerari', 1802), ('conej', 1803), ('verdader', 1804), ('catacl', 1805), ('graham', 1806), ('cag', 1807), ('depred', 1808), ('concentr', 1809), ('ston', 1810), ('2006', 1811), ('concienci', 1812), ('vesp', 1813), ('gemel', 1814), ('multitud', 1815), ('enfermer', 1816), ('escog', 1817), ('simbiont', 1818), ('maggi', 1819), ('artur', 1820), ('queri', 1821), ('ruth', 1822), ('iba', 1823), ('jacob', 1824), ('despreci', 1825), ('excepcional', 1826), ('theodor', 1827), ('natural', 1828), ('minions', 1829), ('ken', 1830), ('ego', 1831), ('christoph', 1832), ('colaps', 1833), ('scrat', 1834), ('tatum', 1835), ('cen', 1836), ('stuart', 1837), ('candidat', 1838), ('oficin', 1839), ('insepar', 1840), ('potencial', 1841), ('leo', 1842), ('creyend', 1843), ('flor', 1844), ('malkovich', 1845), ('seth', 1846), ('paterson', 1847), ('hermand', 1848), ('conspir', 1849), ('conect', 1850), ('2018', 1851), ('hug', 1852), ('huid', 1853), ('reloj', 1854), ('encerr', 1855), ('ritm', 1856), ('creador', 1857), ('kum', 1858), ('artificial', 1859), ('sensual', 1860), ('bann', 1861), ('fatal', 1862), ('cualqu', 1863), ('reconstru', 1864), ('codig', 1865), ('quill', 1866), ('alcald', 1867), ('hom', 1868), ('zao', 1869), ('precedent', 1870), ('flint', 1871), ('kaiju', 1872), ('idil', 1873), ('fassbend', 1874), ('acos', 1875), ('varon', 1876), ('categori', 1877), ('14', 1878), ('superpoder', 1879), ('ido', 1880), ('travies', 1881), ('jacki', 1882), ('averi', 1883), ('23', 1884), ('fundacion', 1885), ('transcurs', 1886), ('expedient', 1887), ('vern', 1888), ('hil', 1889), ('afuer', 1890), ('mentor', 1891), ('nash', 1892), ('difund', 1893), ('coraj', 1894), ('fronter', 1895), ('coleg', 1896), ('tiffany', 1897), ('banc', 1898), ('mini', 1899), ('moral', 1900), ('fallec', 1901), ('vit', 1902), ('navidad', 1903), ('deud', 1904), ('instal', 1905), ('confin', 1906), ('orill', 1907), ('está', 1908), ('regal', 1909), ('buzz', 1910), ('rat', 1911), ('pueblecit', 1912), ('jud', 1913), ('salvacion', 1914), ('underworld', 1915), ('ansios', 1916), ('aaron', 1917), ('comport', 1918), ('pie', 1919), ('senal', 1920), ('volunt', 1921), ('bot', 1922), ('energi', 1923), ('rac', 1924), ('lucrat', 1925), ('suel', 1926), ('morg', 1927), ('buck', 1928), ('nicol', 1929), ('prodigi', 1930), ('metod', 1931), ('neo', 1932), ('excursion', 1933), ('viking', 1934), ('conserv', 1935), ('helen', 1936), ('elen', 1937), ('robocop', 1938), ('mecan', 1939), ('inquebrant', 1940), ('infiern', 1941), ('can', 1942), ('atrev', 1943), ('obstacul', 1944), ('2017', 1945), ('parient', 1946), ('triunf', 1947), ('acced', 1948), ('cohet', 1949), ('deadpool', 1950), ('aniquil', 1951), ('kent', 1952), ('culpabl', 1953), ('mamut', 1954), ('channing', 1955), ('ashley', 1956), ('port', 1957), ('colision', 1958), ('jungl', 1959), ('opuest', 1960), ('apartament', 1961), ('calvin', 1962), ('superagent', 1963), ('afric', 1964), ('fund', 1965), ('movil', 1966), ('gotham', 1967), ('suic', 1968), ('aparecer', 1969), ('laberint', 1970), ('dud', 1971), ('repar', 1972), ('zoo', 1973), ('maldit', 1974), ('hans', 1975), ('2016', 1976), ('high', 1977), ('mumbl', 1978), ('impuls', 1979), ('conciert', 1980), ('recaud', 1981), ('big', 1982), ('estadi', 1983), ('altern', 1984), ('ped', 1985), ('17', 1986), ('depend', 1987), ('brown', 1988), ('cans', 1989), ('cruell', 1990), ('batallon', 1991), ('aparient', 1992), ('moscu', 1993), ('reclam', 1994), ('boston', 1995), ('ansi', 1996), ('lak', 1997), ('brody', 1998), ('pact', 1999), ('armoni', 2000), ('divin', 2001), ('vol', 2002), ('purg', 2003), ('perfeccion', 2004), ('estrag', 2005), ('barrer', 2006), ('piez', 2007), ('negat', 2008), ('imagen', 2009), ('altos', 2010), ('leil', 2011), ('aloj', 2012), ('naveg', 2013), ('ballet', 2014), ('demoniac', 2015), ('industrial', 2016), ('urban', 2017), ('carin', 2018), ('palaci', 2019), ('calent', 2020), ('bloqu', 2021), ('niev', 2022), ('incident', 2023), ('caract', 2024), ('tramp', 2025), ('mang', 2026), ('familiar', 2027), ('ministr', 2028), ('corporacion', 2029), ('woody', 2030), ('vaquer', 2031), ('espant', 2032), ('vad', 2033), ('tragic', 2034), ('humanoid', 2035), ('boxeador', 2036), ('had', 2037), ('ventan', 2038), ('figur', 2039), ('kong', 2040), ('arrog', 2041), ('carell', 2042), ('eeuu', 2043), ('owen', 2044), ('caball', 2045), ('tradicional', 2046), ('suministr', 2047), ('gary', 2048), ('anthony', 2049), ('dibuj', 2050), ('moor', 2051), ('anne', 2052), ('firm', 2053), ('choqu', 2054), ('artefact', 2055), ('grey', 2056), ('stark', 2057), ('demoni', 2058), ('duk', 2059), ('gwen', 2060), ('mafios', 2061), ('aeropuert', 2062), ('michell', 2063), ('perpetr', 2064), ('delit', 2065), ('elmo', 2066), ('elli', 2067), ('allen', 2068), ('sacrific', 2069), ('perdedor', 2070), ('juan', 2071), ('parais', 2072), ('sirvient', 2073), ('margin', 2074), ('decis', 2075), ('adquir', 2076), ('probabl', 2077), ('cancion', 2078), ('chicag', 2079), ('chucki', 2080), ('torr', 2081), ('extra', 2082), ('visual', 2083), ('legal', 2084), ('joy', 2085), ('turbi', 2086), ('gam', 2087), ('nelson', 2088), ('persecucion', 2089), ('retrat', 2090), ('cient', 2091), ('malcolm', 2092), ('post', 2093), ('bill', 2094), ('toler', 2095), ('supermerc', 2096), ('evelyn', 2097), ('80', 2098), ('asombr', 2099), ('actos', 2100), ('serv', 2101), ('treint', 2102), ('formacion', 2103), ('kirk', 2104), ('„', 2105), ('godzill', 2106), ('cog', 2107), ('precios', 2108), ('70', 2109), ('ouij', 2110), ('estrategi', 2111), ('necesari', 2112), ('chan', 2113), ('ensuen', 2114), ('elabor', 2115), ('choc', 2116), ('loyol', 2117), ('solomon', 2118), ('fotografi', 2119), ('200', 2120), ('arrebat', 2121), ('pod', 2122), ('urgent', 2123), ('potenci', 2124), ('vers', 2125), ('afront', 2126), ('caotic', 2127), ('cantant', 2128), ('argument', 2129), ('1988', 2130), ('unown', 2131), ('dominic', 2132), ('miner', 2133), ('brad', 2134), ('fuent', 2135), ('lim', 2136), ('richard', 2137), ('hills', 2138), ('exclus', 2139), ('alem', 2140), ('piedr', 2141), ('grandez', 2142), ('boris', 2143), ('teatr', 2144), ('viol', 2145), ('baron', 2146), ('danz', 2147), ('hip', 2148), ('coop', 2149), ('fans', 2150), ('metropolis', 2151), ('asist', 2152), ('mansion', 2153), ('colonial', 2154), ('plant', 2155), ('wild', 2156), ('situ', 2157), ('abril', 2158), ('involucr', 2159), ('justin', 2160), ('patrick', 2161), ('basur', 2162), ('secretari', 2163), ('jess', 2164), ('hered', 2165), ('tant', 2166), ('vent', 2167), ('promocion', 2168), ('ingenier', 2169), ('tactic', 2170), ('silv', 2171), ('monarc', 2172), ('emili', 2173), ('roberts', 2174), ('rebelion', 2175), ('diamant', 2176), ('marvin', 2177), ('conoci', 2178), ('adiestr', 2179), ('instint', 2180), ('mentir', 2181), ('nobl', 2182), ('fras', 2183), ('dat', 2184), ('surc', 2185), ('codici', 2186), ('cronic', 2187), ('grant', 2188), ('inter', 2189), ('doo', 2190), ('sig', 2191), ('heroic', 2192), ('depresion', 2193), ('tolki', 2194), ('signif', 2195), ('extranjer', 2196), ('cosmic', 2197), ('glass', 2198), ('ghett', 2199), ('fueg', 2200), ('compar', 2201), ('ford', 2202), ('previst', 2203), ('embaraz', 2204), ('permitir', 2205), ('pikachu', 2206), ('curi', 2207), ('enloquec', 2208), ('shazam', 2209), ('xix', 2210), ('creativ', 2211), ('lycans', 2212), ('perpetu', 2213), ('deposit', 2214), ('mortifer', 2215), ('prehistor', 2216), ('descarg', 2217), ('new', 2218), ('infam', 2219), ('lorrain', 2220), ('jabali', 2221), ('religi', 2222), ('ganador', 2223), ('cult', 2224), ('cel', 2225), ('almac', 2226), ('desconcert', 2227), ('boix', 2228), ('honor', 2229), ('lilli', 2230), ('conscient', 2231), ('kub', 2232), ('alde', 2233), ('bes', 2234), ('cualific', 2235), ('expres', 2236), ('aniversari', 2237), ('hormig', 2238), ('frey', 2239), ('hechicer', 2240), ('sabor', 2241), ('rhod', 2242), ('mcavoy', 2243), ('ingres', 2244), ('rastr', 2245), ('incapaz', 2246), ('costumbr', 2247), ('malhumor', 2248), ('sabi', 2249), ('sharkn', 2250), ('sonor', 2251), ('pasari', 2252), ('idiom', 2253), ('encarcel', 2254), ('drift', 2255), ('japones', 2256), ('mur', 2257), ('15', 2258), ('seul', 2259), ('devor', 2260), ('umbrell', 2261), ('trunc', 2262), ('camufl', 2263), ('diversion', 2264), ('kauld', 2265), ('todopoder', 2266), ('diezm', 2267), ('equilibri', 2268), ('planific', 2269), ('instructor', 2270), ('lopez', 2271), ('eclips', 2272), ('naci', 2273), ('myers', 2274), ('ausenci', 2275), ('dylan', 2276), ('tommy', 2277), ('estel', 2278), ('incans', 2279), ('rig', 2280), ('dennis', 2281), ('griffin', 2282), ('duo', 2283), ('hazan', 2284), ('sarcast', 2285), ('dich', 2286), ('competent', 2287), ('rex', 2288), ('mach', 2289), ('cruc', 2290), ('voraz', 2291), ('tottington', 2292), ('hund', 2293), ('mismisim', 2294), ('freem', 2295), ('supuest', 2296), ('avecin', 2297), ('frenet', 2298), ('arco', 2299), ('cobard', 2300), ('sustitut', 2301), ('plante', 2302), ('extincion', 2303), ('jazz', 2304), ('simbol', 2305), ('remy', 2306), ('cocin', 2307), ('crucer', 2308), ('drac', 2309), ('exact', 2310), ('sald', 2311), ('victorian', 2312), ('derroc', 2313), ('zorr', 2314), ('kids', 2315), ('wond', 2316), ('hues', 2317), ('traidor', 2318), ('86', 2319), ('sient', 2320), ('lujos', 2321), ('25', 2322), ('esclaviz', 2323), ('emil', 2324), ('castig', 2325), ('triangul', 2326), ('aburr', 2327), ('afroamerican', 2328), ('televis', 2329), ('opinion', 2330), ('dars', 2331), ('oye', 2332), ('alatr', 2333), ('embosc', 2334), ('peticion', 2335), ('incognit', 2336), ('spiderm', 2337), ('separat', 2338), ('fren', 2339), ('amidal', 2340), ('multinacional', 2341), ('doug', 2342), ('garr', 2343), ('phyllis', 2344), ('bellot', 2345), ('contrari', 2346), ('bab', 2347), ('spik', 2348), ('echar', 2349), ('tortur', 2350), ('royal', 2351), ('sandy', 2352), ('asteroid', 2353), ('saldr', 2354), ('mickey', 2355), ('dorm', 2356), ('sacud', 2357), ('aterrizaj', 2358), ('encubiert', 2359), ('nem', 2360), ('nemesis', 2361), ('burton', 2362), ('amo', 2363), ('escurridiz', 2364), ('subterrane', 2365), ('ii', 2366), ('claus', 2367), ('autobus', 2368), ('paran', 2369), ('muev', 2370), ('estabil', 2371), ('portal', 2372), ('fiscal', 2373), ('mcfly', 2374), ('desenmascar', 2375), ('imaginacion', 2376), ('maton', 2377), ('archienemig', 2378), ('superespi', 2379), ('one', 2380), ('incendi', 2381), ('afan', 2382), ('mineral', 2383), ('toxic', 2384), ('avat', 2385), ('melm', 2386), ('chimpanc', 2387), ('neoyorquin', 2388), ('calor', 2389), ('dimension', 2390), ('liam', 2391), ('rostr', 2392), ('riend', 2393), ('actitud', 2394), ('drax', 2395), ('summ', 2396), ('tarjet', 2397), ('multimillonari', 2398), ('violet', 2399), ('mallory', 2400), ('seductor', 2401), ('eli', 2402), ('tade', 2403), ('shaggy', 2404), ('freddi', 2405), ('connelly', 2406), ('arrest', 2407), ('desconfi', 2408), ('pint', 2409), ('curt', 2410), ('tratamient', 2411), ('mitsuh', 2412), ('comunic', 2413), ('faz', 2414), ('–', 2415), ('daphn', 2416), ('renton', 2417), ('mandel', 2418), ('unific', 2419), ('decepticons', 2420), ('domerg', 2421), ('apres', 2422), ('connors', 2423), ('chest', 2424), ('escual', 2425), ('fot', 2426), ('cerd', 2427), ('banquer', 2428), ('row', 2429), ('etap', 2430), ('adams', 2431), ('precuel', 2432), ('cad', 2433), ('schmidt', 2434), ('jenk', 2435), ('tot', 2436), ('erik', 2437), ('notabl', 2438), ('denham', 2439), ('000', 2440), ('determinacion', 2441), ('bombarde', 2442), ('nazi', 2443), ('concentracion', 2444), ('soled', 2445), ('reliqui', 2446), ('horripil', 2447), ('impid', 2448), ('admir', 2449), ('tripul', 2450), ('desafortun', 2451), ('cuev', 2452), ('resident', 2453), ('visionari', 2454), ('recog', 2455), ('transmit', 2456), ('violacion', 2457), ('destruct', 2458), ('simb', 2459), ('recreat', 2460), ('programacion', 2461), ('contempl', 2462), ('mapach', 2463), ('reaccion', 2464), ('urbanizacion', 2465), ('consigui', 2466), ('pend', 2467), ('maniobr', 2468), ('abrirs', 2469), ('crueld', 2470), ('juici', 2471), ('momi', 2472), ('montaj', 2473), ('jessic', 2474), ('roth', 2475), ('reviv', 2476), ('prob', 2477), ('armadur', 2478), ('acost', 2479), ('1995', 2480), ('suburban', 2481), ('intimid', 2482), ('theron', 2483), ('reencontr', 2484), ('perfor', 2485), ('invenc', 2486), ('gubernamental', 2487), ('luchador', 2488), ('modest', 2489), ('rapt', 2490), ('all', 2491), ('nieg', 2492), ('sord', 2493), ('kati', 2494), ('desapareci', 2495), ('altur', 2496), ('indestruct', 2497), ('sect', 2498), ('satan', 2499), ('padrin', 2500), ('lei', 2501), ('monoton', 2502), ('comprob', 2503), ('cenicient', 2504), ('introduc', 2505), ('preparacion', 2506), ('funcionari', 2507), ('duracion', 2508), ('macabr', 2509), ('sext', 2510), ('ironm', 2511), ('galact', 2512), ('manipul', 2513), ('terremot', 2514), ('congres', 2515), ('reencuentr', 2516), ('dj', 2517), ('blad', 2518), ('rumor', 2519), ('grad', 2520), ('cierr', 2521), ('disparat', 2522), ('sadi', 2523), ('lily', 2524), ('sever', 2525), ('pescador', 2526), ('imponent', 2527), ('iron', 2528), ('pepp', 2529), ('granjer', 2530), ('lewis', 2531), ('sedient', 2532), ('wom', 2533), ('pinoch', 2534), ('maletin', 2535), ('inestim', 2536), ('recuperacion', 2537), ('elfos', 2538), ('enan', 2539), ('cibernet', 2540), ('eva', 2541), ('venom', 2542), ('illuminati', 2543), ('caceri', 2544), ('rid', 2545), ('impact', 2546), ('deb', 2547), ('web', 2548), ('teri', 2549), ('perez', 2550), ('xvii', 2551), ('reconvert', 2552), ('saiyajin', 2553), ('lag', 2554), ('defensor', 2555), ('grac', 2556), ('tigr', 2557), ('jur', 2558), ('irin', 2559), ('cruis', 2560), ('monagh', 2561), ('krypton', 2562), ('fanat', 2563), ('darr', 2564), ('armageddon', 2565), ('angry', 2566), ('birds', 2567), ('perdi', 2568), ('adapt', 2569), ('vea', 2570), ('sheriff', 2571), ('grinch', 2572), ('dulc', 2573), ('jersey', 2574), ('bar', 2575), ('gonz', 2576), ('edgar', 2577), ('barney', 2578), ('orcos', 2579), ('evad', 2580), ('rutin', 2581), ('recorrer', 2582), ('thrill', 2583), ('1955', 2584), ('atravies', 2585), ('crucial', 2586), ('guardian', 2587), ('vatican', 2588), ('jubil', 2589), ('toqu', 2590), ('weav', 2591), ('telefon', 2592), ('dor', 2593), ('nov', 2594), ('2015', 2595), ('johnson', 2596), ('lil', 2597), ('baby', 2598), ('ideal', 2599), ('mordor', 2600), ('desert', 2601), ('inquiet', 2602), ('oce', 2603), ('sky', 2604), ('strang', 2605), ('medicin', 2606), ('riquez', 2607), ('gustav', 2608), ('fabul', 2609), ('clouseau', 2610), ('hurac', 2611), ('europe', 2612), ('paquet', 2613), ('dieciseis', 2614), ('gnom', 2615), ('sherlock', 2616), ('walt', 2617), ('inversor', 2618), ('clar', 2619), ('arruin', 2620), ('casp', 2621), ('rabi', 2622), ('brend', 2623), ('circul', 2624), ('as', 2625), ('insegur', 2626), ('scroog', 2627), ('intim', 2628), ('hierr', 2629), ('automovil', 2630), ('vengat', 2631), ('djang', 2632), ('satir', 2633), ('reynolds', 2634), ('dad', 2635), ('hutch', 2636), ('jurassic', 2637), ('60', 2638), ('posicion', 2639), ('amity', 2640), ('lingüist', 2641), ('plac', 2642), ('sargent', 2643), ('ilegitim', 2644), ('bali', 2645), ('desenred', 2646), ('aut', 2647), ('goh', 2648), ('mathayus', 2649), ('federacion', 2650), ('enterpris', 2651), ('gulch', 2652), ('jenny', 2653), ('cobb', 2654), ('histor', 2655), ('̃', 2656), ('acech', 2657), ('terren', 2658), ('harrison', 2659), ('ancestr', 2660), ('riddick', 2661), ('faris', 2662), ('aclam', 2663), ('carec', 2664), ('fundador', 2665), ('compart', 2666), ('modific', 2667), ('habitual', 2668), ('phoenix', 2669), ('hum', 2670), ('krist', 2671), ('sentimental', 2672), ('brooklyn', 2673), ('prens', 2674), ('continuacion', 2675), ('vient', 2676), ('war', 2677), ('patel', 2678), ('raccoon', 2679), ('mald', 2680), ('tv', 2681), ('compinch', 2682), ('pies', 2683), ('travesur', 2684), ('wayans', 2685), ('barboss', 2686), ('saw', 2687), ('escandal', 2688), ('sith', 2689), ('coincid', 2690), ('beverly', 2691), ('driv', 2692), ('callejer', 2693), ('guitarr', 2694), ('roll', 2695), ('marin', 2696), ('loki', 2697), ('rigur', 2698), ('ellis', 2699), ('bonham', 2700), ('hathaway', 2701), ('labor', 2702), ('infect', 2703), ('fratern', 2704), ('imprudent', 2705), ('peor', 2706), ('muri', 2707), ('adivin', 2708), ('best', 2709), ('italian', 2710), ('abre', 2711), ('convencional', 2712), ('adquier', 2713), ('estupend', 2714), ('long', 2715), ('reunion', 2716), ('individu', 2717), ('parader', 2718), ('obras', 2719), ('voldemort', 2720), ('singular', 2721), ('poem', 2722), ('hilar', 2723), ('ultra', 2724), ('notr', 2725), ('chas', 2726), ('jens', 2727), ('reneg', 2728), ('nativ', 2729), ('detendr', 2730), ('2011', 2731), ('show', 2732), ('igual', 2733), ('vandal', 2734), ('teori', 2735), ('rut', 2736), ('ciern', 2737), ('chaval', 2738), ('narni', 2739), ('intelectual', 2740), ('almas', 2741), ('juvenil', 2742), ('vot', 2743), ('sven', 2744), ('patri', 2745), ('tregu', 2746), ('carmin', 2747), ('stitch', 2748), ('albert', 2749), ('snowd', 2750), ('francis', 2751), ('administr', 2752), ('daisy', 2753), ('pagin', 2754), ('di', 2755), ('relev', 2756), ('ghoul', 2757), ('amos', 2758), ('mathieu', 2759), ('inform', 2760), ('eduard', 2761), ('mu', 2762), ('holly', 2763), ('patron', 2764), ('anti', 2765), ('argentin', 2766), ('pianist', 2767), ('aviacion', 2768), ('despot', 2769), ('colin', 2770), ('competidor', 2771), ('filosofi', 2772), ('poet', 2773), ('material', 2774), ('espiritus', 2775), ('cop', 2776), ('emocional', 2777), ('asociacion', 2778), ('escas', 2779), ('racial', 2780), ('road', 2781), ('raic', 2782), ('monticul', 2783), ('dirigent', 2784), ('jamal', 2785), ('tercer', 2786), ('pud', 2787), ('ajust', 2788), ('spenc', 2789), ('letr', 2790), ('insect', 2791), ('pez', 2792), ('19', 2793), ('él', 2794), ('full', 2795), ('still', 2796), ('pintor', 2797), ('hong', 2798), ('ian', 2799), ('windsor', 2800), ('prescott', 2801), ('describ', 2802), ('industri', 2803), ('tropiez', 2804), ('evan', 2805), ('universal', 2806), ('masculin', 2807), ('blaz', 2808), ('identific', 2809), ('freddy', 2810), ('dispon', 2811), ('ricky', 2812), ('rome', 2813), ('african', 2814), ('cim', 2815), ('auror', 2816), ('mandy', 2817), ('trinity', 2818), ('bronc', 2819), ('esenci', 2820), ('propuest', 2821), ('monter', 2822), ('grafic', 2823), ('carreter', 2824), ('tracy', 2825), ('1952', 2826), ('camill', 2827), ('ton', 2828), ('penal', 2829), ('38', 2830), ('wes', 2831), ('cincuent', 2832), ('dunn', 2833), ('aparat', 2834), ('allan', 2835), ('satelit', 2836), ('canadiens', 2837), ('rompecabez', 2838), ('compositor', 2839), ('hancock', 2840), ('ofici', 2841), ('blu', 2842), ('noah', 2843), ('harris', 2844), ('tex', 2845), ('soport', 2846), ('pott', 2847), ('berlin', 2848), ('katniss', 2849), ('extiend', 2850), ('alas', 2851), ('decl', 2852), ('coloniz', 2853), ('24', 2854), ('moned', 2855), ('disc', 2856), ('artes', 2857), ('intercambi', 2858), ('22', 2859), ('design', 2860), ('contagi', 2861), ('socorr', 2862), ('olimp', 2863), ('detall', 2864), ('magnitud', 2865), ('marginal', 2866), ('bernard', 2867), ('ejecucion', 2868), ('calm', 2869), ('kurt', 2870), ('len', 2871), ('arquitect', 2872), ('separacion', 2873), ('cubiert', 2874), ('integr', 2875), ('proces', 2876), ('confidencial', 2877), ('distant', 2878), ('doyl', 2879), ('crow', 2880), ('teddy', 2881), ('sanders', 2882), ('audienci', 2883), ('rebel', 2884), ('singul', 2885), ('manhatt', 2886), ('jul', 2887), ('core', 2888), ('traspas', 2889), ('debi', 2890), ('18', 2891), ('temat', 2892), ('document', 2893), ('restant', 2894), ('mills', 2895), ('boy', 2896), ('amarill', 2897), ('sucesion', 2898), ('sudafr', 2899), ('rugby', 2900), ('selv', 2901), ('1984', 2902), ('entrand', 2903), ('afirm', 2904), ('combinacion', 2905), ('tal', 2906), ('clyde', 2907), ('cristian', 2908), ('lind', 2909), ('whitak', 2910), ('semestr', 2911), ('light', 2912), ('daniel', 2913), ('coalicion', 2914), ('baston', 2915), ('regional', 2916), ('eventual', 2917), ('vi', 2918), ('nevill', 2919), ('alert', 2920), ('inmun', 2921), ('inferior', 2922), ('entid', 2923), ('espiral', 2924), ('laz', 2925), ('xmen', 2926), ('fitzgerald', 2927), ('varsovi', 2928), ('szpilm', 2929), ('poloni', 2930), ('prefier', 2931), ('chistos', 2932), ('respir', 2933), ('grial', 2934), ('45', 2935), ('rev', 2936), ('callum', 2937), ('lynch', 2938), ('opresor', 2939), ('hasbr', 2940), ('mul', 2941), ('escuadron', 2942), ('franquici', 2943), ('anad', 2944), ('massachussets', 2945), ('novat', 2946), ('grit', 2947), ('muscul', 2948), ('inconscient', 2949), ('idol', 2950), ('angi', 2951), ('feroz', 2952), ('entabl', 2953), ('nostrom', 2954), ('guarderi', 2955), ('gwyneth', 2956), ('alzar', 2957), ('11', 2958), ('statham', 2959), ('hasti', 2960), ('gris', 2961), ('vendedor', 2962), ('pen', 2963), ('rar', 2964), ('titanic', 2965), ('atlant', 2966), ('donald', 2967), ('glov', 2968), ('jesuit', 2969), ('inig', 2970), ('plantacion', 2971), ('abus', 2972), ('stan', 2973), ('records', 2974), ('bomber', 2975), ('arroj', 2976), ('kennedy', 2977), ('cerc', 2978), ('fotograf', 2979), ('atroc', 2980), ('treintaner', 2981), ('1949', 2982), ('reg', 2983), ('sobrehuman', 2984), ('espiritual', 2985), ('poseedor', 2986), ('coster', 2987), ('odise', 2988), ('jody', 2989), ('toshi', 2990), ('rodaj', 2991), ('blunt', 2992), ('sufri', 2993), ('invernal', 2994), ('hemsworth', 2995), ('desterr', 2996), ('espej', 2997), ('climat', 2998), ('gibson', 2999), ('federal', 3000), ('derrib', 3001), ('baltimor', 3002), ('progenitor', 3003), ('espabil', 3004), ('malik', 3005), ('furi', 3006), ('shepard', 3007), ('loteri', 3008), ('ascensor', 3009), ('distr', 3010), ('patriarc', 3011), ('entrelaz', 3012), ('hoov', 3013), ('suicidi', 3014), ('oxid', 3015), ('dwight', 3016), ('shaun', 3017), ('automovilist', 3018), ('graved', 3019), ('cod', 3020), ('hamp', 3021), ('remont', 3022), ('entidad', 3023), ('alfabet', 3024), ('angusti', 3025), ('variopint', 3026), ('desesperacion', 3027), ('inexplic', 3028), ('orfanat', 3029), ('jovovich', 3030), ('icon', 3031), ('releg', 3032), ('inusual', 3033), ('conjur', 3034), ('ente', 3035), ('mcadams', 3036), ('sombri', 3037), ('trek', 3038), ('r2d2', 3039), ('esquiv', 3040), ('acomod', 3041), ('ordinari', 3042), ('devot', 3043), ('maldec', 3044), ('seguir', 3045), ('vari', 3046), ('sae', 3047), ('2040', 3048), ('poppins', 3049), ('inolvid', 3050), ('pugil', 3051), ('rapunzel', 3052), ('miel', 3053), ('mamm', 3054), ('sophi', 3055), ('templ', 3056), ('hibr', 3057), ('eve', 3058), ('peru', 3059), ('champs', 3060), ('davy', 3061), ('oriental', 3062), ('sao', 3063), ('insospech', 3064), ('suprim', 3065), ('mavis', 3066), ('trastoc', 3067), ('ogros', 3068), ('irreverent', 3069), ('fury', 3070), ('stab', 3071), ('discipul', 3072), ('agres', 3073), ('royalton', 3074), ('enfurec', 3075), ('huert', 3076), ('vecindari', 3077), ('pretendient', 3078), ('curtis', 3079), ('baxt', 3080), ('arca', 3081), ('proscrit', 3082), ('slim', 3083), ('recompens', 3084), ('perrit', 3085), ('pastor', 3086), ('tiern', 3087), ('cachorr', 3088), ('box', 3089), ('golpe', 3090), ('iris', 3091), ('independent', 3092), ('alquil', 3093), ('detest', 3094), ('apart', 3095), ('financier', 3096), ('fenwick', 3097), ('perry', 3098), ('asciend', 3099), ('vay', 3100), ('dewey', 3101), ('perder', 3102), ('pared', 3103), ('ocupacion', 3104), ('perturb', 3105), ('lugaren', 3106), ('resurg', 3107), ('jarvis', 3108), ('amistad', 3109), ('deseos', 3110), ('reverend', 3111), ('extravag', 3112), ('descabell', 3113), ('elis', 3114), ('profesion', 3115), ('cowell', 3116), ('tribu', 3117), ('bradley', 3118), ('ally', 3119), ('gag', 3120), ('pase', 3121), ('ingen', 3122), ('shuttl', 3123), ('kowalsky', 3124), ('guardaespald', 3125), ('realist', 3126), ('innov', 3127), ('usar', 3128), ('agujer', 3129), ('revuelt', 3130), ('ice', 3131), ('spy', 3132), ('lav', 3133), ('mexican', 3134), ('knoxvill', 3135), ('gamberr', 3136), ('off', 3137), ('trasatlant', 3138), ('pasaj', 3139), ('predecesor', 3140), ('herrer', 3141), ('avisp', 3142), ('spooky', 3143), ('brock', 3144), ('incalcul', 3145), ('wesley', 3146), ('zangan', 3147), ('vei', 3148), ('nom', 3149), ('entrevist', 3150), ('erot', 3151), ('voluntari', 3152), ('aleg', 3153), ('ejércit', 3154), ('perlm', 3155), ('jaegers', 3156), ('obsolet', 3157), ('apocalipsis', 3158), ('viud', 3159), ('desmadr', 3160), ('irrevers', 3161), ('mot', 3162), ('ghost', 3163), ('primari', 3164), ('incondicional', 3165), ('bolt', 3166), ('canin', 3167), ('ugand', 3168), ('lesbian', 3169), ('saltador', 3170), ('pol', 3171), ('afortun', 3172), ('suspicaci', 3173), ('examin', 3174), ('empuj', 3175), ('creci', 3176), ('alvin', 3177), ('ceniz', 3178), ('majest', 3179), ('balbo', 3180), ('anhel', 3181), ('matthews', 3182), ('retorc', 3183), ('centenar', 3184), ('siqu', 3185), ('clon', 3186), ('janeir', 3187), ('pajar', 3188), ('veget', 3189), ('strip', 3190), ('girl', 3191), ('coralin', 3192), ('confies', 3193), ('shi', 3194), ('labeouf', 3195), ('espectacular', 3196), ('blanchett', 3197), ('vaci', 3198), ('emprendedor', 3199), ('ving', 3200), ('rham', 3201), ('salg', 3202), ('billonari', 3203), ('petrolifer', 3204), ('vagabund', 3205), ('seyfri', 3206), ('sparks', 3207), ('hogget', 3208), ('hannibal', 3209), ('pearson', 3210), ('escrupul', 3211), ('psiquiatr', 3212), ('apunt', 3213), ('aterric', 3214), ('parac', 3215), ('dom', 3216), ('adrenalin', 3217), ('raudal', 3218), ('mous', 3219), ('crimen', 3220), ('dory', 3221), ('shaw', 3222), ('sparky', 3223), ('escalofri', 3224), ('mod', 3225), ('mercanci', 3226), ('everd', 3227), ('huev', 3228), ('tuert', 3229), ('jonah', 3230), ('nochebuen', 3231), ('cotidian', 3232), ('feroc', 3233), ('dunc', 3234), ('affleck', 3235), ('compromet', 3236), ('peon', 3237), ('vortic', 3238), ('elemental', 3239), ('devuelv', 3240), ('langdon', 3241), ('superlopez', 3242), ('princeton', 3243), ('ames', 3244), ('sydney', 3245), ('sot', 3246), ('francisc', 3247), ('destap', 3248), ('curios', 3249), ('demasi', 3250), ('marz', 3251), ('confirm', 3252), ('edicion', 3253), ('quasimod', 3254), ('nol', 3255), ('hallazg', 3256), ('sufrag', 3257), ('hery', 3258), ('asol', 3259), ('payas', 3260), ('mcqu', 3261), ('confund', 3262), ('wat', 3263), ('decepcion', 3264), ('bonit', 3265), ('christm', 3266), ('dificultad', 3267), ('energet', 3268), ('contrarrest', 3269), ('biolog', 3270), ('extraccion', 3271), ('bishop', 3272), ('lex', 3273), ('woods', 3274), ('beckinsal', 3275), ('sombrerer', 3276), ('hipopotam', 3277), ('jiraf', 3278), ('concret', 3279), ('cypher', 3280), ('kitai', 3281), ('neeson', 3282), ('report', 3283), ('verdad', 3284), ('divergent', 3285), ('elysium', 3286), ('preserv', 3287), ('shelly', 3288), ('conejit', 3289), ('zet', 3290), ('rugrats', 3291), ('glamour', 3292), ('licenci', 3293), ('alafolix', 3294), ('entrad', 3295), ('90', 3296), ('portador', 3297), ('provech', 3298), ('conducir', 3299), ('independient', 3300), ('ocios', 3301), ('conferent', 3302), ('enemist', 3303), ('estatu', 3304), ('grabacion', 3305), ('sacrif', 3306), ('veron', 3307), ('invoc', 3308), ('ran', 3309), ('desvanec', 3310), ('cunningham', 3311), ('subast', 3312), ('apod', 3313), ('juliet', 3314), ('prest', 3315), ('fotogram', 3316), ('cadav', 3317), ('lomis', 3318), ('confier', 3319), ('carolin', 3320), ('persecu', 3321), ('egipci', 3322), ('jeann', 3323), ('gas', 3324), ('cinic', 3325), ('cosm', 3326), ('escal', 3327), ('zuckerberg', 3328), ('500', 3329), ('shosann', 3330), ('rain', 3331), ('facult', 3332), ('fanning', 3333), ('mae', 3334), ('jar', 3335), ('spiderwick', 3336), ('echa', 3337), ('finc', 3338), ('dominik', 3339), ('caen', 3340), ('escondit', 3341), ('duend', 3342), ('soberan', 3343), ('con', 3344), ('downey', 3345), ('law', 3346), ('confort', 3347), ('maharaj', 3348), ('tios', 3349), ('sonador', 3350), ('rutil', 3351), ('val', 3352), ('intensif', 3353), ('regis', 3354), ('bilb', 3355), ('expon', 3356), ('clarian', 3357), ('delt', 3358), ('aplic', 3359), ('vee', 3360), ('nerv', 3361), ('rick', 3362), ('kari', 3363), ('kamiy', 3364), ('02', 3365), ('fight', 3366), ('meteor', 3367), ('princ', 3368), ('snoopy', 3369), ('persever', 3370), ('intervencion', 3371), ('blofeld', 3372), ('cain', 3373), ('exalt', 3374), ('olaf', 3375), ('arendell', 3376), ('iii', 3377), ('esporad', 3378), ('exig', 3379), ('orond', 3380), ('disfuncional', 3381), ('fransoky', 3382), ('fred', 3383), ('ash', 3384), ('clary', 3385), ('jac', 3386), ('than', 3387), ('marsellus', 3388), ('asimil', 3389), ('circust', 3390), ('pioner', 3391), ('schultz', 3392), ('paleontolog', 3393), ('piel', 3394), ('sulley', 3395), ('wazowski', 3396), ('testarud', 3397), ('eclect', 3398), ('camaleon', 3399), ('coral', 3400), ('hawaian', 3401), ('influenci', 3402), ('modal', 3403), ('capitoli', 3404), ('sobrevivi', 3405), ('reproduc', 3406), ('leigh', 3407), ('ingredient', 3408), ('hammond', 3409), ('conservatori', 3410), ('fletch', 3411), ('tel', 3412), ('thompson', 3413), ('cruent', 3414), ('enigm', 3415), ('condicional', 3416), ('alonz', 3417), ('taki', 3418), ('icem', 3419), ('indign', 3420), ('set', 3421), ('peluch', 3422), ('nubl', 3423), ('histeri', 3424), ('conllev', 3425), ('powers', 3426), ('bryan', 3427), ('jaqu', 3428), ('poseidon', 3429), ('abadi', 3430), ('marcial', 3431), ('rocky', 3432), ('pierr', 3433), ('bienven', 3434), ('guar', 3435), ('escoc', 3436), ('mujerieg', 3437), ('entusiast', 3438), ('perteneci', 3439), ('oyent', 3440), ('surgir', 3441), ('voragin', 3442), ('ritual', 3443), ('arranc', 3444), ('canibal', 3445), ('aguard', 3446), ('proxim', 3447), ('hudson', 3448), ('marcian', 3449), ('tremend', 3450), ('desmond', 3451), ('dunde', 3452), ('sue', 3453), ('tatooin', 3454), ('reaviv', 3455), ('ahog', 3456), ('bogomil', 3457), ('dull', 3458), ('prosper', 3459), ('diligent', 3460), ('mannix', 3461), ('minni', 3462), ('elliott', 3463), ('prolong', 3464), ('pearl', 3465), ('harbor', 3466), ('rhys', 3467), ('ifans', 3468), ('centinel', 3469), ('cualidad', 3470), ('primat', 3471), ('mois', 3472), ('joseph', 3473), ('barb', 3474), ('chiffr', 3475), ('altar', 3476), ('monolit', 3477), ('webb', 3478), ('jacuzzi', 3479), ('cusack', 3480), ('susan', 3481), ('uniform', 3482), ('verl', 3483), ('foxx', 3484), ('orleans', 3485), ('godofred', 3486), ('jerusal', 3487), ('sirv', 3488), ('schindl', 3489), ('turing', 3490), ('mochil', 3491), ('bretan', 3492), ('lazenby', 3493), ('sobrad', 3494), ('azot', 3495), ('travis', 3496), ('alpin', 3497), ('literal', 3498), ('largometraj', 3499), ('cuadern', 3500), ('encaden', 3501), ('up', 3502), ('direction', 3503), ('album', 3504), ('dougl', 3505), ('huron', 3506), ('asedi', 3507), ('yeag', 3508), ('eris', 3509), ('gomorrah', 3510), ('tailandi', 3511), ('insigni', 3512), ('travesi', 3513), ('nul', 3514), ('bratislav', 3515), ('valj', 3516), ('vali', 3517), ('anden', 3518), ('jump', 3519), ('mi7', 3520), ('atkinson', 3521), ('devastacion', 3522), ('huerfan', 3523), ('teatral', 3524), ('dark', 3525), ('tenist', 3526), ('seals', 3527), ('percy', 3528), ('rodrig', 3529), ('policial', 3530), ('day', 3531), ('goril', 3532), ('bernabeu', 3533), ('an', 3534), ('lent', 3535), ('ninzz', 3536), ('·', 3537), ('insid', 3538), ('chantaj', 3539), ('joaquin', 3540), ('oso', 3541), ('wladyslaw', 3542), ('adri', 3543), ('cieg', 3544), ('farqu', 3545), ('goodm', 3546), ('embruj', 3547), ('dispar', 3548), ('exam', 3549), ('aristocrat', 3550), ('combin', 3551), ('detect', 3552), ('aladdin', 3553), ('publicitari', 3554), ('amp', 3555), ('pand', 3556), ('liu', 3557), ('aparezc', 3558), ('oceanograf', 3559), ('winston', 3560), ('obelix', 3561), ('xviii', 3562), ('1912', 3563), ('cinem', 3564), ('1994', 3565), ('decidir', 3566), ('ignaci', 3567), ('profundiz', 3568), ('von', 3569), ('ramb', 3570), ('1850', 3571), ('carism', 3572), ('precis', 3573), ('agil', 3574), ('taquill', 3575), ('recaudacion', 3576), ('impenetr', 3577), ('travolt', 3578), ('50', 3579), ('deslumbr', 3580), ('nancy', 3581), ('regent', 3582), ('precari', 3583), ('2000', 3584), ('apareci', 3585), ('lang', 3586), ('hank', 3587), ('duel', 3588), ('verbal', 3589), ('kayak', 3590), ('rond', 3591), ('ravenn', 3592), ('albor', 3593), ('descorazon', 3594), ('solicit', 3595), ('ultron', 3596), ('interrog', 3597), ('is', 3598), ('estup', 3599), ('incursion', 3600), ('leer', 3601), ('horror', 3602), ('lighty', 3603), ('camion', 3604), ('fictici', 3605), ('yend', 3606), ('land', 3607), ('lithgow', 3608), ('maz', 3609), ('durmient', 3610), ('gil', 3611), ('splint', 3612), ('renac', 3613), ('conform', 3614), ('pickl', 3615), ('hambrient', 3616), ('outcom', 3617), ('transilvani', 3618), ('sucesor', 3619), ('2009', 3620), ('visper', 3621), ('manteng', 3622), ('aport', 3623), ('shield', 3624), ('materi', 3625), ('punal', 3626), ('veneci', 3627), ('ofert', 3628), ('tentador', 3629), ('prediccion', 3630), ('volcan', 3631), ('moretz', 3632), ('jenkins', 3633), ('avarici', 3634), ('impopul', 3635), ('neil', 3636), ('farrelly', 3637), ('muppets', 3638), ('enred', 3639), ('boglodit', 3640), ('burl', 3641), ('caban', 3642), ('injust', 3643), ('legitim', 3644), ('correspond', 3645), ('sebasti', 3646), ('gosling', 3647), ('endurec', 3648), ('anda', 3649), ('aniquilacion', 3650), ('st', 3651), ('zion', 3652), ('increment', 3653), ('agot', 3654), ('1991', 3655), ('clooney', 3656), ('patrull', 3657), ('rafael', 3658), ('propiedad', 3659), ('reflej', 3660), ('marionet', 3661), ('beisbol', 3662), ('adiner', 3663), ('instant', 3664), ('biopic', 3665), ('bancari', 3666), ('divulg', 3667), ('mantuv', 3668), ('frod', 3669), ('mystery', 3670), ('resuelv', 3671), ('ahuyent', 3672), ('furtiv', 3673), ('supervillan', 3674), ('caig', 3675), ('alicient', 3676), ('sexy', 3677), ('scrap', 3678), ('rind', 3679), ('líd', 3680), ('manej', 3681), ('premonicion', 3682), ('south', 3683), ('apta', 3684), ('intrig', 3685), ('bieb', 3686), ('referent', 3687), ('orgull', 3688), ('reunir', 3689), ('homosexual', 3690), ('ovni', 3691), ('minuci', 3692), ('rigg', 3693), ('renaud', 3694), ('reganadient', 3695), ('donni', 3696), ('osborn', 3697), ('tenebr', 3698), ('soborn', 3699), ('oprim', 3700), ('ole', 3701), ('jacobs', 3702), ('cat', 3703), ('baldwin', 3704), ('elud', 3705), ('cuartel', 3706), ('cerebr', 3707), ('migr', 3708), ('renombr', 3709), ('merec', 3710), ('educ', 3711), ('neg', 3712), ('vietnam', 3713), ('escolar', 3714), ('movi', 3715), ('unicelular', 3716), ('watney', 3717), ('libby', 3718), ('juzg', 3719), ('sentenci', 3720), ('mos', 3721), ('carpinter', 3722), ('destrez', 3723), ('corporation', 3724), ('alent', 3725), ('faun', 3726), ('barr', 3727), ('iggy', 3728), ('stonebanks', 3729), ('siguient', 3730), ('damod', 3731), ('orbe', 3732), ('traicioner', 3733), ('1885', 3734), ('tumb', 3735), ('log', 3736), ('campanari', 3737), ('televisión', 3738), ('reh', 3739), ('madelein', 3740), ('desentran', 3741), ('potent', 3742), ('jay', 3743), ('cortometraj', 3744), ('dab', 3745), ('alfombr', 3746), ('exhibicion', 3747), ('sembr', 3748), ('apto', 3749), ('scarlett', 3750), ('johansson', 3751), ('navi', 3752), ('admit', 3753), ('madagasc', 3754), ('genial', 3755), ('much', 3756), ('cebr', 3757), ('nere', 3758), ('oid', 3759), ('min', 3760), ('sawy', 3761), ('foraj', 3762), ('significari', 3763), ('playboy', 3764), ('hutcherson', 3765), ('hudgens', 3766), ('penitenciari', 3767), ('espionaj', 3768), ('firmament', 3769), ('islas', 3770), ('tess', 3771), ('ahkmenrah', 3772), ('larry', 3773), ('faraon', 3774), ('coldplay', 3775), ('erudit', 3776), ('veinticuatr', 3777), ('plumm', 3778), ('recibir', 3779), ('nexus', 3780), ('depp', 3781), ('atlas', 3782), ('dreyfus', 3783), ('teletransport', 3784), ('entusiasm', 3785), ('roland', 3786), ('constructor', 3787), ('capsul', 3788), ('cubr', 3789), ('sandl', 3790), ('oasis', 3791), ('corpor', 3792), ('despist', 3793), ('guantanam', 3794), ('gorrion', 3795), ('deshumaniz', 3796), ('asgard', 3797), ('dinam', 3798), ('sentimient', 3799), ('enganch', 3800), ('ferris', 3801), ('vis', 3802), ('presentacion', 3803), ('lucis', 3804), ('smaug', 3805), ('megaloman', 3806), ('dosis', 3807), ('comprador', 3808), ('radn', 3809), ('psi', 3810), ('bet', 3811), ('jord', 3812), ('distribu', 3813), ('hack', 3814), ('impotent', 3815), ('bison', 3816), ('sincer', 3817), ('stavr', 3818), ('avar', 3819), ('disfraz', 3820), ('hir', 3821), ('quimic', 3822), ('embest', 3823), ('lugi', 3824), ('mesi', 3825), ('rehabilit', 3826), ('interestel', 3827), ('desol', 3828), ('descerebr', 3829), ('torpez', 3830), ('bettany', 3831), ('candi', 3832), ('recepcion', 3833), ('comerci', 3834), ('tecl', 3835), ('haciend', 3836), ('terenc', 3837), ('salud', 3838), ('kirby', 3839), ('fat', 3840), ('sonny', 3841), ('interven', 3842), ('covenant', 3843), ('simmons', 3844), ('dalmat', 3845), ('caf', 3846), ('rascaciel', 3847), ('flynn', 3848), ('subestim', 3849), ('beach', 3850), ('rehac', 3851), ('porn', 3852), ('tum', 3853), ('nub', 3854), ('ewing', 3855), ('300', 3856), ('cuarent', 3857), ('factor', 3858), ('stewart', 3859), ('doss', 3860), ('neptun', 3861), ('axel', 3862), ('maxwell', 3863), ('dictador', 3864), ('suren', 3865), ('academ', 3866), ('ajedrez', 3867), ('jarrod', 3868), ('insta', 3869), ('reivindic', 3870), ('prosig', 3871), ('pedr', 3872), ('pendient', 3873), ('cervez', 3874), ('wars', 3875), ('seleccion', 3876), ('optimus', 3877), ('romulan', 3878), ('veloz', 3879), ('manifiest', 3880), ('viviend', 3881), ('jorob', 3882), ('tinkl', 3883), ('fuertement', 3884), ('redim', 3885), ('grindelwald', 3886), ('volvi', 3887), ('estructur', 3888), ('porven', 3889), ('nox', 3890), ('moz', 3891), ('alumini', 3892), ('ma', 3893), ('carr', 3894), ('na', 3895), ('urbe', 3896), ('1865', 3897), ('amanec', 3898), ('maniac', 3899), ('fa', 3900), ('hun', 3901), ('metropoli', 3902), ('palabr', 3903), ('jackm', 3904), ('cha', 3905), ('panoramix', 3906), ('asterix', 3907), ('pocion', 3908), ('insomni', 3909), ('demonolog', 3910), ('judy', 3911), ('wiig', 3912), ('bucl', 3913), ('camarer', 3914), ('registr', 3915), ('requier', 3916), ('tin', 3917), ('actually', 3918), ('liger', 3919), ('meteorit', 3920), ('anonim', 3921), ('nev', 3922), ('vehicul', 3923), ('indiscut', 3924), ('c3po', 3925), ('diesel', 3926), ('lesli', 3927), ('vidal', 3928), ('chen', 3929), ('pseudonim', 3930), ('guionist', 3931), ('holand', 3932), ('errant', 3933), ('multiplic', 3934), ('suegr', 3935), ('recibi', 3936), ('escol', 3937), ('wallac', 3938), ('2003', 3939), ('acostumbr', 3940), ('pension', 3941), ('saban', 3942), ('reclu', 3943), ('absorb', 3944), ('confusion', 3945), ('rud', 3946), ('pesc', 3947), ('valor', 3948), ('amazon', 3949), ('apple', 3950), ('spin', 3951), ('jackass', 3952), ('xx', 3953), ('forj', 3954), ('scoobydo', 3955), ('antoni', 3956), ('tribunal', 3957), ('hardy', 3958), ('incomprend', 3959), ('coincident', 3960), ('600', 3961), ('demand', 3962), ('hawkins', 3963), ('youtub', 3964), ('amar', 3965), ('pertenecient', 3966), ('tard', 3967), ('antihero', 3968), ('dant', 3969), ('stars', 3970), ('monumental', 3971), ('1957', 3972), ('alec', 3973), ('nichol', 3974), ('atic', 3975), ('castl', 3976), ('así', 3977), ('elef', 3978), ('ola', 3979), ('alemani', 3980), ('gre', 3981), ('brot', 3982), ('rudy', 3983), ('lynn', 3984), ('prostitut', 3985), ('disposicion', 3986), ('ves', 3987), ('popular', 3988), ('postapocalipt', 3989), ('recrimin', 3990), ('scream', 3991), ('nor', 3992), ('cuest', 3993), ('atmosfer', 3994), ('llanur', 3995), ('introvert', 3996), ('gray', 3997), ('hyde', 3998), ('revelacion', 3999), ('fost', 4000), ('sen', 4001), ('map', 4002), ('defin', 4003), ('1981', 4004), ('otan', 4005), ('disgust', 4006), ('panter', 4007), ('west', 4008), ('detien', 4009), ('usad', 4010), ('taggart', 4011), ('sesent', 4012), ('cowboy', 4013), ('fas', 4014), ('inhospit', 4015), ('barbanegr', 4016), ('panoram', 4017), ('aquam', 4018), ('usuari', 4019), ('1983', 4020), ('edmund', 4021), ('bohemi', 4022), ('encandil', 4023), ('niflheim', 4024), ('avis', 4025), ('neal', 4026), ('administracion', 4027), ('dickens', 4028), ('interpretacion', 4029), ('espectr', 4030), ('ortodox', 4031), ('atlet', 4032), ('compuls', 4033), ('apostol', 4034), ('pac', 4035), ('jerarqui', 4036), ('rae', 4037), ('mileni', 4038), ('wan', 4039), ('walk', 4040), ('tanqu', 4041), ('nostr', 4042), ('most', 4043), ('pin', 4044), ('armstrong', 4045), ('clim', 4046), ('1996', 4047), ('1931', 4048), ('capell', 4049), ('presidiari', 4050), ('krabs', 4051), ('cabl', 4052), ('cumplimient', 4053), ('anul', 4054), ('inexplor', 4055), ('simpson', 4056), ('obtien', 4057), ('chiron', 4058), ('galaxin', 4059), ('editor', 4060), ('mirand', 4061), ('vaness', 4062), ('30', 4063), ('ronni', 4064), ('forest', 4065), ('malogr', 4066), ('prometheus', 4067), ('1979', 4068), ('dueñ', 4069), ('night', 4070), ('gekk', 4071), ('1948', 4072), ('narracion', 4073), ('virg', 4074), ('proteccion', 4075), ('tipic', 4076), ('mitchell', 4077), ('australi', 4078), ('luth', 4079), ('dimitri', 4080), ('municipal', 4081), ('trevor', 4082), ('bocadill', 4083), ('altas', 4084), ('academi', 4085), ('felix', 4086), ('imberb', 4087), ('pest', 4088), ('young', 4089), ('teas', 4090), ('kick', 4091), ('plass', 4092), ('—', 4093), ('alberg', 4094), ('devil', 4095), ('proyectil', 4096), ('duc', 4097), ('expansion', 4098), ('burr', 4099), ('günth', 4100), ('feder', 4101), ('descendient', 4102), ('alfred', 4103), ('dustin', 4104), ('dirk', 4105), ('retroced', 4106), ('bak', 4107), ('permanent', 4108), ('1946', 4109), ('anni', 4110), ('analisis', 4111), ('kim', 4112), ('tre', 4113), ('hop', 4114), ('deberi', 4115), ('aid', 4116), ('justicier', 4117), ('advertent', 4118), ('hawaii', 4119), ('apocalyps', 4120), ('rav', 4121), ('captain', 4122), ('carlyl', 4123), ('shanghai', 4124), ('jale', 4125), ('cocain', 4126), ('sunshin', 4127), ('stripp', 4128), ('pensamient', 4129), ('lost', 4130), ('tropical', 4131), ('sra', 4132), ('sals', 4133), ('1944', 4134), ('ivan', 4135), ('clinic', 4136), ('danc', 4137), ('tendenci', 4138), ('especif', 4139), ('semej', 4140), ('critic', 4141), ('chihuahu', 4142), ('moreau', 4143), ('comentari', 4144), ('disminu', 4145), ('’', 4146), ('casey', 4147), ('finn', 4148), ('además', 4149), ('isabel', 4150), ('abraham', 4151), ('lincoln', 4152), ('lech', 4153), ('1959', 4154), ('evident', 4155), ('prov', 4156), ('gloucest', 4157), ('andre', 4158), ('tabern', 4159), ('hann', 4160), ('dependient', 4161), ('vast', 4162), ('tuck', 4163), ('religion', 4164), ('despeg', 4165), ('fland', 4166), ('sign', 4167), ('brasil', 4168), ('arizon', 4169), ('pec', 4170), ('indy', 4171), ('lois', 4172), ('petrole', 4173), ('tyre', 4174), ('lect', 4175), ('philip', 4176), ('hms', 4177), ('util', 4178), ('fragment', 4179), ('enanit', 4180), ('provenient', 4181), ('paig', 4182), ('1989', 4183), ('aprendizaj', 4184), ('liderazg', 4185), ('mitolog', 4186), ('ruid', 4187), ('escritur', 4188), ('zeland', 4189), ('heath', 4190), ('abrir', 4191), ('vel', 4192), ('hous', 4193), ('catedral', 4194), ('juez', 4195), ('transformacion', 4196), ('luci', 4197), ('27', 4198), ('circuit', 4199), ('juliann', 4200), ('bobby', 4201), ('fortalez', 4202), ('hard', 4203), ('evans', 4204), ('aeroplan', 4205), ('continent', 4206), ('alexand', 4207), ('fort', 4208), ('orquest', 4209), ('virgini', 4210), ('pett', 4211), ('insurgent', 4212), ('iguald', 4213), ('android', 4214), ('dil', 4215), ('1967', 4216), ('gle', 4217), ('carol', 4218), ('cay', 4219), ('harp', 4220), ('reparacion', 4221), ('festej', 4222), ('garci', 4223), ('augustus', 4224), ('adventur', 4225), ('desbloqu', 4226), ('tranc', 4227), ('ancas', 4228), ('over', 4229), ('bien', 4230), ('xxi', 4231), ('unidad', 4232), ('deteng', 4233), ('continental', 4234), ('reduc', 4235), ('furor', 4236), ('bahi', 4237), ('itali', 4238), ('hamm', 4239), ('surreal', 4240), ('onlin', 4241), ('british', 4242), ('frut', 4243), ('fusion', 4244), ('digital', 4245), ('softwar', 4246), ('alpha', 4247), ('tiran', 4248), ('dre', 4249), ('mc', 4250), ('ernest', 4251), ('onu', 4252), ('honey', 4253), ('ceremonial', 4254), ('33', 4255), ('provinci', 4256), ('crist', 4257), ('sector', 4258), ('inclinacion', 4259), ('usual', 4260), ('desertor', 4261), ('consejer', 4262), ('domest', 4263), ('zer', 4264), ('devocion', 4265), ('descens', 4266), ('literatur', 4267), ('sensacion', 4268), ('institucion', 4269), ('pratt', 4270), ('almacen', 4271), ('nsa', 4272), ('chambers', 4273), ('beck', 4274), ('variacion', 4275), ('colect', 4276), ('act', 4277), ('chocolat', 4278), ('escoci', 4279), ('clausur', 4280), ('cerebral', 4281), ('setent', 4282), ('extend', 4283), ('desplaz', 4284), ('jun', 4285), ('etc', 4286), ('bec', 4287), ('espect', 4288), ('that', 4289), ('kitty', 4290), ('wells', 4291), ('shell', 4292), ('rosi', 4293), ('incomplet', 4294), ('mencion', 4295), ('previ', 4296), ('funeral', 4297), ('karl', 4298), ('aust', 4299), ('atlantis', 4300), ('pan', 4301), ('rural', 4302), ('sally', 4303), ('field', 4304), ('stacy', 4305), ('escud', 4306), ('comit', 4307), ('context', 4308), ('ejercici', 4309), ('resguard', 4310), ('latin', 4311), ('ejempl', 4312), ('abel', 4313), ('perspect', 4314), ('oskar', 4315), ('operari', 4316), ('explotacion', 4317), ('weston', 4318), ('once', 4319), ('wright', 4320), ('flash', 4321), ('suiz', 4322), ('stevenson', 4323), ('hitchcock', 4324), ('tesis', 4325), ('acid', 4326), ('liz', 4327), ('estatus', 4328), ('flashmobs', 4329), ('grievous', 4330), ('payn', 4331), ('london', 4332), ('jakob', 4333), ('narrat', 4334), ('resist', 4335), ('simil', 4336), ('inventor', 4337), ('ventaj', 4338), ('buqu', 4339), ('denis', 4340), ('norton', 4341), ('azar', 4342), ('sof', 4343), ('fascist', 4344), ('johann', 4345), ('cuadr', 4346), ('austri', 4347), ('rop', 4348), ('contiend', 4349), ('circulacion', 4350), ('margaret', 4351), ('durham', 4352), ('peg', 4353), ('desp', 4354), ('estanci', 4355), ('kaneki', 4356), ('tit', 4357), ('corp', 4358), ('cai', 4359), ('institu', 4360), ('ann', 4361), ('santiag', 4362), ('polis', 4363), ('dickson', 4364), ('bacon', 4365), ('ramon', 4366), ('atardec', 4367), ('…', 4368), ('pro', 4369), ('do', 4370), ('amanaz', 4371), ('ne', 4372), ('pre', 4373), ('qui', 4374), ('municipi', 4375), ('matusal', 4376), ('cien', 4377), ('habitacul', 4378), ('tent', 4379), ('ass', 4380), ('mintz', 4381), ('so', 4382), ('naval', 4383), ('littl', 4384), ('mist', 4385), ('chun', 4386), ('1861', 4387), ('kaijus', 4388), ('il', 4389), ('irland', 4390), ('darkseekers', 4391), ('inutil', 4392), ('equivoc', 4393), ('desproteg', 4394), ('caseri', 4395), ('tribul', 4396), ('stoppard', 4397), ('lejanisim', 4398), ('cienag', 4399), ('intrat', 4400), ('ogro', 4401), ('ratoncit', 4402), ('malisim', 4403), ('estars', 4404), ('calladit', 4405), ('enamoradiz', 4406), ('tonteri', 4407), ('berg', 4408), ('halm', 4409), ('consistent', 4410), ('anja', 4411), ('kling', 4412), ('hub', 4413), ('inhibidor', 4414), ('dorf', 4415), ('fisch', 4416), ('naus', 4417), ('desbloque', 4418), ('aguil', 4419), ('progres', 4420), ('marshal', 4421), ('necrofer', 4422), ('convoc', 4423), ('alist', 4424), ('emisari', 4425), ('someter', 4426), ('merecedor', 4427), ('estim', 4428), ('ryme', 4429), ('justic', 4430), ('kathryn', 4431), ('newton', 4432), ('convivent', 4433), ('sanitari', 4434), ('domicili', 4435), ('rubisim', 4436), ('eriz', 4437), ('electriz', 4438), ('irlandes', 4439), ('costig', 4440), ('batson', 4441), ('thaddeus', 4442), ('sivan', 4443), ('consum', 4444), ('tosc', 4445), ('purist', 4446), ('irreconcili', 4447), ('fragu', 4448), ('sobrev', 4449), ('ancestral', 4450), ('lycan', 4451), ('interpon', 4452), ('carezc', 4453), ('favoreceri', 4454), ('deshabit', 4455), ('ladronzuel', 4456), ('sult', 4457), ('jasmin', 4458), ('jaf', 4459), ('conceder', 4460), ('cereal', 4461), ('vegetal', 4462), ('garlin', 4463), ('golosin', 4464), ('hobbi', 4465), ('cangur', 4466), ('irritacion', 4467), ('srta', 4468), ('harrid', 4469), ('anjel', 4470), ('huston', 4471), ('profeci', 4472), ('voc', 4473), ('extint', 4474), ('fos', 4475), ('suyin', 4476), ('kingm', 4477), ('compatibiliz', 4478), ('vigent', 4479), ('catarqu', 4480), ('vici', 4481), ('amenac', 4482), ('jabon', 4483), ('autodestruccion', 4484), ('frustacion', 4485), ('arroll', 4486), ('antimisil', 4487), ('hundi', 4488), ('vitrin', 4489), ('bendec', 4490), ('fij', 4491), ('favreu', 4492), ('mufas', 4493), ('scar', 4494), ('suricat', 4495), ('timon', 4496), ('pumb', 4497), ('lectur', 4498), ('convalecent', 4499), ('schweetz', 4500), ('trautm', 4501), ('afganist', 4502), ('afgan', 4503), ('northup', 4504), ('louisian', 4505), ('sucumb', 4506), ('caparazon', 4507), ('ditk', 4508), ('pulveriz', 4509), ('49', 4510), ('morrison', 4511), ('crujient', 4512), ('escombr', 4513), ('desplom', 4514), ('revist', 4515), ('reminiscent', 4516), ('rov', 4517), ('lem', 4518), ('mauthaus', 4519), ('francesc', 4520), ('evasion', 4521), ('nuremberg', 4522), ('asisti', 4523), ('hipnotiz', 4524), ('snob', 4525), ('byrne', 4526), ('blatty', 4527), ('levitacion', 4528), ('manifestacion', 4529), ('psiquiatri', 4530), ('reestren', 4531), ('inclusion', 4532), ('possibl', 4533), ('sinfin', 4534), ('desalin', 4535), ('bondad', 4536), ('samurai', 4537), ('sugier', 4538), ('françois', 4539), ('arnaud', 4540), ('gin', 4541), ('gershon', 4542), ('hervider', 4543), ('perimetr', 4544), ('filtr', 4545), ('clubs', 4546), ('raper', 4547), ('quinceaner', 4548), ('tabarr', 4549), ('ultim', 4550), ('vallart', 4551), ('sensacional', 4552), ('bully', 4553), ('frustracion', 4554), ('minuscul', 4555), ('patal', 4556), ('pisot', 4557), ('manguer', 4558), ('masashi', 4559), ('desapricion', 4560), ('megumi', 4561), ('desgarr', 4562), ('hui', 4563), ('chastain', 4564), ('impuest', 4565), ('comprueb', 4566), ('siembr', 4567), ('hansel', 4568), ('gretel', 4569), ('gemm', 4570), ('arterton', 4571), ('climatolog', 4572), ('indic', 4573), ('adviert', 4574), ('desgaj', 4575), ('graniz', 4576), ('pomel', 4577), ('delhi', 4578), ('acumul', 4579), ('desilusion', 4580), ('trej', 4581), ('goldberg', 4582), ('mcgow', 4583), ('inmoral', 4584), ('koehl', 4585), ('marzan', 4586), ('avengers', 4587), ('age', 4588), ('status', 4589), ('quo', 4590), ('vikand', 4591), ('deshonr', 4592), ('caser', 4593), ('humill', 4594), ('aguant', 4595), ('cabaret', 4596), ('coc', 4597), ('bong', 4598), ('estimul', 4599), ('quit', 4600), ('dev', 4601), ('bombay', 4602), ('fergus', 4603), ('elinor', 4604), ('macguffin', 4605), ('macintosh', 4606), ('cascarrabi', 4607), ('dingwall', 4608), ('syfy', 4609), ('infest', 4610), ('hari', 4611), ('convirties', 4612), ('utilitari', 4613), ('descapot', 4614), ('chalet', 4615), ('padel', 4616), ('satisfaccion', 4617), ('descubriri', 4618), ('senorit', 4619), ('1935', 4620), ('sicili', 4621), ('poderosisim', 4622), ('conmovedor', 4623), ('abrevi', 4624), ('around', 4625), ('esnif', 4626), ('abast', 4627), ('nietzsch', 4628), ('gordinflon', 4629), ('apil', 4630), ('furgonet', 4631), ('volkswag', 4632), ('ava', 4633), ('hartig', 4634), ('johny', 4635), ('marcy', 4636), ('boswell', 4637), ('indiferent', 4638), ('curv', 4639), ('zigzag', 4640), ('yakuz', 4641), ('kristi', 4642), ('concienzud', 4643), ('26', 4644), ('consuel', 4645), ('imaginari', 4646), ('mugr', 4647), ('rebautiz', 4648), ('genorm', 4649), ('cucarach', 4650), ('bravucon', 4651), ('larv', 4652), ('insectosauri', 4653), ('cuelg', 4654), ('hombrecill', 4655), ('slat', 4656), ('irrefut', 4657), ('fenómen', 4658), ('supernatural', 4659), ('rudolf', 4660), ('nureyev', 4661), ('tranquiliz', 4662), ('vintag', 4663), ('vest', 4664), ('inmacul', 4665), ('derram', 4666), ('comp', 4667), ('tuning', 4668), ('becky', 4669), ('energ', 4670), ('magazin', 4671), ('matinal', 4672), ('pomeroy', 4673), ('abrams', 4674), ('paramount', 4675), ('prejuici', 4676), ('oakton', 4677), ('nuec', 4678), ('halli', 4679), ('paraj', 4680), ('dagobah', 4681), ('yod', 4682), ('chewbacc', 4683), ('calrissi', 4684), ('bespin', 4685), ('urdid', 4686), ('matari', 4687), ('eficient', 4688), ('compit', 4689), ('difunt', 4690), ('belial', 4691), ('olafur', 4692), ('darri', 4693), ('olafsson', 4694), ('agrup', 4695), ('magnus', 4696), ('dick', 4697), ('rancor', 4698), ('presunt', 4699), ('manc', 4700), ('faroler', 4701), ('crandall', 4702), ('insector', 4703), ('hyrum', 4704), ('graff', 4705), ('ender', 4706), ('wiggin', 4707), ('estrateg', 4708), ('kenton', 4709), ('desech', 4710), ('trenz', 4711), ('perdic', 4712), ('rreub', 4713), ('feff', 4714), ('aversion', 4715), ('debr', 4716), ('cuban', 4717), ('azari', 4718), ('polly', 4719), ('aniston', 4720), ('picant', 4721), ('ofeli', 4722), ('baquer', 4723), ('convalecient', 4724), ('gestacion', 4725), ('sergi', 4726), ('franquist', 4727), ('usen', 4728), ('evolution', 4729), ('encarniz', 4730), ('erradic', 4731), ('genocidi', 4732), ('hermet', 4733), ('biotecnolog', 4734), ('vacun', 4735), ('criogenizacion', 4736), ('credit', 4737), ('veintiun', 4738), ('retrospect', 4739), ('altibaj', 4740), ('antecedent', 4741), ('requer', 4742), ('distribucion', 4743), ('billet', 4744), ('impacient', 4745), ('amigot', 4746), ('gilroy', 4747), ('ludlum', 4748), ('cross', 4749), ('treadston', 4750), ('shoshan', 4751), ('bush', 4752), ('carib', 4753), ('cofr', 4754), ('feloni', 4755), ('singapur', 4756), ('feng', 4757), ('mismis', 4758), ('sharn', 4759), ('intermedi', 4760), ('huesped', 4761), ('murray', 4762), ('vlad', 4763), ('bisniet', 4764), ('strahm', 4765), ('estrech', 4766), ('distribuidor', 4767), ('cancel', 4768), ('clasificacion', 4769), ('ministeri', 4770), ('metraj', 4771), ('estupor', 4772), ('constitu', 4773), ('maquiavel', 4774), ('sobretod', 4775), ('hiperact', 4776), ('confabul', 4777), ('randy', 4778), ('supervent', 4779), ('weathers', 4780), ('vendi', 4781), ('rosquill', 4782), ('cotton', 4783), ('weary', 4784), ('obtuv', 4785), ('maniat', 4786), ('desalm', 4787), ('escuderi', 4788), ('verdur', 4789), ('vegetalmani', 4790), ('gromit', 4791), ('humanitari', 4792), ('quartermain', 4793), ('engre', 4794), ('helmsley', 4795), ('almighty', 4796), ('buffal', 4797), ('rez', 4798), ('diluvi', 4799), ('let', 4800), ('kodi', 4801), ('maltrat', 4802), ('conozc', 4803), ('abby', 4804), ('dejam', 4805), ('vaqueri', 4806), ('patch', 4807), ('heav', 4808), ('vac', 4809), ('karatek', 4810), ('corral', 4811), ('spa', 4812), ('echen', 4813), ('anodin', 4814), ('virgin', 4815), ('oz', 4816), ('roark', 4817), ('nil', 4818), ('rodgers', 4819), ('cronogram', 4820), ('apagon', 4821), ('runn', 4822), ('arnett', 4823), ('amell', 4824), ('stockm', 4825), ('bebob', 4826), ('rocksteady', 4827), ('sheamus', 4828), ('krang', 4829), ('stanisfield', 4830), ('ojit', 4831), ('malhechor', 4832), ('constantin', 4833), ('miedos', 4834), ('gervais', 4835), ('deliri', 4836), ('suplant', 4837), ('5o', 4838), ('voltaj', 4839), ('yuki', 4840), ('yorkshir', 4841), ('gaz', 4842), ('manutencion', 4843), ('net', 4844), ('1593', 4845), ('tudor', 4846), ('shakespear', 4847), ('dramaturg', 4848), ('ethel', 4849), ('mus', 4850), ('caricatur', 4851), ('avery', 4852), ('patern', 4853), ('celos', 4854), ('cumming', 4855), ('escandinav', 4856), ('1818', 4857), ('dens', 4858), ('arrodill', 4859), ('susurr', 4860), ('cadaver', 4861), ('maquillaj', 4862), ('horm', 4863), ('zapat', 4864), ('destierr', 4865), ('castings', 4866), ('tuguri', 4867), ('sach', 4868), ('coh', 4869), ('borat', 4870), ('kazajist', 4871), ('pedagog', 4872), ('krasinski', 4873), ('bendecir', 4874), ('patent', 4875), ('infal', 4876), ('descar', 4877), ('privac', 4878), ('reload', 4879), ('reduct', 4880), ('exigent', 4881), ('iran', 4882), ('incapacit', 4883), ('chef', 4884), ('oposicion', 4885), ('roedor', 4886), ('august', 4887), ('gusteau', 4888), ('cuisin', 4889), ('fogon', 4890), ('exquisit', 4891), ('culinari', 4892), ('parisin', 4893), ('navegacion', 4894), ('voleibol', 4895), ('erick', 4896), ('antiquisim', 4897), ('gail', 4898), ('tyne', 4899), ('pauperrim', 4900), ('flemish', 4901), ('faen', 4902), ('conceb', 4903), ('consagr', 4904), ('potts', 4905), ('adi', 4906), ('granov', 4907), ('2005', 4908), ('constanci', 4909), ('eje', 4910), ('sorprender', 4911), ('inculc', 4912), ('wasikowsk', 4913), ('estir', 4914), ('liberacion', 4915), ('daryl', 4916), ('candent', 4917), ('stallon', 4918), ('paradisiac', 4919), ('geppett', 4920), ('pepit', 4921), ('grill', 4922), ('aconsej', 4923), ('carisim', 4924), ('crom', 4925), ('bastant', 4926), ('idiot', 4927), ('chof', 4928), ('limousin', 4929), ('amab', 4930), ('chantaje', 4931), ('forens', 4932), ('haiti', 4933), ('green', 4934), ('lunchbox', 4935), ('entreten', 4936), ('irving', 4937), ('zism', 4938), ('encasquet', 4939), ('nicoll', 4940), ('folloner', 4941), ('norteamer', 4942), ('jugarret', 4943), ('despreven', 4944), ('intervin', 4945), ('hawking', 4946), ('teoric', 4947), ('contraj', 4948), ('plataform', 4949), ('flotant', 4950), ('sucumbi', 4951), ('recuer', 4952), ('kristann', 4953), ('lok', 4954), ('connnor', 4955), ('servidor', 4956), ('barber', 4957), ('egos', 4958), ('inc', 4959), ('mondavarious', 4960), ('padin', 4961), ('sindicat', 4962), ('shy', 4963), ('shen', 4964), ('permanezc', 4965), ('soo', 4966), ('sabri', 4967), ('preocupacion', 4968), ('consolid', 4969), ('eminent', 4970), ('drak', 4971), ('riz', 4972), ('adqu', 4973), ('huesp', 4974), ('illumitati', 4975), ('desencant', 4976), ('fraternity', 4977), ('adormec', 4978), ('prehistori', 4979), ('crug', 4980), ('denod', 4981), ('fantást', 4982), ('diaból', 4983), ('deberá', 4984), ('calient', 4985), ('consumir', 4986), ('intermin', 4987), ('simultan', 4988), ('neural', 4989), ('defiend', 4990), ('hunnam', 4991), ('rink', 4992), ('kikuchi', 4993), ('jaeg', 4994), ('desembarc', 4995), ('guadan', 4996), ('reactiv', 4997), ('desus', 4998), ('torc', 4999), ('corresponder', 5000), ('incomod', 5001), ('miguel', 5002), ('dakwon', 5003), ('arnold', 5004), ('sanguinari', 5005), ('visibl', 5006), ('groser', 5007), ('fortific', 5008), ('mefistofel', 5009), ('scotland', 5010), ('yard', 5011), ('carnivor', 5012), ('antioqui', 5013), ('reten', 5014), ('instantane', 5015), ('tatu', 5016), ('superestrell', 5017), ('mend', 5018), ('moter', 5019), ('cazarecompens', 5020), ('deshonest', 5021), ('cartm', 5022), ('kenny', 5023), ('indignacion', 5024), ('expresion', 5025), ('fantas', 5026), ('facebook', 5027), ('twitt', 5028), ('geen', 5029), ('trampolin', 5030), ('worldprid', 5031), ('incompar', 5032), ('stepheni', 5033), ('mey', 5034), ('seattl', 5035), ('graduacion', 5036), ('fock', 5037), ('patos', 5038), ('pam', 5039), ('nir', 5040), ('lod', 5041), ('ineptitud', 5042), ('pesim', 5043), ('strahn', 5044), ('grisace', 5045), ('novent', 5046), ('dement', 5047), ('süskind', 5048), ('grenouill', 5049), ('hedor', 5050), ('careci', 5051), ('olfat', 5052), ('curtiduri', 5053), ('perfum', 5054), ('destil', 5055), ('consigu', 5056), ('audicion', 5057), ('frustrant', 5058), ('discograf', 5059), ('descuid', 5060), ('dauri', 5061), ('valer', 5062), ('holandes', 5063), ('labi', 5064), ('malviv', 5065), ('gualteri', 5066), ('malatest', 5067), ('exhaust', 5068), ('compagin', 5069), ('gradu', 5070), ('dooku', 5071), ('senador', 5072), ('padm', 5073), ('encomend', 5074), ('jamaic', 5075), ('crab', 5076), ('key', 5077), ('ocp', 5078), ('residencial', 5079), ('arranqu', 5080), ('honest', 5081), ('restablec', 5082), ('saldanh', 5083), ('conclu', 5084), ('freez', 5085), ('temblor', 5086), ('durisim', 5087), ('brum', 5088), ('hit', 5089), ('chloë', 5090), ('hangov', 5091), ('suit', 5092), ('jovencit', 5093), ('abrirl', 5094), ('cariz', 5095), ('empeor', 5096), ('galt', 5097), ('decan', 5098), ('broadbent', 5099), ('mutt', 5100), ('calaver', 5101), ('akator', 5102), ('spalk', 5103), ('nefl', 5104), ('shelley', 5105), ('escept', 5106), ('frivol', 5107), ('caprich', 5108), ('scout', 5109), ('facet', 5110), ('manteni', 5111), ('inciert', 5112), ('ferguson', 5113), ('contrarreloj', 5114), ('supremaci', 5115), ('yacimient', 5116), ('caspi', 5117), ('sint', 5118), ('atraer', 5119), ('renard', 5120), ('ardirat', 5121), ('semicatastrof', 5122), ('manfr', 5123), ('soberbi', 5124), ('permis', 5125), ('nights', 5126), ('rodhant', 5127), ('atien', 5128), ('diciembr', 5129), ('gilli', 5130), ('tisdal', 5131), ('dillm', 5132), ('razor', 5133), ('intrus', 5134), ('abba', 5135), ('davi', 5136), ('seymour', 5137), ('houtens', 5138), ('sadic', 5139), ('cariben', 5140), ('comodor', 5141), ('impav', 5142), ('esquelet', 5143), ('judith', 5144), ('engatus', 5145), ('excarcel', 5146), ('cuchill', 5147), ('torett', 5148), ('exces', 5149), ('fianz', 5150), ('serl', 5151), ('rovi', 5152), ('animation', 5153), ('stravinsky', 5154), ('ponchielli', 5155), ('mussorgsky', 5156), ('ave', 5157), ('schubert', 5158), ('envenen', 5159), ('manzan', 5160), ('umbridg', 5161), ('fenix', 5162), ('botan', 5163), ('evacu', 5164), ('parsons', 5165), ('prend', 5166), ('portatil', 5167), ('marlin', 5168), ('urbes', 5169), ('natsworthy', 5170), ('hest', 5171), ('hilm', 5172), ('bioquim', 5173), ('sentidos', 5174), ('bioingenieri', 5175), ('sleepy', 5176), ('hollow', 5177), ('corporal', 5178), ('reunific', 5179), ('anclad', 5180), ('autodidact', 5181), ('coin', 5182), ('peet', 5183), ('suzann', 5184), ('collins', 5185), ('lio', 5186), ('dient', 5187), ('blandit', 5188), ('infortun', 5189), ('comadrej', 5190), ('adolf', 5191), ('cuatr', 5192), ('bols', 5193), ('cer', 5194), ('peripeci', 5195), ('indescript', 5196), ('mclovin', 5197), ('carnet', 5198), ('desmesur', 5199), ('lumin', 5200), ('tripl', 5201), ('trine', 5202), ('desbord', 5203), ('jolgori', 5204), ('golshifteh', 5205), ('farahani', 5206), ('libret', 5207), ('homenaj', 5208), ('ginsberg', 5209), ('discret', 5210), ('repeticion', 5211), ('instalacion', 5212), ('sonsac', 5213), ('rizz', 5214), ('nodriz', 5215), ('shawne', 5216), ('denlon', 5217), ('bah', 5218), ('soomekh', 5219), ('angus', 5220), ('macfayd', 5221), ('malentend', 5222), ('resarc', 5223), ('benchwarmers', 5224), ('empezari', 5225), ('servir', 5226), ('berek', 5227), ('melor', 5228), ('reaparicion', 5229), ('deton', 5230), ('vittori', 5231), ('azeroth', 5232), ('chiton', 5233), ('ler', 5234), ('contabl', 5235), ('antoj', 5236), ('fiebr', 5237), ('1860', 5238), ('maori', 5239), ('crey', 5240), ('kai', 5241), ('montgomery', 5242), ('egocentr', 5243), ('medianoch', 5244), ('oldman', 5245), ('triunvirat', 5246), ('malori', 5247), ('caudal', 5248), ('paket', 5249), ('oscurec', 5250), ('arbitr', 5251), ('zorin', 5252), ('microchips', 5253), ('andres', 5254), ('intact', 5255), ('incertidumbr', 5256), ('acorral', 5257), ('heffley', 5258), ('pelud', 5259), ('xxvii', 5260), ('kilrathi', 5261), ('furios', 5262), ('formid', 5263), ('swedish', 5264), ('froll', 5265), ('gargol', 5266), ('lavern', 5267), ('bullici', 5268), ('esmerald', 5269), ('envejec', 5270), ('superpoblacion', 5271), ('electron', 5272), ('annabeth', 5273), ('gish', 5274), ('pennywis', 5275), ('criptic', 5276), ('sciarr', 5277), ('moneypenny', 5278), ('estremecedor', 5279), ('ded', 5280), ('conclusion', 5281), ('priorid', 5282), ('rebaj', 5283), ('desarrap', 5284), ('phelps', 5285), ('dificilisim', 5286), ('oir', 5287), ('balthaz', 5288), ('stutl', 5289), ('baruchel', 5290), ('inmersion', 5291), ('escob', 5292), ('hic', 5293), ('irrump', 5294), ('lebowski', 5295), ('pasaden', 5296), ('opulent', 5297), ('tocay', 5298), ('repong', 5299), ('reticent', 5300), ('extorsion', 5301), ('roc', 5302), ('maryland', 5303), ('jenn', 5304), ('importantisim', 5305), ('cuarenton', 5306), ('kritic', 5307), ('kathy', 5308), ('cyrus', 5309), ('iko', 5310), ('radioact', 5311), ('yin', 5312), ('yang', 5313), ('gunn', 5314), ('toll', 5315), ('caes', 5316), ('church', 5317), ('villain', 5318), ('tonel', 5319), ('plutoni', 5320), ('inexpugn', 5321), ('matien', 5322), ('63', 5323), ('rehen', 5324), ('desorbit', 5325), ('guil', 5326), ('damm', 5327), ('docen', 5328), ('multietn', 5329), ('die', 5330), ('sumergi', 5331), ('traslacion', 5332), ('morfe', 5333), ('sully', 5334), ('sill', 5335), ('extrayend', 5336), ('neytiri', 5337), ('mauric', 5338), ('precision', 5339), ('aerolin', 5340), ('piramid', 5341), ('weyland', 5342), ('medioambient', 5343), ('eman', 5344), ('corvinus', 5345), ('speedm', 5346), ('ascott', 5347), ('marip', 5348), ('infratierr', 5349), ('liron', 5350), ('liebr', 5351), ('cronoesfer', 5352), ('goldfing', 5353), ('experiemtn', 5354), ('murcian', 5355), ('murci', 5356), ('martinez', 5357), ('goz', 5358), ('gyllenhaal', 5359), ('rend', 5360), ('raig', 5361), ('baliz', 5362), ('quitaniev', 5363), ('sobredosis', 5364), ('moland', 5365), ('godmoth', 5366), ('verm', 5367), ('carri', 5368), ('telequinesis', 5369), ('fechori', 5370), ('hark', 5371), ('rodney', 5372), ('skinn', 5373), ('dori', 5374), ('jekyll', 5375), ('contumac', 5376), ('trascendental', 5377), ('presuponi', 5378), ('stell', 5379), ('fibrosis', 5380), ('quistic', 5381), ('inevit', 5382), ('2159', 5383), ('superpobl', 5384), ('utop', 5385), ('reinstaur', 5386), ('omin', 5387), ('malevol', 5388), ('instaur', 5389), ('padrastr', 5390), ('helicopter', 5391), ('temperamental', 5392), ('mam', 5393), ('rept', 5394), ('euroreptarlandi', 5395), ('didi', 5396), ('fashion', 5397), ('ques', 5398), ('mamis', 5399), ('lenguaj', 5400), ('excit', 5401), ('novedad', 5402), ('leald', 5403), ('disturbi', 5404), ('inclin', 5405), ('lauri', 5406), ('metcalf', 5407), ('irreduct', 5408), ('sublim', 5409), ('osa', 5410), ('brutus', 5411), ('recoger', 5412), ('mckinley', 5413), ('brind', 5414), ('danvers', 5415), ('borom', 5416), ('aragorn', 5417), ('elfo', 5418), ('legol', 5419), ('gimli', 5420), ('median', 5421), ('pipin', 5422), ('sarum', 5423), ('atest', 5424), ('carceler', 5425), ('pasatiemp', 5426), ('tricampeon', 5427), ('convict', 5428), ('terminal', 5429), ('joan', 5430), ('dron', 5431), ('claqu', 5432), ('1927', 5433), ('sonri', 5434), ('peppy', 5435), ('naranj', 5436), ('convers', 5437), ('sugerent', 5438), ('impostor', 5439), ('vindicator', 5440), ('esterlin', 5441), ('baham', 5442), ('volp', 5443), ('rusty', 5444), ('prometedor', 5445), ('carter', 5446), ('linus', 5447), ('caldwell', 5448), ('explos', 5449), ('bash', 5450), ('tarr', 5451), ('cheadl', 5452), ('desvalij', 5453), ('catton', 5454), ('audac', 5455), ('centav', 5456), ('desapercib', 5457), ('dealers', 5458), ('tabl', 5459), ('daley', 5460), ('roosevelt', 5461), ('atil', 5462), ('jebediah', 5463), ('octavius', 5464), ('lancelot', 5465), ('whitecross', 5466), ('videoclips', 5467), ('memor', 5468), ('paradis', 5469), ('lifetim', 5470), ('backstag', 5471), ('shailen', 5472), ('woodley', 5473), ('jeanin', 5474), ('winslet', 5475), ('malher', 5476), ('nepal', 5477), ('clasif', 5478), ('desmay', 5479), ('pavor', 5480), ('percib', 5481), ('cazatalent', 5482), ('latinoamer', 5483), ('fozzi', 5484), ('peggy', 5485), ('frit', 5486), ('escori', 5487), ('mib', 5488), ('lowell', 5489), ('009', 5490), ('valiosisim', 5491), ('orfebreri', 5492), ('pascu', 5493), ('faberg', 5494), ('constat', 5495), ('falsificacion', 5496), ('encamin', 5497), ('iri', 5498), ('kamal', 5499), ('orlov', 5500), ('diplomat', 5501), ('katang', 5502), ('inconfund', 5503), ('camboy', 5504), ('kasp', 5505), ('disput', 5506), ('hegemoni', 5507), ('sharks', 5508), ('portorriquen', 5509), ('jets', 5510), ('ascendent', 5511), ('relojer', 5512), ('mariss', 5513), ('oss', 5514), ('hijastr', 5515), ('mediterrane', 5516), ('merced', 5517), ('apeg', 5518), ('modifiqu', 5519), ('omit', 5520), ('incont', 5521), ('trayect', 5522), ('percat', 5523), ('tyrell', 5524), ('nexus6', 5525), ('exploracion', 5526), ('colonizacion', 5527), ('sideral', 5528), ('runners', 5529), ('richmond', 5530), ('drastic', 5531), ('contemporane', 5532), ('garn', 5533), ('rowlands', 5534), ('calhoun', 5535), ('alli', 5536), ('manch', 5537), ('fich', 5538), ('perseguir', 5539), ('ornament', 5540), ('renai', 5541), ('lambert', 5542), ('derroch', 5543), ('expuest', 5544), ('scodelari', 5545), ('agit', 5546), ('abuelit', 5547), ('cuadrill', 5548), ('altam', 5549), ('dale', 5550), ('fastidi', 5551), ('duchann', 5552), ('sixt', 5553), ('moons', 5554), ('bleistein', 5555), ('renov', 5556), ('satur', 5557), ('polvorient', 5558), ('alucin', 5559), ('moonrak', 5560), ('lanzamient', 5561), ('esparc', 5562), ('goodh', 5563), ('nocion', 5564), ('predestin', 5565), ('mech', 5566), ('enciend', 5567), ('sensibler', 5568), ('fresc', 5569), ('caleidoscop', 5570), ('esforz', 5571), ('emigr', 5572), ('tea', 5573), ('leoni', 5574), ('2044', 5575), ('harvard', 5576), ('blogging', 5577), ('aldo', 5578), ('bastard', 5579), ('reich', 5580), ('marquesin', 5581), ('inversion', 5582), ('extras', 5583), ('simul', 5584), ('wight', 5585), ('convertis', 5586), ('inscrib', 5587), ('encar', 5588), ('trent', 5589), ('gangster', 5590), ('caseron', 5591), ('comisari', 5592), ('aplac', 5593), ('ban', 5594), ('egorov', 5595), ('joel', 5596), ('satisfac', 5597), ('samanth', 5598), ('timothe', 5599), ('chalamet', 5600), ('holgazan', 5601), ('nad', 5602), ('cook', 5603), ('lucky', 5604), ('alba', 5605), ('asgardian', 5606), ('gladiador', 5607), ('aslan', 5608), ('desenmaran', 5609), ('complot', 5610), ('lionel', 5611), ('wigram', 5612), ('reinvent', 5613), ('amasov', 5614), ('stromberg', 5615), ('johanesburg', 5616), ('delir', 5617), ('trasfond', 5618), ('reflex', 5619), ('simplic', 5620), ('robotiz', 5621), ('dicapri', 5622), ('body', 5623), ('lies', 5624), ('ignatius', 5625), ('raini', 5626), ('shay', 5627), ('stefani', 5628), ('dag', 5629), ('farah', 5630), ('depuest', 5631), ('maharajah', 5632), ('crittend', 5633), ('cathy', 5634), ('moriarty', 5635), ('whipstaff', 5636), ('latig', 5637), ('tuf', 5638), ('ricci', 5639), ('1900', 5640), ('satin', 5641), ('moulin', 5642), ('roug', 5643), ('albanil', 5644), ('lavroff', 5645), ('papir', 5646), ('coll', 5647), ('mid', 5648), ('converti', 5649), ('ricachon', 5650), ('lor', 5651), ('belzoni', 5652), ('dinasti', 5653), ('ranch', 5654), ('fierr', 5655), ('abrum', 5656), ('noctis', 5657), ('hobbit', 5658), ('gandalf', 5659), ('desdobl', 5660), ('antidot', 5661), ('blonsky', 5662), ('radiacion', 5663), ('predomin', 5664), ('terorif', 5665), ('salchich', 5666), ('quemadur', 5667), ('recurrir', 5668), ('moc', 5669), ('sustanci', 5670), ('convit', 5671), ('pizz', 5672), ('delmon', 5673), ('coment', 5674), ('weisz', 5675), ('boath', 5676), ('museum', 5677), ('escorpion', 5678), ('ovas', 5679), ('acort', 5680), ('tai', 5681), ('diaboromon', 5682), ('telecomun', 5683), ('takeru', 5684), ('takaishi', 5685), ('kristin', 5686), ('kreuk', 5687), ('mcdonough', 5688), ('sonris', 5689), ('achicharr', 5690), ('callejon', 5691), ('londonium', 5692), ('excalibur', 5693), ('vortigern', 5694), ('compton', 5695), ('arabi', 5696), ('yell', 5697), ('mirr', 5698), ('carlit', 5699), ('schulz', 5700), ('peanuts', 5701), ('orbit', 5702), ('preven', 5703), ('consistir', 5704), ('nortag', 5705), ('cetr', 5706), ('ned', 5707), ('endgam', 5708), ('mysteri', 5709), ('provien', 5710), ('multivers', 5711), ('entes', 5712), ('brill', 5713), ('telenec', 5714), ('trotamund', 5715), ('discapac', 5716), ('78', 5717), ('fredricks', 5718), ('interpong', 5719), ('elsa', 5720), ('cumbr', 5721), ('frac', 5722), ('luthor', 5723), ('supermonstru', 5724), ('estigmatiz', 5725), ('pacienci', 5726), ('explosion', 5727), ('absorbi', 5728), ('gamm', 5729), ('emergent', 5730), ('thunderbolt', 5731), ('gertrudis', 5732), ('sturgess', 5733), ('estadist', 5734), ('spacey', 5735), ('ham', 5736), ('buscador', 5737), ('gog', 5738), ('tamag', 5739), ('meticul', 5740), ('lemon', 5741), ('baymax', 5742), ('eficaz', 5743), ('rit', 5744), ('vrataski', 5745), ('hiroshi', 5746), ('arisc', 5747), ('sopl', 5748), ('arde', 5749), ('jude', 5750), ('providencial', 5751), ('liberari', 5752), ('alarm', 5753), ('sanedrin', 5754), ('iscariot', 5755), ('ponci', 5756), ('pilat', 5757), ('motin', 5758), ('vulg', 5759), ('fray', 5760), ('tatuaj', 5761), ('desautoriz', 5762), ('protocol', 5763), ('infinity', 5764), ('need', 5765), ('garag', 5766), ('entro', 5767), ('rocket', 5768), ('rifl', 5769), ('groot', 5770), ('gamor', 5771), ('destroy', 5772), ('sobrepas', 5773), ('pitch', 5774), ('kowalski', 5775), ('clint', 5776), ('eastwood', 5777), ('torin', 5778), ('1972', 5779), ('inflex', 5780), ('replant', 5781), ('mandylor', 5782), ('forb', 5783), ('esboz', 5784), ('fascin', 5785), ('trescient', 5786), ('topic', 5787), ('arroz', 5788), ('palill', 5789), ('erres', 5790), ('pronunci', 5791), ('pujant', 5792), ('kilometr', 5793), ('broomhild', 5794), ('candyland', 5795), ('alrededor', 5796), ('perdon', 5797), ('fragil', 5798), ('penn', 5799), ('islam', 5800), ('recubiert', 5801), ('lunar', 5802), ('cuern', 5803), ('deleg', 5804), ('cangrej', 5805), ('waternoos', 5806), ('celi', 5807), ('serpient', 5808), ('randall', 5809), ('boggs', 5810), ('enviud', 5811), ('amabl', 5812), ('pueblit', 5813), ('crianz', 5814), ('atenu', 5815), ('ambigüedad', 5816), ('crud', 5817), ('cle', 5818), ('yalitz', 5819), ('aparici', 5820), ('cuaron', 5821), ('emot', 5822), ('agitacion', 5823), ('quebrant', 5824), ('cool', 5825), ('dade', 5826), ('downs', 5827), ('nuit', 5828), ('blanch', 5829), ('mcfelly', 5830), ('natash', 5831), ('lyonn', 5832), ('pretext', 5833), ('desaroll', 5834), ('feo', 5835), ('ohan', 5836), ('compas', 5837), ('hinton', 5838), ('gooding', 5839), ('ryerson', 5840), ('campist', 5841), ('inscripcion', 5842), ('flexibil', 5843), ('corromp', 5844), ('ebenez', 5845), ('cratchit', 5846), ('panem', 5847), ('fastuos', 5848), ('diecioch', 5849), ('hung', 5850), ('maner', 5851), ('jugueter', 5852), ('acogedor', 5853), ('inquilin', 5854), ('reani', 5855), ('poltergeist', 5856), ('escrut', 5857), ('dejà', 5858), ('dna', 5859), ('braquiosauri', 5860), ('triceratops', 5861), ('velociraptors', 5862), ('tiranosauri', 5863), ('fosiliz', 5864), ('ambar', 5865), ('sattl', 5866), ('problemat', 5867), ('alquim', 5868), ('agred', 5869), ('posit', 5870), ('exmuj', 5871), ('neim', 5872), ('bater', 5873), ('financi', 5874), ('velociraptor', 5875), ('sobrevol', 5876), ('sorn', 5877), ('forzos', 5878), ('doris', 5879), ('trioxin', 5880), ('conni', 5881), ('reclin', 5882), ('estupefacient', 5883), ('worlds', 5884), ('want', 5885), ('harding', 5886), ('kucheren', 5887), ('clasific', 5888), ('reptilian', 5889), ('asylum', 5890), ('1969', 5891), ('quentin', 5892), ('spiegelm', 5893), ('comienc', 5894), ('andand', 5895), ('vil', 5896), ('cuantios', 5897), ('perrer', 5898), ('sheperd', 5899), ('desestabiliz', 5900), ('mayordom', 5901), ('pelt', 5902), ('abrig', 5903), ('102', 5904), ('sconosciuti', 5905), ('pueblerin', 5906), ('reencarn', 5907), ('torpement', 5908), ('invict', 5909), ('pasional', 5910), ('reclus', 5911), ('resign', 5912), ('horus', 5913), ('establecer', 5914), ('usurp', 5915), ('osit', 5916), ('deslengu', 5917), ('conduct', 5918), ('volc', 5919), ('clair', 5920), ('minori', 5921), ('recriminacion', 5922), ('registration', 5923), ('congel', 5924), ('willy', 5925), ('wonk', 5926), ('autodenomin', 5927), ('fisk', 5928), ('kingpin', 5929), ('albanes', 5930), ('estambul', 5931), ('erin', 5932), ('gruwell', 5933), ('hilary', 5934), ('swank', 5935), ('lengu', 5936), ('perplej', 5937), ('inconvenient', 5938), ('glaci', 5939), ('litr', 5940), ('crash', 5941), ('cambiant', 5942), ('velm', 5943), ('blowout', 5944), ('machin', 5945), ('vibracion', 5946), ('salaz', 5947), ('bermud', 5948), ('trident', 5949), ('edimburg', 5950), ('spud', 5951), ('sick', 5952), ('williamson', 5953), ('begbi', 5954), ('irvin', 5955), ('welsh', 5956), ('boyl', 5957), ('hodg', 5958), ('colt', 5959), ('notari', 5960), ('chatham', 5961), ('trab', 5962), ('frobish', 5963), ('bisexual', 5964), ('enfermiz', 5965), ('nubil', 5966), ('coffin', 5967), ('stup', 5968), ('entorpec', 5969), ('tas', 5970), ('sociolog', 5971), ('agresion', 5972), ('experimental', 5973), ('abraz', 5974), ('impun', 5975), ('clarinet', 5976), ('reprob', 5977), ('favor', 5978), ('cociner', 5979), ('drogadict', 5980), ('encicloped', 5981), ('scary', 5982), ('school', 5983), ('dufresn', 5984), ('shawshank', 5985), ('los40', 5986), ('awards', 5987), ('hispanoamer', 5988), ('deslig', 5989), ('sherm', 5990), ('klump', 5991), ('reestructuracion', 5992), ('buddy', 5993), ('contratiemp', 5994), ('imprevis', 5995), ('mtv', 5996), ('jonz', 5997), ('carrit', 5998), ('estamp', 5999), ('cucuruch', 6000), ('pezon', 6001), ('caim', 6002), ('tremain', 6003), ('artific', 6004), ('alimentici', 6005), ('abomin', 6006), ('creep', 6007), ('hibernacion', 6008), ('maizal', 6009), ('agarr', 6010), ('benjamin', 6011), ('agriet', 6012), ('carlin', 6013), ('playing', 6014), ('enemy', 6015), ('chang', 6016), ('exclu', 6017), ('aparth', 6018), ('francois', 6019), ('pien', 6020), ('humpty', 6021), ('dumpty', 6022), ('hg', 6023), ('ferri', 6024), ('muell', 6025), ('grimm', 6026), ('perf', 6027), ('clafin', 6028), ('hechiz', 6029), ('okinaw', 6030), ('medall', 6031), ('bikini', 6032), ('bottom', 6033), ('rec', 6034), ('esponj', 6035), ('mick', 6036), ('rueg', 6037), ('acust', 6038), ('2032', 6039), ('salvaguard', 6040), ('relaj', 6041), ('pixels', 6042), ('malinterpret', 6043), ('declaracion', 6044), ('maquinit', 6045), ('brenn', 6046), ('dinklag', 6047), ('gad', 6048), ('espectral', 6049), ('hierb', 6050), ('gangst', 6051), ('endor', 6052), ('culmin', 6053), ('indefens', 6054), ('dennison', 6055), ('aras', 6056), ('780', 6057), ('enreves', 6058), ('alzamient', 6059), ('lloron', 6060), ('veinteaner', 6061), ('morbos', 6062), ('foley', 6063), ('tirot', 6064), ('lutz', 6065), ('fry', 6066), ('kunis', 6067), ('jupit', 6068), ('freg', 6069), ('retret', 6070), ('composicion', 6071), ('mclan', 6072), ('sudamerican', 6073), ('58', 6074), ('combust', 6075), ('boeing', 6076), ('747', 6077), ('mcclan', 6078), ('cornud', 6079), ('elle', 6080), ('adversari', 6081), ('secesion', 6082), ('wyoming', 6083), ('verdug', 6084), ('walton', 6085), ('goggins', 6086), ('ventisc', 6087), ('merceri', 6088), ('1819', 6089), ('meryton', 6090), ('ulis', 6091), ('pitufin', 6092), ('panader', 6093), ('pastel', 6094), ('grun', 6095), ('filosof', 6096), ('gargamel', 6097), ('asbury', 6098), ('raj', 6099), ('gosnell', 6100), ('waisbr', 6101), ('pey', 6102), ('harnett', 6103), ('hawai', 6104), ('sadism', 6105), ('herm', 6106), ('adept', 6107), ('she', 6108), ('oscorp', 6109), ('lenny', 6110), ('enclenqu', 6111), ('horroriz', 6112), ('enrol', 6113), ('enternec', 6114), ('suplic', 6115), ('bombard', 6116), ('floop', 6117), ('skyfall', 6118), ('fatid', 6119), ('extern', 6120), ('dobleg', 6121), ('epidemi', 6122), ('vaughn', 6123), ('buceador', 6124), ('sil', 6125), ('excrement', 6126), ('springfield', 6127), ('inspiracion', 6128), ('last', 6129), ('obtendr', 6130), ('seti', 6131), ('cest', 6132), ('rams', 6133), ('hebre', 6134), ('brut', 6135), ('pornografi', 6136), ('insatisfech', 6137), ('aprender', 6138), ('desmantel', 6139), ('poqu', 6140), ('lynd', 6141), ('drogadiccion', 6142), ('playmat', 6143), ('semidesnud', 6144), ('cornelius', 6145), ('butt', 6146), ('cuidad', 6147), ('nintend', 6148), ('correr', 6149), ('encomiend', 6150), ('celestial', 6151), ('volant', 6152), ('sesion', 6153), ('tabloid', 6154), ('mcmaxford', 6155), ('pow', 6156), ('9000', 6157), ('lorenz', 6158), ('bonaventur', 6159), ('goldn', 6160), ('rhett', 6161), ('wernick', 6162), ('puyi', 6163), ('inacces', 6164), ('termometr', 6165), ('cobertur', 6166), ('sofoc', 6167), ('localic', 6168), ('moscovit', 6169), ('1962', 6170), ('sissy', 6171), ('spacek', 6172), ('misil', 6173), ('guarec', 6174), ('craig', 6175), ('corddry', 6176), ('irak', 6177), ('impredec', 6178), ('subordin', 6179), ('trask', 6180), ('cazamut', 6181), ('extermini', 6182), ('segovi', 6183), ('discotec', 6184), ('whitney', 6185), ('houston', 6186), ('redescubr', 6187), ('moon', 6188), ('jinx', 6189), ('berry', 6190), ('frost', 6191), ('rosamund', 6192), ('pik', 6193), ('doolittl', 6194), ('rejuvenec', 6195), ('brusc', 6196), ('espes', 6197), ('shelton', 6198), ('gerard', 6199), ('butl', 6200), ('katchadori', 6201), ('gluck', 6202), ('daly', 6203), ('mcdonagh', 6204), ('senegales', 6205), ('ferr', 6206), ('1992', 6207), ('keitel', 6208), ('cutl', 6209), ('beckett', 6210), ('brujul', 6211), ('zac', 6212), ('gabriell', 6213), ('wildcats', 6214), ('xii', 6215), ('ibelin', 6216), ('musulman', 6217), ('fidel', 6218), ('sibyll', 6219), ('astuci', 6220), ('simpati', 6221), ('cracovi', 6222), ('gerent', 6223), ('ferrell', 6224), ('duval', 6225), ('rencill', 6226), ('aflor', 6227), ('alzars', 6228), ('entraron', 6229), ('supondri', 6230), ('ofens', 6231), ('incrimin', 6232), ('heterogene', 6233), ('toky', 6234), ('forceje', 6235), ('agoniz', 6236), ('aplom', 6237), ('juerguist', 6238), ('cordur', 6239), ('doscient', 6240), ('sigourney', 6241), ('clonacion', 6242), ('suponi', 6243), ('candic', 6244), ('hidr', 6245), ('improvis', 6246), ('moderniz', 6247), ('valley', 6248), ('viajer', 6249), ('iban', 6250), ('almanaqu', 6251), ('biff', 6252), ('bannett', 6253), ('conjug', 6254), ('equilibr', 6255), ('apreci', 6256), ('tentacul', 6257), ('octopus', 6258), ('ock', 6259), ('benedic', 6260), ('resplandor', 6261), ('civiliz', 6262), ('arid', 6263), ('imper', 6264), ('derru', 6265), ('impon', 6266), ('denzel', 6267), ('pantalon', 6268), ('microbomb', 6269), ('terracot', 6270), ('oconnel', 6271), ('connell', 6272), ('terri', 6273), ('atkison', 6274), ('ciberataqu', 6275), ('analog', 6276), ('contrareloj', 6277), ('altruist', 6278), ('metahuman', 6279), ('lareaux', 6280), ('townshend', 6281), ('atiend', 6282), ('sat', 6283), ('efectu', 6284), ('birdsong', 6285), ('kelson', 6286), ('creenci', 6287), ('absurd', 6288), ('australian', 6289), ('asoci', 6290), ('vicenz', 6291), ('alpes', 6292), ('saval', 6293), ('tambale', 6294), ('skrein', 6295), ('renegoci', 6296), ('loan', 6297), ('chabanol', 6298), ('colaboracion', 6299), ('invitacion', 6300), ('mamb', 6301), ('wilbur', 6302), ('plat', 6303), ('traz', 6304), ('garth', 6305), ('copi', 6306), ('traduc', 6307), ('eligi', 6308), ('vitamin', 6309), ('desf', 6310), ('anabel', 6311), ('gasoliner', 6312), ('jot', 6313), ('comercializ', 6314), ('ellen', 6315), ('islen', 6316), ('tronc', 6317), ('silverton', 6318), ('errat', 6319), ('cinematografi', 6320), ('galardon', 6321), ('garantiz', 6322), ('mayfield', 6323), ('pendleton', 6324), ('orgasm', 6325), ('complac', 6326), ('entradit', 6327), ('kil', 6328), ('paar', 6329), ('soli', 6330), ('periferi', 6331), ('michelin', 6332), ('echas', 6333), ('pill', 6334), ('sintet', 6335), ('octav', 6336), ('cassi', 6337), ('apalanc', 6338), ('troz', 6339), ('pull', 6340), ('consult', 6341), ('veterinari', 6342), ('endos', 6343), ('jadeant', 6344), ('mene', 6345), ('benson', 6346), ('inmintent', 6347), ('shock', 6348), ('klaatu', 6349), ('keanu', 6350), ('1951', 6351), ('keaton', 6352), ('pip', 6353), ('perab', 6354), ('milly', 6355), ('milli', 6356), ('aparc', 6357), ('signific', 6358), ('millenials', 6359), ('redond', 6360), ('bland', 6361), ('translucidez', 6362), ('prag', 6363), ('campin', 6364), ('traynor', 6365), ('claflin', 6366), ('paralit', 6367), ('mononok', 6368), ('rot', 6369), ('rydell', 6370), ('presum', 6371), ('infecci', 6372), ('visualiz', 6373), ('occidentaliz', 6374), ('decrepit', 6375), ('revolv', 6376), ('casett', 6377), ('instruccion', 6378), ('morir', 6379), ('tapp', 6380), ('sierr', 6381), ('utilic', 6382), ('anakin', 6383), ('dro', 6384), ('extermin', 6385), ('anon', 6386), ('colg', 6387), ('minimoys', 6388), ('seleni', 6389), ('betamech', 6390), ('babyc', 6391), ('kind', 6392), ('niall', 6393), ('zayn', 6394), ('styles', 6395), ('tomlinson', 6396), ('ahond', 6397), ('estrellat', 6398), ('o2', 6399), ('banist', 6400), ('ferre', 6401), ('extingu', 6402), ('psychlo', 6403), ('jonni', 6404), ('goodboy', 6405), ('eta', 6406), ('mancheg', 6407), ('triunfal', 6408), ('1987', 6409), ('finanz', 6410), ('desorient', 6411), ('reconcili', 6412), ('clement', 6413), ('desempl', 6414), ('reeducacion', 6415), ('repres', 6416), ('conmocion', 6417), ('1757', 6418), ('asent', 6419), ('hawkey', 6420), ('mohican', 6421), ('means', 6422), ('uncas', 6423), ('schweig', 6424), ('munr', 6425), ('stow', 6426), ('jodhi', 6427), ('neurot', 6428), ('desfil', 6429), ('excavacion', 6430), ('tunel', 6431), ('supervis', 6432), ('mandibl', 6433), ('hormiguer', 6434), ('termit', 6435), ('asustadiz', 6436), ('ring', 6437), ('cams', 6438), ('criptozoolog', 6439), ('monarch', 6440), ('enfrentr', 6441), ('mothr', 6442), ('ghidorah', 6443), ('tars', 6444), ('tark', 6445), ('thoris', 6446), ('2029', 6447), ('davidson', 6448), ('ari', 6449), ('enfrentaminet', 6450), ('thad', 6451), ('attar', 6452), ('provocacion', 6453), ('joshu', 6454), ('joyc', 6455), ('marmon', 6456), ('deriv', 6457), ('trilogi', 6458), ('aptos', 6459), ('vultur', 6460), ('aves', 6461), ('volatil', 6462), ('paramed', 6463), ('munz', 6464), ('monopatin', 6465), ('imbecil', 6466), ('arsenal', 6467), ('artilugi', 6468), ('ronic', 6469), ('harmon', 6470), ('buenisim', 6471), ('hillary', 6472), ('duff', 6473), ('nanorobots', 6474), ('transylvani', 6475), ('emoji', 6476), ('vinyard', 6477), ('neonazi', 6478), ('paliz', 6479), ('enferm', 6480), ('idolatr', 6481), ('cabeller', 6482), ('21', 6483), ('superpolici', 6484), ('sobreprotector', 6485), ('casit', 6486), ('badg', 6487), ('serial', 6488), ('napoleon', 6489), ('scarlet', 6490), ('overkill', 6491), ('minion', 6492), ('5000', 6493), ('afam', 6494), ('liquid', 6495), ('vident', 6496), ('gravement', 6497), ('exhaut', 6498), ('helms', 6499), ('zach', 6500), ('galifianakis', 6501), ('barth', 6502), ('optad', 6503), ('brunch', 6504), ('prebod', 6505), ('tortit', 6506), ('resort', 6507), ('botell', 6508), ('bangkok', 6509), ('interaccion', 6510), ('radh', 6511), ('rol', 6512), ('nabo', 6513), ('anonimat', 6514), ('neimoidian', 6515), ('jedis', 6516), ('jinn', 6517), ('padaw', 6518), ('kenobi', 6519), ('coruscant', 6520), ('bloque', 6521), ('uss', 6522), ('fier', 6523), ('krall', 6524), ('idris', 6525), ('elba', 6526), ('totalitari', 6527), ('hurt', 6528), ('evey', 6529), ('solt', 6530), ('stickell', 6531), ('baird', 6532), ('sicari', 6533), ('murcielag', 6534), ('bartok', 6535), ('pasquali', 6536), ('raid', 6537), ('verj', 6538), ('rosal', 6539), ('sobresal', 6540), ('cesp', 6541), ('amarillent', 6542), ('lacay', 6543), ('ameli', 6544), ('desliz', 6545), ('den', 6546), ('porter', 6547), ('oport', 6548), ('georgett', 6549), ('estanquer', 6550), ('reproduccion', 6551), ('londinens', 6552), ('notting', 6553), ('cortej', 6554), ('incredul', 6555), ('inalcanz', 6556), ('protej', 6557), ('tang', 6558), ('cuer', 6559), ('espartan', 6560), ('hilton', 6561), ('recurri', 6562), ('esperm', 6563), ('hoop', 6564), ('discurs', 6565), ('traslaccion', 6566), ('1862', 6567), ('vlaj', 6568), ('fantin', 6569), ('prad', 6570), ('prostitu', 6571), ('cosett', 6572), ('javert', 6573), ('russel', 6574), ('crecer', 6575), ('angaran', 6576), ('chinatown', 6577), ('azote', 6578), ('borrach', 6579), ('jet', 6580), ('yifei', 6581), ('felin', 6582), ('apur', 6583), ('beagl', 6584), ('recab', 6585), ('hachik', 6586), ('debat', 6587), ('territorial', 6588), ('paramilit', 6589), ('compenetr', 6590), ('preescol', 6591), ('aislamient', 6592), ('inmiscu', 6593), ('artesanal', 6594), ('desenvuelt', 6595), ('dermot', 6596), ('mulroney', 6597), ('cupul', 6598), ('romper', 6599), ('hosc', 6600), ('pasarel', 6601), ('estatal', 6602), ('juras', 6603), ('malcom', 6604), ('servi', 6605), ('bancarrot', 6606), ('kans', 6607), ('blandick', 6608), ('pintoresc', 6609), ('hunk', 6610), ('bolg', 6611), ('zek', 6612), ('bert', 6613), ('lahr', 6614), ('hickory', 6615), ('haley', 6616), ('hamilton', 6617), ('protest', 6618), ('momentan', 6619), ('fast', 6620), ('furious', 6621), ('huelg', 6622), ('piquet', 6623), ('piern', 6624), ('cuidador', 6625), ('animalill', 6626), ('moj', 6627), ('res', 6628), ('feas', 6629), ('deform', 6630), ('islandi', 6631), ('anit', 6632), ('briem', 6633), ('feldm', 6634), ('escultural', 6635), ('recr', 6636), ('2084', 6637), ('qua', 6638), ('materializ', 6639), ('alucinogen', 6640), ('coohag', 6641), ('redefin', 6642), ('bumblebe', 6643), ('hopkins', 6644), ('oxford', 6645), ('haddock', 6646), ('sobrevivir', 6647), ('bay', 6648), ('2035', 6649), ('isaac', 6650), ('asimov', 6651), ('proy', 6652), ('desagrad', 6653), ('dudley', 6654), ('acuerd', 6655), ('tint', 6656), ('stronghold', 6657), ('josi', 6658), ('vii', 6659), ('institutriz', 6660), ('paragu', 6661), ('andrews', 6662), ('bati', 6663), ('pegadiz', 6664), ('delici', 6665), ('acudir', 6666), ('trasplant', 6667), ('ranking', 6668), ('wimbledon', 6669), ('lizzi', 6670), ('kirst', 6671), ('dunst', 6672), ('superacion', 6673), ('catapult', 6674), ('slam', 6675), ('university', 6676), ('listill', 6677), ('pascal', 6678), ('sauvag', 6679), ('dedicacion', 6680), ('lorn', 6681), ('imbrugli', 6682), ('lerm', 6683), ('grov', 6684), ('semidi', 6685), ('convuls', 6686), ('reanud', 6687), ('custodi', 6688), ('newt', 6689), ('scamand', 6690), ('delaney', 6691), ('prestez', 6692), ('shogunat', 6693), ('tokugaw', 6694), ('catolic', 6695), ('feldon', 6696), ('encarn', 6697), ('99', 6698), ('persigu', 6699), ('montec', 6700), ('chantel', 6701), ('dubois', 6702), ('guantelet', 6703), ('panth', 6704), ('wakand', 6705), ('mamifer', 6706), ('zootropolis', 6707), ('habitats', 6708), ('sah', 6709), ('squar', 6710), ('gel', 6711), ('crisol', 6712), ('musaran', 6713), ('diminut', 6714), ('hopps', 6715), ('parlanchin', 6716), ('macclan', 6717), ('nakatoni', 6718), ('grub', 6719), ('persegui', 6720), ('lluvi', 6721), ('albondig', 6722), ('company', 6723), ('swan', 6724), ('lluvios', 6725), ('forks', 6726), ('rodm', 6727), ('alzheim', 6728), ('serkis', 6729), ('primatolog', 6730), ('fre', 6731), ('barrett', 6732), ('films', 6733), ('twist', 6734), ('independenc', 6735), ('darrow', 6736), ('driscoll', 6737), ('frondos', 6738), ('apetit', 6739), ('insaci', 6740), ('newm', 6741), ('cassidy', 6742), ('zoom', 6743), ('vanid', 6744), ('aprienci', 6745), ('ismael', 6746), ('vegetarian', 6747), ('chifl', 6748), ('exist', 6749), ('odin', 6750), ('riggs', 6751), ('confisc', 6752), ('corrupcion', 6753), ('forrest', 6754), ('gump', 6755), ('deficient', 6756), ('clamor', 6757), ('bts', 6758), ('planetari', 6759), ('mcwhiggin', 6760), ('490', 6761), ('termopil', 6762), ('temistocl', 6763), ('maraton', 6764), ('impedir', 6765), ('zombietown', 6766), ('transfer', 6767), ('desarticul', 6768), ('errone', 6769), ('alud', 6770), ('descubri', 6771), ('uni', 6772), ('bogd', 6773), ('16', 6774), ('horn', 6775), ('bucks', 6776), ('ternur', 6777), ('posader', 6778), ('inn', 6779), ('semental', 6780), ('estirp', 6781), ('locomocion', 6782), ('pian', 6783), ('extens', 6784), ('cultural', 6785), ('agrupacion', 6786), ('lis', 6787), ('acces', 6788), ('conyug', 6789), ('ultimat', 6790), ('everett', 6791), ('re', 6792), ('jorg', 6793), ('mas', 6794), ('seccion', 6795), ('co', 6796), ('jonath', 6797), ('1000', 6798), ('articul', 6799), ('retorn', 6800), ('2007', 6801), ('jo', 6802), ('im', 6803), ('catherin', 6804), ('et', 6805), ('secuenci', 6806), ('urss', 6807), ('forc', 6808), ('action', 6809), ('obi', 6810), ('20000', 6811), ('duerm', 6812), ('carlist', 6813), ('guipuzco', 6814), ('querr', 6815), ('confident', 6816), ('1939', 6817), ('polac', 6818), ('chopin', 6819), ('henryk', 6820), ('templari', 6821), ('helion', 6822), ('multicultural', 6823), ('tabler', 6824), ('fantasmal', 6825), ('guapeton', 6826), ('inusit', 6827), ('cortesi', 6828), ('gustari', 6829), ('hombreslob', 6830), ('transmision', 6831), ('lamp', 6832), ('slytherin', 6833), ('muggl', 6834), ('impur', 6835), ('petrific', 6836), ('bingbing', 6837), ('megalodon', 6838), ('distop', 6839), ('implant', 6840), ('durd', 6841), ('coleridg', 6842), ('wordsworth', 6843), ('iceberg', 6844), ('vanellop', 6845), ('coexist', 6846), ('calder', 6847), ('fum', 6848), ('marihuan', 6849), ('lilliam', 6850), ('rudolph', 6851), ('cut', 6852), ('gelbm', 6853), ('wasp', 6854), ('nickl', 6855), ('reportaj', 6856), ('la', 6857), ('saeki', 6858), ('apunal', 6859), ('incumpl', 6860), ('huracan', 6861), ('mangone', 6862), ('hindu', 6863), ('indomit', 6864), ('arquer', 6865), ('portugues', 6866), ('palabrot', 6867), ('estrepit', 6868), ('gafot', 6869), ('tragicom', 6870), ('peripl', 6871), ('gelatin', 6872), ('abigarr', 6873), ('quiosc', 6874), ('carnby', 6875), ('atraves', 6876), ('alask', 6877), ('jj', 6878), ('50s', 6879), ('anor', 6880), ('integracion', 6881), ('seimetz', 6882), ('rackham', 6883), ('promotor', 6884), ('messing', 6885), ('ariadn', 6886), ('vestigi', 6887), ('republican', 6888), ('antig', 6889), ('smithe', 6890), ('reton', 6891), ('circ', 6892), ('dandos', 6893), ('uncles', 6894), ('pirateri', 6895), ('ziering', 6896), ('sharknad', 6897), ('controvert', 6898), ('asno', 6899), ('madrin', 6900), ('minin', 6901), ('inapropi', 6902), ('tej', 6903), ('palpatin', 6904), ('sosuk', 6905), ('sirenit', 6906), ('2008', 6907), ('pops', 6908), ('allam', 6909), ('nucle', 6910), ('erupcion', 6911), ('consent', 6912), ('revuel', 6913), ('finch', 6914), ('stifl', 6915), ('nady', 6916), ('abord', 6917), ('tru', 6918), ('stori', 6919), ('tiest', 6920), ('guett', 6921), ('testimoni', 6922), ('wwe', 6923), ('kermit', 6924), ('orcas', 6925), ('despleg', 6926), ('augustin', 6927), ('revolutions', 6928), ('morphe', 6929), ('conserj', 6930), ('1963', 6931), ('anfibi', 6932), ('tension', 6933), ('nervios', 6934), ('distingu', 6935), ('cress', 6936), ('massachussetts', 6937), ('aproxim', 6938), ('paltrow', 6939), ('happy', 6940), ('extremis', 6941), ('carroll', 6942), ('1821', 6943), ('surf', 6944), ('sylvest', 6945), ('arman', 6946), ('supermodel', 6947), ('jobs', 6948), ('airos', 6949), ('diagnostic', 6950), ('hundimient', 6951), ('insumerg', 6952), ('southampton', 6953), ('stahl', 6954), ('destructor', 6955), ('reconstruir', 6956), ('carcas', 6957), ('narc', 6958), ('kik', 6959), ('yung', 6960), ('carlton', 6961), ('ahmed', 6962), ('amorf', 6963), ('entiend', 6964), ('dir', 6965), ('desenfren', 6966), ('adust', 6967), ('machac', 6968), ('ruptur', 6969), ('superhéro', 6970), ('hellboy', 6971), ('snoop', 6972), ('dogg', 6973), ('aeroline', 6974), ('gran', 6975), ('acrobaci', 6976), ('roxann', 6977), ('acrobat', 6978), ('mare', 6979), ('visibil', 6980), ('kerry', 6981), ('swat', 6982), ('bapt', 6983), ('hospici', 6984), ('bandini', 6985), ('nomi', 6986), ('malon', 6987), ('stardust', 6988), ('sevill', 6989), ('mestiz', 6990), ('madur', 6991), ('canaveral', 6992), ('proteger', 6993), ('curacion', 6994), ('broly', 6995), ('antropofag', 6996), ('carrey', 6997), ('moth', 6998), ('cun', 6999), ('resac', 7000), ('facilitari', 7001), ('barbi', 7002), ('imf', 7003), ('pegg', 7004), ('elektr', 7005), ('savannah', 7006), ('vigm', 7007), ('boettch', 7008), ('bethany', 7009), ('skip', 7010), ('belic', 7011), ('lunat', 7012), ('norrington', 7013), ('intach', 7014), ('también', 7015), ('será', 7016), ('repercusión', 7017), ('últim', 7018), ('redención', 7019), ('stamp', 7020), ('introduzc', 7021), ('consagracion', 7022), ('hipopot', 7023), ('avestruc', 7024), ('ghostfac', 7025), ('ares', 7026), ('matty', 7027), ('mant', 7028), ('sesam', 7029), ('mantarray', 7030), ('lorenzini', 7031), ('sheeh', 7032), ('sabr', 7033), ('leal', 7034), ('mellark', 7035), ('hambr', 7036), ('sabl', 7037), ('hitl', 7038), ('davoli', 7039), ('hopp', 7040), ('pasaport', 7041), ('viric', 7042), ('zombis', 7043), ('skypper', 7044), ('charliz', 7045), ('epistol', 7046), ('sinis', 7047), ('disuelv', 7048), ('piggy', 7049), ('ovnimani', 7050), ('sing', 7051), ('banquill', 7052), ('convertiri', 7053), ('calientabanquill', 7054), ('ismir', 7055), ('antimateri', 7056), ('vetr', 7057), ('barcelon', 7058), ('lockton', 7059), ('hermanastr', 7060), ('eckhart', 7061), ('eficaci', 7062), ('jok', 7063), ('ledg', 7064), ('posapocalipt', 7065), ('amnesi', 7066), ('confederacion', 7067), ('tutor', 7068), ('dí', 7069), ('descontent', 7070), ('cóm', 7071), ('desafí', 7072), ('timberlak', 7073), ('shaquill', 7074), ('roundtre', 7075), ('sacedort', 7076), ('pretension', 7077), ('storm', 7078), ('negociacion', 7079), ('marriag', 7080), ('hear', 7081), ('your', 7082), ('dandol', 7083), ('humorist', 7084), ('coen', 7085), ('comunitari', 7086), ('dew', 7087), ('senior', 7088), ('puritan', 7089), ('colm', 7090), ('arquitectur', 7091), ('impolut', 7092), ('rect', 7093), ('uwais', 7094), ('empedern', 7095), ('2154', 7096), ('absolem', 7097), ('sonrient', 7098), ('tweedl', 7099), ('auric', 7100), ('knox', 7101), ('repertori', 7102), ('sinfon', 7103), ('morot', 7104), ('mov', 7105), ('quatermain', 7106), ('padec', 7107), ('jodi', 7108), ('reforz', 7109), ('tau', 7110), ('guzm', 7111), ('michig', 7112), ('bird', 7113), ('disuelt', 7114), ('merry', 7115), ('pudr', 7116), ('celd', 7117), ('ackles', 7118), ('scavs', 7119), ('bombarder', 7120), ('vulc', 7121), ('cabecill', 7122), ('mitin', 7123), ('ocurri', 7124), ('berni', 7125), ('benedict', 7126), ('160', 7127), ('sacagawe', 7128), ('impens', 7129), ('khan', 7130), ('octopussy', 7131), ('guant', 7132), ('sellers', 7133), ('cecil', 7134), ('economi', 7135), ('dagny', 7136), ('cataton', 7137), ('gnome', 7138), ('flamenc', 7139), ('kay', 7140), ('detr', 7141), ('inund', 7142), ('mccall', 7143), ('deschain', 7144), ('66', 7145), ('felicitacion', 7146), ('risibl', 7147), ('rastrer', 7148), ('clasky', 7149), ('watts', 7150), ('utopi', 7151), ('rincon', 7152), ('astrid', 7153), ('molest', 7154), ('kahun', 7155), ('superbeb', 7156), ('andar', 7157), ('hatti', 7158), ('pierc', 7159), ('edgerton', 7160), ('infiltracion', 7161), ('lealtad', 7162), ('armi', 7163), ('martill', 7164), ('ragnarok', 7165), ('armari', 7166), ('centaur', 7167), ('agudez', 7168), ('ridicul', 7169), ('column', 7170), ('entuert', 7171), ('pullm', 7172), ('gordy', 7173), ('simpatiz', 7174), ('tiembl', 7175), ('hidalg', 7176), ('dapp', 7177), ('kingsglaiv', 7178), ('ultimatum', 7179), ('lunafrey', 7180), ('tenebra', 7181), ('nifheim', 7182), ('gorm', 7183), ('smallvill', 7184), ('obri', 7185), ('repartidor', 7186), ('oconnell', 7187), ('anubis', 7188), ('shou', 7189), ('ofrecer', 7190), ('guinever', 7191), ('eazy', 7192), ('superpotent', 7193), ('pleasenc', 7194), ('rott', 7195), ('scoundrels', 7196), ('833', 7197), ('caracteriz', 7198), ('sueñ', 7199), ('límit', 7200), ('líne', 7201), ('anomalí', 7202), ('genét', 7203), ('están', 7204), ('baloncest', 7205), ('reabr', 7206), ('destruir', 7207), ('hamlet', 7208), ('dinamarc', 7209), ('naip', 7210), ('matricul', 7211), ('blackjack', 7212), ('micky', 7213), ('conte', 7214), ('limpiez', 7215), ('sakurazak', 7216), ('nazareth', 7217), ('lat', 7218), ('kremlin', 7219), ('boquiabiert', 7220), ('for', 7221), ('cuartet', 7222), ('sueld', 7223), ('prudenci', 7224), ('postgr', 7225), ('lard', 7226), ('parch', 7227), ('eles', 7228), ('geograf', 7229), ('filantrop', 7230), ('foc', 7231), ('cho', 7232), ('amsterdam', 7233), ('sa', 7234), ('agrad', 7235), ('barranquit', 7236), ('malest', 7237), ('traer', 7238), ('streeet', 7239), ('retom', 7240), ('sketch', 7241), ('concept', 7242), ('maguir', 7243), ('waters', 7244), ('ilumin', 7245), ('egoism', 7246), ('rencor', 7247), ('archiconoc', 7248), ('whannell', 7249), ('vu', 7250), ('elric', 7251), ('elig', 7252), ('cosby', 7253), ('incontrol', 7254), ('publicacion', 7255), ('rebuf', 7256), ('ridley', 7257), ('1961', 7258), ('peleter', 7259), ('genoves', 7260), ('monro', 7261), ('snip', 7262), ('panecill', 7263), ('inact', 7264), ('stryker', 7265), ('bucket', 7266), ('highmor', 7267), ('sintom', 7268), ('bals', 7269), ('ajen', 7270), ('trainspotting', 7271), ('rumani', 7272), ('novici', 7273), ('profan', 7274), ('goos', 7275), ('parasit', 7276), ('belgic', 7277), ('deshered', 7278), ('maestri', 7279), ('ignomini', 7280), ('caminat', 7281), ('bard', 7282), ('benef', 7283), ('votacion', 7284), ('acomplej', 7285), ('mear', 7286), ('espadachin', 7287), ('zarpassuav', 7288), ('jill', 7289), ('robbi', 7290), ('objetor', 7291), ('acaec', 7292), ('cuerd', 7293), ('infi', 7294), ('cazafantasm', 7295), ('camell', 7296), ('proveedor', 7297), ('mcbrid', 7298), ('jabb', 7299), ('hutt', 7300), ('ewoks', 7301), ('antiher', 7302), ('brolin', 7303), ('lagrim', 7304), ('reemplaz', 7305), ('calid', 7306), ('agotarsel', 7307), ('marquis', 7308), ('regenci', 7309), ('lagart', 7310), ('phillips', 7311), ('suer', 7312), ('coexistent', 7313), ('peterson', 7314), ('peninsul', 7315), ('metedur', 7316), ('turb', 7317), ('hobbitt', 7318), ('inspirari', 7319), ('wckd', 7320), ('viend', 7321), ('esther', 7322), ('fiabl', 7323), ('meatloaf', 7324), ('manag', 7325), ('cienciaficcion', 7326), ('sapiens', 7327), ('joes', 7328), ('chu', 7329), ('joe®', 7330), ('1908', 7331), ('braz', 7332), ('recint', 7333), ('lawton', 7334), ('colgant', 7335), ('causari', 7336), ('35', 7337), ('robinson', 7338), ('artificier', 7339), ('ochent', 7340), ('descumpl', 7341), ('niebl', 7342), ('presient', 7343), ('troy', 7344), ('efron', 7345), ('inquietud', 7346), ('llor', 7347), ('trofe', 7348), ('anal', 7349), ('indecent', 7350), ('elain', 7351), ('acopi', 7352), ('causaefect', 7353), ('dominacion', 7354), ('rebeldi', 7355), ('asperez', 7356), ('dwayn', 7357), ('terminators', 7358), ('larkin', 7359), ('bacteri', 7360), ('adecu', 7361), ('desenlac', 7362), ('ilustr', 7363), ('falleci', 7364), ('ciclon', 7365), ('predic', 7366), ('podrí', 7367), ('sofá', 7368), ('zampándos', 7369), ('lasañ', 7370), ('ésta', 7371), ('reev', 7372), ('advert', 7373), ('establ', 7374), ('anacar', 7375), ('supersticion', 7376), ('reapers', 7377), ('ashitak', 7378), ('infeccion', 7379), ('ashikat', 7380), ('deidad', 7381), ('insens', 7382), ('tub', 7383), ('calibr', 7384), ('ata', 7385), ('obiw', 7386), ('demol', 7387), ('step', 7388), ('wold', 7389), ('domestic', 7390), ('3000', 7391), ('yerm', 7392), ('norris', 7393), ('atrincher', 7394), ('burroughs', 7395), ('dejah', 7396), ('tucci', 7397), ('usb', 7398), ('parvulari', 7399), ('tmar', 7400), ('pied', 7401), ('furlong', 7402), ('meti', 7403), ('voorhess', 7404), ('soci', 7405), ('bromist', 7406), ('sidious', 7407), ('portm', 7408), ('weaving', 7409), ('nhye', 7410), ('rasputin', 7411), ('hipocondriac', 7412), ('triwizard', 7413), ('puskin', 7414), ('gladiator', 7415), ('regular', 7416), ('medieval', 7417), ('reguer', 7418), ('cristoph', 7419), ('teletiend', 7420), ('policí', 7421), ('caíd', 7422), ('incógnit', 7423), ('echó', 7424), ('habí', 7425), ('wilkinson', 7426), ('gremlin', 7427), ('duendecill', 7428), ('insignif', 7429), ('neurocirujan', 7430), ('igor', 7431), ('broadway', 7432), ('cuerv', 7433), ('dursley', 7434), ('repelent', 7435), ('undecim', 7436), ('estrident', 7437), ('monotoni', 7438), ('jetstream', 7439), ('desciend', 7440), ('expand', 7441), ('konali', 7442), ('descontrol', 7443), ('incuestion', 7444), ('navy', 7445), ('purasangr', 7446), ('albus', 7447), ('sebastiã', 7448), ('garrp', 7449), ('prohibi', 7450), ('occidental', 7451), ('atolondr', 7452), ('tundratown', 7453), ('cull', 7454), ('breslin', 7455), ('duplo®', 7456), ('dependent', 7457), ('estam', 7458), ('yourself', 7459), ('dirigir', 7460), ('subconscient', 7461), ('vulner', 7462), ('lehnsherr', 7463), ('animadversion', 7464), ('armagedon', 7465), ('iancu', 7466), ('anemon', 7467), ('doncell', 7468), ('anton', 7469), ('chi', 7470), ('suprem', 7471), ('colmillej', 7472), ('benefici', 7473), ('yu', 7474), ('deems', 7475), ('felip', 7476), ('soberani', 7477), ('junior', 7478), ('anochec', 7479), ('¹', 7480), ('barn', 7481), ('vivenci', 7482), ('ndos', 7483), ('fen', 7484), ('fan', 7485), ('celuloid', 7486), ('earl', 7487), ('enel', 7488), ('mayuscul', 7489), ('seren', 7490), ('matthew', 7491), ('eldelincuent', 7492), ('mundoqui', 7493), ('adem', 7494), ('decim', 7495), ('phillip', 7496), ('redactor', 7497), ('earth', 7498), ('2002', 7499), ('gilbert', 7500), ('moren', 7501), ('hd', 7502), ('・', 7503), ('mason', 7504), ('participacion', 7505), ('allison', 7506), ('to', 7507), ('particular', 7508), ('saint', 7509), ('poll', 7510), ('amandael', 7511), ('murowall', 7512), ('1997', 7513), ('mais', 7514), ('localizacion', 7515), ('contemporan', 7516), ('sash', 7517), ('descendent', 7518), ('kam', 7519), ('judicatur', 7520), ('certam', 7521), ('à', 7522), ('deverd', 7523), ('navidadd', 7524), ('wasabi', 7525), ('amori', 7526), ('rep', 7527), ('madison', 7528), ('oomp', 7529), ('loomp', 7530), ('send', 7531), ('katrin', 7532), ('superheroin', 7533), ('4196', 7534), ('semi', 7535), ('trail', 7536), ('tech', 7537), ('memory', 7538), ('1910', 7539), ('hardin', 7540), ('holley', 7541), ('chimpac', 7542), ('macmanus', 7543), ('xv', 7544), ('dru', 7545), ('2022', 7546), ('sostien', 7547), ('merezc', 7548), ('imitacion', 7549), ('enemigas…', 7550), ('rj', 7551), ('114', 7552), ('darsel', 7553), ('directors', 7554), ('hincapi', 7555), ('dyne', 7556), ('pym', 7557), ('antman', 7558), ('colateral', 7559), ('rupi', 7560), ('piscin', 7561), ('dk', 7562), ('retien', 7563), ('eslabon', 7564), ('marcó', 7565), ('acabó', 7566), ('convirtiéndos', 7567), ('jamás', 7568), ('biped', 7569), ('yern', 7570), ('antipest', 7571), ('geolog', 7572), ('suec', 7573), ('alamed', 7574), ('biodisen', 7575), ('o', 7576), ('pequeñ', 7577), ('intentará', 7578), ('enseñ', 7579), ('años', 7580), ('competición', 7581), ('músic', 7582), ('económ', 7583), ('stript', 7584), ('prenupcial', 7585), ('tx', 7586), ('prohibicion', 7587), ('vocabulari', 7588), ('bestsell', 7589), ('embrey', 7590), ('kickass', 7591), ('mintzplass', 7592), ('spinoff', 7593), ('nealon', 7594), ('jd', 7595), ('flech', 7596), ('embroll', 7597), ('divag', 7598), ('frankenweeni', 7599), ('bigfoot', 7600), ('cindylou', 7601), ('contamin', 7602), ('carmill', 7603), ('osos', 7604), ('oneal', 7605), ('derry', 7606), ('pero…', 7607), ('eiffel', 7608), ('swift', 7609), ('dall', 7610), ('stadium', 7611), ('salamanc', 7612), ('acoraz', 7613), ('otra', 7614), ('irremedi', 7615), ('admiracion', 7616), ('jinet', 7617), ('jadis', 7618), ('madriguer', 7619), ('christin', 7620), ('duqu', 7621), ('thorin', 7622), ('gus', 7623), ('carniceri', 7624), ('mutacion', 7625), ('imhotep', 7626), ('chunli', 7627), ('samurais', 7628), ('tadashi', 7629), ('instaurari', 7630), ('jocelyn', 7631), ('gusan', 7632), ('recomiend', 7633), ('tobin', 7634), ('malet', 7635), ('18611865', 7636), ('mundodecid', 7637), ('coolsvill', 7638), ('parapent', 7639), ('story', 7640), ('anatoly', 7641), ('mockbust', 7642), ('atend', 7643), ('paol', 7644), ('gandul', 7645), ('crazy', 7646), ('gord', 7647), ('locur', 7648), ('martell', 7649), ('gordonlevitt', 7650), ('boc', 7651), ('gi', 7652), ('pekin', 7653), ('decadent', 7654), ('descarril', 7655), ('denunci', 7656), ('mj', 7657), ('thornton', 7658), ('románt', 7659), ('encandiló', 7660), ('engreíd', 7661), ('sól', 7662), ('vim', 7663), ('cantin', 7664), ('eisley', 7665), ('nuer', 7666), ('presupuest', 7667), ('‘', 7668), ('bandit', 7669), ('quigon', 7670), ('mangan', 7671), ('oconnor', 7672), ('ginny', 7673), ('1930s', 7674), ('mitadghoul', 7675), ('persistent', 7676), ('rapidez', 7677), ('andrei', 7678), ('aggy', 7679), ('emilys', 7680), ('americ', 7681), ('orto', 7682), ('corted', 7683), ('sopran', 7684), ('jerry', 7685), ('contrapart', 7686), ('antiguall', 7687), ('→', 7688), ('ar', 7689), ('palabrashazams', 7690), ('ao', 7691), ('roy', 7692), ('pus', 7693), ('panther', 7694), ('1994el', 7695), ('leonqu', 7696), ('negacion', 7697), ('1922', 7698), ('1930', 7699), ('henri', 7700), ('septiembr', 7701), ('winters', 7702), ('reverent', 7703), ('ace', 7704), ('lol', 7705), ('rang', 7706), ('densid', 7707), ('general', 7708), ('carden', 7709), ('han', 7710), ('fundamental', 7711), ('cul', 7712), ('natatori', 7713), ('ba', 7714), ('riley', 7715), ('visoterol', 7716), ('mai', 7717), ('sist', 7718), ('acertij', 7719), ('realism', 7720), ('torrent', 7721), ('ambit', 7722), ('sien', 7723), ('promov', 7724), ('joann', 7725), ('wolverin', 7726), ('1928', 7727), ('esplendor', 7728), ('guillerm', 7729), ('are', 7730), ('lea', 7731), ('dvd', 7732), ('malvin', 7733), ('venider', 7734), ('felis', 7735), ('silvestris', 7736), ('catus', 7737), ('duch', 7738), ('pool', 7739), ('bennett', 7740), ('smit', 7741), ('mcphe', 7742), ('aprobacion', 7743), ('town', 7744), ('concrecion', 7745), ('trasg', 7746), ('bio', 7747), ('ob', 7748), ('pertinent', 7749), ('colon', 7750), ('melvill', 7751), ('pequ', 7752), ('arles', 7753), ('competici', 7754), ('sic', 7755), ('econ', 7756), ('mic', 7757), ('north', 7758), ('dem', 7759), ('asuncion', 7760), ('ted', 7761), ('nupcial', 7762), ('incub', 7763), ('embarcacion', 7764), ('enmarvel', 7765), ('vengadorestien', 7766), ('2004', 7767), ('vs', 7768), ('nic', 7769), ('pierpont', 7770), ('dejackass', 7771), ('ah', 7772), ('†', 7773), ('rondall', 7774), ('proscripcion', 7775), ('alejandr', 7776), ('alexis', 7777), ('cl', 7778), ('sustancial', 7779), ('hamburg', 7780), ('enriqu', 7781), ('radiocomun', 7782), ('beliger', 7783), ('fleming', 7784), ('perdicion', 7785), ('ataraxi', 7786), ('erradicacion', 7787), ('out', 7788), ('variant', 7789), ('og', 7790), ('davis', 7791), ('ashton', 7792), ('four', 7793), ('cortin', 7794), ('forst', 7795), ('1980', 7796), ('alexandr', 7797), ('am', 7798), ('wican', 7799), ('carnaval', 7800), ('rowling', 7801), ('oral', 7802), ('surgefrankenweeni', 7803), ('ensay', 7804), ('interrogacion', 7805), ('bronx', 7806), ('conat', 7807), ('fabricacion', 7808), ('refier', 7809), ('oblacion', 7810), ('turism', 7811), ('orthopristis', 7812), ('chrysopterus', 7813), ('rem', 7814), ('luigi', 7815), ('faith', 7816), ('stanford', 7817), ('kid', 7818), ('be', 7819), ('keith', 7820), ('construccion', 7821), ('2001', 7822), ('prototip', 7823), ('terr', 7824), ('mung', 7825), ('aptitud', 7826), ('deinsurgent', 7827), ('exitaz', 7828), ('imperium', 7829), ('segund', 7830), ('inmuebl', 7831), ('daniell', 7832), ('reed', 7833), ('alfons', 7834), ('convocatori', 7835), ('holloway', 7836), ('taj', 7837), ('raul', 7838), ('vic', 7839), ('dani', 7840), ('representacion', 7841), ('nalg', 7842), ('asim', 7843), ('finaliz', 7844), ('brevement', 7845), ('dioram', 7846), ('iluminacion', 7847), ('division', 7848), ('troglodit', 7849), ('dificult', 7850), ('jactanci', 7851), ('canal', 7852), ('jerom', 7853), ('ho', 7854), ('tep', 7855), ('clasicocuent', 7856), ('darwin', 7857), ('elmer', 7858), ('at', 7859), ('akir', 7860), ('descobr', 7861), ('demonstracion', 7862), ('nigel', 7863), ('01', 7864), ('equivalent', 7865), ('vladim', 7866), ('menu', 7867), ('dic', 7868), ('507', 7869), ('lector', 7870), ('lam', 7871), ('glam', 7872), ('barry', 7873), ('instrument', 7874), ('paravel', 7875), ('trast', 7876), ('far', 7877), ('satchm', 7878), ('lle', 7879), ('vejez', 7880), ('yay', 7881), ('degru', 7882), ('carellcrazy', 7883), ('ahoragru', 7884), ('diet', 7885), ('bufal', 7886), ('vencedor', 7887), ('ninez', 7888), ('intel', 7889), ('sudac', 7890), ('homicidi', 7891), ('cochran', 7892), ('willi', 7893), ('seu', 7894), ('1973', 7895), ('1892', 7896), ('1953', 7897), ('levitt', 7898), ('taiw', 7899), ('2sig', 7900), ('magn', 7901), ('latitud', 7902), ('ntic', 7903), ('engrei', 7904), ('kin', 7905), ('us', 7906), ('muchedumbr', 7907), ('selachimorph', 7908), ('4sig', 7909), ('comosaw', 7910), ('screamoth', 7911), ('mast', 7912), ('1993', 7913), ('sigui', 7914), ('28', 7915), ('ta', 7916), ('gon', 7917), ('conel', 7918), ('jackmanx', 7919), ('hathawayel', 7920), ('seyfriedquer', 7921), ('client', 7922), ('az', 7923), ('1901', 7924), ('superdetectiv', 7925), ('muerdag', 7926), ('3600', 7927), ('niñ', 7928), ('visita…l', 7929), ('es…', 7930), ('314', 7931), ('sub17', 7932), ('smitmcphe', 7933), ('preadolescent', 7934), ('hd3d', 7935), ('19552011', 7936), ('1500', 7937), ('t1000', 7938), ('detenerlos…', 7939), ('tarde…', 7940), ('tanto…', 7941), ('muerte…', 7942), ('exbox', 7943), ('superperr', 7944), ('exoper', 7945), ('taylorjohnson', 7946), ('devastadora…', 7947), ('minimamut', 7948), ('joconel', 7949), ('batmanbruc', 7950), ('cochemaquin', 7951), ('argus', 7952), ('df', 7953), ('alfombrasin', 7954), ('exmiembr', 7955), ('exmarin', 7956), ('ligal', 7957), ('civilizacioncon', 7958), ('antimigracion', 7959), ('reputation', 7960), ('–lider', 7961), ('mac–', 7962), ('kamartaj', 7963), ('—human', 7964), ('tipo—', 7965), ('amor…', 7966), ('amigos…', 7967), ('nwa', 7968), ('dirty', 7969), ('usaurss', 7970), ('wasabinoging', 7971), ('yya', 7972), ('vivosy', 7973), ('mediaalt', 7974), ('reparafelix', 7975), ('1507', 7976), ('245', 7977), ('comecerebr', 7978), ('jeanpierr', 7979), ('perfetti', 7980), ('oompaloomp', 7981), ('aka', 7982), ('piratasfantasm', 7983), ('10000', 7984), ('latinoamerican', 7985), ('divertidisim', 7986), ('xforc', 7987), ('el', 7988), ('grahamesmith', 7989), ('jovenes…', 7990), ('excompaner', 7991), ('altereg', 7992), ('supersold', 7993), ('vitaray', 7994), ('jrr', 7995), ('18921973', 7996), ('existenciadirig', 7997), ('postkatrin', 7998), ('eb', 7999), ('en', 8000), ('exsuperheroin', 8001), ('liveaction', 8002), ('mitadali', 8003), ('mitadrobot', 8004), ('francoindi', 8005), ('daylewis', 8006), ('z4196', 8007), ('una', 8008), ('bonhamcart', 8009), ('medioherman', 8010), ('semitrail', 8011), ('hightech', 8012), ('exagent', 8013), ('notredam', 8014), ('memorycall', 8015), ('19011910', 8016), ('dumbledor', 8017), ('kaos', 8018), ('chimpaces…', 8019), ('ac', 8020), ('03', 8021), ('persist', 8022), ('twins', 8023), ('denim', 8024), ('dungare', 8025), ('catalun', 8026), ('elev', 8027), ('maternal', 8028), ('guid', 8029), ('soubrett', 8030), ('ursida', 8031), ('deces', 8032), ('liberalizacion', 8033), ('wellington', 8034), ('1960', 8035), ('amateur', 8036), ('aleksand', 8037), ('var', 8038), ('1936', 8039), ('nutrient', 8040), ('wolf', 8041), ('der', 8042), ('powell', 8043), ('mans', 8044), ('amarg', 8045), ('cent', 8046), ('flirt', 8047), ('palabraegos', 8048), ('？', 8049), ('irradiacion', 8050), ('celul', 8051), ('martyn', 8052), ('embarg', 8053), ('agricol', 8054), ('sos', 8055), ('volumen', 8056), ('resistor', 8057), ('bautism', 8058), ('gai', 8059), ('zeus', 8060), ('sirius', 8061), ('32', 8062), ('grass', 8063), ('1789', 8064), ('reval', 8065), ('1909', 8066), ('armament', 8067), ('teen', 8068), ('georgi', 8069), ('aboleng', 8070), ('vie', 8071), ('ip', 8072), ('fritz', 8073), ('saqu', 8074), ('၊', 8075), ('testudin', 8076), ('rr', 8077), ('extension', 8078), ('700', 8079), ('doming', 8080), ('n°', 8081), ('ayunt', 8082), ('gabriel', 8083), ('puntuacion', 8084), ('panic', 8085), ('1937', 8086), ('seleccionadors', 8087), ('reafirmacion', 8088), ('footag', 8089), ('primordial', 8090), ('rin', 8091), ('dream', 8092), ('boon', 8093), ('ruby', 8094), ('dixon', 8095), ('authority', 8096), ('ant', 8097), ('sua', 8098), ('stor', 8099), ('elvir', 8100), ('orland', 8101), ('also', 8102), ('hord', 8103), ('edda', 8104), ('ursul', 8105), ('canch', 8106), ('crosby', 8107), ('hull', 8108), ('galeri', 8109), ('indemn', 8110), ('vier', 8111), ('ascend', 8112), ('kubrick', 8113), ('anand', 8114), ('usd', 8115), ('quimer', 8116), ('revest', 8117), ('1913', 8118), ('this', 8119), ('desup', 8120), ('depequen', 8121), ('came', 8122), ('insensibil', 8123), ('salvament', 8124), ('first', 8125), ('sisters', 8126), ('hat', 8127), ('altitud', 8128), ('pinon', 8129), ('mosquit', 8130), ('inanim', 8131), ('cabin', 8132), ('riber', 8133), ('yukon', 8134), ('kelvin', 8135), ('obsequi', 8136), ('huec', 8137), ('blasfemi', 8138), ('1890s', 8139), ('fran', 8140), ('estat', 8141), ('r2', 8142), ('jos', 8143), ('carey', 8144), ('tail', 8145), ('christy', 8146), ('1921', 8147), ('instig', 8148), ('cristin', 8149), ('dietrich', 8150), ('sweet', 8151), ('goodby', 8152), ('asturi', 8153), ('monument', 8154), ('rubens', 8155), ('alison', 8156), ('ball', 8157), ('rolling', 8158), ('instanci', 8159), ('virtud', 8160), ('vastag', 8161), ('valeri', 8162), ('donn', 8163), ('enfoqu', 8164), ('type', 8165), ('dillon', 8166), ('brit', 8167), ('gallagh', 8168), ('britanni', 8169), ('volicion', 8170), ('febrer', 8171), ('aguj', 8172), ('old', 8173), ('ra', 8174), ('anak', 8175), ('cann', 8176), ('motors', 8177), ('indigen', 8178), ('↑', 8179), ('『', 8180), ('only', 8181), ('you', 8182), ('meredith', 8183), ('walsh', 8184), ('relaçã', 8185), ('rambl', 8186), ('demostracion', 8187), ('litoral', 8188), ('boss', 8189), ('hand', 8190), ('rory', 8191), ('chaplin', 8192), ('lif', 8193), ('madonn', 8194), ('egypt', 8195), ('early', 8196), ('surest', 8197), ('lani', 8198), ('1986', 8199), ('consideracion', 8200), ('denominanumer', 8201), ('fueronl', 8202), ('llamannumer', 8203), ('kossuth', 8204), ('melvil', 8205), ('jubilacion', 8206), ('intuicion', 8207), ('ander', 8208), ('valium', 8209), ('per', 8210), ('tarim', 8211), ('arrib', 8212), ('ghb', 8213), ('bodily', 8214), ('harm', 8215), ('ordenacion', 8216), ('desintegracion', 8217), ('sailor', 8218), ('non', 8219), ('weim', 8220), ('asi', 8221), ('diestr', 8222), ('dami', 8223), ('asiat', 8224), ('tituladaextremis', 8225), ('tituladath', 8226), ('parametr', 8227), ('spac', 8228), ('ch', 8229), ('showtim', 8230), ('castr', 8231), ('opon', 8232), ('surfing', 8233), ('que', 8234), ('．', 8235), ('encuest', 8236), ('patrici', 8237), ('diabet', 8238), ('munich', 8239), ('deceni', 8240), ('començ', 8241), ('boom', 8242), ('kang', 8243), ('›', 8244), ('drew', 8245), ('ciò', 8246), ('perdur', 8247), ('pati', 8248), ('resolucion', 8249), ('veas', 8250), ('test', 8251), ('chung', 8252), ('professor', 8253), ('indol', 8254), ('ortodonci', 8255), ('enlac', 8256), ('herenci', 8257), ('acident', 8258), ('apertur', 8259), ('lion', 8260), ('volg', 8261), ('bunny', 8262), ('penny', 8263), ('volteret', 8264), ('obligacion', 8265), ('suspens', 8266), ('ferrocarril', 8267), ('alarg', 8268), ('itun', 8269), ('stuttgart', 8270), ('jen', 8271), ('sorbet', 8272), ('csi', 8273), ('lanc', 8274), ('nouvell', 8275), ('romanz', 8276), ('stop', 8277), ('obstant', 8278), ('gozqu', 8279), ('gravity', 8280), ('irreprimibil', 8281), ('orifici', 8282), ('centen', 8283), ('certez', 8284), ('sociedad', 8285), ('fr', 8286), ('crossov', 8287), ('alterc', 8288), ('vigor', 8289), ('che', 8290), ('offde', 8291), ('endde', 8292), ('palm', 8293), ('ela', 8294), ('minim', 8295), ('southern', 8296), ('acull', 8297), ('gardin', 8298), ('grang', 8299), ('guinness', 8300), ('pfeiff', 8301), ('hawk', 8302), ('maud', 8303), ('writt', 8304), ('lear', 8305), ('sud', 8306), ('campesin', 8307), ('sali', 8308), ('domiciliacion', 8309), ('rellan', 8310), ('mccarthy', 8311), ('audrey', 8312), ('hout', 8313), ('automotor', 8314), ('hubert', 8315), ('special', 8316), ('cleveland', 8317), ('tambi', 8318), ('repercusi', 8319), ('ltim', 8320), ('redenci', 8321), ('colecalciferol', 8322), ('javi', 8323), ('marian', 8324), ('noroest', 8325), ('reid', 8326), ('cu', 8327), ('annam', 8328), ('usand', 8329), ('wer', 8330), ('petrovich', 8331), ('suspension', 8332), ('hechiceri', 8333), ('talcott', 8334), ('proced', 8335), ('chorr', 8336), ('cicl', 8337), ('rios', 8338), ('axis', 8339), ('transicion', 8340), ('estrope', 8341), ('helg', 8342), ('gorron', 8343), ('cast', 8344), ('montant', 8345), ('planta', 8346), ('dinheir', 8347), ('archi', 8348), ('dal', 8349), ('isto', 8350), ('linn', 8351), ('raiz', 8352), ('comput', 8353), ('reasoci', 8354), ('oil', 8355), ('privacion', 8356), ('taburet', 8357), ('orsini', 8358), ('colonn', 8359), ('xbox', 8360), ('condal', 8361), ('ze', 8362), ('det', 8363), ('apre', 8364), ('joh', 8365), ('edge', 8366), ('vão', 8367), ('1866', 8368), ('auxili', 8369), ('1899', 8370), ('coorden', 8371), ('defect', 8372), ('ska', 8373), ('thre', 8374), ('calcul', 8375), ('divis', 8376), ('eneal', 8377), ('1954', 8378), ('muec', 8379), ('conformacion', 8380), ('identif', 8381), ('always', 8382), ('ll', 8383), ('insidi', 8384), ('acord', 8385), ('interpretat', 8386), ('vidasi', 8387), ('vidaperfect', 8388), ('condicionperfect', 8389), ('flamenquill', 8390), ('levy', 8391), ('escenar', 8392), ('implicacion', 8393), ('belfast', 8394), ('kan', 8395), ('crecimient', 8396), ('molecul', 8397), ('naan', 8398), ('naas', 8399), ('ion', 8400), ('trum', 8401), ('hampshir', 8402), ('scienc', 8403), ('kr', 8404), ('tap', 8405), ('vias', 8406), ('gutenberg', 8407), ('на', 8408), ('divulgacion', 8409), ('migracion', 8410), ('kris', 8411), ('zee', 8412), ('wong', 8413), ('kapp', 8414), ('chat', 8415), ('massachusetts', 8416), ('xuni', 8417), ('esta', 8418), ('pobrez', 8419), ('stag', 8420), ('hahn', 8421), ('excepcion', 8422), ('recader', 8423), ('ens', 8424), ('pedale', 8425), ('konigsberg', 8426), ('quehac', 8427), ('vilhelm', 8428), ('fonacion', 8429), ('vue', 8430), ('libre', 8431), ('relief', 8432), ('ocul', 8433), ('paulin', 8434), ('crack', 8435), ('contralt', 8436), ('hach', 8437), ('mujercit', 8438), ('desconciert', 8439), ('foment', 8440), ('ilhas', 8441), ('longitud', 8442), ('leonor', 8443), ('valenci', 8444), ('rigor', 8445), ('marcador', 8446), ('josef', 8447), ('sacajawe', 8448), ('mirror', 8449), ('audi', 8450), ('on', 8451), ('ke', 8452), ('linaj', 8453), ('reform', 8454), ('villag', 8455), ('1977', 8456), ('bull', 8457), ('ner', 8458), ('nevus', 8459), ('pil', 8460), ('edwin', 8461), ('fraud', 8462), ('encontron', 8463), ('point', 8464), ('punk', 8465), ('pinchador', 8466), ('bult', 8467), ('technologi', 8468), ('half', 8469), ('automat', 8470), ('art', 8471), ('vertebr', 8472), ('concolor', 8473), ('laurel', 8474), ('incambi', 8475), ('irrepar', 8476), ('cameron', 8477), ('nord', 8478), ('afeccion', 8479), ('subsist', 8480), ('dell', 8481), ('1985', 8482), ('perjuici', 8483), ('hours', 8484), ('morris', 8485), ('alons', 8486), ('provincial', 8487), ('rally', 8488), ('1a', 8489), ('pececill', 8490), ('feit', 8491), ('comparacion', 8492), ('orientacion', 8493), ('sand', 8494), ('cie', 8495), ('hispan', 8496), ('riv', 8497), ('ko', 8498), ('introduccion', 8499), ('。', 8500), ('●', 8501), ('krebs', 8502), ('implementacion', 8503), ('sri', 8504), ('permiti', 8505), ('filibuster', 8506), ('comprobacion', 8507), ('gold', 8508), ('212', 8509), ('florenc', 8510), ('garb', 8511), ('literat', 8512), ('adquisicion', 8513), ('beth', 8514), ('tend', 8515), ('ajud', 8516), ('cuchuflet', 8517), ('sims', 8518), ('obliteracion', 8519), ('extract', 8520), ('parentesc', 8521), ('nid', 8522), ('coordinacion', 8523), ('meliss', 8524), ('delawar', 8525), ('katy', 8526), ('contat', 8527), ('diplom', 8528), ('ecuador', 8529), ('primit', 8530), ('use', 8531), ('arcadi', 8532), ('viert', 8533), ('penumbr', 8534), ('zen', 8535), ('remision', 8536), ('inyeccion', 8537), ('afi', 8538), ('baratij', 8539), ('colem', 8540), ('jameson', 8541), ('emmett', 8542), ('caudill', 8543), ('wing', 8544), ('narut', 8545), ('modificacion', 8546), ('precept', 8547), ('odaly', 8548), ('farrell', 8549), ('abri', 8550), ('ul', 8551), ('ds', 8552), ('ling', 8553), ('strik', 8554), ('riesgos', 8555), ('due', 8556), ('timothy', 8557), ('lie', 8558), ('1977bad', 8559), ('pintur', 8560), ('1926ve', 8561), ('sitcom', 8562), ('1988i', 8563), ('77', 8564), ('summers', 8565), ('great', 8566), ('segundocuent', 8567), ('reizenstein', 8568), ('nea', 8569), ('anomali', 8570), ('tic', 8571), ('120', 8572), ('chilen', 8573), ('gustaf', 8574), ('hermann', 8575), ('vio', 8576), ('periodist', 8577), ('gregory', 8578), ('connecticut', 8579), ('mba', 8580), ('nec', 8581), ('tenis', 8582), ('ase', 8583), ('ging', 8584), ('terapi', 8585), ('kimi', 8586), ('1966', 8587), ('lb', 8588), ('infraestructur', 8589), ('multiplicacion', 8590), ('crucifij', 8591), ('pabl', 8592), ('horizontal', 8593), ('lombriz', 8594), ('hipotesis', 8595), ('dedark', 8596), ('pedigri', 8597), ('de2', 8598), ('deveng', 8599), ('or', 8600), ('nicky', 8601), ('stef', 8602), ('fun', 8603), ('pit', 8604), ('filos', 8605), ('1971', 8606), ('ioan', 8607), ('northwestern', 8608), ('franklin', 8609), ('knight', 8610), ('trasperd', 8611), ('conocimientolleg', 8612), ('patrimoni', 8613), ('aa', 8614), ('guine', 8615), ('sujet', 8616), ('sec', 8617), ('estrafalari', 8618), ('imdb', 8619), ('durez', 8620), ('origin', 8621), ('descripcion', 8622), ('magdalen', 8623), ('wraith', 8624), ('chave', 8625), ('est', 8626), ('1982', 8627), ('palestr', 8628), ('bald', 8629), ('medin', 8630), ('dissimul', 8631), ('lyn', 8632), ('marlais', 8633), ('proselit', 8634), ('basal', 8635), ('fernandez', 8636), ('recobr', 8637), ('dech', 8638), ('sad', 8639), ('escaler', 8640), ('lateral', 8641), ('acumulacion', 8642), ('flexion', 8643), ('aeronav', 8644), ('nan', 8645), ('itv', 8646), ('playhous', 8647), ('shows', 8648), ('anten', 8649), ('carolyn', 8650), ('trans', 8651), ('scen', 8652), ('dangerous', 8653), ('bibli', 8654), ('papers', 8655), ('planets', 8656), ('gazett', 8657), ('book', 8658), ('seventh', 8659), ('dawn', 8660), ('cronolog', 8661), ('joey', 8662), ('pier', 8663), ('medici', 8664), ('giovanni', 8665), ('aya', 8666), ('mann', 8667), ('deid', 8668), ('estet', 8669), ('pio', 8670), ('canc', 8671), ('radicacion', 8672), ('pater', 8673), ('go', 8674), ('dancing', 8675), ('ambul', 8676), ('merchandising', 8677), ('detrainspotting', 8678), ('enporn', 8679), ('mandat', 8680), ('1934', 8681), ('1849', 8682), ('ireland', 8683), ('minor', 8684), ('azuc', 8685), ('din', 8686), ('district', 8687), ('raquel', 8688), ('component', 8689), ('seriam', 8690), ('repollud', 8691), ('paut', 8692), ('johannesburg', 8693), ('sensibl', 8694), ('correccion', 8695), ('cualid', 8696), ('enhorabuen', 8697), ('vacant', 8698), ('divisor', 8699), ('trull', 8700), ('esgrim', 8701), ('tuj', 8702), ('dugald', 8703), ('farmac', 8704), ('sanchez', 8705), ('giant', 8706), ('evil', 8707), ('miniseri', 8708), ('800', 8709), ('abism', 8710), ('ivy', 8711), ('er', 8712), ('dc', 8713), ('ninf', 8714), ('dieci', 8715), ('dawson', 8716), ('guthri', 8717), ('tyron', 8718), ('ou', 8719), ('infestacion', 8720), ('contabil', 8721), ('hermitan', 8722), ('lacertili', 8723), ('‡', 8724), ('1891', 8725), ('guy', 8726), ('melani', 8727), ('demi', 8728), ('tol', 8729), ('maurici', 8730), ('kit', 8731), ('milions', 8732), ('sond', 8733), ('telenovel', 8734), ('obvi', 8735), ('lu', 8736), ('pauli', 8737), ('facilit', 8738), ('glenn', 8739), ('tenent', 8740), ('rich', 8741), ('gallet', 8742), ('varied', 8743), ('dominguez', 8744), ('1897', 8745), ('indirect', 8746), ('dion', 8747), ('bow', 8748), ('polic', 8749), ('cents', 8750), ('hockey', 8751), ('cumul', 8752), ('prins', 8753), ('brillantez', 8754), ('quej', 8755), ('pacient', 8756), ('traum', 8757), ('ram', 8758), ('tac', 8759), ('peng', 8760), ('dong', 8761), ('cheng', 8762), ('incorpor', 8763), ('finali', 8764), ('ocurrent', 8765), ('matanz', 8766), ('valoracion', 8767), ('princess', 8768), ('diarist', 8769), ('diablill', 8770), ('mundan', 8771), ('grans', 8772), ('aba', 8773), ('44', 8774), ('carlson', 8775), ('boat', 8776), ('devon', 8777), ('trec', 8778), ('1978', 8779), ('camar', 8780), ('podri', 8781), ('televisi', 8782), ('zamp', 8783), ('las', 8784), ('maneir', 8785), ('mel', 8786), ('matriz', 8787), ('ocot', 8788), ('reprobacion', 8789), ('almohaz', 8790), ('malson', 8791), ('jurist', 8792), ('estand', 8793), ('ferry', 8794), ('episod', 8795), ('ye', 8796), ('pal', 8797), ('burn', 8798), ('trincher', 8799), ('chism', 8800), ('ceremoni', 8801), ('arts', 8802), ('sit', 8803), ('tatian', 8804), ('correspondient', 8805), ('emision', 8806), ('moderacion', 8807), ('2020', 8808), ('ciclist', 8809), ('retras', 8810), ('philipp', 8811), ('etienn', 8812), ('clarenc', 8813), ('ug', 8814), ('harriet', 8815), ('capituloparanormal', 8816), ('cert', 8817), ('presuposicion', 8818), ('volum', 8819), ('milion', 8820), ('capituloweb', 8821), ('international', 8822), ('leopold', 8823), ('epos', 8824), ('herbert', 8825), ('chil', 8826), ('ubic', 8827), ('descubridor', 8828), ('maximus', 8829), ('aquest', 8830), ('regul', 8831), ('doctoral', 8832), ('indicacion', 8833), ('class', 8834), ('eden', 8835), ('wi', 8836), ('fi', 8837), ('compasion', 8838), ('discern', 8839), ('asesor', 8840), ('entrenarmient', 8841), ('barbar', 8842), ('season', 8843), ('descrit', 8844), ('chunguer', 8845), ('fenimor', 8846), ('realizacion', 8847), ('três', 8848), ('chimene', 8849), ('xent', 8850), ('elf', 8851), ('restauracion', 8852), ('cuj', 8853), ('nicolau', 8854), ('rectangul', 8855), ('sustraccion', 8856), ('it', 8857), ('kar', 8858), ('amb', 8859), ('prah', 8860), ('pa', 8861), ('argo', 8862), ('gear', 8863), ('crowegladiator', 8864), ('sermon', 8865), ('croweultimat', 8866), ('rodolf', 8867), ('yao', 8868), ('elenc', 8869), ('rasc', 8870), ('sun', 8871), ('307', 8872), ('nicholson', 8873), ('wu', 8874), ('ridg', 8875), ('exencion', 8876), ('ronald', 8877), ('bold', 8878), ('dead', 8879), ('oryan', 8880), ('inco', 8881), ('gnit', 8882), ('echo', 8883), ('habi', 8884), ('1950', 8885), ('sammy', 8886), ('hild', 8887), ('cachet', 8888), ('olivi', 8889), ('safari', 8890), ('mient', 8891), ('1945', 8892), ('burg', 8893), ('nel', 8894), ('ejecutor', 8895), ('dramat', 8896), ('patton', 8897), ('peruan', 8898), ('irmãos', 8899), ('levels', 8900), ('1905', 8901), ('yamamot', 8902), ('metropolitan', 8903), ('dei', 8904), ('deel', 8905), ('più', 8906), ('computacional', 8907), ('lancast', 8908), ('em', 8909), ('pugn', 8910), ('hood', 8911), ('fellow', 8912), ('quiz', 8913), ('podi', 8914), ('orteg', 8915), ('inclusiv', 8916), ('falsif', 8917), ('underground', 8918), ('team', 8919), ('bat', 8920), ('iow', 8921), ('dean', 8922), ('cars', 8923), ('mall', 8924), ('1958', 8925), ('dolichotis', 8926), ('bocat', 8927), ('sandwich', 8928), ('dupl', 8929), ('®', 8930), ('gol', 8931), ('motivacion', 8932), ('plus', 8933), ('garzon', 8934), ('chiquill', 8935), ('minusvali', 8936), ('habilid', 8937), ('petr', 8938), ('abigail', 8939), ('brittany', 8940), ('inns', 8941), ('middl', 8942)])\n"
          ],
          "name": "stdout"
        }
      ]
    },
    {
      "cell_type": "code",
      "metadata": {
        "colab": {
          "base_uri": "https://localhost:8080/",
          "height": 373
        },
        "id": "MK_JNl7xpqQ-",
        "outputId": "24406e05-ac16-492c-ef21-19081a162676"
      },
      "source": [
        "n_words_train = np.array([len(i) for i in X_train])\n",
        "\n",
        "# seaborn histogram\n",
        "sns.distplot(n_words_train, hist=True, kde=False, \n",
        "             bins=20,\n",
        "             hist_kws={'edgecolor':'tab:blue', 'linewidth': 2})\n",
        "# Add labels\n",
        "plt.title('Histograma número de palabras')\n",
        "plt.xlabel('Número palabras')\n",
        "plt.ylabel('Películas')\n",
        "\n",
        "mean = n_words_train.mean()\n",
        "plt.vlines(mean, 0, 410, color='crimson', ls=':')"
      ],
      "execution_count": 83,
      "outputs": [
        {
          "output_type": "stream",
          "text": [
            "/usr/local/lib/python3.7/dist-packages/seaborn/distributions.py:2557: FutureWarning: `distplot` is a deprecated function and will be removed in a future version. Please adapt your code to use either `displot` (a figure-level function with similar flexibility) or `histplot` (an axes-level function for histograms).\n",
            "  warnings.warn(msg, FutureWarning)\n"
          ],
          "name": "stderr"
        },
        {
          "output_type": "execute_result",
          "data": {
            "text/plain": [
              "<matplotlib.collections.LineCollection at 0x7f163572dfd0>"
            ]
          },
          "metadata": {
            "tags": []
          },
          "execution_count": 83
        },
        {
          "output_type": "display_data",
          "data": {
            "image/png": "[encoded data removed]",
            "text/plain": [
              "<Figure size 432x288 with 1 Axes>"
            ]
          },
          "metadata": {
            "tags": []
          }
        }
      ]
    },
    {
      "cell_type": "code",
      "metadata": {
        "colab": {
          "base_uri": "https://localhost:8080/"
        },
        "id": "DeJAxdqFn9hd",
        "outputId": "8b4cfd4b-8091-4c6c-a74a-452e02b9fa36"
      },
      "source": [
        "X_train = pad_sequences(X_train, padding='pre', maxlen=maxlen, truncating='post')\n",
        "X_test = pad_sequences(X_test, padding='pre', maxlen=maxlen, truncating='post')\n",
        "\n",
        "X_train[0]"
      ],
      "execution_count": 70,
      "outputs": [
        {
          "output_type": "execute_result",
          "data": {
            "text/plain": [
              "array([   0,    0,    0,    0,    0,    0,    0,    0,    0,    0,    0,\n",
              "          0,    0,    0,    0,    0,    0,    0,    0,    0,    0,    0,\n",
              "          0,    0,    0,    0,    0,    0,    0,    0,    0,    0,    0,\n",
              "          0,    0,    0,    0,    0,    0,    0,    0,    0,    0,    0,\n",
              "          0,    0,    0,    0,    0,    0,    0,    0,    0,    0,    0,\n",
              "          0,    0,    0,    0,    0,    0,    0,   60, 4388,  155,  665,\n",
              "         19,   13,   54,   53,  215,  577,   46, 1747, 4094,   37,   58,\n",
              "        126,  112,   19,  629, 2106,   66,    1,    4, 1192, 1872,   13,\n",
              "         54,   25], dtype=int32)"
            ]
          },
          "metadata": {
            "tags": []
          },
          "execution_count": 70
        }
      ]
    },
    {
      "cell_type": "code",
      "metadata": {
        "id": "c64JJlzOr5nh"
      },
      "source": [
        ""
      ],
      "execution_count": null,
      "outputs": []
    }
  ]
}
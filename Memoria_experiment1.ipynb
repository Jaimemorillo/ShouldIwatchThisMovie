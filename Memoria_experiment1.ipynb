{
  "nbformat": 4,
  "nbformat_minor": 0,
  "metadata": {
    "colab": {
      "name": "Memoria_experiment1.ipynb",
      "provenance": [],
      "collapsed_sections": [],
      "authorship_tag": "ABX9TyOTcPfUzuJAA8n6t3dWp9rJ",
      "include_colab_link": true
    },
    "kernelspec": {
      "name": "python3",
      "display_name": "Python 3"
    },
    "accelerator": "GPU"
  },
  "cells": [
    {
      "cell_type": "markdown",
      "metadata": {
        "id": "view-in-github",
        "colab_type": "text"
      },
      "source": [
        "<a href=\"https://colab.research.google.com/github/Jaimemorillo/ShouldIwatchThisMovie/blob/master/Memoria_experiment1.ipynb\" target=\"_parent\"><img src=\"https://colab.research.google.com/assets/colab-badge.svg\" alt=\"Open In Colab\"/></a>"
      ]
    },
    {
      "cell_type": "code",
      "metadata": {
        "id": "RpT6L2t00VRf",
        "colab": {
          "base_uri": "https://localhost:8080/"
        },
        "outputId": "6aaf467a-6658-4051-c8ea-9782ae34a6ae"
      },
      "source": [
        "from google.colab import drive\n",
        "drive.mount('/content/gdrive')"
      ],
      "execution_count": 1,
      "outputs": [
        {
          "output_type": "stream",
          "text": [
            "Mounted at /content/gdrive\n"
          ],
          "name": "stdout"
        }
      ]
    },
    {
      "cell_type": "code",
      "metadata": {
        "id": "GyhQqDUl0mwY",
        "colab": {
          "base_uri": "https://localhost:8080/"
        },
        "outputId": "a49e2b16-6d58-4d2e-c4de-4407377b3b27"
      },
      "source": [
        "import pandas as pd\n",
        "import time\n",
        "\n",
        "import numpy as np\n",
        "from numpy.random import seed\n",
        "seed(9)\n",
        "\n",
        "import tensorflow as tf\n",
        "tf.random.set_seed(9)\n",
        "\n",
        "import nltk\n",
        "from nltk.tokenize import WordPunctTokenizer\n",
        "import keras\n",
        "import re\n",
        "\n",
        "import matplotlib.pyplot as plt\n",
        "plt.style.use('seaborn-white')\n",
        "\n",
        "import seaborn as sns\n",
        "sns.set_style(\"white\")\n",
        "sns.set_style(\"ticks\")\n",
        "sns.set_context(\"notebook\")\n",
        "\n",
        "\n",
        "nltk.download(\"popular\")\n",
        "print(tf.__version__)"
      ],
      "execution_count": 2,
      "outputs": [
        {
          "output_type": "stream",
          "text": [
            "[nltk_data] Downloading collection 'popular'\n",
            "[nltk_data]    | \n",
            "[nltk_data]    | Downloading package cmudict to /root/nltk_data...\n",
            "[nltk_data]    |   Unzipping corpora/cmudict.zip.\n",
            "[nltk_data]    | Downloading package gazetteers to /root/nltk_data...\n",
            "[nltk_data]    |   Unzipping corpora/gazetteers.zip.\n",
            "[nltk_data]    | Downloading package genesis to /root/nltk_data...\n",
            "[nltk_data]    |   Unzipping corpora/genesis.zip.\n",
            "[nltk_data]    | Downloading package gutenberg to /root/nltk_data...\n",
            "[nltk_data]    |   Unzipping corpora/gutenberg.zip.\n",
            "[nltk_data]    | Downloading package inaugural to /root/nltk_data...\n",
            "[nltk_data]    |   Unzipping corpora/inaugural.zip.\n",
            "[nltk_data]    | Downloading package movie_reviews to\n",
            "[nltk_data]    |     /root/nltk_data...\n",
            "[nltk_data]    |   Unzipping corpora/movie_reviews.zip.\n",
            "[nltk_data]    | Downloading package names to /root/nltk_data...\n",
            "[nltk_data]    |   Unzipping corpora/names.zip.\n",
            "[nltk_data]    | Downloading package shakespeare to /root/nltk_data...\n",
            "[nltk_data]    |   Unzipping corpora/shakespeare.zip.\n",
            "[nltk_data]    | Downloading package stopwords to /root/nltk_data...\n",
            "[nltk_data]    |   Unzipping corpora/stopwords.zip.\n",
            "[nltk_data]    | Downloading package treebank to /root/nltk_data...\n",
            "[nltk_data]    |   Unzipping corpora/treebank.zip.\n",
            "[nltk_data]    | Downloading package twitter_samples to\n",
            "[nltk_data]    |     /root/nltk_data...\n",
            "[nltk_data]    |   Unzipping corpora/twitter_samples.zip.\n",
            "[nltk_data]    | Downloading package omw to /root/nltk_data...\n",
            "[nltk_data]    |   Unzipping corpora/omw.zip.\n",
            "[nltk_data]    | Downloading package wordnet to /root/nltk_data...\n",
            "[nltk_data]    |   Unzipping corpora/wordnet.zip.\n",
            "[nltk_data]    | Downloading package wordnet_ic to /root/nltk_data...\n",
            "[nltk_data]    |   Unzipping corpora/wordnet_ic.zip.\n",
            "[nltk_data]    | Downloading package words to /root/nltk_data...\n",
            "[nltk_data]    |   Unzipping corpora/words.zip.\n",
            "[nltk_data]    | Downloading package maxent_ne_chunker to\n",
            "[nltk_data]    |     /root/nltk_data...\n",
            "[nltk_data]    |   Unzipping chunkers/maxent_ne_chunker.zip.\n",
            "[nltk_data]    | Downloading package punkt to /root/nltk_data...\n",
            "[nltk_data]    |   Unzipping tokenizers/punkt.zip.\n",
            "[nltk_data]    | Downloading package snowball_data to\n",
            "[nltk_data]    |     /root/nltk_data...\n",
            "[nltk_data]    | Downloading package averaged_perceptron_tagger to\n",
            "[nltk_data]    |     /root/nltk_data...\n",
            "[nltk_data]    |   Unzipping taggers/averaged_perceptron_tagger.zip.\n",
            "[nltk_data]    | \n",
            "[nltk_data]  Done downloading collection popular\n",
            "2.4.1\n"
          ],
          "name": "stdout"
        }
      ]
    },
    {
      "cell_type": "code",
      "metadata": {
        "id": "0FybMant01YU"
      },
      "source": [
        "dataover = pd.read_csv(\"gdrive/My Drive/TFG/tmdb_spanish_def.csv\", sep='#',encoding='utf-8', lineterminator='\\n')\n",
        "taste = pd.read_csv(\"gdrive/My Drive/TFG/tmdb_spanish_Jaime_def_3.csv\", sep='#', encoding='utf-8')"
      ],
      "execution_count": 3,
      "outputs": []
    },
    {
      "cell_type": "code",
      "metadata": {
        "id": "P2lZYgrz2fOU"
      },
      "source": [
        "taste['id'] = taste['id'].astype(int)"
      ],
      "execution_count": 4,
      "outputs": []
    },
    {
      "cell_type": "code",
      "metadata": {
        "id": "sjBESWSGlFH_",
        "colab": {
          "base_uri": "https://localhost:8080/"
        },
        "outputId": "76d402e7-49d2-4f15-ac72-4c44cc718ff5"
      },
      "source": [
        "taste.shape"
      ],
      "execution_count": 5,
      "outputs": [
        {
          "output_type": "execute_result",
          "data": {
            "text/plain": [
              "(2065, 3)"
            ]
          },
          "metadata": {
            "tags": []
          },
          "execution_count": 5
        }
      ]
    },
    {
      "cell_type": "code",
      "metadata": {
        "id": "rdeEhjFjlHed"
      },
      "source": [
        "# Merge taste and credits\n",
        "\n",
        "data = taste.merge(dataover[['id','title','overview','genres','crew','cast']], left_on='id', right_on='id')"
      ],
      "execution_count": 6,
      "outputs": []
    },
    {
      "cell_type": "code",
      "metadata": {
        "id": "_c6yo4lllNHm",
        "colab": {
          "base_uri": "https://localhost:8080/"
        },
        "outputId": "5ac9346f-0176-4857-8dbe-51c2685f667e"
      },
      "source": [
        "data = data[~pd.isna(data.overview)]\n",
        "len(data)"
      ],
      "execution_count": 7,
      "outputs": [
        {
          "output_type": "execute_result",
          "data": {
            "text/plain": [
              "2109"
            ]
          },
          "metadata": {
            "tags": []
          },
          "execution_count": 7
        }
      ]
    },
    {
      "cell_type": "code",
      "metadata": {
        "id": "lwgQaFGalRBw",
        "colab": {
          "base_uri": "https://localhost:8080/"
        },
        "outputId": "80acf27d-7cee-45cd-def1-ea6f12e4a2dd"
      },
      "source": [
        "data = data.dropna(subset=['like'])\n",
        "data['like'] = data['like'].astype(int)\n",
        "\n",
        "data = data.drop_duplicates(subset=['id'])\n",
        "\n",
        "data['text_array'] = data.overview.str.split(\" \")\n",
        "data['n_words'] = data['text_array'].apply(lambda x: len(x))\n",
        "data = data.drop(columns=['text_array'])\n",
        "#data = data[data['n_words']>15]\n",
        "data.reset_index(inplace=True,drop=True)\n",
        "\n",
        "len(data)"
      ],
      "execution_count": 8,
      "outputs": [
        {
          "output_type": "execute_result",
          "data": {
            "text/plain": [
              "2043"
            ]
          },
          "metadata": {
            "tags": []
          },
          "execution_count": 8
        }
      ]
    },
    {
      "cell_type": "markdown",
      "metadata": {
        "id": "7qKGf80AoHaT"
      },
      "source": [
        "# Dataset splitting\n",
        "We are going to split our dataset in three parts (Train, Test and Validation).\n",
        "Each part must mantain the same distribution as the original dataset. Same number of 0's and 1's in \"like\" column. This is achieved by the stratify parameter. \n",
        "- Train: 60% of the dataset.\n",
        "- Test 20% of the dataset.\n",
        "- Val: 20% of the dataset.\n"
      ]
    },
    {
      "cell_type": "code",
      "metadata": {
        "id": "Eyxl-r7GlYbc"
      },
      "source": [
        "from sklearn.model_selection import train_test_split\n",
        "\n",
        "X = data['overview'].values\n",
        "y = data['like'].values"
      ],
      "execution_count": 9,
      "outputs": []
    },
    {
      "cell_type": "code",
      "metadata": {
        "id": "6-17vRUoeGTZ"
      },
      "source": [
        "X_train, X_test, y_train, y_test = train_test_split(X, y, test_size=0.2, stratify=y, random_state=9)\n",
        "\n",
        "#X_train, X_val, y_train, y_val = train_test_split(X_train, y_train, test_size=10/90, stratify=y_train, random_state=1996) "
      ],
      "execution_count": 10,
      "outputs": []
    },
    {
      "cell_type": "markdown",
      "metadata": {
        "id": "TbXkeXV_pjuX"
      },
      "source": [
        "# Check distribution\n",
        "\n",
        "To check the distribution and particulary check that test and validation has the same proportions we are going to draw 4 values for each sample:\n",
        "- Lengh of the sample (\"n_examples\").\n",
        "- Number of 0's in \"like\" column (\"n_0\").\n",
        "- Number of 1's in \"like\" column (\"n_1\").\n",
        "- Ratio between number of 1's and 0's (\"ratio\"). It is calculated by this formula: $(n_0 / n_1)*100$. It's neccesary to multiply it by 100 for seeing in the same scale and in the same figure than the other values.\n",
        "\n"
      ]
    },
    {
      "cell_type": "code",
      "metadata": {
        "id": "r_fpmzMlg20L"
      },
      "source": [
        "# Check distribution (Andrew NG Book (train, test, val))\n",
        "\n",
        "df_distribution = pd.DataFrame(columns=['sample','n_examples', 'n_0', 'n_1', 'ratio (n_1/n_0)*100']) \n",
        "\n",
        "# Train\n",
        "examples = len(X_train)\n",
        "n_0 = (y_train == 0).sum()\n",
        "n_1 = (y_train == 1).sum()\n",
        "ratio = (y_train == 1).sum() / (y_train == 0).sum()\n",
        "new_row = {'sample': 'Train','n_examples':examples, 'n_0':n_0, 'n_1':n_1, 'ratio (n_1/n_0)*100':ratio*100}\n",
        "df_distribution = df_distribution.append(new_row, ignore_index=True)\n",
        "\n",
        "# Test\n",
        "examples = len(X_test)\n",
        "n_0 = (y_test == 0).sum()\n",
        "n_1 = (y_test == 1).sum()\n",
        "ratio = (y_test == 1).sum() / (y_test == 0).sum()\n",
        "new_row = {'sample': 'Test','n_examples':examples, 'n_0':n_0, 'n_1':n_1, 'ratio (n_1/n_0)*100':ratio*100}\n",
        "df_distribution = df_distribution.append(new_row, ignore_index=True)\n",
        "\n",
        "# Val\n",
        "#examples = len(X_val)\n",
        "#n_0 = (y_val == 0).sum()\n",
        "#n_1 = (y_val == 1).sum()\n",
        "#ratio = (y_val == 1).sum() / (y_val == 0).sum()\n",
        "#new_row = {'sample': 'Val','n_examples':examples, 'n_0':n_0, 'n_1':n_1, 'ratio (n_1/n_0)*100':ratio*100}\n",
        "#df_distribution = df_distribution.append(new_row, ignore_index=True)\n",
        "\n",
        "df_distribution = df_distribution.set_index('sample').loc[['Test', 'Train']]"
      ],
      "execution_count": 11,
      "outputs": []
    },
    {
      "cell_type": "code",
      "metadata": {
        "colab": {
          "base_uri": "https://localhost:8080/",
          "height": 143
        },
        "id": "qnfu8eGSlPSV",
        "outputId": "02300539-0e65-49e6-d764-d77c34faaf69"
      },
      "source": [
        "df_distribution\n",
        "\n",
        "# 80% train - val\n",
        "# 60% train\n",
        "# 20% test\n",
        "# 20% val"
      ],
      "execution_count": 12,
      "outputs": [
        {
          "output_type": "execute_result",
          "data": {
            "text/html": [
              "<div>\n",
              "<style scoped>\n",
              "    .dataframe tbody tr th:only-of-type {\n",
              "        vertical-align: middle;\n",
              "    }\n",
              "\n",
              "    .dataframe tbody tr th {\n",
              "        vertical-align: top;\n",
              "    }\n",
              "\n",
              "    .dataframe thead th {\n",
              "        text-align: right;\n",
              "    }\n",
              "</style>\n",
              "<table border=\"1\" class=\"dataframe\">\n",
              "  <thead>\n",
              "    <tr style=\"text-align: right;\">\n",
              "      <th></th>\n",
              "      <th>n_examples</th>\n",
              "      <th>n_0</th>\n",
              "      <th>n_1</th>\n",
              "      <th>ratio (n_1/n_0)*100</th>\n",
              "    </tr>\n",
              "    <tr>\n",
              "      <th>sample</th>\n",
              "      <th></th>\n",
              "      <th></th>\n",
              "      <th></th>\n",
              "      <th></th>\n",
              "    </tr>\n",
              "  </thead>\n",
              "  <tbody>\n",
              "    <tr>\n",
              "      <th>Test</th>\n",
              "      <td>409</td>\n",
              "      <td>224</td>\n",
              "      <td>185</td>\n",
              "      <td>82.589286</td>\n",
              "    </tr>\n",
              "    <tr>\n",
              "      <th>Train</th>\n",
              "      <td>1634</td>\n",
              "      <td>895</td>\n",
              "      <td>739</td>\n",
              "      <td>82.569832</td>\n",
              "    </tr>\n",
              "  </tbody>\n",
              "</table>\n",
              "</div>"
            ],
            "text/plain": [
              "       n_examples  n_0  n_1  ratio (n_1/n_0)*100\n",
              "sample                                          \n",
              "Test          409  224  185            82.589286\n",
              "Train        1634  895  739            82.569832"
            ]
          },
          "metadata": {
            "tags": []
          },
          "execution_count": 12
        }
      ]
    },
    {
      "cell_type": "markdown",
      "metadata": {
        "id": "SVoqlh1vuxF2"
      },
      "source": [
        "You can see that the ratio is the same in the three cases and between test and val you have all the same values and cosecuently they have the same distribution.\n",
        "\n",
        "If the distribution were not the same, it would be imposible to compare between train and validation and this will affect in the model performance because we will obtain dispair metrics for each sample.\n",
        "\n",
        "(Andrew NG Book)\n",
        "\n",
        "\n",
        "*¿Mirar distribución en cuanto al número de palabras en las oraciones, volumenes de cada una de las palabras en cada sample...?*"
      ]
    },
    {
      "cell_type": "code",
      "metadata": {
        "colab": {
          "base_uri": "https://localhost:8080/",
          "height": 301
        },
        "id": "-Rzxr8btg81S",
        "outputId": "aed7055d-9f63-492a-a061-9f723b1e336a"
      },
      "source": [
        "df_distribution.plot(y=['n_examples', 'n_0', 'n_1', 'ratio (n_1/n_0)*100'], kind='barh', title='Distribution')"
      ],
      "execution_count": 13,
      "outputs": [
        {
          "output_type": "execute_result",
          "data": {
            "text/plain": [
              "<matplotlib.axes._subplots.AxesSubplot at 0x7fe4f4bbde90>"
            ]
          },
          "metadata": {
            "tags": []
          },
          "execution_count": 13
        },
        {
          "output_type": "display_data",
          "data": {
            "image/png": "[encoded data removed]",
            "text/plain": [
              "<Figure size 432x288 with 1 Axes>"
            ]
          },
          "metadata": {
            "tags": []
          }
        }
      ]
    },
    {
      "cell_type": "code",
      "metadata": {
        "colab": {
          "base_uri": "https://localhost:8080/",
          "height": 140
        },
        "id": "PfCasU8rruoS",
        "outputId": "1b0c9a36-1ca7-4515-8759-10dca4f47c63"
      },
      "source": [
        "data.head(5).to_latex()"
      ],
      "execution_count": 14,
      "outputs": [
        {
          "output_type": "execute_result",
          "data": {
            "application/vnd.google.colaboratory.intrinsic+json": {
              "type": "string"
            },
            "text/plain": [
              "\"\\\\begin{tabular}{lrrrlllllr}\\n\\\\toprule\\n{} &  Unnamed: 0 &  id &  like &                                              title &                                           overview &                                             genres &                                               crew &                                               cast &  n\\\\_words \\\\\\\\\\n\\\\midrule\\n0 &           0 &   5 &     0 &                                         Four Rooms &  Durante una Nochevieja, en un hotel de Los Áng... &  [\\\\{'id': 80, 'name': 'Crimen'\\\\}, \\\\{'id': 35, 'nam... &  [\\\\{'credit\\\\_id': '52fe420dc3a36847f800011b', 'de... &  [\\\\{'cast\\\\_id': 42, 'character': 'Ted the Bellhop... &       73 \\\\\\\\\\n1 &           1 &  11 &     1 &  La guerra de las galaxias. Episodio IV: Una nu... &  La princesa Leia, líder del movimiento rebelde... &  [\\\\{'id': 12, 'name': 'Aventura'\\\\}, \\\\{'id': 28, 'n... &  [\\\\{'credit\\\\_id': '52fe420dc3a36847f8000437', 'de... &  [\\\\{'cast\\\\_id': 3, 'character': 'Luke Skywalker',... &       87 \\\\\\\\\\n2 &           2 &  12 &     0 &                                    Buscando a Nemo &  Nemo, un pececillo, hijo único muy querido y p... &  [\\\\{'id': 16, 'name': 'Animación'\\\\}, \\\\{'id': 10751... &  [\\\\{'credit\\\\_id': '52fe420ec3a36847f8000653', 'de... &  [\\\\{'cast\\\\_id': 8, 'character': 'Marlin (voice)',... &       69 \\\\\\\\\\n3 &           3 &  13 &     0 &                                       Forrest Gump &  Forrest Gump es un chico con deficiencias ment... &  [\\\\{'id': 35, 'name': 'Comedia'\\\\}, \\\\{'id': 18, 'na... &  [\\\\{'credit\\\\_id': '52fe420ec3a36847f800072d', 'de... &  [\\\\{'cast\\\\_id': 7, 'character': 'Forrest Gump', '... &       76 \\\\\\\\\\n4 &           4 &  14 &     0 &                                    American Beauty &  Divertida, inquietante y sorprendente incursió... &                      [\\\\{'id': 18, 'name': 'Drama'\\\\}] &  [\\\\{'credit\\\\_id': '52fe420ec3a36847f80007c5', 'de... &  [\\\\{'cast\\\\_id': 6, 'character': 'Lester Burnham',... &       82 \\\\\\\\\\n\\\\bottomrule\\n\\\\end{tabular}\\n\""
            ]
          },
          "metadata": {
            "tags": []
          },
          "execution_count": 14
        }
      ]
    },
    {
      "cell_type": "markdown",
      "metadata": {
        "id": "Y9nRhSChwbDk"
      },
      "source": [
        "# Vectorize text\n",
        "\n",
        "We are going to vectorize the overviews using a method call Bag of word (https://es.wikipedia.org/wiki/Modelo_bolsa_de_palabras). We have a vector for each sentence which consists in a vector with the lenght of the total vocabulary of the overviews, and have the count of how many times the word is appearing in this overview in concrete.\n",
        "\n",
        "We obtain a very sparse matrix that we will see how to deal with in the next experiments."
      ]
    },
    {
      "cell_type": "code",
      "metadata": {
        "id": "W2E0vVC1l7Ut"
      },
      "source": [
        "from sklearn.feature_extraction.text import CountVectorizer\n",
        "\n",
        "vectorizer = CountVectorizer(lowercase=False)\n",
        "vectorizer.fit(X_train)\n",
        "X_train = vectorizer.transform(X_train)\n",
        "X_test  = vectorizer.transform(X_test)\n",
        "#X_val = vectorizer.transform(X_val)"
      ],
      "execution_count": 15,
      "outputs": []
    },
    {
      "cell_type": "code",
      "metadata": {
        "colab": {
          "base_uri": "https://localhost:8080/"
        },
        "id": "BcpYn3FRYbP-",
        "outputId": "e30ae7ae-1936-4842-f73f-792fafb996b4"
      },
      "source": [
        "len(vectorizer.vocabulary_)"
      ],
      "execution_count": 16,
      "outputs": [
        {
          "output_type": "execute_result",
          "data": {
            "text/plain": [
              "18246"
            ]
          },
          "metadata": {
            "tags": []
          },
          "execution_count": 16
        }
      ]
    },
    {
      "cell_type": "code",
      "metadata": {
        "id": "KHsgQFmnbPXO"
      },
      "source": [
        "#vectorizer.vocabulary_\n",
        "#{k: v for k, v in sorted(x.items(), key=lambda item: item[1])}"
      ],
      "execution_count": 17,
      "outputs": []
    },
    {
      "cell_type": "markdown",
      "metadata": {
        "id": "OgP5f5Ryxryq"
      },
      "source": [
        "# Deep learning model\n",
        "\n",
        "Let's give it a try with a very simple neural network with the input and 2 dense layers.\n",
        "- Input Layer: its the input of the neural network, batch with dimension of 10146.\n",
        "- Dense Layer 1: recieve the input and returns 2 dimensions (only have 2 neurons fully conected to the input).\n",
        "- Dense Layer 2: recieve the 2 previous dimensions and return 1 value with the probability between 0 and 1."
      ]
    },
    {
      "cell_type": "code",
      "metadata": {
        "id": "IHbgE_TlzOC2"
      },
      "source": [
        "import tensorflow as tf\n",
        "from tensorflow.keras.models import Sequential\n",
        "from tensorflow.keras import layers\n",
        "\n",
        "input_dim = X_train.shape[1]  # Number of features\n",
        "\n",
        "# Test with Sequential Model \n",
        "\n",
        "model = Sequential()\n",
        "model.add(layers.Dense(25, input_dim=input_dim, \n",
        "                       activation='relu',\n",
        "                       name='dense_1'))\n",
        "model.add(layers.Dense(1, activation='sigmoid', name='dense_2'))"
      ],
      "execution_count": 34,
      "outputs": []
    },
    {
      "cell_type": "markdown",
      "metadata": {
        "id": "bMCR713V0cEt"
      },
      "source": [
        "Parameters of the model"
      ]
    },
    {
      "cell_type": "code",
      "metadata": {
        "id": "JDxSVMRRzgfz",
        "colab": {
          "base_uri": "https://localhost:8080/"
        },
        "outputId": "d48dbb18-3e43-4fe6-84d2-98116fe95cc2"
      },
      "source": [
        "model.compile(loss='binary_crossentropy', optimizer=tf.keras.optimizers.Adam(learning_rate=0.0001), metrics=['accuracy'])\n",
        "model.summary()"
      ],
      "execution_count": 35,
      "outputs": [
        {
          "output_type": "stream",
          "text": [
            "Model: \"sequential_3\"\n",
            "_________________________________________________________________\n",
            "Layer (type)                 Output Shape              Param #   \n",
            "=================================================================\n",
            "dense_1 (Dense)              (None, 25)                456175    \n",
            "_________________________________________________________________\n",
            "dense_2 (Dense)              (None, 1)                 26        \n",
            "=================================================================\n",
            "Total params: 456,201\n",
            "Trainable params: 456,201\n",
            "Non-trainable params: 0\n",
            "_________________________________________________________________\n"
          ],
          "name": "stdout"
        }
      ]
    },
    {
      "cell_type": "code",
      "metadata": {
        "id": "miy8MiamiBrk",
        "colab": {
          "base_uri": "https://localhost:8080/"
        },
        "outputId": "61c84216-63d8-4459-f6d2-a04d883d64bd"
      },
      "source": [
        "#(input * weights_dense_1 + bias_dense_1) + (output_dense_1 * weights_dense_2 + bias_dense_2)\n",
        "\n",
        "parameters_dense_1 = (10146 * 2 + 2)\n",
        "parameters_dense_2 = (2 * 1 + 1)\n",
        "total_parameters =  parameters_dense_1 + parameters_dense_2\n",
        "total_parameters"
      ],
      "execution_count": 36,
      "outputs": [
        {
          "output_type": "execute_result",
          "data": {
            "text/plain": [
              "20297"
            ]
          },
          "metadata": {
            "tags": []
          },
          "execution_count": 36
        }
      ]
    },
    {
      "cell_type": "code",
      "metadata": {
        "colab": {
          "base_uri": "https://localhost:8080/",
          "height": 312
        },
        "id": "Tnh1iUPbYpVk",
        "outputId": "faf41cc6-60e8-44a2-da9a-b6bae8ed0e04"
      },
      "source": [
        "from keras.utils.vis_utils import plot_model\n",
        "plot_model(model, to_file='model_plot.png', show_shapes=True, show_layer_names=True)"
      ],
      "execution_count": 37,
      "outputs": [
        {
          "output_type": "execute_result",
          "data": {
            "image/png": "[encoded data removed]",
            "text/plain": [
              "<IPython.core.display.Image object>"
            ]
          },
          "metadata": {
            "tags": []
          },
          "execution_count": 37
        }
      ]
    },
    {
      "cell_type": "code",
      "metadata": {
        "id": "0yRqQ-yB0en-",
        "colab": {
          "base_uri": "https://localhost:8080/"
        },
        "outputId": "36a3386d-eeaa-4acc-bdbc-b5763c6672ef"
      },
      "source": [
        "epochs = 10\n",
        "batch_size = 4\n",
        "\n",
        "history = model.fit(X_train, y_train,\n",
        "                    epochs=epochs,\n",
        "                    verbose=True,\n",
        "                    validation_data=(X_test, y_test),\n",
        "                    batch_size=batch_size)"
      ],
      "execution_count": 38,
      "outputs": [
        {
          "output_type": "stream",
          "text": [
            "Epoch 1/10\n",
            "409/409 [==============================] - 1s 3ms/step - loss: 0.6861 - accuracy: 0.5256 - val_loss: 0.6353 - val_accuracy: 0.6773\n",
            "Epoch 2/10\n",
            "409/409 [==============================] - 1s 3ms/step - loss: 0.5655 - accuracy: 0.8426 - val_loss: 0.5558 - val_accuracy: 0.7971\n",
            "Epoch 3/10\n",
            "409/409 [==============================] - 1s 3ms/step - loss: 0.4063 - accuracy: 0.9460 - val_loss: 0.4986 - val_accuracy: 0.8093\n",
            "Epoch 4/10\n",
            "409/409 [==============================] - 1s 2ms/step - loss: 0.2902 - accuracy: 0.9817 - val_loss: 0.4616 - val_accuracy: 0.8191\n",
            "Epoch 5/10\n",
            "409/409 [==============================] - 1s 2ms/step - loss: 0.2122 - accuracy: 0.9925 - val_loss: 0.4378 - val_accuracy: 0.8215\n",
            "Epoch 6/10\n",
            "409/409 [==============================] - 1s 2ms/step - loss: 0.1531 - accuracy: 0.9965 - val_loss: 0.4215 - val_accuracy: 0.8142\n",
            "Epoch 7/10\n",
            "409/409 [==============================] - 1s 2ms/step - loss: 0.1155 - accuracy: 0.9990 - val_loss: 0.4110 - val_accuracy: 0.8142\n",
            "Epoch 8/10\n",
            "409/409 [==============================] - 1s 2ms/step - loss: 0.0890 - accuracy: 0.9986 - val_loss: 0.4044 - val_accuracy: 0.8191\n",
            "Epoch 9/10\n",
            "409/409 [==============================] - 1s 2ms/step - loss: 0.0721 - accuracy: 0.9999 - val_loss: 0.4006 - val_accuracy: 0.8191\n",
            "Epoch 10/10\n",
            "409/409 [==============================] - 1s 2ms/step - loss: 0.0536 - accuracy: 0.9997 - val_loss: 0.3992 - val_accuracy: 0.8166\n"
          ],
          "name": "stdout"
        }
      ]
    },
    {
      "cell_type": "markdown",
      "metadata": {
        "id": "EdgpeQ3F2vg-"
      },
      "source": [
        "During training the neural network try to optimize the error (Gradient descent). Loss value is going to be lower each interaction until overfitting of training dataset."
      ]
    },
    {
      "cell_type": "code",
      "metadata": {
        "colab": {
          "base_uri": "https://localhost:8080/",
          "height": 331
        },
        "id": "Rea8YUJUyBdB",
        "outputId": "da40d53a-a332-46d1-d0e5-a71acf46baa9"
      },
      "source": [
        "#Plot history\n",
        "\n",
        "fit_history = pd.DataFrame(history.history)\n",
        "fit_history['epoch'] = fit_history.index + 1\n",
        "\n",
        "fig, (ax1, ax2) = plt.subplots(1, 2, figsize=(13, 4.25))\n",
        "fit_history.plot(x='epoch', y=['loss', 'val_loss'], kind='line', ylabel='loss', title='Loss', ax=ax1)\n",
        "fit_history.plot(x='epoch', y=['accuracy', 'val_accuracy'], kind='line', ylabel='acc', title='Accuracy', ax=ax2)"
      ],
      "execution_count": 39,
      "outputs": [
        {
          "output_type": "execute_result",
          "data": {
            "text/plain": [
              "<matplotlib.axes._subplots.AxesSubplot at 0x7fe4986329d0>"
            ]
          },
          "metadata": {
            "tags": []
          },
          "execution_count": 39
        },
        {
          "output_type": "display_data",
          "data": {
            "image/png": "[encoded data removed]",
            "text/plain": [
              "<Figure size 936x306 with 2 Axes>"
            ]
          },
          "metadata": {
            "tags": []
          }
        }
      ]
    },
    {
      "cell_type": "markdown",
      "metadata": {
        "id": "Ur2hhaWH13ET"
      },
      "source": [
        "# Metrics\n",
        "The metrics are very important in order to select the better model. (Andrew NG Book). This is a classification problem so we have to chose clasification metrics. https://scikit-learn.org/stable/modules/model_evaluation.html#classification-metrics\n",
        "\n",
        "We are going to consider the following metrics in order to compare the following models:\n",
        "- Accuracy: https://developers.google.com/machine-learning/crash-course/classification/accuracy\n",
        "- AUC: Area under the ROC Curve. https://developers.google.com/machine-learning/crash-course/classification/roc-and-auc\n",
        "\n",
        "Other metrics to consider could be:\n",
        "- Precision\n",
        "- Recall\n",
        "- F1-score\n",
        "\n",
        "Hands on Machine Learning (Bibliografy)"
      ]
    },
    {
      "cell_type": "code",
      "metadata": {
        "colab": {
          "base_uri": "https://localhost:8080/"
        },
        "id": "BnBFyHGd4uaS",
        "outputId": "f06a7282-1ceb-4391-a9bd-c99d2007d93f"
      },
      "source": [
        "from sklearn.metrics import accuracy_score, f1_score, confusion_matrix, precision_score, recall_score, roc_curve, roc_auc_score\n",
        "\n",
        "y_pred = (model.predict(X_test) > 0.5).astype(\"int32\")\n",
        "y_true = y_test\n",
        "\n",
        "print('Acc: ' + str(accuracy_score(y_true, y_pred).round(4)))\n",
        "print('Precision: ' + str(precision_score(y_true, y_pred).round(4)))\n",
        "print('Recall: ' + str(recall_score(y_true, y_pred).round(4)))\n",
        "print('F1: ' + str(f1_score(y_true, y_pred).round(4)))\n",
        "print('Conf. Matrix: ')\n",
        "print(confusion_matrix(y_true, y_pred))"
      ],
      "execution_count": 40,
      "outputs": [
        {
          "output_type": "stream",
          "text": [
            "Acc: 0.8166\n",
            "Precision: 0.8274\n",
            "Recall: 0.7514\n",
            "F1: 0.7875\n",
            "Conf. Matrix: \n",
            "[[195  29]\n",
            " [ 46 139]]\n"
          ],
          "name": "stdout"
        }
      ]
    },
    {
      "cell_type": "code",
      "metadata": {
        "colab": {
          "base_uri": "https://localhost:8080/",
          "height": 318
        },
        "id": "5bufU6O2_udL",
        "outputId": "f23c9f81-bef4-4bb8-aacc-64e2588874b0"
      },
      "source": [
        "y_pred_keras = model.predict(X_test).flatten()\n",
        "fpr, tpr, thresholds = roc_curve(y_true, y_pred_keras)\n",
        "roc_auc = roc_auc_score(y_true, y_pred)\n",
        "\n",
        "def plot_roc_curve(fpr,tpr): \n",
        "  plt.title('ROC Curve')\n",
        "  plt.plot(fpr, tpr, 'b', label = 'AUC = %0.2f' % roc_auc)\n",
        "  plt.legend(loc = 'lower right')\n",
        "  plt.plot([0, 1], [0, 1],'r--')\n",
        "  plt.xlim([0, 1])\n",
        "  plt.ylim([0, 1])\n",
        "  plt.ylabel('True Positive Rate')\n",
        "  plt.xlabel('False Positive Rate')\n",
        "  plt.show()   \n",
        "  \n",
        "plot_roc_curve(fpr,tpr) \n",
        "print('AUC: ' + str(roc_auc.round(4)))"
      ],
      "execution_count": 41,
      "outputs": [
        {
          "output_type": "display_data",
          "data": {
            "image/png": "[encoded data removed]",
            "text/plain": [
              "<Figure size 432x288 with 1 Axes>"
            ]
          },
          "metadata": {
            "tags": []
          }
        },
        {
          "output_type": "stream",
          "text": [
            "AUC: 0.8109\n"
          ],
          "name": "stdout"
        }
      ]
    },
    {
      "cell_type": "markdown",
      "metadata": {
        "id": "aM9MY1Zt46lW"
      },
      "source": [
        "# Original Metrics results:\n",
        "\n",
        "- Vocabulary: 16994\n",
        "- Accuracy: 84%\n",
        "- AUC: 84%\n",
        "- Precision: 90%\n",
        "- Recall: 75%\n",
        "- F1: 82%"
      ]
    },
    {
      "cell_type": "code",
      "metadata": {
        "colab": {
          "base_uri": "https://localhost:8080/",
          "height": 285
        },
        "id": "u4kOf0d4iD0L",
        "outputId": "4075d052-c8e9-4848-bfad-c15919eae08e"
      },
      "source": [
        "matrix_con = confusion_matrix(y_true, y_pred)\n",
        "sns.heatmap(matrix_con, annot=True, fmt='g')"
      ],
      "execution_count": 45,
      "outputs": [
        {
          "output_type": "execute_result",
          "data": {
            "text/plain": [
              "<matplotlib.axes._subplots.AxesSubplot at 0x7fe498304390>"
            ]
          },
          "metadata": {
            "tags": []
          },
          "execution_count": 45
        },
        {
          "output_type": "display_data",
          "data": {
            "image/png": "[encoded data removed]",
            "text/plain": [
              "<Figure size 432x288 with 2 Axes>"
            ]
          },
          "metadata": {
            "tags": []
          }
        }
      ]
    },
    {
      "cell_type": "code",
      "metadata": {
        "id": "ynz-GlYz8nBv",
        "colab": {
          "base_uri": "https://localhost:8080/",
          "height": 175
        },
        "outputId": "12eea3c3-c541-45e8-e025-f5024c8d8ba9"
      },
      "source": [
        "df_results = pd.DataFrame(columns=['Experimento', 'N palabras', 'Accuracy', 'AUC', 'Precision', 'Recall', 'F1'])\n",
        "\n",
        "new_row = {'Experimento': 'Orig. + BOW + Dense','N palabras': 16994,'Accuracy':84, 'AUC':84, 'Precision':90, 'Recall':75, 'F1':82}\n",
        "df_results = df_results.append(new_row, ignore_index=True)\n",
        "\n",
        "new_row = {'Experimento': 'Stem. + BOW + Dense','N palabras': 7939,'Accuracy':87, 'AUC':87, 'Precision':89, 'Recall':85, 'F1':87}\n",
        "df_results = df_results.append(new_row, ignore_index=True)\n",
        "\n",
        "new_row = {'Experimento': 'Text Aug. + Stem. + BOW + Dense','N palabras': 10000,'Accuracy':88, 'AUC':88, 'Precision':90, 'Recall':86, 'F1':88}\n",
        "df_results = df_results.append(new_row, ignore_index=True)\n",
        "\n",
        "new_row = {'Experimento': 'Word Emb. + CNN','N palabras': 10000,'Accuracy':90, 'AUC':90, 'Precision':90, 'Recall':86, 'F1':88}\n",
        "df_results = df_results.append(new_row, ignore_index=True)\n",
        "\n",
        "df_results"
      ],
      "execution_count": 46,
      "outputs": [
        {
          "output_type": "execute_result",
          "data": {
            "text/html": [
              "<div>\n",
              "<style scoped>\n",
              "    .dataframe tbody tr th:only-of-type {\n",
              "        vertical-align: middle;\n",
              "    }\n",
              "\n",
              "    .dataframe tbody tr th {\n",
              "        vertical-align: top;\n",
              "    }\n",
              "\n",
              "    .dataframe thead th {\n",
              "        text-align: right;\n",
              "    }\n",
              "</style>\n",
              "<table border=\"1\" class=\"dataframe\">\n",
              "  <thead>\n",
              "    <tr style=\"text-align: right;\">\n",
              "      <th></th>\n",
              "      <th>Experimento</th>\n",
              "      <th>N palabras</th>\n",
              "      <th>Accuracy</th>\n",
              "      <th>AUC</th>\n",
              "      <th>Precision</th>\n",
              "      <th>Recall</th>\n",
              "      <th>F1</th>\n",
              "    </tr>\n",
              "  </thead>\n",
              "  <tbody>\n",
              "    <tr>\n",
              "      <th>0</th>\n",
              "      <td>Orig. + BOW + Dense</td>\n",
              "      <td>16994</td>\n",
              "      <td>84</td>\n",
              "      <td>84</td>\n",
              "      <td>90</td>\n",
              "      <td>75</td>\n",
              "      <td>82</td>\n",
              "    </tr>\n",
              "    <tr>\n",
              "      <th>1</th>\n",
              "      <td>Stem. + BOW + Dense</td>\n",
              "      <td>7939</td>\n",
              "      <td>87</td>\n",
              "      <td>87</td>\n",
              "      <td>89</td>\n",
              "      <td>85</td>\n",
              "      <td>87</td>\n",
              "    </tr>\n",
              "    <tr>\n",
              "      <th>2</th>\n",
              "      <td>Text Aug. + Stem. + BOW + Dense</td>\n",
              "      <td>10000</td>\n",
              "      <td>88</td>\n",
              "      <td>88</td>\n",
              "      <td>90</td>\n",
              "      <td>86</td>\n",
              "      <td>88</td>\n",
              "    </tr>\n",
              "    <tr>\n",
              "      <th>3</th>\n",
              "      <td>Word Emb. + CNN</td>\n",
              "      <td>10000</td>\n",
              "      <td>90</td>\n",
              "      <td>90</td>\n",
              "      <td>90</td>\n",
              "      <td>86</td>\n",
              "      <td>88</td>\n",
              "    </tr>\n",
              "  </tbody>\n",
              "</table>\n",
              "</div>"
            ],
            "text/plain": [
              "                       Experimento N palabras Accuracy AUC Precision Recall  F1\n",
              "0              Orig. + BOW + Dense      16994       84  84        90     75  82\n",
              "1              Stem. + BOW + Dense       7939       87  87        89     85  87\n",
              "2  Text Aug. + Stem. + BOW + Dense      10000       88  88        90     86  88\n",
              "3                  Word Emb. + CNN      10000       90  90        90     86  88"
            ]
          },
          "metadata": {
            "tags": []
          },
          "execution_count": 46
        }
      ]
    },
    {
      "cell_type": "markdown",
      "metadata": {
        "id": "E1F3E4T0EP_3"
      },
      "source": [
        "Vocabulary"
      ]
    },
    {
      "cell_type": "code",
      "metadata": {
        "colab": {
          "base_uri": "https://localhost:8080/",
          "height": 560
        },
        "id": "pj5icfGvij42",
        "outputId": "026d3ed4-d49d-4339-f0c7-002186844c8a"
      },
      "source": [
        "fig, ax = plt.subplots(figsize=(11, 7))\n",
        "splot = sns.barplot(x=\"Experimento\", y=\"N palabras\", data=df_results, ax=ax)\n",
        "for p in splot.patches:\n",
        "    splot.annotate(format(p.get_height(), '.0f'), \n",
        "                   (p.get_x() + p.get_width() / 2., p.get_height()), \n",
        "                   ha = 'center', va = 'center', \n",
        "                   xytext = (0, 9), \n",
        "                   textcoords = 'offset points')\n",
        "plt.xticks(rotation=30)"
      ],
      "execution_count": 47,
      "outputs": [
        {
          "output_type": "execute_result",
          "data": {
            "text/plain": [
              "(array([0, 1, 2, 3]), <a list of 4 Text major ticklabel objects>)"
            ]
          },
          "metadata": {
            "tags": []
          },
          "execution_count": 47
        },
        {
          "output_type": "display_data",
          "data": {
            "image/png": "[encoded data removed]",
            "text/plain": [
              "<Figure size 792x504 with 1 Axes>"
            ]
          },
          "metadata": {
            "tags": []
          }
        }
      ]
    },
    {
      "cell_type": "markdown",
      "metadata": {
        "id": "DCOYNzWSEL3w"
      },
      "source": [
        "Vocabulary vs acc"
      ]
    },
    {
      "cell_type": "code",
      "metadata": {
        "colab": {
          "base_uri": "https://localhost:8080/",
          "height": 576
        },
        "id": "RZPjzAP8CM8P",
        "outputId": "ac6c0fd9-adee-461f-a747-0cc3d75b0345"
      },
      "source": [
        "fig, ax1 = plt.subplots(figsize=(11, 7))\n",
        "df_results.plot(kind='bar', x='Experimento', y='N palabras', title='Vocabulary vs Accuracy', rot=30, ax=ax1).legend(bbox_to_anchor=(1,0.80), loc=\"upper right\")\n",
        "ax2 = ax1.twinx()\n",
        "df_results.plot(kind='line', x='Experimento', y='AUC', color='tab:orange', marker='o', secondary_y=True, ax=ax2, legend=False).legend(bbox_to_anchor=(1,0.75), loc=\"upper right\")"
      ],
      "execution_count": 48,
      "outputs": [
        {
          "output_type": "execute_result",
          "data": {
            "text/plain": [
              "<matplotlib.legend.Legend at 0x7fe49815afd0>"
            ]
          },
          "metadata": {
            "tags": []
          },
          "execution_count": 48
        },
        {
          "output_type": "display_data",
          "data": {
            "image/png": "[encoded data removed]",
            "text/plain": [
              "<Figure size 792x504 with 3 Axes>"
            ]
          },
          "metadata": {
            "tags": []
          }
        }
      ]
    },
    {
      "cell_type": "markdown",
      "metadata": {
        "id": "BOFwfPQZESyp"
      },
      "source": [
        "Metrics"
      ]
    },
    {
      "cell_type": "code",
      "metadata": {
        "colab": {
          "base_uri": "https://localhost:8080/",
          "height": 298
        },
        "id": "QuwbRNI486rs",
        "outputId": "3e859581-378b-44b7-bf83-c85e8916ad91"
      },
      "source": [
        "df_results.iloc[1:].plot(kind='bar', title='Metrics')"
      ],
      "execution_count": 49,
      "outputs": [
        {
          "output_type": "execute_result",
          "data": {
            "text/plain": [
              "<matplotlib.axes._subplots.AxesSubplot at 0x7fe4980f0b50>"
            ]
          },
          "metadata": {
            "tags": []
          },
          "execution_count": 49
        },
        {
          "output_type": "display_data",
          "data": {
            "image/png": "[encoded data removed]",
            "text/plain": [
              "<Figure size 432x288 with 1 Axes>"
            ]
          },
          "metadata": {
            "tags": []
          }
        }
      ]
    }
  ]
}
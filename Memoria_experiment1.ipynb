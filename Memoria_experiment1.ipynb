{
  "nbformat": 4,
  "nbformat_minor": 0,
  "metadata": {
    "colab": {
      "name": "Memoria_experiment1.ipynb",
      "provenance": [],
      "collapsed_sections": [],
      "authorship_tag": "ABX9TyNIC1bOgr5zSRp+tr5ol3jl",
      "include_colab_link": true
    },
    "kernelspec": {
      "name": "python3",
      "display_name": "Python 3"
    },
    "accelerator": "GPU"
  },
  "cells": [
    {
      "cell_type": "markdown",
      "metadata": {
        "id": "view-in-github",
        "colab_type": "text"
      },
      "source": [
        "<a href=\"https://colab.research.google.com/github/Jaimemorillo/ShouldIwatchThisMovie/blob/master/Memoria_experiment1.ipynb\" target=\"_parent\"><img src=\"https://colab.research.google.com/assets/colab-badge.svg\" alt=\"Open In Colab\"/></a>"
      ]
    },
    {
      "cell_type": "code",
      "metadata": {
        "id": "RpT6L2t00VRf",
        "colab": {
          "base_uri": "https://localhost:8080/"
        },
        "outputId": "3388027a-68da-4afe-f0ce-9173042df099"
      },
      "source": [
        "from google.colab import drive\n",
        "drive.mount('/content/gdrive')"
      ],
      "execution_count": null,
      "outputs": [
        {
          "output_type": "stream",
          "text": [
            "Mounted at /content/gdrive\n"
          ],
          "name": "stdout"
        }
      ]
    },
    {
      "cell_type": "code",
      "metadata": {
        "id": "GyhQqDUl0mwY",
        "colab": {
          "base_uri": "https://localhost:8080/"
        },
        "outputId": "30687a12-2549-4605-fc38-7f3a93ed1d5e"
      },
      "source": [
        "import pandas as pd\n",
        "import time\n",
        "\n",
        "import numpy as np\n",
        "from numpy.random import seed\n",
        "seed(9)\n",
        "\n",
        "import tensorflow as tf\n",
        "tf.random.set_seed(9)\n",
        "\n",
        "import nltk\n",
        "from nltk.tokenize import WordPunctTokenizer\n",
        "import keras\n",
        "import re\n",
        "\n",
        "import matplotlib.pyplot as plt\n",
        "plt.style.use('default')\n",
        "\n",
        "nltk.download(\"popular\")\n",
        "print(tf.__version__)"
      ],
      "execution_count": null,
      "outputs": [
        {
          "output_type": "stream",
          "text": [
            "[nltk_data] Downloading collection 'popular'\n",
            "[nltk_data]    | \n",
            "[nltk_data]    | Downloading package cmudict to /root/nltk_data...\n",
            "[nltk_data]    |   Unzipping corpora/cmudict.zip.\n",
            "[nltk_data]    | Downloading package gazetteers to /root/nltk_data...\n",
            "[nltk_data]    |   Unzipping corpora/gazetteers.zip.\n",
            "[nltk_data]    | Downloading package genesis to /root/nltk_data...\n",
            "[nltk_data]    |   Unzipping corpora/genesis.zip.\n",
            "[nltk_data]    | Downloading package gutenberg to /root/nltk_data...\n",
            "[nltk_data]    |   Unzipping corpora/gutenberg.zip.\n",
            "[nltk_data]    | Downloading package inaugural to /root/nltk_data...\n",
            "[nltk_data]    |   Unzipping corpora/inaugural.zip.\n",
            "[nltk_data]    | Downloading package movie_reviews to\n",
            "[nltk_data]    |     /root/nltk_data...\n",
            "[nltk_data]    |   Unzipping corpora/movie_reviews.zip.\n",
            "[nltk_data]    | Downloading package names to /root/nltk_data...\n",
            "[nltk_data]    |   Unzipping corpora/names.zip.\n",
            "[nltk_data]    | Downloading package shakespeare to /root/nltk_data...\n",
            "[nltk_data]    |   Unzipping corpora/shakespeare.zip.\n",
            "[nltk_data]    | Downloading package stopwords to /root/nltk_data...\n",
            "[nltk_data]    |   Unzipping corpora/stopwords.zip.\n",
            "[nltk_data]    | Downloading package treebank to /root/nltk_data...\n",
            "[nltk_data]    |   Unzipping corpora/treebank.zip.\n",
            "[nltk_data]    | Downloading package twitter_samples to\n",
            "[nltk_data]    |     /root/nltk_data...\n",
            "[nltk_data]    |   Unzipping corpora/twitter_samples.zip.\n",
            "[nltk_data]    | Downloading package omw to /root/nltk_data...\n",
            "[nltk_data]    |   Unzipping corpora/omw.zip.\n",
            "[nltk_data]    | Downloading package wordnet to /root/nltk_data...\n",
            "[nltk_data]    |   Unzipping corpora/wordnet.zip.\n",
            "[nltk_data]    | Downloading package wordnet_ic to /root/nltk_data...\n",
            "[nltk_data]    |   Unzipping corpora/wordnet_ic.zip.\n",
            "[nltk_data]    | Downloading package words to /root/nltk_data...\n",
            "[nltk_data]    |   Unzipping corpora/words.zip.\n",
            "[nltk_data]    | Downloading package maxent_ne_chunker to\n",
            "[nltk_data]    |     /root/nltk_data...\n",
            "[nltk_data]    |   Unzipping chunkers/maxent_ne_chunker.zip.\n",
            "[nltk_data]    | Downloading package punkt to /root/nltk_data...\n",
            "[nltk_data]    |   Unzipping tokenizers/punkt.zip.\n",
            "[nltk_data]    | Downloading package snowball_data to\n",
            "[nltk_data]    |     /root/nltk_data...\n",
            "[nltk_data]    | Downloading package averaged_perceptron_tagger to\n",
            "[nltk_data]    |     /root/nltk_data...\n",
            "[nltk_data]    |   Unzipping taggers/averaged_perceptron_tagger.zip.\n",
            "[nltk_data]    | \n",
            "[nltk_data]  Done downloading collection popular\n",
            "2.4.1\n"
          ],
          "name": "stdout"
        }
      ]
    },
    {
      "cell_type": "code",
      "metadata": {
        "id": "0FybMant01YU"
      },
      "source": [
        "dataover = pd.read_csv(\"gdrive/My Drive/TFG/tmdb_spanish_def.csv\", sep='#',encoding='utf-8', lineterminator='\\n')\n",
        "taste = pd.read_csv(\"gdrive/My Drive/TFG/tmdb_spanish_Jaime_def.csv\", sep='#', encoding='utf-8')"
      ],
      "execution_count": null,
      "outputs": []
    },
    {
      "cell_type": "code",
      "metadata": {
        "id": "P2lZYgrz2fOU"
      },
      "source": [
        "taste = taste[~taste['id'].str.contains('/')]\n",
        "taste['id'] = taste['id'].astype(int)"
      ],
      "execution_count": null,
      "outputs": []
    },
    {
      "cell_type": "code",
      "metadata": {
        "id": "sjBESWSGlFH_",
        "colab": {
          "base_uri": "https://localhost:8080/"
        },
        "outputId": "68dd2fb5-774d-4bcd-e0a7-91f9d3aac61e"
      },
      "source": [
        "taste.shape"
      ],
      "execution_count": null,
      "outputs": [
        {
          "output_type": "execute_result",
          "data": {
            "text/plain": [
              "(11360, 2)"
            ]
          },
          "metadata": {
            "tags": []
          },
          "execution_count": 136
        }
      ]
    },
    {
      "cell_type": "code",
      "metadata": {
        "id": "rdeEhjFjlHed"
      },
      "source": [
        "# Merge taste and credits\n",
        "\n",
        "data = taste.merge(dataover[['id','title','overview','genres','crew','cast']], left_on='id', right_on='id')"
      ],
      "execution_count": null,
      "outputs": []
    },
    {
      "cell_type": "code",
      "metadata": {
        "id": "_c6yo4lllNHm",
        "colab": {
          "base_uri": "https://localhost:8080/"
        },
        "outputId": "f15eb669-5c30-4b58-db18-c6b060b32340"
      },
      "source": [
        "data = data[~pd.isna(data.overview)]\n",
        "len(data)"
      ],
      "execution_count": null,
      "outputs": [
        {
          "output_type": "execute_result",
          "data": {
            "text/plain": [
              "11166"
            ]
          },
          "metadata": {
            "tags": []
          },
          "execution_count": 138
        }
      ]
    },
    {
      "cell_type": "code",
      "metadata": {
        "id": "lwgQaFGalRBw",
        "colab": {
          "base_uri": "https://localhost:8080/"
        },
        "outputId": "e94e7d1f-e464-48bf-c9dc-ad2c241d203c"
      },
      "source": [
        "data = data.dropna(subset=['like'])\n",
        "data['like'] = data['like'].astype(int)\n",
        "data.reset_index(inplace=True,drop=True)\n",
        "len(data)"
      ],
      "execution_count": null,
      "outputs": [
        {
          "output_type": "execute_result",
          "data": {
            "text/plain": [
              "1109"
            ]
          },
          "metadata": {
            "tags": []
          },
          "execution_count": 139
        }
      ]
    },
    {
      "cell_type": "markdown",
      "metadata": {
        "id": "7qKGf80AoHaT"
      },
      "source": [
        "# Dataset splitting\n",
        "We are going to split our dataset in three parts (Train, Test and Validation).\n",
        "Each part must mantain the same distribution as the original dataset. Same number of 0's and 1's in \"like\" column. This is achieved by the stratify parameter. \n",
        "- Train: 60% of the dataset.\n",
        "- Test 20% of the dataset.\n",
        "- Val: 20% of the dataset.\n"
      ]
    },
    {
      "cell_type": "code",
      "metadata": {
        "id": "Eyxl-r7GlYbc"
      },
      "source": [
        "from sklearn.model_selection import train_test_split\n",
        "\n",
        "X = data['overview'].values\n",
        "y = data['like'].values"
      ],
      "execution_count": null,
      "outputs": []
    },
    {
      "cell_type": "code",
      "metadata": {
        "id": "6-17vRUoeGTZ"
      },
      "source": [
        "X_train, X_test, y_train, y_test = train_test_split(X, y, test_size=0.2, stratify=y, random_state=1996)\n",
        "\n",
        "X_train, X_val, y_train, y_val = train_test_split(X_train, y_train, test_size=0.25, stratify=y_train, random_state=1996) "
      ],
      "execution_count": null,
      "outputs": []
    },
    {
      "cell_type": "markdown",
      "metadata": {
        "id": "TbXkeXV_pjuX"
      },
      "source": [
        "# Check distribution\n",
        "\n",
        "To check the distribution and particulary check that test and validation has the same proportions we are going to draw 4 values for each sample:\n",
        "- Lengh of the sample (\"n_examples\").\n",
        "- Number of 0's in \"like\" column (\"n_0\").\n",
        "- Number of 1's in \"like\" column (\"n_1\").\n",
        "- Ratio between number of 1's and 0's (\"ratio\"). It is calculated by this formula: $(n_0 / n_1)*100$. It's neccesary to multiply it by 100 for seeing in the same scale and in the same figure than the other values.\n",
        "\n"
      ]
    },
    {
      "cell_type": "code",
      "metadata": {
        "id": "r_fpmzMlg20L"
      },
      "source": [
        "# Check distribution (Andrew NG Book (train, test, val))\n",
        "\n",
        "df_distribution = pd.DataFrame(columns=['sample','n_examples', 'n_0', 'n_1', 'ratio (n_1/n_0)*100']) \n",
        "\n",
        "# Train\n",
        "examples = len(X_train)\n",
        "n_0 = (y_train == 0).sum()\n",
        "n_1 = (y_train == 1).sum()\n",
        "ratio = (y_train == 1).sum() / (y_train == 0).sum()\n",
        "new_row = {'sample': 'Train','n_examples':examples, 'n_0':n_0, 'n_1':n_1, 'ratio (n_1/n_0)*100':ratio*100}\n",
        "df_distribution = df_distribution.append(new_row, ignore_index=True)\n",
        "\n",
        "# Test\n",
        "examples = len(X_test)\n",
        "n_0 = (y_test == 0).sum()\n",
        "n_1 = (y_test == 1).sum()\n",
        "ratio = (y_test == 1).sum() / (y_test == 0).sum()\n",
        "new_row = {'sample': 'Test','n_examples':examples, 'n_0':n_0, 'n_1':n_1, 'ratio (n_1/n_0)*100':ratio*100}\n",
        "df_distribution = df_distribution.append(new_row, ignore_index=True)\n",
        "\n",
        "# Val\n",
        "examples = len(X_val)\n",
        "n_0 = (y_val == 0).sum()\n",
        "n_1 = (y_val == 1).sum()\n",
        "ratio = (y_val == 1).sum() / (y_val == 0).sum()\n",
        "new_row = {'sample': 'Val','n_examples':examples, 'n_0':n_0, 'n_1':n_1, 'ratio (n_1/n_0)*100':ratio*100}\n",
        "df_distribution = df_distribution.append(new_row, ignore_index=True)\n",
        "\n",
        "df_distribution = df_distribution.set_index('sample').loc[['Val', 'Test', 'Train']]"
      ],
      "execution_count": null,
      "outputs": []
    },
    {
      "cell_type": "code",
      "metadata": {
        "colab": {
          "base_uri": "https://localhost:8080/",
          "height": 175
        },
        "id": "qnfu8eGSlPSV",
        "outputId": "9c172fe1-fe38-4c71-d2af-91e266420127"
      },
      "source": [
        "df_distribution\n",
        "\n",
        "# 80% train - val\n",
        "# 60% train\n",
        "# 20% test\n",
        "# 20% val"
      ],
      "execution_count": null,
      "outputs": [
        {
          "output_type": "execute_result",
          "data": {
            "text/html": [
              "<div>\n",
              "<style scoped>\n",
              "    .dataframe tbody tr th:only-of-type {\n",
              "        vertical-align: middle;\n",
              "    }\n",
              "\n",
              "    .dataframe tbody tr th {\n",
              "        vertical-align: top;\n",
              "    }\n",
              "\n",
              "    .dataframe thead th {\n",
              "        text-align: right;\n",
              "    }\n",
              "</style>\n",
              "<table border=\"1\" class=\"dataframe\">\n",
              "  <thead>\n",
              "    <tr style=\"text-align: right;\">\n",
              "      <th></th>\n",
              "      <th>n_examples</th>\n",
              "      <th>n_0</th>\n",
              "      <th>n_1</th>\n",
              "      <th>ratio (n_1/n_0)*100</th>\n",
              "    </tr>\n",
              "    <tr>\n",
              "      <th>sample</th>\n",
              "      <th></th>\n",
              "      <th></th>\n",
              "      <th></th>\n",
              "      <th></th>\n",
              "    </tr>\n",
              "  </thead>\n",
              "  <tbody>\n",
              "    <tr>\n",
              "      <th>Val</th>\n",
              "      <td>222</td>\n",
              "      <td>113</td>\n",
              "      <td>109</td>\n",
              "      <td>96.460177</td>\n",
              "    </tr>\n",
              "    <tr>\n",
              "      <th>Test</th>\n",
              "      <td>222</td>\n",
              "      <td>113</td>\n",
              "      <td>109</td>\n",
              "      <td>96.460177</td>\n",
              "    </tr>\n",
              "    <tr>\n",
              "      <th>Train</th>\n",
              "      <td>665</td>\n",
              "      <td>340</td>\n",
              "      <td>325</td>\n",
              "      <td>95.588235</td>\n",
              "    </tr>\n",
              "  </tbody>\n",
              "</table>\n",
              "</div>"
            ],
            "text/plain": [
              "       n_examples  n_0  n_1  ratio (n_1/n_0)*100\n",
              "sample                                          \n",
              "Val           222  113  109            96.460177\n",
              "Test          222  113  109            96.460177\n",
              "Train         665  340  325            95.588235"
            ]
          },
          "metadata": {
            "tags": []
          },
          "execution_count": 143
        }
      ]
    },
    {
      "cell_type": "markdown",
      "metadata": {
        "id": "SVoqlh1vuxF2"
      },
      "source": [
        "You can see that the ratio is the same in the three cases and between test and val you have all the same values and cosecuently they have the same distribution.\n",
        "\n",
        "If the distribution were not the same, it would be imposible to compare between train and validation and this will affect in the model performance because we will obtain dispair metrics for each sample.\n",
        "\n",
        "(Andrew NG Book)"
      ]
    },
    {
      "cell_type": "code",
      "metadata": {
        "colab": {
          "base_uri": "https://localhost:8080/",
          "height": 469
        },
        "id": "-Rzxr8btg81S",
        "outputId": "ce945dd5-0ac8-4947-e198-f36e17ed8e1a"
      },
      "source": [
        "df_distribution.plot(y=['n_examples', 'n_0', 'n_1', 'ratio (n_1/n_0)*100'], kind='barh', title='Distribution')"
      ],
      "execution_count": null,
      "outputs": [
        {
          "output_type": "execute_result",
          "data": {
            "text/plain": [
              "<matplotlib.axes._subplots.AxesSubplot at 0x7f428e53c790>"
            ]
          },
          "metadata": {
            "tags": []
          },
          "execution_count": 144
        },
        {
          "output_type": "display_data",
          "data": {
            "image/png": "[encoded data removed]",
            "text/plain": [
              "<Figure size 640x480 with 1 Axes>"
            ]
          },
          "metadata": {
            "tags": []
          }
        }
      ]
    },
    {
      "cell_type": "code",
      "metadata": {
        "colab": {
          "base_uri": "https://localhost:8080/",
          "height": 140
        },
        "id": "PfCasU8rruoS",
        "outputId": "77fdfd2a-dc4e-4861-89bb-9b29a704cc0f"
      },
      "source": [
        "data.head(5).to_latex()"
      ],
      "execution_count": null,
      "outputs": [
        {
          "output_type": "execute_result",
          "data": {
            "application/vnd.google.colaboratory.intrinsic+json": {
              "type": "string"
            },
            "text/plain": [
              "'\\\\begin{tabular}{lrrlllll}\\n\\\\toprule\\n{} &  id &  like &                                              title &                                           overview &                                             genres &                                               crew &                                               cast \\\\\\\\\\n\\\\midrule\\n0 &  11 &     1 &  La guerra de las galaxias. Episodio IV: Una nu... &  La princesa Leia, líder del movimiento rebelde... &  [\\\\{\\'id\\': 12, \\'name\\': \\'Aventura\\'\\\\}, \\\\{\\'id\\': 28, \\'n... &  [\\\\{\\'credit\\\\_id\\': \\'52fe420dc3a36847f8000437\\', \\'de... &  [\\\\{\\'cast\\\\_id\\': 3, \\'character\\': \\'Luke Skywalker\\',... \\\\\\\\\\n1 &  12 &     1 &                                    Buscando a Nemo &  Nemo, un pececillo, hijo único muy querido y p... &  [\\\\{\\'id\\': 16, \\'name\\': \\'Animación\\'\\\\}, \\\\{\\'id\\': 10751... &  [\\\\{\\'credit\\\\_id\\': \\'52fe420ec3a36847f8000653\\', \\'de... &  [\\\\{\\'cast\\\\_id\\': 8, \\'character\\': \\'Marlin (voice)\\',... \\\\\\\\\\n2 &  13 &     1 &                                       Forrest Gump &  Forrest Gump es un chico con deficiencias ment... &  [\\\\{\\'id\\': 35, \\'name\\': \\'Comedia\\'\\\\}, \\\\{\\'id\\': 18, \\'na... &  [\\\\{\\'credit\\\\_id\\': \\'52fe420ec3a36847f800072d\\', \\'de... &  [\\\\{\\'cast\\\\_id\\': 7, \\'character\\': \\'Forrest Gump\\', \\'... \\\\\\\\\\n3 &  22 &     1 &  Piratas del Caribe. La maldición de la Perla N... &  El aventurero Capitán Jack Sparrow recorre las... &  [\\\\{\\'id\\': 12, \\'name\\': \\'Aventura\\'\\\\}, \\\\{\\'id\\': 14, \\'n... &  [\\\\{\\'credit\\\\_id\\': \\'52fe420fc3a36847f8000e95\\', \\'de... &  [\\\\{\\'cast\\\\_id\\': 12, \\'character\\': \\'Captain Jack Sp... \\\\\\\\\\n4 &  24 &     1 &                               Kill Bill: Volumen 1 &  Uma Thurman es una asesina que, el día de su b... &  [\\\\{\\'id\\': 28, \\'name\\': \\'Acción\\'\\\\}, \\\\{\\'id\\': 80, \\'nam... &  [\\\\{\\'credit\\\\_id\\': \\'52fe4210c3a36847f8001049\\', \\'de... &  [\\\\{\\'cast\\\\_id\\': 3, \\'character\\': \\'Beatrix \"The Bri... \\\\\\\\\\n\\\\bottomrule\\n\\\\end{tabular}\\n'"
            ]
          },
          "metadata": {
            "tags": []
          },
          "execution_count": 145
        }
      ]
    },
    {
      "cell_type": "markdown",
      "metadata": {
        "id": "Y9nRhSChwbDk"
      },
      "source": [
        "# Vectorize text\n",
        "\n",
        "We are going to vectorize the overviews using a method call Bag of word (https://es.wikipedia.org/wiki/Modelo_bolsa_de_palabras). We have a vector for each sentence which consists in a vector with the lenght of the total vocabulary of the overviews, and have the count of how many times the word is appearing in this overview in concrete.\n",
        "\n",
        "We obtain a very sparse matrix that we will see how to deal with in the next experiments."
      ]
    },
    {
      "cell_type": "code",
      "metadata": {
        "id": "W2E0vVC1l7Ut"
      },
      "source": [
        "from sklearn.feature_extraction.text import CountVectorizer\n",
        "\n",
        "vectorizer = CountVectorizer()\n",
        "vectorizer.fit(X_train)\n",
        "X_train = vectorizer.transform(X_train)\n",
        "X_test  = vectorizer.transform(X_test)\n",
        "X_val = vectorizer.transform(X_val)"
      ],
      "execution_count": null,
      "outputs": []
    },
    {
      "cell_type": "code",
      "metadata": {
        "colab": {
          "base_uri": "https://localhost:8080/"
        },
        "id": "BcpYn3FRYbP-",
        "outputId": "04485061-9564-4e0b-a1ed-c6010d1bd3da"
      },
      "source": [
        "len(vectorizer.vocabulary_)"
      ],
      "execution_count": null,
      "outputs": [
        {
          "output_type": "execute_result",
          "data": {
            "text/plain": [
              "10146"
            ]
          },
          "metadata": {
            "tags": []
          },
          "execution_count": 147
        }
      ]
    },
    {
      "cell_type": "code",
      "metadata": {
        "id": "KHsgQFmnbPXO"
      },
      "source": [
        "#vectorizer.vocabulary_\n",
        "#{k: v for k, v in sorted(x.items(), key=lambda item: item[1])}"
      ],
      "execution_count": null,
      "outputs": []
    },
    {
      "cell_type": "code",
      "metadata": {
        "id": "HtK5b-B8rfqi",
        "colab": {
          "base_uri": "https://localhost:8080/"
        },
        "outputId": "35350cfc-2b56-4a64-d6fe-4c8f186d550d"
      },
      "source": [
        "from sklearn.linear_model import LogisticRegression\n",
        "\n",
        "# Test with LogisticRegression\n",
        "classifier = LogisticRegression(max_iter=100)\n",
        "classifier.fit(X_train, y_train)\n",
        "\n",
        "score = classifier.score(X_train, y_train)\n",
        "print(\"Accuracy train:\", score)\n",
        "\n",
        "score = classifier.score(X_val, y_val)\n",
        "print(\"Accuracy val:\", score)\n",
        "\n",
        "score = classifier.score(X_test, y_test)\n",
        "print(\"Accuracy test:\", score)"
      ],
      "execution_count": null,
      "outputs": [
        {
          "output_type": "stream",
          "text": [
            "Accuracy train: 0.9939849624060151\n",
            "Accuracy val: 0.6171171171171171\n",
            "Accuracy test: 0.6036036036036037\n"
          ],
          "name": "stdout"
        }
      ]
    },
    {
      "cell_type": "markdown",
      "metadata": {
        "id": "OgP5f5Ryxryq"
      },
      "source": [
        "# Deep learning model\n",
        "\n",
        "Let's give it a try with a very simple neural network with the input and 2 dense layers.\n",
        "- Input Layer: its the input of the neural network, batch with dimension of 10146.\n",
        "- Dense Layer 1: recieve the input and returns 2 dimensions (only have 2 neurons fully conected to the input).\n",
        "- Dense Layer 2: recieve the 2 previous dimensions and return 1 value with the probability between 0 and 1."
      ]
    },
    {
      "cell_type": "code",
      "metadata": {
        "id": "IHbgE_TlzOC2"
      },
      "source": [
        "import tensorflow as tf\n",
        "from tensorflow.keras.models import Sequential\n",
        "from tensorflow.keras import layers\n",
        "\n",
        "input_dim = X_train.shape[1]  # Number of features\n",
        "\n",
        "# Test with Sequential Model \n",
        "\n",
        "model = Sequential()\n",
        "model.add(layers.Dense(2, input_dim=input_dim, \n",
        "                       activation='relu',\n",
        "                       name='dense_1'))\n",
        "model.add(layers.Dense(1, activation='sigmoid', name='dense_2'))"
      ],
      "execution_count": null,
      "outputs": []
    },
    {
      "cell_type": "markdown",
      "metadata": {
        "id": "bMCR713V0cEt"
      },
      "source": [
        "Parameters of the model"
      ]
    },
    {
      "cell_type": "code",
      "metadata": {
        "id": "JDxSVMRRzgfz",
        "colab": {
          "base_uri": "https://localhost:8080/"
        },
        "outputId": "49abfa15-8c72-4cec-9085-7817bb3191fa"
      },
      "source": [
        "model.compile(loss='binary_crossentropy', optimizer='adam', metrics=['accuracy'])\n",
        "model.summary()"
      ],
      "execution_count": null,
      "outputs": [
        {
          "output_type": "stream",
          "text": [
            "Model: \"sequential_8\"\n",
            "_________________________________________________________________\n",
            "Layer (type)                 Output Shape              Param #   \n",
            "=================================================================\n",
            "dense_1 (Dense)              (None, 2)                 20294     \n",
            "_________________________________________________________________\n",
            "dense_2 (Dense)              (None, 1)                 3         \n",
            "=================================================================\n",
            "Total params: 20,297\n",
            "Trainable params: 20,297\n",
            "Non-trainable params: 0\n",
            "_________________________________________________________________\n"
          ],
          "name": "stdout"
        }
      ]
    },
    {
      "cell_type": "code",
      "metadata": {
        "id": "miy8MiamiBrk",
        "colab": {
          "base_uri": "https://localhost:8080/"
        },
        "outputId": "6205f537-0ed6-42f4-b033-f82b9a0fa07d"
      },
      "source": [
        "#(input * weights_dense_1 + bias_dense_1) + (output_dense_1 * weights_dense_2 + bias_dense_2)\n",
        "\n",
        "parameters_dense_1 = (10146 * 2 + 2)\n",
        "parameters_dense_2 = (2 * 1 + 1)\n",
        "total_parameters =  parameters_dense_1 + parameters_dense_2\n",
        "total_parameters"
      ],
      "execution_count": null,
      "outputs": [
        {
          "output_type": "execute_result",
          "data": {
            "text/plain": [
              "20297"
            ]
          },
          "metadata": {
            "tags": []
          },
          "execution_count": 152
        }
      ]
    },
    {
      "cell_type": "code",
      "metadata": {
        "colab": {
          "base_uri": "https://localhost:8080/",
          "height": 312
        },
        "id": "Tnh1iUPbYpVk",
        "outputId": "3c527337-fa4f-4f93-e436-5c2e2fe182c9"
      },
      "source": [
        "from keras.utils.vis_utils import plot_model\n",
        "plot_model(model, to_file='model_plot.png', show_shapes=True, show_layer_names=True)"
      ],
      "execution_count": null,
      "outputs": [
        {
          "output_type": "execute_result",
          "data": {
            "image/png": "[encoded data removed]",
            "text/plain": [
              "<IPython.core.display.Image object>"
            ]
          },
          "metadata": {
            "tags": []
          },
          "execution_count": 153
        }
      ]
    },
    {
      "cell_type": "code",
      "metadata": {
        "id": "0yRqQ-yB0en-",
        "colab": {
          "base_uri": "https://localhost:8080/"
        },
        "outputId": "de97711c-a4c4-4e16-9930-3bfd1bc47ecc"
      },
      "source": [
        "epochs = 5\n",
        "batch_size = 1\n",
        "\n",
        "history = model.fit(X_train, y_train,\n",
        "                    epochs=epochs,\n",
        "                    verbose=True,\n",
        "                    validation_data=(X_val, y_val),\n",
        "                    batch_size=batch_size)"
      ],
      "execution_count": null,
      "outputs": [
        {
          "output_type": "stream",
          "text": [
            "Epoch 1/5\n",
            "665/665 [==============================] - 2s 3ms/step - loss: 0.6916 - accuracy: 0.5083 - val_loss: 0.6819 - val_accuracy: 0.5676\n",
            "Epoch 2/5\n",
            "665/665 [==============================] - 2s 3ms/step - loss: 0.5930 - accuracy: 0.7768 - val_loss: 0.6337 - val_accuracy: 0.6126\n",
            "Epoch 3/5\n",
            "665/665 [==============================] - 2s 3ms/step - loss: 0.3054 - accuracy: 0.9431 - val_loss: 0.6047 - val_accuracy: 0.6622\n",
            "Epoch 4/5\n",
            "665/665 [==============================] - 2s 3ms/step - loss: 0.1056 - accuracy: 0.9867 - val_loss: 0.6128 - val_accuracy: 0.6532\n",
            "Epoch 5/5\n",
            "665/665 [==============================] - 2s 2ms/step - loss: 0.0559 - accuracy: 0.9898 - val_loss: 0.6160 - val_accuracy: 0.6667\n"
          ],
          "name": "stdout"
        }
      ]
    },
    {
      "cell_type": "markdown",
      "metadata": {
        "id": "EdgpeQ3F2vg-"
      },
      "source": [
        "During training the neural network try to optimize the error (Gradient descent). Loss value is going to be lower each interaction until overfitting of training dataset."
      ]
    },
    {
      "cell_type": "code",
      "metadata": {
        "colab": {
          "base_uri": "https://localhost:8080/",
          "height": 446
        },
        "id": "Rea8YUJUyBdB",
        "outputId": "14adaa59-e575-4f1e-f899-57bd625d255a"
      },
      "source": [
        "#Plot history\n",
        "\n",
        "fit_history = pd.DataFrame(history.history)\n",
        "fit_history['epoch'] = fit_history.index + 1\n",
        "\n",
        "fig, (ax1, ax2) = plt.subplots(1, 2, figsize=(13, 4.25))\n",
        "fit_history.plot(x='epoch', y=['loss', 'val_loss'], kind='line', ylabel='loss', title='Loss', ax=ax1)\n",
        "fit_history.plot(x='epoch', y=['accuracy', 'val_accuracy'], kind='line', ylabel='acc', title='Accuracy', ax=ax2)"
      ],
      "execution_count": null,
      "outputs": [
        {
          "output_type": "execute_result",
          "data": {
            "text/plain": [
              "<matplotlib.axes._subplots.AxesSubplot at 0x7f422e4094d0>"
            ]
          },
          "metadata": {
            "tags": []
          },
          "execution_count": 155
        },
        {
          "output_type": "display_data",
          "data": {
            "image/png": "[encoded data removed]",
            "text/plain": [
              "<Figure size 1300x425 with 2 Axes>"
            ]
          },
          "metadata": {
            "tags": []
          }
        }
      ]
    },
    {
      "cell_type": "markdown",
      "metadata": {
        "id": "Ur2hhaWH13ET"
      },
      "source": [
        "# Metrics\n",
        "The metrics are very important in order to select the better model. (Andrew NG Book). This is a classification problem so we have to chose clasification metrics. https://scikit-learn.org/stable/modules/model_evaluation.html#classification-metrics\n",
        "\n",
        "We are going to consider the following metrics in order to compare the following models:\n",
        "- Accuracy: https://developers.google.com/machine-learning/crash-course/classification/accuracy\n",
        "- AUC: Area under the ROC Curve. https://developers.google.com/machine-learning/crash-course/classification/roc-and-auc\n",
        "\n",
        "Other metrics to consider could be:\n",
        "- Precision\n",
        "- Recall\n",
        "- F1-score\n",
        "\n",
        "Hands on Machine Learning (Bibliografy)"
      ]
    },
    {
      "cell_type": "code",
      "metadata": {
        "colab": {
          "base_uri": "https://localhost:8080/"
        },
        "id": "BnBFyHGd4uaS",
        "outputId": "5d31637c-4407-4564-a88e-57b2dd2357c4"
      },
      "source": [
        "from sklearn.metrics import accuracy_score, f1_score, confusion_matrix, precision_score, recall_score, roc_curve, roc_auc_score\n",
        "\n",
        "y_pred = (model.predict(X_test) > 0.5).astype(\"int32\")\n",
        "y_true = y_test\n",
        "\n",
        "print('Acc: ' + str(accuracy_score(y_true, y_pred).round(4)))\n",
        "print('Precision: ' + str(precision_score(y_true, y_pred).round(4)))\n",
        "print('Recall: ' + str(recall_score(y_true, y_pred).round(4)))\n",
        "print('F1: ' + str(f1_score(y_true, y_pred).round(4)))\n",
        "print('Conf. Matrix: ')\n",
        "print(confusion_matrix(y_true, y_pred))"
      ],
      "execution_count": null,
      "outputs": [
        {
          "output_type": "stream",
          "text": [
            "Acc: 0.6306\n",
            "Precision: 0.6552\n",
            "Recall: 0.5229\n",
            "F1: 0.5816\n",
            "Conf. Matrix: \n",
            "[[83 30]\n",
            " [52 57]]\n"
          ],
          "name": "stdout"
        }
      ]
    },
    {
      "cell_type": "code",
      "metadata": {
        "colab": {
          "base_uri": "https://localhost:8080/",
          "height": 489
        },
        "id": "5bufU6O2_udL",
        "outputId": "c9c305c6-fb0c-4e85-9136-973272506c7b"
      },
      "source": [
        "y_pred_keras = model.predict(X_test).flatten()\n",
        "fpr, tpr, thresholds = roc_curve(y_true, y_pred_keras)\n",
        "roc_auc = roc_auc_score(y_true, y_pred)\n",
        "\n",
        "def plot_roc_curve(fpr,tpr): \n",
        "  plt.title('ROC Curve')\n",
        "  plt.plot(fpr, tpr, 'b', label = 'AUC = %0.2f' % roc_auc)\n",
        "  plt.legend(loc = 'lower right')\n",
        "  plt.plot([0, 1], [0, 1],'r--')\n",
        "  plt.xlim([0, 1])\n",
        "  plt.ylim([0, 1])\n",
        "  plt.ylabel('True Positive Rate')\n",
        "  plt.xlabel('False Positive Rate')\n",
        "  plt.show()   \n",
        "  \n",
        "plot_roc_curve(fpr,tpr) \n",
        "print('AUC: ' + str(roc_auc.round(4)))"
      ],
      "execution_count": null,
      "outputs": [
        {
          "output_type": "display_data",
          "data": {
            "image/png": "[encoded data removed]",
            "text/plain": [
              "<Figure size 640x480 with 1 Axes>"
            ]
          },
          "metadata": {
            "tags": []
          }
        },
        {
          "output_type": "stream",
          "text": [
            "AUC: 0.6287\n"
          ],
          "name": "stdout"
        }
      ]
    },
    {
      "cell_type": "markdown",
      "metadata": {
        "id": "aM9MY1Zt46lW"
      },
      "source": [
        "# Original Metrics results:\n",
        "\n",
        "- Vocabulary: 10146\n",
        "- Accuracy: 63%\n",
        "- AUC: 63%\n",
        "- Precision: 66%\n",
        "- Recall: 52%\n",
        "- F1: 58%"
      ]
    },
    {
      "cell_type": "code",
      "metadata": {
        "id": "ynz-GlYz8nBv"
      },
      "source": [
        "df_results = pd.DataFrame(columns=['Vocabulary', 'Accuracy', 'AUC', 'Precision', 'Recall', 'F1'])\n",
        "\n",
        "new_row = {'Vocabulary': 10146,'Accuracy':63, 'AUC':63, 'Precision':66, 'Recall':52, 'F1':58}\n",
        "df_results = df_results.append(new_row, ignore_index=True)\n",
        "\n",
        "df_results = df_results.T\n",
        "df_results.columns = ['Experiment ' + str(i) for i in range(1, len(df_results.columns) + 1)]"
      ],
      "execution_count": null,
      "outputs": []
    },
    {
      "cell_type": "code",
      "metadata": {
        "colab": {
          "base_uri": "https://localhost:8080/",
          "height": 238
        },
        "id": "8dDzeGi5-vCM",
        "outputId": "465faea9-dfc3-43ea-8f26-1c66d5d8c64e"
      },
      "source": [
        "df_results"
      ],
      "execution_count": null,
      "outputs": [
        {
          "output_type": "execute_result",
          "data": {
            "text/html": [
              "<div>\n",
              "<style scoped>\n",
              "    .dataframe tbody tr th:only-of-type {\n",
              "        vertical-align: middle;\n",
              "    }\n",
              "\n",
              "    .dataframe tbody tr th {\n",
              "        vertical-align: top;\n",
              "    }\n",
              "\n",
              "    .dataframe thead th {\n",
              "        text-align: right;\n",
              "    }\n",
              "</style>\n",
              "<table border=\"1\" class=\"dataframe\">\n",
              "  <thead>\n",
              "    <tr style=\"text-align: right;\">\n",
              "      <th></th>\n",
              "      <th>Experiment 1</th>\n",
              "    </tr>\n",
              "  </thead>\n",
              "  <tbody>\n",
              "    <tr>\n",
              "      <th>Vocabulary</th>\n",
              "      <td>10146</td>\n",
              "    </tr>\n",
              "    <tr>\n",
              "      <th>Accuracy</th>\n",
              "      <td>63</td>\n",
              "    </tr>\n",
              "    <tr>\n",
              "      <th>AUC</th>\n",
              "      <td>63</td>\n",
              "    </tr>\n",
              "    <tr>\n",
              "      <th>Precision</th>\n",
              "      <td>66</td>\n",
              "    </tr>\n",
              "    <tr>\n",
              "      <th>Recall</th>\n",
              "      <td>52</td>\n",
              "    </tr>\n",
              "    <tr>\n",
              "      <th>F1</th>\n",
              "      <td>58</td>\n",
              "    </tr>\n",
              "  </tbody>\n",
              "</table>\n",
              "</div>"
            ],
            "text/plain": [
              "           Experiment 1\n",
              "Vocabulary        10146\n",
              "Accuracy             63\n",
              "AUC                  63\n",
              "Precision            66\n",
              "Recall               52\n",
              "F1                   58"
            ]
          },
          "metadata": {
            "tags": []
          },
          "execution_count": 96
        }
      ]
    },
    {
      "cell_type": "code",
      "metadata": {
        "colab": {
          "base_uri": "https://localhost:8080/",
          "height": 112
        },
        "id": "axR62W8GyDJM",
        "outputId": "14e4d440-d569-4c0f-a354-4be04d082431"
      },
      "source": [
        "matrix_con = pd.DataFrame([[83, 30], [52, 57]])\n",
        "matrix_con"
      ],
      "execution_count": null,
      "outputs": [
        {
          "output_type": "execute_result",
          "data": {
            "text/html": [
              "<div>\n",
              "<style scoped>\n",
              "    .dataframe tbody tr th:only-of-type {\n",
              "        vertical-align: middle;\n",
              "    }\n",
              "\n",
              "    .dataframe tbody tr th {\n",
              "        vertical-align: top;\n",
              "    }\n",
              "\n",
              "    .dataframe thead th {\n",
              "        text-align: right;\n",
              "    }\n",
              "</style>\n",
              "<table border=\"1\" class=\"dataframe\">\n",
              "  <thead>\n",
              "    <tr style=\"text-align: right;\">\n",
              "      <th></th>\n",
              "      <th>0</th>\n",
              "      <th>1</th>\n",
              "    </tr>\n",
              "  </thead>\n",
              "  <tbody>\n",
              "    <tr>\n",
              "      <th>0</th>\n",
              "      <td>83</td>\n",
              "      <td>30</td>\n",
              "    </tr>\n",
              "    <tr>\n",
              "      <th>1</th>\n",
              "      <td>52</td>\n",
              "      <td>57</td>\n",
              "    </tr>\n",
              "  </tbody>\n",
              "</table>\n",
              "</div>"
            ],
            "text/plain": [
              "    0   1\n",
              "0  83  30\n",
              "1  52  57"
            ]
          },
          "metadata": {
            "tags": []
          },
          "execution_count": 105
        }
      ]
    },
    {
      "cell_type": "markdown",
      "metadata": {
        "id": "E1F3E4T0EP_3"
      },
      "source": [
        "Vocabulary"
      ]
    },
    {
      "cell_type": "code",
      "metadata": {
        "colab": {
          "base_uri": "https://localhost:8080/",
          "height": 549
        },
        "id": "tdYOTRKM_8b9",
        "outputId": "ea3365fd-6c93-40b5-d68f-086db8187649"
      },
      "source": [
        "df_results.iloc[0].plot(kind='bar', ylabel='vocabulary' ,title='Vocabulary')"
      ],
      "execution_count": null,
      "outputs": [
        {
          "output_type": "execute_result",
          "data": {
            "text/plain": [
              "<matplotlib.axes._subplots.AxesSubplot at 0x7f1c06edb4d0>"
            ]
          },
          "metadata": {
            "tags": []
          },
          "execution_count": 97
        },
        {
          "output_type": "display_data",
          "data": {
            "image/png": "[encoded data removed]",
            "text/plain": [
              "<Figure size 640x480 with 1 Axes>"
            ]
          },
          "metadata": {
            "tags": []
          }
        }
      ]
    },
    {
      "cell_type": "markdown",
      "metadata": {
        "id": "DCOYNzWSEL3w"
      },
      "source": [
        "Vocabulary vs acc"
      ]
    },
    {
      "cell_type": "code",
      "metadata": {
        "colab": {
          "base_uri": "https://localhost:8080/",
          "height": 526
        },
        "id": "RZPjzAP8CM8P",
        "outputId": "725e2deb-1cb1-4429-c2f8-a14e1aca76f2"
      },
      "source": [
        "fig, ax1 = plt.subplots(figsize=(6.5, 4.5))\n",
        "df_results.iloc[0].plot(kind='bar', ylabel='vocabulary', title='Vocabulary vs Accuracy',ax=ax1).legend(bbox_to_anchor=(1,0), loc=\"lower right\")\n",
        "ax2 = ax1.twinx()\n",
        "df_results.iloc[1].plot(kind='line', color='tab:orange', marker='o', secondary_y=True, ax=ax2).legend(bbox_to_anchor=(1,0.1), loc=\"lower right\")\n",
        "plt.ylabel('accuracy')"
      ],
      "execution_count": null,
      "outputs": [
        {
          "output_type": "execute_result",
          "data": {
            "text/plain": [
              "Text(0, 0.5, 'accuracy')"
            ]
          },
          "metadata": {
            "tags": []
          },
          "execution_count": 98
        },
        {
          "output_type": "display_data",
          "data": {
            "image/png": "[encoded data removed]",
            "text/plain": [
              "<Figure size 650x450 with 3 Axes>"
            ]
          },
          "metadata": {
            "tags": []
          }
        }
      ]
    },
    {
      "cell_type": "markdown",
      "metadata": {
        "id": "BOFwfPQZESyp"
      },
      "source": [
        "Metrics"
      ]
    },
    {
      "cell_type": "code",
      "metadata": {
        "colab": {
          "base_uri": "https://localhost:8080/",
          "height": 519
        },
        "id": "QuwbRNI486rs",
        "outputId": "a1199a0b-0b1b-408c-e6ea-b69a7b5635a0"
      },
      "source": [
        "df_results.iloc[1:].plot(kind='bar', title='Metrics')"
      ],
      "execution_count": null,
      "outputs": [
        {
          "output_type": "execute_result",
          "data": {
            "text/plain": [
              "<matplotlib.axes._subplots.AxesSubplot at 0x7f1c06d9b2d0>"
            ]
          },
          "metadata": {
            "tags": []
          },
          "execution_count": 99
        },
        {
          "output_type": "display_data",
          "data": {
            "image/png": "[encoded data removed]",
            "text/plain": [
              "<Figure size 640x480 with 1 Axes>"
            ]
          },
          "metadata": {
            "tags": []
          }
        }
      ]
    }
  ]
}